{
 "cells": [
  {
   "cell_type": "markdown",
   "id": "127987ac",
   "metadata": {},
   "source": [
    "# Advanced: Derivation of the Geometric Brownian Motion Model Solution\n",
    "Let's walk through the derivation of the Geometric Brownian Motion (GBM) model solution step by step. The key idea that we need to introduce is **Itô's Lemma**, which is a fundamental result in stochastic calculus. Then, we will apply Itô's Lemma to derive the GBM solution.\n",
    "\n",
    "> __Learning Objectives:__\n",
    "> \n",
    "> * **Wiener Process Fundamentals**: Understand the definition and properties of a Wiener process (Brownian motion) and its role in stochastic modeling.\n",
    "> * **Itô's Lemma Application**: Learn how to apply Itô's Lemma to transform stochastic differential equations for analytical solutions.\n",
    "> * **GBM Solution Derivation**: Derive the closed-form solution to the Geometric Brownian Motion model and understand its continuous and discrete-time forms.\n",
    ">\n",
    "\n",
    "Let's get started!\n",
    "___"
   ]
  },
  {
   "cell_type": "markdown",
   "id": "aec9e303",
   "metadata": {},
   "source": [
    "Geometric Brownian Motion is defined by the following stochastic differential equation (SDE):\n",
    "$$\n",
    "dS_t = \\mu S_t dt + \\sigma S_t dW_t,\n",
    "$$\n",
    "where $\\mu$ is the drift term and $\\sigma$ is the diffusion term. The noise term $dW_t$ is a Wiener process (or Brownian motion) increment. Let's first define what a Wiener process is.\n",
    "\n",
    "> __Wiener Process__\n",
    "> \n",
    "> A Wiener process is a real-valued continuous-time stochastic process named after Norbert Wiener for his study of one-dimensional Brownian motion. A Wiener process is a continuous one-dimensional stochastic process $\\left\\{W\\left(t\\right), 0\\leq{t}\\leq{T}\\right\\}$ with the following properties:\n",
    ">\n",
    "> * The process starts at zero: $W\\left(0\\right) = 0$ with probability $1$\n",
    "> * The increments $\\left\\{W(t_{1}) - W(t_{0}),\\dots, W(t_{k}) - W(t_{k-1})\\right\\}$ are independent for any $k$ and $0\\leq{t_{0}}< t_{1} < \\dots < t_{k} \\leq{T}$\n",
    "> * The increment $(W(t) - W(s))\\sim~\\mathcal{N}\\left(0,t-s\\right)$ for any $0\\leq{s}< t \\leq{T}$, where $\\mathcal{N}\\left(0,t-s\\right)$ denotes a normally distributed random variable with mean $0$ and variance $t - s$. Thus, we can write $W(t) - W(s) = \\left(\\sqrt{t-s}\\right)\\;Z(0,1)$, where $Z(0,1)$ is a standard normal random variable.\n",
    "> \n",
    "\n",
    "Thus, a Wiener process is a continuous-time stochastic noise process with independent, normally distributed increments. Next, we need to introduce Itô's Lemma.\n",
    "___"
   ]
  },
  {
   "cell_type": "markdown",
   "id": "c3ca4a83",
   "metadata": {},
   "source": [
    "## Itô's Lemma\n",
    "Itô's Lemma, developed by K. Itô in 1951, is an analog of the Taylor series for stochastic systems.\n",
    "Let the random variable $X(t)$ be governed by the stochastic differential equation:\n",
    "$$\n",
    "\\begin{align*}\n",
    "dX &= a\\left(X(t),t\\right)dt + b\\left(X(t),t\\right)dW(t)\\\\\n",
    "\\end{align*}\n",
    "$$\n",
    "where $dW(t)$ is a one-dimensional Wiener process and $a$ and $b$ are functions of $X(t)$ and $t$. \n",
    "Let $Y(t) = \\phi\\left(t,X(t)\\right)$ be twice differentiable with respect to $X(t)$, \n",
    "and once differentiable with respect to $t$. Then, $Y(t)$ is governed by the equation:\n",
    "$$\n",
    "\\begin{align*}\n",
    "dY &= \\left(\\frac{\\partial{Y}}{\\partial{t}}+a\\frac{\\partial{Y}}{\\partial{X}}+\\frac{b^{2}}{2}\\frac{\\partial^{2}{Y}}{\\partial{X}^{2}}\\right)dt+b\\left(\\frac{\\partial{Y}}{\\partial{X}}\\right)dW(t)\n",
    "\\end{align*}\n",
    "$$"
   ]
  },
  {
   "cell_type": "markdown",
   "id": "8b29aecc",
   "metadata": {},
   "source": [
    "## Derivation of the GBM Model Solution\n",
    "Geometric Brownian motion (GBM) is a stochastic differential equation describing the share price $S(t)$ \n",
    "as a random walk with drift and volatility proportional to $S(t)$:\n",
    "$$\n",
    "\\begin{align*}\n",
    "dS(t) &= \\mu S(t) dt + \\sigma S(t) dW(t)\n",
    "\\end{align*}\n",
    "$$\n",
    "Here, $\\mu\\in\\mathbb{R}$ denotes a constant drift parameter, $\\sigma>0$ is a constant __volatility__ parameter, and $dW$ represents a Wiener process (randomness). To solve this SDE, we apply Itô's Lemma. Let $Y = \\ln(S)$, $a(S,t) = \\mu S$, and $b(S,t) = \\sigma S$. Then, we can write:\n",
    "$$\n",
    "\\begin{align*}\n",
    "dY &= \\left(\\frac{\\partial{Y}}{\\partial{t}}+a\\frac{\\partial{Y}}{\\partial{X}}+\\frac{b^{2}}{2}\\frac{\\partial^{2}{Y}}{\\partial{X}^{2}}\\right)dt+b\\left(\\frac{\\partial{Y}}{\\partial{X}}\\right)dW(t)\\\\\n",
    "d\\ln(S) &= \\left(\\frac{\\partial{\\ln(S)}}{\\partial{t}}+a\\frac{\\partial{\\ln(S)}}{\\partial{S}}+\\frac{b^{2}}{2}\\frac{\\partial^{2}{\\ln(S)}}{\\partial{S}^{2}}\\right)dt+b\\left(\\frac{\\partial{\\ln(S)}}{\\partial{S}}\\right)dW(t)\\\\\n",
    "&= \\left(0 + \\mu S \\cdot \\frac{1}{S} + \\frac{(\\sigma S)^2}{2} \\cdot \\left(-\\frac{1}{S^2}\\right)\\right)dt + \\sigma S \\cdot \\frac{1}{S} \\cdot dW(t)\\\\\n",
    "&= \\left(\\mu - \\frac{\\sigma^{2}}{2}\\right)dt + \\sigma dW(t)\\\\\n",
    "\\end{align*}\n",
    "$$\n",
    "We integrate both sides of the equation from $t_{0}$ to $t$:\n",
    "$$\n",
    "\\begin{align*}\n",
    "\\int_{t_{0}}^{t}d\\ln(S) &= \\int_{t_{0}}^{t}\\left(\\mu - \\frac{\\sigma^{2}}{2}\\right)dt + \\int_{t_{0}}^{t}\\sigma dW(t)\\\\\n",
    "& = \\left(\\mu - \\frac{\\sigma^{2}}{2}\\right)\\int_{t_{0}}^{t}dt + \\sigma\\int_{t_{0}}^{t} dW(t)\\\\\n",
    "\\end{align*}\n",
    "$$\n",
    "The challenging part of this integral is the stochastic integral $\\int_{t_{0}}^{t} dW(t)$. By the properties of the Wiener process, we know that $W(t) - W(t_0) \\sim \\mathcal{N}(0, t-t_0)$, which gives us the distribution of the integral. Evaluating the left-hand side integral, we obtain:\n",
    "$$\n",
    "\\begin{align*}\n",
    "\\ln\\left(\\frac{S_{t}}{S_{0}}\\right) &= \\left(\\mu - \\frac{\\sigma^{2}}{2}\\right)\\left(t - t_{0}\\right) + \\sigma\\underbrace{\\left[W(t) - W(t_0)\\right]}_{= \\mathcal{N}(0, t-t_0)}\n",
    "\\end{align*}\n",
    "$$\n",
    "Since $W(t) - W(t_0) \\sim \\mathcal{N}(0, t-t_0)$, we can write this as $\\sqrt{t-t_0} \\cdot Z(0,1)$ where $Z(0,1)$ is a standard normal random variable. Taking the exponential of both sides, we obtain the continuous-time GBM model solution:\n",
    "$$\n",
    "\\boxed{\n",
    "\\begin{align*}\n",
    "S_{t} &= S_{0}\\cdot\\exp\\left[\\left(\\mu - \\frac{\\sigma^{2}}{2}\\right)\\left(t - t_{0}\\right) + \\sigma\\sqrt{t-t_{0}} \\cdot Z(0,1)\\right]\\quad\\text{for }t\\geq{t_{0}}\n",
    "\\end{align*}}\n",
    "$$\n",
    "\n",
    "However, sometimes we are interested in equally spaced discrete time steps, e.g., daily closing prices or average daily prices. For discrete time steps where $t = i\\Delta t$ for $i=0,1,2,\\ldots$, we can write the discrete-time solution as:\n",
    "$$\n",
    "\\boxed{\n",
    "\\begin{align*}\n",
    "S_{i} &= S_{0}\\cdot\\exp\\left[\\left(\\mu - \\frac{\\sigma^{2}}{2}\\right)i\\Delta t + \\sigma\\sqrt{i\\Delta t} \\cdot Z(0,1)\\right]\n",
    "\\end{align*}\\quad\\text{for }i=0,1,2,\\ldots}\n",
    "$$\n",
    "where $Z(0,1)$ is a standard normal random variable.\n",
    "___"
   ]
  }
 ],
 "metadata": {
  "kernelspec": {
   "display_name": "Python 3 (ipykernel)",
   "language": "python",
   "name": "python3"
  },
  "language_info": {
   "codemirror_mode": {
    "name": "ipython",
    "version": 3
   },
   "file_extension": ".py",
   "mimetype": "text/x-python",
   "name": "python",
   "nbconvert_exporter": "python",
   "pygments_lexer": "ipython3",
   "version": "3.11.8"
  }
 },
 "nbformat": 4,
 "nbformat_minor": 5
}
