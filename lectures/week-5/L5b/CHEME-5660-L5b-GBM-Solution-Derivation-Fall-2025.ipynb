{
 "cells": [
  {
   "cell_type": "markdown",
   "id": "127987ac",
   "metadata": {},
   "source": [
    "# Advanced: Derivation of the Geometric Brownian Motion Model Solution\n",
    "Let's walk through the derivation of the Geometric Brownian Motion (GBM) model solution step by step. The key idea that we need to introduce is **Itô's Lemma**, which is a fundamental result in stochastic calculus. Then, we will apply Itô's Lemma to derive the GBM solution.\n",
    "\n",
    "> __Learning Objectives:__\n",
    "> \n",
    "> Fill me in later!\n",
    ">\n",
    "\n",
    "Let's get started!\n",
    "___"
   ]
  },
  {
   "cell_type": "markdown",
   "id": "c3ca4a83",
   "metadata": {},
   "source": []
  }
 ],
 "metadata": {
  "language_info": {
   "name": "python"
  }
 },
 "nbformat": 4,
 "nbformat_minor": 5
}
