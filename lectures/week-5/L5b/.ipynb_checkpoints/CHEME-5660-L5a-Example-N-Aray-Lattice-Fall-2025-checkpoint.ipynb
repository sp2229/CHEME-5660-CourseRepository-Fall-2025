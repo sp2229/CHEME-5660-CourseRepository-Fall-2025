{
 "cells": [
  {
   "cell_type": "markdown",
   "id": "674c1299-b654-4b76-a488-203603829349",
   "metadata": {},
   "source": [
    "# Example: N-Ary Recombining Lattice Models\n",
    "In this example, we demonstrate how to implement an N-ary recombining lattice model. An N-ary lattice allows each node to branch into N possible states at each time step, and the lattice recombines at certain points to reduce complexity.\n",
    "\n",
    "> __Learning Objectives__\n",
    ">\n",
    "> In this example, students will learn to: \n",
    "> * **N-ary Lattice Construction**: Build multi-branch lattice models from historical stock data using more than two possible price movements per time step. We estimate growth factors and probabilities for each branch to create realistic price trees.\n",
    "> * **Recombining Tree Implementation**: Construct lattice models that recombine at specific levels to manage computational complexity while maintaining accuracy. We populate the tree with prices and track connectivity between nodes across different time periods.\n",
    "> * **Price Distribution Analysis**: Analyze possible future price outcomes at specific time horizons using the N-ary lattice structure. We compute probabilities for each possible price level and visualize the distribution of potential returns.\n",
    "\n",
    "Let's get started!\n",
    "___"
   ]
  },
  {
   "cell_type": "markdown",
   "id": "a60d7511-ead0-4147-974c-1e3261c12776",
   "metadata": {
    "vscode": {
     "languageId": "julia"
    }
   },
   "source": [
    "## Setup, Data, and Prerequisites\n",
    "First, we set up the computational environment by including the `Include.jl` file and loading any needed resources.\n",
    "\n",
    ">__Include:__ The [`include(...)` command](https://docs.julialang.org/en/v1/base/base/#include) evaluates the contents of the input source file, `Include.jl`, in the notebook's global scope. The `Include.jl` file sets paths, loads required external packages, etc. For additional information on functions and types used in this material, see the [Julia programming language documentation](https://docs.julialang.org/en/v1/). \n",
    "\n",
    "Let's set up our code environment:"
   ]
  },
  {
   "cell_type": "code",
   "execution_count": 3,
   "id": "a6dcacc3",
   "metadata": {},
   "outputs": [],
   "source": [
    "include(joinpath(@__DIR__, \"Include.jl\")); # include the Include.jl file\n",
    "\n",
    "# hack:\n",
    "using UnicodePlots"
   ]
  },
  {
   "cell_type": "markdown",
   "id": "de39a46e",
   "metadata": {},
   "source": [
    "For additional information on functions and types used in this material, see the [Julia programming language documentation](https://docs.julialang.org/en/v1/) and the [VLQuantitativeFinancePackage.jl documentation](https://github.com/varnerlab/VLQuantitativeFinancePackage.jl). "
   ]
  },
  {
   "cell_type": "markdown",
   "id": "6a89d94c",
   "metadata": {},
   "source": [
    "### Data\n",
    "We gathered daily open-high-low-close (OHLC) data for each firm in the [S&P500](https://en.wikipedia.org/wiki/S%26P_500) from `01-03-2014` until `12-31-2024`, along with data for a few exchange-traded funds and volatility products during that time period. \n",
    "\n",
    "Let's load the `original_dataset::DataFrame` by calling [the `MyTrainingMarketDataSet()` function](https://varnerlab.github.io/VLQuantitativeFinancePackage.jl/dev/data/#VLQuantitativeFinancePackage.MyTrainingMarketDataSet) and remove firms that do not have the maximum number of trading days. The cleaned dataset $\\mathcal{D}$ will be stored in the `dataset` variable."
   ]
  },
  {
   "cell_type": "code",
   "execution_count": 6,
   "id": "e72f2f44",
   "metadata": {},
   "outputs": [],
   "source": [
    "original_dataset = MyTrainingMarketDataSet() |> x-> x[\"dataset\"];"
   ]
  },
  {
   "cell_type": "markdown",
   "id": "99586311",
   "metadata": {},
   "source": [
    "Not all tickers in our dataset have the maximum number of trading days for various reasons, e.g., acquisition or delisting events. Let's collect only those tickers with the maximum number of trading days.\n",
    "\n",
    "First, let's compute the number of records for a firm that we know has the maximum value, e.g., `AAPL`, and save that value in the `maximum_number_trading_days::Int64` variable:"
   ]
  },
  {
   "cell_type": "code",
   "execution_count": 8,
   "id": "6c3e9c02",
   "metadata": {},
   "outputs": [
    {
     "data": {
      "text/plain": [
       "2767"
      ]
     },
     "execution_count": 8,
     "metadata": {},
     "output_type": "execute_result"
    }
   ],
   "source": [
    "maximum_number_trading_days = original_dataset[\"AAPL\"] |> nrow # nrow? (check out: DataFrames.jl)"
   ]
  },
  {
   "cell_type": "markdown",
   "id": "c6491a42",
   "metadata": {},
   "source": [
    "Now, let's iterate through our data and collect only tickers with `maximum_number_trading_days` records. We'll save that data in the `dataset::Dict{String,DataFrame}` variable:"
   ]
  },
  {
   "cell_type": "code",
   "execution_count": 10,
   "id": "40e81ee7",
   "metadata": {},
   "outputs": [],
   "source": [
    "dataset = let\n",
    "\n",
    "    # initialize -\n",
    "    dataset = Dict{String, DataFrame}();\n",
    "\n",
    "    # iterate through the dictionary; we can't guarantee a particular order\n",
    "    for (ticker, data) ∈ original_dataset  # we get each (K, V) pair!\n",
    "        if (nrow(data) == maximum_number_trading_days) # what is this doing?\n",
    "            dataset[ticker] = data;\n",
    "        end\n",
    "    end\n",
    "    dataset; # return\n",
    "end;"
   ]
  },
  {
   "cell_type": "markdown",
   "id": "a2aacf16",
   "metadata": {},
   "source": [
    "Finally, let's get a list of the firms in our cleaned dataset and sort them alphabetically. We store the sorted firm ticker symbols in the `list_of_tickers::Array{String,1}` variable."
   ]
  },
  {
   "cell_type": "code",
   "execution_count": 12,
   "id": "02f8c6f1",
   "metadata": {},
   "outputs": [
    {
     "data": {
      "text/plain": [
       "424-element Vector{String}:\n",
       " \"A\"\n",
       " \"AAL\"\n",
       " \"AAP\"\n",
       " \"AAPL\"\n",
       " \"ABBV\"\n",
       " \"ABT\"\n",
       " \"ACN\"\n",
       " \"ADBE\"\n",
       " \"ADI\"\n",
       " \"ADM\"\n",
       " \"ADP\"\n",
       " \"ADSK\"\n",
       " \"AEE\"\n",
       " ⋮\n",
       " \"WST\"\n",
       " \"WU\"\n",
       " \"WY\"\n",
       " \"WYNN\"\n",
       " \"XEL\"\n",
       " \"XOM\"\n",
       " \"XRAY\"\n",
       " \"XYL\"\n",
       " \"YUM\"\n",
       " \"ZBRA\"\n",
       " \"ZION\"\n",
       " \"ZTS\""
      ]
     },
     "execution_count": 12,
     "metadata": {},
     "output_type": "execute_result"
    }
   ],
   "source": [
    "list_of_tickers = keys(dataset) |> collect |> sort # list of firm \"ticker\" symbols in alphabetical order"
   ]
  },
  {
   "cell_type": "markdown",
   "id": "b133734b",
   "metadata": {},
   "source": [
    "### Constants\n",
    "Finally, let's set some constants we'll use later in this notebook. The comments describe the constants, their units, and permissible values."
   ]
  },
  {
   "cell_type": "code",
   "execution_count": 98,
   "id": "28115102",
   "metadata": {},
   "outputs": [],
   "source": [
    "TSIM = 8; # number of trading days to simulate\n",
    "Δt = (1.0/252); # step size: 1 trading day in units of years\n",
    "r̄ = 0.05; # risk-free rate (annualized)\n",
    "n = 9; # number of branches in the N-ary lattice"
   ]
  },
  {
   "cell_type": "markdown",
   "id": "05c2cd26",
   "metadata": {},
   "source": [
    "#### Helper Functions\n",
    "We define a few helper functions that we'll use later in this notebook.\n",
    "* The `nodes_at_level(...)` function computes the number of nodes at a given level in an N-ary recombining lattice.\n",
    "* The `level_offset(...)` function computes the offset to the first node at a given level in an N-ary recombining lattice."
   ]
  },
  {
   "cell_type": "code",
   "execution_count": 100,
   "id": "2f289382",
   "metadata": {},
   "outputs": [],
   "source": [
    "nodes_at_level(i::Integer, n::Integer) = binomial(i + n - 1, i);\n",
    "level_offset(i::Integer, n::Integer) = i == 0 ? 0 : binomial(i + n - 1, i - 1); # start of level i"
   ]
  },
  {
   "cell_type": "markdown",
   "id": "8456faea",
   "metadata": {},
   "source": [
    "___"
   ]
  },
  {
   "cell_type": "markdown",
   "id": "85893309",
   "metadata": {},
   "source": [
    "## Task 1: Compute lattice parameters and future prices from historical data\n",
    "In this task, we estimate the parameters needed to construct an N-ary recombining lattice model from historical data.\n",
    "\n",
    "First, we specify the firm we want to analyze. Let's store this in the `selected_firm_ticker::String` variable, get the index of that firm in our `list_of_tickers::Array{String,1}` variable, and extract the firm's historical data from our `dataset::Dict{String,DataFrame}` variable. We'll store the firm's historical data in the `selected_firm_data::DataFrame` variable."
   ]
  },
  {
   "cell_type": "code",
   "execution_count": 103,
   "id": "c21b6d23",
   "metadata": {},
   "outputs": [],
   "source": [
    "# selected_firm_ticker = rand(list_of_tickers);\n",
    "selected_firm_ticker = \"AAPL\"\n",
    "selected_firm_index = findfirst(x-> x == selected_firm_ticker, list_of_tickers);\n",
    "selected_firm_data = dataset[selected_firm_ticker];"
   ]
  },
  {
   "cell_type": "markdown",
   "id": "2d8ae89f",
   "metadata": {},
   "source": [
    "Next, we specify the `start_index` as the trading day index in the dataset, which will serve as the tree's starting point or `L = 0`. Finally, we set the variable `Sₒ`, which corresponds to the initial price per share at the root of the tree; we use the [volume-weighted average price (VWAP)](https://en.wikipedia.org/wiki/Volume-weighted_average_price) as the initial condition:"
   ]
  },
  {
   "cell_type": "code",
   "execution_count": 105,
   "id": "c1e089e5",
   "metadata": {},
   "outputs": [
    {
     "name": "stdout",
     "output_type": "stream",
     "text": [
      "Visualize Firm-4 between trading days (1465 -> 1473)\n"
     ]
    }
   ],
   "source": [
    "#start_index = rand(1:(maximum_number_trading_days - TSIM - 1))\n",
    "start_index = 1465; # start index for the trading days\n",
    "stop_index = start_index + TSIM\n",
    "println(\"Visualize Firm-$(selected_firm_index) between trading days ($(start_index) -> $(stop_index))\")"
   ]
  },
  {
   "cell_type": "markdown",
   "id": "01afc727",
   "metadata": {},
   "source": [
    "We use daily data; thus, the natural time frame between $S_{j-1}$ and $S_{j}$ is a single day. However, it is more convenient to use an annualized value for the $\\mu$ parameter; thus, we let $\\Delta{t} = 1/252$, i.e., the fraction of a year that corresponds to a single trading day.\n",
    "\n",
    "The [`log_growth_matrix(...)` method](https://varnerlab.github.io/VLQuantitativeFinancePackage.jl/dev/equity/#VLQuantitativeFinancePackage.log_growth_matrix) takes the cleaned dataset $\\mathcal{D}$, which contains $T$ days of data for each firm, a list of firms $\\mathcal{L}$, and computes the growth rate values for each firm as a function of time. \n",
    "\n",
    "The data is returned as a $(T - 1)\\times\\dim\\mathcal{L}$ array (time on the rows, firm $i$ on the columns). We store the data in the `log_growth_array::Array{Float64,1}` variable:"
   ]
  },
  {
   "cell_type": "code",
   "execution_count": 107,
   "id": "1fe1b523",
   "metadata": {},
   "outputs": [],
   "source": [
    "log_growth_array = log_growth_matrix(dataset, selected_firm_ticker); # array holding growth rate time series"
   ]
  },
  {
   "cell_type": "code",
   "execution_count": 108,
   "id": "5e101e2b",
   "metadata": {},
   "outputs": [
    {
     "data": {
      "text/plain": [
       "                  \u001b[38;5;8m┌                                        ┐\u001b[0m \n",
       "   [-22.0, -20.0) \u001b[38;5;8m┤\u001b[0m\u001b[38;5;2m\u001b[0m\u001b[38;5;2m▎\u001b[0m 3                                     \u001b[38;5;8m \u001b[0m \u001b[38;5;8m\u001b[0m\n",
       "   [-20.0, -18.0) \u001b[38;5;8m┤\u001b[0m\u001b[38;5;2m\u001b[0m\u001b[38;5;2m \u001b[0m 0                                     \u001b[38;5;8m \u001b[0m \u001b[38;5;8m\u001b[0m\n",
       "   [-18.0, -16.0) \u001b[38;5;8m┤\u001b[0m\u001b[38;5;2m\u001b[0m\u001b[38;5;2m▏\u001b[0m 1                                     \u001b[38;5;8m \u001b[0m \u001b[38;5;8m\u001b[0m\n",
       "   [-16.0, -14.0) \u001b[38;5;8m┤\u001b[0m\u001b[38;5;2m\u001b[0m\u001b[38;5;2m▎\u001b[0m 3                                     \u001b[38;5;8m \u001b[0m \u001b[38;5;8m\u001b[0m\n",
       "   [-14.0, -12.0) \u001b[38;5;8m┤\u001b[0m\u001b[38;5;2m\u001b[0m\u001b[38;5;2m▌\u001b[0m 11                                    \u001b[38;5;8m \u001b[0m \u001b[38;5;8m\u001b[0m\n",
       "   [-12.0, -10.0) \u001b[38;5;8m┤\u001b[0m\u001b[38;5;2m\u001b[0m\u001b[38;5;2m▋\u001b[0m 13                                    \u001b[38;5;8m \u001b[0m \u001b[38;5;8m\u001b[0m\n",
       "   [-10.0,  -8.0) \u001b[38;5;8m┤\u001b[0m\u001b[38;5;2m█\u001b[0m\u001b[38;5;2m▍\u001b[0m 30                                   \u001b[38;5;8m \u001b[0m \u001b[38;5;8m\u001b[0m\n",
       "   [ -8.0,  -6.0) \u001b[38;5;8m┤\u001b[0m\u001b[38;5;2m███\u001b[0m\u001b[38;5;2m▍\u001b[0m 73                                 \u001b[38;5;8m \u001b[0m \u001b[38;5;8m\u001b[0m\n",
       "   [ -6.0,  -4.0) \u001b[38;5;8m┤\u001b[0m\u001b[38;5;2m███████\u001b[0m\u001b[38;5;2m▎\u001b[0m 159                            \u001b[38;5;8m \u001b[0m \u001b[38;5;8m\u001b[0m\n",
       "   [ -4.0,  -2.0) \u001b[38;5;8m┤\u001b[0m\u001b[38;5;2m█████████████\u001b[0m\u001b[38;5;2m▋\u001b[0m 300                      \u001b[38;5;8m \u001b[0m \u001b[38;5;8m\u001b[0m\n",
       "   [ -2.0,   0.0) \u001b[38;5;8m┤\u001b[0m\u001b[38;5;2m█████████████████████████████\u001b[0m\u001b[38;5;2m▍\u001b[0m 649      \u001b[38;5;8m \u001b[0m \u001b[38;5;8m\u001b[0m\n",
       "   [  0.0,   2.0) \u001b[38;5;8m┤\u001b[0m\u001b[38;5;2m███████████████████████████████████\u001b[0m\u001b[38;5;2m \u001b[0m 773\u001b[38;5;8m \u001b[0m \u001b[38;5;8m\u001b[0m\n",
       "   [  2.0,   4.0) \u001b[38;5;8m┤\u001b[0m\u001b[38;5;2m███████████████████\u001b[0m\u001b[38;5;2m▌\u001b[0m 431                \u001b[38;5;8m \u001b[0m \u001b[38;5;8m\u001b[0m\n",
       "   [  4.0,   6.0) \u001b[38;5;8m┤\u001b[0m\u001b[38;5;2m████████\u001b[0m\u001b[38;5;2m▊\u001b[0m 194                           \u001b[38;5;8m \u001b[0m \u001b[38;5;8m\u001b[0m\n",
       "   [  6.0,   8.0) \u001b[38;5;8m┤\u001b[0m\u001b[38;5;2m███\u001b[0m\u001b[38;5;2m▏\u001b[0m 67                                 \u001b[38;5;8m \u001b[0m \u001b[38;5;8m\u001b[0m\n",
       "   [  8.0,  10.0) \u001b[38;5;8m┤\u001b[0m\u001b[38;5;2m█\u001b[0m\u001b[38;5;2m▍\u001b[0m 30                                   \u001b[38;5;8m \u001b[0m \u001b[38;5;8m\u001b[0m\n",
       "   [ 10.0,  12.0) \u001b[38;5;8m┤\u001b[0m\u001b[38;5;2m\u001b[0m\u001b[38;5;2m▋\u001b[0m 14                                    \u001b[38;5;8m \u001b[0m \u001b[38;5;8m\u001b[0m\n",
       "   [ 12.0,  14.0) \u001b[38;5;8m┤\u001b[0m\u001b[38;5;2m\u001b[0m\u001b[38;5;2m▎\u001b[0m 5                                     \u001b[38;5;8m \u001b[0m \u001b[38;5;8m\u001b[0m\n",
       "   [ 14.0,  16.0) \u001b[38;5;8m┤\u001b[0m\u001b[38;5;2m\u001b[0m\u001b[38;5;2m▍\u001b[0m 7                                     \u001b[38;5;8m \u001b[0m \u001b[38;5;8m\u001b[0m\n",
       "   [ 16.0,  18.0) \u001b[38;5;8m┤\u001b[0m\u001b[38;5;2m\u001b[0m\u001b[38;5;2m▏\u001b[0m 1                                     \u001b[38;5;8m \u001b[0m \u001b[38;5;8m\u001b[0m\n",
       "   [ 18.0,  20.0) \u001b[38;5;8m┤\u001b[0m\u001b[38;5;2m\u001b[0m\u001b[38;5;2m▏\u001b[0m 1                                     \u001b[38;5;8m \u001b[0m \u001b[38;5;8m\u001b[0m\n",
       "   [ 20.0,  22.0) \u001b[38;5;8m┤\u001b[0m\u001b[38;5;2m\u001b[0m\u001b[38;5;2m▏\u001b[0m 1                                     \u001b[38;5;8m \u001b[0m \u001b[38;5;8m\u001b[0m\n",
       "                  \u001b[38;5;8m└                                        ┘\u001b[0m \n",
       "                                   Frequency                 "
      ]
     },
     "execution_count": 108,
     "metadata": {},
     "output_type": "execute_result"
    }
   ],
   "source": [
    "UnicodePlots.histogram(log_growth_array, nbins=21, closed=:left)"
   ]
  },
  {
   "cell_type": "markdown",
   "id": "48b1a200",
   "metadata": {},
   "source": [
    "We've developed the [`build_nary_lattice_from_growth_rate(...)` function](src/Split.jl) to estimate the parameters needed to construct an N-ary recombining lattice model from historical data. The function takes the following arguments:\n",
    "* `log_growth_array::Array{Float64,2}`: The array of log growth rates for the firms in the dataset.\n",
    "* `n::Int64`: The number of branches at each node in the N-ary lattice, e.g., `n=2` for a binary lattice, `n=3` for a ternary lattice, etc.\n",
    "* `dt::Float64`: The time step between levels in the lattice, expressed in years.\n",
    "* `method::Symbol`: The method used to estimate the lattice parameters; `:quantile` (equal-mass bins) or `:equalwidth` (uniform in growth rate space).\n",
    "\n",
    "We'll save the output in the `result::NamedTuple` variable."
   ]
  },
  {
   "cell_type": "code",
   "execution_count": 110,
   "id": "b2339bfa",
   "metadata": {},
   "outputs": [
    {
     "data": {
      "text/plain": [
       "(edges = [-21.211458354728737, -15.080381690041605, -8.949305025354475, -2.818228360667342, 3.312848304019789, 9.443924968706922, 15.575001633394052, 21.706078298081184], avg_factor = [0.9300836130146076, 0.9568933320775288, 0.9813018182599933, 1.0014819811236884, 1.0206311663699725, 1.04840834419366, 1.076795419529746], freq = [0.0021691973969631237, 0.013015184381778741, 0.15112075198843095, 0.6778741865509761, 0.14461315979754158, 0.009761388286334056, 0.0014461315979754157], counts = [6, 36, 418, 1875, 400, 27, 4], labels = [\"S1\", \"S2\", \"S3\", \"S4\", \"S5\", \"S6\", \"S7\"], method = :equalwidth, dt = 0.003968253968253968, N = 2766)"
      ]
     },
     "execution_count": 110,
     "metadata": {},
     "output_type": "execute_result"
    }
   ],
   "source": [
    "result = build_nary_lattice_from_growth_rate(log_growth_array; n = n, dt = Δt, method = :equalwidth)"
   ]
  },
  {
   "cell_type": "markdown",
   "id": "830aa795",
   "metadata": {},
   "source": [
    "Let's check out the fields in the `result::NamedTuple` variable."
   ]
  },
  {
   "cell_type": "code",
   "execution_count": 112,
   "id": "5f2cb573",
   "metadata": {},
   "outputs": [
    {
     "data": {
      "text/plain": [
       "(:edges, :avg_factor, :freq, :counts, :labels, :method, :dt, :N)"
      ]
     },
     "execution_count": 112,
     "metadata": {},
     "output_type": "execute_result"
    }
   ],
   "source": [
    "typeof(result) |> T-> fieldnames(T) # check out the fields of the returned struct"
   ]
  },
  {
   "cell_type": "markdown",
   "id": "023b918f",
   "metadata": {},
   "source": [
    "The `avg_factor::Array{Float64,1}` field contains the average growth factors associated with each branch at a node in the lattice (arranged in ascending order)."
   ]
  },
  {
   "cell_type": "code",
   "execution_count": 114,
   "id": "5b4536bb",
   "metadata": {},
   "outputs": [
    {
     "data": {
      "text/plain": [
       "7-element Vector{Float64}:\n",
       " 0.9300836130146076\n",
       " 0.9568933320775288\n",
       " 0.9813018182599933\n",
       " 1.0014819811236884\n",
       " 1.0206311663699725\n",
       " 1.04840834419366\n",
       " 1.076795419529746"
      ]
     },
     "execution_count": 114,
     "metadata": {},
     "output_type": "execute_result"
    }
   ],
   "source": [
    "result.avg_factor"
   ]
  },
  {
   "cell_type": "markdown",
   "id": "50c516a5",
   "metadata": {},
   "source": [
    "The `freq::Array{Float64,1}` field contains the frequencies associated with each branch at a node in the lattice. "
   ]
  },
  {
   "cell_type": "code",
   "execution_count": 116,
   "id": "034e67ba",
   "metadata": {},
   "outputs": [
    {
     "data": {
      "text/plain": [
       "7-element Vector{Float64}:\n",
       " 0.0021691973969631237\n",
       " 0.013015184381778741\n",
       " 0.15112075198843095\n",
       " 0.6778741865509761\n",
       " 0.14461315979754158\n",
       " 0.009761388286334056\n",
       " 0.0014461315979754157"
      ]
     },
     "execution_count": 116,
     "metadata": {},
     "output_type": "execute_result"
    }
   ],
   "source": [
    "result.freq"
   ]
  },
  {
   "cell_type": "code",
   "execution_count": 117,
   "id": "5717ab2a",
   "metadata": {},
   "outputs": [
    {
     "name": "stdout",
     "output_type": "stream",
     "text": [
      "n-ary lattice (method=equalwidth, Δt=0.003968253968253968, N=2766)\n",
      "State μ-bin [low, high)               avg factor    freq      count\n",
      "S1    [-21.211458 , -15.080382)       0.930084      0.002169  6\n",
      "S2    [-15.080382 , -8.949305)        0.956893      0.013015  36\n",
      "S3    [-8.949305 , -2.818228)         0.981302      0.151121  418\n",
      "S4    [-2.818228 , 3.312848)          1.001482      0.677874  1875\n",
      "S5    [3.312848 , 9.443925)           1.020631      0.144613  400\n",
      "S6    [9.443925 , 15.575002)          1.048408      0.009761  27\n",
      "S7    [15.575002 , 21.706078]         1.076795      0.001446  4\n"
     ]
    }
   ],
   "source": [
    "print_lattice(result)"
   ]
  },
  {
   "cell_type": "markdown",
   "id": "0a59b62e",
   "metadata": {},
   "source": [
    "Now, let's build and populate our N-ary recombining lattice model. We'll store the model in the `my_nary_lattice_model::MyGeneralAdjacencyRecombiningCommodityPriceTree` variable."
   ]
  },
  {
   "cell_type": "code",
   "execution_count": 119,
   "id": "81facc54",
   "metadata": {},
   "outputs": [
    {
     "name": "stdout",
     "output_type": "stream",
     "text": [
      "Starting price: 62.0886 USD for firm AAPL\n"
     ]
    }
   ],
   "source": [
    "my_nary_lattice_model = let\n",
    "\n",
    "    # initialize -\n",
    "    model = nothing;\n",
    "    Sₒ = selected_firm_data[start_index,:volume_weighted_average_price];\n",
    "    Δ = result.avg_factor |> reverse; # average growth factors (up to down)\n",
    "\n",
    "    # build an empty model -\n",
    "    model = build(MyGeneralAdjacencyRecombiningCommodityPriceTree, (\n",
    "        n = n,\n",
    "        h = TSIM, # how many days to simulate \n",
    "    ));\n",
    "\n",
    "    # populate the data in the model -\n",
    "    model = populate(model, Sₒ, Δ);\n",
    "\n",
    "    # print -\n",
    "    println(\"Starting price: $(Sₒ) USD for firm $(selected_firm_ticker)\");\n",
    "\n",
    "    model; # return\n",
    "end;"
   ]
  },
  {
   "cell_type": "markdown",
   "id": "75e83301",
   "metadata": {},
   "source": [
    "What's in the `my_nary_lattice_model::MyGeneralAdjacencyRecombiningCommodityPriceTree` instance?"
   ]
  },
  {
   "cell_type": "code",
   "execution_count": 121,
   "id": "c1b03bf7",
   "metadata": {},
   "outputs": [
    {
     "data": {
      "text/plain": [
       "(:data, :connectivity, :h, :n)"
      ]
     },
     "execution_count": 121,
     "metadata": {},
     "output_type": "execute_result"
    }
   ],
   "source": [
    "typeof(my_nary_lattice_model) |> T-> fieldnames(T) # check out the fields of the returned struct"
   ]
  },
  {
   "cell_type": "markdown",
   "id": "c1378e94",
   "metadata": {},
   "source": [
    "Let's look at the `connectivity::Dict{Int64,Array{Int64,1}}` field, which contains the adjacency list for the lattice."
   ]
  },
  {
   "cell_type": "code",
   "execution_count": 123,
   "id": "e42f6b78",
   "metadata": {},
   "outputs": [
    {
     "data": {
      "text/plain": [
       "Dict{Int64, NamedTuple} with 6435 entries:\n",
       "  4986 => (price = 65.9181, path = [1, 2, 1, 0, 3, 0, 1])\n",
       "  4700 => (price = 52.3907, path = [0, 2, 0, 0, 0, 6, 0])\n",
       "  4576 => (price = 53.6244, path = [0, 0, 1, 2, 2, 3, 0])\n",
       "  6073 => (price = 51.1434, path = [0, 0, 3, 0, 2, 0, 3])\n",
       "  2288 => (price = 65.19, path = [0, 2, 2, 1, 0, 2, 0])\n",
       "  1703 => (price = 47.8737, path = [1, 0, 0, 0, 0, 1, 4])\n",
       "  1956 => (price = 74.8692, path = [3, 0, 0, 2, 2, 0, 0])\n",
       "  2350 => (price = 63.0864, path = [0, 3, 0, 0, 2, 2, 0])\n",
       "  5975 => (price = 68.5549, path = [3, 2, 0, 0, 0, 0, 3])\n",
       "  3406 => (price = 47.4988, path = [0, 2, 0, 0, 0, 0, 5])\n",
       "  2841 => (price = 52.297, path = [0, 0, 1, 0, 4, 1, 1])\n",
       "  2876 => (price = 55.6828, path = [0, 1, 0, 3, 0, 2, 1])\n",
       "  687  => (price = 61.3094, path = [2, 0, 0, 0, 0, 2, 1])\n",
       "  185  => (price = 63.1761, path = [1, 0, 0, 0, 3, 0, 0])\n",
       "  1090 => (price = 61.3957, path = [0, 1, 0, 3, 1, 1, 0])\n",
       "  2015 => (price = 68.133, path = [2, 0, 1, 0, 4, 0, 0])\n",
       "  3293 => (price = 58.1083, path = [2, 1, 0, 0, 0, 1, 3])\n",
       "  1704 => (price = 46.6116, path = [0, 1, 0, 0, 0, 1, 4])\n",
       "  3220 => (price = 44.1888, path = [0, 0, 0, 0, 1, 4, 2])\n",
       "  4888 => (price = 76.4109, path = [4, 0, 0, 2, 1, 0, 1])\n",
       "  422  => (price = 72.6798, path = [2, 1, 0, 0, 2, 0, 0])\n",
       "  1266 => (price = 73.1254, path = [2, 1, 2, 0, 0, 0, 1])\n",
       "  183  => (price = 61.1124, path = [0, 0, 1, 1, 2, 0, 0])\n",
       "  1823 => (price = 70.0576, path = [1, 0, 2, 4, 0, 0, 0])\n",
       "  4030 => (price = 68.8715, path = [0, 3, 0, 4, 0, 1, 0])\n",
       "  ⋮    => ⋮"
      ]
     },
     "execution_count": 123,
     "metadata": {},
     "output_type": "execute_result"
    }
   ],
   "source": [
    "my_nary_lattice_model.data"
   ]
  },
  {
   "cell_type": "markdown",
   "id": "5defe785",
   "metadata": {},
   "source": [
    "The `data::Dict{Int64, NamedTuple}` field contains a NamedTuple for each node in the lattice, storing relevant information such as the node's price, time, and other attributes.\n",
    "* The `price::Float64` field contains the price at each node in the lattice.\n",
    "* The `path::Array{Int64,1}` field contains the path taken to reach each node in the lattice, represented as an array of integers.\n",
    "\n",
    "Let's take a look at the data."
   ]
  },
  {
   "cell_type": "code",
   "execution_count": 125,
   "id": "6d1ed1b2",
   "metadata": {},
   "outputs": [
    {
     "data": {
      "text/plain": [
       "Dict{Int64, NamedTuple} with 6435 entries:\n",
       "  4986 => (price = 65.9181, path = [1, 2, 1, 0, 3, 0, 1])\n",
       "  4700 => (price = 52.3907, path = [0, 2, 0, 0, 0, 6, 0])\n",
       "  4576 => (price = 53.6244, path = [0, 0, 1, 2, 2, 3, 0])\n",
       "  6073 => (price = 51.1434, path = [0, 0, 3, 0, 2, 0, 3])\n",
       "  2288 => (price = 65.19, path = [0, 2, 2, 1, 0, 2, 0])\n",
       "  1703 => (price = 47.8737, path = [1, 0, 0, 0, 0, 1, 4])\n",
       "  1956 => (price = 74.8692, path = [3, 0, 0, 2, 2, 0, 0])\n",
       "  2350 => (price = 63.0864, path = [0, 3, 0, 0, 2, 2, 0])\n",
       "  5975 => (price = 68.5549, path = [3, 2, 0, 0, 0, 0, 3])\n",
       "  3406 => (price = 47.4988, path = [0, 2, 0, 0, 0, 0, 5])\n",
       "  2841 => (price = 52.297, path = [0, 0, 1, 0, 4, 1, 1])\n",
       "  2876 => (price = 55.6828, path = [0, 1, 0, 3, 0, 2, 1])\n",
       "  687  => (price = 61.3094, path = [2, 0, 0, 0, 0, 2, 1])\n",
       "  185  => (price = 63.1761, path = [1, 0, 0, 0, 3, 0, 0])\n",
       "  1090 => (price = 61.3957, path = [0, 1, 0, 3, 1, 1, 0])\n",
       "  2015 => (price = 68.133, path = [2, 0, 1, 0, 4, 0, 0])\n",
       "  3293 => (price = 58.1083, path = [2, 1, 0, 0, 0, 1, 3])\n",
       "  1704 => (price = 46.6116, path = [0, 1, 0, 0, 0, 1, 4])\n",
       "  3220 => (price = 44.1888, path = [0, 0, 0, 0, 1, 4, 2])\n",
       "  4888 => (price = 76.4109, path = [4, 0, 0, 2, 1, 0, 1])\n",
       "  422  => (price = 72.6798, path = [2, 1, 0, 0, 2, 0, 0])\n",
       "  1266 => (price = 73.1254, path = [2, 1, 2, 0, 0, 0, 1])\n",
       "  183  => (price = 61.1124, path = [0, 0, 1, 1, 2, 0, 0])\n",
       "  1823 => (price = 70.0576, path = [1, 0, 2, 4, 0, 0, 0])\n",
       "  4030 => (price = 68.8715, path = [0, 3, 0, 4, 0, 1, 0])\n",
       "  ⋮    => ⋮"
      ]
     },
     "execution_count": 125,
     "metadata": {},
     "output_type": "execute_result"
    }
   ],
   "source": [
    "my_nary_lattice_model.data"
   ]
  },
  {
   "cell_type": "markdown",
   "id": "87cd66ab",
   "metadata": {},
   "source": [
    "## Task 2: Visualize the price distribution at a given level in the lattice\n",
    "In this task, we visualize the price distribution at a specified level in the N-ary recombining lattice. We'll also compute the probability of the price at each node in the final level of the lattice.\n",
    "\n",
    "Let's start by specifying the tree level we want to analyze and identifying the nodes at that level. We'll store the nodes at the specified level in the `nodes_at_tree_level::Array{Int64,1}` variable."
   ]
  },
  {
   "cell_type": "code",
   "execution_count": 127,
   "id": "3a452e07",
   "metadata": {},
   "outputs": [
    {
     "data": {
      "text/plain": [
       "3003-element Vector{Int64}:\n",
       " 3432\n",
       " 3433\n",
       " 3434\n",
       " 3435\n",
       " 3436\n",
       " 3437\n",
       " 3438\n",
       " 3439\n",
       " 3440\n",
       " 3441\n",
       " 3442\n",
       " 3443\n",
       " 3444\n",
       "    ⋮\n",
       " 6423\n",
       " 6424\n",
       " 6425\n",
       " 6426\n",
       " 6427\n",
       " 6428\n",
       " 6429\n",
       " 6430\n",
       " 6431\n",
       " 6432\n",
       " 6433\n",
       " 6434"
      ]
     },
     "execution_count": 127,
     "metadata": {},
     "output_type": "execute_result"
    }
   ],
   "source": [
    "nodes_at_tree_level = let\n",
    "\n",
    "    # initialize -\n",
    "    l = TSIM; # level\n",
    "    start = level_offset(l, n);\n",
    "    stop = start + nodes_at_level(l, n) - 1;\n",
    "\n",
    "    # compute the nodes indices at level l -\n",
    "    nodes = range(start, stop=stop, step=1) |> collect;\n",
    "end"
   ]
  },
  {
   "cell_type": "markdown",
   "id": "e910556a",
   "metadata": {},
   "source": [
    "Next, we compute the price and probability data for each node at the specified level. We extract the price from each node and calculate the probability of reaching that node using the multinomial distribution."
   ]
  },
  {
   "cell_type": "code",
   "execution_count": 129,
   "id": "94f4b6e6",
   "metadata": {},
   "outputs": [],
   "source": [
    "data_array_at_level = let\n",
    "   \n",
    "    # initialize -\n",
    "    number_of_nodes = length(nodes_at_tree_level);\n",
    "    results_array = Array{Float64, 2}(undef, number_of_nodes, 2);\n",
    "    Δ = result.avg_factor |> reverse; # average growth factors (up to down)\n",
    "    p = result.freq |> reverse; # real-world probabilities (up to down)\n",
    "    d = Multinomial(TSIM, p)\n",
    "\n",
    "    for i ∈ 1:number_of_nodes\n",
    "        \n",
    "        # get node index -\n",
    "        j = nodes_at_tree_level[i];\n",
    "        nodemodel = my_nary_lattice_model.data[j];\n",
    "\n",
    "        # get the price from the node model -\n",
    "        price = nodemodel.price;\n",
    "\n",
    "        # ok: let's compute the probability of reaching this node -\n",
    "        path = nodemodel.path; # path to reach this node\n",
    "       \n",
    "        # capture the results -\n",
    "        results_array[i, 1] = price;\n",
    "        results_array[i, 2] = pdf(d, path);\n",
    "    end\n",
    "\n",
    "    tmp = results_array[:,1];\n",
    "    sorted_results_array = sortperm(tmp) |> I-> results_array[I, :]; # sort by price\n",
    "end;"
   ]
  },
  {
   "cell_type": "markdown",
   "id": "d4062b7e",
   "metadata": {},
   "source": [
    "__Check:__ The sum of the probabilities at each level should equal `1.0`. Let's verify this for our specified level:"
   ]
  },
  {
   "cell_type": "code",
   "execution_count": 131,
   "id": "73d194be",
   "metadata": {},
   "outputs": [],
   "source": [
    "@assert data_array_at_level[:,2] |> sum ≈ 1.0 # should be 1.0"
   ]
  },
  {
   "cell_type": "markdown",
   "id": "377b158f",
   "metadata": {},
   "source": [
    "Let's visualize the possible price distribution at the specified level:"
   ]
  },
  {
   "cell_type": "code",
   "execution_count": 133,
   "id": "e16cd9dc",
   "metadata": {},
   "outputs": [
    {
     "data": {
      "text/plain": [
       "                  \u001b[38;5;8m┌                                        ┐\u001b[0m \n",
       "   [ 30.0,  40.0) \u001b[38;5;8m┤\u001b[0m\u001b[38;5;2m\u001b[0m\u001b[38;5;2m▋\u001b[0m 18                                    \u001b[38;5;8m \u001b[0m \u001b[38;5;8m\u001b[0m\n",
       "   [ 40.0,  50.0) \u001b[38;5;8m┤\u001b[0m\u001b[38;5;2m███████████\u001b[0m\u001b[38;5;2m▊\u001b[0m 320                        \u001b[38;5;8m \u001b[0m \u001b[38;5;8m\u001b[0m\n",
       "   [ 50.0,  60.0) \u001b[38;5;8m┤\u001b[0m\u001b[38;5;2m████████████████████████████████\u001b[0m\u001b[38;5;2m▋\u001b[0m 886   \u001b[38;5;8m \u001b[0m \u001b[38;5;8m\u001b[0m\n",
       "   [ 60.0,  70.0) \u001b[38;5;8m┤\u001b[0m\u001b[38;5;2m███████████████████████████████████\u001b[0m\u001b[38;5;2m \u001b[0m 950\u001b[38;5;8m \u001b[0m \u001b[38;5;8m\u001b[0m\n",
       "   [ 70.0,  80.0) \u001b[38;5;8m┤\u001b[0m\u001b[38;5;2m████████████████████\u001b[0m\u001b[38;5;2m▎\u001b[0m 549               \u001b[38;5;8m \u001b[0m \u001b[38;5;8m\u001b[0m\n",
       "   [ 80.0,  90.0) \u001b[38;5;8m┤\u001b[0m\u001b[38;5;2m███████\u001b[0m\u001b[38;5;2m▋\u001b[0m 209                            \u001b[38;5;8m \u001b[0m \u001b[38;5;8m\u001b[0m\n",
       "   [ 90.0, 100.0) \u001b[38;5;8m┤\u001b[0m\u001b[38;5;2m██\u001b[0m\u001b[38;5;2m▎\u001b[0m 59                                  \u001b[38;5;8m \u001b[0m \u001b[38;5;8m\u001b[0m\n",
       "   [100.0, 110.0) \u001b[38;5;8m┤\u001b[0m\u001b[38;5;2m\u001b[0m\u001b[38;5;2m▍\u001b[0m 11                                    \u001b[38;5;8m \u001b[0m \u001b[38;5;8m\u001b[0m\n",
       "   [110.0, 120.0) \u001b[38;5;8m┤\u001b[0m\u001b[38;5;2m\u001b[0m\u001b[38;5;2m▏\u001b[0m 1                                     \u001b[38;5;8m \u001b[0m \u001b[38;5;8m\u001b[0m\n",
       "                  \u001b[38;5;8m└                                        ┘\u001b[0m \n",
       "                                   Frequency                 "
      ]
     },
     "execution_count": 133,
     "metadata": {},
     "output_type": "execute_result"
    }
   ],
   "source": [
    "UnicodePlots.histogram(data_array_at_level[:,1], nbins=9, closed=:left)"
   ]
  },
  {
   "cell_type": "markdown",
   "id": "5bc1663f",
   "metadata": {},
   "source": [
    "Now, let's compute the (multistep) growth rate distributions at the specified level in the lattice. We'll store the data in the `growth_rate_array_at_level::Array{Float64,1}` variable."
   ]
  },
  {
   "cell_type": "code",
   "execution_count": 135,
   "id": "7abc1a96",
   "metadata": {},
   "outputs": [],
   "source": [
    "growth_rate_array_at_level = let\n",
    "\n",
    "    # initialize -\n",
    "    Sₒ = selected_firm_data[start_index,:volume_weighted_average_price];\n",
    "    number_of_nodes = length(nodes_at_tree_level);\n",
    "    results_array = Array{Float64, 1}(undef, number_of_nodes);\n",
    "\n",
    "    for i ∈ 1:number_of_nodes\n",
    "        \n",
    "        # get node index -\n",
    "        j = nodes_at_tree_level[i];\n",
    "        nodemodel = my_nary_lattice_model.data[j];\n",
    "\n",
    "        # get the price from the node model -\n",
    "        price = nodemodel.price;\n",
    "\n",
    "        # compute the growth rate from the starting price -\n",
    "        growth_rate = (1/Δt)*log(price/Sₒ);\n",
    "       \n",
    "        # capture the results -\n",
    "        results_array[i] = growth_rate;\n",
    "    end\n",
    "\n",
    "    results_array; # return\n",
    "end;"
   ]
  },
  {
   "cell_type": "markdown",
   "id": "6da49c34",
   "metadata": {},
   "source": [
    "Let's visualize the growth rate distribution at the specified level:"
   ]
  },
  {
   "cell_type": "code",
   "execution_count": 137,
   "id": "69aef362",
   "metadata": {},
   "outputs": [
    {
     "data": {
      "text/plain": [
       "                    \u001b[38;5;8m┌                                        ┐\u001b[0m \n",
       "   [-160.0, -140.0) \u001b[38;5;8m┤\u001b[0m\u001b[38;5;2m\u001b[0m\u001b[38;5;2m▏\u001b[0m 1                                     \u001b[38;5;8m \u001b[0m \u001b[38;5;8m\u001b[0m\n",
       "   [-140.0, -120.0) \u001b[38;5;8m┤\u001b[0m\u001b[38;5;2m\u001b[0m\u001b[38;5;2m▌\u001b[0m 8                                     \u001b[38;5;8m \u001b[0m \u001b[38;5;8m\u001b[0m\n",
       "   [-120.0, -100.0) \u001b[38;5;8m┤\u001b[0m\u001b[38;5;2m██\u001b[0m\u001b[38;5;2m▏\u001b[0m 29                                  \u001b[38;5;8m \u001b[0m \u001b[38;5;8m\u001b[0m\n",
       "   [-100.0,  -80.0) \u001b[38;5;8m┤\u001b[0m\u001b[38;5;2m█████\u001b[0m\u001b[38;5;2m▍\u001b[0m 76                               \u001b[38;5;8m \u001b[0m \u001b[38;5;8m\u001b[0m\n",
       "   [ -80.0,  -60.0) \u001b[38;5;8m┤\u001b[0m\u001b[38;5;2m███████████\u001b[0m\u001b[38;5;2m▏\u001b[0m 157                        \u001b[38;5;8m \u001b[0m \u001b[38;5;8m\u001b[0m\n",
       "   [ -60.0,  -40.0) \u001b[38;5;8m┤\u001b[0m\u001b[38;5;2m███████████████████\u001b[0m\u001b[38;5;2m▉\u001b[0m 283                \u001b[38;5;8m \u001b[0m \u001b[38;5;8m\u001b[0m\n",
       "   [ -40.0,  -20.0) \u001b[38;5;8m┤\u001b[0m\u001b[38;5;2m████████████████████████████\u001b[0m\u001b[38;5;2m▎\u001b[0m 401       \u001b[38;5;8m \u001b[0m \u001b[38;5;8m\u001b[0m\n",
       "   [ -20.0,    0.0) \u001b[38;5;8m┤\u001b[0m\u001b[38;5;2m██████████████████████████████████\u001b[0m\u001b[38;5;2m▍\u001b[0m 488 \u001b[38;5;8m \u001b[0m \u001b[38;5;8m\u001b[0m\n",
       "   [   0.0,   20.0) \u001b[38;5;8m┤\u001b[0m\u001b[38;5;2m███████████████████████████████████\u001b[0m\u001b[38;5;2m \u001b[0m 497\u001b[38;5;8m \u001b[0m \u001b[38;5;8m\u001b[0m\n",
       "   [  20.0,   40.0) \u001b[38;5;8m┤\u001b[0m\u001b[38;5;2m██████████████████████████████\u001b[0m\u001b[38;5;2m▋\u001b[0m 435     \u001b[38;5;8m \u001b[0m \u001b[38;5;8m\u001b[0m\n",
       "   [  40.0,   60.0) \u001b[38;5;8m┤\u001b[0m\u001b[38;5;2m█████████████████████\u001b[0m\u001b[38;5;2m▎\u001b[0m 301              \u001b[38;5;8m \u001b[0m \u001b[38;5;8m\u001b[0m\n",
       "   [  60.0,   80.0) \u001b[38;5;8m┤\u001b[0m\u001b[38;5;2m█████████████\u001b[0m\u001b[38;5;2m▎\u001b[0m 186                      \u001b[38;5;8m \u001b[0m \u001b[38;5;8m\u001b[0m\n",
       "   [  80.0,  100.0) \u001b[38;5;8m┤\u001b[0m\u001b[38;5;2m██████\u001b[0m\u001b[38;5;2m▋\u001b[0m 94                              \u001b[38;5;8m \u001b[0m \u001b[38;5;8m\u001b[0m\n",
       "   [ 100.0,  120.0) \u001b[38;5;8m┤\u001b[0m\u001b[38;5;2m██\u001b[0m\u001b[38;5;2m▌\u001b[0m 35                                  \u001b[38;5;8m \u001b[0m \u001b[38;5;8m\u001b[0m\n",
       "   [ 120.0,  140.0) \u001b[38;5;8m┤\u001b[0m\u001b[38;5;2m\u001b[0m\u001b[38;5;2m▋\u001b[0m 10                                    \u001b[38;5;8m \u001b[0m \u001b[38;5;8m\u001b[0m\n",
       "   [ 140.0,  160.0) \u001b[38;5;8m┤\u001b[0m\u001b[38;5;2m\u001b[0m\u001b[38;5;2m▎\u001b[0m 2                                     \u001b[38;5;8m \u001b[0m \u001b[38;5;8m\u001b[0m\n",
       "                    \u001b[38;5;8m└                                        ┘\u001b[0m \n",
       "                                     Frequency                 "
      ]
     },
     "execution_count": 137,
     "metadata": {},
     "output_type": "execute_result"
    }
   ],
   "source": [
    "UnicodePlots.histogram(growth_rate_array_at_level, nbins=21, closed=:left)"
   ]
  },
  {
   "cell_type": "markdown",
   "id": "c978c950",
   "metadata": {},
   "source": [
    "___\n",
    "\n",
    "## Summary\n",
    "In this notebook, we demonstrated how to construct and analyze N-ary recombining lattice models for stock price evolution using historical data.\n",
    "\n",
    "> __Key takeaways__\n",
    ">\n",
    "> * **N-ary Lattice Construction**: We built multi-branch lattice models that capture more nuanced price movements than traditional binary trees, using three possible states (up, neutral, down) at each node.\n",
    "> * **Historical Parameter Estimation**: We extracted growth factors and probabilities directly from S&P 500 log returns using equal-width binning to create realistic transition probabilities that reflect actual market behavior.\n",
    "> * **Recombining Tree Efficiency**: We implemented lattice models that recombine at each level to maintain computational efficiency while preserving essential price dynamics and probability distributions.\n",
    "\n",
    "Understanding how to build N-ary lattice models provides a more flexible framework for modeling complex financial market movements and price distributions.\n",
    "\n",
    "___"
   ]
  },
  {
   "cell_type": "markdown",
   "id": "8ecdc6a6",
   "metadata": {},
   "source": [
    "## Disclaimer and Risks\n",
    "__This content is offered solely for training and informational purposes__. No offer or solicitation to buy or sell securities or derivative products, or any investment or trading advice or strategy, is made, given, or endorsed by the teaching team. \n",
    "\n",
    "__Trading involves risk__. Carefully review your financial situation before investing in securities, futures contracts, options, or commodity interests. Past performance, whether actual or indicated by historical tests of strategies, is no guarantee of future performance or success. Trading is generally inappropriate for someone with limited resources, investment or trading experience, or a low-risk tolerance. Only risk capital that is not required for living expenses should be used.\n",
    "\n",
    "__You are fully responsible for any investment or trading decisions you make__. Such decisions should be based solely on evaluating your financial circumstances, investment or trading objectives, risk tolerance, and liquidity needs."
   ]
  }
 ],
 "metadata": {
  "kernelspec": {
   "display_name": "Julia 1.11.7",
   "language": "julia",
   "name": "julia-1.11"
  },
  "language_info": {
   "file_extension": ".jl",
   "mimetype": "application/julia",
   "name": "julia",
   "version": "1.11.7"
  }
 },
 "nbformat": 4,
 "nbformat_minor": 5
}
