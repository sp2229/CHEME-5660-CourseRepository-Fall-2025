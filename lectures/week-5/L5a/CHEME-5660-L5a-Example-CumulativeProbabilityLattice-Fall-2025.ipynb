{
 "cells": [
  {
   "cell_type": "markdown",
   "id": "6975414a-e4ef-4c81-973c-fc07d9919711",
   "metadata": {},
   "source": [
    "# Example: Let's Explore Binomial Lattice Model Trade Exit Rules\n",
    "In this example, we will test the binomial lattice model trade exit rules we developed in lecture.\n",
    "In particular, we will use a binomial lattice model to compute the cumulative probability of achieving at least a target fractional return (ROI) of $r_{\\star}$ (or alternatively, a target fractional loss of $-r_{\\star}$) over a holding period of $T=i\\Delta{t}$.\n",
    "\n",
    "> __Learning Objectives__\n",
    "> \n",
    "> In this example students will learn to:\n",
    "> * __Parameter Estimation:__ Estimate binomial lattice parameters from historical stock data. We will compute the up factor, down factor, and probability values using real market data from the S&P 500.\n",
    "> * __Model Construction:__ Build a binomial equity price tree model using historical parameters. We will construct and populate a lattice model to simulate future stock price movements over a specified time horizon.\n",
    "> * __Probability Analysis:__ Calculate cumulative probabilities for achieving target returns. We will determine the likelihood of reaching specific return thresholds using binomial probability distributions and analyze multiple return scenarios.\n",
    "\n",
    "This sounds cool, so let's get started!\n",
    "___"
   ]
  },
  {
   "cell_type": "markdown",
   "id": "6598e2a6",
   "metadata": {},
   "source": [
    "## Setup, Data, and Prerequisites\n",
    "First, we set up the computational environment by including the `Include.jl` file and loading any needed resources.\n",
    "\n",
    ">__Include:__ The [`include(...)` command](https://docs.julialang.org/en/v1/base/base/#include) evaluates the contents of the input source file, `Include.jl`, in the notebook's global scope. The `Include.jl` file sets paths, loads required external packages, etc. For additional information on functions and types used in this material, see the [Julia programming language documentation](https://docs.julialang.org/en/v1/). \n",
    "\n",
    "Let's set up our code environment:"
   ]
  },
  {
   "cell_type": "code",
   "execution_count": 71,
   "id": "a612911f",
   "metadata": {},
   "outputs": [],
   "source": [
    "include(joinpath(@__DIR__, \"Include.jl\")); # include the Include.jl file"
   ]
  },
  {
   "cell_type": "markdown",
   "id": "d044e2da",
   "metadata": {},
   "source": [
    "For additional information on functions and types used in this material, see the [Julia programming language documentation](https://docs.julialang.org/en/v1/) and the [VLQuantitativeFinancePackage.jl documentation](https://github.com/varnerlab/VLQuantitativeFinancePackage.jl). "
   ]
  },
  {
   "cell_type": "markdown",
   "id": "bca79294",
   "metadata": {},
   "source": [
    "### Data\n",
    "We gathered daily open-high-low-close (OHLC) data for each firm in the [S&P500](https://en.wikipedia.org/wiki/S%26P_500) from `01-03-2014` until `12-31-2024`, along with data for a few exchange-traded funds and volatility products during that time period. \n",
    "\n",
    "Let's load the `original_dataset::DataFrame` by calling [the `MyTrainingMarketDataSet()` function](https://varnerlab.github.io/VLQuantitativeFinancePackage.jl/dev/data/#VLQuantitativeFinancePackage.MyTrainingMarketDataSet) and remove firms that do not have the maximum number of trading days. The cleaned dataset $\\mathcal{D}$ will be stored in the `dataset` variable."
   ]
  },
  {
   "cell_type": "code",
   "execution_count": 74,
   "id": "a54b7868",
   "metadata": {},
   "outputs": [],
   "source": [
    "original_dataset = MyTrainingMarketDataSet() |> x-> x[\"dataset\"];"
   ]
  },
  {
   "cell_type": "markdown",
   "id": "d126b9c6",
   "metadata": {},
   "source": [
    "Not all tickers in our dataset have the maximum number of trading days for various reasons, e.g., acquisition or delisting events. Let's collect only those tickers with the maximum number of trading days.\n",
    "\n",
    "First, let's compute the number of records for a firm that we know has the maximum value, e.g., `AAPL`, and save that value in the `maximum_number_trading_days::Int64` variable:"
   ]
  },
  {
   "cell_type": "code",
   "execution_count": 76,
   "id": "6962d1e1",
   "metadata": {},
   "outputs": [
    {
     "data": {
      "text/plain": [
       "2767"
      ]
     },
     "execution_count": 76,
     "metadata": {},
     "output_type": "execute_result"
    }
   ],
   "source": [
    "maximum_number_trading_days = original_dataset[\"AAPL\"] |> nrow # nrow? (check out: DataFrames.jl)"
   ]
  },
  {
   "cell_type": "markdown",
   "id": "30694b11",
   "metadata": {},
   "source": [
    "Now, let's iterate through our data and collect only tickers with `maximum_number_trading_days` records. We'll save that data in the `dataset::Dict{String,DataFrame}` variable:"
   ]
  },
  {
   "cell_type": "code",
   "execution_count": 78,
   "id": "f9ef878d",
   "metadata": {},
   "outputs": [],
   "source": [
    "dataset = let\n",
    "\n",
    "    # initialize -\n",
    "    dataset = Dict{String, DataFrame}();\n",
    "\n",
    "    # iterate through the dictionary; we can't guarantee a particular order\n",
    "    for (ticker, data) ∈ original_dataset  # we get each (K, V) pair!\n",
    "        if (nrow(data) == maximum_number_trading_days) # what is this doing?\n",
    "            dataset[ticker] = data;\n",
    "        end\n",
    "    end\n",
    "    dataset; # return\n",
    "end;"
   ]
  },
  {
   "cell_type": "markdown",
   "id": "8b76aafe",
   "metadata": {},
   "source": [
    "How many firms do we have with the full number of trading days? Let's use [the `length(...)` method](https://docs.julialang.org/en/v1/base/collections/#Base.length) — notice this works for dictionaries, in addition to arrays, sets, and other collections."
   ]
  },
  {
   "cell_type": "code",
   "execution_count": 80,
   "id": "b0b15fe4",
   "metadata": {},
   "outputs": [
    {
     "data": {
      "text/plain": [
       "424"
      ]
     },
     "execution_count": 80,
     "metadata": {},
     "output_type": "execute_result"
    }
   ],
   "source": [
    "length(dataset) # tells us how many keys are in the dictionary (how many firms in our dataset?)"
   ]
  },
  {
   "cell_type": "markdown",
   "id": "728831dd",
   "metadata": {},
   "source": [
    "Finally, let's get a list of the firms in our cleaned dataset and sort them alphabetically. We store the sorted firm ticker symbols in the `list_of_tickers::Array{String,1}` variable."
   ]
  },
  {
   "cell_type": "code",
   "execution_count": 82,
   "id": "c7e2086d",
   "metadata": {},
   "outputs": [
    {
     "data": {
      "text/plain": [
       "424-element Vector{String}:\n",
       " \"A\"\n",
       " \"AAL\"\n",
       " \"AAP\"\n",
       " \"AAPL\"\n",
       " \"ABBV\"\n",
       " \"ABT\"\n",
       " \"ACN\"\n",
       " \"ADBE\"\n",
       " \"ADI\"\n",
       " \"ADM\"\n",
       " \"ADP\"\n",
       " \"ADSK\"\n",
       " \"AEE\"\n",
       " ⋮\n",
       " \"WST\"\n",
       " \"WU\"\n",
       " \"WY\"\n",
       " \"WYNN\"\n",
       " \"XEL\"\n",
       " \"XOM\"\n",
       " \"XRAY\"\n",
       " \"XYL\"\n",
       " \"YUM\"\n",
       " \"ZBRA\"\n",
       " \"ZION\"\n",
       " \"ZTS\""
      ]
     },
     "execution_count": 82,
     "metadata": {},
     "output_type": "execute_result"
    }
   ],
   "source": [
    "list_of_tickers = keys(dataset) |> collect |> sort # list of firm \"ticker\" symbols in alphabetical order"
   ]
  },
  {
   "cell_type": "markdown",
   "id": "f0926a6e",
   "metadata": {},
   "source": [
    "### Constants\n",
    "Finally, let's set some constants we'll use later in this notebook. The comments describe the constants, their units, and permissible values."
   ]
  },
  {
   "cell_type": "code",
   "execution_count": 84,
   "id": "d49d15ea",
   "metadata": {},
   "outputs": [],
   "source": [
    "TSIM = 63; # number of trading days to simulate\n",
    "Δt = (1.0/252); # step size: 1 trading day in units of years\n",
    "r̄ = 0.05; # risk-free rate (annualized)"
   ]
  },
  {
   "cell_type": "markdown",
   "id": "f6b059e5",
   "metadata": {},
   "source": [
    "___"
   ]
  },
  {
   "cell_type": "markdown",
   "id": "add49576",
   "metadata": {},
   "source": [
    "## Task 1: Estimate lattice parameters from historical data\n",
    "To create a binomial lattice model for future share prices, we must estimate three critical parameters: $p$, $u$, and $d$.\n",
    "\n",
    "> __Parameter Definitions__\n",
    ">\n",
    ">* The $p$ parameter represents the probability of a share price increase or an `up` move between two consecutive periods $j\\rightarrow{j+1}$. Since a binary lattice model only allows `up` and `down` moves, the probability of a `down` move is $1-p$.\n",
    ">* The $u$ parameter represents the magnitude of an `up` move. If $S_{j}$ denotes the share price in period $j$, and $S_{j+1}$ is the share price in the next period, then an `up` move results in $S_{j+1} = u\\cdot{S}_{j}$.\n",
    ">* The $d$ parameter represents the magnitude of a `down` move. If $S_{j}$ denotes the share price in period $j$, and $S_{j+1}$ is the share price in the next period, then a `down` move results in $S_{j+1} = d\\cdot{S}_{j}$.\n",
    "\n",
    "To start, let's select a firm from the dataset to explore."
   ]
  },
  {
   "cell_type": "code",
   "execution_count": 87,
   "id": "cc9deafb",
   "metadata": {},
   "outputs": [],
   "source": [
    "# random_firm_ticker = rand(list_of_tickers);\n",
    "random_firm_ticker = \"ADBE\"\n",
    "random_firm_index = findfirst(x-> x == random_firm_ticker, list_of_tickers);\n",
    "random_firm_data = dataset[random_firm_ticker];"
   ]
  },
  {
   "cell_type": "markdown",
   "id": "89b9ecf3",
   "metadata": {},
   "source": [
    "### Estimate the u, d, and probability p parameters from the data\n",
    "Let's estimate the up $u$ and down $d$ factors and the probability $p$ from historical data.\n",
    "\n",
    "__Initialize__: Given the growth rate sequence $\\{\\mu_{2},\\mu_{3},\\dots,\\mu_{T}\\}$ for firm $(i)$ (we omit the superscript $i$ for simplicity) and a time step $\\Delta{t} > 0$ (units: years), initialize the up factors collection $U = \\emptyset$ and down factors collection $D = \\emptyset$.\n",
    "\n",
    "1. For $t = 2,3,\\dots,T$, __do__:\n",
    "    - If $\\mu_{t} > 0$, then update $U \\leftarrow U \\cup \\{e^{\\mu_{t}\\Delta{t}}\\}$, where $U$ is a collection of up factors.\n",
    "    - If $\\mu_{t} < 0$, then update $D \\leftarrow D \\cup \\{e^{\\mu_{t}\\Delta{t}}\\}$, where $D$ is a collection of down factors.\n",
    "    - If $\\mu_{t} = 0$, skip (no price change).\n",
    "2. Compute the up factor $u$ as the mean of the up factors collection $U$: $u = \\frac{1}{|U|} \\sum_{v \\in U} v$.\n",
    "3. Compute the down factor $d$ as the mean of the down factors collection $D$: $d = \\frac{1}{|D|} \\sum_{v \\in D} v$.\n",
    "4. Compute the probability $p$ as the fraction of up movements: $p = \\frac{|U|}{|U| + |D|}$.\n",
    "\n",
    "We use daily data; thus, the natural time frame between $S_{j-1}$ and $S_{j}$ is a single day. However, it is more convenient to use an annualized value for the $\\mu$ parameter; thus, we let $\\Delta{t} = 1/252$, i.e., the fraction of a year that corresponds to a single trading day.\n",
    "\n",
    "The [`log_growth_matrix(...)` method](https://varnerlab.github.io/VLQuantitativeFinancePackage.jl/dev/equity/#VLQuantitativeFinancePackage.log_growth_matrix) takes the cleaned dataset $\\mathcal{D}$, which contains $T$ days of data for each firm, a list of firms $\\mathcal{L}$, and computes the growth rate values for each firm as a function of time. \n",
    "\n",
    "The data is returned as a $(T - 1)\\times\\dim\\mathcal{L}$ array (time on the rows, firm $i$ on the columns). We store the data in the `log_growth_array::Array{Float64,1}` variable:"
   ]
  },
  {
   "cell_type": "code",
   "execution_count": 89,
   "id": "bde95144",
   "metadata": {},
   "outputs": [
    {
     "data": {
      "text/plain": [
       "2766-element Vector{Float64}:\n",
       "  -4.48177101721035\n",
       "   1.2681989501752422\n",
       "   1.4620645924022435\n",
       "   0.9782541450394576\n",
       "   0.816991570922429\n",
       "  -2.189412070255259\n",
       "   5.058220052146569\n",
       "   5.729703164907576\n",
       "   0.8144832602206464\n",
       "  -1.3941711674103718\n",
       "  -1.1683502506700052\n",
       "   2.0363580890577953\n",
       "  -2.8152388299854025\n",
       "   ⋮\n",
       " -10.318765952539094\n",
       "   1.193236717285588\n",
       "  -4.558776434053768\n",
       "  -4.775255302688766\n",
       "  -3.634169535759943\n",
       "   1.4308473355847118\n",
       "   1.1050283272038928\n",
       "  -0.01619378627487112\n",
       "   1.939109727885214\n",
       "  -2.805837196438786\n",
       "  -0.3660345335453977\n",
       "   0.3514260052939249"
      ]
     },
     "execution_count": 89,
     "metadata": {},
     "output_type": "execute_result"
    }
   ],
   "source": [
    "log_growth_array = log_growth_matrix(dataset, random_firm_ticker) # array holding growth rate time series"
   ]
  },
  {
   "cell_type": "markdown",
   "id": "c4d6b254",
   "metadata": {},
   "source": [
    "Using the `log_growth_array::Array{Float64,1}`, we compute the expected magnitude of an up move $\\bar{u}$, the expected magnitude of a down move $\\bar{d}$, and the estimated probability $\\bar{p}$ of an up move by passing the return data to [a `RealWorldBinomialProbabilityMeasure` instance](https://varnerlab.github.io/VLQuantitativeFinancePackage.jl/dev/equity/#VLQuantitativeFinancePackage.RealWorldBinomialProbabilityMeasure), which returns the $(u,d,p)$ tuple.\n",
    "\n",
    "> __Syntax sugar__: Behind the scenes, this call points to a private function that computes $\\bar{u}$, $\\bar{d}$, and $\\bar{p}$ by analyzing the growth rate time series data in the `log_growth_array::Array{Float64,1}` variable. It looks like we are using a type as a function name, but we are not. This is a neat Julia trick, right?\n",
    "\n",
    "What values did we obtain for our random firm?"
   ]
  },
  {
   "cell_type": "code",
   "execution_count": 91,
   "id": "b3614dea",
   "metadata": {},
   "outputs": [],
   "source": [
    "(ū,d̄,p̄) = let\n",
    "\n",
    "    # initialize -\n",
    "    u = nothing; \n",
    "    d = nothing; \n",
    "    p = nothing; \n",
    "\n",
    "    # TODO: Uncomment the line below to compute the RWPM parameters for the randomly selected firm\n",
    "    (u,d,p) = (RealWorldBinomialProbabilityMeasure())(log_growth_array; Δt = Δt)\n",
    "    \n",
    "    (u,d,p); # return\n",
    "end;"
   ]
  },
  {
   "cell_type": "markdown",
   "id": "80d1ebfa",
   "metadata": {},
   "source": [
    "Let's create a table for the binomial lattice parameters:"
   ]
  },
  {
   "cell_type": "code",
   "execution_count": 93,
   "id": "d84b8d49",
   "metadata": {},
   "outputs": [
    {
     "name": "stdout",
     "output_type": "stream",
     "text": [
      " -------- ---------- ------------ -------------\n",
      " \u001b[1m ticker \u001b[0m \u001b[1m upfactor \u001b[0m \u001b[1m downfactor \u001b[0m \u001b[1m probability \u001b[0m\n",
      " \u001b[90m String \u001b[0m \u001b[90m  Float64 \u001b[0m \u001b[90m    Float64 \u001b[0m \u001b[90m     Float64 \u001b[0m\n",
      " -------- ---------- ------------ -------------\n",
      "    ADBE    1.01165     0.987349      0.556761\n",
      " -------- ---------- ------------ -------------\n"
     ]
    }
   ],
   "source": [
    "let\n",
    "\n",
    "    # initialize -\n",
    "    df = DataFrame();\n",
    "\n",
    "    row_df = (\n",
    "        ticker = random_firm_ticker,\n",
    "        upfactor = ū,\n",
    "        downfactor = d̄,\n",
    "        probability = p̄,\n",
    "    );\n",
    "    push!(df, row_df);\n",
    "\n",
    "      # display the table -\n",
    "    pretty_table(df, backend = :text,\n",
    "         table_format = TextTableFormat(borders = text_table_borders__compact));    \n",
    "    \n",
    "end"
   ]
  },
  {
   "cell_type": "markdown",
   "id": "86260edb",
   "metadata": {},
   "source": [
    "Let's look at the growth rate distribution for our random firm:"
   ]
  },
  {
   "cell_type": "code",
   "execution_count": 139,
   "id": "62ca4372",
   "metadata": {},
   "outputs": [
    {
     "data": {
      "text/plain": [
       "                  \u001b[38;5;8m┌                                        ┐\u001b[0m \n",
       "   [-45.0, -40.0) \u001b[38;5;8m┤\u001b[0m\u001b[38;5;2m\u001b[0m\u001b[38;5;2m▏\u001b[0m 1                                     \u001b[38;5;8m \u001b[0m \u001b[38;5;8m\u001b[0m\n",
       "   [-40.0, -35.0) \u001b[38;5;8m┤\u001b[0m\u001b[38;5;2m\u001b[0m\u001b[38;5;2m \u001b[0m 0                                     \u001b[38;5;8m \u001b[0m \u001b[38;5;8m\u001b[0m\n",
       "   [-35.0, -30.0) \u001b[38;5;8m┤\u001b[0m\u001b[38;5;2m\u001b[0m\u001b[38;5;2m▏\u001b[0m 1                                     \u001b[38;5;8m \u001b[0m \u001b[38;5;8m\u001b[0m\n",
       "   [-30.0, -25.0) \u001b[38;5;8m┤\u001b[0m\u001b[38;5;2m\u001b[0m\u001b[38;5;2m▏\u001b[0m 1                                     \u001b[38;5;8m \u001b[0m \u001b[38;5;8m\u001b[0m\n",
       "   [-25.0, -20.0) \u001b[38;5;8m┤\u001b[0m\u001b[38;5;2m\u001b[0m\u001b[38;5;2m▎\u001b[0m 5                                     \u001b[38;5;8m \u001b[0m \u001b[38;5;8m\u001b[0m\n",
       "   [-20.0, -15.0) \u001b[38;5;8m┤\u001b[0m\u001b[38;5;2m\u001b[0m\u001b[38;5;2m▍\u001b[0m 12                                    \u001b[38;5;8m \u001b[0m \u001b[38;5;8m\u001b[0m\n",
       "   [-15.0, -10.0) \u001b[38;5;8m┤\u001b[0m\u001b[38;5;2m\u001b[0m\u001b[38;5;2m▊\u001b[0m 31                                    \u001b[38;5;8m \u001b[0m \u001b[38;5;8m\u001b[0m\n",
       "   [-10.0,  -5.0) \u001b[38;5;8m┤\u001b[0m\u001b[38;5;2m█████\u001b[0m\u001b[38;5;2m▏\u001b[0m 196                              \u001b[38;5;8m \u001b[0m \u001b[38;5;8m\u001b[0m\n",
       "   [ -5.0,   0.0) \u001b[38;5;8m┤\u001b[0m\u001b[38;5;2m█████████████████████████\u001b[0m\u001b[38;5;2m▎\u001b[0m 979          \u001b[38;5;8m \u001b[0m \u001b[38;5;8m\u001b[0m\n",
       "   [  0.0,   5.0) \u001b[38;5;8m┤\u001b[0m\u001b[38;5;2m█████████████████████████████████\u001b[0m\u001b[38;5;2m \u001b[0m 1 281\u001b[38;5;8m \u001b[0m \u001b[38;5;8m\u001b[0m\n",
       "   [  5.0,  10.0) \u001b[38;5;8m┤\u001b[0m\u001b[38;5;2m█████\u001b[0m\u001b[38;5;2m▋\u001b[0m 223                              \u001b[38;5;8m \u001b[0m \u001b[38;5;8m\u001b[0m\n",
       "   [ 10.0,  15.0) \u001b[38;5;8m┤\u001b[0m\u001b[38;5;2m\u001b[0m\u001b[38;5;2m▌\u001b[0m 22                                    \u001b[38;5;8m \u001b[0m \u001b[38;5;8m\u001b[0m\n",
       "   [ 15.0,  20.0) \u001b[38;5;8m┤\u001b[0m\u001b[38;5;2m\u001b[0m\u001b[38;5;2m▍\u001b[0m 11                                    \u001b[38;5;8m \u001b[0m \u001b[38;5;8m\u001b[0m\n",
       "   [ 20.0,  25.0) \u001b[38;5;8m┤\u001b[0m\u001b[38;5;2m\u001b[0m\u001b[38;5;2m▏\u001b[0m 3                                     \u001b[38;5;8m \u001b[0m \u001b[38;5;8m\u001b[0m\n",
       "                  \u001b[38;5;8m└                                        ┘\u001b[0m \n",
       "                                   Frequency                 "
      ]
     },
     "execution_count": 139,
     "metadata": {},
     "output_type": "execute_result"
    }
   ],
   "source": [
    "UnicodePlots.histogram(log_growth_array, nbins=25, closed=:left)"
   ]
  },
  {
   "cell_type": "markdown",
   "id": "11f6b033",
   "metadata": {},
   "source": [
    "### Build binomial lattice model using historical parameters\n",
    "Let's construct an instance of [the `MyBinomialEquityPriceTree` type](https://varnerlab.github.io/VLQuantitativeFinancePackage.jl/dev/equity/#VLQuantitativeFinancePackage.MyBinomialEquityPriceTree) using the estimated values for the parameters ($\\bar{u}$, $\\bar{d}$, $\\bar{p}$) from above. \n",
    "\n",
    "This will enable us to calculate the prices and probabilities in the tree. We store the populated model in the variable `random_test_model` for future use.\n",
    "\n",
    "First, specify the `start_index::Int64` as the trading day index in the dataset, which will serve as the tree's starting point or `L = 0`. For reproducibility, let's hard-code this value as `start_index = 1187`, which corresponds to the trading day `2018-09-19` for our dataset."
   ]
  },
  {
   "cell_type": "code",
   "execution_count": 97,
   "id": "7d035414",
   "metadata": {},
   "outputs": [
    {
     "name": "stdout",
     "output_type": "stream",
     "text": [
      "Visualize Firm-8 between trading days (1187 -> 1250)\n"
     ]
    }
   ],
   "source": [
    "start_index = 1187; # DO NOT CHANGE hardcoded start-time for reproducibility\n",
    "stop_index = start_index + TSIM # TSIM defines the number of trading days to simulate\n",
    "println(\"Visualize Firm-$(random_firm_index) between trading days ($(start_index) -> $(stop_index))\")"
   ]
  },
  {
   "cell_type": "markdown",
   "id": "e0f0ed50",
   "metadata": {},
   "source": [
    "Next, let's build and populate the binomial lattice model using the estimated parameters and the initial share price $S_{0}$, which we set as the volume-weighted average price (VWAP) on the `start_index` trading day.\n",
    "\n",
    "We save the populated model in the `random_test_model::MyBinomialEquityPriceTree` variable:"
   ]
  },
  {
   "cell_type": "code",
   "execution_count": 99,
   "id": "680553f5",
   "metadata": {},
   "outputs": [],
   "source": [
    "random_test_model = let\n",
    "\n",
    "    # initialize -\n",
    "    model = nothing;\n",
    "    Sₒ = random_firm_data[start_index, :volume_weighted_average_price]; # set the initial share price\n",
    "    \n",
    "    \n",
    "    # TODO: Uncomment the line below and re-run this cell to build and populate the binomial equity price tree model\n",
    "    # TODO: using the (ū, d̄, p̄) values computed above (real-world parameters)\n",
    "    model = build(MyBinomialEquityPriceTree, (\n",
    "        u = ū, d = d̄, p = p̄)) |> (model -> populate(model, Sₒ = Sₒ, h = TSIM));\n",
    "    \n",
    "    \n",
    "    model; # return\n",
    "end;"
   ]
  },
  {
   "cell_type": "code",
   "execution_count": 143,
   "id": "907f5a19-fff1-4ec9-8389-34e2ece82a1b",
   "metadata": {},
   "outputs": [
    {
     "data": {
      "text/plain": [
       "(:u, :d, :p, :μ, :T, :connectivity, :levels, :ΔT, :data)"
      ]
     },
     "execution_count": 143,
     "metadata": {},
     "output_type": "execute_result"
    }
   ],
   "source": [
    "typeof(random_test_model) |> T-> fieldnames(T)"
   ]
  },
  {
   "cell_type": "markdown",
   "id": "9d98eb5b",
   "metadata": {},
   "source": [
    "## Task 2: Compute cumulative probability of achieving target return\n",
    "In this task, we'll compute the probability of achieving at least a target fractional return $r_{\\star}$ over a holding period of $T = i\\Delta{t}$. This probability, denoted as $P(r > r_{\\star})$, is computed as:\n",
    "\n",
    "With $k\\sim\\texttt{Binomial}(i,p)$, the cumulative probability is the binomial tail:\n",
    "$$\n",
    "\\boxed{\n",
    "\\mathbb P\\!\\left(\\frac{\\texttt{NPV}(\\bar r,T)}{n_{o}S_{0}}>r_\\star\\right)\n",
    "=\\sum_{k=k_{\\min}}^{i}\\binom{i}{k}p^{k}(1-p)^{\\,i-k}\n",
    "=1-\\sum_{k=0}^{k_{\\min}-1}\\binom{i}{k}p^{k}(1-p)^{\\,i-k}.\n",
    "}\n",
    "$$\n",
    "where $k_{\\min}$ is the minimum number of `up` moves required to achieve at least the target return $r_{\\star}$ over the holding period $T = i\\Delta{t}$. The smallest integer that clears the $r>r_{\\star}$ bar is:\n",
    "$$\n",
    "\\boxed{\n",
    "k_{\\min} = \\lfloor \\tau(r_{\\star}) \\rfloor + 1\n",
    "}\\quad\\text{(clamp to $[0,i]$).}\n",
    "$$\n",
    "where $\\tau(r_{\\star})$ is given by:\n",
    "$$\n",
    "\\tau(r_{\\star}) = \\frac{\\ln(1+r_\\star)+\\bar r\\,i\\,\\Delta t - i\\ln d}{\\ln(u/d)}.\n",
    "$$\n",
    "Let's set a target fractional return over the holding period. We store this value in the `f₊::Float64` variable:"
   ]
  },
  {
   "cell_type": "code",
   "execution_count": 101,
   "id": "4f58bae7",
   "metadata": {},
   "outputs": [],
   "source": [
    "f₊ = -0.05; # target return over the simulation horizon"
   ]
  },
  {
   "cell_type": "markdown",
   "id": "bbdd3ed3",
   "metadata": {},
   "source": [
    "Next, we'll compute the minimum number of `up` moves $k_{\\min}$ required to achieve at least the target return $r_{\\star}$ over the holding period $T = i\\Delta{t}$. We store this value in the `kmin::Int64` variable:"
   ]
  },
  {
   "cell_type": "code",
   "execution_count": 145,
   "id": "44384bc9",
   "metadata": {},
   "outputs": [],
   "source": [
    "kmin = let \n",
    "\n",
    "    # initialize -\n",
    "    i = TSIM;\n",
    "    N = log(1.0 + f₊) + r̄*i*Δt - i*log(d̄);\n",
    "    D = log(ū) - log(d̄);\n",
    "    k = floor(Int, N/D)+1; # round to nearest integer\n",
    "    \n",
    "    min(max(k,0),i); # clamped return\n",
    "end;"
   ]
  },
  {
   "cell_type": "code",
   "execution_count": 104,
   "id": "073da312",
   "metadata": {},
   "outputs": [
    {
     "name": "stdout",
     "output_type": "stream",
     "text": [
      "Minimum `up` moves to achieve at least the target return -5.0% over period T = 63.0 trading days is kmin = 32\n"
     ]
    }
   ],
   "source": [
    "println(\"Minimum `up` moves to achieve at least the target return $(f₊*100)% over period T = $(TSIM*Δt*252) trading days is kmin = $(kmin)\")"
   ]
  },
  {
   "cell_type": "markdown",
   "id": "0ff47843",
   "metadata": {},
   "source": [
    "The probability of achieving at least the target return $r_{\\star}$ over the holding period $T = i\\Delta{t}$ is then calculated and stored in the `test_probability::Float64` variable:"
   ]
  },
  {
   "cell_type": "code",
   "execution_count": 147,
   "id": "c061dd9b",
   "metadata": {},
   "outputs": [],
   "source": [
    "test_probability = let \n",
    "    \n",
    "    # Calculate probability using binomial distribution\n",
    "    total_periods = TSIM\n",
    "    probability_sum = 0.0\n",
    "    \n",
    "    # Sum probabilities for all scenarios with k or more up moves\n",
    "    for num_up_moves ∈ kmin:total_periods\n",
    "        binomial_coeff = binomial(total_periods, num_up_moves)\n",
    "        up_probability = p̄^num_up_moves\n",
    "        down_probability = (1.0 - p̄)^(total_periods - num_up_moves)\n",
    "        probability_sum += binomial_coeff * up_probability * down_probability\n",
    "    end \n",
    "    \n",
    "    probability_sum\n",
    "end;"
   ]
  },
  {
   "cell_type": "code",
   "execution_count": 149,
   "id": "30b34b4f",
   "metadata": {},
   "outputs": [
    {
     "name": "stdout",
     "output_type": "stream",
     "text": [
      "Probability of achieving at least the target return -5.0% over the holding period T = 63.0 trading days is P = 81.7947%\n"
     ]
    }
   ],
   "source": [
    "println(\"Probability of achieving at least the target return $(f₊*100)% over the holding period T = $(TSIM*Δt*252) trading days is P = $(round(test_probability*100, digits=4))%\")"
   ]
  },
  {
   "cell_type": "markdown",
   "id": "6258f709",
   "metadata": {},
   "source": [
    "Let's compute the probability that the fractional return is greater than various target values over the holding period of `TSIM` trading days. We'll store the results in the `P::Array{Float64,2}` array where the first column is the fractional return and the second column is the corresponding probability."
   ]
  },
  {
   "cell_type": "code",
   "execution_count": 109,
   "id": "8045be82",
   "metadata": {},
   "outputs": [],
   "source": [
    "P = let\n",
    "\n",
    "    # initialize -\n",
    "    total_periods = TSIM;\n",
    "    number_of_target_returns = 9;\n",
    "    f = range(-0.05, stop = 0.15, length = number_of_target_returns) |> collect; # target return values;\n",
    "    R = Array{Float64,2}(undef, number_of_target_returns, 2); # array to hold cumulative probabilities\n",
    "    \n",
    "    # main loop - iterate through each target return, compute kmin, then compute cumulative probability\n",
    "    for r ∈ eachindex(f)\n",
    "        \n",
    "        # compute kmin for this target return\n",
    "        N = log(1.0 + f[r]) + r̄*total_periods*Δt - total_periods*log(d̄);\n",
    "        D = log(ū) - log(d̄);\n",
    "        k = floor(Int, N/D) + 1; # floor to nearest integer + 1\n",
    "        kmin = min(max(k,0),total_periods); # clamp to [0,total_periods]\n",
    "        \n",
    "        # compute cumulative probability of achieving this target return\n",
    "        probability_sum = 0.0;\n",
    "        for num_up_moves ∈ kmin:total_periods\n",
    "            binomial_coeff = binomial(total_periods, num_up_moves);\n",
    "            up_probability = p̄^num_up_moves;\n",
    "            down_probability = (1.0 - p̄)^(total_periods - num_up_moves);\n",
    "            probability_sum += binomial_coeff * up_probability * down_probability;\n",
    "        end \n",
    "        R[r,1] = f[r]; # store target return\n",
    "        R[r,2] = probability_sum; # store probability\n",
    "    end\n",
    "\n",
    "    R;\n",
    "end;"
   ]
  },
  {
   "cell_type": "markdown",
   "id": "1269bf2f",
   "metadata": {},
   "source": [
    "Finally, let's create a table of the results using [the `pretty_table(...)` function from the `PrettyTables.jl` package](https://github.com/ronisbr/PrettyTables.jl)."
   ]
  },
  {
   "cell_type": "code",
   "execution_count": 111,
   "id": "81aa7459",
   "metadata": {},
   "outputs": [
    {
     "name": "stdout",
     "output_type": "stream",
     "text": [
      " --------------- ---------- ----------\n",
      " \u001b[1m target_return \u001b[0m \u001b[1m        P \u001b[0m \u001b[1m        P̄ \u001b[0m\n",
      " \u001b[90m       Float64 \u001b[0m \u001b[90m  Float64 \u001b[0m \u001b[90m  Float64 \u001b[0m\n",
      " --------------- ---------- ----------\n",
      "          -0.05   0.817947   0.182053\n",
      "         -0.025   0.743948   0.256052\n",
      "            0.0   0.656631   0.343369\n",
      "          0.025   0.559853   0.440147\n",
      "           0.05   0.459129   0.540871\n",
      "          0.075   0.360723   0.639277\n",
      "            0.1   0.270522   0.729478\n",
      "          0.125   0.192998   0.807002\n",
      "           0.15   0.130576   0.869424\n",
      " --------------- ---------- ----------\n"
     ]
    }
   ],
   "source": [
    "let\n",
    "\n",
    "    # initialize -\n",
    "    df = DataFrame();\n",
    "\n",
    "    for r ∈ eachrow(P)\n",
    "        row_df = (\n",
    "            target_return = r[1],\n",
    "            P = r[2],\n",
    "            P̄ = 1.0 - r[2],\n",
    "        );\n",
    "        push!(df, row_df);\n",
    "    end\n",
    "\n",
    "      # display the table -\n",
    "    pretty_table(df, backend = :text,\n",
    "         table_format = TextTableFormat(borders = text_table_borders__compact));    \n",
    "end"
   ]
  },
  {
   "cell_type": "markdown",
   "id": "2f2d8057",
   "metadata": {},
   "source": [
    "## Summary\n",
    "In this notebook, we demonstrated how to use historical stock data to build binomial lattice models for probability analysis. \n",
    "\n",
    "> __Key takeaways__\n",
    ">\n",
    "> * **Historical Parameter Estimation**: We extracted realistic up factors, down factors, and probabilities from S&P 500 data, providing a data-driven foundation for our binomial models.\n",
    "> * **Binomial Lattice Construction**: We built and populated equity price trees using historical parameters, enabling simulation of future stock price movements over specified time horizons.\n",
    "> * **Risk Assessment Tools**: We calculated cumulative probabilities for achieving target returns using binomial distributions, providing quantitative insights into investment outcomes.\n",
    "\n",
    "Understanding how to estimate parameters from real data and compute outcome probabilities is essential for making informed investment decisions.\n",
    "\n",
    "___"
   ]
  },
  {
   "cell_type": "markdown",
   "id": "46ef69de",
   "metadata": {},
   "source": [
    "## Disclaimer and Risks\n",
    "__This content is offered solely for training and informational purposes__. No offer or solicitation to buy or sell securities or derivative products, or any investment or trading advice or strategy, is made, given, or endorsed by the teaching team. \n",
    "\n",
    "__Trading involves risk__. Carefully review your financial situation before investing in securities, futures contracts, options, or commodity interests. Past performance, whether actual or indicated by historical tests of strategies, is no guarantee of future performance or success. Trading is generally inappropriate for someone with limited resources, investment or trading experience, or a low-risk tolerance. Only risk capital that is not required for living expenses should be used.\n",
    "\n",
    "__You are fully responsible for any investment or trading decisions you make__. Such decisions should be based solely on evaluating your financial circumstances, investment or trading objectives, risk tolerance, and liquidity needs."
   ]
  }
 ],
 "metadata": {
  "kernelspec": {
   "display_name": "Julia 1.11.7",
   "language": "julia",
   "name": "julia-1.11"
  },
  "language_info": {
   "file_extension": ".jl",
   "mimetype": "application/julia",
   "name": "julia",
   "version": "1.11.7"
  }
 },
 "nbformat": 4,
 "nbformat_minor": 5
}
