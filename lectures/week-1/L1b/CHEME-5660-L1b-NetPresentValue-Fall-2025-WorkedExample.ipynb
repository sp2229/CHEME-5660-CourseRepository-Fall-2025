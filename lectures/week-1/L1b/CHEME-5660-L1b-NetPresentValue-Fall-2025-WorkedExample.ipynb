{
 "cells": [
  {
   "cell_type": "markdown",
   "id": "66258683-cfa8-4a0d-9087-13e118c23240",
   "metadata": {},
   "source": [
    "# Example: Net Present Value for a Tesla Model S\n",
    "In this example, we'll compute the [Net Present Value (NPV)](https://en.wikipedia.org/wiki/Net_present_value) for purchasing, owning and selling a [2025 Tesla Model S](https://www.tesla.com/models). In particular, using the Abstract Asset approach, we'll compute the cash flow events associated with purchasing, owning, and selling the [Model S](https://www.tesla.com/models). Is purchasing a [Model S](https://www.tesla.com/models) a good investment? I think we should find out.\n",
    "\n",
    "### Learning objectives\n",
    "This example will familiarize students with computing the [Net Present Value (NPV)](https://en.wikipedia.org/wiki/Net_present_value), i.e., stipulating the net cash flow events, computing the discount factors for different periods and ultimately computing the net present value.\n",
    "* __Prerequisite__: Setup problem components and constants. Before we do the [Net Present Value (NPV) calculation](https://en.wikipedia.org/wiki/Net_present_value#:~:text=NPV%20is%20the%20sum%20of,NPV%20results%20in%20a%20loss.), we'll set up some components and constants that we'll use later.\n",
    "* __Task 1__: Setup the Cash Flow Dictionary. In this task, we specify some values for the cash flow events we observe over the lifetime of owning the [Tesla Model S](https://www.tesla.com/models). Then, we construct a net cash flow dictionary that holds the net values for the cash flow events during each period.\n",
    "* __Task 2__: In this task, we compute a dictionary of discount factor $\\mathcal{D}_{j,0}(\\bar{r})$ values using the time and discount rate data specified in the Prerequisites section.\n",
    "* __Task 3__: In this task, we'll compute the net present value (NPV) for the [Tesla Model S](https://www.tesla.com/models) and answer some discussion questions about how the value may change if we change our assumptions and how we should interpret the values produced by the calculation.\n",
    "\n",
    "___"
   ]
  },
  {
   "cell_type": "markdown",
   "id": "132f2754-8f99-431b-b2fd-27d801ce6b41",
   "metadata": {},
   "source": [
    "## Setup, Data, and Prerequisites\n",
    "We set up the computational environment by including the `Include.jl` file, loading any needed resources, such as sample datasets, and setting up any required constants. \n",
    "\n",
    "> The `Include.jl` file also loads external packages, various functions that we will use in the exercise, and custom types to model the components of our problem. It checks for a `Manifest.toml` file; if it finds one, packages are loaded. Otherwise, packages are downloaded and then loaded."
   ]
  },
  {
   "cell_type": "code",
<<<<<<< Updated upstream
   "execution_count": 3,
=======
   "execution_count": 1,
>>>>>>> Stashed changes
   "id": "f7283455-7b61-4e90-85cb-828cdd1c2fba",
   "metadata": {},
   "outputs": [
    {
     "name": "stderr",
     "output_type": "stream",
     "text": [
      "\u001b[32m\u001b[1m     Cloning\u001b[22m\u001b[39m git-repo `https://github.com/varnerlab/VLQuantitativeFinancePackage.jl.git`\n",
      "\u001b[32m\u001b[1m    Updating\u001b[22m\u001b[39m git-repo `https://github.com/varnerlab/VLQuantitativeFinancePackage.jl.git`\n",
      "\u001b[32m\u001b[1m   Resolving\u001b[22m\u001b[39m package versions...\n",
      "\u001b[32m\u001b[1m   Installed\u001b[22m\u001b[39m HypergeometricFunctions ───── v0.3.28\n",
      "\u001b[32m\u001b[1m   Installed\u001b[22m\u001b[39m Rmath ─────────────────────── v0.8.0\n",
      "\u001b[32m\u001b[1m   Installed\u001b[22m\u001b[39m Adapt ─────────────────────── v4.3.0\n",
      "\u001b[32m\u001b[1m   Installed\u001b[22m\u001b[39m DiffRules ─────────────────── v1.15.1\n",
      "\u001b[32m\u001b[1m   Installed\u001b[22m\u001b[39m JLD2 ──────────────────────── v0.5.15\n",
      "\u001b[32m\u001b[1m   Installed\u001b[22m\u001b[39m MutableArithmetics ────────── v1.6.4\n",
      "\u001b[32m\u001b[1m   Installed\u001b[22m\u001b[39m PrettyTables ──────────────── v2.4.0\n",
      "\u001b[32m\u001b[1m   Installed\u001b[22m\u001b[39m JSON3 ─────────────────────── v1.14.3\n",
      "\u001b[32m\u001b[1m   Installed\u001b[22m\u001b[39m TableTraits ───────────────── v1.0.1\n",
      "\u001b[32m\u001b[1m   Installed\u001b[22m\u001b[39m DiffResults ───────────────── v1.1.0\n",
      "\u001b[32m\u001b[1m   Installed\u001b[22m\u001b[39m StatsFuns ─────────────────── v1.5.0\n",
      "\u001b[32m\u001b[1m   Installed\u001b[22m\u001b[39m PositiveFactorizations ────── v0.2.4\n",
      "\u001b[32m\u001b[1m   Installed\u001b[22m\u001b[39m ADTypes ───────────────────── v1.17.0\n",
      "\u001b[32m\u001b[1m   Installed\u001b[22m\u001b[39m SolverCore ────────────────── v0.3.8\n",
      "\u001b[32m\u001b[1m   Installed\u001b[22m\u001b[39m Bzip2_jll ─────────────────── v1.0.9+0\n",
      "\u001b[32m\u001b[1m   Installed\u001b[22m\u001b[39m CodecBzip2 ────────────────── v0.8.5\n",
      "\u001b[32m\u001b[1m   Installed\u001b[22m\u001b[39m SpecialFunctions ──────────── v2.5.1\n",
      "\u001b[32m\u001b[1m   Installed\u001b[22m\u001b[39m SentinelArrays ────────────── v1.4.8\n",
      "\u001b[32m\u001b[1m   Installed\u001b[22m\u001b[39m Tables ────────────────────── v1.12.1\n",
      "\u001b[32m\u001b[1m   Installed\u001b[22m\u001b[39m BenchmarkTools ────────────── v1.6.0\n",
      "\u001b[32m\u001b[1m   Installed\u001b[22m\u001b[39m Setfield ──────────────────── v1.1.2\n",
      "\u001b[32m\u001b[1m   Installed\u001b[22m\u001b[39m PooledArrays ──────────────── v1.4.3\n",
      "\u001b[32m\u001b[1m   Installed\u001b[22m\u001b[39m PDMats ────────────────────── v0.11.35\n",
      "\u001b[32m\u001b[1m   Installed\u001b[22m\u001b[39m HashArrayMappedTries ──────── v0.2.0\n",
      "\u001b[32m\u001b[1m   Installed\u001b[22m\u001b[39m InlineStrings ─────────────── v1.4.5\n",
      "\u001b[32m\u001b[1m   Installed\u001b[22m\u001b[39m TimerOutputs ──────────────── v0.5.29\n",
      "\u001b[32m\u001b[1m   Installed\u001b[22m\u001b[39m Optim ─────────────────────── v1.13.2\n",
      "\u001b[32m\u001b[1m   Installed\u001b[22m\u001b[39m EnumX ─────────────────────── v1.0.5\n",
      "\u001b[32m\u001b[1m   Installed\u001b[22m\u001b[39m DataValueInterfaces ───────── v1.0.0\n",
      "\u001b[32m\u001b[1m   Installed\u001b[22m\u001b[39m IteratorInterfaceExtensions ─ v1.0.0\n",
      "\u001b[32m\u001b[1m   Installed\u001b[22m\u001b[39m WorkerUtilities ───────────── v1.6.1\n",
      "\u001b[32m\u001b[1m   Installed\u001b[22m\u001b[39m ConstructionBase ──────────── v1.6.0\n",
      "\u001b[32m\u001b[1m   Installed\u001b[22m\u001b[39m TranscodingStreams ────────── v0.11.3\n",
      "\u001b[32m\u001b[1m   Installed\u001b[22m\u001b[39m LaTeXStrings ──────────────── v1.4.0\n",
      "\u001b[32m\u001b[1m   Installed\u001b[22m\u001b[39m FastClosures ──────────────── v0.3.2\n",
      "\u001b[32m\u001b[1m   Installed\u001b[22m\u001b[39m InvertedIndices ───────────── v1.3.1\n",
      "\u001b[32m\u001b[1m   Installed\u001b[22m\u001b[39m ScopedValues ──────────────── v1.5.0\n",
      "\u001b[32m\u001b[1m   Installed\u001b[22m\u001b[39m NLSolversBase ─────────────── v7.10.0\n",
      "\u001b[32m\u001b[1m   Installed\u001b[22m\u001b[39m FileIO ────────────────────── v1.17.0\n",
      "\u001b[32m\u001b[1m   Installed\u001b[22m\u001b[39m FilePathsBase ─────────────── v0.9.24\n",
      "\u001b[32m\u001b[1m   Installed\u001b[22m\u001b[39m ArrayInterface ────────────── v7.19.0\n",
      "\u001b[32m\u001b[1m   Installed\u001b[22m\u001b[39m ForwardDiff ───────────────── v1.1.0\n",
      "\u001b[32m\u001b[1m   Installed\u001b[22m\u001b[39m QuadGK ────────────────────── v2.11.2\n",
      "\u001b[32m\u001b[1m   Installed\u001b[22m\u001b[39m FillArrays ────────────────── v1.13.0\n",
      "\u001b[32m\u001b[1m   Installed\u001b[22m\u001b[39m Rmath_jll ─────────────────── v0.5.1+0\n",
      "\u001b[32m\u001b[1m   Installed\u001b[22m\u001b[39m LineSearches ──────────────── v7.4.0\n",
      "\u001b[32m\u001b[1m   Installed\u001b[22m\u001b[39m LinearOperators ───────────── v2.11.0\n",
      "\u001b[32m\u001b[1m   Installed\u001b[22m\u001b[39m DataFrames ────────────────── v1.7.1\n",
      "\u001b[32m\u001b[1m   Installed\u001b[22m\u001b[39m JuMP ──────────────────────── v1.28.0\n",
      "\u001b[32m\u001b[1m   Installed\u001b[22m\u001b[39m WeakRefStrings ────────────── v1.4.2\n",
      "\u001b[32m\u001b[1m   Installed\u001b[22m\u001b[39m MacroTools ────────────────── v0.5.16\n",
      "\u001b[32m\u001b[1m   Installed\u001b[22m\u001b[39m CommonSubexpressions ──────── v0.3.1\n",
      "\u001b[32m\u001b[1m   Installed\u001b[22m\u001b[39m ExprTools ─────────────────── v0.1.10\n",
      "\u001b[32m\u001b[1m   Installed\u001b[22m\u001b[39m Compat ────────────────────── v4.18.0\n",
      "\u001b[32m\u001b[1m   Installed\u001b[22m\u001b[39m OpenSpecFun_jll ───────────── v0.5.6+0\n",
      "\u001b[32m\u001b[1m   Installed\u001b[22m\u001b[39m UnPack ────────────────────── v1.0.2\n",
      "\u001b[32m\u001b[1m   Installed\u001b[22m\u001b[39m Parameters ────────────────── v0.12.3\n",
      "\u001b[32m\u001b[1m   Installed\u001b[22m\u001b[39m CSV ───────────────────────── v0.10.15\n",
      "\u001b[32m\u001b[1m   Installed\u001b[22m\u001b[39m Distributions ─────────────── v0.25.120\n",
      "\u001b[32m\u001b[1m   Installed\u001b[22m\u001b[39m MadNLP ────────────────────── v0.7.0\n",
      "\u001b[32m\u001b[1m   Installed\u001b[22m\u001b[39m LsqFit ────────────────────── v0.15.1\n",
      "\u001b[32m\u001b[1m   Installed\u001b[22m\u001b[39m CodecZlib ─────────────────── v0.7.8\n",
      "\u001b[32m\u001b[1m   Installed\u001b[22m\u001b[39m StringManipulation ────────── v0.4.1\n",
      "\u001b[32m\u001b[1m   Installed\u001b[22m\u001b[39m StructTypes ───────────────── v1.11.0\n",
      "\u001b[32m\u001b[1m   Installed\u001b[22m\u001b[39m FiniteDiff ────────────────── v2.28.1\n",
      "\u001b[32m\u001b[1m   Installed\u001b[22m\u001b[39m DifferentiationInterface ──── v0.7.7\n",
      "\u001b[32m\u001b[1m   Installed\u001b[22m\u001b[39m MathOptInterface ──────────── v1.43.0\n",
      "\u001b[32m\u001b[1m   Installed\u001b[22m\u001b[39m NLPModels ─────────────────── v0.20.0\n",
      "\u001b[32m\u001b[1m    Updating\u001b[22m\u001b[39m `~/.julia/environments/v1.11/Project.toml`\n",
      "  \u001b[90m[4119e0bf] \u001b[39m\u001b[92m+ VLQuantitativeFinancePackage v1.0.0-DEV `https://github.com/varnerlab/VLQuantitativeFinancePackage.jl.git#main`\u001b[39m\n",
      "\u001b[32m\u001b[1m    Updating\u001b[22m\u001b[39m `~/.julia/environments/v1.11/Manifest.toml`\n",
      "  \u001b[90m[47edcb42] \u001b[39m\u001b[92m+ ADTypes v1.17.0\u001b[39m\n",
      "  \u001b[90m[79e6a3ab] \u001b[39m\u001b[92m+ Adapt v4.3.0\u001b[39m\n",
      "  \u001b[90m[66dad0bd] \u001b[39m\u001b[92m+ AliasTables v1.1.3\u001b[39m\n",
      "  \u001b[90m[4fba245c] \u001b[39m\u001b[92m+ ArrayInterface v7.19.0\u001b[39m\n",
      "  \u001b[90m[6e4b80f9] \u001b[39m\u001b[92m+ BenchmarkTools v1.6.0\u001b[39m\n",
      "  \u001b[90m[336ed68f] \u001b[39m\u001b[92m+ CSV v0.10.15\u001b[39m\n",
      "  \u001b[90m[523fee87] \u001b[39m\u001b[92m+ CodecBzip2 v0.8.5\u001b[39m\n",
      "  \u001b[90m[944b1d66] \u001b[39m\u001b[92m+ CodecZlib v0.7.8\u001b[39m\n",
      "  \u001b[90m[bbf7d656] \u001b[39m\u001b[92m+ CommonSubexpressions v0.3.1\u001b[39m\n",
      "  \u001b[90m[34da2185] \u001b[39m\u001b[92m+ Compat v4.18.0\u001b[39m\n",
      "  \u001b[90m[187b0558] \u001b[39m\u001b[92m+ ConstructionBase v1.6.0\u001b[39m\n",
      "  \u001b[90m[a8cc5b0e] \u001b[39m\u001b[92m+ Crayons v4.1.1\u001b[39m\n",
      "  \u001b[90m[9a962f9c] \u001b[39m\u001b[92m+ DataAPI v1.16.0\u001b[39m\n",
      "  \u001b[90m[a93c6f00] \u001b[39m\u001b[92m+ DataFrames v1.7.1\u001b[39m\n",
      "  \u001b[90m[864edb3b] \u001b[39m\u001b[92m+ DataStructures v0.19.1\u001b[39m\n",
      "  \u001b[90m[e2d170a0] \u001b[39m\u001b[92m+ DataValueInterfaces v1.0.0\u001b[39m\n",
      "  \u001b[90m[163ba53b] \u001b[39m\u001b[92m+ DiffResults v1.1.0\u001b[39m\n",
      "  \u001b[90m[b552c78f] \u001b[39m\u001b[92m+ DiffRules v1.15.1\u001b[39m\n",
      "  \u001b[90m[a0c0ee7d] \u001b[39m\u001b[92m+ DifferentiationInterface v0.7.7\u001b[39m\n",
      "  \u001b[90m[31c24e10] \u001b[39m\u001b[92m+ Distributions v0.25.120\u001b[39m\n",
      "  \u001b[90m[ffbed154] \u001b[39m\u001b[92m+ DocStringExtensions v0.9.5\u001b[39m\n",
      "  \u001b[90m[4e289a0a] \u001b[39m\u001b[92m+ EnumX v1.0.5\u001b[39m\n",
      "  \u001b[90m[e2ba6199] \u001b[39m\u001b[92m+ ExprTools v0.1.10\u001b[39m\n",
      "  \u001b[90m[9aa1b823] \u001b[39m\u001b[92m+ FastClosures v0.3.2\u001b[39m\n",
      "  \u001b[90m[5789e2e9] \u001b[39m\u001b[92m+ FileIO v1.17.0\u001b[39m\n",
      "  \u001b[90m[48062228] \u001b[39m\u001b[92m+ FilePathsBase v0.9.24\u001b[39m\n",
      "  \u001b[90m[1a297f60] \u001b[39m\u001b[92m+ FillArrays v1.13.0\u001b[39m\n",
      "  \u001b[90m[6a86dc24] \u001b[39m\u001b[92m+ FiniteDiff v2.28.1\u001b[39m\n",
      "  \u001b[90m[f6369f11] \u001b[39m\u001b[92m+ ForwardDiff v1.1.0\u001b[39m\n",
      "  \u001b[90m[076d061b] \u001b[39m\u001b[92m+ HashArrayMappedTries v0.2.0\u001b[39m\n",
      "  \u001b[90m[34004b35] \u001b[39m\u001b[92m+ HypergeometricFunctions v0.3.28\u001b[39m\n",
      "  \u001b[90m[842dd82b] \u001b[39m\u001b[92m+ InlineStrings v1.4.5\u001b[39m\n",
      "  \u001b[90m[41ab1584] \u001b[39m\u001b[92m+ InvertedIndices v1.3.1\u001b[39m\n",
      "  \u001b[90m[92d709cd] \u001b[39m\u001b[92m+ IrrationalConstants v0.2.4\u001b[39m\n",
      "  \u001b[90m[82899510] \u001b[39m\u001b[92m+ IteratorInterfaceExtensions v1.0.0\u001b[39m\n",
      "\u001b[32m⌃\u001b[39m \u001b[90m[033835bb] \u001b[39m\u001b[92m+ JLD2 v0.5.15\u001b[39m\n",
      "  \u001b[90m[0f8b85d8] \u001b[39m\u001b[92m+ JSON3 v1.14.3\u001b[39m\n",
      "  \u001b[90m[4076af6c] \u001b[39m\u001b[92m+ JuMP v1.28.0\u001b[39m\n",
      "  \u001b[90m[b964fa9f] \u001b[39m\u001b[92m+ LaTeXStrings v1.4.0\u001b[39m\n",
      "  \u001b[90m[d3d80556] \u001b[39m\u001b[92m+ LineSearches v7.4.0\u001b[39m\n",
      "  \u001b[90m[5c8ed15e] \u001b[39m\u001b[92m+ LinearOperators v2.11.0\u001b[39m\n",
      "  \u001b[90m[2ab3a3ac] \u001b[39m\u001b[92m+ LogExpFunctions v0.3.29\u001b[39m\n",
      "  \u001b[90m[2fda8390] \u001b[39m\u001b[92m+ LsqFit v0.15.1\u001b[39m\n",
      "  \u001b[90m[1914dd2f] \u001b[39m\u001b[92m+ MacroTools v0.5.16\u001b[39m\n",
      "\u001b[32m⌃\u001b[39m \u001b[90m[2621e9c9] \u001b[39m\u001b[92m+ MadNLP v0.7.0\u001b[39m\n",
      "  \u001b[90m[b8f27783] \u001b[39m\u001b[92m+ MathOptInterface v1.43.0\u001b[39m\n",
      "  \u001b[90m[e1d29d7a] \u001b[39m\u001b[92m+ Missings v1.2.0\u001b[39m\n",
      "  \u001b[90m[d8a4904e] \u001b[39m\u001b[92m+ MutableArithmetics v1.6.4\u001b[39m\n",
      "\u001b[33m⌅\u001b[39m \u001b[90m[a4795742] \u001b[39m\u001b[92m+ NLPModels v0.20.0\u001b[39m\n",
      "  \u001b[90m[d41bc354] \u001b[39m\u001b[92m+ NLSolversBase v7.10.0\u001b[39m\n",
      "  \u001b[90m[77ba4419] \u001b[39m\u001b[92m+ NaNMath v1.1.3\u001b[39m\n",
      "  \u001b[90m[429524aa] \u001b[39m\u001b[92m+ Optim v1.13.2\u001b[39m\n",
      "  \u001b[90m[bac558e1] \u001b[39m\u001b[92m+ OrderedCollections v1.8.1\u001b[39m\n",
      "  \u001b[90m[90014a1f] \u001b[39m\u001b[92m+ PDMats v0.11.35\u001b[39m\n",
      "  \u001b[90m[d96e819e] \u001b[39m\u001b[92m+ Parameters v0.12.3\u001b[39m\n",
      "  \u001b[90m[2dfb63ee] \u001b[39m\u001b[92m+ PooledArrays v1.4.3\u001b[39m\n",
      "  \u001b[90m[85a6dd25] \u001b[39m\u001b[92m+ PositiveFactorizations v0.2.4\u001b[39m\n",
      "\u001b[33m⌅\u001b[39m \u001b[90m[08abe8d2] \u001b[39m\u001b[92m+ PrettyTables v2.4.0\u001b[39m\n",
      "  \u001b[90m[43287f4e] \u001b[39m\u001b[92m+ PtrArrays v1.3.0\u001b[39m\n",
      "  \u001b[90m[1fd47b50] \u001b[39m\u001b[92m+ QuadGK v2.11.2\u001b[39m\n",
      "  \u001b[90m[189a3867] \u001b[39m\u001b[92m+ Reexport v1.2.2\u001b[39m\n",
      "  \u001b[90m[ae029012] \u001b[39m\u001b[92m+ Requires v1.3.1\u001b[39m\n",
      "  \u001b[90m[79098fc4] \u001b[39m\u001b[92m+ Rmath v0.8.0\u001b[39m\n",
      "  \u001b[90m[7e506255] \u001b[39m\u001b[92m+ ScopedValues v1.5.0\u001b[39m\n",
      "  \u001b[90m[91c51154] \u001b[39m\u001b[92m+ SentinelArrays v1.4.8\u001b[39m\n",
      "  \u001b[90m[efcf1570] \u001b[39m\u001b[92m+ Setfield v1.1.2\u001b[39m\n",
      "  \u001b[90m[ff4d7338] \u001b[39m\u001b[92m+ SolverCore v0.3.8\u001b[39m\n",
      "  \u001b[90m[a2af1166] \u001b[39m\u001b[92m+ SortingAlgorithms v1.2.2\u001b[39m\n",
      "  \u001b[90m[276daf66] \u001b[39m\u001b[92m+ SpecialFunctions v2.5.1\u001b[39m\n",
      "  \u001b[90m[1e83bf80] \u001b[39m\u001b[92m+ StaticArraysCore v1.4.3\u001b[39m\n",
      "  \u001b[90m[10745b16] \u001b[39m\u001b[92m+ Statistics v1.11.1\u001b[39m\n",
      "  \u001b[90m[82ae8749] \u001b[39m\u001b[92m+ StatsAPI v1.7.1\u001b[39m\n",
      "  \u001b[90m[2913bbd2] \u001b[39m\u001b[92m+ StatsBase v0.34.6\u001b[39m\n",
      "  \u001b[90m[4c63d2b9] \u001b[39m\u001b[92m+ StatsFuns v1.5.0\u001b[39m\n",
      "  \u001b[90m[892a3eda] \u001b[39m\u001b[92m+ StringManipulation v0.4.1\u001b[39m\n",
      "  \u001b[90m[856f2bd8] \u001b[39m\u001b[92m+ StructTypes v1.11.0\u001b[39m\n",
      "  \u001b[90m[3783bdb8] \u001b[39m\u001b[92m+ TableTraits v1.0.1\u001b[39m\n",
      "  \u001b[90m[bd369af6] \u001b[39m\u001b[92m+ Tables v1.12.1\u001b[39m\n",
      "  \u001b[90m[a759f4b9] \u001b[39m\u001b[92m+ TimerOutputs v0.5.29\u001b[39m\n",
      "  \u001b[90m[3bb67fe8] \u001b[39m\u001b[92m+ TranscodingStreams v0.11.3\u001b[39m\n",
      "  \u001b[90m[3a884ed6] \u001b[39m\u001b[92m+ UnPack v1.0.2\u001b[39m\n",
      "  \u001b[90m[4119e0bf] \u001b[39m\u001b[92m+ VLQuantitativeFinancePackage v1.0.0-DEV `https://github.com/varnerlab/VLQuantitativeFinancePackage.jl.git#main`\u001b[39m\n",
      "  \u001b[90m[ea10d353] \u001b[39m\u001b[92m+ WeakRefStrings v1.4.2\u001b[39m\n",
      "  \u001b[90m[76eceee3] \u001b[39m\u001b[92m+ WorkerUtilities v1.6.1\u001b[39m\n",
      "  \u001b[90m[6e34b625] \u001b[39m\u001b[92m+ Bzip2_jll v1.0.9+0\u001b[39m\n",
      "  \u001b[90m[efe28fd5] \u001b[39m\u001b[92m+ OpenSpecFun_jll v0.5.6+0\u001b[39m\n",
      "  \u001b[90m[f50d1b31] \u001b[39m\u001b[92m+ Rmath_jll v0.5.1+0\u001b[39m\n",
      "  \u001b[90m[8ba89e20] \u001b[39m\u001b[92m+ Distributed v1.11.0\u001b[39m\n",
      "  \u001b[90m[9fa8497b] \u001b[39m\u001b[92m+ Future v1.11.0\u001b[39m\n",
      "  \u001b[90m[37e2e46d] \u001b[39m\u001b[92m+ LinearAlgebra v1.11.0\u001b[39m\n",
      "  \u001b[90m[9abbd945] \u001b[39m\u001b[92m+ Profile v1.11.0\u001b[39m\n",
      "  \u001b[90m[9e88b42a] \u001b[39m\u001b[92m+ Serialization v1.11.0\u001b[39m\n",
      "  \u001b[90m[2f01184e] \u001b[39m\u001b[92m+ SparseArrays v1.11.0\u001b[39m\n",
      "  \u001b[90m[4607b0f0] \u001b[39m\u001b[92m+ SuiteSparse\u001b[39m\n",
      "  \u001b[90m[8dfed614] \u001b[39m\u001b[92m+ Test v1.11.0\u001b[39m\n",
      "  \u001b[90m[e66e0078] \u001b[39m\u001b[92m+ CompilerSupportLibraries_jll v1.1.1+0\u001b[39m\n",
      "  \u001b[90m[4536629a] \u001b[39m\u001b[92m+ OpenBLAS_jll v0.3.27+1\u001b[39m\n",
      "  \u001b[90m[05823500] \u001b[39m\u001b[92m+ OpenLibm_jll v0.8.5+0\u001b[39m\n",
      "  \u001b[90m[bea87d4a] \u001b[39m\u001b[92m+ SuiteSparse_jll v7.7.0+0\u001b[39m\n",
      "  \u001b[90m[8e850b90] \u001b[39m\u001b[92m+ libblastrampoline_jll v5.11.0+0\u001b[39m\n",
      "\u001b[36m\u001b[1m        Info\u001b[22m\u001b[39m Packages marked with \u001b[32m⌃\u001b[39m and \u001b[33m⌅\u001b[39m have new versions available. Those with \u001b[32m⌃\u001b[39m may be upgradable, but those with \u001b[33m⌅\u001b[39m are restricted by compatibility constraints from upgrading. To see why use `status --outdated -m`\n",
      "\u001b[92m\u001b[1mPrecompiling\u001b[22m\u001b[39m project...\n",
      "    396.6 ms\u001b[32m  ✓ \u001b[39m\u001b[90mUnPack\u001b[39m\n",
      "    475.6 ms\u001b[32m  ✓ \u001b[39m\u001b[90mLaTeXStrings\u001b[39m\n",
      "    404.5 ms\u001b[32m  ✓ \u001b[39m\u001b[90mExprTools\u001b[39m\n",
      "    408.2 ms\u001b[32m  ✓ \u001b[39m\u001b[90mIteratorInterfaceExtensions\u001b[39m\n",
      "    436.5 ms\u001b[32m  ✓ \u001b[39m\u001b[90mWorkerUtilities\u001b[39m\n",
      "    467.8 ms\u001b[32m  ✓ \u001b[39m\u001b[90mPositiveFactorizations\u001b[39m\n",
      "    562.6 ms\u001b[32m  ✓ \u001b[39m\u001b[90mADTypes\u001b[39m\n",
      "    275.7 ms\u001b[32m  ✓ \u001b[39m\u001b[90mDataValueInterfaces\u001b[39m\n",
      "    294.9 ms\u001b[32m  ✓ \u001b[39m\u001b[90mEnumX\u001b[39m\n",
      "    322.8 ms\u001b[32m  ✓ \u001b[39m\u001b[90mHashArrayMappedTries\u001b[39m\n",
      "    349.0 ms\u001b[32m  ✓ \u001b[39m\u001b[90mInvertedIndices\u001b[39m\n",
      "    812.3 ms\u001b[32m  ✓ \u001b[39m\u001b[90mFillArrays\u001b[39m\n",
      "    470.9 ms\u001b[32m  ✓ \u001b[39m\u001b[90mTranscodingStreams\u001b[39m\n",
      "    535.2 ms\u001b[32m  ✓ \u001b[39m\u001b[90mInlineStrings\u001b[39m\n",
      "    377.0 ms\u001b[32m  ✓ \u001b[39m\u001b[90mConstructionBase\u001b[39m\n",
      "    328.6 ms\u001b[32m  ✓ \u001b[39m\u001b[90mFastClosures\u001b[39m\n",
      "    382.0 ms\u001b[32m  ✓ \u001b[39m\u001b[90mAdapt\u001b[39m\n",
      "    361.1 ms\u001b[32m  ✓ \u001b[39m\u001b[90mDiffResults\u001b[39m\n",
      "    449.7 ms\u001b[32m  ✓ \u001b[39m\u001b[90mPooledArrays\u001b[39m\n",
      "    727.5 ms\u001b[32m  ✓ \u001b[39m\u001b[90mPDMats\u001b[39m\n",
      "    731.5 ms\u001b[32m  ✓ \u001b[39m\u001b[90mQuadGK\u001b[39m\n",
      "    599.1 ms\u001b[32m  ✓ \u001b[39m\u001b[90mCompat\u001b[39m\n",
      "    753.8 ms\u001b[32m  ✓ \u001b[39m\u001b[90mStructTypes\u001b[39m\n",
      "   1693.8 ms\u001b[32m  ✓ \u001b[39m\u001b[90mMacroTools\u001b[39m\n",
      "    544.6 ms\u001b[32m  ✓ \u001b[39m\u001b[90mBzip2_jll\u001b[39m\n",
      "    548.0 ms\u001b[32m  ✓ \u001b[39m\u001b[90mRmath_jll\u001b[39m\n",
      "   1004.8 ms\u001b[32m  ✓ \u001b[39m\u001b[90mSentinelArrays\u001b[39m\n",
      "    550.2 ms\u001b[32m  ✓ \u001b[39m\u001b[90mOpenSpecFun_jll\u001b[39m\n",
      "    477.2 ms\u001b[32m  ✓ \u001b[39m\u001b[90mParameters\u001b[39m\n",
      "    285.1 ms\u001b[32m  ✓ \u001b[39m\u001b[90mScopedValues\u001b[39m\n",
      "    671.6 ms\u001b[32m  ✓ \u001b[39m\u001b[90mTableTraits\u001b[39m\n",
      "   1218.6 ms\u001b[32m  ✓ \u001b[39m\u001b[90mStringManipulation\u001b[39m\n",
      "    883.9 ms\u001b[32m  ✓ \u001b[39m\u001b[90mFillArrays → FillArraysStatisticsExt\u001b[39m\n",
      "    756.7 ms\u001b[32m  ✓ \u001b[39m\u001b[90mFillArrays → FillArraysSparseArraysExt\u001b[39m\n",
      "   1313.7 ms\u001b[32m  ✓ \u001b[39m\u001b[90mDifferentiationInterface\u001b[39m\n",
      "    873.6 ms\u001b[32m  ✓ \u001b[39m\u001b[90mInlineStrings → ParsersExt\u001b[39m\n",
      "   1058.3 ms\u001b[32m  ✓ \u001b[39m\u001b[90mCodecZlib\u001b[39m\n",
      "    554.6 ms\u001b[32m  ✓ \u001b[39m\u001b[90mConstructionBase → ConstructionBaseLinearAlgebraExt\u001b[39m\n",
      "    506.4 ms\u001b[32m  ✓ \u001b[39m\u001b[90mADTypes → ADTypesConstructionBaseExt\u001b[39m\n",
      "    511.7 ms\u001b[32m  ✓ \u001b[39m\u001b[90mArrayInterface\u001b[39m\n",
      "   1956.7 ms\u001b[32m  ✓ \u001b[39m\u001b[90mTimerOutputs\u001b[39m\n",
      "    751.1 ms\u001b[32m  ✓ \u001b[39m\u001b[90mAdapt → AdaptSparseArraysExt\u001b[39m\n",
      "    466.8 ms\u001b[32m  ✓ \u001b[39m\u001b[90mCompat → CompatLinearAlgebraExt\u001b[39m\n",
      "    666.1 ms\u001b[32m  ✓ \u001b[39m\u001b[90mCommonSubexpressions\u001b[39m\n",
      "    913.0 ms\u001b[32m  ✓ \u001b[39m\u001b[90mFillArrays → FillArraysPDMatsExt\u001b[39m\n",
      "   3696.7 ms\u001b[32m  ✓ \u001b[39m\u001b[90mMutableArithmetics\u001b[39m\n",
      "   3142.7 ms\u001b[32m  ✓ \u001b[39m\u001b[90mFileIO\u001b[39m\n",
      "   1470.1 ms\u001b[32m  ✓ \u001b[39m\u001b[90mCodecBzip2\u001b[39m\n",
      "   1260.7 ms\u001b[32m  ✓ \u001b[39m\u001b[90mDifferentiationInterface → DifferentiationInterfaceSparseArraysExt\u001b[39m\n",
      "   1923.8 ms\u001b[32m  ✓ \u001b[39m\u001b[90mRmath\u001b[39m\n",
      "   1647.0 ms\u001b[32m  ✓ \u001b[39m\u001b[90mWeakRefStrings\u001b[39m\n",
      "   2211.6 ms\u001b[32m  ✓ \u001b[39m\u001b[90mTables\u001b[39m\n",
      "    910.6 ms\u001b[32m  ✓ \u001b[39m\u001b[90mArrayInterface → ArrayInterfaceStaticArraysCoreExt\u001b[39m\n",
      "   1390.9 ms\u001b[32m  ✓ \u001b[39m\u001b[90mArrayInterface → ArrayInterfaceSparseArraysExt\u001b[39m\n",
      "    716.3 ms\u001b[32m  ✓ \u001b[39m\u001b[90mFilePathsBase\u001b[39m\n",
      "   1595.3 ms\u001b[32m  ✓ \u001b[39m\u001b[90mSetfield\u001b[39m\n",
      "    514.6 ms\u001b[32m  ✓ \u001b[39m\u001b[90mFilePathsBase → FilePathsBaseMmapExt\u001b[39m\n",
      "   3190.0 ms\u001b[32m  ✓ \u001b[39m\u001b[90mSpecialFunctions\u001b[39m\n",
      "    526.1 ms\u001b[32m  ✓ \u001b[39m\u001b[90mFiniteDiff\u001b[39m\n",
      "   1127.3 ms\u001b[32m  ✓ \u001b[39m\u001b[90mBenchmarkTools\u001b[39m\n",
      "    919.5 ms\u001b[32m  ✓ \u001b[39m\u001b[90mFilePathsBase → FilePathsBaseTestExt\u001b[39m\n",
      "    534.2 ms\u001b[32m  ✓ \u001b[39m\u001b[90mDiffRules\u001b[39m\n",
      "   2088.6 ms\u001b[32m  ✓ \u001b[39m\u001b[90mLinearOperators\u001b[39m\n",
      "   1152.3 ms\u001b[32m  ✓ \u001b[39m\u001b[90mFiniteDiff → FiniteDiffSparseArraysExt\u001b[39m\n",
      "    992.0 ms\u001b[32m  ✓ \u001b[39m\u001b[90mDifferentiationInterface → DifferentiationInterfaceFiniteDiffExt\u001b[39m\n",
      "   1509.4 ms\u001b[32m  ✓ \u001b[39m\u001b[90mHypergeometricFunctions\u001b[39m\n",
      "   5010.5 ms\u001b[32m  ✓ \u001b[39m\u001b[90mJSON3\u001b[39m\n",
      "   1786.6 ms\u001b[32m  ✓ \u001b[39m\u001b[90mNLPModels\u001b[39m\n",
      "   1391.7 ms\u001b[32m  ✓ \u001b[39m\u001b[90mStatsFuns\u001b[39m\n",
      "    978.9 ms\u001b[32m  ✓ \u001b[39m\u001b[90mSolverCore\u001b[39m\n",
      "   3633.2 ms\u001b[32m  ✓ \u001b[39m\u001b[90mForwardDiff\u001b[39m\n",
      "    756.9 ms\u001b[32m  ✓ \u001b[39m\u001b[90mDifferentiationInterface → DifferentiationInterfaceForwardDiffExt\u001b[39m\n",
      "   1148.8 ms\u001b[32m  ✓ \u001b[39m\u001b[90mNLSolversBase\u001b[39m\n",
      "   3574.9 ms\u001b[32m  ✓ \u001b[39m\u001b[90mDistributions\u001b[39m\n",
      "   1695.7 ms\u001b[32m  ✓ \u001b[39m\u001b[90mLineSearches\u001b[39m\n",
      "   1295.9 ms\u001b[32m  ✓ \u001b[39m\u001b[90mDistributions → DistributionsTestExt\u001b[39m\n",
      "   1800.8 ms\u001b[32m  ✓ \u001b[39m\u001b[90mLsqFit\u001b[39m\n",
      "   2915.0 ms\u001b[32m  ✓ \u001b[39m\u001b[90mOptim\u001b[39m\n",
      "  11601.7 ms\u001b[32m  ✓ \u001b[39m\u001b[90mCSV\u001b[39m\n",
      "  12720.8 ms\u001b[32m  ✓ \u001b[39m\u001b[90mPrettyTables\u001b[39m\n",
      "  18738.1 ms\u001b[32m  ✓ \u001b[39m\u001b[90mJLD2\u001b[39m\n",
      "   1311.2 ms\u001b[32m  ✓ \u001b[39m\u001b[90mJLD2 → UnPackExt\u001b[39m\n",
      "  27380.3 ms\u001b[32m  ✓ \u001b[39m\u001b[90mMathOptInterface\u001b[39m\n",
      "   1894.5 ms\u001b[32m  ✓ \u001b[39m\u001b[90mOptim → OptimMOIExt\u001b[39m\n",
      "   3432.4 ms\u001b[32m  ✓ \u001b[39m\u001b[90mMadNLP\u001b[39m\n",
      "  23667.8 ms\u001b[32m  ✓ \u001b[39m\u001b[90mDataFrames\u001b[39m\n",
      "  11300.9 ms\u001b[32m  ✓ \u001b[39m\u001b[90mJuMP\u001b[39m\n",
      "   4724.2 ms\u001b[32m  ✓ \u001b[39mVLQuantitativeFinancePackage\n",
      "  88 dependencies successfully precompiled in 55 seconds. 68 already precompiled.\n",
      "\u001b[32m\u001b[1m  Activating\u001b[22m\u001b[39m project at `~/Documents/GitHub/CHEME-5660-CourseRepository-Fall-2025/lectures/week-1/L1b`\n"
     ]
    },
    {
     "ename": "LoadError",
     "evalue": "LoadError: expected package `VLQuantitativeFinancePackage [4119e0bf]` to be registered\nin expression starting at /Users/spmelendrez/Documents/GitHub/CHEME-5660-CourseRepository-Fall-2025/lectures/week-1/L1b/Include.jl:9",
     "output_type": "error",
     "traceback": [
      "LoadError: expected package `VLQuantitativeFinancePackage [4119e0bf]` to be registered\n",
      "in expression starting at /Users/spmelendrez/Documents/GitHub/CHEME-5660-CourseRepository-Fall-2025/lectures/week-1/L1b/Include.jl:9\n",
      "\n",
      "Stacktrace:\n",
      "  [1] pkgerror(msg::String)\n",
      "    @ Pkg.Types ~/.julia/juliaup/julia-1.11.6+0.aarch64.apple.darwin14/share/julia/stdlib/v1.11/Pkg/src/Types.jl:68\n",
      "  [2] check_registered\n",
      "    @ ~/.julia/juliaup/julia-1.11.6+0.aarch64.apple.darwin14/share/julia/stdlib/v1.11/Pkg/src/Operations.jl:1329 [inlined]\n",
      "  [3] up(ctx::Pkg.Types.Context, pkgs::Vector{Pkg.Types.PackageSpec}, level::Pkg.Types.UpgradeLevel; skip_writing_project::Bool, preserve::Nothing)\n",
      "    @ Pkg.Operations ~/.julia/juliaup/julia-1.11.6+0.aarch64.apple.darwin14/share/julia/stdlib/v1.11/Pkg/src/Operations.jl:1632\n",
      "  [4] up\n",
      "    @ ~/.julia/juliaup/julia-1.11.6+0.aarch64.apple.darwin14/share/julia/stdlib/v1.11/Pkg/src/Operations.jl:1612 [inlined]\n",
      "  [5] up(ctx::Pkg.Types.Context, pkgs::Vector{Pkg.Types.PackageSpec}; level::Pkg.Types.UpgradeLevel, mode::Pkg.Types.PackageMode, preserve::Nothing, update_registry::Bool, skip_writing_project::Bool, kwargs::@Kwargs{})\n",
      "    @ Pkg.API ~/.julia/juliaup/julia-1.11.6+0.aarch64.apple.darwin14/share/julia/stdlib/v1.11/Pkg/src/API.jl:388\n",
      "  [6] up\n",
      "    @ ~/.julia/juliaup/julia-1.11.6+0.aarch64.apple.darwin14/share/julia/stdlib/v1.11/Pkg/src/API.jl:362 [inlined]\n",
      "  [7] up\n",
      "    @ ~/.julia/juliaup/julia-1.11.6+0.aarch64.apple.darwin14/share/julia/stdlib/v1.11/Pkg/src/API.jl:164 [inlined]\n",
      "  [8] #resolve#143\n",
      "    @ ~/.julia/juliaup/julia-1.11.6+0.aarch64.apple.darwin14/share/julia/stdlib/v1.11/Pkg/src/API.jl:394 [inlined]\n",
      "  [9] resolve\n",
      "    @ ~/.julia/juliaup/julia-1.11.6+0.aarch64.apple.darwin14/share/julia/stdlib/v1.11/Pkg/src/API.jl:393 [inlined]\n",
      " [10] resolve(; io::IOContext{IO}, kwargs::@Kwargs{})\n",
      "    @ Pkg.API ~/.julia/juliaup/julia-1.11.6+0.aarch64.apple.darwin14/share/julia/stdlib/v1.11/Pkg/src/API.jl:392\n",
      " [11] top-level scope\n",
      "    @ ~/Documents/GitHub/CHEME-5660-CourseRepository-Fall-2025/lectures/week-1/L1b/Include.jl:11"
     ]
    }
   ],
   "source": [
    "include(joinpath(@__DIR__, \"Include.jl\")); # this sets up the environment, we'll do this all the time, on everything we do"
   ]
  },
  {
   "cell_type": "markdown",
   "id": "41500184",
   "metadata": {},
   "source": [
    "For additional information on functions and types used in this material, see the [Julia programming language documentation](https://docs.julialang.org/en/v1/) and the [VLQuantitativeFinancePackage.jl documentation](https://github.com/varnerlab/VLQuantitativeFinancePackage.jl). "
   ]
  },
  {
   "cell_type": "markdown",
   "id": "d9bb4c9e-553c-433d-b62f-da99bd868ba1",
   "metadata": {},
   "source": [
    "###  Problem components and constants\n",
    "Before we do the [Net Present Value (NPV) calculation](https://en.wikipedia.org/wiki/Net_present_value#:~:text=NPV%20is%20the%20sum%20of,NPV%20results%20in%20a%20loss.), we'll set up some components and constants that we'll use later. \n",
    "* Let's start with the discounting model. For simplicity, we'll assume discrete compounding in this calculation. We specify this by creating an instance of [the `DiscreteCompoundingModel` type](https://varnerlab.github.io/VLQuantitativeFinancePackage.jl/dev/fixed/#VLQuantitativeFinancePackage.DiscreteCompoundingModel) and save it in the `discount_model::DiscreteCompoundingModel` variable."
   ]
  },
  {
   "cell_type": "code",
<<<<<<< Updated upstream
   "execution_count": 6,
=======
   "execution_count": 2,
>>>>>>> Stashed changes
   "id": "d927ad21-46c2-43be-b7ac-567325e72ce9",
   "metadata": {},
   "outputs": [
    {
     "ename": "UndefVarError",
     "evalue": "UndefVarError: `DiscreteCompoundingModel` not defined in `Main`\nSuggestion: check for spelling errors or missing imports.",
     "output_type": "error",
     "traceback": [
      "UndefVarError: `DiscreteCompoundingModel` not defined in `Main`\n",
      "Suggestion: check for spelling errors or missing imports.\n",
      "\n",
      "Stacktrace:\n",
      " [1] top-level scope\n",
      "   @ ~/Documents/GitHub/CHEME-5660-CourseRepository-Fall-2025/lectures/week-1/L1b/jl_notebook_cell_df34fa98e69747e1a8f8a730347b8e2f_W5sZmlsZQ==.jl:1"
     ]
    }
   ],
   "source": [
    "discount_model = DiscreteCompoundingModel();"
   ]
  },
  {
   "cell_type": "markdown",
   "id": "827a3135-7eef-4822-9f32-c96e01a2826d",
   "metadata": {},
   "source": [
    "Next, we set several constants, which we use below. For a description of the constant and permissible values, see the comment string beside the declaration."
   ]
  },
  {
   "cell_type": "code",
<<<<<<< Updated upstream
   "execution_count": 8,
=======
   "execution_count": 3,
>>>>>>> Stashed changes
   "id": "87cc1578-71c0-44dd-ac4b-0d0ff708c444",
   "metadata": {},
   "outputs": [],
   "source": [
    "T = 10.0;  # number of years; value ≥ 0\n",
    "λ = 2.0 |> Int;  # number of periods per year (λ = 2.0 => every six months); value ≥ 1\n",
<<<<<<< Updated upstream
    "r̄ = 0.0425; # TODO: discount rate per year; value ≥ 0\n",
    "depreciation = 0.0625; # TODO: price decline per period (semiannual)\n",
=======
    "r̄ = 0.04; # discount rate per year; value ≥ 0\n",
    "depreciation = 0.03; # price decline per period\n",
>>>>>>> Stashed changes
    "N = λ*T |> Int;  # total number of observations"
   ]
  },
  {
   "cell_type": "markdown",
   "id": "8ebc2400-72b3-45d7-b597-8e9ff999c5a1",
   "metadata": {},
   "source": [
    "## Task 1: Setup the Cash Flow Dictionary\n",
    "In this task, we specify some values for the cash flow events we observe over the lifetime of owning the [Tesla Model S](https://www.tesla.com/models). Then, we construct a net cash flow dictionary that holds the net values for the cash flow events during each period. Let's start with the constants.\n",
    "* Specify the purchase price, sale price at the end of $T$-years, insurance costs per period, and other costs and savings below. For a description of the constant and permissible values, see the comment string beside the declaration."
   ]
  },
  {
   "cell_type": "code",
<<<<<<< Updated upstream
   "execution_count": 10,
=======
   "execution_count": 4,
>>>>>>> Stashed changes
   "id": "677c9a3a-5a47-48d4-aae1-d2f1d627cecf",
   "metadata": {},
   "outputs": [],
   "source": [
<<<<<<< Updated upstream
    "purchase_price = 111630; # how much do we pay now for the Model S?\n",
    "sale_price = max(0.0, (1 - N*depreciation)*purchase_price); # assumes straight line depreciation\n",
    "insurance_costs = 1808.0 # 1808.0 How much does a Model S cost to insure (per period)?\n",
=======
    "purchase_price = 107130; # how much do we pay now for the Model S?\n",
    "sale_price = (1 - N*depreciation)*purchase_price; # assumes straight line depreciation\n",
    "insurance_costs = 2400; # 1808.0How much does a Model S cost to ensure (per period)?\n",
>>>>>>> Stashed changes
    "other_costs = 50.0; # Other costs associated with the Model S per period\n",
    "other_savings = 0.0; # Other savings per period?"
   ]
  },
  {
   "cell_type": "code",
   "execution_count": 11,
   "id": "2d6056cd-9a1e-4072-9421-d245a618fb4b",
   "metadata": {},
   "outputs": [
    {
     "data": {
      "text/plain": [
       "0.0"
      ]
     },
     "execution_count": 11,
     "metadata": {},
     "output_type": "execute_result"
    }
   ],
   "source": [
    "sale_price"
   ]
  },
  {
   "cell_type": "markdown",
   "id": "a69e3d19-3463-4927-8299-b118c56415be",
   "metadata": {},
   "source": [
    "Now, let's build and populate the cash flow event dictionary. The dictionary will hold the net cash flow events for each $N = \\lambda\\cdot{T}$ period. We'll populate this dictionary by iterating over the `0...N` periods using a [Julia `for-loop`](https://docs.julialang.org/en/v1/base/base/#for).\n",
    "* For each period (index `i`), we check if we are `i == 0` (purchase), or `i == N` (sale) of the car. At purchase time, we have a negative cash flow (we give a bunch of money to [TSLA](https://finance.yahoo.com/quote/TSLA/?guccounter=1&guce_referrer=aHR0cHM6Ly93d3cuZ29vZ2xlLmNvbS8&guce_referrer_sig=AQAAANiorcaltDNUCtp01qZd0GAF86DY9ajVMBq8fpt9wPQJKA2M7XgMOWvsfeDsrJxSlpMUKrWYfPDaC9XhnhQ2uCQnfWqvJIdpkimycwOTPv_QySkAzvnIju10jMrqSK7KdsX4ATgr0VtRlF6up-NuK5jDvJx1v2NSlxu1RGQTCAxR)) and at sale time we have the sale price (positive) and any other savings minus the expenses for that period.\n",
    "* If $i\\neq{0}\\,||\\,i\\neq{N}$: we have an intermediate period where we make an insurance payment net any other savings occurring during that period.\n",
    "* The keys of the `cash_flow_event_dictionary` are the period indexes `i`, while the values are the net cash flow events for that period."
   ]
  },
  {
   "cell_type": "code",
<<<<<<< Updated upstream
   "execution_count": 13,
=======
   "execution_count": 5,
>>>>>>> Stashed changes
   "id": "13af979e-f67c-4f5f-9058-f2189677fcc4",
   "metadata": {},
   "outputs": [
    {
     "data": {
      "text/plain": [
       "Dict{Int64, Float64} with 21 entries:\n",
       "  5  => -2450.0\n",
       "  16 => -2450.0\n",
       "  20 => 40402.0\n",
       "  12 => -2450.0\n",
       "  8  => -2450.0\n",
       "  17 => -2450.0\n",
       "  1  => -2450.0\n",
       "  19 => -2450.0\n",
       "  0  => -107130.0\n",
       "  6  => -2450.0\n",
       "  11 => -2450.0\n",
       "  9  => -2450.0\n",
       "  14 => -2450.0\n",
       "  3  => -2450.0\n",
       "  7  => -2450.0\n",
       "  4  => -2450.0\n",
       "  13 => -2450.0\n",
       "  15 => -2450.0\n",
       "  2  => -2450.0\n",
       "  ⋮  => ⋮"
      ]
     },
     "metadata": {},
     "output_type": "display_data"
    }
   ],
   "source": [
    "cash_flow_event_dictionary = Dict{Int64,Float64}();\n",
    "for i ∈ 0:N\n",
    "    if (i == 0)\n",
    "       cash_flow_event_dictionary[i] = -1*purchase_price;\n",
    "    elseif (i == N)\n",
    "        cash_flow_event_dictionary[i] = sale_price + other_savings - (insurance_costs+other_costs)\n",
    "    else\n",
    "       cash_flow_event_dictionary[i] = other_savings - (insurance_costs+other_costs);\n",
    "    end\n",
    "end\n",
    "cash_flow_event_dictionary"
   ]
  },
  {
   "cell_type": "markdown",
   "id": "dec4b8ec-2dca-407c-8adb-3c64f8ba8049",
   "metadata": {},
   "source": [
    "## Task 2: Compute the Discount Factor Dictionary\n",
    "In this task, we compute a dictionary of discount factor $\\mathcal{D}_{j,0}(\\bar{r})$ values using the time and discount rate data specified above. To do this calculation, we call [the `discount(...)` method](https://varnerlab.github.io/VLQuantitativeFinancePackage.jl/dev/fixed/#VLQuantitativeFinancePackage.discount-Tuple{AbstractCompoundingModel,%20Float64,%20Int64}) which returns the discount factors in the `discount_dictionary::Dict{Int64,Float64}` dictionary.\n",
    "* The [`discount(...)` method](https://varnerlab.github.io/VLQuantitativeFinancePackage.jl/dev/fixed/#VLQuantitativeFinancePackage.discount-Tuple{AbstractCompoundingModel,%20Float64,%20Int64}) takes the compounding model instance, i.e., the `discount_model` instance we constructed earlier, along with the discount rate $\\bar{r}$, the number of periods $N$, and the number of compounding events per period $λ$.\n",
    "* _What is up with the $\\lambda$ arg_? We implement the compounding events per period $\\lambda$ as a [optional keyword argument](https://docs.julialang.org/en/v1/manual/functions/#Keyword-Arguments) with a default value of $\\lambda = 2$ in [the `discount(...)` method](https://varnerlab.github.io/VLQuantitativeFinancePackage.jl/dev/fixed/#VLQuantitativeFinancePackage.discount-Tuple{AbstractCompoundingModel,%20Float64,%20Int64}). "
   ]
  },
  {
   "cell_type": "code",
<<<<<<< Updated upstream
   "execution_count": 15,
=======
   "execution_count": 6,
>>>>>>> Stashed changes
   "id": "e068d653-ee7f-4330-9869-55a7d587e3be",
   "metadata": {},
   "outputs": [
    {
     "ename": "UndefVarError",
     "evalue": "UndefVarError: `discount` not defined in `Main`\nSuggestion: check for spelling errors or missing imports.",
     "output_type": "error",
     "traceback": [
      "UndefVarError: `discount` not defined in `Main`\n",
      "Suggestion: check for spelling errors or missing imports.\n",
      "\n",
      "Stacktrace:\n",
      " [1] top-level scope\n",
      "   @ ~/Documents/GitHub/CHEME-5660-CourseRepository-Fall-2025/lectures/week-1/L1b/jl_notebook_cell_df34fa98e69747e1a8f8a730347b8e2f_X16sZmlsZQ==.jl:1"
     ]
    }
   ],
   "source": [
    "discount_dictionary = discount(discount_model, r̄, N, λ = λ);"
   ]
  },
  {
   "cell_type": "markdown",
   "id": "e2841f4d-281a-4a0f-a908-b1f279f20dc6",
   "metadata": {},
   "source": [
    "`Unhide` the code block below to see how we built a table of the data in the `discount_dictionary` using [the `pretty_table(...)` function exported by the PrettyTables.jl package](https://github.com/ronisbr/PrettyTables.jl) and [a `DataFrame` instance exported by the DataFrames.jl package](https://github.com/JuliaData/DataFrames.jl)"
   ]
  },
  {
   "cell_type": "code",
<<<<<<< Updated upstream
   "execution_count": 17,
=======
   "execution_count": 7,
>>>>>>> Stashed changes
   "id": "f5bc9340-b84d-470b-b895-5f835434adc8",
   "metadata": {},
   "outputs": [
    {
<<<<<<< Updated upstream
     "name": "stdout",
     "output_type": "stream",
     "text": [
      "========= ========= ===========\n",
      " \u001b[1m period \u001b[0m \u001b[1m       𝒟 \u001b[0m \u001b[1m     𝒟inv \u001b[0m\n",
      " \u001b[90m  Int64 \u001b[0m \u001b[90m Float64 \u001b[0m \u001b[90m  Float64 \u001b[0m\n",
      "========= ========= ===========\n",
      "       0       1.0        1.0\n",
      "       1   1.02125   0.979192\n",
      "       2   1.04295   0.958817\n",
      "       3   1.06511   0.938866\n",
      "       4   1.08775   0.919331\n",
      "       5   1.11086   0.900201\n",
      "       6   1.13447    0.88147\n",
      "       7   1.15858   0.863129\n",
      "       8    1.1832   0.845169\n",
      "       9   1.20834   0.827583\n",
      "      10   1.23402   0.810362\n",
      "      11   1.26024   0.793501\n",
      "      12   1.28702    0.77699\n",
      "      13   1.31437   0.760822\n",
      "      14    1.3423   0.744991\n",
      "      15   1.37082   0.729489\n",
      "      16   1.39995    0.71431\n",
      "      17    1.4297   0.699447\n",
      "      18   1.46008   0.684893\n",
      "      19   1.49111   0.670642\n",
      "      20   1.52279   0.656687\n",
      "========= ========= ===========\n"
=======
     "ename": "UndefVarError",
     "evalue": "UndefVarError: `DataFrame` not defined in `Main`\nSuggestion: check for spelling errors or missing imports.",
     "output_type": "error",
     "traceback": [
      "UndefVarError: `DataFrame` not defined in `Main`\n",
      "Suggestion: check for spelling errors or missing imports.\n",
      "\n",
      "Stacktrace:\n",
      " [1] top-level scope\n",
      "   @ ~/Documents/GitHub/CHEME-5660-CourseRepository-Fall-2025/lectures/week-1/L1b/jl_notebook_cell_df34fa98e69747e1a8f8a730347b8e2f_X21sZmlsZQ==.jl:3"
>>>>>>> Stashed changes
     ]
    }
   ],
   "source": [
    "let\n",
    "    # initialize -\n",
    "    df = DataFrame();\n",
    "    for i ∈ 0:N\n",
    "        value = discount_dictionary[i];\n",
    "        row_df = (\n",
    "            period = i,\n",
    "            𝒟 = value,\n",
    "            𝒟inv = (1/value)\n",
    "        );\n",
    "        push!(df, row_df);\n",
    "    end\n",
    "\n",
    "    pretty_table(df, tf = tf_simple)\n",
    "end"
   ]
  },
  {
   "cell_type": "markdown",
   "id": "ddf21815-4221-4e32-b96b-c504448af78d",
   "metadata": {},
   "source": [
    "### Check: Do we recover the discount rate $\\bar{r}$?\n",
    "Let's do a quick check on the discount factor calculation. If the discount factors are correct, we should be able to recover the discount rate $\\bar{r}$ by inverting the definition of the discount factor, i.e., the discount rate should be equal to:\n",
    "$$\n",
    "\\begin{equation}\n",
    "\\bar{r} = \\lambda\\cdot\\left(\\mathcal{D}_{i,0}^{1/i} - 1\\right)\n",
    "\\end{equation}\n",
    "$$\n",
    "where $\\mathcal{D}_{i,0}$ is the discount factor, $i$ is the period-index, and $\\lambda$ is the number of compounding events per-period. This is the value for the period $i\\geq{1}$. \n",
    "* We test this idea by iterating over the `discount_dictionary,` and for iteration $i>0$, we compute the discount rate (stored in the `r̄ᵢ` variable) and compare its value for the specified (correct) discount rate `r̄.` We use [the Julia `@assert` macro](https://docs.julialang.org/en/v1/base/base/#Base.@assert) in combination with [the `isapprox(...)` method](https://docs.julialang.org/en/v1/base/math/#Base.isapprox) to check for equality. If the check fails, [an AssertionError is thrown](https://docs.julialang.org/en/v1/base/base/#Core.AssertionError) and the loop terminates."
   ]
  },
  {
   "cell_type": "code",
<<<<<<< Updated upstream
   "execution_count": 19,
=======
   "execution_count": 8,
>>>>>>> Stashed changes
   "id": "baa69d7f-d61f-4e5b-8d44-13e0cc617241",
   "metadata": {},
   "outputs": [
    {
     "ename": "UndefVarError",
     "evalue": "UndefVarError: `discount_dictionary` not defined in `Main`\nSuggestion: check for spelling errors or missing imports.",
     "output_type": "error",
     "traceback": [
      "UndefVarError: `discount_dictionary` not defined in `Main`\n",
      "Suggestion: check for spelling errors or missing imports.\n",
      "\n",
      "Stacktrace:\n",
      " [1] top-level scope\n",
      "   @ ~/Documents/GitHub/CHEME-5660-CourseRepository-Fall-2025/lectures/week-1/L1b/jl_notebook_cell_df34fa98e69747e1a8f8a730347b8e2f_X23sZmlsZQ==.jl:2"
     ]
    }
   ],
   "source": [
    "r̄ᵢ = r̄;\n",
    "for (k,v) ∈ discount_dictionary\n",
    "    if (k > 0)\n",
    "        r̄ᵢ = λ*((v)^(1/k) - 1);\n",
    "    end\n",
    "    @assert isapprox(r̄, r̄ᵢ, rtol = 1e-4);\n",
    "end"
   ]
  },
  {
   "cell_type": "markdown",
   "id": "89d50698-2f49-42f2-abc7-9c7d2b8856d4",
   "metadata": {},
   "source": [
    "## Task 3: Compute the Net Present Value (NPV)\n",
    "In this task, we'll compute the net present value (NPV) for the [Tesla Model S](https://www.tesla.com/models). The NPV is the scalar (dot) product between the inverse of the discount factor vector $\\mathcal{D}^{-1}$ and the net cash flow vector $\\bar{c}$:\n",
    "$$\n",
    "\\begin{equation}\n",
    "\\texttt{NPV} \\leftarrow \\left<\\mathcal{D}^{-1}\\left(\\bar{r}\\right), \\bar{c}, \\right>\n",
    "\\end{equation}\n",
    "$$\n",
    "However, we have one technical gotcha: the discount factors and the net cash flow events are stored in dictionaries, so we'll first need to convert this data into arrays and then use [the `dot(...)` method exported by the LinearAlgebra.jl package](https://docs.julialang.org/en/v1/stdlib/LinearAlgebra/#LinearAlgebra.dot) to compute the scalar product. Let's start with the discount factors, and then we'll convert the cash flow events to an array."
   ]
  },
  {
   "cell_type": "markdown",
   "id": "099f28ba-274a-4f5b-b71c-b15c7a6091fa",
   "metadata": {},
   "source": [
    "#### Compute the inverse discount factor array $\\mathcal{D}^{-1}(\\bar{r})$\n",
    "To compute the inverse discount factor array $\\mathcal{D}^{-1}(\\bar{r})$, we iterate over the periods `i ∈ 1...N+1` (where we convert to `1`-based indexing). We insert the inverse of the value in the `discount_dictionary` for each period `i` into the `𝒟inv::Array{Float64,1}` array."
   ]
  },
  {
   "cell_type": "code",
<<<<<<< Updated upstream
   "execution_count": 22,
=======
   "execution_count": 9,
>>>>>>> Stashed changes
   "id": "b7255c60-26fb-4ed0-a540-1f8a3542fb6e",
   "metadata": {},
   "outputs": [
    {
     "ename": "UndefVarError",
     "evalue": "UndefVarError: `discount_dictionary` not defined in `Main`\nSuggestion: check for spelling errors or missing imports.",
     "output_type": "error",
     "traceback": [
      "UndefVarError: `discount_dictionary` not defined in `Main`\n",
      "Suggestion: check for spelling errors or missing imports.\n",
      "\n",
      "Stacktrace:\n",
      " [1] top-level scope\n",
      "   @ ~/Documents/GitHub/CHEME-5660-CourseRepository-Fall-2025/lectures/week-1/L1b/jl_notebook_cell_df34fa98e69747e1a8f8a730347b8e2f_X26sZmlsZQ==.jl:4"
     ]
    }
   ],
   "source": [
    "𝒟inv = Array{Float64,1}(undef, N+1);\n",
    "for i in 1:(N+1)\n",
    "    j = i - 1;\n",
    "    𝒟inv[i] = 1/discount_dictionary[j]\n",
    "end\n",
    "𝒟inv;"
   ]
  },
  {
   "cell_type": "markdown",
   "id": "9224398e-5f5f-40dd-9c7d-6d2dfd405599",
   "metadata": {},
   "source": [
    "#### Compute the cash flow event array $\\bar{c}$.\n",
    "To compute the cash flow event array $\\bar{c}$, we iterate over the periods `i ∈ 1...N+1` (where we convert to `1`-based indexing). We insert the value from the `cash_flow_event_dictionary` for each period `i` into the `c̄::Array{Float64,1}` array."
   ]
  },
  {
   "cell_type": "code",
<<<<<<< Updated upstream
   "execution_count": 24,
=======
   "execution_count": 10,
>>>>>>> Stashed changes
   "id": "6890d0b4-60ba-41ac-9e3d-cb3487299128",
   "metadata": {},
   "outputs": [],
   "source": [
    "c̄ = Array{Float64,1}(undef, N+1);\n",
    "for i ∈ 1:(N+1)\n",
    "    j = i - 1;\n",
    "    c̄[i] = cash_flow_event_dictionary[j]\n",
    "end\n",
    "c̄;"
   ]
  },
  {
   "cell_type": "markdown",
   "id": "824e53cb-12f2-4b5b-b211-f6f62fc36212",
   "metadata": {},
   "source": [
    "Finally, we compute the $\\texttt{NPV}$ using [the `dot(...)` method exported by the LinearAlgebra.jl package](https://docs.julialang.org/en/v1/stdlib/LinearAlgebra/#LinearAlgebra.dot)."
   ]
  },
  {
   "cell_type": "code",
<<<<<<< Updated upstream
   "execution_count": 26,
=======
   "execution_count": 11,
>>>>>>> Stashed changes
   "id": "ead1ed92-0207-4be2-b3e2-4d27f5a31cb2",
   "metadata": {},
   "outputs": [
    {
<<<<<<< Updated upstream
     "name": "stdout",
     "output_type": "stream",
     "text": [
      "The NPV for a Tesla Model S over 10.0 years equals -141647.6479753733 USD\n"
=======
     "ename": "UndefVarError",
     "evalue": "UndefVarError: `dot` not defined in `Main`\nSuggestion: check for spelling errors or missing imports.\nHint: a global variable of this name may be made accessible by importing LinearAlgebra in the current active module Main",
     "output_type": "error",
     "traceback": [
      "UndefVarError: `dot` not defined in `Main`\n",
      "Suggestion: check for spelling errors or missing imports.\n",
      "Hint: a global variable of this name may be made accessible by importing LinearAlgebra in the current active module Main\n",
      "\n",
      "Stacktrace:\n",
      " [1] top-level scope\n",
      "   @ ~/Documents/GitHub/CHEME-5660-CourseRepository-Fall-2025/lectures/week-1/L1b/jl_notebook_cell_df34fa98e69747e1a8f8a730347b8e2f_X33sZmlsZQ==.jl:1"
>>>>>>> Stashed changes
     ]
    }
   ],
   "source": [
    "NPV = dot(𝒟inv, c̄);\n",
    "println(\"The NPV for a Tesla Model S over $(T) years equals $(NPV) USD\")"
   ]
  },
  {
   "cell_type": "markdown",
   "id": "488f4c5b-69d6-4cbd-a65d-7e08588f0e6c",
   "metadata": {},
   "source": [
    "### Discussion Questions\n",
    "* What does having a negative `NPV < 0` value mean?\n",
    "* What factors can we change to increase the `NPV` of the [Tesla Model S](https://www.tesla.com/models)?"
   ]
  },
  {
   "cell_type": "markdown",
   "id": "dbb87e40-6754-4785-a5e1-7bae8979b477",
   "metadata": {},
   "source": [
    "## Disclaimer and Risks\n",
    "__This content is offered solely for training and informational purposes__. No offer or solicitation to buy or sell securities or derivative products or any investment or trading advice or strategy is made, given, or endorsed by the teaching team. \n",
    "\n",
    "__Trading involves risk__. Carefully review your financial situation before investing in securities, futures contracts, options, or commodity interests. Past performance, whether actual or indicated by historical tests of strategies, is no guarantee of future performance or success. Trading is generally inappropriate for someone with limited resources, investment or trading experience, or a low-risk tolerance.  Only risk capital that is not required for living expenses.\n",
    "\n",
    "__You are fully responsible for any investment or trading decisions you make__. Such decisions should be based solely on evaluating your financial circumstances, investment or trading objectives, risk tolerance, and liquidity needs."
   ]
  }
 ],
 "metadata": {
  "kernelspec": {
   "display_name": "Julia 1.11.6",
   "language": "julia",
   "name": "julia-1.11"
  },
  "language_info": {
   "file_extension": ".jl",
   "mimetype": "application/julia",
   "name": "julia",
   "version": "1.11.6"
  }
 },
 "nbformat": 4,
 "nbformat_minor": 5
}
