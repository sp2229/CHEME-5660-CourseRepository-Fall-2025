{
 "cells": [
  {
   "cell_type": "markdown",
   "id": "cd066d5c-7d17-4ad9-a2c0-72a932169b27",
   "metadata": {},
   "source": [
    "# Example: Data-Driven Minimum-Variance Portfolio Allocation for Risky Assets\n",
    "In this example, we'll compute the [Efficient Frontier](https://en.wikipedia.org/wiki/Efficient_frontier) for a portfolio of risky assets, where the expected return and the covariance of the returns are calculated from a historical dataset. \n",
    "\n",
    "> __Learning Objectives:__\n",
    "> \n",
    "> By the end of this example, you will be able to:\n",
    "> \n",
    "> * **Compute empirical portfolio statistics from historical data.** Calculate expected returns and covariance matrices from market data for selected assets, providing the foundation for quantitative portfolio analysis using observed relationships between securities.\n",
    "> * **Formulate and solve Markowitz minimum-variance optimization problems.** Set up constrained quadratic optimization problems that minimize portfolio risk for given return targets, using the classical mean-variance framework to find optimal asset allocations.\n",
    "> * **Generate and analyze efficient frontier curves for risky asset portfolios.** Systematically compute optimal portfolios across different risk-return combinations and visualize the resulting efficient frontier to understand the trade-offs between expected return and portfolio volatility.\n",
    "\n",
    "Let's get started!\n",
    "___"
   ]
  },
  {
   "cell_type": "markdown",
   "id": "c420ed7a-dc00-4183-bdf8-474874e6aa29",
   "metadata": {},
   "source": [
    "## Setup, Data, and Prerequisites\n",
    "First, we set up the computational environment by including the `Include.jl` file and loading any needed resources.\n",
    "\n",
    ">__Include:__ The [`include(...)` command](https://docs.julialang.org/en/v1/base/base/#include) evaluates the contents of the input source file, `Include.jl`, in the notebook's global scope. The `Include.jl` file sets paths, loads required external packages, etc. For additional information on functions and types used in this material, see the [Julia programming language documentation](https://docs.julialang.org/en/v1/). \n",
    "\n",
    "Let's set up our code environment:"
   ]
  },
  {
   "cell_type": "code",
   "execution_count": 3,
   "id": "0dc21749-1f11-4f3d-9821-786449e5a1de",
   "metadata": {
    "tags": []
   },
   "outputs": [
    {
     "name": "stderr",
     "output_type": "stream",
     "text": [
      "\u001b[36m\u001b[1m[ \u001b[22m\u001b[39m\u001b[36m\u001b[1mInfo: \u001b[22m\u001b[39mPrecompiling IJuliaExt [2f4121a4-3b3a-5ce6-9c5e-1f2673ce168a] (cache misses: wrong dep version loaded (16), incompatible header (2))\n"
     ]
    }
   ],
   "source": [
    "include(joinpath(@__DIR__, \"Include.jl\")); # include the Include.jl file"
   ]
  },
  {
   "cell_type": "markdown",
   "id": "3fad59f4",
   "metadata": {},
   "source": [
    "For additional information on functions and types used in this material, see the [Julia programming language documentation](https://docs.julialang.org/en/v1/) and the [VLQuantitativeFinancePackage.jl documentation](https://github.com/varnerlab/VLQuantitativeFinancePackage.jl). "
   ]
  },
  {
   "cell_type": "markdown",
   "id": "df06e8f9-0a6d-440e-bd76-05e4129882ef",
   "metadata": {},
   "source": [
    "### Data\n",
    "We gathered daily open-high-low-close (OHLC) data for each firm in the [S&P 500](https://en.wikipedia.org/wiki/S%26P_500) from `01-03-2025` until `09-26-2025`, along with data for several exchange-traded funds and volatility products during that time period.\n",
    "\n",
    "Let's load the `original_dataset::DataFrame` by calling [the `MyTestingMarketDataSet()` function](https://varnerlab.github.io/VLQuantitativeFinancePackage.jl/dev/data/#VLQuantitativeFinancePackage.MyTestingMarketDataSet)."
   ]
  },
  {
   "cell_type": "code",
   "execution_count": 6,
   "id": "274c86dc-1d5d-4adf-be13-86a113bbda7a",
   "metadata": {
    "tags": []
   },
   "outputs": [
    {
     "data": {
      "text/plain": [
       "Dict{String, DataFrame} with 482 entries:\n",
       "  \"NI\"   => \u001b[1m182×8 DataFrame\u001b[0m\u001b[0m…\n",
       "  \"EMR\"  => \u001b[1m182×8 DataFrame\u001b[0m\u001b[0m…\n",
       "  \"CTAS\" => \u001b[1m182×8 DataFrame\u001b[0m\u001b[0m…\n",
       "  \"HSIC\" => \u001b[1m182×8 DataFrame\u001b[0m\u001b[0m…\n",
       "  \"KIM\"  => \u001b[1m182×8 DataFrame\u001b[0m\u001b[0m…\n",
       "  \"PLD\"  => \u001b[1m182×8 DataFrame\u001b[0m\u001b[0m…\n",
       "  \"IEX\"  => \u001b[1m182×8 DataFrame\u001b[0m\u001b[0m…\n",
       "  \"BAC\"  => \u001b[1m182×8 DataFrame\u001b[0m\u001b[0m…\n",
       "  \"CBOE\" => \u001b[1m182×8 DataFrame\u001b[0m\u001b[0m…\n",
       "  \"EXR\"  => \u001b[1m182×8 DataFrame\u001b[0m\u001b[0m…\n",
       "  \"NCLH\" => \u001b[1m182×8 DataFrame\u001b[0m\u001b[0m…\n",
       "  \"CVS\"  => \u001b[1m182×8 DataFrame\u001b[0m\u001b[0m…\n",
       "  \"DRI\"  => \u001b[1m182×8 DataFrame\u001b[0m\u001b[0m…\n",
       "  \"DTE\"  => \u001b[1m182×8 DataFrame\u001b[0m\u001b[0m…\n",
       "  \"ZION\" => \u001b[1m182×8 DataFrame\u001b[0m\u001b[0m…\n",
       "  \"AVY\"  => \u001b[1m182×8 DataFrame\u001b[0m\u001b[0m…\n",
       "  \"EW\"   => \u001b[1m182×8 DataFrame\u001b[0m\u001b[0m…\n",
       "  \"EA\"   => \u001b[1m182×8 DataFrame\u001b[0m\u001b[0m…\n",
       "  \"NWSA\" => \u001b[1m182×8 DataFrame\u001b[0m\u001b[0m…\n",
       "  \"BBWI\" => \u001b[1m182×8 DataFrame\u001b[0m\u001b[0m…\n",
       "  \"CAG\"  => \u001b[1m182×8 DataFrame\u001b[0m\u001b[0m…\n",
       "  \"GPC\"  => \u001b[1m182×8 DataFrame\u001b[0m\u001b[0m…\n",
       "  \"FCX\"  => \u001b[1m182×8 DataFrame\u001b[0m\u001b[0m…\n",
       "  \"GILD\" => \u001b[1m182×8 DataFrame\u001b[0m\u001b[0m…\n",
       "  \"INFO\" => \u001b[1m182×8 DataFrame\u001b[0m\u001b[0m…\n",
       "  ⋮      => ⋮"
      ]
     },
     "execution_count": 6,
     "metadata": {},
     "output_type": "execute_result"
    }
   ],
   "source": [
    "original_dataset = MyTestingMarketDataSet() |> x-> x[\"dataset\"] # load the original dataset (testing)"
   ]
  },
  {
   "cell_type": "markdown",
   "id": "1a5a5ff1-3df9-4adf-8f2d-4f96146208a1",
   "metadata": {},
   "source": [
    "Not all tickers in our dataset have the maximum number of trading days for various reasons, such as acquisition or delisting events. Let's collect only those tickers with the maximum number of trading days to ensure we have consistent, complete time series for reliable analysis.\n",
    "\n",
    "First, let's compute the number of records for a firm that we know has the maximum value, e.g., `AAPL`, and save that value in the `maximum_number_trading_days::Int64` variable:"
   ]
  },
  {
   "cell_type": "code",
   "execution_count": 8,
   "id": "be27b36f-a5b4-4ae7-a6ab-3749e1477bcd",
   "metadata": {
    "tags": []
   },
   "outputs": [],
   "source": [
    "maximum_number_trading_days = original_dataset[\"AAPL\"] |> nrow;"
   ]
  },
  {
   "cell_type": "markdown",
   "id": "e7a51cbf-e698-4807-9881-724bfbdad23d",
   "metadata": {},
   "source": [
    "Now, let's iterate through our data and collect only tickers with `maximum_number_trading_days` records. Save that data in the `dataset::Dict{String,DataFrame}` variable:"
   ]
  },
  {
   "cell_type": "code",
   "execution_count": 10,
   "id": "011a6c1a-fd8f-44a1-b292-5f171ad6d8c1",
   "metadata": {
    "tags": []
   },
   "outputs": [],
   "source": [
    "dataset = let\n",
    "\n",
    "    # initialize -\n",
    "    dataset = Dict{String, DataFrame}();\n",
    "\n",
    "    # iterate through the dictionary; we can't guarantee a particular order\n",
    "    for (ticker, data) ∈ original_dataset  # we get each (K, V) pair!\n",
    "        if (nrow(data) == maximum_number_trading_days) # check if ticker has maximum trading days\n",
    "            dataset[ticker] = data;\n",
    "        end\n",
    "    end\n",
    "    dataset; # return\n",
    "end;"
   ]
  },
  {
   "cell_type": "markdown",
   "id": "37e9ec27-1dad-4f65-9cb4-651d9cc5edbc",
   "metadata": {},
   "source": [
    "Next, let's get a list of the firms in our cleaned dataset and sort them alphabetically. We store the sorted firm ticker symbols in the `list_of_tickers::Array{String,1}` variable:"
   ]
  },
  {
   "cell_type": "code",
   "execution_count": 12,
   "id": "258aa8bf-f9a7-4b14-a94f-f661e38ab5ab",
   "metadata": {
    "tags": []
   },
   "outputs": [],
   "source": [
    "list_of_tickers = keys(dataset) |> collect |> sort; # list of firm \"ticker\" symbols in alphabetical order"
   ]
  },
  {
   "cell_type": "markdown",
   "id": "d20c9866",
   "metadata": {},
   "source": [
    "Now, let's load the GBM parameters that we computed in the previous example:"
   ]
  },
  {
   "cell_type": "code",
   "execution_count": 14,
   "id": "bd7cf6b1",
   "metadata": {},
   "outputs": [],
   "source": [
    "parameters_df = let\n",
    "\n",
    "    # load -\n",
    "    df = CSV.read(joinpath(_PATH_TO_DATA,\"SAGBM-Parameters-Fall-2025.csv\"), DataFrame);\n",
    "    df; # return\n",
    "end;"
   ]
  },
  {
   "cell_type": "markdown",
   "id": "a5acb794",
   "metadata": {},
   "source": [
    "Next, let's load the covariance matrix that we computed in the previous example:"
   ]
  },
  {
   "cell_type": "code",
   "execution_count": 16,
   "id": "fa04ddcc",
   "metadata": {},
   "outputs": [],
   "source": [
    "covariance_dictionary = let\n",
    "\n",
    "    # initialize -\n",
    "    path_to_covariance = joinpath(_PATH_TO_DATA,\"Covariance-Return-Training-Fall-2025.jld2\");\n",
    "    covariance = JLD2.load(path_to_covariance);\n",
    "    covariance;\n",
    "end;"
   ]
  },
  {
   "cell_type": "markdown",
   "id": "2c60e839",
   "metadata": {},
   "source": [
    "### Constants and Parameters\n",
    "Let's define some constants and parameters that we will use in our simulations. See the comments next to each constant for additional information, including values, units, etc."
   ]
  },
  {
   "cell_type": "code",
   "execution_count": 18,
   "id": "25570d96",
   "metadata": {},
   "outputs": [],
   "source": [
    "Δt = (1.0/252.0); # time step (1 trading day, in years)\n",
    "TSIM = 182; # number of trading days to simulate (1 quarter, in trading days)\n",
    "all_range = range(1,stop=maximum_number_trading_days,step=1) |> collect;\n",
    "startdate = Date(2025,1,1); # start date of simulation\n",
    "risk_free_rate = 0.03815; # benchmark: 10-year T-note 10/03/24"
   ]
  },
  {
   "cell_type": "markdown",
   "id": "5233e763-8d24-496f-af57-4c234e19f7b0",
   "metadata": {},
   "source": [
    "## Task 1: Build the log return array and covariance matrix for a sample portfolio\n",
    "Modern portfolio theory requires two key inputs: expected returns and the covariance structure between assets. In this task, we will extract these statistics from our historical dataset to prepare for optimization.\n",
    "\n",
    "We will compute the expected growth (return) vector (we'll approximate this using the drift vector) and the covariance matrix for the assets in a portfolio composed of $M$ risky assets that we choose. Thus, before we compute the efficient frontier, we must decide which tickers to include in the risky portfolio. \n",
    "\n",
    "> __Ticker picker question:__ Which assets to include in your portfolio may seem like a simple question, but it turns out to be a hard question to answer, and it can have a __significant impact__ on the performance of your portfolio. There are so many interesting threads that we could pull here. But for now, just pick something. \n",
    "\n",
    "Specify a collection of ticker symbols, e.g., `AAPL`, `MSFT`, etc., that interest you in the `my_list_of_tickers::Array{String,1}` array. "
   ]
  },
  {
   "cell_type": "code",
   "execution_count": 20,
   "id": "957286f4-dfd9-4f28-8ae7-b2c75327f786",
   "metadata": {
    "tags": []
   },
   "outputs": [],
   "source": [
    "my_list_of_tickers = [\"AAPL\", \"MSFT\", \"INTC\", \"MU\", \"AMD\", \"NVDA\", \"GS\", \"BAC\", \"WFC\", \"C\", \"F\", \"GM\", \"JNJ\"]; # random tickers that I selected."
   ]
  },
  {
   "cell_type": "markdown",
   "id": "246a3aa2-20c7-41bc-aad7-ddc3384c372f",
   "metadata": {},
   "source": [
    "Now that we have selected the firms in our risky portfolio, we'll compute the firm-specific expected return vector and covariance matrix. We'll store these in the $\\hat{\\mu}$ and $\\hat{\\Sigma}$ variables. "
   ]
  },
  {
   "cell_type": "code",
   "execution_count": 22,
   "id": "9521e2bf-19a1-4f00-b520-2c3b4a80fcdc",
   "metadata": {
    "tags": []
   },
   "outputs": [],
   "source": [
    "μ̂, Σ̂ᵣ = let\n",
    "\n",
    "    # initialize -\n",
    "    M = length(my_list_of_tickers); # number of assets in portfolio\n",
    "    μ = Array{Float64,1}(); # drift vector\n",
    "    Σᵣ = Array{Float64,2}(undef, M, M); # covariance matrix for *our* portfolio\n",
    "    tickers_in_parameters = parameters_df[:, :ticker] |> collect; # list of tickers in parameters_df\n",
    "    covariance_ticker_list = covariance_dictionary[\"list_of_tickers\"] |> collect; # list of tickers in covariance dictionary\n",
    "    Σ = covariance_dictionary[\"covariance_matrix\"]; # full covariance matrix\n",
    "\n",
    "    # compute drift vector -\n",
    "    for ticker ∈ my_list_of_tickers\n",
    "        i = findfirst(x-> x == ticker, tickers_in_parameters); # find index of ticker in the parameters_df\n",
    "        push!(μ, parameters_df[i, :drift]); # append drift value to μ\n",
    "    end\n",
    "\n",
    "    # compute covariance matrix -\n",
    "    for i ∈ 1:M\n",
    "        for j ∈ 1:M\n",
    "            row_index = findfirst(x-> x == my_list_of_tickers[i], covariance_ticker_list); # find row index in full covariance matrix\n",
    "            col_index = findfirst(x-> x == my_list_of_tickers[j], covariance_ticker_list); # find column index in full covariance matrix\n",
    "            Σᵣ[i,j] = Σ[row_index, col_index]; # assign value to Σᵣ\n",
    "        end\n",
    "    end\n",
    "\n",
    "    (μ, Σᵣ); # return\n",
    "end;"
   ]
  },
  {
   "cell_type": "code",
   "execution_count": 23,
   "id": "16cd3069",
   "metadata": {},
   "outputs": [
    {
     "data": {
      "text/plain": [
       "13-element Vector{Float64}:\n",
       "  0.24270982336153857\n",
       "  0.2471358046522564\n",
       "  0.011808131500890391\n",
       "  0.15913226678755288\n",
       "  0.43965769203026206\n",
       "  0.5032547203526204\n",
       "  0.09105696245327896\n",
       "  0.09307620823376395\n",
       " -0.013890779060143235\n",
       "  0.0054446227211617385\n",
       " -0.01843599791478546\n",
       "  0.024455836689585175\n",
       "  0.05375615545070021"
      ]
     },
     "execution_count": 23,
     "metadata": {},
     "output_type": "execute_result"
    }
   ],
   "source": [
    "μ̂"
   ]
  },
  {
   "cell_type": "markdown",
   "id": "1eb0a022-5c7c-4240-8361-6bd751034e07",
   "metadata": {
    "tags": []
   },
   "source": [
    "## Task 2: Compute the efficient frontier for your collection of stocks\n",
    "With our expected returns and covariance matrix in hand, we can now solve the classic Markowitz optimization problem. This will give us the set of portfolios that offer the highest expected return for each level of risk.\n",
    "\n",
    "In this task, we'll compute the optimal allocation in the minimum variance sense using the tickers in the `my_list_of_tickers::Array{String,1}` vector.\n",
    "\n",
    "> __What are we going to do?__ Create an instance of the [MyMarkowitzRiskyAssetOnlyPortfiolioChoiceProblem type](https://varnerlab.github.io/VLQuantitativeFinancePackage.jl/dev/portfolio/#VLQuantitativeFinancePackage.MyMarkowitzRiskyAssetOnlyPortfiolioChoiceProblem), and store this in the `problem_risk` variable using a [custom build(...) method](https://varnerlab.github.io/VLQuantitativeFinancePackage.jl/dev/portfolio/#VLQuantitativeFinancePackage.build-Tuple{Type{MyMarkowitzRiskyAssetOnlyPortfiolioChoiceProblem},%20NamedTuple}). You'll need to pass your covariance array $\\hat{\\Sigma}_{r}$, the expected return array $\\hat{\\mu}_{r}$, along with bounds and an initial guess, to the [build(...) method](https://varnerlab.github.io/VLQuantitativeFinancePackage.jl/dev/portfolio/#VLQuantitativeFinancePackage.build-Tuple{Type{MyMarkowitzRiskyAssetOnlyPortfolioChoiceProblem},%20NamedTuple}). Then, we can use the [solve(...) method](https://varnerlab.github.io/VLQuantitativeFinancePackage.jl/dev/portfolio/#VLQuantitativeFinancePackage.solve-Tuple{MyMarkowitzRiskyAssetOnlyPortfolioChoiceProblem}) for different values of the minimum desired return to compute the efficient frontier.\n",
    "\n",
    "First, let's set up the bounds and other parameters required for the computation of the portfolio weights along the efficient frontier:"
   ]
  },
  {
   "cell_type": "code",
   "execution_count": 25,
   "id": "9567321e-4543-4f70-904f-48b33635da7a",
   "metadata": {
    "tags": []
   },
   "outputs": [],
   "source": [
    "number_of_firms = length(my_list_of_tickers); # how many firms do we have\n",
    "wₒ = zeros(number_of_firms) # initial allocation (zeros)\n",
    "wₒ[1] = 1.0; # all money in firm 1\n",
    "bounds = zeros(number_of_firms,2); \n",
    "bounds[:,2] .= 1.0;\n",
    "number_of_points = 201;"
   ]
  },
  {
   "cell_type": "markdown",
   "id": "1d0928d4-e59d-434e-b3c8-2fab88b2d646",
   "metadata": {},
   "source": [
    "Next, let's build an instance of the [MyMarkowitzRiskyAssetOnlyPortfolioChoiceProblem type](https://varnerlab.github.io/VLQuantitativeFinancePackage.jl/dev/portfolio/#VLQuantitativeFinancePackage.MyMarkowitzRiskyAssetOnlyPortfolioChoiceProblem) using the [build(...) method](https://varnerlab.github.io/VLQuantitativeFinancePackage.jl/dev/portfolio/#VLQuantitativeFinancePackage.build-Tuple{Type{MyMarkowitzRiskyAssetOnlyPortfolioChoiceProblem},%20NamedTuple}), passing in the data for the required fields:"
   ]
  },
  {
   "cell_type": "code",
   "execution_count": 27,
   "id": "f10e57f0-d8bc-4d69-b0ad-ca989f69215f",
   "metadata": {
    "tags": []
   },
   "outputs": [
    {
     "ename": "LoadError",
     "evalue": "UndefVarError: `MyMarkowitzRiskyAssetOnlyPortfiolioChoiceProblem` not defined in `Main`\nSuggestion: check for spelling errors or missing imports.",
     "output_type": "error",
     "traceback": [
      "UndefVarError: `MyMarkowitzRiskyAssetOnlyPortfiolioChoiceProblem` not defined in `Main`\nSuggestion: check for spelling errors or missing imports.",
      "",
      "Stacktrace:",
      " [1] top-level scope",
      "\u001b[90m   @\u001b[39m \u001b[90m\u001b[4mIn[27]:1\u001b[24m\u001b[39m"
     ]
    }
   ],
   "source": [
    "problem_risk = build(MyMarkowitzRiskyAssetOnlyPortfiolioChoiceProblem, (\n",
    "    Σ = Σ̂ᵣ, # covariance = risk\n",
    "    μ = μ̂, # drift = return\n",
    "    bounds = bounds, # [0,1]\n",
    "    initial = wₒ, # initial allocation\n",
    "    R = 0.0 # desired return\n",
    "));"
   ]
  },
  {
   "cell_type": "markdown",
   "id": "e5b79d1c-8a2c-4b0e-80ce-765ca5969ea0",
   "metadata": {},
   "source": [
    "Now, create an array holding the minimum desired rewards (the calculation must achieve at least this much reward). We store these values in the `minimum_desired_reward_array` variable. In this example, let's start at `0` and go up to `20`$\\times{r_{f}}$ annualized return using `number_of_points`:"
   ]
  },
  {
   "cell_type": "code",
   "execution_count": 29,
   "id": "5f919feb-a7b7-4b83-bb25-8935b4a2c4a5",
   "metadata": {
    "tags": []
   },
   "outputs": [],
   "source": [
    "minimum_desired_reward_array = range(0.0, stop = 20*risk_free_rate, length = number_of_points) |> collect; # R"
   ]
  },
  {
   "cell_type": "markdown",
   "id": "9479d04c",
   "metadata": {},
   "source": [
    "What's in the `minimum_desired_reward_array::Array{Float64,1}` array?"
   ]
  },
  {
   "cell_type": "code",
   "execution_count": 31,
   "id": "ff212a8d",
   "metadata": {},
   "outputs": [
    {
     "data": {
      "text/plain": [
       "201-element Vector{Float64}:\n",
       " 0.0\n",
       " 0.0038150000000000007\n",
       " 0.007630000000000001\n",
       " 0.011445000000000002\n",
       " 0.015260000000000003\n",
       " 0.019075\n",
       " 0.022890000000000004\n",
       " 0.026705000000000003\n",
       " 0.030520000000000005\n",
       " 0.034335000000000004\n",
       " 0.03815\n",
       " 0.04196500000000001\n",
       " 0.04578000000000001\n",
       " ⋮\n",
       " 0.7210350000000001\n",
       " 0.7248500000000001\n",
       " 0.7286650000000001\n",
       " 0.7324800000000001\n",
       " 0.7362950000000001\n",
       " 0.7401100000000002\n",
       " 0.7439250000000002\n",
       " 0.7477400000000001\n",
       " 0.7515550000000001\n",
       " 0.7553700000000001\n",
       " 0.7591850000000001\n",
       " 0.7630000000000001"
      ]
     },
     "execution_count": 31,
     "metadata": {},
     "output_type": "execute_result"
    }
   ],
   "source": [
    "minimum_desired_reward_array"
   ]
  },
  {
   "cell_type": "markdown",
   "id": "8511c320-7951-47a9-9588-4441e3e73533",
   "metadata": {},
   "source": [
    "We now iterate through the `minimum_desired_reward_array::Array{Float64,1}` and compute the minimum risk required to achieve the specified reward level using a `for-loop`.\n",
    "\n",
    "For each pass through the loop, we:\n",
    "* Update the `problem_risk` variable with the minimum desired reward (set the `R` field). We then pass the updated `problem` object to the [solve(...) method](https://varnerlab.github.io/VLQuantitativeFinancePackage.jl/dev/portfolio/#VLQuantitativeFinancePackage.solve-Tuple{MyMarkowitzRiskyAssetOnlyPortfolioChoiceProblem}) (which initializes and solves the optimization problem). The solution returned from the [solve(...) method](https://varnerlab.github.io/VLQuantitativeFinancePackage.jl/dev/portfolio/#VLQuantitativeFinancePackage.solve-Tuple{MyMarkowitzRiskyAssetOnlyPortfolioChoiceProblem}) is stored in the `solution` dictionary. \n",
    "* We check the `status` of the solution. If the `status` indicates an optimal solution was found, we store that solution in the `efficient_frontier` dictionary. In particular, we store the portfolio risk as the `key` and the expected return, risk and allocation as the `value` in the `efficient_frontier` dictionary.\n",
    "\n",
    "Why the [try-catch environment](https://docs.julialang.org/en/v1/base/base/#try)? The [solve(...) method](https://varnerlab.github.io/VLQuantitativeFinancePackage.jl/dev/portfolio/#VLQuantitativeFinancePackage.solve-Tuple{MyMarkowitzRiskyAssetOnlyPortfolioChoiceProblem}) has an [@assert statement](https://docs.julialang.org/en/v1/base/base/#Base.@assert) to check if the calculation has converged. Thus, the solve method can [throw](https://docs.julialang.org/en/v1/base/base/#Core.throw) an [AssertionError](https://docs.julialang.org/en/v1/base/base/#Core.AssertionError) if the optimization problem fails to converge. To gracefully handle this case, we use a [try-catch construct](https://docs.julialang.org/en/v1/base/base/#try). See the [is_solved_and_feasible method from the JuMP package](https://jump.dev/JuMP.jl/stable/api/JuMP/#JuMP.is_solved_and_feasible) for more information."
   ]
  },
  {
   "cell_type": "code",
   "execution_count": 33,
   "id": "7e4f97bc-9e43-438c-ba7a-a6f2bd41eeda",
   "metadata": {
    "tags": []
   },
   "outputs": [
    {
     "ename": "LoadError",
     "evalue": "UndefVarError: `problem_risk` not defined in `Main`\nSuggestion: check for spelling errors or missing imports.",
     "output_type": "error",
     "traceback": [
      "UndefVarError: `problem_risk` not defined in `Main`\nSuggestion: check for spelling errors or missing imports.",
      "",
      "Stacktrace:",
      " [1] top-level scope",
      "\u001b[90m   @\u001b[39m \u001b[90m./\u001b[39m\u001b[90m\u001b[4mIn[33]:8\u001b[24m\u001b[39m"
     ]
    }
   ],
   "source": [
    "efficient_frontier = let\n",
    "\n",
    "    # initialize -\n",
    "    efficient_frontier = Dict{Float64, NamedTuple}();\n",
    "\n",
    "    # main loop\n",
    "    for i ∈ eachindex(minimum_desired_reward_array)\n",
    "        problem_risk.R = minimum_desired_reward_array[i]; # update the problem object with the min desired reward value\n",
    "    \n",
    "        try\n",
    "            solution = solve(problem_risk)\n",
    "            status_flag = solution[\"status\"];    \n",
    "\n",
    "            if (status_flag == MathOptInterface.LOCALLY_SOLVED)\n",
    "                risk_value = solution[\"objective_value\"]; # get the sqrt of the risk -\n",
    "                reward_value = solution[\"reward\"];\n",
    "                allocation = solution[\"argmax\"]; # TODO: need to update this key\n",
    "                \n",
    "                \n",
    "                efficient_frontier[risk_value] = (risk = risk_value, reward = reward_value, w = allocation)\n",
    "            end\n",
    "        catch err\n",
    "            # Uncomment to see which R's failed ...\n",
    "            # println(\"Failed: desired R = $(problem_risk.R). Infeasible\");\n",
    "        end    \n",
    "    end\n",
    "    efficient_frontier;\n",
    "end;"
   ]
  },
  {
   "cell_type": "markdown",
   "id": "d3b8db5e",
   "metadata": {},
   "source": [
    "What's in the `efficient_frontier::Dict{Float64,NamedTuple}` dictionary?"
   ]
  },
  {
   "cell_type": "code",
   "execution_count": 35,
   "id": "3d799d21",
   "metadata": {},
   "outputs": [
    {
     "ename": "LoadError",
     "evalue": "UndefVarError: `efficient_frontier` not defined in `Main`\nSuggestion: check for spelling errors or missing imports.",
     "output_type": "error",
     "traceback": [
      "UndefVarError: `efficient_frontier` not defined in `Main`\nSuggestion: check for spelling errors or missing imports.",
      ""
     ]
    }
   ],
   "source": [
    "efficient_frontier"
   ]
  },
  {
   "cell_type": "markdown",
   "id": "ba9cff58",
   "metadata": {},
   "source": [
    "### Organize efficient frontier results into a matrix for analysis and visualization\n",
    "Transform the `efficient_frontier::Dict{Float64,NamedTuple}` dictionary into a matrix format for plotting and analysis.\n",
    "\n",
    "> __What are we doing?__ Extract portfolio data from the `efficient_frontier::Dict{Float64,NamedTuple}` dictionary and organize it into the `results_array::Array{Float64,2}` matrix. Sort portfolios by risk level and store risk, return, and allocation weights in matrix columns.\n",
    "\n",
    "> __What's in the results array?__ The `results_array::Array{Float64,2}` has `number_of_portfolios::Int64` rows and `M+2` columns:\n",
    "> * Column 1: Portfolio risk (standard deviation = √variance)  \n",
    "> * Column 2: Portfolio expected return\n",
    "> * Columns 3 to M+2: Asset allocation weights for the `M::Int64` tickers\n",
    "\n",
    "Let's build the `results_array::Array{Float64,2}` from our efficient frontier solutions:"
   ]
  },
  {
   "cell_type": "code",
   "execution_count": 37,
   "id": "290ae087",
   "metadata": {},
   "outputs": [
    {
     "ename": "LoadError",
     "evalue": "UndefVarError: `efficient_frontier` not defined in `Main`\nSuggestion: check for spelling errors or missing imports.",
     "output_type": "error",
     "traceback": [
      "UndefVarError: `efficient_frontier` not defined in `Main`\nSuggestion: check for spelling errors or missing imports.",
      "",
      "Stacktrace:",
      " [1] top-level scope",
      "\u001b[90m   @\u001b[39m \u001b[90m./\u001b[39m\u001b[90m\u001b[4mIn[37]:4\u001b[24m\u001b[39m"
     ]
    }
   ],
   "source": [
    "results_array = let\n",
    "\n",
    "    # initialize -\n",
    "    number_of_portfolios = length(efficient_frontier); # how many portfolios do we have? (these all exited correctly)\n",
    "    M = length(my_list_of_tickers); # how many tickers do we have?\n",
    "    results_array = Array{Float64,2}(undef, number_of_portfolios, M+2);\n",
    "    risk_array_sorted = keys(efficient_frontier) |> collect |> sort;\n",
    "\n",
    "    for i ∈ eachindex(risk_array_sorted)\n",
    "        risk_value = risk_array_sorted[i] |> sqrt; # let's plot the sqrt of the risk\n",
    "        \n",
    "        data = efficient_frontier[risk_array_sorted[i]] # get the NamedTuple corresponding to this risk level\n",
    "        reward_value = data.reward;\n",
    "        w = data.w;\n",
    "\n",
    "        results_array[i,1] = risk_value;\n",
    "        results_array[i,2] = reward_value;\n",
    "        for j ∈ 1:M\n",
    "            results_array[i,2+j] = w[j];\n",
    "        end\n",
    "    end\n",
    "\n",
    "    results_array\n",
    "end"
   ]
  },
  {
   "cell_type": "markdown",
   "id": "39b81fbf-e29c-43c7-b4f3-10d2e134e8a2",
   "metadata": {},
   "source": [
    "### Visualize the efficient frontier\n",
    "Now that we have computed the optimal portfolios, let's visualize the classic risk-return trade-off that Markowitz theory reveals. The efficient frontier shows the boundary of achievable risk-return combinations for our selected assets.\n",
    "\n",
    "`Unhide` the code block below to see how we plotted the efficient frontier for the collection of equities and ETFs specified in the `my_list_of_tickers::Array{String,1}` array."
   ]
  },
  {
   "cell_type": "code",
   "execution_count": 39,
   "id": "2927187b-5db3-4649-b7d6-6b12d645ae53",
   "metadata": {
    "jupyter": {
     "source_hidden": true
    },
    "tags": []
   },
   "outputs": [
    {
     "ename": "LoadError",
     "evalue": "UndefVarError: `results_array` not defined in `Main`\nSuggestion: check for spelling errors or missing imports.",
     "output_type": "error",
     "traceback": [
      "UndefVarError: `results_array` not defined in `Main`\nSuggestion: check for spelling errors or missing imports.",
      "",
      "Stacktrace:",
      " [1] top-level scope",
      "\u001b[90m   @\u001b[39m \u001b[90m\u001b[4mIn[39]:4\u001b[24m\u001b[39m"
     ]
    }
   ],
   "source": [
    "let\n",
    "\n",
    "    # initialize -\n",
    "    max_risk_value = results_array[end,1]; # what is the biggest risk we have (x-axis value)\n",
    "    max_reward_value = results_array[end,2]; # what is the biggest reward that we have (y-axis value)\n",
    "    number_of_portfolios = length(efficient_frontier); # how many portfolios did we recover?\n",
    "    skip = 3;\n",
    "\n",
    "    plot(results_array[:,1], results_array[:,2], lw=4, xlabel=\"Risk sqrt(variance)\", \n",
    "        ylabel=\"Portfolio log growth (1/yr)\", fontsize=18, label=\"\", c=:gray20, \n",
    "        xlim=(0.0, 1.1*max_risk_value), ylim = (0.0, 1.1*max_reward_value))\n",
    "    scatter!(results_array[1:skip:number_of_portfolios,1], results_array[1:skip:number_of_portfolios,2], \n",
    "        label=\"Estimated solution\", c=:white, ms=4, msc=:gray69)\n",
    "\n",
    "    plot!(bg=\"gray95\", background_color_outside=\"white\", framestyle = :box, fg_legend = :transparent);\n",
    "end"
   ]
  },
  {
   "cell_type": "markdown",
   "id": "98a38014-e78e-4d85-b1ac-0af77f162cd6",
   "metadata": {},
   "source": [
    "### What's in the minimum-variance portfolio?\n",
    "The efficient frontier reveals which combinations of assets provide optimal risk-return trade-offs. Let's examine a specific portfolio from our results to understand how the optimization allocates capital across different assets.\n",
    "\n",
    "We can extract the allocation values from the results_array to see which assets were selected and in what proportions."
   ]
  },
  {
   "cell_type": "code",
   "execution_count": 41,
   "id": "303bae6d",
   "metadata": {},
   "outputs": [],
   "source": [
    "index_to_view = 132; # index = 1 will give the min-var portfolio, index = max gives the high-risk high-reward portfolio"
   ]
  },
  {
   "cell_type": "markdown",
   "id": "3c3702e9-1883-4020-86e1-0be57eb2224a",
   "metadata": {},
   "source": [
    "`Unhide` the code block below to see how we build a table holding the portfolio weights for the selected portfolio:"
   ]
  },
  {
   "cell_type": "code",
   "execution_count": 43,
   "id": "12ccca3f-fe09-47c1-80fe-d0d1904e0812",
   "metadata": {
    "jupyter": {
     "source_hidden": true
    },
    "tags": []
   },
   "outputs": [
    {
     "ename": "LoadError",
     "evalue": "UndefVarError: `results_array` not defined in `Main`\nSuggestion: check for spelling errors or missing imports.",
     "output_type": "error",
     "traceback": [
      "UndefVarError: `results_array` not defined in `Main`\nSuggestion: check for spelling errors or missing imports.",
      "",
      "Stacktrace:",
      " [1] top-level scope",
      "\u001b[90m   @\u001b[39m \u001b[90m./\u001b[39m\u001b[90m\u001b[4mIn[43]:4\u001b[24m\u001b[39m"
     ]
    }
   ],
   "source": [
    "let\n",
    "\n",
    "    # initialize -\n",
    "    w = results_array[index_to_view, 3:end]; # 3:end gives the allocations\n",
    "    df = DataFrame();\n",
    "    \n",
    "    for i ∈ eachindex(my_list_of_tickers)\n",
    "        ticker = my_list_of_tickers[i];\n",
    "        wᵢ = w[i];\n",
    "        row_data = (\n",
    "            ticker = ticker,\n",
    "            w = round(wᵢ, digits=4) |> abs\n",
    "        );\n",
    "        push!(df,row_data)\n",
    "    end\n",
    "    \n",
    "    # compute the total -\n",
    "    total = df[:,:w] |> sum\n",
    "    last_row = (\n",
    "        ticker = \"total\",\n",
    "        w = total\n",
    "    )\n",
    "    push!(df,last_row)\n",
    "    \n",
    "\n",
    "     # build a table -\n",
    "    pretty_table(df, backend = :text,\n",
    "         table_format = TextTableFormat(borders = text_table_borders__compact))\n",
    "end"
   ]
  },
  {
   "cell_type": "markdown",
   "id": "88def7fc",
   "metadata": {},
   "source": [
    "___"
   ]
  },
  {
   "cell_type": "markdown",
   "id": "8de04ee8",
   "metadata": {},
   "source": [
    "## Summary\n",
    "In this example, we implemented a complete data-driven approach to modern portfolio theory, computing the efficient frontier for a portfolio of risky assets using historical market data.\n",
    "\n",
    "> __Key Takeaways:__\n",
    "> * **Historical data provides empirical inputs for portfolio optimization.** By computing sample means and covariance matrices from real price data, we obtain the statistical parameters needed for Markowitz optimization, though these estimates reflect past relationships that may not persist in the future.\n",
    ">\n",
    "> * **Markowitz optimization balances expected return against portfolio risk.** The minimum-variance framework systematically estimates optimal asset allocations that minimize portfolio variance for each target return level, providing a mathematical foundation for understanding risk-return trade-offs in portfolio construction.\n",
    ">\n",
    "> * **The efficient frontier reveals the limits of diversification benefits.** By plotting optimal portfolios across different return targets, we visualize the boundary of achievable risk-return combinations, showing how diversification can reduce risk without sacrificing expected return up to the frontier's limits.\n",
    "\n",
    "This framework demonstrates how quantitative methods can guide portfolio construction decisions, though real-world implementation requires careful consideration of parameter estimation uncertainty, changing market conditions, and many other factors. But it is a start!\n",
    "___"
   ]
  },
  {
   "cell_type": "markdown",
   "id": "88275cd4-1b38-4bbc-9880-b532360e6dd9",
   "metadata": {},
   "source": [
    "## Disclaimer and Risks\n",
    "\n",
    "__This content is offered solely for training and informational purposes__. No offer or solicitation to buy or sell securities or derivative products or any investment or trading advice or strategy is made, given, or endorsed by the teaching team.\n",
    "\n",
    "__Trading involves risk__. Carefully review your financial situation before investing in securities, futures contracts, options, or commodity interests. Past performance, whether actual or indicated by historical tests of strategies, is no guarantee of future performance or success. Trading is generally inappropriate for someone with limited resources, investment or trading experience, or a low-risk tolerance. Only risk capital that is not required for living expenses.\n",
    "\n",
    "__You are fully responsible for any investment or trading decisions you make__. Such decisions should be based solely on evaluating your financial circumstances, investment or trading objectives, risk tolerance, and liquidity needs."
   ]
  }
 ],
 "metadata": {
  "kernelspec": {
   "display_name": "Julia 1.11.7",
   "language": "julia",
   "name": "julia-1.11"
  },
  "language_info": {
   "file_extension": ".jl",
   "mimetype": "application/julia",
   "name": "julia",
   "version": "1.11.7"
  }
 },
 "nbformat": 4,
 "nbformat_minor": 5
}
