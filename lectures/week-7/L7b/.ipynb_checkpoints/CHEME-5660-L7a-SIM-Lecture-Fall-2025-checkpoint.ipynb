{
 "cells": [
  {
   "cell_type": "markdown",
   "id": "f282a53a-ef50-4f6e-a47e-5e36e5cd28a3",
   "metadata": {},
   "source": [
    "# L7a: Introduction to Single Index Models (SIMs)\n",
    "Fill me in."
   ]
  },
  {
   "cell_type": "code",
   "execution_count": null,
   "id": "bfd217aa-fc94-4758-80b1-8a5d101c83be",
   "metadata": {},
   "outputs": [],
   "source": []
  }
 ],
 "metadata": {
  "kernelspec": {
   "display_name": "Julia 1.11.5",
   "language": "julia",
   "name": "julia-1.11"
  },
  "language_info": {
   "file_extension": ".jl",
   "mimetype": "application/julia",
   "name": "julia",
   "version": "1.11.5"
  }
 },
 "nbformat": 4,
 "nbformat_minor": 5
}
