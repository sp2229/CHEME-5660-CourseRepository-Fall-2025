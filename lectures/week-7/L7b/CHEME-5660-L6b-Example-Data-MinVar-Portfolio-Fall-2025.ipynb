{
 "cells": [
  {
   "cell_type": "markdown",
   "id": "cd066d5c-7d17-4ad9-a2c0-72a932169b27",
   "metadata": {},
   "source": [
    "# Example: Data-Driven Minimum-Variance Portfolio Allocation for Risky Assets\n",
    "In this example, we'll compute the [Efficient Frontier](https://en.wikipedia.org/wiki/Efficient_frontier) for a portfolio of risky assets, where the expected return and the covariance of the returns are calculated from a historical dataset. \n",
    "\n",
    "> __Learning Objectives:__\n",
    "> \n",
    "> By the end of this example, you will be able to:\n",
    "> \n",
    "> * **Compute empirical portfolio statistics from historical data.** Calculate expected returns and covariance matrices from market data for selected assets, providing the foundation for quantitative portfolio analysis using observed relationships between securities.\n",
    "> * **Formulate and solve Markowitz minimum-variance optimization problems.** Set up constrained quadratic optimization problems that minimize portfolio risk for given return targets, using the classical mean-variance framework to find optimal asset allocations.\n",
    "> * **Generate and analyze efficient frontier curves for risky asset portfolios.** Systematically compute optimal portfolios across different risk-return combinations and visualize the resulting efficient frontier to understand the trade-offs between expected return and portfolio volatility.\n",
    "\n",
    "Let's get started!\n",
    "___"
   ]
  },
  {
   "cell_type": "markdown",
   "id": "c420ed7a-dc00-4183-bdf8-474874e6aa29",
   "metadata": {},
   "source": [
    "## Setup, Data, and Prerequisites\n",
    "First, we set up the computational environment by including the `Include.jl` file and loading any needed resources.\n",
    "\n",
    ">__Include:__ The [`include(...)` command](https://docs.julialang.org/en/v1/base/base/#include) evaluates the contents of the input source file, `Include.jl`, in the notebook's global scope. The `Include.jl` file sets paths, loads required external packages, etc. For additional information on functions and types used in this material, see the [Julia programming language documentation](https://docs.julialang.org/en/v1/). \n",
    "\n",
    "Let's set up our code environment:"
   ]
  },
  {
   "cell_type": "code",
   "execution_count": 3,
   "id": "0dc21749-1f11-4f3d-9821-786449e5a1de",
   "metadata": {
    "tags": []
   },
   "outputs": [],
   "source": [
    "include(joinpath(@__DIR__, \"Include.jl\")); # include the Include.jl file"
   ]
  },
  {
   "cell_type": "markdown",
   "id": "3fad59f4",
   "metadata": {},
   "source": [
    "For additional information on functions and types used in this material, see the [Julia programming language documentation](https://docs.julialang.org/en/v1/) and the [VLQuantitativeFinancePackage.jl documentation](https://github.com/varnerlab/VLQuantitativeFinancePackage.jl). "
   ]
  },
  {
   "cell_type": "markdown",
   "id": "df06e8f9-0a6d-440e-bd76-05e4129882ef",
   "metadata": {},
   "source": [
    "### Data\n",
    "We gathered daily open-high-low-close (OHLC) data for each firm in the [S&P 500](https://en.wikipedia.org/wiki/S%26P_500) from `01-03-2025` until `09-26-2025`, along with data for several exchange-traded funds and volatility products during that time period.\n",
    "\n",
    "Let's load the `original_dataset::DataFrame` by calling [the `MyTestingMarketDataSet()` function](https://varnerlab.github.io/VLQuantitativeFinancePackage.jl/dev/data/#VLQuantitativeFinancePackage.MyTestingMarketDataSet)."
   ]
  },
  {
   "cell_type": "code",
   "execution_count": 6,
   "id": "274c86dc-1d5d-4adf-be13-86a113bbda7a",
   "metadata": {
    "tags": []
   },
   "outputs": [
    {
     "data": {
      "text/plain": [
       "Dict{String, DataFrame} with 482 entries:\n",
       "  \"NI\"   => \u001b[1m182×8 DataFrame\u001b[0m\u001b[0m…\n",
       "  \"EMR\"  => \u001b[1m182×8 DataFrame\u001b[0m\u001b[0m…\n",
       "  \"CTAS\" => \u001b[1m182×8 DataFrame\u001b[0m\u001b[0m…\n",
       "  \"HSIC\" => \u001b[1m182×8 DataFrame\u001b[0m\u001b[0m…\n",
       "  \"KIM\"  => \u001b[1m182×8 DataFrame\u001b[0m\u001b[0m…\n",
       "  \"PLD\"  => \u001b[1m182×8 DataFrame\u001b[0m\u001b[0m…\n",
       "  \"IEX\"  => \u001b[1m182×8 DataFrame\u001b[0m\u001b[0m…\n",
       "  \"BAC\"  => \u001b[1m182×8 DataFrame\u001b[0m\u001b[0m…\n",
       "  \"CBOE\" => \u001b[1m182×8 DataFrame\u001b[0m\u001b[0m…\n",
       "  \"EXR\"  => \u001b[1m182×8 DataFrame\u001b[0m\u001b[0m…\n",
       "  \"NCLH\" => \u001b[1m182×8 DataFrame\u001b[0m\u001b[0m…\n",
       "  \"CVS\"  => \u001b[1m182×8 DataFrame\u001b[0m\u001b[0m…\n",
       "  \"DRI\"  => \u001b[1m182×8 DataFrame\u001b[0m\u001b[0m…\n",
       "  \"DTE\"  => \u001b[1m182×8 DataFrame\u001b[0m\u001b[0m…\n",
       "  \"ZION\" => \u001b[1m182×8 DataFrame\u001b[0m\u001b[0m…\n",
       "  \"AVY\"  => \u001b[1m182×8 DataFrame\u001b[0m\u001b[0m…\n",
       "  \"EW\"   => \u001b[1m182×8 DataFrame\u001b[0m\u001b[0m…\n",
       "  \"EA\"   => \u001b[1m182×8 DataFrame\u001b[0m\u001b[0m…\n",
       "  \"NWSA\" => \u001b[1m182×8 DataFrame\u001b[0m\u001b[0m…\n",
       "  \"BBWI\" => \u001b[1m182×8 DataFrame\u001b[0m\u001b[0m…\n",
       "  \"CAG\"  => \u001b[1m182×8 DataFrame\u001b[0m\u001b[0m…\n",
       "  \"GPC\"  => \u001b[1m182×8 DataFrame\u001b[0m\u001b[0m…\n",
       "  \"FCX\"  => \u001b[1m182×8 DataFrame\u001b[0m\u001b[0m…\n",
       "  \"GILD\" => \u001b[1m182×8 DataFrame\u001b[0m\u001b[0m…\n",
       "  \"INFO\" => \u001b[1m182×8 DataFrame\u001b[0m\u001b[0m…\n",
       "  ⋮      => ⋮"
      ]
     },
     "execution_count": 6,
     "metadata": {},
     "output_type": "execute_result"
    }
   ],
   "source": [
    "original_dataset = MyTestingMarketDataSet() |> x-> x[\"dataset\"] # load the original dataset (testing)"
   ]
  },
  {
   "cell_type": "markdown",
   "id": "1a5a5ff1-3df9-4adf-8f2d-4f96146208a1",
   "metadata": {},
   "source": [
    "Not all tickers in our dataset have the maximum number of trading days for various reasons, such as acquisition or delisting events. Let's collect only those tickers with the maximum number of trading days to ensure we have consistent, complete time series for reliable analysis.\n",
    "\n",
    "First, let's compute the number of records for a firm that we know has the maximum value, e.g., `AAPL`, and save that value in the `maximum_number_trading_days::Int64` variable:"
   ]
  },
  {
   "cell_type": "code",
   "execution_count": 8,
   "id": "be27b36f-a5b4-4ae7-a6ab-3749e1477bcd",
   "metadata": {
    "tags": []
   },
   "outputs": [],
   "source": [
    "maximum_number_trading_days = original_dataset[\"AAPL\"] |> nrow;"
   ]
  },
  {
   "cell_type": "markdown",
   "id": "e7a51cbf-e698-4807-9881-724bfbdad23d",
   "metadata": {},
   "source": [
    "Now, let's iterate through our data and collect only tickers with `maximum_number_trading_days` records. Save that data in the `dataset::Dict{String,DataFrame}` variable:"
   ]
  },
  {
   "cell_type": "code",
   "execution_count": 10,
   "id": "011a6c1a-fd8f-44a1-b292-5f171ad6d8c1",
   "metadata": {
    "tags": []
   },
   "outputs": [],
   "source": [
    "dataset = let\n",
    "\n",
    "    # initialize -\n",
    "    dataset = Dict{String, DataFrame}();\n",
    "\n",
    "    # iterate through the dictionary; we can't guarantee a particular order\n",
    "    for (ticker, data) ∈ original_dataset  # we get each (K, V) pair!\n",
    "        if (nrow(data) == maximum_number_trading_days) # check if ticker has maximum trading days\n",
    "            dataset[ticker] = data;\n",
    "        end\n",
    "    end\n",
    "    dataset; # return\n",
    "end;"
   ]
  },
  {
   "cell_type": "markdown",
   "id": "37e9ec27-1dad-4f65-9cb4-651d9cc5edbc",
   "metadata": {},
   "source": [
    "Next, let's get a list of the firms in our cleaned dataset and sort them alphabetically. We store the sorted firm ticker symbols in the `list_of_tickers::Array{String,1}` variable:"
   ]
  },
  {
   "cell_type": "code",
   "execution_count": 12,
   "id": "258aa8bf-f9a7-4b14-a94f-f661e38ab5ab",
   "metadata": {
    "tags": []
   },
   "outputs": [],
   "source": [
    "list_of_tickers = keys(dataset) |> collect |> sort; # list of firm \"ticker\" symbols in alphabetical order"
   ]
  },
  {
   "cell_type": "markdown",
   "id": "d20c9866",
   "metadata": {},
   "source": [
    "Now, let's load the GBM parameters that we computed in the previous example:"
   ]
  },
  {
   "cell_type": "code",
   "execution_count": 14,
   "id": "bd7cf6b1",
   "metadata": {},
   "outputs": [],
   "source": [
    "parameters_df = let\n",
    "\n",
    "    # load -\n",
    "    df = CSV.read(joinpath(_PATH_TO_DATA,\"SAGBM-Parameters-Fall-2025.csv\"), DataFrame);\n",
    "    df; # return\n",
    "end;"
   ]
  },
  {
   "cell_type": "markdown",
   "id": "a5acb794",
   "metadata": {},
   "source": [
    "Next, let's load the covariance matrix that we computed in the previous example:"
   ]
  },
  {
   "cell_type": "code",
   "execution_count": 16,
   "id": "fa04ddcc",
   "metadata": {},
   "outputs": [],
   "source": [
    "covariance_dictionary = let\n",
    "\n",
    "    # initialize -\n",
    "    path_to_covariance = joinpath(_PATH_TO_DATA,\"Covariance-Return-Training-Fall-2025.jld2\");\n",
    "    covariance = JLD2.load(path_to_covariance);\n",
    "    covariance;\n",
    "end;"
   ]
  },
  {
   "cell_type": "markdown",
   "id": "2c60e839",
   "metadata": {},
   "source": [
    "### Constants and Parameters\n",
    "Let's define some constants and parameters that we will use in our simulations. See the comments next to each constant for additional information, including values, units, etc."
   ]
  },
  {
   "cell_type": "code",
   "execution_count": 18,
   "id": "25570d96",
   "metadata": {},
   "outputs": [],
   "source": [
    "Δt = (1.0/252.0); # time step (1 trading day, in years)\n",
    "TSIM = 182; # number of trading days to simulate (1 quarter, in trading days)\n",
    "all_range = range(1,stop=maximum_number_trading_days,step=1) |> collect;\n",
    "startdate = Date(2025,1,1); # start date of simulation\n",
    "risk_free_rate = 0.03815; # benchmark: 10-year T-note 10/03/24"
   ]
  },
  {
   "cell_type": "markdown",
   "id": "5233e763-8d24-496f-af57-4c234e19f7b0",
   "metadata": {},
   "source": [
    "## Task 1: Build the log return array and covariance matrix for a sample portfolio\n",
    "Modern portfolio theory requires two key inputs: expected returns and the covariance structure between assets. In this task, we will extract these statistics from our historical dataset to prepare for optimization.\n",
    "\n",
    "We will compute the expected growth (return) vector (we'll approximate this using the drift vector) and the covariance matrix for the assets in a portfolio composed of $M$ risky assets that we choose. Thus, before we compute the efficient frontier, we must decide which tickers to include in the risky portfolio. \n",
    "\n",
    "> __Ticker picker question:__ Which assets to include in your portfolio may seem like a simple question, but it turns out to be a hard question to answer, and it can have a __significant impact__ on the performance of your portfolio. There are so many interesting threads that we could pull here. But for now, just pick something. \n",
    "\n",
    "Specify a collection of ticker symbols, e.g., `AAPL`, `MSFT`, etc., that interest you in the `my_list_of_tickers::Array{String,1}` array. "
   ]
  },
  {
   "cell_type": "code",
   "execution_count": 20,
   "id": "957286f4-dfd9-4f28-8ae7-b2c75327f786",
   "metadata": {
    "tags": []
   },
   "outputs": [],
   "source": [
    "my_list_of_tickers = [\"AAPL\", \"MSFT\", \"INTC\", \"MU\", \"AMD\", \"NVDA\", \"GS\", \"BAC\", \"WFC\", \"C\", \"F\", \"GM\", \"JNJ\"]; # random tickers that I selected."
   ]
  },
  {
   "cell_type": "markdown",
   "id": "246a3aa2-20c7-41bc-aad7-ddc3384c372f",
   "metadata": {},
   "source": [
    "Now that we have selected the firms in our risky portfolio, we'll compute the firm-specific expected return vector and covariance matrix. We'll store these in the $\\hat{\\mu}$ and $\\hat{\\Sigma}$ variables. "
   ]
  },
  {
   "cell_type": "code",
   "execution_count": 22,
   "id": "9521e2bf-19a1-4f00-b520-2c3b4a80fcdc",
   "metadata": {
    "tags": []
   },
   "outputs": [],
   "source": [
    "μ̂, Σ̂ᵣ = let\n",
    "\n",
    "    # initialize -\n",
    "    M = length(my_list_of_tickers); # number of assets in portfolio\n",
    "    μ = Array{Float64,1}(); # drift vector\n",
    "    Σᵣ = Array{Float64,2}(undef, M, M); # covariance matrix for *our* portfolio\n",
    "    tickers_in_parameters = parameters_df[:, :ticker] |> collect; # list of tickers in parameters_df\n",
    "    covariance_ticker_list = covariance_dictionary[\"list_of_tickers\"] |> collect; # list of tickers in covariance dictionary\n",
    "    Σ = covariance_dictionary[\"covariance_matrix\"]; # full covariance matrix\n",
    "\n",
    "    # compute drift vector -\n",
    "    for ticker ∈ my_list_of_tickers\n",
    "        i = findfirst(x-> x == ticker, tickers_in_parameters); # find index of ticker in the parameters_df\n",
    "        push!(μ, parameters_df[i, :drift]); # append drift value to μ\n",
    "    end\n",
    "\n",
    "    # compute covariance matrix -\n",
    "    for i ∈ 1:M\n",
    "        for j ∈ 1:M\n",
    "            row_index = findfirst(x-> x == my_list_of_tickers[i], covariance_ticker_list); # find row index in full covariance matrix\n",
    "            col_index = findfirst(x-> x == my_list_of_tickers[j], covariance_ticker_list); # find column index in full covariance matrix\n",
    "            Σᵣ[i,j] = Σ[row_index, col_index]; # assign value to Σᵣ\n",
    "        end\n",
    "    end\n",
    "\n",
    "    (μ, Σᵣ); # return\n",
    "end;"
   ]
  },
  {
   "cell_type": "code",
   "execution_count": 23,
   "id": "16cd3069",
   "metadata": {},
   "outputs": [
    {
     "data": {
      "text/plain": [
       "13-element Vector{Float64}:\n",
       "  0.24270982336153857\n",
       "  0.2471358046522564\n",
       "  0.011808131500890391\n",
       "  0.15913226678755288\n",
       "  0.43965769203026206\n",
       "  0.5032547203526204\n",
       "  0.09105696245327896\n",
       "  0.09307620823376395\n",
       " -0.013890779060143235\n",
       "  0.0054446227211617385\n",
       " -0.01843599791478546\n",
       "  0.024455836689585175\n",
       "  0.05375615545070021"
      ]
     },
     "execution_count": 23,
     "metadata": {},
     "output_type": "execute_result"
    }
   ],
   "source": [
    "μ̂"
   ]
  },
  {
   "cell_type": "markdown",
   "id": "1eb0a022-5c7c-4240-8361-6bd751034e07",
   "metadata": {
    "tags": []
   },
   "source": [
    "## Task 2: Compute the efficient frontier for your collection of stocks\n",
    "With our expected returns and covariance matrix in hand, we can now solve the classic Markowitz optimization problem. This will give us the set of portfolios that offer the highest expected return for each level of risk.\n",
    "\n",
    "In this task, we'll compute the optimal allocation in the minimum variance sense using the tickers in the `my_list_of_tickers::Array{String,1}` vector.\n",
    "\n",
    "> __What are we going to do?__ Create an instance of the [MyMarkowitzRiskyAssetOnlyPortfiolioChoiceProblem type](https://varnerlab.github.io/VLQuantitativeFinancePackage.jl/dev/portfolio/#VLQuantitativeFinancePackage.MyMarkowitzRiskyAssetOnlyPortfiolioChoiceProblem), and store this in the `problem_risk` variable using a [custom build(...) method](https://varnerlab.github.io/VLQuantitativeFinancePackage.jl/dev/portfolio/#VLQuantitativeFinancePackage.build-Tuple{Type{MyMarkowitzRiskyAssetOnlyPortfiolioChoiceProblem},%20NamedTuple}). You'll need to pass your covariance array $\\hat{\\Sigma}_{r}$, the expected return array $\\hat{\\mu}_{r}$, along with bounds and an initial guess, to the [build(...) method](https://varnerlab.github.io/VLQuantitativeFinancePackage.jl/dev/portfolio/#VLQuantitativeFinancePackage.build-Tuple{Type{MyMarkowitzRiskyAssetOnlyPortfolioChoiceProblem},%20NamedTuple}). Then, we can use the [solve(...) method](https://varnerlab.github.io/VLQuantitativeFinancePackage.jl/dev/portfolio/#VLQuantitativeFinancePackage.solve-Tuple{MyMarkowitzRiskyAssetOnlyPortfolioChoiceProblem}) for different values of the minimum desired return to compute the efficient frontier.\n",
    "\n",
    "First, let's set up the bounds and other parameters required for the computation of the portfolio weights along the efficient frontier:"
   ]
  },
  {
   "cell_type": "code",
   "execution_count": 25,
   "id": "9567321e-4543-4f70-904f-48b33635da7a",
   "metadata": {
    "tags": []
   },
   "outputs": [],
   "source": [
    "number_of_firms = length(my_list_of_tickers); # how many firms do we have\n",
    "wₒ = zeros(number_of_firms) # initial allocation (zeros)\n",
    "wₒ[1] = 1.0; # all money in firm 1\n",
    "bounds = zeros(number_of_firms,2); \n",
    "bounds[:,2] .= 1.0;\n",
    "number_of_points = 201;"
   ]
  },
  {
   "cell_type": "markdown",
   "id": "1d0928d4-e59d-434e-b3c8-2fab88b2d646",
   "metadata": {},
   "source": [
    "Next, let's build an instance of the [MyMarkowitzRiskyAssetOnlyPortfolioChoiceProblem type](https://varnerlab.github.io/VLQuantitativeFinancePackage.jl/dev/portfolio/#VLQuantitativeFinancePackage.MyMarkowitzRiskyAssetOnlyPortfolioChoiceProblem) using the [build(...) method](https://varnerlab.github.io/VLQuantitativeFinancePackage.jl/dev/portfolio/#VLQuantitativeFinancePackage.build-Tuple{Type{MyMarkowitzRiskyAssetOnlyPortfolioChoiceProblem},%20NamedTuple}), passing in the data for the required fields:"
   ]
  },
  {
   "cell_type": "code",
   "execution_count": 27,
   "id": "f10e57f0-d8bc-4d69-b0ad-ca989f69215f",
   "metadata": {
    "tags": []
   },
   "outputs": [],
   "source": [
    "problem_risk = build(MyMarkowitzRiskyAssetOnlyPortfolioChoiceProblem, (\n",
    "    Σ = Σ̂ᵣ, # covariance = risk\n",
    "    μ = μ̂, # drift = return\n",
    "    bounds = bounds, # [0,1]\n",
    "    initial = wₒ, # initial allocation\n",
    "    R = 0.0 # desired return\n",
    "));"
   ]
  },
  {
   "cell_type": "markdown",
   "id": "e5b79d1c-8a2c-4b0e-80ce-765ca5969ea0",
   "metadata": {},
   "source": [
    "Now, create an array holding the minimum desired rewards (the calculation must achieve at least this much reward). We store these values in the `minimum_desired_reward_array` variable. In this example, let's start at `0` and go up to `20`$\\times{r_{f}}$ annualized return using `number_of_points`:"
   ]
  },
  {
   "cell_type": "code",
   "execution_count": 29,
   "id": "5f919feb-a7b7-4b83-bb25-8935b4a2c4a5",
   "metadata": {
    "tags": []
   },
   "outputs": [],
   "source": [
    "minimum_desired_reward_array = range(0.0, stop = 20*risk_free_rate, length = number_of_points) |> collect; # R"
   ]
  },
  {
   "cell_type": "markdown",
   "id": "9479d04c",
   "metadata": {},
   "source": [
    "What's in the `minimum_desired_reward_array::Array{Float64,1}` array?"
   ]
  },
  {
   "cell_type": "code",
   "execution_count": 31,
   "id": "ff212a8d",
   "metadata": {},
   "outputs": [
    {
     "data": {
      "text/plain": [
       "201-element Vector{Float64}:\n",
       " 0.0\n",
       " 0.0038150000000000007\n",
       " 0.007630000000000001\n",
       " 0.011445000000000002\n",
       " 0.015260000000000003\n",
       " 0.019075\n",
       " 0.022890000000000004\n",
       " 0.026705000000000003\n",
       " 0.030520000000000005\n",
       " 0.034335000000000004\n",
       " 0.03815\n",
       " 0.04196500000000001\n",
       " 0.04578000000000001\n",
       " ⋮\n",
       " 0.7210350000000001\n",
       " 0.7248500000000001\n",
       " 0.7286650000000001\n",
       " 0.7324800000000001\n",
       " 0.7362950000000001\n",
       " 0.7401100000000002\n",
       " 0.7439250000000002\n",
       " 0.7477400000000001\n",
       " 0.7515550000000001\n",
       " 0.7553700000000001\n",
       " 0.7591850000000001\n",
       " 0.7630000000000001"
      ]
     },
     "execution_count": 31,
     "metadata": {},
     "output_type": "execute_result"
    }
   ],
   "source": [
    "minimum_desired_reward_array"
   ]
  },
  {
   "cell_type": "markdown",
   "id": "8511c320-7951-47a9-9588-4441e3e73533",
   "metadata": {},
   "source": [
    "We now iterate through the `minimum_desired_reward_array::Array{Float64,1}` and compute the minimum risk required to achieve the specified reward level using a `for-loop`.\n",
    "\n",
    "For each pass through the loop, we:\n",
    "* Update the `problem_risk` variable with the minimum desired reward (set the `R` field). We then pass the updated `problem` object to the [solve(...) method](https://varnerlab.github.io/VLQuantitativeFinancePackage.jl/dev/portfolio/#VLQuantitativeFinancePackage.solve-Tuple{MyMarkowitzRiskyAssetOnlyPortfolioChoiceProblem}) (which initializes and solves the optimization problem). The solution returned from the [solve(...) method](https://varnerlab.github.io/VLQuantitativeFinancePackage.jl/dev/portfolio/#VLQuantitativeFinancePackage.solve-Tuple{MyMarkowitzRiskyAssetOnlyPortfolioChoiceProblem}) is stored in the `solution` dictionary. \n",
    "* We check the `status` of the solution. If the `status` indicates an optimal solution was found, we store that solution in the `efficient_frontier` dictionary. In particular, we store the portfolio risk as the `key` and the expected return, risk and allocation as the `value` in the `efficient_frontier` dictionary.\n",
    "\n",
    "Why the [try-catch environment](https://docs.julialang.org/en/v1/base/base/#try)? The [solve(...) method](https://varnerlab.github.io/VLQuantitativeFinancePackage.jl/dev/portfolio/#VLQuantitativeFinancePackage.solve-Tuple{MyMarkowitzRiskyAssetOnlyPortfolioChoiceProblem}) has an [@assert statement](https://docs.julialang.org/en/v1/base/base/#Base.@assert) to check if the calculation has converged. Thus, the solve method can [throw](https://docs.julialang.org/en/v1/base/base/#Core.throw) an [AssertionError](https://docs.julialang.org/en/v1/base/base/#Core.AssertionError) if the optimization problem fails to converge. To gracefully handle this case, we use a [try-catch construct](https://docs.julialang.org/en/v1/base/base/#try). See the [is_solved_and_feasible method from the JuMP package](https://jump.dev/JuMP.jl/stable/api/JuMP/#JuMP.is_solved_and_feasible) for more information."
   ]
  },
  {
   "cell_type": "code",
   "execution_count": 33,
   "id": "7e4f97bc-9e43-438c-ba7a-a6f2bd41eeda",
   "metadata": {
    "tags": []
   },
   "outputs": [],
   "source": [
    "efficient_frontier = let\n",
    "\n",
    "    # initialize -\n",
    "    efficient_frontier = Dict{Float64, NamedTuple}();\n",
    "\n",
    "    # main loop\n",
    "    for i ∈ eachindex(minimum_desired_reward_array)\n",
    "        problem_risk.R = minimum_desired_reward_array[i]; # update the problem object with the min desired reward value\n",
    "    \n",
    "        try\n",
    "            solution = solve(problem_risk)\n",
    "            status_flag = solution[\"status\"];    \n",
    "\n",
    "            if (status_flag == MathOptInterface.LOCALLY_SOLVED)\n",
    "                risk_value = solution[\"objective_value\"]; # get the sqrt of the risk -\n",
    "                reward_value = solution[\"reward\"];\n",
    "                allocation = solution[\"argmax\"]; # TODO: need to update this key\n",
    "                \n",
    "                \n",
    "                efficient_frontier[risk_value] = (risk = risk_value, reward = reward_value, w = allocation)\n",
    "            end\n",
    "        catch err\n",
    "            # Uncomment to see which R's failed ...\n",
    "            # println(\"Failed: desired R = $(problem_risk.R). Infeasible\");\n",
    "        end    \n",
    "    end\n",
    "    efficient_frontier;\n",
    "end;"
   ]
  },
  {
   "cell_type": "markdown",
   "id": "d3b8db5e",
   "metadata": {},
   "source": [
    "What's in the `efficient_frontier::Dict{Float64,NamedTuple}` dictionary?"
   ]
  },
  {
   "cell_type": "code",
   "execution_count": 73,
   "id": "3d799d21",
   "metadata": {},
   "outputs": [
    {
     "data": {
      "text/plain": [
       "Dict{Float64, NamedTuple} with 132 entries:\n",
       "  0.0187713 => (risk = 0.0187713, reward = 0.0924055, w = [0.0901429, 0.14233, …\n",
       "  0.0683044 => (risk = 0.0683044, reward = 0.370055, w = [0.180574, 0.319448, 1…\n",
       "  0.123483  => (risk = 0.123483, reward = 0.469245, w = [0.0137927, 0.0931201, …\n",
       "  0.0215558 => (risk = 0.0215558, reward = 0.16786, w = [0.139627, 0.225405, 2.…\n",
       "  0.0187713 => (risk = 0.0187713, reward = 0.0924051, w = [0.0901418, 0.142329,…\n",
       "  0.0342504 => (risk = 0.0342504, reward = 0.255605, w = [0.178264, 0.296047, 5…\n",
       "  0.0326941 => (risk = 0.0326941, reward = 0.247975, w = [0.175092, 0.290077, 6…\n",
       "  0.131707  => (risk = 0.131707, reward = 0.48069, w = [8.31273e-7, 0.0615112, …\n",
       "  0.0570743 => (risk = 0.0570743, reward = 0.339535, w = [0.213152, 0.361706, 2…\n",
       "  0.0187713 => (risk = 0.0187713, reward = 0.0924051, w = [0.0901418, 0.142329,…\n",
       "  0.0187713 => (risk = 0.0187713, reward = 0.0924051, w = [0.0901418, 0.142329,…\n",
       "  0.0822087 => (risk = 0.0822087, reward = 0.400575, w = [0.129256, 0.24981, 1.…\n",
       "  0.0784765 => (risk = 0.0784765, reward = 0.392945, w = [0.142086, 0.267219, 1…\n",
       "  0.0204713 => (risk = 0.0204713, reward = 0.1526, w = [0.130781, 0.211188, 6.6…\n",
       "  0.143309  => (risk = 0.143309, reward = 0.49595, w = [9.55808e-7, 0.000834245…\n",
       "  0.0187713 => (risk = 0.0187713, reward = 0.0924053, w = [0.0901426, 0.14233, …\n",
       "  0.134539  => (risk = 0.134539, reward = 0.484505, w = [6.90018e-6, 0.0463355,…\n",
       "  0.0358931 => (risk = 0.0358931, reward = 0.263235, w = [0.181435, 0.302016, 5…\n",
       "  0.0667585 => (risk = 0.0667585, reward = 0.36624, w = [0.186989, 0.328153, 2.…\n",
       "  0.0533461 => (risk = 0.0533461, reward = 0.32809, w = [0.208395, 0.352753, 3.…\n",
       "  0.0749151 => (risk = 0.0749151, reward = 0.385315, w = [0.154915, 0.284629, 1…\n",
       "  0.0454032 => (risk = 0.0454032, reward = 0.301385, w = [0.197294, 0.331861, 3…\n",
       "  0.0187713 => (risk = 0.0187713, reward = 0.0924051, w = [0.0901419, 0.142329,…\n",
       "  0.128922  => (risk = 0.128922, reward = 0.476875, w = [0.00104212, 0.0756308,…\n",
       "  0.0486777 => (risk = 0.0486777, reward = 0.31283, w = [0.202052, 0.340815, 3.…\n",
       "  ⋮         => ⋮"
      ]
     },
     "execution_count": 73,
     "metadata": {},
     "output_type": "execute_result"
    }
   ],
   "source": [
    "efficient_frontier"
   ]
  },
  {
   "cell_type": "code",
   "execution_count": 71,
   "id": "9e83ec15-a188-4553-99b2-89f6e9eb7fa8",
   "metadata": {},
   "outputs": [
    {
     "ename": "LoadError",
     "evalue": "KeyError: key 0.0486777 not found",
     "output_type": "error",
     "traceback": [
      "KeyError: key 0.0486777 not found",
      "",
      "Stacktrace:",
      " [1] \u001b[0m\u001b[1mgetindex\u001b[22m\u001b[0m\u001b[1m(\u001b[22m\u001b[90mh\u001b[39m::\u001b[0mDict\u001b[90m{Float64, NamedTuple}\u001b[39m, \u001b[90mkey\u001b[39m::\u001b[0mFloat64\u001b[0m\u001b[1m)\u001b[22m",
      "\u001b[90m   @\u001b[39m \u001b[90mBase\u001b[39m \u001b[90m./\u001b[39m\u001b[90m\u001b[4mdict.jl:477\u001b[24m\u001b[39m",
      " [2] top-level scope",
      "\u001b[90m   @\u001b[39m \u001b[90m\u001b[4mIn[71]:1\u001b[24m\u001b[39m"
     ]
    }
   ],
   "source": [
    "efficient_frontier[0.0486777]"
   ]
  },
  {
   "cell_type": "markdown",
   "id": "ba9cff58",
   "metadata": {},
   "source": [
    "### Organize efficient frontier results into a matrix for analysis and visualization\n",
    "Transform the `efficient_frontier::Dict{Float64,NamedTuple}` dictionary into a matrix format for plotting and analysis.\n",
    "\n",
    "> __What are we doing?__ Extract portfolio data from the `efficient_frontier::Dict{Float64,NamedTuple}` dictionary and organize it into the `results_array::Array{Float64,2}` matrix. Sort portfolios by risk level and store risk, return, and allocation weights in matrix columns.\n",
    "\n",
    "> __What's in the results array?__ The `results_array::Array{Float64,2}` has `number_of_portfolios::Int64` rows and `M+2` columns:\n",
    "> * Column 1: Portfolio risk (standard deviation = √variance)  \n",
    "> * Column 2: Portfolio expected return\n",
    "> * Columns 3 to M+2: Asset allocation weights for the `M::Int64` tickers\n",
    "\n",
    "Let's build the `results_array::Array{Float64,2}` from our efficient frontier solutions:"
   ]
  },
  {
   "cell_type": "code",
   "execution_count": 37,
   "id": "290ae087",
   "metadata": {},
   "outputs": [
    {
     "data": {
      "text/plain": [
       "132×15 Matrix{Float64}:\n",
       " 0.137008  0.0924053  0.0901426   0.14233      …   0.00205028   0.627754\n",
       " 0.137008  0.0924055  0.0901429   0.14233          0.00205083   0.627754\n",
       " 0.137008  0.0924052  0.0901423   0.14233          0.00205415   0.627754\n",
       " 0.137008  0.0924052  0.0901421   0.14233          0.00205635   0.627754\n",
       " 0.137008  0.0924052  0.090142    0.14233          0.00205724   0.627754\n",
       " 0.137008  0.0924051  0.090142    0.14233      …   0.00205777   0.627754\n",
       " 0.137008  0.0924051  0.0901419   0.14233          0.00205811   0.627754\n",
       " 0.137008  0.0924051  0.0901419   0.142329         0.00205829   0.627755\n",
       " 0.137008  0.0924051  0.0901419   0.142329         0.00205833   0.627755\n",
       " 0.137008  0.0924051  0.0901419   0.14233          0.00205835   0.627755\n",
       " 0.137008  0.0924051  0.0901419   0.142329     …   0.00205841   0.627755\n",
       " 0.137008  0.0924051  0.0901419   0.142329         0.00205846   0.627755\n",
       " 0.137008  0.0924051  0.0901419   0.14233          0.0020585    0.627755\n",
       " ⋮                                             ⋱               \n",
       " 0.340063  0.4578     0.033035    0.119237     …   8.01616e-9   3.66613e-8\n",
       " 0.343822  0.461615   0.0266204   0.110532         7.64769e-9   3.50887e-8\n",
       " 0.347601  0.46543    0.020206    0.101826         7.29404e-9   3.36194e-8\n",
       " 0.351401  0.469245   0.0137927   0.0931201        6.95473e-9   3.22476e-8\n",
       " 0.35522   0.47306    0.00737565  0.0844179       -9.33622e-9  -8.36473e-9\n",
       " 0.359057  0.476875   0.00104212  0.0756308    …   6.31214e-9   2.97257e-8\n",
       " 0.362915  0.48069    8.31273e-7  0.0615112       -9.36227e-9  -8.46595e-9\n",
       " 0.366795  0.484505   6.90018e-6  0.0463355        5.63582e-9   2.71105e-8\n",
       " 0.370697  0.48832    1.68872e-6  0.0311715        5.31485e-9   2.59122e-8\n",
       " 0.374619  0.492135   1.8003e-6   0.0160021        5.00888e-9   2.48075e-8\n",
       " 0.378562  0.49595    9.55808e-7  0.000834245  …   4.71038e-9   2.37311e-8\n",
       " 0.383166  0.499765   2.48925e-8  2.67674e-8      -1.69083e-9   2.74675e-9"
      ]
     },
     "execution_count": 37,
     "metadata": {},
     "output_type": "execute_result"
    }
   ],
   "source": [
    "results_array = let\n",
    "\n",
    "    # initialize -\n",
    "    number_of_portfolios = length(efficient_frontier); # how many portfolios do we have? (these all exited correctly)\n",
    "    M = length(my_list_of_tickers); # how many tickers do we have?\n",
    "    results_array = Array{Float64,2}(undef, number_of_portfolios, M+2);\n",
    "    risk_array_sorted = keys(efficient_frontier) |> collect |> sort;\n",
    "\n",
    "    for i ∈ eachindex(risk_array_sorted)\n",
    "        risk_value = risk_array_sorted[i] |> sqrt; # let's plot the sqrt of the risk\n",
    "        \n",
    "        data = efficient_frontier[risk_array_sorted[i]] # get the NamedTuple corresponding to this risk level\n",
    "        reward_value = data.reward;\n",
    "        w = data.w;\n",
    "\n",
    "        results_array[i,1] = risk_value;\n",
    "        results_array[i,2] = reward_value;\n",
    "        for j ∈ 1:M\n",
    "            results_array[i,2+j] = w[j];\n",
    "        end\n",
    "    end\n",
    "\n",
    "    results_array\n",
    "end"
   ]
  },
  {
   "cell_type": "markdown",
   "id": "39b81fbf-e29c-43c7-b4f3-10d2e134e8a2",
   "metadata": {},
   "source": [
    "### Visualize the efficient frontier\n",
    "Now that we have computed the optimal portfolios, let's visualize the classic risk-return trade-off that Markowitz theory reveals. The efficient frontier shows the boundary of achievable risk-return combinations for our selected assets.\n",
    "\n",
    "`Unhide` the code block below to see how we plotted the efficient frontier for the collection of equities and ETFs specified in the `my_list_of_tickers::Array{String,1}` array."
   ]
  },
  {
   "cell_type": "code",
   "execution_count": 39,
   "id": "2927187b-5db3-4649-b7d6-6b12d645ae53",
   "metadata": {
    "jupyter": {
     "source_hidden": true
    },
    "tags": []
   },
   "outputs": [
    {
     "data": {
      "image/png": "[encoded data removed]",
      "image/svg+xml": [
       "<?xml version=\"1.0\" encoding=\"utf-8\"?>\n",
       "<svg xmlns=\"http://www.w3.org/2000/svg\" xmlns:xlink=\"http://www.w3.org/1999/xlink\" width=\"600\" height=\"400\" viewBox=\"0 0 2400 1600\">\n",
       "<defs>\n",
       "  <clipPath id=\"clip980\">\n",
       "    <rect x=\"0\" y=\"0\" width=\"2400\" height=\"1600\"/>\n",
       "  </clipPath>\n",
       "</defs>\n",
       "<path clip-path=\"url(#clip980)\" d=\"M0 1600 L2400 1600 L2400 8.88178e-14 L0 8.88178e-14  Z\" fill=\"#ffffff\" fill-rule=\"evenodd\" fill-opacity=\"1\"/>\n",
       "<defs>\n",
       "  <clipPath id=\"clip981\">\n",
       "    <rect x=\"480\" y=\"0\" width=\"1681\" height=\"1600\"/>\n",
       "  </clipPath>\n",
       "</defs>\n",
       "<path clip-path=\"url(#clip980)\" d=\"M219.866 1423.18 L2352.76 1423.18 L2352.76 47.2441 L219.866 47.2441  Z\" fill=\"#f2f2f2\" fill-rule=\"evenodd\" fill-opacity=\"1\"/>\n",
       "<defs>\n",
       "  <clipPath id=\"clip982\">\n",
       "    <rect x=\"219\" y=\"47\" width=\"2134\" height=\"1377\"/>\n",
       "  </clipPath>\n",
       "</defs>\n",
       "<polyline clip-path=\"url(#clip982)\" style=\"stroke:#000000; stroke-linecap:round; stroke-linejoin:round; stroke-width:2; stroke-opacity:0.1; fill:none\" points=\"219.866,1423.18 219.866,47.2441 \"/>\n",
       "<polyline clip-path=\"url(#clip982)\" style=\"stroke:#000000; stroke-linecap:round; stroke-linejoin:round; stroke-width:2; stroke-opacity:0.1; fill:none\" points=\"725.911,1423.18 725.911,47.2441 \"/>\n",
       "<polyline clip-path=\"url(#clip982)\" style=\"stroke:#000000; stroke-linecap:round; stroke-linejoin:round; stroke-width:2; stroke-opacity:0.1; fill:none\" points=\"1231.96,1423.18 1231.96,47.2441 \"/>\n",
       "<polyline clip-path=\"url(#clip982)\" style=\"stroke:#000000; stroke-linecap:round; stroke-linejoin:round; stroke-width:2; stroke-opacity:0.1; fill:none\" points=\"1738,1423.18 1738,47.2441 \"/>\n",
       "<polyline clip-path=\"url(#clip982)\" style=\"stroke:#000000; stroke-linecap:round; stroke-linejoin:round; stroke-width:2; stroke-opacity:0.1; fill:none\" points=\"2244.04,1423.18 2244.04,47.2441 \"/>\n",
       "<polyline clip-path=\"url(#clip982)\" style=\"stroke:#000000; stroke-linecap:round; stroke-linejoin:round; stroke-width:2; stroke-opacity:0.1; fill:none\" points=\"219.866,1423.18 219.866,47.2441 \"/>\n",
       "<polyline clip-path=\"url(#clip982)\" style=\"stroke:#000000; stroke-linecap:round; stroke-linejoin:round; stroke-width:2; stroke-opacity:0.1; fill:none\" points=\"725.911,1423.18 725.911,47.2441 \"/>\n",
       "<polyline clip-path=\"url(#clip982)\" style=\"stroke:#000000; stroke-linecap:round; stroke-linejoin:round; stroke-width:2; stroke-opacity:0.1; fill:none\" points=\"1231.96,1423.18 1231.96,47.2441 \"/>\n",
       "<polyline clip-path=\"url(#clip982)\" style=\"stroke:#000000; stroke-linecap:round; stroke-linejoin:round; stroke-width:2; stroke-opacity:0.1; fill:none\" points=\"1738,1423.18 1738,47.2441 \"/>\n",
       "<polyline clip-path=\"url(#clip982)\" style=\"stroke:#000000; stroke-linecap:round; stroke-linejoin:round; stroke-width:2; stroke-opacity:0.1; fill:none\" points=\"2244.04,1423.18 2244.04,47.2441 \"/>\n",
       "<polyline clip-path=\"url(#clip982)\" style=\"stroke:#000000; stroke-linecap:round; stroke-linejoin:round; stroke-width:2; stroke-opacity:0.1; fill:none\" points=\"219.866,1423.18 2352.76,1423.18 \"/>\n",
       "<polyline clip-path=\"url(#clip982)\" style=\"stroke:#000000; stroke-linecap:round; stroke-linejoin:round; stroke-width:2; stroke-opacity:0.1; fill:none\" points=\"219.866,1172.89 2352.76,1172.89 \"/>\n",
       "<polyline clip-path=\"url(#clip982)\" style=\"stroke:#000000; stroke-linecap:round; stroke-linejoin:round; stroke-width:2; stroke-opacity:0.1; fill:none\" points=\"219.866,922.604 2352.76,922.604 \"/>\n",
       "<polyline clip-path=\"url(#clip982)\" style=\"stroke:#000000; stroke-linecap:round; stroke-linejoin:round; stroke-width:2; stroke-opacity:0.1; fill:none\" points=\"219.866,672.317 2352.76,672.317 \"/>\n",
       "<polyline clip-path=\"url(#clip982)\" style=\"stroke:#000000; stroke-linecap:round; stroke-linejoin:round; stroke-width:2; stroke-opacity:0.1; fill:none\" points=\"219.866,422.029 2352.76,422.029 \"/>\n",
       "<polyline clip-path=\"url(#clip982)\" style=\"stroke:#000000; stroke-linecap:round; stroke-linejoin:round; stroke-width:2; stroke-opacity:0.1; fill:none\" points=\"219.866,171.741 2352.76,171.741 \"/>\n",
       "<polyline clip-path=\"url(#clip982)\" style=\"stroke:#000000; stroke-linecap:round; stroke-linejoin:round; stroke-width:2; stroke-opacity:0.1; fill:none\" points=\"219.866,1423.18 2352.76,1423.18 \"/>\n",
       "<polyline clip-path=\"url(#clip982)\" style=\"stroke:#000000; stroke-linecap:round; stroke-linejoin:round; stroke-width:2; stroke-opacity:0.1; fill:none\" points=\"219.866,1172.89 2352.76,1172.89 \"/>\n",
       "<polyline clip-path=\"url(#clip982)\" style=\"stroke:#000000; stroke-linecap:round; stroke-linejoin:round; stroke-width:2; stroke-opacity:0.1; fill:none\" points=\"219.866,922.604 2352.76,922.604 \"/>\n",
       "<polyline clip-path=\"url(#clip982)\" style=\"stroke:#000000; stroke-linecap:round; stroke-linejoin:round; stroke-width:2; stroke-opacity:0.1; fill:none\" points=\"219.866,672.317 2352.76,672.317 \"/>\n",
       "<polyline clip-path=\"url(#clip982)\" style=\"stroke:#000000; stroke-linecap:round; stroke-linejoin:round; stroke-width:2; stroke-opacity:0.1; fill:none\" points=\"219.866,422.029 2352.76,422.029 \"/>\n",
       "<polyline clip-path=\"url(#clip982)\" style=\"stroke:#000000; stroke-linecap:round; stroke-linejoin:round; stroke-width:2; stroke-opacity:0.1; fill:none\" points=\"219.866,171.741 2352.76,171.741 \"/>\n",
       "<polyline clip-path=\"url(#clip980)\" style=\"stroke:#000000; stroke-linecap:round; stroke-linejoin:round; stroke-width:4; stroke-opacity:1; fill:none\" points=\"219.866,1423.18 2352.76,1423.18 \"/>\n",
       "<polyline clip-path=\"url(#clip980)\" style=\"stroke:#000000; stroke-linecap:round; stroke-linejoin:round; stroke-width:4; stroke-opacity:1; fill:none\" points=\"219.866,47.2441 2352.76,47.2441 \"/>\n",
       "<polyline clip-path=\"url(#clip980)\" style=\"stroke:#000000; stroke-linecap:round; stroke-linejoin:round; stroke-width:4; stroke-opacity:1; fill:none\" points=\"219.866,1423.18 219.866,1404.28 \"/>\n",
       "<polyline clip-path=\"url(#clip980)\" style=\"stroke:#000000; stroke-linecap:round; stroke-linejoin:round; stroke-width:4; stroke-opacity:1; fill:none\" points=\"725.911,1423.18 725.911,1404.28 \"/>\n",
       "<polyline clip-path=\"url(#clip980)\" style=\"stroke:#000000; stroke-linecap:round; stroke-linejoin:round; stroke-width:4; stroke-opacity:1; fill:none\" points=\"1231.96,1423.18 1231.96,1404.28 \"/>\n",
       "<polyline clip-path=\"url(#clip980)\" style=\"stroke:#000000; stroke-linecap:round; stroke-linejoin:round; stroke-width:4; stroke-opacity:1; fill:none\" points=\"1738,1423.18 1738,1404.28 \"/>\n",
       "<polyline clip-path=\"url(#clip980)\" style=\"stroke:#000000; stroke-linecap:round; stroke-linejoin:round; stroke-width:4; stroke-opacity:1; fill:none\" points=\"2244.04,1423.18 2244.04,1404.28 \"/>\n",
       "<polyline clip-path=\"url(#clip980)\" style=\"stroke:#000000; stroke-linecap:round; stroke-linejoin:round; stroke-width:4; stroke-opacity:1; fill:none\" points=\"219.866,47.2441 219.866,66.1417 \"/>\n",
       "<polyline clip-path=\"url(#clip980)\" style=\"stroke:#000000; stroke-linecap:round; stroke-linejoin:round; stroke-width:4; stroke-opacity:1; fill:none\" points=\"725.911,47.2441 725.911,66.1417 \"/>\n",
       "<polyline clip-path=\"url(#clip980)\" style=\"stroke:#000000; stroke-linecap:round; stroke-linejoin:round; stroke-width:4; stroke-opacity:1; fill:none\" points=\"1231.96,47.2441 1231.96,66.1417 \"/>\n",
       "<polyline clip-path=\"url(#clip980)\" style=\"stroke:#000000; stroke-linecap:round; stroke-linejoin:round; stroke-width:4; stroke-opacity:1; fill:none\" points=\"1738,47.2441 1738,66.1417 \"/>\n",
       "<polyline clip-path=\"url(#clip980)\" style=\"stroke:#000000; stroke-linecap:round; stroke-linejoin:round; stroke-width:4; stroke-opacity:1; fill:none\" points=\"2244.04,47.2441 2244.04,66.1417 \"/>\n",
       "<path clip-path=\"url(#clip980)\" d=\"M197.251 1454.1 Q193.64 1454.1 191.811 1457.66 Q190.005 1461.2 190.005 1468.33 Q190.005 1475.44 191.811 1479.01 Q193.64 1482.55 197.251 1482.55 Q200.885 1482.55 202.69 1479.01 Q204.519 1475.44 204.519 1468.33 Q204.519 1461.2 202.69 1457.66 Q200.885 1454.1 197.251 1454.1 M197.251 1450.39 Q203.061 1450.39 206.116 1455 Q209.195 1459.58 209.195 1468.33 Q209.195 1477.06 206.116 1481.67 Q203.061 1486.25 197.251 1486.25 Q191.44 1486.25 188.362 1481.67 Q185.306 1477.06 185.306 1468.33 Q185.306 1459.58 188.362 1455 Q191.44 1450.39 197.251 1450.39 Z\" fill=\"#000000\" fill-rule=\"nonzero\" fill-opacity=\"1\" /><path clip-path=\"url(#clip980)\" d=\"M217.413 1479.7 L222.297 1479.7 L222.297 1485.58 L217.413 1485.58 L217.413 1479.7 Z\" fill=\"#000000\" fill-rule=\"nonzero\" fill-opacity=\"1\" /><path clip-path=\"url(#clip980)\" d=\"M242.482 1454.1 Q238.871 1454.1 237.042 1457.66 Q235.237 1461.2 235.237 1468.33 Q235.237 1475.44 237.042 1479.01 Q238.871 1482.55 242.482 1482.55 Q246.116 1482.55 247.922 1479.01 Q249.75 1475.44 249.75 1468.33 Q249.75 1461.2 247.922 1457.66 Q246.116 1454.1 242.482 1454.1 M242.482 1450.39 Q248.292 1450.39 251.348 1455 Q254.426 1459.58 254.426 1468.33 Q254.426 1477.06 251.348 1481.67 Q248.292 1486.25 242.482 1486.25 Q236.672 1486.25 233.593 1481.67 Q230.538 1477.06 230.538 1468.33 Q230.538 1459.58 233.593 1455 Q236.672 1450.39 242.482 1450.39 Z\" fill=\"#000000\" fill-rule=\"nonzero\" fill-opacity=\"1\" /><path clip-path=\"url(#clip980)\" d=\"M703.909 1454.1 Q700.297 1454.1 698.469 1457.66 Q696.663 1461.2 696.663 1468.33 Q696.663 1475.44 698.469 1479.01 Q700.297 1482.55 703.909 1482.55 Q707.543 1482.55 709.348 1479.01 Q711.177 1475.44 711.177 1468.33 Q711.177 1461.2 709.348 1457.66 Q707.543 1454.1 703.909 1454.1 M703.909 1450.39 Q709.719 1450.39 712.774 1455 Q715.853 1459.58 715.853 1468.33 Q715.853 1477.06 712.774 1481.67 Q709.719 1486.25 703.909 1486.25 Q698.098 1486.25 695.02 1481.67 Q691.964 1477.06 691.964 1468.33 Q691.964 1459.58 695.02 1455 Q698.098 1450.39 703.909 1450.39 Z\" fill=\"#000000\" fill-rule=\"nonzero\" fill-opacity=\"1\" /><path clip-path=\"url(#clip980)\" d=\"M724.07 1479.7 L728.955 1479.7 L728.955 1485.58 L724.07 1485.58 L724.07 1479.7 Z\" fill=\"#000000\" fill-rule=\"nonzero\" fill-opacity=\"1\" /><path clip-path=\"url(#clip980)\" d=\"M739.95 1481.64 L747.589 1481.64 L747.589 1455.28 L739.279 1456.95 L739.279 1452.69 L747.543 1451.02 L752.218 1451.02 L752.218 1481.64 L759.857 1481.64 L759.857 1485.58 L739.95 1485.58 L739.95 1481.64 Z\" fill=\"#000000\" fill-rule=\"nonzero\" fill-opacity=\"1\" /><path clip-path=\"url(#clip980)\" d=\"M1210.14 1454.1 Q1206.53 1454.1 1204.7 1457.66 Q1202.89 1461.2 1202.89 1468.33 Q1202.89 1475.44 1204.7 1479.01 Q1206.53 1482.55 1210.14 1482.55 Q1213.77 1482.55 1215.58 1479.01 Q1217.41 1475.44 1217.41 1468.33 Q1217.41 1461.2 1215.58 1457.66 Q1213.77 1454.1 1210.14 1454.1 M1210.14 1450.39 Q1215.95 1450.39 1219 1455 Q1222.08 1459.58 1222.08 1468.33 Q1222.08 1477.06 1219 1481.67 Q1215.95 1486.25 1210.14 1486.25 Q1204.33 1486.25 1201.25 1481.67 Q1198.19 1477.06 1198.19 1468.33 Q1198.19 1459.58 1201.25 1455 Q1204.33 1450.39 1210.14 1450.39 Z\" fill=\"#000000\" fill-rule=\"nonzero\" fill-opacity=\"1\" /><path clip-path=\"url(#clip980)\" d=\"M1230.3 1479.7 L1235.18 1479.7 L1235.18 1485.58 L1230.3 1485.58 L1230.3 1479.7 Z\" fill=\"#000000\" fill-rule=\"nonzero\" fill-opacity=\"1\" /><path clip-path=\"url(#clip980)\" d=\"M1249.4 1481.64 L1265.72 1481.64 L1265.72 1485.58 L1243.77 1485.58 L1243.77 1481.64 Q1246.43 1478.89 1251.02 1474.26 Q1255.62 1469.61 1256.8 1468.27 Q1259.05 1465.74 1259.93 1464.01 Q1260.83 1462.25 1260.83 1460.56 Q1260.83 1457.8 1258.89 1456.07 Q1256.97 1454.33 1253.86 1454.33 Q1251.67 1454.33 1249.21 1455.09 Q1246.78 1455.86 1244 1457.41 L1244 1452.69 Q1246.83 1451.55 1249.28 1450.97 Q1251.74 1450.39 1253.77 1450.39 Q1259.14 1450.39 1262.34 1453.08 Q1265.53 1455.77 1265.53 1460.26 Q1265.53 1462.39 1264.72 1464.31 Q1263.93 1466.2 1261.83 1468.8 Q1261.25 1469.47 1258.15 1472.69 Q1255.05 1475.88 1249.4 1481.64 Z\" fill=\"#000000\" fill-rule=\"nonzero\" fill-opacity=\"1\" /><path clip-path=\"url(#clip980)\" d=\"M1715.71 1454.1 Q1712.1 1454.1 1710.27 1457.66 Q1708.46 1461.2 1708.46 1468.33 Q1708.46 1475.44 1710.27 1479.01 Q1712.1 1482.55 1715.71 1482.55 Q1719.34 1482.55 1721.15 1479.01 Q1722.98 1475.44 1722.98 1468.33 Q1722.98 1461.2 1721.15 1457.66 Q1719.34 1454.1 1715.71 1454.1 M1715.71 1450.39 Q1721.52 1450.39 1724.57 1455 Q1727.65 1459.58 1727.65 1468.33 Q1727.65 1477.06 1724.57 1481.67 Q1721.52 1486.25 1715.71 1486.25 Q1709.9 1486.25 1706.82 1481.67 Q1703.76 1477.06 1703.76 1468.33 Q1703.76 1459.58 1706.82 1455 Q1709.9 1450.39 1715.71 1450.39 Z\" fill=\"#000000\" fill-rule=\"nonzero\" fill-opacity=\"1\" /><path clip-path=\"url(#clip980)\" d=\"M1735.87 1479.7 L1740.75 1479.7 L1740.75 1485.58 L1735.87 1485.58 L1735.87 1479.7 Z\" fill=\"#000000\" fill-rule=\"nonzero\" fill-opacity=\"1\" /><path clip-path=\"url(#clip980)\" d=\"M1765.11 1466.95 Q1768.46 1467.66 1770.34 1469.93 Q1772.24 1472.2 1772.24 1475.53 Q1772.24 1480.65 1768.72 1483.45 Q1765.2 1486.25 1758.72 1486.25 Q1756.54 1486.25 1754.23 1485.81 Q1751.93 1485.39 1749.48 1484.54 L1749.48 1480.02 Q1751.43 1481.16 1753.74 1481.74 Q1756.06 1482.32 1758.58 1482.32 Q1762.98 1482.32 1765.27 1480.58 Q1767.58 1478.84 1767.58 1475.53 Q1767.58 1472.48 1765.43 1470.77 Q1763.3 1469.03 1759.48 1469.03 L1755.45 1469.03 L1755.45 1465.19 L1759.67 1465.19 Q1763.12 1465.19 1764.94 1463.82 Q1766.77 1462.43 1766.77 1459.84 Q1766.77 1457.18 1764.87 1455.77 Q1763 1454.33 1759.48 1454.33 Q1757.56 1454.33 1755.36 1454.75 Q1753.16 1455.16 1750.52 1456.04 L1750.52 1451.88 Q1753.18 1451.14 1755.5 1450.77 Q1757.84 1450.39 1759.9 1450.39 Q1765.22 1450.39 1768.32 1452.83 Q1771.43 1455.23 1771.43 1459.35 Q1771.43 1462.22 1769.78 1464.21 Q1768.14 1466.18 1765.11 1466.95 Z\" fill=\"#000000\" fill-rule=\"nonzero\" fill-opacity=\"1\" /><path clip-path=\"url(#clip980)\" d=\"M2221.19 1454.1 Q2217.57 1454.1 2215.75 1457.66 Q2213.94 1461.2 2213.94 1468.33 Q2213.94 1475.44 2215.75 1479.01 Q2217.57 1482.55 2221.19 1482.55 Q2224.82 1482.55 2226.63 1479.01 Q2228.45 1475.44 2228.45 1468.33 Q2228.45 1461.2 2226.63 1457.66 Q2224.82 1454.1 2221.19 1454.1 M2221.19 1450.39 Q2227 1450.39 2230.05 1455 Q2233.13 1459.58 2233.13 1468.33 Q2233.13 1477.06 2230.05 1481.67 Q2227 1486.25 2221.19 1486.25 Q2215.38 1486.25 2212.3 1481.67 Q2209.24 1477.06 2209.24 1468.33 Q2209.24 1459.58 2212.3 1455 Q2215.38 1450.39 2221.19 1450.39 Z\" fill=\"#000000\" fill-rule=\"nonzero\" fill-opacity=\"1\" /><path clip-path=\"url(#clip980)\" d=\"M2241.35 1479.7 L2246.23 1479.7 L2246.23 1485.58 L2241.35 1485.58 L2241.35 1479.7 Z\" fill=\"#000000\" fill-rule=\"nonzero\" fill-opacity=\"1\" /><path clip-path=\"url(#clip980)\" d=\"M2269.26 1455.09 L2257.46 1473.54 L2269.26 1473.54 L2269.26 1455.09 M2268.04 1451.02 L2273.92 1451.02 L2273.92 1473.54 L2278.85 1473.54 L2278.85 1477.43 L2273.92 1477.43 L2273.92 1485.58 L2269.26 1485.58 L2269.26 1477.43 L2253.66 1477.43 L2253.66 1472.92 L2268.04 1451.02 Z\" fill=\"#000000\" fill-rule=\"nonzero\" fill-opacity=\"1\" /><path clip-path=\"url(#clip980)\" d=\"M1007.33 1545.76 Q1009.4 1546.46 1011.34 1548.76 Q1013.32 1551.05 1015.29 1555.06 L1021.82 1568.04 L1014.91 1568.04 L1008.83 1555.85 Q1006.47 1551.08 1004.25 1549.52 Q1002.05 1547.96 998.231 1547.96 L991.229 1547.96 L991.229 1568.04 L984.799 1568.04 L984.799 1520.52 L999.313 1520.52 Q1007.46 1520.52 1011.47 1523.93 Q1015.48 1527.34 1015.48 1534.21 Q1015.48 1538.7 1013.38 1541.66 Q1011.31 1544.62 1007.33 1545.76 M991.229 1525.81 L991.229 1542.68 L999.313 1542.68 Q1003.96 1542.68 1006.32 1540.54 Q1008.7 1538.38 1008.7 1534.21 Q1008.7 1530.04 1006.32 1527.94 Q1003.96 1525.81 999.313 1525.81 L991.229 1525.81 Z\" fill=\"#000000\" fill-rule=\"nonzero\" fill-opacity=\"1\" /><path clip-path=\"url(#clip980)\" d=\"M1029.84 1532.4 L1035.69 1532.4 L1035.69 1568.04 L1029.84 1568.04 L1029.84 1532.4 M1029.84 1518.52 L1035.69 1518.52 L1035.69 1525.93 L1029.84 1525.93 L1029.84 1518.52 Z\" fill=\"#000000\" fill-rule=\"nonzero\" fill-opacity=\"1\" /><path clip-path=\"url(#clip980)\" d=\"M1070.67 1533.45 L1070.67 1538.98 Q1068.19 1537.71 1065.52 1537.07 Q1062.84 1536.44 1059.98 1536.44 Q1055.62 1536.44 1053.42 1537.77 Q1051.26 1539.11 1051.26 1541.79 Q1051.26 1543.82 1052.82 1545 Q1054.38 1546.15 1059.09 1547.2 L1061.09 1547.64 Q1067.33 1548.98 1069.94 1551.43 Q1072.58 1553.85 1072.58 1558.21 Q1072.58 1563.17 1068.64 1566.07 Q1064.72 1568.97 1057.85 1568.97 Q1054.98 1568.97 1051.86 1568.39 Q1048.77 1567.85 1045.34 1566.74 L1045.34 1560.69 Q1048.58 1562.38 1051.73 1563.24 Q1054.89 1564.07 1057.97 1564.07 Q1062.11 1564.07 1064.34 1562.66 Q1066.57 1561.23 1066.57 1558.65 Q1066.57 1556.27 1064.94 1554.99 Q1063.35 1553.72 1057.91 1552.54 L1055.87 1552.07 Q1050.43 1550.92 1048.01 1548.56 Q1045.59 1546.18 1045.59 1542.04 Q1045.59 1537.01 1049.16 1534.27 Q1052.72 1531.54 1059.28 1531.54 Q1062.52 1531.54 1065.39 1532.01 Q1068.25 1532.49 1070.67 1533.45 Z\" fill=\"#000000\" fill-rule=\"nonzero\" fill-opacity=\"1\" /><path clip-path=\"url(#clip980)\" d=\"M1081.69 1518.52 L1087.57 1518.52 L1087.57 1547.77 L1105.05 1532.4 L1112.53 1532.4 L1093.62 1549.07 L1113.32 1568.04 L1105.68 1568.04 L1087.57 1550.63 L1087.57 1568.04 L1081.69 1568.04 L1081.69 1518.52 Z\" fill=\"#000000\" fill-rule=\"nonzero\" fill-opacity=\"1\" /><path clip-path=\"url(#clip980)\" d=\"M1163.1 1533.45 L1163.1 1538.98 Q1160.62 1537.71 1157.95 1537.07 Q1155.27 1536.44 1152.41 1536.44 Q1148.05 1536.44 1145.85 1537.77 Q1143.69 1539.11 1143.69 1541.79 Q1143.69 1543.82 1145.25 1545 Q1146.81 1546.15 1151.52 1547.2 L1153.52 1547.64 Q1159.76 1548.98 1162.37 1551.43 Q1165.01 1553.85 1165.01 1558.21 Q1165.01 1563.17 1161.07 1566.07 Q1157.15 1568.97 1150.28 1568.97 Q1147.41 1568.97 1144.29 1568.39 Q1141.2 1567.85 1137.77 1566.74 L1137.77 1560.69 Q1141.01 1562.38 1144.16 1563.24 Q1147.32 1564.07 1150.4 1564.07 Q1154.54 1564.07 1156.77 1562.66 Q1159 1561.23 1159 1558.65 Q1159 1556.27 1157.37 1554.99 Q1155.78 1553.72 1150.34 1552.54 L1148.3 1552.07 Q1142.86 1550.92 1140.44 1548.56 Q1138.02 1546.18 1138.02 1542.04 Q1138.02 1537.01 1141.59 1534.27 Q1145.15 1531.54 1151.71 1531.54 Q1154.95 1531.54 1157.82 1532.01 Q1160.68 1532.49 1163.1 1533.45 Z\" fill=\"#000000\" fill-rule=\"nonzero\" fill-opacity=\"1\" /><path clip-path=\"url(#clip980)\" d=\"M1177.84 1550.25 Q1177.84 1556.71 1180.48 1560.4 Q1183.15 1564.07 1187.8 1564.07 Q1192.45 1564.07 1195.12 1560.4 Q1197.8 1556.71 1197.8 1550.25 Q1197.8 1543.79 1195.12 1540.13 Q1192.45 1536.44 1187.8 1536.44 Q1183.15 1536.44 1180.48 1540.13 Q1177.84 1543.79 1177.84 1550.25 M1197.8 1562.7 Q1195.95 1565.88 1193.12 1567.44 Q1190.32 1568.97 1186.37 1568.97 Q1179.91 1568.97 1175.83 1563.81 Q1171.79 1558.65 1171.79 1550.25 Q1171.79 1541.85 1175.83 1536.69 Q1179.91 1531.54 1186.37 1531.54 Q1190.32 1531.54 1193.12 1533.1 Q1195.95 1534.62 1197.8 1537.81 L1197.8 1532.4 L1203.65 1532.4 L1203.65 1581.6 L1197.8 1581.6 L1197.8 1562.7 Z\" fill=\"#000000\" fill-rule=\"nonzero\" fill-opacity=\"1\" /><path clip-path=\"url(#clip980)\" d=\"M1236.37 1537.87 Q1235.39 1537.3 1234.21 1537.04 Q1233.06 1536.76 1231.66 1536.76 Q1226.7 1536.76 1224.02 1540 Q1221.38 1543.22 1221.38 1549.27 L1221.38 1568.04 L1215.49 1568.04 L1215.49 1532.4 L1221.38 1532.4 L1221.38 1537.93 Q1223.23 1534.69 1226.19 1533.13 Q1229.15 1531.54 1233.38 1531.54 Q1233.98 1531.54 1234.72 1531.63 Q1235.45 1531.7 1236.34 1531.85 L1236.37 1537.87 Z\" fill=\"#000000\" fill-rule=\"nonzero\" fill-opacity=\"1\" /><path clip-path=\"url(#clip980)\" d=\"M1248.31 1522.27 L1248.31 1532.4 L1260.37 1532.4 L1260.37 1536.95 L1248.31 1536.95 L1248.31 1556.3 Q1248.31 1560.66 1249.49 1561.9 Q1250.69 1563.14 1254.36 1563.14 L1260.37 1563.14 L1260.37 1568.04 L1254.36 1568.04 Q1247.58 1568.04 1245 1565.53 Q1242.42 1562.98 1242.42 1556.3 L1242.42 1536.95 L1238.12 1536.95 L1238.12 1532.4 L1242.42 1532.4 L1242.42 1522.27 L1248.31 1522.27 Z\" fill=\"#000000\" fill-rule=\"nonzero\" fill-opacity=\"1\" /><path clip-path=\"url(#clip980)\" d=\"M1282.14 1518.58 Q1277.88 1525.9 1275.81 1533.06 Q1273.74 1540.23 1273.74 1547.58 Q1273.74 1554.93 1275.81 1562.16 Q1277.91 1569.35 1282.14 1576.64 L1277.05 1576.64 Q1272.27 1569.16 1269.89 1561.93 Q1267.53 1554.71 1267.53 1547.58 Q1267.53 1540.48 1269.89 1533.29 Q1272.24 1526.09 1277.05 1518.58 L1282.14 1518.58 Z\" fill=\"#000000\" fill-rule=\"nonzero\" fill-opacity=\"1\" /><path clip-path=\"url(#clip980)\" d=\"M1289.3 1532.4 L1295.51 1532.4 L1306.65 1562.31 L1317.79 1532.4 L1324 1532.4 L1310.63 1568.04 L1302.67 1568.04 L1289.3 1532.4 Z\" fill=\"#000000\" fill-rule=\"nonzero\" fill-opacity=\"1\" /><path clip-path=\"url(#clip980)\" d=\"M1348.28 1550.12 Q1341.18 1550.12 1338.45 1551.75 Q1335.71 1553.37 1335.71 1557.29 Q1335.71 1560.4 1337.75 1562.25 Q1339.81 1564.07 1343.35 1564.07 Q1348.22 1564.07 1351.15 1560.63 Q1354.11 1557.16 1354.11 1551.43 L1354.11 1550.12 L1348.28 1550.12 M1359.96 1547.71 L1359.96 1568.04 L1354.11 1568.04 L1354.11 1562.63 Q1352.1 1565.88 1349.11 1567.44 Q1346.12 1568.97 1341.79 1568.97 Q1336.31 1568.97 1333.07 1565.91 Q1329.85 1562.82 1329.85 1557.67 Q1329.85 1551.65 1333.86 1548.6 Q1337.91 1545.54 1345.89 1545.54 L1354.11 1545.54 L1354.11 1544.97 Q1354.11 1540.93 1351.43 1538.73 Q1348.79 1536.5 1343.98 1536.5 Q1340.93 1536.5 1338.03 1537.23 Q1335.14 1537.97 1332.46 1539.43 L1332.46 1534.02 Q1335.68 1532.78 1338.7 1532.17 Q1341.72 1531.54 1344.59 1531.54 Q1352.32 1531.54 1356.14 1535.55 Q1359.96 1539.56 1359.96 1547.71 Z\" fill=\"#000000\" fill-rule=\"nonzero\" fill-opacity=\"1\" /><path clip-path=\"url(#clip980)\" d=\"M1392.68 1537.87 Q1391.7 1537.3 1390.52 1537.04 Q1389.37 1536.76 1387.97 1536.76 Q1383.01 1536.76 1380.33 1540 Q1377.69 1543.22 1377.69 1549.27 L1377.69 1568.04 L1371.8 1568.04 L1371.8 1532.4 L1377.69 1532.4 L1377.69 1537.93 Q1379.54 1534.69 1382.5 1533.13 Q1385.46 1531.54 1389.69 1531.54 Q1390.29 1531.54 1391.03 1531.63 Q1391.76 1531.7 1392.65 1531.85 L1392.68 1537.87 Z\" fill=\"#000000\" fill-rule=\"nonzero\" fill-opacity=\"1\" /><path clip-path=\"url(#clip980)\" d=\"M1398.82 1532.4 L1404.68 1532.4 L1404.68 1568.04 L1398.82 1568.04 L1398.82 1532.4 M1398.82 1518.52 L1404.68 1518.52 L1404.68 1525.93 L1398.82 1525.93 L1398.82 1518.52 Z\" fill=\"#000000\" fill-rule=\"nonzero\" fill-opacity=\"1\" /><path clip-path=\"url(#clip980)\" d=\"M1433.14 1550.12 Q1426.04 1550.12 1423.3 1551.75 Q1420.56 1553.37 1420.56 1557.29 Q1420.56 1560.4 1422.6 1562.25 Q1424.67 1564.07 1428.2 1564.07 Q1433.07 1564.07 1436 1560.63 Q1438.96 1557.16 1438.96 1551.43 L1438.96 1550.12 L1433.14 1550.12 M1444.82 1547.71 L1444.82 1568.04 L1438.96 1568.04 L1438.96 1562.63 Q1436.96 1565.88 1433.96 1567.44 Q1430.97 1568.97 1426.64 1568.97 Q1421.17 1568.97 1417.92 1565.91 Q1414.71 1562.82 1414.71 1557.67 Q1414.71 1551.65 1418.72 1548.6 Q1422.76 1545.54 1430.75 1545.54 L1438.96 1545.54 L1438.96 1544.97 Q1438.96 1540.93 1436.29 1538.73 Q1433.65 1536.5 1428.84 1536.5 Q1425.78 1536.5 1422.89 1537.23 Q1419.99 1537.97 1417.32 1539.43 L1417.32 1534.02 Q1420.53 1532.78 1423.56 1532.17 Q1426.58 1531.54 1429.44 1531.54 Q1437.18 1531.54 1441 1535.55 Q1444.82 1539.56 1444.82 1547.71 Z\" fill=\"#000000\" fill-rule=\"nonzero\" fill-opacity=\"1\" /><path clip-path=\"url(#clip980)\" d=\"M1486.51 1546.53 L1486.51 1568.04 L1480.66 1568.04 L1480.66 1546.72 Q1480.66 1541.66 1478.68 1539.14 Q1476.71 1536.63 1472.76 1536.63 Q1468.02 1536.63 1465.28 1539.65 Q1462.55 1542.68 1462.55 1547.9 L1462.55 1568.04 L1456.66 1568.04 L1456.66 1532.4 L1462.55 1532.4 L1462.55 1537.93 Q1464.65 1534.72 1467.48 1533.13 Q1470.34 1531.54 1474.07 1531.54 Q1480.21 1531.54 1483.36 1535.36 Q1486.51 1539.14 1486.51 1546.53 Z\" fill=\"#000000\" fill-rule=\"nonzero\" fill-opacity=\"1\" /><path clip-path=\"url(#clip980)\" d=\"M1523.85 1533.76 L1523.85 1539.24 Q1521.36 1537.87 1518.85 1537.2 Q1516.37 1536.5 1513.82 1536.5 Q1508.12 1536.5 1504.97 1540.13 Q1501.82 1543.73 1501.82 1550.25 Q1501.82 1556.78 1504.97 1560.4 Q1508.12 1564 1513.82 1564 Q1516.37 1564 1518.85 1563.33 Q1521.36 1562.63 1523.85 1561.26 L1523.85 1566.68 Q1521.4 1567.82 1518.75 1568.39 Q1516.14 1568.97 1513.18 1568.97 Q1505.13 1568.97 1500.39 1563.91 Q1495.65 1558.85 1495.65 1550.25 Q1495.65 1541.53 1500.42 1536.53 Q1505.23 1531.54 1513.57 1531.54 Q1516.27 1531.54 1518.85 1532.11 Q1521.43 1532.65 1523.85 1533.76 Z\" fill=\"#000000\" fill-rule=\"nonzero\" fill-opacity=\"1\" /><path clip-path=\"url(#clip980)\" d=\"M1564.52 1548.76 L1564.52 1551.62 L1537.6 1551.62 Q1537.98 1557.67 1541.23 1560.85 Q1544.5 1564 1550.33 1564 Q1553.7 1564 1556.85 1563.17 Q1560.04 1562.35 1563.16 1560.69 L1563.16 1566.23 Q1560 1567.57 1556.69 1568.27 Q1553.38 1568.97 1549.98 1568.97 Q1541.45 1568.97 1536.45 1564 Q1531.49 1559.04 1531.49 1550.57 Q1531.49 1541.82 1536.2 1536.69 Q1540.94 1531.54 1548.96 1531.54 Q1556.15 1531.54 1560.32 1536.18 Q1564.52 1540.8 1564.52 1548.76 M1558.67 1547.04 Q1558.6 1542.23 1555.96 1539.37 Q1553.35 1536.5 1549.02 1536.5 Q1544.12 1536.5 1541.16 1539.27 Q1538.23 1542.04 1537.79 1547.07 L1558.67 1547.04 Z\" fill=\"#000000\" fill-rule=\"nonzero\" fill-opacity=\"1\" /><path clip-path=\"url(#clip980)\" d=\"M1573.21 1518.58 L1578.31 1518.58 Q1583.08 1526.09 1585.44 1533.29 Q1587.82 1540.48 1587.82 1547.58 Q1587.82 1554.71 1585.44 1561.93 Q1583.08 1569.16 1578.31 1576.64 L1573.21 1576.64 Q1577.45 1569.35 1579.52 1562.16 Q1581.62 1554.93 1581.62 1547.58 Q1581.62 1540.23 1579.52 1533.06 Q1577.45 1525.9 1573.21 1518.58 Z\" fill=\"#000000\" fill-rule=\"nonzero\" fill-opacity=\"1\" /><polyline clip-path=\"url(#clip980)\" style=\"stroke:#000000; stroke-linecap:round; stroke-linejoin:round; stroke-width:4; stroke-opacity:1; fill:none\" points=\"219.866,1423.18 219.866,47.2441 \"/>\n",
       "<polyline clip-path=\"url(#clip980)\" style=\"stroke:#000000; stroke-linecap:round; stroke-linejoin:round; stroke-width:4; stroke-opacity:1; fill:none\" points=\"2352.76,1423.18 2352.76,47.2441 \"/>\n",
       "<polyline clip-path=\"url(#clip980)\" style=\"stroke:#000000; stroke-linecap:round; stroke-linejoin:round; stroke-width:4; stroke-opacity:1; fill:none\" points=\"219.866,1423.18 238.764,1423.18 \"/>\n",
       "<polyline clip-path=\"url(#clip980)\" style=\"stroke:#000000; stroke-linecap:round; stroke-linejoin:round; stroke-width:4; stroke-opacity:1; fill:none\" points=\"219.866,1172.89 238.764,1172.89 \"/>\n",
       "<polyline clip-path=\"url(#clip980)\" style=\"stroke:#000000; stroke-linecap:round; stroke-linejoin:round; stroke-width:4; stroke-opacity:1; fill:none\" points=\"219.866,922.604 238.764,922.604 \"/>\n",
       "<polyline clip-path=\"url(#clip980)\" style=\"stroke:#000000; stroke-linecap:round; stroke-linejoin:round; stroke-width:4; stroke-opacity:1; fill:none\" points=\"219.866,672.317 238.764,672.317 \"/>\n",
       "<polyline clip-path=\"url(#clip980)\" style=\"stroke:#000000; stroke-linecap:round; stroke-linejoin:round; stroke-width:4; stroke-opacity:1; fill:none\" points=\"219.866,422.029 238.764,422.029 \"/>\n",
       "<polyline clip-path=\"url(#clip980)\" style=\"stroke:#000000; stroke-linecap:round; stroke-linejoin:round; stroke-width:4; stroke-opacity:1; fill:none\" points=\"219.866,171.741 238.764,171.741 \"/>\n",
       "<polyline clip-path=\"url(#clip980)\" style=\"stroke:#000000; stroke-linecap:round; stroke-linejoin:round; stroke-width:4; stroke-opacity:1; fill:none\" points=\"2352.76,1423.18 2333.86,1423.18 \"/>\n",
       "<polyline clip-path=\"url(#clip980)\" style=\"stroke:#000000; stroke-linecap:round; stroke-linejoin:round; stroke-width:4; stroke-opacity:1; fill:none\" points=\"2352.76,1172.89 2333.86,1172.89 \"/>\n",
       "<polyline clip-path=\"url(#clip980)\" style=\"stroke:#000000; stroke-linecap:round; stroke-linejoin:round; stroke-width:4; stroke-opacity:1; fill:none\" points=\"2352.76,922.604 2333.86,922.604 \"/>\n",
       "<polyline clip-path=\"url(#clip980)\" style=\"stroke:#000000; stroke-linecap:round; stroke-linejoin:round; stroke-width:4; stroke-opacity:1; fill:none\" points=\"2352.76,672.317 2333.86,672.317 \"/>\n",
       "<polyline clip-path=\"url(#clip980)\" style=\"stroke:#000000; stroke-linecap:round; stroke-linejoin:round; stroke-width:4; stroke-opacity:1; fill:none\" points=\"2352.76,422.029 2333.86,422.029 \"/>\n",
       "<polyline clip-path=\"url(#clip980)\" style=\"stroke:#000000; stroke-linecap:round; stroke-linejoin:round; stroke-width:4; stroke-opacity:1; fill:none\" points=\"2352.76,171.741 2333.86,171.741 \"/>\n",
       "<path clip-path=\"url(#clip980)\" d=\"M126.691 1408.98 Q123.08 1408.98 121.251 1412.54 Q119.445 1416.08 119.445 1423.21 Q119.445 1430.32 121.251 1433.89 Q123.08 1437.43 126.691 1437.43 Q130.325 1437.43 132.13 1433.89 Q133.959 1430.32 133.959 1423.21 Q133.959 1416.08 132.13 1412.54 Q130.325 1408.98 126.691 1408.98 M126.691 1405.27 Q132.501 1405.27 135.556 1409.88 Q138.635 1414.46 138.635 1423.21 Q138.635 1431.94 135.556 1436.55 Q132.501 1441.13 126.691 1441.13 Q120.88 1441.13 117.802 1436.55 Q114.746 1431.94 114.746 1423.21 Q114.746 1414.46 117.802 1409.88 Q120.88 1405.27 126.691 1405.27 Z\" fill=\"#000000\" fill-rule=\"nonzero\" fill-opacity=\"1\" /><path clip-path=\"url(#clip980)\" d=\"M146.853 1434.58 L151.737 1434.58 L151.737 1440.46 L146.853 1440.46 L146.853 1434.58 Z\" fill=\"#000000\" fill-rule=\"nonzero\" fill-opacity=\"1\" /><path clip-path=\"url(#clip980)\" d=\"M171.922 1408.98 Q168.311 1408.98 166.482 1412.54 Q164.677 1416.08 164.677 1423.21 Q164.677 1430.32 166.482 1433.89 Q168.311 1437.43 171.922 1437.43 Q175.556 1437.43 177.362 1433.89 Q179.19 1430.32 179.19 1423.21 Q179.19 1416.08 177.362 1412.54 Q175.556 1408.98 171.922 1408.98 M171.922 1405.27 Q177.732 1405.27 180.788 1409.88 Q183.866 1414.46 183.866 1423.21 Q183.866 1431.94 180.788 1436.55 Q177.732 1441.13 171.922 1441.13 Q166.112 1441.13 163.033 1436.55 Q159.978 1431.94 159.978 1423.21 Q159.978 1414.46 163.033 1409.88 Q166.112 1405.27 171.922 1405.27 Z\" fill=\"#000000\" fill-rule=\"nonzero\" fill-opacity=\"1\" /><path clip-path=\"url(#clip980)\" d=\"M127.917 1158.69 Q124.306 1158.69 122.478 1162.26 Q120.672 1165.8 120.672 1172.93 Q120.672 1180.03 122.478 1183.6 Q124.306 1187.14 127.917 1187.14 Q131.552 1187.14 133.357 1183.6 Q135.186 1180.03 135.186 1172.93 Q135.186 1165.8 133.357 1162.26 Q131.552 1158.69 127.917 1158.69 M127.917 1154.99 Q133.728 1154.99 136.783 1159.59 Q139.862 1164.18 139.862 1172.93 Q139.862 1181.65 136.783 1186.26 Q133.728 1190.84 127.917 1190.84 Q122.107 1190.84 119.029 1186.26 Q115.973 1181.65 115.973 1172.93 Q115.973 1164.18 119.029 1159.59 Q122.107 1154.99 127.917 1154.99 Z\" fill=\"#000000\" fill-rule=\"nonzero\" fill-opacity=\"1\" /><path clip-path=\"url(#clip980)\" d=\"M148.079 1184.29 L152.964 1184.29 L152.964 1190.17 L148.079 1190.17 L148.079 1184.29 Z\" fill=\"#000000\" fill-rule=\"nonzero\" fill-opacity=\"1\" /><path clip-path=\"url(#clip980)\" d=\"M163.959 1186.24 L171.598 1186.24 L171.598 1159.87 L163.288 1161.54 L163.288 1157.28 L171.552 1155.61 L176.227 1155.61 L176.227 1186.24 L183.866 1186.24 L183.866 1190.17 L163.959 1190.17 L163.959 1186.24 Z\" fill=\"#000000\" fill-rule=\"nonzero\" fill-opacity=\"1\" /><path clip-path=\"url(#clip980)\" d=\"M128.288 908.403 Q124.677 908.403 122.848 911.968 Q121.043 915.509 121.043 922.639 Q121.043 929.745 122.848 933.31 Q124.677 936.852 128.288 936.852 Q131.922 936.852 133.728 933.31 Q135.556 929.745 135.556 922.639 Q135.556 915.509 133.728 911.968 Q131.922 908.403 128.288 908.403 M128.288 904.699 Q134.098 904.699 137.154 909.306 Q140.232 913.889 140.232 922.639 Q140.232 931.366 137.154 935.972 Q134.098 940.556 128.288 940.556 Q122.478 940.556 119.399 935.972 Q116.343 931.366 116.343 922.639 Q116.343 913.889 119.399 909.306 Q122.478 904.699 128.288 904.699 Z\" fill=\"#000000\" fill-rule=\"nonzero\" fill-opacity=\"1\" /><path clip-path=\"url(#clip980)\" d=\"M148.45 934.005 L153.334 934.005 L153.334 939.884 L148.45 939.884 L148.45 934.005 Z\" fill=\"#000000\" fill-rule=\"nonzero\" fill-opacity=\"1\" /><path clip-path=\"url(#clip980)\" d=\"M167.547 935.949 L183.866 935.949 L183.866 939.884 L161.922 939.884 L161.922 935.949 Q164.584 933.195 169.167 928.565 Q173.774 923.912 174.954 922.57 Q177.2 920.046 178.079 918.31 Q178.982 916.551 178.982 914.861 Q178.982 912.107 177.038 910.371 Q175.116 908.634 172.014 908.634 Q169.815 908.634 167.362 909.398 Q164.931 910.162 162.153 911.713 L162.153 906.991 Q164.977 905.857 167.431 905.278 Q169.885 904.699 171.922 904.699 Q177.292 904.699 180.487 907.384 Q183.681 910.07 183.681 914.56 Q183.681 916.69 182.871 918.611 Q182.084 920.509 179.977 923.102 Q179.399 923.773 176.297 926.991 Q173.195 930.185 167.547 935.949 Z\" fill=\"#000000\" fill-rule=\"nonzero\" fill-opacity=\"1\" /><path clip-path=\"url(#clip980)\" d=\"M127.339 658.115 Q123.728 658.115 121.899 661.68 Q120.093 665.222 120.093 672.351 Q120.093 679.458 121.899 683.022 Q123.728 686.564 127.339 686.564 Q130.973 686.564 132.779 683.022 Q134.607 679.458 134.607 672.351 Q134.607 665.222 132.779 661.68 Q130.973 658.115 127.339 658.115 M127.339 654.412 Q133.149 654.412 136.204 659.018 Q139.283 663.601 139.283 672.351 Q139.283 681.078 136.204 685.685 Q133.149 690.268 127.339 690.268 Q121.529 690.268 118.45 685.685 Q115.394 681.078 115.394 672.351 Q115.394 663.601 118.45 659.018 Q121.529 654.412 127.339 654.412 Z\" fill=\"#000000\" fill-rule=\"nonzero\" fill-opacity=\"1\" /><path clip-path=\"url(#clip980)\" d=\"M147.501 683.717 L152.385 683.717 L152.385 689.597 L147.501 689.597 L147.501 683.717 Z\" fill=\"#000000\" fill-rule=\"nonzero\" fill-opacity=\"1\" /><path clip-path=\"url(#clip980)\" d=\"M176.737 670.962 Q180.093 671.68 181.968 673.948 Q183.866 676.217 183.866 679.55 Q183.866 684.666 180.348 687.467 Q176.829 690.268 170.348 690.268 Q168.172 690.268 165.857 689.828 Q163.565 689.411 161.112 688.555 L161.112 684.041 Q163.056 685.175 165.371 685.754 Q167.686 686.333 170.209 686.333 Q174.607 686.333 176.899 684.597 Q179.214 682.86 179.214 679.55 Q179.214 676.495 177.061 674.782 Q174.931 673.046 171.112 673.046 L167.084 673.046 L167.084 669.203 L171.297 669.203 Q174.746 669.203 176.575 667.837 Q178.403 666.448 178.403 663.856 Q178.403 661.194 176.505 659.782 Q174.63 658.347 171.112 658.347 Q169.19 658.347 166.991 658.763 Q164.792 659.18 162.153 660.06 L162.153 655.893 Q164.815 655.152 167.13 654.782 Q169.468 654.412 171.528 654.412 Q176.852 654.412 179.954 656.842 Q183.056 659.249 183.056 663.37 Q183.056 666.24 181.413 668.231 Q179.769 670.198 176.737 670.962 Z\" fill=\"#000000\" fill-rule=\"nonzero\" fill-opacity=\"1\" /><path clip-path=\"url(#clip980)\" d=\"M126.205 407.827 Q122.593 407.827 120.765 411.392 Q118.959 414.934 118.959 422.063 Q118.959 429.17 120.765 432.735 Q122.593 436.276 126.205 436.276 Q129.839 436.276 131.644 432.735 Q133.473 429.17 133.473 422.063 Q133.473 414.934 131.644 411.392 Q129.839 407.827 126.205 407.827 M126.205 404.124 Q132.015 404.124 135.07 408.73 Q138.149 413.314 138.149 422.063 Q138.149 430.79 135.07 435.397 Q132.015 439.98 126.205 439.98 Q120.394 439.98 117.316 435.397 Q114.26 430.79 114.26 422.063 Q114.26 413.314 117.316 408.73 Q120.394 404.124 126.205 404.124 Z\" fill=\"#000000\" fill-rule=\"nonzero\" fill-opacity=\"1\" /><path clip-path=\"url(#clip980)\" d=\"M146.366 433.429 L151.251 433.429 L151.251 439.309 L146.366 439.309 L146.366 433.429 Z\" fill=\"#000000\" fill-rule=\"nonzero\" fill-opacity=\"1\" /><path clip-path=\"url(#clip980)\" d=\"M174.283 408.823 L162.477 427.272 L174.283 427.272 L174.283 408.823 M173.056 404.749 L178.936 404.749 L178.936 427.272 L183.866 427.272 L183.866 431.161 L178.936 431.161 L178.936 439.309 L174.283 439.309 L174.283 431.161 L158.681 431.161 L158.681 426.647 L173.056 404.749 Z\" fill=\"#000000\" fill-rule=\"nonzero\" fill-opacity=\"1\" /><path clip-path=\"url(#clip980)\" d=\"M127.686 157.54 Q124.075 157.54 122.246 161.104 Q120.441 164.646 120.441 171.776 Q120.441 178.882 122.246 182.447 Q124.075 185.989 127.686 185.989 Q131.32 185.989 133.126 182.447 Q134.954 178.882 134.954 171.776 Q134.954 164.646 133.126 161.104 Q131.32 157.54 127.686 157.54 M127.686 153.836 Q133.496 153.836 136.552 158.442 Q139.63 163.026 139.63 171.776 Q139.63 180.502 136.552 185.109 Q133.496 189.692 127.686 189.692 Q121.876 189.692 118.797 185.109 Q115.742 180.502 115.742 171.776 Q115.742 163.026 118.797 158.442 Q121.876 153.836 127.686 153.836 Z\" fill=\"#000000\" fill-rule=\"nonzero\" fill-opacity=\"1\" /><path clip-path=\"url(#clip980)\" d=\"M147.848 183.141 L152.732 183.141 L152.732 189.021 L147.848 189.021 L147.848 183.141 Z\" fill=\"#000000\" fill-rule=\"nonzero\" fill-opacity=\"1\" /><path clip-path=\"url(#clip980)\" d=\"M162.964 154.461 L181.32 154.461 L181.32 158.396 L167.246 158.396 L167.246 166.868 Q168.264 166.521 169.283 166.359 Q170.302 166.174 171.32 166.174 Q177.107 166.174 180.487 169.345 Q183.866 172.516 183.866 177.933 Q183.866 183.512 180.394 186.614 Q176.922 189.692 170.602 189.692 Q168.427 189.692 166.158 189.322 Q163.913 188.952 161.505 188.211 L161.505 183.512 Q163.589 184.646 165.811 185.202 Q168.033 185.757 170.51 185.757 Q174.514 185.757 176.852 183.651 Q179.19 181.544 179.19 177.933 Q179.19 174.322 176.852 172.216 Q174.514 170.109 170.51 170.109 Q168.635 170.109 166.76 170.526 Q164.908 170.942 162.964 171.822 L162.964 154.461 Z\" fill=\"#000000\" fill-rule=\"nonzero\" fill-opacity=\"1\" /><path clip-path=\"url(#clip980)\" d=\"M21.7677 1140.87 L39.6235 1140.87 L39.6235 1132.78 Q39.6235 1128.29 37.3 1125.84 Q34.9765 1123.39 30.6797 1123.39 Q26.4147 1123.39 24.0912 1125.84 Q21.7677 1128.29 21.7677 1132.78 L21.7677 1140.87 M16.4842 1147.3 L16.4842 1132.78 Q16.4842 1124.79 20.1126 1120.72 Q23.7092 1116.61 30.6797 1116.61 Q37.7138 1116.61 41.3104 1120.72 Q44.907 1124.79 44.907 1132.78 L44.907 1140.87 L64.0042 1140.87 L64.0042 1147.3 L16.4842 1147.3 Z\" fill=\"#000000\" fill-rule=\"nonzero\" fill-opacity=\"1\" /><path clip-path=\"url(#clip980)\" d=\"M32.4621 1096.75 Q32.4621 1101.46 36.1542 1104.2 Q39.8145 1106.94 46.212 1106.94 Q52.6095 1106.94 56.3017 1104.23 Q59.9619 1101.49 59.9619 1096.75 Q59.9619 1092.07 56.2698 1089.34 Q52.5777 1086.6 46.212 1086.6 Q39.8781 1086.6 36.186 1089.34 Q32.4621 1092.07 32.4621 1096.75 M27.4968 1096.75 Q27.4968 1089.11 32.4621 1084.75 Q37.4273 1080.39 46.212 1080.39 Q54.9649 1080.39 59.9619 1084.75 Q64.9272 1089.11 64.9272 1096.75 Q64.9272 1104.42 59.9619 1108.78 Q54.9649 1113.11 46.212 1113.11 Q37.4273 1113.11 32.4621 1108.78 Q27.4968 1104.42 27.4968 1096.75 Z\" fill=\"#000000\" fill-rule=\"nonzero\" fill-opacity=\"1\" /><path clip-path=\"url(#clip980)\" d=\"M33.8307 1050.03 Q33.2578 1051.01 33.0032 1052.19 Q32.7167 1053.34 32.7167 1054.74 Q32.7167 1059.7 35.9632 1062.38 Q39.1779 1065.02 45.2253 1065.02 L64.0042 1065.02 L64.0042 1070.91 L28.3562 1070.91 L28.3562 1065.02 L33.8944 1065.02 Q30.6479 1063.17 29.0883 1060.21 Q27.4968 1057.25 27.4968 1053.02 Q27.4968 1052.42 27.5923 1051.68 Q27.656 1050.95 27.8151 1050.06 L33.8307 1050.03 Z\" fill=\"#000000\" fill-rule=\"nonzero\" fill-opacity=\"1\" /><path clip-path=\"url(#clip980)\" d=\"M18.2347 1038.09 L28.3562 1038.09 L28.3562 1026.03 L32.9077 1026.03 L32.9077 1038.09 L52.2594 1038.09 Q56.6199 1038.09 57.8613 1036.91 Q59.1026 1035.71 59.1026 1032.04 L59.1026 1026.03 L64.0042 1026.03 L64.0042 1032.04 Q64.0042 1038.82 61.4897 1041.4 Q58.9434 1043.98 52.2594 1043.98 L32.9077 1043.98 L32.9077 1048.28 L28.3562 1048.28 L28.3562 1043.98 L18.2347 1043.98 L18.2347 1038.09 Z\" fill=\"#000000\" fill-rule=\"nonzero\" fill-opacity=\"1\" /><path clip-path=\"url(#clip980)\" d=\"M14.479 1000.28 L19.3487 1000.28 L19.3487 1005.88 Q19.3487 1009.03 20.6219 1010.27 Q21.895 1011.48 25.2052 1011.48 L28.3562 1011.48 L28.3562 1001.84 L32.9077 1001.84 L32.9077 1011.48 L64.0042 1011.48 L64.0042 1017.37 L32.9077 1017.37 L32.9077 1022.97 L28.3562 1022.97 L28.3562 1017.37 L25.8736 1017.37 Q19.9216 1017.37 17.2162 1014.6 Q14.479 1011.83 14.479 1005.82 L14.479 1000.28 Z\" fill=\"#000000\" fill-rule=\"nonzero\" fill-opacity=\"1\" /><path clip-path=\"url(#clip980)\" d=\"M32.4621 981.565 Q32.4621 986.275 36.1542 989.013 Q39.8145 991.75 46.212 991.75 Q52.6095 991.75 56.3017 989.045 Q59.9619 986.307 59.9619 981.565 Q59.9619 976.886 56.2698 974.149 Q52.5777 971.412 46.212 971.412 Q39.8781 971.412 36.186 974.149 Q32.4621 976.886 32.4621 981.565 M27.4968 981.565 Q27.4968 973.926 32.4621 969.565 Q37.4273 965.205 46.212 965.205 Q54.9649 965.205 59.9619 969.565 Q64.9272 973.926 64.9272 981.565 Q64.9272 989.235 59.9619 993.596 Q54.9649 997.925 46.212 997.925 Q37.4273 997.925 32.4621 993.596 Q27.4968 989.235 27.4968 981.565 Z\" fill=\"#000000\" fill-rule=\"nonzero\" fill-opacity=\"1\" /><path clip-path=\"url(#clip980)\" d=\"M14.479 955.497 L14.479 949.641 L64.0042 949.641 L64.0042 955.497 L14.479 955.497 Z\" fill=\"#000000\" fill-rule=\"nonzero\" fill-opacity=\"1\" /><path clip-path=\"url(#clip980)\" d=\"M28.3562 937.387 L28.3562 931.53 L64.0042 931.53 L64.0042 937.387 L28.3562 937.387 M14.479 937.387 L14.479 931.53 L21.895 931.53 L21.895 937.387 L14.479 937.387 Z\" fill=\"#000000\" fill-rule=\"nonzero\" fill-opacity=\"1\" /><path clip-path=\"url(#clip980)\" d=\"M32.4621 905.463 Q32.4621 910.173 36.1542 912.911 Q39.8145 915.648 46.212 915.648 Q52.6095 915.648 56.3017 912.942 Q59.9619 910.205 59.9619 905.463 Q59.9619 900.784 56.2698 898.047 Q52.5777 895.309 46.212 895.309 Q39.8781 895.309 36.186 898.047 Q32.4621 900.784 32.4621 905.463 M27.4968 905.463 Q27.4968 897.824 32.4621 893.463 Q37.4273 889.103 46.212 889.103 Q54.9649 889.103 59.9619 893.463 Q64.9272 897.824 64.9272 905.463 Q64.9272 913.133 59.9619 917.494 Q54.9649 921.823 46.212 921.823 Q37.4273 921.823 32.4621 917.494 Q27.4968 913.133 27.4968 905.463 Z\" fill=\"#000000\" fill-rule=\"nonzero\" fill-opacity=\"1\" /><path clip-path=\"url(#clip980)\" d=\"M14.479 858.675 L14.479 852.818 L64.0042 852.818 L64.0042 858.675 L14.479 858.675 Z\" fill=\"#000000\" fill-rule=\"nonzero\" fill-opacity=\"1\" /><path clip-path=\"url(#clip980)\" d=\"M32.4621 826.751 Q32.4621 831.461 36.1542 834.199 Q39.8145 836.936 46.212 836.936 Q52.6095 836.936 56.3017 834.231 Q59.9619 831.493 59.9619 826.751 Q59.9619 822.072 56.2698 819.335 Q52.5777 816.598 46.212 816.598 Q39.8781 816.598 36.186 819.335 Q32.4621 822.072 32.4621 826.751 M27.4968 826.751 Q27.4968 819.112 32.4621 814.751 Q37.4273 810.391 46.212 810.391 Q54.9649 810.391 59.9619 814.751 Q64.9272 819.112 64.9272 826.751 Q64.9272 834.422 59.9619 838.782 Q54.9649 843.111 46.212 843.111 Q37.4273 843.111 32.4621 838.782 Q27.4968 834.422 27.4968 826.751 Z\" fill=\"#000000\" fill-rule=\"nonzero\" fill-opacity=\"1\" /><path clip-path=\"url(#clip980)\" d=\"M45.7664 777.226 Q39.4007 777.226 35.8996 779.867 Q32.3984 782.477 32.3984 787.22 Q32.3984 791.93 35.8996 794.572 Q39.4007 797.182 45.7664 797.182 Q52.1003 797.182 55.6014 794.572 Q59.1026 791.93 59.1026 787.22 Q59.1026 782.477 55.6014 779.867 Q52.1003 777.226 45.7664 777.226 M59.58 771.369 Q68.683 771.369 73.1071 775.411 Q77.5631 779.454 77.5631 787.793 Q77.5631 790.88 77.0857 793.617 Q76.6401 796.355 75.6852 798.933 L69.9879 798.933 Q71.3884 796.355 72.0568 793.84 Q72.7252 791.326 72.7252 788.716 Q72.7252 782.955 69.7015 780.09 Q66.7096 777.226 60.6303 777.226 L57.7339 777.226 Q60.885 779.04 62.4446 781.873 Q64.0042 784.705 64.0042 788.652 Q64.0042 795.209 59.0071 799.219 Q54.01 803.23 45.7664 803.23 Q37.491 803.23 32.4939 799.219 Q27.4968 795.209 27.4968 788.652 Q27.4968 784.705 29.0564 781.873 Q30.616 779.04 33.7671 777.226 L28.3562 777.226 L28.3562 771.369 L59.58 771.369 Z\" fill=\"#000000\" fill-rule=\"nonzero\" fill-opacity=\"1\" /><path clip-path=\"url(#clip980)\" d=\"M45.7664 715.128 Q39.4007 715.128 35.8996 717.77 Q32.3984 720.38 32.3984 725.122 Q32.3984 729.833 35.8996 732.475 Q39.4007 735.085 45.7664 735.085 Q52.1003 735.085 55.6014 732.475 Q59.1026 729.833 59.1026 725.122 Q59.1026 720.38 55.6014 717.77 Q52.1003 715.128 45.7664 715.128 M59.58 709.272 Q68.683 709.272 73.1071 713.314 Q77.5631 717.356 77.5631 725.695 Q77.5631 728.783 77.0857 731.52 Q76.6401 734.257 75.6852 736.835 L69.9879 736.835 Q71.3884 734.257 72.0568 731.743 Q72.7252 729.228 72.7252 726.618 Q72.7252 720.857 69.7015 717.993 Q66.7096 715.128 60.6303 715.128 L57.7339 715.128 Q60.885 716.942 62.4446 719.775 Q64.0042 722.608 64.0042 726.555 Q64.0042 733.111 59.0071 737.122 Q54.01 741.132 45.7664 741.132 Q37.491 741.132 32.4939 737.122 Q27.4968 733.111 27.4968 726.555 Q27.4968 722.608 29.0564 719.775 Q30.616 716.942 33.7671 715.128 L28.3562 715.128 L28.3562 709.272 L59.58 709.272 Z\" fill=\"#000000\" fill-rule=\"nonzero\" fill-opacity=\"1\" /><path clip-path=\"url(#clip980)\" d=\"M33.8307 676.552 Q33.2578 677.539 33.0032 678.716 Q32.7167 679.862 32.7167 681.263 Q32.7167 686.228 35.9632 688.901 Q39.1779 691.543 45.2253 691.543 L64.0042 691.543 L64.0042 697.431 L28.3562 697.431 L28.3562 691.543 L33.8944 691.543 Q30.6479 689.697 29.0883 686.737 Q27.4968 683.777 27.4968 679.544 Q27.4968 678.939 27.5923 678.207 Q27.656 677.475 27.8151 676.584 L33.8307 676.552 Z\" fill=\"#000000\" fill-rule=\"nonzero\" fill-opacity=\"1\" /><path clip-path=\"url(#clip980)\" d=\"M32.4621 658.028 Q32.4621 662.738 36.1542 665.476 Q39.8145 668.213 46.212 668.213 Q52.6095 668.213 56.3017 665.507 Q59.9619 662.77 59.9619 658.028 Q59.9619 653.349 56.2698 650.612 Q52.5777 647.874 46.212 647.874 Q39.8781 647.874 36.186 650.612 Q32.4621 653.349 32.4621 658.028 M27.4968 658.028 Q27.4968 650.389 32.4621 646.028 Q37.4273 641.668 46.212 641.668 Q54.9649 641.668 59.9619 646.028 Q64.9272 650.389 64.9272 658.028 Q64.9272 665.698 59.9619 670.059 Q54.9649 674.388 46.212 674.388 Q37.4273 674.388 32.4621 670.059 Q27.4968 665.698 27.4968 658.028 Z\" fill=\"#000000\" fill-rule=\"nonzero\" fill-opacity=\"1\" /><path clip-path=\"url(#clip980)\" d=\"M28.3562 635.366 L28.3562 629.509 L56.1743 622.189 L28.3562 614.9 L28.3562 607.993 L56.1743 600.673 L28.3562 593.384 L28.3562 587.528 L64.0042 596.853 L64.0042 603.76 L34.7856 611.431 L64.0042 619.133 L64.0042 626.04 L28.3562 635.366 Z\" fill=\"#000000\" fill-rule=\"nonzero\" fill-opacity=\"1\" /><path clip-path=\"url(#clip980)\" d=\"M18.2347 572.855 L28.3562 572.855 L28.3562 560.792 L32.9077 560.792 L32.9077 572.855 L52.2594 572.855 Q56.6199 572.855 57.8613 571.677 Q59.1026 570.467 59.1026 566.807 L59.1026 560.792 L64.0042 560.792 L64.0042 566.807 Q64.0042 573.587 61.4897 576.165 Q58.9434 578.743 52.2594 578.743 L32.9077 578.743 L32.9077 583.04 L28.3562 583.04 L28.3562 578.743 L18.2347 578.743 L18.2347 572.855 Z\" fill=\"#000000\" fill-rule=\"nonzero\" fill-opacity=\"1\" /><path clip-path=\"url(#clip980)\" d=\"M42.4881 523.457 L64.0042 523.457 L64.0042 529.313 L42.679 529.313 Q37.6183 529.313 35.1038 531.287 Q32.5894 533.26 32.5894 537.207 Q32.5894 541.949 35.6131 544.686 Q38.6368 547.424 43.8567 547.424 L64.0042 547.424 L64.0042 553.312 L14.479 553.312 L14.479 547.424 L33.8944 547.424 Q30.6797 545.323 29.0883 542.49 Q27.4968 539.626 27.4968 535.902 Q27.4968 529.759 31.3163 526.608 Q35.1038 523.457 42.4881 523.457 Z\" fill=\"#000000\" fill-rule=\"nonzero\" fill-opacity=\"1\" /><path clip-path=\"url(#clip980)\" d=\"M14.5426 476.987 Q21.8632 481.252 29.0246 483.321 Q36.186 485.39 43.5384 485.39 Q50.8908 485.39 58.1159 483.321 Q65.3091 481.22 72.5979 476.987 L72.5979 482.08 Q65.1182 486.854 57.8931 489.241 Q50.668 491.596 43.5384 491.596 Q36.4406 491.596 29.2474 489.241 Q22.0542 486.886 14.5426 482.08 L14.5426 476.987 Z\" fill=\"#000000\" fill-rule=\"nonzero\" fill-opacity=\"1\" /><path clip-path=\"url(#clip980)\" d=\"M58.5933 463.683 L58.5933 453.179 L22.3406 453.179 L24.6323 464.606 L18.7758 464.606 L16.4842 453.243 L16.4842 446.814 L58.5933 446.814 L58.5933 436.31 L64.0042 436.31 L64.0042 463.683 L58.5933 463.683 Z\" fill=\"#000000\" fill-rule=\"nonzero\" fill-opacity=\"1\" /><path clip-path=\"url(#clip980)\" d=\"M16.4842 413.744 L16.4842 408.333 L70.0516 424.884 L70.0516 430.295 L16.4842 413.744 Z\" fill=\"#000000\" fill-rule=\"nonzero\" fill-opacity=\"1\" /><path clip-path=\"url(#clip980)\" d=\"M67.3143 387.358 Q73.68 389.841 75.6216 392.196 Q77.5631 394.551 77.5631 398.498 L77.5631 403.177 L72.6615 403.177 L72.6615 399.739 Q72.6615 397.32 71.5157 395.983 Q70.3699 394.647 66.1048 393.023 L63.4312 391.973 L28.3562 406.391 L28.3562 400.185 L56.238 389.045 L28.3562 377.905 L28.3562 371.698 L67.3143 387.358 Z\" fill=\"#000000\" fill-rule=\"nonzero\" fill-opacity=\"1\" /><path clip-path=\"url(#clip980)\" d=\"M33.8307 342.957 Q33.2578 343.944 33.0032 345.121 Q32.7167 346.267 32.7167 347.668 Q32.7167 352.633 35.9632 355.307 Q39.1779 357.948 45.2253 357.948 L64.0042 357.948 L64.0042 363.837 L28.3562 363.837 L28.3562 357.948 L33.8944 357.948 Q30.6479 356.102 29.0883 353.142 Q27.4968 350.182 27.4968 345.949 Q27.4968 345.344 27.5923 344.612 Q27.656 343.88 27.8151 342.989 L33.8307 342.957 Z\" fill=\"#000000\" fill-rule=\"nonzero\" fill-opacity=\"1\" /><path clip-path=\"url(#clip980)\" d=\"M14.5426 337.737 L14.5426 332.645 Q22.0542 327.87 29.2474 325.515 Q36.4406 323.128 43.5384 323.128 Q50.668 323.128 57.8931 325.515 Q65.1182 327.87 72.5979 332.645 L72.5979 337.737 Q65.3091 333.504 58.1159 331.435 Q50.8908 329.335 43.5384 329.335 Q36.186 329.335 29.0246 331.435 Q21.8632 333.504 14.5426 337.737 Z\" fill=\"#000000\" fill-rule=\"nonzero\" fill-opacity=\"1\" /><polyline clip-path=\"url(#clip982)\" style=\"stroke:#333333; stroke-linecap:round; stroke-linejoin:round; stroke-width:16; stroke-opacity:1; fill:none\" points=\"913.189,1191.9 913.189,1191.9 913.189,1191.9 913.189,1191.9 913.189,1191.9 913.189,1191.9 913.189,1191.9 913.189,1191.9 913.189,1191.9 913.189,1191.9 913.189,1191.9 913.189,1191.9 913.189,1191.9 913.189,1191.9 913.189,1191.9 913.189,1191.9 913.189,1191.9 913.189,1191.9 913.189,1191.9 913.189,1191.9 913.189,1191.9 913.189,1191.9 913.189,1191.9 913.189,1191.9 913.189,1191.88 913.281,1184.47 913.67,1174.92 914.332,1165.37 915.204,1155.82 916.283,1146.27 917.575,1136.73 919.082,1127.18 920.798,1117.63 922.721,1108.08 924.866,1098.53 927.272,1088.98 929.953,1079.43 932.96,1069.89 936.291,1060.34 939.941,1050.79 943.905,1041.24 948.179,1031.69 952.756,1022.14 957.641,1012.6 962.836,1003.05 968.333,993.498 974.128,983.95 980.213,974.401 986.58,964.853 993.232,955.304 1000.18,945.756 1007.42,936.207 1014.94,926.659 1022.73,917.11 1030.8,907.562 1039.12,898.013 1047.69,888.465 1056.5,878.917 1065.55,869.368 1074.83,859.82 1084.32,850.271 1094.03,840.723 1103.95,831.174 1114.07,821.626 1124.38,812.077 1134.87,802.529 1145.55,792.98 1156.4,783.432 1167.41,773.883 1178.59,764.335 1189.93,754.786 1201.41,745.238 1213.05,735.689 1224.82,726.141 1236.73,716.592 1248.77,707.044 1260.93,697.495 1273.22,687.947 1285.63,678.399 1298.15,668.85 1310.78,659.302 1323.51,649.753 1336.35,640.205 1349.29,630.656 1362.32,621.108 1375.45,611.559 1388.67,602.011 1401.97,592.462 1415.35,582.914 1428.82,573.365 1442.36,563.817 1455.98,554.268 1469.72,544.72 1483.73,535.171 1498.01,525.623 1512.56,516.074 1527.37,506.526 1542.42,496.977 1557.71,487.429 1573.23,477.88 1588.98,468.332 1604.94,458.784 1621.11,449.235 1637.48,439.687 1654.05,430.138 1670.8,420.59 1687.73,411.041 1704.84,401.493 1722.12,391.944 1739.56,382.396 1757.16,372.847 1774.91,363.299 1792.81,353.75 1810.85,344.202 1829.03,334.653 1847.34,325.105 1865.78,315.556 1884.34,306.008 1903.03,296.459 1921.83,286.911 1940.74,277.362 1959.76,267.814 1978.88,258.265 1998.11,248.717 2017.44,239.169 2036.86,229.62 2056.38,220.072 2076.01,210.523 2095.76,200.975 2115.6,191.426 2135.56,181.878 2158.86,172.329 \"/>\n",
       "<circle clip-path=\"url(#clip982)\" cx=\"913.189\" cy=\"1191.9\" r=\"14.4\" fill=\"#ffffff\" fill-rule=\"evenodd\" fill-opacity=\"1\" stroke=\"#b0b0b0\" stroke-opacity=\"1\" stroke-width=\"3.2\"/>\n",
       "<circle clip-path=\"url(#clip982)\" cx=\"913.189\" cy=\"1191.9\" r=\"14.4\" fill=\"#ffffff\" fill-rule=\"evenodd\" fill-opacity=\"1\" stroke=\"#b0b0b0\" stroke-opacity=\"1\" stroke-width=\"3.2\"/>\n",
       "<circle clip-path=\"url(#clip982)\" cx=\"913.189\" cy=\"1191.9\" r=\"14.4\" fill=\"#ffffff\" fill-rule=\"evenodd\" fill-opacity=\"1\" stroke=\"#b0b0b0\" stroke-opacity=\"1\" stroke-width=\"3.2\"/>\n",
       "<circle clip-path=\"url(#clip982)\" cx=\"913.189\" cy=\"1191.9\" r=\"14.4\" fill=\"#ffffff\" fill-rule=\"evenodd\" fill-opacity=\"1\" stroke=\"#b0b0b0\" stroke-opacity=\"1\" stroke-width=\"3.2\"/>\n",
       "<circle clip-path=\"url(#clip982)\" cx=\"913.189\" cy=\"1191.9\" r=\"14.4\" fill=\"#ffffff\" fill-rule=\"evenodd\" fill-opacity=\"1\" stroke=\"#b0b0b0\" stroke-opacity=\"1\" stroke-width=\"3.2\"/>\n",
       "<circle clip-path=\"url(#clip982)\" cx=\"913.189\" cy=\"1191.9\" r=\"14.4\" fill=\"#ffffff\" fill-rule=\"evenodd\" fill-opacity=\"1\" stroke=\"#b0b0b0\" stroke-opacity=\"1\" stroke-width=\"3.2\"/>\n",
       "<circle clip-path=\"url(#clip982)\" cx=\"913.189\" cy=\"1191.9\" r=\"14.4\" fill=\"#ffffff\" fill-rule=\"evenodd\" fill-opacity=\"1\" stroke=\"#b0b0b0\" stroke-opacity=\"1\" stroke-width=\"3.2\"/>\n",
       "<circle clip-path=\"url(#clip982)\" cx=\"913.189\" cy=\"1191.9\" r=\"14.4\" fill=\"#ffffff\" fill-rule=\"evenodd\" fill-opacity=\"1\" stroke=\"#b0b0b0\" stroke-opacity=\"1\" stroke-width=\"3.2\"/>\n",
       "<circle clip-path=\"url(#clip982)\" cx=\"913.189\" cy=\"1191.88\" r=\"14.4\" fill=\"#ffffff\" fill-rule=\"evenodd\" fill-opacity=\"1\" stroke=\"#b0b0b0\" stroke-opacity=\"1\" stroke-width=\"3.2\"/>\n",
       "<circle clip-path=\"url(#clip982)\" cx=\"914.332\" cy=\"1165.37\" r=\"14.4\" fill=\"#ffffff\" fill-rule=\"evenodd\" fill-opacity=\"1\" stroke=\"#b0b0b0\" stroke-opacity=\"1\" stroke-width=\"3.2\"/>\n",
       "<circle clip-path=\"url(#clip982)\" cx=\"917.575\" cy=\"1136.73\" r=\"14.4\" fill=\"#ffffff\" fill-rule=\"evenodd\" fill-opacity=\"1\" stroke=\"#b0b0b0\" stroke-opacity=\"1\" stroke-width=\"3.2\"/>\n",
       "<circle clip-path=\"url(#clip982)\" cx=\"922.721\" cy=\"1108.08\" r=\"14.4\" fill=\"#ffffff\" fill-rule=\"evenodd\" fill-opacity=\"1\" stroke=\"#b0b0b0\" stroke-opacity=\"1\" stroke-width=\"3.2\"/>\n",
       "<circle clip-path=\"url(#clip982)\" cx=\"929.953\" cy=\"1079.43\" r=\"14.4\" fill=\"#ffffff\" fill-rule=\"evenodd\" fill-opacity=\"1\" stroke=\"#b0b0b0\" stroke-opacity=\"1\" stroke-width=\"3.2\"/>\n",
       "<circle clip-path=\"url(#clip982)\" cx=\"939.941\" cy=\"1050.79\" r=\"14.4\" fill=\"#ffffff\" fill-rule=\"evenodd\" fill-opacity=\"1\" stroke=\"#b0b0b0\" stroke-opacity=\"1\" stroke-width=\"3.2\"/>\n",
       "<circle clip-path=\"url(#clip982)\" cx=\"952.756\" cy=\"1022.14\" r=\"14.4\" fill=\"#ffffff\" fill-rule=\"evenodd\" fill-opacity=\"1\" stroke=\"#b0b0b0\" stroke-opacity=\"1\" stroke-width=\"3.2\"/>\n",
       "<circle clip-path=\"url(#clip982)\" cx=\"968.333\" cy=\"993.498\" r=\"14.4\" fill=\"#ffffff\" fill-rule=\"evenodd\" fill-opacity=\"1\" stroke=\"#b0b0b0\" stroke-opacity=\"1\" stroke-width=\"3.2\"/>\n",
       "<circle clip-path=\"url(#clip982)\" cx=\"986.58\" cy=\"964.853\" r=\"14.4\" fill=\"#ffffff\" fill-rule=\"evenodd\" fill-opacity=\"1\" stroke=\"#b0b0b0\" stroke-opacity=\"1\" stroke-width=\"3.2\"/>\n",
       "<circle clip-path=\"url(#clip982)\" cx=\"1007.42\" cy=\"936.207\" r=\"14.4\" fill=\"#ffffff\" fill-rule=\"evenodd\" fill-opacity=\"1\" stroke=\"#b0b0b0\" stroke-opacity=\"1\" stroke-width=\"3.2\"/>\n",
       "<circle clip-path=\"url(#clip982)\" cx=\"1030.8\" cy=\"907.562\" r=\"14.4\" fill=\"#ffffff\" fill-rule=\"evenodd\" fill-opacity=\"1\" stroke=\"#b0b0b0\" stroke-opacity=\"1\" stroke-width=\"3.2\"/>\n",
       "<circle clip-path=\"url(#clip982)\" cx=\"1056.5\" cy=\"878.917\" r=\"14.4\" fill=\"#ffffff\" fill-rule=\"evenodd\" fill-opacity=\"1\" stroke=\"#b0b0b0\" stroke-opacity=\"1\" stroke-width=\"3.2\"/>\n",
       "<circle clip-path=\"url(#clip982)\" cx=\"1084.32\" cy=\"850.271\" r=\"14.4\" fill=\"#ffffff\" fill-rule=\"evenodd\" fill-opacity=\"1\" stroke=\"#b0b0b0\" stroke-opacity=\"1\" stroke-width=\"3.2\"/>\n",
       "<circle clip-path=\"url(#clip982)\" cx=\"1114.07\" cy=\"821.626\" r=\"14.4\" fill=\"#ffffff\" fill-rule=\"evenodd\" fill-opacity=\"1\" stroke=\"#b0b0b0\" stroke-opacity=\"1\" stroke-width=\"3.2\"/>\n",
       "<circle clip-path=\"url(#clip982)\" cx=\"1145.55\" cy=\"792.98\" r=\"14.4\" fill=\"#ffffff\" fill-rule=\"evenodd\" fill-opacity=\"1\" stroke=\"#b0b0b0\" stroke-opacity=\"1\" stroke-width=\"3.2\"/>\n",
       "<circle clip-path=\"url(#clip982)\" cx=\"1178.59\" cy=\"764.335\" r=\"14.4\" fill=\"#ffffff\" fill-rule=\"evenodd\" fill-opacity=\"1\" stroke=\"#b0b0b0\" stroke-opacity=\"1\" stroke-width=\"3.2\"/>\n",
       "<circle clip-path=\"url(#clip982)\" cx=\"1213.05\" cy=\"735.689\" r=\"14.4\" fill=\"#ffffff\" fill-rule=\"evenodd\" fill-opacity=\"1\" stroke=\"#b0b0b0\" stroke-opacity=\"1\" stroke-width=\"3.2\"/>\n",
       "<circle clip-path=\"url(#clip982)\" cx=\"1248.77\" cy=\"707.044\" r=\"14.4\" fill=\"#ffffff\" fill-rule=\"evenodd\" fill-opacity=\"1\" stroke=\"#b0b0b0\" stroke-opacity=\"1\" stroke-width=\"3.2\"/>\n",
       "<circle clip-path=\"url(#clip982)\" cx=\"1285.63\" cy=\"678.399\" r=\"14.4\" fill=\"#ffffff\" fill-rule=\"evenodd\" fill-opacity=\"1\" stroke=\"#b0b0b0\" stroke-opacity=\"1\" stroke-width=\"3.2\"/>\n",
       "<circle clip-path=\"url(#clip982)\" cx=\"1323.51\" cy=\"649.753\" r=\"14.4\" fill=\"#ffffff\" fill-rule=\"evenodd\" fill-opacity=\"1\" stroke=\"#b0b0b0\" stroke-opacity=\"1\" stroke-width=\"3.2\"/>\n",
       "<circle clip-path=\"url(#clip982)\" cx=\"1362.32\" cy=\"621.108\" r=\"14.4\" fill=\"#ffffff\" fill-rule=\"evenodd\" fill-opacity=\"1\" stroke=\"#b0b0b0\" stroke-opacity=\"1\" stroke-width=\"3.2\"/>\n",
       "<circle clip-path=\"url(#clip982)\" cx=\"1401.97\" cy=\"592.462\" r=\"14.4\" fill=\"#ffffff\" fill-rule=\"evenodd\" fill-opacity=\"1\" stroke=\"#b0b0b0\" stroke-opacity=\"1\" stroke-width=\"3.2\"/>\n",
       "<circle clip-path=\"url(#clip982)\" cx=\"1442.36\" cy=\"563.817\" r=\"14.4\" fill=\"#ffffff\" fill-rule=\"evenodd\" fill-opacity=\"1\" stroke=\"#b0b0b0\" stroke-opacity=\"1\" stroke-width=\"3.2\"/>\n",
       "<circle clip-path=\"url(#clip982)\" cx=\"1483.73\" cy=\"535.171\" r=\"14.4\" fill=\"#ffffff\" fill-rule=\"evenodd\" fill-opacity=\"1\" stroke=\"#b0b0b0\" stroke-opacity=\"1\" stroke-width=\"3.2\"/>\n",
       "<circle clip-path=\"url(#clip982)\" cx=\"1527.37\" cy=\"506.526\" r=\"14.4\" fill=\"#ffffff\" fill-rule=\"evenodd\" fill-opacity=\"1\" stroke=\"#b0b0b0\" stroke-opacity=\"1\" stroke-width=\"3.2\"/>\n",
       "<circle clip-path=\"url(#clip982)\" cx=\"1573.23\" cy=\"477.88\" r=\"14.4\" fill=\"#ffffff\" fill-rule=\"evenodd\" fill-opacity=\"1\" stroke=\"#b0b0b0\" stroke-opacity=\"1\" stroke-width=\"3.2\"/>\n",
       "<circle clip-path=\"url(#clip982)\" cx=\"1621.11\" cy=\"449.235\" r=\"14.4\" fill=\"#ffffff\" fill-rule=\"evenodd\" fill-opacity=\"1\" stroke=\"#b0b0b0\" stroke-opacity=\"1\" stroke-width=\"3.2\"/>\n",
       "<circle clip-path=\"url(#clip982)\" cx=\"1670.8\" cy=\"420.59\" r=\"14.4\" fill=\"#ffffff\" fill-rule=\"evenodd\" fill-opacity=\"1\" stroke=\"#b0b0b0\" stroke-opacity=\"1\" stroke-width=\"3.2\"/>\n",
       "<circle clip-path=\"url(#clip982)\" cx=\"1722.12\" cy=\"391.944\" r=\"14.4\" fill=\"#ffffff\" fill-rule=\"evenodd\" fill-opacity=\"1\" stroke=\"#b0b0b0\" stroke-opacity=\"1\" stroke-width=\"3.2\"/>\n",
       "<circle clip-path=\"url(#clip982)\" cx=\"1774.91\" cy=\"363.299\" r=\"14.4\" fill=\"#ffffff\" fill-rule=\"evenodd\" fill-opacity=\"1\" stroke=\"#b0b0b0\" stroke-opacity=\"1\" stroke-width=\"3.2\"/>\n",
       "<circle clip-path=\"url(#clip982)\" cx=\"1829.03\" cy=\"334.653\" r=\"14.4\" fill=\"#ffffff\" fill-rule=\"evenodd\" fill-opacity=\"1\" stroke=\"#b0b0b0\" stroke-opacity=\"1\" stroke-width=\"3.2\"/>\n",
       "<circle clip-path=\"url(#clip982)\" cx=\"1884.34\" cy=\"306.008\" r=\"14.4\" fill=\"#ffffff\" fill-rule=\"evenodd\" fill-opacity=\"1\" stroke=\"#b0b0b0\" stroke-opacity=\"1\" stroke-width=\"3.2\"/>\n",
       "<circle clip-path=\"url(#clip982)\" cx=\"1940.74\" cy=\"277.362\" r=\"14.4\" fill=\"#ffffff\" fill-rule=\"evenodd\" fill-opacity=\"1\" stroke=\"#b0b0b0\" stroke-opacity=\"1\" stroke-width=\"3.2\"/>\n",
       "<circle clip-path=\"url(#clip982)\" cx=\"1998.11\" cy=\"248.717\" r=\"14.4\" fill=\"#ffffff\" fill-rule=\"evenodd\" fill-opacity=\"1\" stroke=\"#b0b0b0\" stroke-opacity=\"1\" stroke-width=\"3.2\"/>\n",
       "<circle clip-path=\"url(#clip982)\" cx=\"2056.38\" cy=\"220.072\" r=\"14.4\" fill=\"#ffffff\" fill-rule=\"evenodd\" fill-opacity=\"1\" stroke=\"#b0b0b0\" stroke-opacity=\"1\" stroke-width=\"3.2\"/>\n",
       "<circle clip-path=\"url(#clip982)\" cx=\"2115.6\" cy=\"191.426\" r=\"14.4\" fill=\"#ffffff\" fill-rule=\"evenodd\" fill-opacity=\"1\" stroke=\"#b0b0b0\" stroke-opacity=\"1\" stroke-width=\"3.2\"/>\n",
       "<path clip-path=\"url(#clip980)\" d=\"M290.963 196.789 L937.86 196.789 L937.86 93.1086 L290.963 93.1086  Z\" fill=\"#f2f2f2\" fill-rule=\"evenodd\" fill-opacity=\"1\"/>\n",
       "<polyline clip-path=\"url(#clip980)\" style=\"stroke:#000000; stroke-linecap:round; stroke-linejoin:round; stroke-width:4; stroke-opacity:0; fill:none\" points=\"290.963,196.789 937.86,196.789 937.86,93.1086 290.963,93.1086 290.963,196.789 \"/>\n",
       "<circle clip-path=\"url(#clip980)\" cx=\"385.758\" cy=\"144.949\" r=\"20.48\" fill=\"#ffffff\" fill-rule=\"evenodd\" fill-opacity=\"1\" stroke=\"#b0b0b0\" stroke-opacity=\"1\" stroke-width=\"4.55111\"/>\n",
       "<path clip-path=\"url(#clip980)\" d=\"M480.553 127.669 L502.405 127.669 L502.405 131.604 L485.229 131.604 L485.229 141.835 L501.687 141.835 L501.687 145.77 L485.229 145.77 L485.229 158.293 L502.821 158.293 L502.821 162.229 L480.553 162.229 L480.553 127.669 Z\" fill=\"#000000\" fill-rule=\"nonzero\" fill-opacity=\"1\" /><path clip-path=\"url(#clip980)\" d=\"M526.849 137.067 L526.849 141.094 Q525.043 140.169 523.099 139.706 Q521.154 139.243 519.071 139.243 Q515.9 139.243 514.303 140.215 Q512.729 141.187 512.729 143.131 Q512.729 144.613 513.863 145.469 Q514.997 146.303 518.423 147.067 L519.881 147.391 Q524.418 148.363 526.316 150.145 Q528.238 151.905 528.238 155.076 Q528.238 158.687 525.367 160.793 Q522.52 162.9 517.52 162.9 Q515.437 162.9 513.168 162.483 Q510.923 162.09 508.423 161.28 L508.423 156.881 Q510.784 158.108 513.076 158.733 Q515.367 159.335 517.613 159.335 Q520.622 159.335 522.242 158.317 Q523.863 157.275 523.863 155.4 Q523.863 153.664 522.682 152.738 Q521.525 151.812 517.566 150.956 L516.085 150.608 Q512.127 149.775 510.367 148.062 Q508.608 146.326 508.608 143.317 Q508.608 139.659 511.201 137.669 Q513.793 135.678 518.562 135.678 Q520.923 135.678 523.006 136.025 Q525.09 136.372 526.849 137.067 Z\" fill=\"#000000\" fill-rule=\"nonzero\" fill-opacity=\"1\" /><path clip-path=\"url(#clip980)\" d=\"M539.233 128.942 L539.233 136.303 L548.006 136.303 L548.006 139.613 L539.233 139.613 L539.233 153.687 Q539.233 156.858 540.089 157.761 Q540.969 158.664 543.631 158.664 L548.006 158.664 L548.006 162.229 L543.631 162.229 Q538.701 162.229 536.826 160.4 Q534.951 158.548 534.951 153.687 L534.951 139.613 L531.826 139.613 L531.826 136.303 L534.951 136.303 L534.951 128.942 L539.233 128.942 Z\" fill=\"#000000\" fill-rule=\"nonzero\" fill-opacity=\"1\" /><path clip-path=\"url(#clip980)\" d=\"M553.608 136.303 L557.867 136.303 L557.867 162.229 L553.608 162.229 L553.608 136.303 M553.608 126.21 L557.867 126.21 L557.867 131.604 L553.608 131.604 L553.608 126.21 Z\" fill=\"#000000\" fill-rule=\"nonzero\" fill-opacity=\"1\" /><path clip-path=\"url(#clip980)\" d=\"M586.964 141.28 Q588.561 138.409 590.784 137.044 Q593.006 135.678 596.015 135.678 Q600.066 135.678 602.265 138.525 Q604.464 141.349 604.464 146.581 L604.464 162.229 L600.182 162.229 L600.182 146.719 Q600.182 142.993 598.862 141.187 Q597.543 139.382 594.835 139.382 Q591.524 139.382 589.603 141.581 Q587.682 143.78 587.682 147.576 L587.682 162.229 L583.399 162.229 L583.399 146.719 Q583.399 142.969 582.08 141.187 Q580.761 139.382 578.006 139.382 Q574.742 139.382 572.821 141.604 Q570.9 143.803 570.9 147.576 L570.9 162.229 L566.617 162.229 L566.617 136.303 L570.9 136.303 L570.9 140.331 Q572.358 137.946 574.395 136.812 Q576.432 135.678 579.233 135.678 Q582.057 135.678 584.024 137.113 Q586.015 138.548 586.964 141.28 Z\" fill=\"#000000\" fill-rule=\"nonzero\" fill-opacity=\"1\" /><path clip-path=\"url(#clip980)\" d=\"M624.742 149.196 Q619.58 149.196 617.589 150.377 Q615.598 151.557 615.598 154.405 Q615.598 156.673 617.08 158.016 Q618.584 159.335 621.154 159.335 Q624.696 159.335 626.825 156.835 Q628.978 154.312 628.978 150.145 L628.978 149.196 L624.742 149.196 M633.237 147.437 L633.237 162.229 L628.978 162.229 L628.978 158.293 Q627.52 160.655 625.344 161.789 Q623.168 162.9 620.02 162.9 Q616.038 162.9 613.677 160.678 Q611.339 158.432 611.339 154.682 Q611.339 150.307 614.256 148.085 Q617.196 145.863 623.006 145.863 L628.978 145.863 L628.978 145.446 Q628.978 142.507 627.033 140.909 Q625.112 139.289 621.617 139.289 Q619.395 139.289 617.288 139.821 Q615.182 140.354 613.237 141.419 L613.237 137.483 Q615.575 136.581 617.774 136.141 Q619.973 135.678 622.057 135.678 Q627.682 135.678 630.459 138.594 Q633.237 141.511 633.237 147.437 Z\" fill=\"#000000\" fill-rule=\"nonzero\" fill-opacity=\"1\" /><path clip-path=\"url(#clip980)\" d=\"M646.223 128.942 L646.223 136.303 L654.996 136.303 L654.996 139.613 L646.223 139.613 L646.223 153.687 Q646.223 156.858 647.08 157.761 Q647.959 158.664 650.621 158.664 L654.996 158.664 L654.996 162.229 L650.621 162.229 Q645.691 162.229 643.816 160.4 Q641.941 158.548 641.941 153.687 L641.941 139.613 L638.816 139.613 L638.816 136.303 L641.941 136.303 L641.941 128.942 L646.223 128.942 Z\" fill=\"#000000\" fill-rule=\"nonzero\" fill-opacity=\"1\" /><path clip-path=\"url(#clip980)\" d=\"M682.774 148.201 L682.774 150.284 L663.191 150.284 Q663.468 154.682 665.83 156.997 Q668.214 159.289 672.45 159.289 Q674.904 159.289 677.195 158.687 Q679.51 158.085 681.779 156.881 L681.779 160.909 Q679.487 161.881 677.08 162.391 Q674.672 162.9 672.195 162.9 Q665.992 162.9 662.357 159.289 Q658.746 155.678 658.746 149.52 Q658.746 143.155 662.172 139.428 Q665.621 135.678 671.455 135.678 Q676.686 135.678 679.718 139.057 Q682.774 142.414 682.774 148.201 M678.515 146.951 Q678.468 143.456 676.547 141.372 Q674.649 139.289 671.501 139.289 Q667.936 139.289 665.783 141.303 Q663.654 143.317 663.33 146.974 L678.515 146.951 Z\" fill=\"#000000\" fill-rule=\"nonzero\" fill-opacity=\"1\" /><path clip-path=\"url(#clip980)\" d=\"M706.825 140.238 L706.825 126.21 L711.084 126.21 L711.084 162.229 L706.825 162.229 L706.825 158.34 Q705.482 160.655 703.422 161.789 Q701.385 162.9 698.515 162.9 Q693.816 162.9 690.853 159.15 Q687.913 155.4 687.913 149.289 Q687.913 143.178 690.853 139.428 Q693.816 135.678 698.515 135.678 Q701.385 135.678 703.422 136.812 Q705.482 137.923 706.825 140.238 M692.311 149.289 Q692.311 153.988 694.232 156.673 Q696.177 159.335 699.556 159.335 Q702.936 159.335 704.88 156.673 Q706.825 153.988 706.825 149.289 Q706.825 144.59 704.88 141.928 Q702.936 139.243 699.556 139.243 Q696.177 139.243 694.232 141.928 Q692.311 144.59 692.311 149.289 Z\" fill=\"#000000\" fill-rule=\"nonzero\" fill-opacity=\"1\" /><path clip-path=\"url(#clip980)\" d=\"M751.454 137.067 L751.454 141.094 Q749.649 140.169 747.704 139.706 Q745.76 139.243 743.676 139.243 Q740.505 139.243 738.908 140.215 Q737.334 141.187 737.334 143.131 Q737.334 144.613 738.468 145.469 Q739.602 146.303 743.028 147.067 L744.487 147.391 Q749.024 148.363 750.922 150.145 Q752.843 151.905 752.843 155.076 Q752.843 158.687 749.973 160.793 Q747.125 162.9 742.125 162.9 Q740.042 162.9 737.774 162.483 Q735.528 162.09 733.028 161.28 L733.028 156.881 Q735.389 158.108 737.681 158.733 Q739.973 159.335 742.218 159.335 Q745.227 159.335 746.848 158.317 Q748.468 157.275 748.468 155.4 Q748.468 153.664 747.287 152.738 Q746.13 151.812 742.172 150.956 L740.69 150.608 Q736.732 149.775 734.973 148.062 Q733.213 146.326 733.213 143.317 Q733.213 139.659 735.806 137.669 Q738.399 135.678 743.167 135.678 Q745.528 135.678 747.612 136.025 Q749.695 136.372 751.454 137.067 Z\" fill=\"#000000\" fill-rule=\"nonzero\" fill-opacity=\"1\" /><path clip-path=\"url(#clip980)\" d=\"M769.672 139.289 Q766.246 139.289 764.255 141.974 Q762.264 144.636 762.264 149.289 Q762.264 153.942 764.232 156.627 Q766.223 159.289 769.672 159.289 Q773.074 159.289 775.065 156.604 Q777.056 153.918 777.056 149.289 Q777.056 144.682 775.065 141.997 Q773.074 139.289 769.672 139.289 M769.672 135.678 Q775.227 135.678 778.398 139.289 Q781.57 142.9 781.57 149.289 Q781.57 155.655 778.398 159.289 Q775.227 162.9 769.672 162.9 Q764.093 162.9 760.922 159.289 Q757.774 155.655 757.774 149.289 Q757.774 142.9 760.922 139.289 Q764.093 135.678 769.672 135.678 Z\" fill=\"#000000\" fill-rule=\"nonzero\" fill-opacity=\"1\" /><path clip-path=\"url(#clip980)\" d=\"M788.63 126.21 L792.889 126.21 L792.889 162.229 L788.63 162.229 L788.63 126.21 Z\" fill=\"#000000\" fill-rule=\"nonzero\" fill-opacity=\"1\" /><path clip-path=\"url(#clip980)\" d=\"M801.361 151.997 L801.361 136.303 L805.62 136.303 L805.62 151.835 Q805.62 155.516 807.056 157.368 Q808.491 159.196 811.361 159.196 Q814.81 159.196 816.801 156.997 Q818.815 154.798 818.815 151.002 L818.815 136.303 L823.074 136.303 L823.074 162.229 L818.815 162.229 L818.815 158.247 Q817.264 160.608 815.204 161.766 Q813.167 162.9 810.458 162.9 Q805.991 162.9 803.676 160.122 Q801.361 157.344 801.361 151.997 M812.079 135.678 L812.079 135.678 Z\" fill=\"#000000\" fill-rule=\"nonzero\" fill-opacity=\"1\" /><path clip-path=\"url(#clip980)\" d=\"M836.06 128.942 L836.06 136.303 L844.833 136.303 L844.833 139.613 L836.06 139.613 L836.06 153.687 Q836.06 156.858 836.917 157.761 Q837.796 158.664 840.458 158.664 L844.833 158.664 L844.833 162.229 L840.458 162.229 Q835.528 162.229 833.653 160.4 Q831.778 158.548 831.778 153.687 L831.778 139.613 L828.653 139.613 L828.653 136.303 L831.778 136.303 L831.778 128.942 L836.06 128.942 Z\" fill=\"#000000\" fill-rule=\"nonzero\" fill-opacity=\"1\" /><path clip-path=\"url(#clip980)\" d=\"M850.435 136.303 L854.694 136.303 L854.694 162.229 L850.435 162.229 L850.435 136.303 M850.435 126.21 L854.694 126.21 L854.694 131.604 L850.435 131.604 L850.435 126.21 Z\" fill=\"#000000\" fill-rule=\"nonzero\" fill-opacity=\"1\" /><path clip-path=\"url(#clip980)\" d=\"M873.653 139.289 Q870.227 139.289 868.236 141.974 Q866.245 144.636 866.245 149.289 Q866.245 153.942 868.213 156.627 Q870.203 159.289 873.653 159.289 Q877.055 159.289 879.046 156.604 Q881.037 153.918 881.037 149.289 Q881.037 144.682 879.046 141.997 Q877.055 139.289 873.653 139.289 M873.653 135.678 Q879.208 135.678 882.379 139.289 Q885.551 142.9 885.551 149.289 Q885.551 155.655 882.379 159.289 Q879.208 162.9 873.653 162.9 Q868.074 162.9 864.903 159.289 Q861.754 155.655 861.754 149.289 Q861.754 142.9 864.903 139.289 Q868.074 135.678 873.653 135.678 Z\" fill=\"#000000\" fill-rule=\"nonzero\" fill-opacity=\"1\" /><path clip-path=\"url(#clip980)\" d=\"M914.162 146.581 L914.162 162.229 L909.902 162.229 L909.902 146.719 Q909.902 143.039 908.467 141.21 Q907.032 139.382 904.162 139.382 Q900.713 139.382 898.722 141.581 Q896.731 143.78 896.731 147.576 L896.731 162.229 L892.449 162.229 L892.449 136.303 L896.731 136.303 L896.731 140.331 Q898.259 137.993 900.319 136.835 Q902.402 135.678 905.111 135.678 Q909.578 135.678 911.87 138.456 Q914.162 141.21 914.162 146.581 Z\" fill=\"#000000\" fill-rule=\"nonzero\" fill-opacity=\"1\" /></svg>\n"
      ],
      "text/html": [
       "<img src=\"data:image/png;base64,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\" />"
      ]
     },
     "execution_count": 39,
     "metadata": {},
     "output_type": "execute_result"
    }
   ],
   "source": [
    "let\n",
    "\n",
    "    # initialize -\n",
    "    max_risk_value = results_array[end,1]; # what is the biggest risk we have (x-axis value)\n",
    "    max_reward_value = results_array[end,2]; # what is the biggest reward that we have (y-axis value)\n",
    "    number_of_portfolios = length(efficient_frontier); # how many portfolios did we recover?\n",
    "    skip = 3;\n",
    "\n",
    "    plot(results_array[:,1], results_array[:,2], lw=4, xlabel=\"Risk sqrt(variance)\", \n",
    "        ylabel=\"Portfolio log growth (1/yr)\", fontsize=18, label=\"\", c=:gray20, \n",
    "        xlim=(0.0, 1.1*max_risk_value), ylim = (0.0, 1.1*max_reward_value))\n",
    "    scatter!(results_array[1:skip:number_of_portfolios,1], results_array[1:skip:number_of_portfolios,2], \n",
    "        label=\"Estimated solution\", c=:white, ms=4, msc=:gray69)\n",
    "\n",
    "    plot!(bg=\"gray95\", background_color_outside=\"white\", framestyle = :box, fg_legend = :transparent);\n",
    "end"
   ]
  },
  {
   "cell_type": "markdown",
   "id": "98a38014-e78e-4d85-b1ac-0af77f162cd6",
   "metadata": {},
   "source": [
    "### What's in the minimum-variance portfolio?\n",
    "The efficient frontier reveals which combinations of assets provide optimal risk-return trade-offs. Let's examine a specific portfolio from our results to understand how the optimization allocates capital across different assets.\n",
    "\n",
    "We can extract the allocation values from the results_array to see which assets were selected and in what proportions."
   ]
  },
  {
   "cell_type": "code",
   "execution_count": 81,
   "id": "303bae6d",
   "metadata": {},
   "outputs": [],
   "source": [
    "index_to_view = 132; # index = 1 will give the min-var portfolio, index = max gives the high-risk high-reward portfolio"
   ]
  },
  {
   "cell_type": "markdown",
   "id": "3c3702e9-1883-4020-86e1-0be57eb2224a",
   "metadata": {},
   "source": [
    "`Unhide` the code block below to see how we build a table holding the portfolio weights for the selected portfolio:"
   ]
  },
  {
   "cell_type": "code",
   "execution_count": 83,
   "id": "12ccca3f-fe09-47c1-80fe-d0d1904e0812",
   "metadata": {
    "tags": []
   },
   "outputs": [
    {
     "name": "stdout",
     "output_type": "stream",
     "text": [
      " -------- ---------\n",
      " \u001b[1m ticker \u001b[0m \u001b[1m       w \u001b[0m\n",
      " \u001b[90m String \u001b[0m \u001b[90m Float64 \u001b[0m\n",
      " -------- ---------\n",
      "    AAPL       0.0\n",
      "    MSFT       0.0\n",
      "    INTC       0.0\n",
      "      MU       0.0\n",
      "     AMD    0.0549\n",
      "    NVDA    0.9451\n",
      "      GS       0.0\n",
      "     BAC       0.0\n",
      "     WFC       0.0\n",
      "       C       0.0\n",
      "       F       0.0\n",
      "      GM       0.0\n",
      "     JNJ       0.0\n",
      "   total       1.0\n",
      " -------- ---------\n"
     ]
    }
   ],
   "source": [
    "let\n",
    "\n",
    "    # initialize -\n",
    "    w = results_array[index_to_view, 3:end]; # 3:end gives the allocations\n",
    "    df = DataFrame();\n",
    "    \n",
    "    for i ∈ eachindex(my_list_of_tickers)\n",
    "        ticker = my_list_of_tickers[i];\n",
    "        wᵢ = w[i];\n",
    "        row_data = (\n",
    "            ticker = ticker,\n",
    "            w = round(wᵢ, digits=4) |> abs\n",
    "        );\n",
    "        push!(df,row_data)\n",
    "    end\n",
    "    \n",
    "    # compute the total -\n",
    "    total = df[:,:w] |> sum\n",
    "    last_row = (\n",
    "        ticker = \"total\",\n",
    "        w = total\n",
    "    )\n",
    "    push!(df,last_row)\n",
    "    \n",
    "\n",
    "     # build a table -\n",
    "    pretty_table(df, backend = :text,\n",
    "         table_format = TextTableFormat(borders = text_table_borders__compact))\n",
    "end"
   ]
  },
  {
   "cell_type": "markdown",
   "id": "88def7fc",
   "metadata": {},
   "source": [
    "___"
   ]
  },
  {
   "cell_type": "markdown",
   "id": "8de04ee8",
   "metadata": {},
   "source": [
    "## Summary\n",
    "In this example, we implemented a complete data-driven approach to modern portfolio theory, computing the efficient frontier for a portfolio of risky assets using historical market data.\n",
    "\n",
    "> __Key Takeaways:__\n",
    "> * **Historical data provides empirical inputs for portfolio optimization.** By computing sample means and covariance matrices from real price data, we obtain the statistical parameters needed for Markowitz optimization, though these estimates reflect past relationships that may not persist in the future.\n",
    ">\n",
    "> * **Markowitz optimization balances expected return against portfolio risk.** The minimum-variance framework systematically estimates optimal asset allocations that minimize portfolio variance for each target return level, providing a mathematical foundation for understanding risk-return trade-offs in portfolio construction.\n",
    ">\n",
    "> * **The efficient frontier reveals the limits of diversification benefits.** By plotting optimal portfolios across different return targets, we visualize the boundary of achievable risk-return combinations, showing how diversification can reduce risk without sacrificing expected return up to the frontier's limits.\n",
    "\n",
    "This framework demonstrates how quantitative methods can guide portfolio construction decisions, though real-world implementation requires careful consideration of parameter estimation uncertainty, changing market conditions, and many other factors. But it is a start!\n",
    "___"
   ]
  },
  {
   "cell_type": "markdown",
   "id": "88275cd4-1b38-4bbc-9880-b532360e6dd9",
   "metadata": {},
   "source": [
    "## Disclaimer and Risks\n",
    "\n",
    "__This content is offered solely for training and informational purposes__. No offer or solicitation to buy or sell securities or derivative products or any investment or trading advice or strategy is made, given, or endorsed by the teaching team.\n",
    "\n",
    "__Trading involves risk__. Carefully review your financial situation before investing in securities, futures contracts, options, or commodity interests. Past performance, whether actual or indicated by historical tests of strategies, is no guarantee of future performance or success. Trading is generally inappropriate for someone with limited resources, investment or trading experience, or a low-risk tolerance. Only risk capital that is not required for living expenses.\n",
    "\n",
    "__You are fully responsible for any investment or trading decisions you make__. Such decisions should be based solely on evaluating your financial circumstances, investment or trading objectives, risk tolerance, and liquidity needs."
   ]
  }
 ],
 "metadata": {
  "kernelspec": {
   "display_name": "Julia 1.11.7",
   "language": "julia",
   "name": "julia-1.11"
  },
  "language_info": {
   "file_extension": ".jl",
   "mimetype": "application/julia",
   "name": "julia",
   "version": "1.11.7"
  }
 },
 "nbformat": 4,
 "nbformat_minor": 5
}
