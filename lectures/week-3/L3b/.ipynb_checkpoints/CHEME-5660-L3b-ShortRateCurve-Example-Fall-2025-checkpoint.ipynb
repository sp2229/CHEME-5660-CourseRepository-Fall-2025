{
 "cells": [
  {
   "cell_type": "markdown",
   "id": "7cf3447b-cb29-4a8c-a241-20c0b3abbae1",
   "metadata": {},
   "source": [
    "# Example: Let's Compute the Short Rate Curve from STRIPS data"
   ]
  },
  {
   "cell_type": "code",
   "execution_count": null,
   "id": "4996c8d7-2a89-45e3-84c5-05e670c93e94",
   "metadata": {},
   "outputs": [],
   "source": []
  }
 ],
 "metadata": {
  "kernelspec": {
   "display_name": "Julia 1.11.6",
   "language": "julia",
   "name": "julia-1.11"
  },
  "language_info": {
   "file_extension": ".jl",
   "mimetype": "application/julia",
   "name": "julia",
   "version": "1.11.6"
  }
 },
 "nbformat": 4,
 "nbformat_minor": 5
}
