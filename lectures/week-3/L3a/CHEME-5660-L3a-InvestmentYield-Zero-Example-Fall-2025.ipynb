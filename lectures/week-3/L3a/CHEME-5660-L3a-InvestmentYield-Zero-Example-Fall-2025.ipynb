{
 "cells": [
  {
   "cell_type": "markdown",
   "id": "7c7a73b4-2986-462a-9ce1-3422dc1e195d",
   "metadata": {},
   "source": [
    "# Example: Yield Calculation for a Zero\n",
    "In this example, we will calculate the annualized investment yield of a zero-coupon bond given its price, face value, discount rate, and time to maturity. We'll explore how this yield relates to the discount rate used in pricing the instrument.\n",
    "\n",
    "> __Motivation:__ Understanding how to calculate yields from bond prices is fundamental to fixed-income analysis. For zero-coupon instruments, we'll explore how the annualized investment yield relates to the discount rate used in pricing and how yields change when market prices fluctuate. This helps investors understand the relationship between bond prices, yields, and returns.\n",
    "\n",
    "\n",
    "Let's get started!\n",
    "___"
   ]
  },
  {
   "cell_type": "markdown",
   "id": "4578debb",
   "metadata": {},
   "source": [
    "## Setup, Data, and Prerequisites\n",
    "We set up the computational environment by including the `Include.jl` file, loading any needed resources such as sample datasets, and setting up any required constants. \n",
    "\n",
    "> __Include:__ The [include(...) function](https://docs.julialang.org/en/v1/base/base/#include) is a convenient way to load Julia code from another file. The `Include.jl` file is a Julia file that loads external packages and various functions that we will use in this exercise. It checks for a `Manifest.toml` file; if it finds one, packages are loaded. Otherwise, packages are downloaded and then loaded.\n",
    "\n",
    "Let's set up the environment."
   ]
  },
  {
   "cell_type": "code",
   "execution_count": 3,
   "id": "1a49c647",
   "metadata": {},
   "outputs": [],
   "source": [
    "include(joinpath(@__DIR__, \"Include.jl\")); # this sets up the environment, we'll do this all the time, on everything we do"
   ]
  },
  {
   "cell_type": "markdown",
   "id": "bc999d8d",
   "metadata": {},
   "source": [
    "For additional information on functions and types used in this material, see the [Julia programming language documentation](https://docs.julialang.org/en/v1/) and the [VLQuantitativeFinancePackage.jl documentation](https://github.com/varnerlab/VLQuantitativeFinancePackage.jl). "
   ]
  },
  {
   "cell_type": "markdown",
   "id": "ca1793aa",
   "metadata": {},
   "source": [
    "### Data\n",
    "We are going to look at a hypothetical 52-week U.S. Treasury Bill. The data for this security is encoded in [a `NamedTuple` data structure](https://docs.julialang.org/en/v1/base/base/#Core.NamedTuple), which we'll call `bill_data::NamedTuple`:"
   ]
  },
  {
   "cell_type": "code",
   "execution_count": 6,
   "id": "42cedb1a",
   "metadata": {},
   "outputs": [],
   "source": [
    "bill_data = (\n",
    "    T = \"52-Week\" |> securityterm,\n",
    "    n = 2,\n",
    "    par = 100.0,\n",
    "    r̄ = 0.04538, # 4.538% annualized discount rate\n",
    "    c̄ = 0.0,   # zero-coupon\n",
    ");"
   ]
  },
  {
   "cell_type": "markdown",
   "id": "8895c12c",
   "metadata": {},
   "source": [
    "Let's build a `zero_coupon_model::MyUSTreasuryZeroCouponBondModel` instance using the `bill_data::NamedTuple` data structure."
   ]
  },
  {
   "cell_type": "code",
   "execution_count": 8,
   "id": "e6802e95",
   "metadata": {},
   "outputs": [],
   "source": [
    "zero_coupon_model = let\n",
    "\n",
    "    # initialize -\n",
    "    discount_model = DiscreteCompoundingModel();\n",
    "    zero_coupon_model = nothing; # initialize\n",
    "\n",
    "    # Build a zero-coupon T-bill model using data from the selected bill\n",
    "    zero_coupon_model = build(MyUSTreasuryZeroCouponBondModel, (\n",
    "        par = bill_data.par,\n",
    "        n = bill_data.n, \n",
    "        T = bill_data.T,\n",
    "        rate =  bill_data.r̄,\n",
    "    )) |> discount_model;\n",
    "\n",
    "    zero_coupon_model # return\n",
    "end;"
   ]
  },
  {
   "cell_type": "markdown",
   "id": "b3534ce4",
   "metadata": {},
   "source": [
    "What is the price of this bill at auction? "
   ]
  },
  {
   "cell_type": "code",
   "execution_count": 10,
   "id": "b9d55ba5",
   "metadata": {},
   "outputs": [
    {
     "data": {
      "text/plain": [
       "95.62366236777791"
      ]
     },
     "execution_count": 10,
     "metadata": {},
     "output_type": "execute_result"
    }
   ],
   "source": [
    "zero_coupon_model.price # price per 100 USD par value"
   ]
  },
  {
   "cell_type": "markdown",
   "id": "91dcb751",
   "metadata": {},
   "source": [
    "### Constants\n",
    "We set some constant values that we use in the calculations below. Please see the comment next to each constant for its meaning, permissible units, etc."
   ]
  },
  {
   "cell_type": "code",
   "execution_count": 12,
   "id": "1dc3aa2e",
   "metadata": {},
   "outputs": [],
   "source": [
    " t = 364.0*(1.0); # number of days to maturity"
   ]
  },
  {
   "cell_type": "markdown",
   "id": "5f99b7bb-3075-4189-82ca-c7e0544f1e77",
   "metadata": {},
   "source": [
    "___"
   ]
  },
  {
   "cell_type": "markdown",
   "id": "b83e8ecb",
   "metadata": {},
   "source": [
    "## Task 1: Computing the Annualized Investment Yield at Auction and Afterward\n",
    "In this task, we show how the annualized investment yield at auction relates to the discount rate used in pricing the zero-coupon instrument. The __annualized investment yield__ of a zero-coupon instrument with $t$ days to maturity (units: days), face (par) value $V_{P}$ (units: USD), and purchase price $V_{B}$ at time $t$ (units: USD) is given by:\n",
    "$$\n",
    "\\boxed{\n",
    "\\begin{align*}\n",
    "Y(t) & = \\underbrace{\\left(\\frac{V_{P}}{V_{B,t}} - 1\\right)}_{\\text{HPR}} \\times \\underbrace{\\left(\\frac{1}{T}\\right)}_{\\text{annualize}}\\quad\\\\\n",
    "\\end{align*}}\n",
    "$$\n",
    "where $\\text{HPR}$ is the __holding period return__ and the $1/T$ term is an __annualization factor__.\n",
    "\n",
    "> __Key Insight:__ At auction, the annualized investment yield is mathematically related to the discount rate $\\bar{r}$ used in pricing the instrument through the compounding relationship shown in Task 2. After the auction, this yield changes based on secondary market prices, while the original discount rate $\\bar{r}$ remains fixed as a historical reference.\n",
    "\n",
    "So what do we observe?\n"
   ]
  },
  {
   "cell_type": "code",
   "execution_count": 15,
   "id": "df3d8495",
   "metadata": {},
   "outputs": [
    {
     "data": {
      "text/plain": [
       "(0.0458919939808104, 0.045766262490452014)"
      ]
     },
     "execution_count": 15,
     "metadata": {},
     "output_type": "execute_result"
    }
   ],
   "source": [
    "Y,HPR = let\n",
    "\n",
    "    # initialize -\n",
    "    # t = 364.0; # number of days to maturity\n",
    "    T = t/365.0; # annualized time to maturity\n",
    "    V_P = zero_coupon_model.par; # face value\n",
    "    V_B = zero_coupon_model.price; # purchase price\n",
    "    δ = 0.0; # price change in secondary market\n",
    "\n",
    "    # compute -\n",
    "    HPR  = V_P/(V_B + δ) - 1; # holding period return\n",
    "    Y    = HPR / T;     # annualized investment yield\n",
    "\n",
    "    (Y,HPR) # return\n",
    "end"
   ]
  },
  {
   "cell_type": "markdown",
   "id": "161a51d1",
   "metadata": {},
   "source": [
    "### Discussion\n",
    "Let's run a few simulations to see what happens when we change the price and time to maturity of our example Treasury bill.\n",
    "1. Suppose we purchased the bill at auction and held it for 6 months (182 days have passed, so 182 days remain to maturity). We checked the price of the bill in the secondary market and found that the price was the same as the auction price. What is the annualized investment yield of the bill now? (Is it higher, lower, or the same as the original yield at auction?)\n",
    "2. Suppose we purchased the bill at auction and held it for 6 months (182 days remain to maturity). We checked the price of the bill in the secondary market and found that the price had __increased__ by 1 USD. What is the annualized investment yield of the bill now? (Is it higher, lower, or the same as the original yield at auction?)\n",
    "3. Suppose we purchased the bill at auction and held it for 6 months (182 days remain to maturity). We checked the price of the bill in the secondary market and found that the price had __decreased__ by 1 USD. What is the annualized investment yield of the bill now? (Is it higher, lower, or the same as the original yield at auction?)\n",
    "\n",
    "___"
   ]
  },
  {
   "cell_type": "markdown",
   "id": "92ee004d",
   "metadata": {},
   "source": [
    "## Task 2: How does the Investment Yield Relate to the Discount Rate?\n",
    "In this task, we will explore how the annualized investment yield relates to the discount rate used in pricing the zero-coupon instrument. The relationship between the annualized investment yield $Y$ and the compounded discount rate $\\bar{r}$ is given by:\n",
    "$$\n",
    "\\boxed{\n",
    "\\begin{align*}\n",
    "\\bar{r} & = n\\left[\\left(1 + Y\\;T\\right)^{1/(nT)} - 1\\right]\n",
    "\\end{align*}}\n",
    "$$\n",
    "\n",
    "> __Technical Note:__ This formula converts the simple annualized investment yield $Y$ back to the compounded discount rate $\\bar{r}$ used in pricing. This relationship allows us to verify that our yield calculations are consistent with the original pricing parameters.\n",
    "\n",
    "Let's substitute some numbers and see what we observe."
   ]
  },
  {
   "cell_type": "code",
   "execution_count": 18,
   "id": "2691ca55",
   "metadata": {},
   "outputs": [
    {
     "data": {
      "text/plain": [
       "0.0453800000000002"
      ]
     },
     "execution_count": 18,
     "metadata": {},
     "output_type": "execute_result"
    }
   ],
   "source": [
    "r̂ = let\n",
    "\n",
    "    # initialize -\n",
    "    T = t/365.0; # annualized time to maturity\n",
    "    V_P = zero_coupon_model.par; # face value\n",
    "    V_B = zero_coupon_model.price; # purchase price\n",
    "    n = zero_coupon_model.n; # compounding periods per year\n",
    "\n",
    "    # convert investment yield to compounded discount rate\n",
    "    r̄ = n*((1 + Y*T)^(1/(n*T)) - 1);\n",
    "end"
   ]
  },
  {
   "cell_type": "markdown",
   "id": "75336163",
   "metadata": {},
   "source": [
    "Let's check: Is the converted discount rate the same as the original discount rate used to price the instrument at auction?"
   ]
  },
  {
   "cell_type": "code",
   "execution_count": 20,
   "id": "eeb6ab8d",
   "metadata": {},
   "outputs": [],
   "source": [
    "@assert isapprox(r̂, zero_coupon_model.rate; atol=1e-6)"
   ]
  },
  {
   "cell_type": "markdown",
   "id": "e6aaf89c-666b-4e5f-97a4-f8e92dd4f0d7",
   "metadata": {},
   "source": [
    "___"
   ]
  },
  {
   "cell_type": "markdown",
   "id": "ba29a0fa-c296-4d54-84f3-de9af9d6bf16",
   "metadata": {},
   "source": [
    "## Disclaimer and Risks\n",
    "__This content is offered solely for training and informational purposes__. No offer or solicitation to buy or sell securities or derivative products or any investment or trading advice or strategy is made, given, or endorsed by the teaching team. \n",
    "\n",
    "__Trading involves risk__. Carefully review your financial situation before investing in securities, futures contracts, options, or commodity interests. Past performance, whether actual or indicated by historical tests of strategies, is no guarantee of future performance or success. Trading is generally inappropriate for someone with limited resources, investment or trading experience, or a low-risk tolerance. Only risk capital that is not required for living expenses.\n",
    "\n",
    "__You are fully responsible for any investment or trading decisions you make__. Such decisions should be based solely on evaluating your financial circumstances, investment or trading objectives, risk tolerance, and liquidity needs.\n",
    "___"
   ]
  }
 ],
 "metadata": {
  "kernelspec": {
   "display_name": "Julia 1.11.6",
   "language": "julia",
   "name": "julia-1.11"
  },
  "language_info": {
   "file_extension": ".jl",
   "mimetype": "application/julia",
   "name": "julia",
   "version": "1.11.6"
  }
 },
 "nbformat": 4,
 "nbformat_minor": 5
}
