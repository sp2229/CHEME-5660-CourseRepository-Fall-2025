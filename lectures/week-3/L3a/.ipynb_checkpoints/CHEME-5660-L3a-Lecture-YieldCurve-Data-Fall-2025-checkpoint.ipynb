{
 "cells": [
  {
   "cell_type": "markdown",
   "id": "9245ff95",
   "metadata": {},
   "source": [
    "# L3a: The Yield Curve\n",
    "Today, we will continue our discussion of United States Treasury Securities and introduce the term structure of interest rates and the yield curve.\n",
    "\n",
    "> __Scenario__: You are a financial analyst at a major investment bank. Your job is to analyze the current state of the bond market and provide insights into future interest rate movements based on the yield curve. What kind of information can you glean from looking at the bond market?\n",
    "\n",
    "After today's lecture, students should be able to define and demonstrate mastery of the following concepts:\n",
    "* The __term structure of interest rates__ refers to the relationship between interest rates on Treasury securities of different maturities. It reflects how the market perceives future economic conditions and expectations for inflation and growth. It is our first example of using the market to infer future conditions.\n",
    "* The __yield curve__ is the time evolution of the interest rates for various maturity Treasury securities. In popular parlance, the yield curve is an _indicator_ computed as the interest rate on long-maturity instruments minus short-maturity instruments. It is used to predict future economic conditions, such as recessions or expansions.\n",
    "\n",
    "\n",
    "Understanding these concepts is critical for predicting potential future economic trends, managing interest rate risk and other types of financial risks, and making informed decisions. So let's go!\n",
    "___"
   ]
  },
  {
   "cell_type": "markdown",
   "id": "32cae6bb",
   "metadata": {},
   "source": [
    "## Examples\n",
    "We'll look at two examples which explore the yield to maturity and the yield curve for U.S. Treasury securities. \n",
    "* [▶ Calculating Yield to Maturity for a Zero](CHEME-5660-L3a-YieldToMaturity-Zero-Example-Fall-2025.ipynb). In this example, we will calculate the yield to maturity (YTM) of a Zero-coupon Bill given its price, face value, discount rate, and time to maturity. The YTM is the internal rate of return (IRR) of the bill.\n",
    "* [▶ Calculating Yield to Maturity for a Coupon Note (bond)](CHEME-5660-L3a-YieldToMaturity-Coupon-Example-Fall-2025.ipynb). In this example, we will calculate the yield to maturity (YTM) of a Coupon Note (bond) given its price, face value, coupon rate, and time to maturity. The YTM is the internal rate of return (IRR) of the note (bond).\n",
    "* [▶ Understanding the Secret Messages Inside of the Par Yield Curve](CHEME-5660-L3a-ParYieldCurves-Example-Fall-2025.ipynb). In this example, we will explore the par yield curve, i.e., the change in discount rates for different maturity coupon-bearing Treasury securities. Beyond its direct value of understanding the pricing of Treasury securities, the yield curve has been used as a recession indicator. So what's it saying to us now?\n",
    "___"
   ]
  },
  {
   "cell_type": "markdown",
   "id": "5a9528f1",
   "metadata": {},
   "source": [
    "## Motivation\n",
    "On the secondary market, Treasury securities are traded at prices that reflect the market's expectations for future interest rates, inflation, and economic growth. However, sometimes (often) the primary mechanism of quoting the __mark to market__ value is by quoting something called the yield to maturity (YTM) of the security.\n",
    "\n",
    "> __How are Treasury securities quoted?__ If we look at a quote for a Treasury security, you will see the price, yield to maturity (YTM), and other information that reflects the market's expectations for future interest rates. Treasury bills, notes and bonds are quoted using their yield to maturity (YTM), which is the internal rate of return (IRR) of the security if held to maturity.\n",
    "\n",
    "Let's take a look at the snapshot of the U.S. Treasury Bill market on 09/08/2025, as provided by JPMorgan Chase & Co. The figure below shows information for Treasury securities of different maturities on that date."
   ]
  },
  {
   "cell_type": "markdown",
   "id": "cf890019",
   "metadata": {},
   "source": [
    "<div>\n",
    "    <center>\n",
    "        <img src=\"figs/Fig-TBills-JPM-09-08-25.png\" width=\"980\"/>\n",
    "    </center>\n",
    "</div>"
   ]
  },
  {
   "cell_type": "markdown",
   "id": "4771cc60",
   "metadata": {},
   "source": [
    "You can also see publicly available data compiled daily typically at 3 PM Eastern Time from [the Wall Street Journal](https://www.wsj.com/market-data/bonds/treasuries?gaa_at=eafs&gaa_n=ASWzDAjLIjmnxEbGh4PP_e0yfgtghRzUQzjJz7CpX5QeFWTJhXKGDuS1S_wQavaVqJY%3D&gaa_ts=68bff61c&gaa_sig=1ys4kpctpBL4ObZL2-xlUJHIp1yMdgCrhbak7vtFP3d6sATiECc4TdfkJcCE37gNYtCNatCqGbnbmIMtz8NFbQ%3D%3D) or directly from [the U.S. Department of the Treasury](https://home.treasury.gov/policy-issues/financing-the-government/interest-rate-statistics).\n",
    "___"
   ]
  },
  {
   "cell_type": "markdown",
   "id": "ec3b4bf9",
   "metadata": {},
   "source": [
    "## Term Structure of Interest Rates\n",
    "The term structure of interest rates is a fundamental concept in finance that describes the relationship between the interest rates of Treasury securities and their maturities. \n",
    "> __Term structure of interest rates__ is the relationship between the __yields__ on fixed income debt securities of different maturities but similar credit quality, observed at a specific point in time. It typically illustrates how interest rates vary with the length of time until a bond's maturity.\n",
    "\n",
    "In order to dig into the term structure of interest rates, we need to understand a few key concepts, let's start with the __yield__ and the __spot rate__."
   ]
  },
  {
   "cell_type": "markdown",
   "id": "6f4c0272",
   "metadata": {},
   "source": [
    "## Investment Yield for Zero-Coupon Instruments\n",
    "The __investment yield__ is the return on an investment, expressed as a percentage of the investment's cost. Suppose we are looking at zero-coupon Treasury securities, e.g., T-bills that do not pay periodic interest but are sold at a discount to their face value. \n",
    "> __Investment yield__: The investment yield on a zero-coupon bond, e.g., T-bill is the difference between the purchase price and the face value, divided by the purchase price, multiplied by a factor to annualize the yield.\n",
    "\n",
    "The __annualized investment yield__ of a zero-coupon instrument with $t$ days to maturity (units: days), face (par) value $V_{P}$ (units: USD), and purchase price $V_{B,t}$ at time $t$ (units: USD) is given by:\n",
    "$$\n",
    "\\begin{align*}\n",
    "Y(t) &= \\left(\\frac{V_{P} - V_{B,t}}{V_{B,t}}\\right) \\times \\left(\\frac{365}{t}\\right)\\\\\n",
    "&= \\left(\\frac{V_{P}}{V_{B,t}} - 1\\right) \\times \\left(\\frac{365}{t}\\right)\\quad\\Longrightarrow{T = \\frac{t}{365}}\\\\\n",
    "& = \\underbrace{\\left(\\frac{V_{P}}{V_{B,t}} - 1\\right)}_{\\text{HPR}} \\times \\underbrace{\\left(\\frac{1}{T}\\right)}_{\\text{annualize}}\\quad\\blacksquare\\\\\n",
    "\\end{align*}\n",
    "$$\n",
    "where $\\text{HPR}$ is the __holding period return__ and the $1/T$ term is an __annualization factor__. \n",
    "\n",
    "#### Spot Rate\n",
    "Next, let's consider the __spot rate__.\n",
    "> __Spot rate__: The spot rate is the annualized interest rate for borrowing or lending money for a specific time period, with compounding. For zero-coupon bonds, the spot rate is the rate that, when compounded, equates the present value of the face value to the current market price.\n",
    "\n",
    "**Key Distinction**: \n",
    "- **Investment Yield** ($Y$): A simple annualized return based on buying at discount and receiving face value\n",
    "- **Spot Rate** ($\\bar{r}$): The compounded interest rate used in present value calculations\n",
    "\n",
    "To better understand the relationship between the yield and the discount (spot) rate, we can rewrite the yield as:\n",
    "$$\n",
    "\\begin{align*}\n",
    "Y &= \\left(\\frac{V_{P}}{V_{B}} - 1\\right) \\times \\left(\\frac{1}{T}\\right)\\quad\\Longrightarrow{V_{B}=\\mathcal{D}_{nT,0}^{-1}(\\bar{r})\\;V_{P}}\\\\\n",
    "Y & = \\left(\\frac{V_{P}}{\\mathcal{D}_{nT,0}^{-1}(\\bar{r})\\;V_{P}} - 1\\right)\\times \\left(\\frac{1}{T}\\right)\\\\\n",
    "Y & = \\left(\\frac{1}{\\mathcal{D}_{nT,0}^{-1}(\\bar{r})} - 1\\right)\\times \\left(\\frac{1}{T}\\right)\\\\\n",
    "Y & = \\left(\\mathcal{D}_{nT,0}(\\bar{r}) - 1\\right)\\times \\left(\\frac{1}{T}\\right)\\quad\\Longrightarrow\\text{solve for discount factor}\\\\\n",
    "\\mathcal{D}_{nT,0}(\\bar{r}) &= 1 + Y\\;T\\quad\\Longrightarrow\\mathcal{D}_{nT,0}(\\bar{r})=\\left(1+\\bar{r}/n\\right)^{nT}\\\\\n",
    "\\left(1+\\bar{r}/n\\right)^{nT} & = 1 + Y\\;T\\quad\\Longrightarrow\\text{solve for}\\;\\bar{r}\\\\\n",
    "\\bar{r} & = n\\left[\\left(1 + Y\\;T\\right)^{1/(nT)} - 1\\right]\\quad\\blacksquare\n",
    "\\end{align*}\n",
    "$$\n",
    "This derivation shows the relationship between the **investment yield** $Y$ (an annualized return calculation), \n",
    "the time to maturity $T$ (in years), the compounding frequency $n$ (number of compounding periods per year),\n",
    "and the **spot rate** $\\bar{r}$ (the discount rate used for discounting a zero-coupon pricing at auction).\n",
    "\n",
    "> __Example__: For a 52-week zero-coupon Treasury Bill with semiannual compounding ($n=2$, $T=1$), the relationship between the discount rate and the investment yield can be expressed as:\n",
    ">$$\n",
    "\\boxed{\n",
    "\\bar{r} = 2\\left[\\left(1 + Y\\right)^{1/2} - 1\\right] \\quad\\text{for}\\;n=2,\\;T=1\\quad\\text{(52-week zero-coupon)}}\n",
    "$$\n",
    ">where $Y$ is the annualized investment yield and $\\bar{r}$ is the corresponding __spot rate__ used in zero-coupon pricing calculations.\n",
    "\n",
    "#### Example\n",
    "> [▶ Calculating the Investment Yield for a Zero](CHEME-5660-L3a-InvestmentYield-Zero-Example-Fall-2025.ipynb). In this example, we will calculate the investment yield of a Zero-coupon Bill given its price, face value, discount rate, and time to maturity. The investment yield is the annualized return based on the purchase price and face value of the bill.\n",
    "\n",
    "___"
   ]
  },
  {
   "cell_type": "markdown",
   "id": "bd3e1c93-6a4a-487b-a26d-fd0be2234c93",
   "metadata": {},
   "source": [
    "<div>\n",
    "    <center>\n",
    "        <img src=\"figs/Fig-Notes-JPM-09-08-25.png\" width=\"980\"/>\n",
    "    </center>\n",
    "</div>"
   ]
  },
  {
   "cell_type": "markdown",
   "id": "bdc99fa9",
   "metadata": {},
   "source": [
    "## Yield to Maturity (YTM) for Coupon-Bearing Notes (Bonds)\n",
    "The yield to maturity (YTM) is a key concept for coupon-bearing notes (bonds). \n",
    "> __Yield to Maturity (YTM)__ represents the total return an investor can expect to earn if the note (bond) is held until maturity, taking into account both the bond's current market price and its future cash flows (coupon payments and face value at maturity).\n",
    "\n",
    "The YTM for a coupon-bearing note (bond) is calculated using by computing the net present value (NPV) of the bond's __remaining__ cash flows, which include periodic coupon payments and the face value at maturity. The YTM is the _discount rate_ that makes the NPV of these cash flows equal to zero (where we include the purchase price of the bond as a cash flow event at time $t=0$). \n",
    "$$\n",
    "\\underbrace{\\texttt{NPV}(T_{\\text{rem}}, \\bar{Y}, \\bar{c})}_{=\\,0} = \\mathcal{D}^{-1}_{nT_{\\text{rem}},0}(\\bar{Y})\\cdot{V_{P}}+C\\cdot\\sum_{j=1}^{n{T_{\\text{rem}}}}\\mathcal{D}^{-1}_{j,0}(\\bar{Y}) - V_{B} = 0\n",
    "$$\n",
    "where $C$ is the coupon payment, $V_{P}$ is the face value of the bond, and $V_{B}$ is the current market price of the bond, $T_{\\text{rem}}$ is the remaining time to maturity (in years), and $\\bar{Y}$ is the yield to maturity. \n",
    "\n",
    "> __Auction__: At auction, the YTM  is equal to the discount rate used to compute the present value of the bond's cash flows. This is because $T = T_{\\text{rem}}$ at the time of auction, and the bond is priced to yield the YTM at that time. \n",
    ">\n",
    ">__Secondary Market__: In the secondary market, the YTM is the discount rate that equates the present value of the bond's future cash flows to its current market price, given the remaining time to maturity $T_{\\text{rem}}$ and the bond's coupon payments. The YTM reflects current market conditions, e.g., interest rates, perceived credit risk, etc, and the time remaining until the bond matures.\n",
    "\n",
    "The YTM can be computed using various numerical methods; however, let's look at a particularly simple method, the __Secant Method__.\n",
    "\n",
    "#### Estimation of YTM using the Secant Method\n",
    "The secant method is a numerical technique used to find the root of a function of a single variable, which in this case is the YTM. Consider the general case of finding $x\\in\\mathbb{R}$ such that $f(x) = 0$.  \n",
    "\n",
    "Let's look at some pseudo-code to illustrate the secant method for estimating the YTM.\n",
    "\n",
    "__Initialization:__ Given two initial guesses $x_0$ and $x_1$, a tolerance level $\\epsilon>0$, a maximum number of iterations $\\texttt{maxiter}$, a convergence flag $\\texttt{converged}\\gets\\texttt{false}$ and an iteration counter $i\\gets{1}$.\n",
    "\n",
    "> __Parameter Selection Rules of Thumb:__\n",
    ">\n",
    "> **Tolerance ($\\epsilon$)**: For financial calculations like YTM, a tolerance of $\\epsilon = 10^{-6}$ to $10^{-8}$ is typically appropriate. This provides accuracy to about 6-8 decimal places, which is sufficient for most practical applications. For YTM calculations, $\\epsilon = 10^{-6}$ corresponds to about 0.0001% accuracy in the yield estimate.\n",
    ">\n",
    ">**Maximum iterations ($\\texttt{maxiter}$)**: For well-behaved functions like the NPV equation for YTM, the secant method typically converges within 10-20 iterations. A safe choice is $\\texttt{maxiter} = 50$ to $100$. If convergence hasn't occurred by then, it usually indicates a problem with the initial guesses or the function itself.\n",
    ">\n",
    "> **Initial guesses**: For YTM calculations, reasonable starting values are often $x_0 = 0.01$ (1%) and $x_1 = 0.10$ (10%), which bracket typical bond yields. The secant method is generally robust to the choice of initial guesses as long as they're not too close together.\n",
    "\n",
    "While not $\\texttt{converged}$ and $i\\leq\\texttt{maxiter}$ __do__:\n",
    "1. Compute the next estimate $x_{i+1}$ using the secant formula:\n",
    "   $$\n",
    "   x_{i+1} = x_i - f(x_i) \\cdot \\frac{x_i - x_{i-1}}{f(x_i) - f(x_{i-1})}\n",
    "   $$\n",
    "   where $f(x_i)$ and $f(x_{i-1})$ are the function values at the current and previous estimates, respectively.\n",
    "2. Check for convergence: if $|x_{i+1} - x_i| < \\epsilon$, set $\\texttt{converged}\\gets\\texttt{true}$. Otherwise, continue iterating. If the maximum number of iterations is reached without convergence, return the best solution found so far and warn the user.\n",
    "3. Update for next iteration: set $x_{i-1} \\gets x_i$, $x_i \\gets x_{i+1}$, and increment $i \\gets i + 1$.\n",
    "\n",
    "__Convergence Properties for YTM Calculations:__\n",
    "\n",
    "The secant method exhibits **superlinear convergence** (meaning the error decreases faster than linearly with each iteration) with convergence order approximately 1.618 (the golden ratio; this measures how rapidly the accuracy improves). This makes it faster than simple linear methods but slower than Newton's method (which has quadratic convergence order 2.0).\n",
    "\n",
    "> __Why secant works__: The NPV function for bond pricing is smooth and monotonically decreasing, ensuring the secant method typically converges within a few iterations when starting with reasonable initial guesses. \n",
    "\n",
    "While Newton's method converges faster, the secant method achieves good convergence without requiring derivative calculations, making it a more attractive option for YTM calculations.\n",
    "\n",
    "#### Example: Yield to Maturity Calculation\n",
    "> [▶ Calculating Yield to Maturity for a Coupon Note (bond)](CHEME-5660-L3a-YieldToMaturity-Coupon-Example-Fall-2025.ipynb). In this example, we will calculate the yield to maturity (YTM) of a Coupon Note (bond) given its price, face value, coupon rate, and time to maturity. The YTM is the internal rate of return (IRR) of the note (bond).\n",
    "\n",
    "___"
   ]
  },
  {
   "cell_type": "markdown",
   "id": "ad5e5c86",
   "metadata": {},
   "source": [
    "## Yield Curve\n",
    "The yield curve is a graphical representation of the relationship between the yields of coupon-bearing Treasury securities and their maturities. It is believed to have some power to predict, like a crystal ball, future economic conditions, such as recessions or expansions.\n",
    "\n",
    "> __What is the Yield Curve?__ How to parse the mysteries of the yield curve. [Let's listen to a recent episode of the NPR Planet Money Podcast (April 13, 2022).](https://www.npr.org/2022/04/13/1092678307/yield-curve-jitters) \n",
    "\n",
    "\n",
    "### Par Yield Curve Rates\n",
    "\n",
    "When folks talk about the yield curve, they (typcially) mean the par yield curve. The __par yield__ for a given maturity is the coupon rate that makes a newly issued (standard) coupon-bearing bond trade exactly at par (face) value when priced with the current set of discount factors (spot rates). The par yield curve is the function that maps maturity $T$ to the par coupon rate $\\bar c_{\\text{par}}(T)$.\n",
    "\n",
    "> __Intuitively:__ a par bond is priced so that its present value $V_{B}$ equals its face value $V_{P}$. For a given set of spot (discount) factors, we can solve for the coupon rate that achieves this equality, that coupon rate is the par yield.\n",
    "\n",
    "Let $V_{P}$ denote the face (par) value (normalize $V_{P}=1$ for simplicity), let $n$ be the number of coupon payments per year, and let $\\mathcal{D}^{-1}_{j,0}(\\bar r)$ denote the discrete-period discount factor for period $j$ (as used earlier, e.g. $\\mathcal{D}^{-1}_{j,0}(\\bar r)=(1+\\bar r/n)^{-j}$ when the spot rate is flat for that maturity). For a bond with maturity $T$ (years) there are $nT$ coupon payments (i.e., $n\\cdot T$ payments).\n",
    "\n",
    "The price of a coupon-bearing bond with coupon rate $\\bar c$ (annualized) is\n",
    "\n",
    "$$\n",
    "V_B(\\bar c,T) \n",
    "= C\\sum_{j=1}^{nT}\\mathcal{D}^{-1}_{j,0}(\\bar r) + V_{P}\\,\\mathcal{D}^{-1}_{nT,0}(\\bar r),\n",
    "$$\n",
    "\n",
    "where the coupon payment per period is $C=(\\bar c/n)\\,V_{P}$. The _par yield_ $\\bar c_{\\text{par}}(T)$ satisfies $V_B(\\bar c_{\\text{par}},T)=V_{P}$. Setting $V_{P}=1$ and solving for $\\bar c_{\\text{par}}(T)$ gives:\n",
    "\n",
    "$$\n",
    "1 = \\frac{\\bar c_{\\text{par}}(T)}{n}\\sum_{j=1}^{nT}\\mathcal{D}^{-1}_{j,0}(\\bar r) + \\mathcal{D}^{-1}_{nT,0}(\\bar r)\n",
    "$$\n",
    "\n",
    "and therefore\n",
    "\n",
    "$$\n",
    "\\boxed{\\displaystyle \\bar c_{\\text{par}}(T) \n",
    "= n\\cdot\\frac{1 - \\mathcal{D}^{-1}_{nT,0}(\\bar r)}{\\sum_{j=1}^{nT}\\mathcal{D}^{-1}_{j,0}(\\bar r)}.}\n",
    "$$\n",
    "\n",
    "How should we interpret this expression for the par yield?\n",
    "\n",
    "> __Interpretation__: The numerator $1-\\mathcal{D}^{-1}_{nT,0}$ measures the fraction of value that is _not_ paid by the final principal payment (i.e., the portion that must be supplied by coupons), while the denominator sums the present value of the periodic coupon payments. Their ratio (times $n$) is the coupon rate needed to make the coupon payments plus discounted principal equal to par.\n",
    "\n",
    "#### Example: Par Yield Curves\n",
    "> [▶ Understanding the Secret Messages Inside of the Par Yield Curve](CHEME-5660-L3a-ParYieldCurves-Example-Fall-2025.ipynb). In this example, we will explore the par yield curve, i.e., the change in discount rates for different maturity coupon-bearing Treasury securities. Beyond its direct value of understanding the pricing of Treasury securities, the yield curve has been used as a recession indicator. So what's it saying to us now?\n",
    "___"
   ]
  },
  {
   "cell_type": "markdown",
   "id": "88071c77",
   "metadata": {},
   "source": [
    "# Today?\n",
    "That's a wrap! What are some of the interesting things we discussed today?"
   ]
  },
  {
   "cell_type": "markdown",
   "id": "01eb7019",
   "metadata": {
    "vscode": {
     "languageId": "plaintext"
    }
   },
   "source": [
    "## Disclaimer and Risks\n",
    "__This content is offered solely for training and informational purposes__. No offer or solicitation to buy or sell securities or derivative products or any investment or trading advice or strategy is made, given, or endorsed by the teaching team. \n",
    "\n",
    "__Trading involves risk__. Carefully review your financial situation before investing in securities, futures contracts, options, or commodity interests. Past performance, whether actual or indicated by historical tests of strategies, is no guarantee of future performance or success. Trading is generally inappropriate for someone with limited resources, investment or trading experience, or a low-risk tolerance. Only risk capital that is not required for living expenses.\n",
    "\n",
    "__You are fully responsible for any investment or trading decisions you make__. Such decisions should be based solely on evaluating your financial circumstances, investment or trading objectives, risk tolerance, and liquidity needs.\n",
    "___"
   ]
  }
 ],
 "metadata": {
  "kernelspec": {
   "display_name": "Python 3 (ipykernel)",
   "language": "python",
   "name": "python3"
  },
  "language_info": {
   "codemirror_mode": {
    "name": "ipython",
    "version": 3
   },
   "file_extension": ".py",
   "mimetype": "text/x-python",
   "name": "python",
   "nbconvert_exporter": "python",
   "pygments_lexer": "ipython3",
   "version": "3.11.8"
  }
 },
 "nbformat": 4,
 "nbformat_minor": 5
}
