{
 "cells": [
  {
   "cell_type": "markdown",
   "id": "0ed8f8ae-3610-4c6a-a74f-197abc1dbf4d",
   "metadata": {},
   "source": [
    "# Example: Sensitivity of Coupon Treasury Notes and Bonds\n",
    "Malkiel proposed five theorems that govern the price of fixed-income debt securities, e.g., Treasury Bills, Notes, and Bonds, as a function of the duration, yield, and coupon (interest) rate values:\n",
    "\n",
    "> [Malkiel, B. G. (1962). Expectations, Bond Prices, and the Term Structure of Interest Rates. The Quarterly Journal of Economics, 76(2), 197–218. https://doi.org/10.2307/1880816](https://www.jstor.org/stable/1880816)\n",
    "\n",
    "In this example, let's develop a simulation to validate __Theorem 4__ and __Theorem 5__ of Malkiel:\n",
    "> `Theorem 4`: Price movements resulting from equal absolute increases and decreases in yield are asymmetric; i.e., decreasing yields raise bond prices more than the same increase in yields lowers prices.\n",
    "\n",
    "> `Theorem 5`: The higher the coupon carried by the bond, the smaller the percentage price fluctuation for a given change in yield\n",
    "\n",
    "\n",
    "__Learning objectives:__ This example's objective is to familiarize students with computing the prices of Treasury Notes, and Bonds and compare simulations of the change in these instruments' prices with the five theorems proposed by Malkiel. In particular, we'll look at Theorem 4 and Theorem 5.\n",
    "\n",
    "Let's go!\n",
    "___\n"
   ]
  },
  {
   "cell_type": "markdown",
   "id": "73f1d90b-3768-4145-bc9c-c4ddaf1a33a8",
   "metadata": {},
   "source": [
    "## Setup, Data, and Prerequisites\n",
    "We set up the computational environment by including the `Include.jl` file, loading any needed resources, such as sample datasets, and setting up any required constants. \n",
    "\n",
    "> The [include(...) function](https://docs.julialang.org/en/v1/base/base/#include) is a convenient way to load Julia code from another file. The `Include.jl` file is a Julia file that loads external packages, and various functions that we will use in the exercise. It checks for a `Manifest.toml` file; if it finds one, packages are loaded. Otherwise, packages are downloaded and then loaded."
   ]
  },
  {
   "cell_type": "code",
   "execution_count": 1,
   "id": "c2de84a8-dabf-49a8-9931-8f7610a6aabe",
   "metadata": {},
   "outputs": [],
   "source": [
    "include(joinpath(@__DIR__, \"Include.jl\")); # this sets up the environment, we'll do this all the time, on everything we do"
   ]
  },
  {
   "cell_type": "markdown",
   "id": "45920145",
   "metadata": {},
   "source": [
    "For additional information on functions and types used in this material, see the [Julia programming language documentation](https://docs.julialang.org/en/v1/) and the [VLQuantitativeFinancePackage.jl documentation](https://github.com/varnerlab/VLQuantitativeFinancePackage.jl). "
   ]
  },
  {
   "cell_type": "markdown",
   "id": "8bf33674",
   "metadata": {},
   "source": [
    "Before we do any pricing calculations let's construct an instance of the [`DiscreteCompoundingModel` type](https://varnerlab.github.io/VLQuantitativeFinancePackage.jl/dev/fixed/#VLQuantitativeFinancePackage.DiscreteCompoundingModel) and store this discount model in the `discount_model` variable.\n",
    "\n",
    "> The [`DiscreteCompoundingModel` type](https://varnerlab.github.io/VLQuantitativeFinancePackage.jl/dev/fixed/#VLQuantitativeFinancePackage.DiscreteCompoundingModel) has no data associated with it. Instead, it is used [by the Julia multiple dispatch system](https://docs.julialang.org/en/v1/manual/methods/#Methods) so that we call the correct pricing methods later.\n",
    "\n",
    "Let's build our discount model:"
   ]
  },
  {
   "cell_type": "code",
   "execution_count": 2,
   "id": "643b97d4-b0a9-41f4-a811-812cce97bd2d",
   "metadata": {},
   "outputs": [],
   "source": [
    "discount_model = DiscreteCompoundingModel();"
   ]
  },
  {
   "cell_type": "markdown",
   "id": "7f6ea265",
   "metadata": {},
   "source": [
    "___"
   ]
  },
  {
   "cell_type": "markdown",
   "id": "b02b8196-e9fb-4a3e-8beb-7f25acc5874a",
   "metadata": {},
   "source": [
    "## Task 1: Compute the price and cash flow of a note\n",
    "In this task, we'll demonstrate how to compute the price of a coupon-bearing Treasury note.\n",
    "\n",
    "First, let's build an [instance of the `MyUSTreasuryCouponSecurityModel` type](https://varnerlab.github.io/VLQuantitativeFinancePackage.jl/dev/fixed/#VLQuantitativeFinancePackage.MyUSTreasuryCouponSecurityModel) using [a custom `build(...)` method](https://varnerlab.github.io/VLQuantitativeFinancePackage.jl/dev/fixed/#VLQuantitativeFinancePackage.build-Tuple{Type{MyUSTreasuryCouponSecurityModel},%20NamedTuple}), then we'll compute the auction price.\n",
    "\n",
    "> __Example.__ Compute the price and cashflow for a T = 7-yr note, with a coupon rate of `c = 1.375%`, a yield (discount rate) rate = 1.461%, two coupon payments per year ($\\lambda = 2$) and a face (par) value of $V_{P}$ = 100 USD. The price value reported on [TreasuryDirect.gov](https://www.treasurydirect.gov/marketable-securities/understanding-pricing/#id-for-more-detailed-formulas-and-useful-tables-264977) for this note is $V_{B}$ = `99.4299 USD`.\n",
    "\n",
    "Similar to zero-coupon T-bills, we'll use a `short-cut` syntax that relies on the [Julia piping |> operator](https://docs.julialang.org/en/v1/manual/functions/#Function-composition-and-piping) and some syntax sugar to compute the coupon-bearing price, and discount factors and the cashflow for the instrument.\n",
    "\n",
    "Let's store the result in the `test_note::MyUSTreasuryCouponSecurityModel` variable."
   ]
  },
  {
   "cell_type": "code",
   "execution_count": 3,
   "id": "b0fb01f5-05f3-4b37-85f6-010b12583cce",
   "metadata": {},
   "outputs": [],
   "source": [
    "test_note = let\n",
    "\n",
    "    ### BEGIN SOLUTION\n",
    "    T = 7 # maturity in years\n",
    "    r̄ = 0.01461 # yield \n",
    "    c = 0.01375 # coupon rate\n",
    "    ### END SOLUTION\n",
    "\n",
    "    test_note = build(MyUSTreasuryCouponSecurityModel, (\n",
    "        T = T, rate = r̄, coupon = c, λ = 2, par = 100.0\n",
    "    )) |> discount_model;\n",
    "\n",
    "    test_note; # return\n",
    "end;"
   ]
  },
  {
   "cell_type": "markdown",
   "id": "466566c0-2967-4f53-a6df-611782be8cf0",
   "metadata": {},
   "source": [
    "We have populated [the data fields of the `MyUSTreasuryCouponSecurityModel` instance](https://varnerlab.github.io/VLQuantitativeFinancePackage.jl/dev/fixed/#VLQuantitativeFinancePackage.MyUSTreasuryCouponSecurityModel). So now let's pull the price, discount, and cash flow fields from `test_note::MyUSTreasuryCouponSecurityModel` and store them in the `nominal_computed_price,` `cashflow,` and `discount` variables:"
   ]
  },
  {
   "cell_type": "code",
   "execution_count": 4,
   "id": "7bc7c383-0b87-4449-9d9c-ce127ae860a8",
   "metadata": {},
   "outputs": [
    {
     "name": "stdout",
     "output_type": "stream",
     "text": [
      "This nominal computed note price = 99.42973596186266 USD\n"
     ]
    }
   ],
   "source": [
    "nominal_computed_price = test_note.price;\n",
    "cashflow = test_note.cashflow;\n",
    "discount = test_note.discount;\n",
    "println(\"This nominal computed note price = $(nominal_computed_price) USD\")"
   ]
  },
  {
   "cell_type": "markdown",
   "id": "16b86f47-f681-4ff6-aedb-2c41b235edd6",
   "metadata": {},
   "source": [
    "Did we get the same price as that recorded at auction?\n",
    "\n",
    "> __Test:__ If two values are within some relative tolerance `rtol` of each other, the [isapprox function](https://docs.julialang.org/en/v1/base/math/#Base.isapprox) returns `true`; otherwise, it returns `false`. When the [isapprox function](https://docs.julialang.org/en/v1/base/math/#Base.isapprox) is combined with the [@assert macro](https://docs.julialang.org/en/v1/base/base/#Base.@assert), a `false` result generates an [AssertionError](https://docs.julialang.org/en/v1/base/base/#Core.AssertionError). Thus, we have a simple test for equality that works well for floating-point numbers.\n",
    "\n",
    "So, how did we do?"
   ]
  },
  {
   "cell_type": "code",
   "execution_count": 5,
   "id": "c998f7f5-ba06-48d5-be19-82e6992ae759",
   "metadata": {},
   "outputs": [],
   "source": [
    "observed_bond_price = 99.4299;\n",
    "@assert isapprox(observed_bond_price, nominal_computed_price; rtol = 1e-4);"
   ]
  },
  {
   "cell_type": "markdown",
   "id": "a165e289-5cd3-48c1-abba-de1ca3b74b7f",
   "metadata": {},
   "source": [
    "### Visualize the cash flows\n",
    "`Unhide` the code block below to see how we build a table holding the nominal, discounted, and cumulative cash flow for this note using the [PrettyTables.jl package](https://github.com/ronisbr/PrettyTables.jl). We'll iterate through each period [using a `for-loop`](https://docs.julialang.org/en/v1/base/base/#for) and populate the `note_data_table::Array{Any,2}` variable.\n",
    "\n",
    "For each iteration of the loop:\n",
    "> __At each iteration:__ We access values for the discount and cashflow in period `i` and compute the cumulative cashflow in the `cumulative_payment` variable. We then store these data along with the nominal cash flow for each period in the `note_data_table` array\n",
    "\n",
    "We display the data in the `note_data_table` variable by calling [the `pretty_table(...)` function exported by the PrettyTables.jl package](https://github.com/ronisbr/PrettyTables.jl) (with optional values for the `header,` and `tf` arguments).\n",
    "\n",
    "See the [PrettyTables.jl package documentation for information about the `pretty_table(...)` function](https://ronisbr.github.io/PrettyTables.jl/stable/)."
   ]
  },
  {
   "cell_type": "code",
   "execution_count": 6,
   "id": "1ba01e2f-98c1-40dd-89d0-16094e1c5515",
   "metadata": {
    "jupyter": {
     "source_hidden": true
    }
   },
   "outputs": [
    {
     "name": "stdout",
     "output_type": "stream",
     "text": [
      "========= ================= =================== ====================== =======================\n",
      " \u001b[1m Period \u001b[0m \u001b[1m Discount factor \u001b[0m \u001b[1m Nominal cash flow \u001b[0m \u001b[1m Discounted cash flow \u001b[0m \u001b[1m Cumulative cash flow \u001b[0m\n",
      "========= ================= =================== ====================== =======================\n",
      "       0               1.0            -99.4297               -99.4297               -99.4297\n",
      "       1            1.0073              0.6875               0.682514               -98.7472\n",
      "       2           1.01466              0.6875               0.677565               -98.0697\n",
      "       3           1.02208              0.6875               0.672651                -97.397\n",
      "       4           1.02954              0.6875               0.667773               -96.7292\n",
      "       5           1.03706              0.6875                0.66293               -96.0663\n",
      "       6           1.04464              0.6875               0.658123               -95.4082\n",
      "       7           1.05227              0.6875                0.65335               -94.7548\n",
      "       8           1.05996              0.6875               0.648612               -94.1062\n",
      "       9            1.0677              0.6875               0.643908               -93.4623\n",
      "      10            1.0755              0.6875               0.639238               -92.8231\n",
      "      11           1.08336              0.6875               0.634603               -92.1885\n",
      "      12           1.09127              0.6875                   0.63               -91.5585\n",
      "      13           1.09924              0.6875               0.625432                -90.933\n",
      "      14           1.10727             100.687                 90.933                    0.0\n",
      "========= ================= =================== ====================== =======================\n"
     ]
    }
   ],
   "source": [
    "    let\n",
    "\n",
    "        # initalize -\n",
    "        number_of_periods = length(cashflow)\n",
    "        note_data_table = Array{Any,2}(undef, number_of_periods, 5);\n",
    "        cumulative_payment = 0.0;\n",
    "        for i ∈ 0:(number_of_periods - 1)\n",
    "            \n",
    "            discount_value = discount[i]\n",
    "            payment = cashflow[i];\n",
    "            cumulative_payment += payment;\n",
    "\n",
    "            note_data_table[i+1,1] = i;\n",
    "            note_data_table[i+1,2] = discount_value;\n",
    "            note_data_table[i+1,3] = discount_value*payment;\n",
    "            note_data_table[i+1,4] = payment;\n",
    "            note_data_table[i+1,5] = cumulative_payment;\n",
    "        end\n",
    "\n",
    "        # show the table -\n",
    "        pretty_table(note_data_table,\n",
    "            header=[\"Period\", \"Discount factor\", \"Nominal cash flow\", \"Discounted cash flow\", \"Cumulative cash flow\"], \n",
    "            tf = tf_simple)\n",
    "\n",
    "    end"
   ]
  },
  {
   "cell_type": "markdown",
   "id": "7920e863-7949-4a61-a0d2-811331a87c15",
   "metadata": {},
   "source": [
    "For this experiment, let's use the `test_note::MyUSTreasuryCouponSecurityModel` instance from Task 1, however, change the duration from 7 years to 20 years. The price of the hypothetical 20-year bond is $V_{B}=$ `98.51 USD`.\n",
    "\n",
    "First, specify the number (odd) of perturbation values in the `number_of_samples_theorem_4` variable. Next, specify the lower bound in the `β₁` variable and the upper bound in the `β₂` variable. Finally, compute the perturbation array (stored in the `β_theorem_4::Array{Float64,1}` variable) using the [range function](https://docs.julialang.org/en/v1/base/math/#Base.range) in combination with the [Julia pipe |> operator](https://docs.julialang.org/en/v1/manual/functions/#Function-composition-and-piping), and the [collect function](https://docs.julialang.org/en/v1/base/collections/#Base.collect-Tuple{Type,%20Any})."
   ]
  },
  {
   "cell_type": "code",
   "execution_count": 7,
   "id": "b0d46655-6bf1-4010-85af-f472ee913b9e",
   "metadata": {},
   "outputs": [],
   "source": [
    "number_of_samples_theorem_4  = 7;\n",
    "β₁ = 0.8;\n",
    "β₂ = 1.2;\n",
    "β_theorem_4 = range(β₁, stop = β₂, length = number_of_samples_theorem_4) |> collect;"
   ]
  },
  {
   "cell_type": "markdown",
   "id": "1b227653-cd2e-40c6-831c-a01bef72120c",
   "metadata": {},
   "source": [
    "Your job is to complete the implementation of the `Theorem 4` simulation started below and analyze the simulation results. Let's display the results in a table using the `pretty_table(...)` function exported from the [PrettyTables.jl package](https://github.com/ronisbr/PrettyTables.jl)"
   ]
  },
  {
   "cell_type": "code",
   "execution_count": 8,
   "id": "4046ca75-e39b-423b-bca2-bfe5f0acb945",
   "metadata": {
    "jupyter": {
     "source_hidden": true
    }
   },
   "outputs": [
    {
     "name": "stdout",
     "output_type": "stream",
     "text": [
      "=========== ========== =============\n",
      " \u001b[1m        β \u001b[0m \u001b[1m   Δr̄ (%) \u001b[0m \u001b[1m ΔPrice (%) \u001b[0m\n",
      "=========== ========== =============\n",
      "       0.8      -20.0      5.23257\n",
      "  0.866667   -13.3333       3.4552\n",
      "  0.933333   -6.66667      1.71123\n",
      "       1.0        0.0          0.0\n",
      "   1.06667    6.66667     -1.67914\n",
      "   1.13333    13.3333     -3.32681\n",
      "       1.2       20.0     -4.94364\n",
      "=========== ========== =============\n"
     ]
    }
   ],
   "source": [
    "let\n",
    "    VB20 = 98.51317476187917;\n",
    "    simulation_results_thm4_array = Array{Float64,2}(undef, number_of_samples_theorem_4, 3);\n",
    "    for i ∈ eachindex(β_theorem_4)\n",
    "        β_value = β_theorem_4[i]\n",
    "    \n",
    "        # create a copy of the test_note instance\n",
    "        model = deepcopy(test_note); # Why? check out: https://docs.julialang.org/en/v1/base/copy/#Base.deepcopy\n",
    "        \n",
    "        ### BEGIN SOLUTION\n",
    "        model.rate = β_value*test_note.rate\n",
    "        model.T = 20.0;\n",
    "        ### END SOLUTION\n",
    "        \n",
    "        # compute: use short-cut syntax and compute the price\n",
    "        perturbed_price = model |> discount_model |> x-> x.price\n",
    "        \n",
    "        # capture: put data in simulation_results_thm4_array\n",
    "        simulation_results_thm4_array[i,1] = β_value;\n",
    "        simulation_results_thm4_array[i,2] = 100*((model.rate - test_note.rate)/(test_note.rate));    # percentage change in yield\n",
    "        simulation_results_thm4_array[i,3] = 100*((model.price - VB20)/(VB20)); # col 2: percentage change in the price of the note\n",
    "    end\n",
    "    pretty_table(simulation_results_thm4_array, header=[\"β\",\"Δr̄ (%)\",\"ΔPrice (%)\"] , tf=tf_simple)\n",
    "end"
   ]
  },
  {
   "cell_type": "markdown",
   "id": "550ee0b1-acd8-4ae3-9b38-9570eee83c42",
   "metadata": {},
   "source": [
    "### Do your simulation results support the Theorem 4?\n",
    "1. From the table above, do the Theorem 4 simulations support Malkiel's hypothesis, i.e., that the price change is asymmetric?\n",
    "2. Would you expect the price asymmetry to increase or decrease with the duration of the note or bond?\n",
    "\n",
    "___"
   ]
  },
  {
   "cell_type": "markdown",
   "id": "b85f4f24-14e2-4f1f-808f-ab73194b2776",
   "metadata": {},
   "source": [
    "## Task 3: Simulate Theorem 5 of Malkiel for a Treasury note\n",
    "In this task, let's look at the role of the coupon rate.\n",
    "\n",
    "> __Idea.__ To simulate the impact of changes in the yield (discount) and coupon rate on price, let's perturb the effective nominal discount rate $\\bar{r}$ for a `high`, `nominal`, and `low` coupon rate, with all other values held constant. We'll generate a new rate of the form $\\bar{r}\\leftarrow\\beta\\cdot\\bar{r}$, where $\\beta$ is a perturbation value; if $\\beta<1$ the perturbed interest rate is _less than_ the nominal rate, if $\\beta=1$ the perturbed interest rate is _equal to_ the nominal rate, and if $\\beta>1$ the perturbed interest rate is _greater than_ the nominal rate.\n",
    "\n",
    "First, specify the number (odd) of perturbation values in the `number_of_samples_theorem_5` variable. Next, specify the lower bound in the `β₁` variable and the upper bound in the `β₂` variable. Finally, compute the perturbation array (stored in the `β_theorem_5::Array{Float64,1}` variable) using the [range function](https://docs.julialang.org/en/v1/base/math/#Base.range) in combination with the [Julia pipe |> operator](https://docs.julialang.org/en/v1/manual/functions/#Function-composition-and-piping), and the [collect function](https://docs.julialang.org/en/v1/base/collections/#Base.collect-Tuple{Type,%20Any})."
   ]
  },
  {
   "cell_type": "code",
   "execution_count": 9,
   "id": "1a8be92b-ba05-4468-99eb-2c9f9e5958dc",
   "metadata": {},
   "outputs": [],
   "source": [
    "number_of_samples_theorem_5 = 3;\n",
    "β₁ = 0.8;\n",
    "β₂ = 1.2;\n",
    "β_theorem_5 = range(β₁, stop = β₂, length = number_of_samples_theorem_5) |> collect;"
   ]
  },
  {
   "cell_type": "markdown",
   "id": "f530220b-7d67-42e9-9898-6ab63b07613c",
   "metadata": {},
   "source": [
    "Your job is to complete the implementation of the simulation of Theorem 5 started below and analyze the simulation results."
   ]
  },
  {
   "cell_type": "code",
   "execution_count": 10,
   "id": "8bdc06b7-cbab-405b-a7cd-1f56e1ce201c",
   "metadata": {},
   "outputs": [],
   "source": [
    "simulation_results_thm5_array = let\n",
    "\n",
    "    simulation_results_thm5_array = Array{Float64,2}(undef, number_of_samples_theorem_5, number_of_samples_theorem_5);\n",
    "    for i ∈ eachindex(β_theorem_5)\n",
    "        \n",
    "        β_outer = β_theorem_5[i]\n",
    "        \n",
    "        # create a copy of the test_note instance\n",
    "        model = deepcopy(test_note);\n",
    "        \n",
    "        ### BEGIN SOLUTION\n",
    "        model.coupon = β_outer*test_note.coupon;\n",
    "        ### END SOLUTION\n",
    "        \n",
    "        for j ∈ eachindex(β_theorem_5)\n",
    "            \n",
    "            β_inner = β_theorem_5[j];\n",
    "            \n",
    "            ### BEGIN SOLUTION\n",
    "            model.rate = β_inner*test_note.rate;\n",
    "            ### END SOLUTION\n",
    "\n",
    "            # compute: use short-cut syntax and compute the price\n",
    "            perturbed_price = model |> discount_model |> x-> x.price\n",
    "            \n",
    "            # compute: the percentage difference between the nominal and perturbed price\n",
    "            simulation_results_thm5_array[i,j] = ((perturbed_price - nominal_computed_price)/nominal_computed_price)*100\n",
    "        end\n",
    "    end\n",
    "    simulation_results_thm5_array; # return\n",
    "end;"
   ]
  },
  {
   "cell_type": "markdown",
   "id": "b813b0d8-9539-4cdc-95e7-d33ce3917e19",
   "metadata": {},
   "source": [
    "`Unhide` the code block below to see how we visualized the `simulation_results_thm5_array` data array using [the `pretty_table(...)` function exported from the PrettyTables.jl package](https://github.com/ronisbr/PrettyTables.jl). \n",
    "\n",
    "> __Caution__: This code assumes `number_of_samples_theorem_5 = 3`; if you have modified the `number_of_samples_theorem_5` variable, you will need to update the logic that generates the table.\n",
    "\n",
    "So what do we see?"
   ]
  },
  {
   "cell_type": "code",
   "execution_count": 11,
   "id": "482b9db0-a67e-4fde-860b-2c0f2976130b",
   "metadata": {
    "jupyter": {
     "source_hidden": true
    }
   },
   "outputs": [
    {
     "name": "stdout",
     "output_type": "stream",
     "text": [
      "================= ============ =============== =============\n",
      " \u001b[1m                \u001b[0m \u001b[1m -20% yield \u001b[0m \u001b[1m nominal yield \u001b[0m \u001b[1m +20% yield \u001b[0m\n",
      "================= ============ =============== =============\n",
      "     -20% coupon     0.109757        -1.83398     -3.73638\n",
      "  nominal coupon      1.96352             0.0     -1.92189\n",
      "     +20% coupon      3.81729         1.83398    -0.107394\n",
      "================= ============ =============== =============\n"
     ]
    }
   ],
   "source": [
    "let\n",
    "    # build a pretty table to display the results -\n",
    "    (R,C) = size(simulation_results_thm5_array)\n",
    "    pretty_table_data = Array{Any,2}(undef, R, C+1)\n",
    "    \n",
    "    # first col holds labels -\n",
    "    for i ∈ 1:R\n",
    "        if (i == 1)\n",
    "            pretty_table_data[i,1] = \"-20% coupon\";\n",
    "        elseif (i == 3)\n",
    "            pretty_table_data[i,1] = \"+20% coupon\";\n",
    "        else\n",
    "            pretty_table_data[i,1] = \"nominal coupon\";\n",
    "        end\n",
    "    end\n",
    "    \n",
    "    for i = 1:R\n",
    "        for j = 1:C\n",
    "            pretty_table_data[i,j+1] = simulation_results_thm5_array[i,j]\n",
    "        end\n",
    "    end\n",
    "    \n",
    "    header_data = ([\"\", \"-20% yield\", \"nominal yield\", \"+20% yield\"])\n",
    "    pretty_table(pretty_table_data, header=header_data, tf=tf_simple)\n",
    "end"
   ]
  },
  {
   "cell_type": "markdown",
   "id": "94c71e02-5d2b-4371-84ef-f0cf6731bcc4",
   "metadata": {},
   "source": [
    "### Do your simulation results support the Theorem 5?\n",
    "1. From the table above, do the Theorem 5 simulations support Malkiel's hypothesis, i.e., that high coupon instruments are less sensitive to changes in yield (discount rate)? __Hint:__ compare the center square with the corners, what do the differences in value suggest?\n",
    "___"
   ]
  },
  {
   "cell_type": "markdown",
   "id": "c05db129-a57b-4e3a-a13e-564ee11376f2",
   "metadata": {},
   "source": [
    "## Disclaimer and Risks\n",
    "__This content is offered solely for training and informational purposes__. No offer or solicitation to buy or sell securities or derivative products or any investment or trading advice or strategy is made, given, or endorsed by the teaching team. \n",
    "\n",
    "__Trading involves risk__. Carefully review your financial situation before investing in securities, futures contracts, options, or commodity interests. Past performance, whether actual or indicated by historical tests of strategies, is no guarantee of future performance or success. Trading is generally inappropriate for someone with limited resources, investment or trading experience, or a low-risk tolerance.  Only risk capital that is not required for living expenses.\n",
    "\n",
    "__You are fully responsible for any investment or trading decisions you make__. Such decisions should be based solely on evaluating your financial circumstances, investment or trading objectives, risk tolerance, and liquidity needs.\n",
    "\n",
    "___"
   ]
  }
 ],
 "metadata": {
  "kernelspec": {
   "display_name": "Julia 1.11.6",
   "language": "julia",
   "name": "julia-1.11"
  },
  "language_info": {
   "file_extension": ".jl",
   "mimetype": "application/julia",
   "name": "julia",
   "version": "1.11.6"
  }
 },
 "nbformat": 4,
 "nbformat_minor": 5
}
