{
 "cells": [
  {
   "cell_type": "markdown",
   "id": "bfb6f9c6-2f60-41e1-80b8-fa022162f100",
   "metadata": {},
   "source": [
    "# Pricing Zero-Coupon Treasury Bills Using NPV\n",
    "In this example, we will compute the price of zero-coupon United States Treasury Bills, or __T-bills__ using the Net Present Value (NPV) approach.\n",
    "\n",
    "__Learning Objectives:__ After completing this example, you should be able to:\n",
    "1. **Price zero-coupon T-bills** using the Net Present Value (NPV) approach with discount rates\n",
    "2. **Understand the inverse relationship** between T-bill prices and yields (Malkiel's Theorem 1)\n",
    "3. **Interpret cash flow structures** for zero-coupon securities\n",
    "4. **Compare computed prices** with market auction prices and analyze discrepancies\n",
    "\n",
    "__What we'll do:__ We've downloaded a dataset of T-bill auction data (approximately 100 T-bills with different maturities) from 2025. We will use the discount rate (in this context called the investment rate) from the dataset to compute the auction price of the T-bill, and then we'll compare our computed price with the actual auction price.\n",
    "\n",
    "Let's get started!\n",
    "___"
   ]
  },
  {
   "cell_type": "markdown",
   "id": "068183be-9396-4c77-b919-befabcdf46d2",
   "metadata": {
    "tags": []
   },
   "source": [
    "## Setup, Data, and Prerequisites\n",
    "We set up the computational environment by including the `Include.jl` file, loading any needed resources, such as sample datasets, and setting up any required constants. \n",
    "\n",
    "> The [include(...) function](https://docs.julialang.org/en/v1/base/base/#include) is a convenient way to load Julia code from another file. The `Include.jl` file is a Julia file that loads external packages, and various functions that we will use in the exercise. It checks for a `Manifest.toml` file; if it finds one, packages are loaded. Otherwise, packages are downloaded and then loaded."
   ]
  },
  {
   "cell_type": "code",
   "execution_count": 3,
   "id": "a19f9212-58b6-4703-8278-21d64dc7d8e6",
   "metadata": {
    "tags": []
   },
   "outputs": [],
   "source": [
    "include(joinpath(@__DIR__, \"Include.jl\")); # this sets up the environment, we'll do this all the time, on everything we do"
   ]
  },
  {
   "cell_type": "markdown",
   "id": "aee5e457",
   "metadata": {},
   "source": [
    "For additional information on functions and types used in this material, see the [Julia programming language documentation](https://docs.julialang.org/en/v1/) and the [VLQuantitativeFinancePackage.jl documentation](https://github.com/varnerlab/VLQuantitativeFinancePackage.jl). "
   ]
  },
  {
   "cell_type": "markdown",
   "id": "c042b597-6837-4b33-8fac-bb6fab45e72f",
   "metadata": {},
   "source": [
    "### Data\n",
    "We'll explore `T-bill` prices from United States Treasury auctions between May and August of 2025 downloaded as a `CSV` file using the [Auction query functionality of TreasuryDirect.gov](https://www.treasurydirect.gov/auctions/auction-query/). \n",
    "\n",
    "We load the `CSV` dataset using a [local `MyTreasuryBillDataSet()` function](src/Files.jl), which returns the auction data as [a `DataFrame` instance](https://dataframes.juliadata.org/stable/). We store the data in the `data::DataFrame` variable."
   ]
  },
  {
   "cell_type": "code",
   "execution_count": 6,
   "id": "25da4a48-62fc-45ba-ae7c-64b97313c8aa",
   "metadata": {
    "tags": []
   },
   "outputs": [
    {
     "data": {
      "text/html": [
       "<div><div style = \"float: left;\"><span>96×8 DataFrame</span></div><div style = \"float: right;\"><span style = \"font-style: italic;\">71 rows omitted</span></div><div style = \"clear: both;\"></div></div><div class = \"data-frame\" style = \"overflow-x: scroll;\"><table class = \"data-frame\" style = \"margin-bottom: 6px;\"><thead><tr class = \"header\"><th class = \"rowNumber\" style = \"font-weight: bold; text-align: right;\">Row</th><th style = \"text-align: left;\">CUSIP</th><th style = \"text-align: left;\">Security Type</th><th style = \"text-align: left;\">Security Term</th><th style = \"text-align: left;\">Auction Date</th><th style = \"text-align: left;\">Issue Date</th><th style = \"text-align: left;\">Maturity Date</th><th style = \"text-align: left;\">Price</th><th style = \"text-align: left;\">Investment Rate</th></tr><tr class = \"subheader headerLastRow\"><th class = \"rowNumber\" style = \"font-weight: bold; text-align: right;\"></th><th title = \"String15\" style = \"text-align: left;\">String15</th><th title = \"String7\" style = \"text-align: left;\">String7</th><th title = \"String7\" style = \"text-align: left;\">String7</th><th title = \"String15\" style = \"text-align: left;\">String15</th><th title = \"String15\" style = \"text-align: left;\">String15</th><th title = \"String15\" style = \"text-align: left;\">String15</th><th title = \"Float64\" style = \"text-align: left;\">Float64</th><th title = \"Float64\" style = \"text-align: left;\">Float64</th></tr></thead><tbody><tr><td class = \"rowNumber\" style = \"font-weight: bold; text-align: right;\">1</td><td style = \"text-align: left;\">912797QW0</td><td style = \"text-align: left;\">Bill</td><td style = \"text-align: left;\">4-Week</td><td style = \"text-align: left;\">08/28/2025</td><td style = \"text-align: left;\">09/02/2025</td><td style = \"text-align: left;\">09/30/2025</td><td style = \"text-align: right;\">99.6698</td><td style = \"text-align: right;\">0.04318</td></tr><tr><td class = \"rowNumber\" style = \"font-weight: bold; text-align: right;\">2</td><td style = \"text-align: left;\">912797RE9</td><td style = \"text-align: left;\">Bill</td><td style = \"text-align: left;\">8-Week</td><td style = \"text-align: left;\">08/28/2025</td><td style = \"text-align: left;\">09/02/2025</td><td style = \"text-align: left;\">10/28/2025</td><td style = \"text-align: right;\">99.3552</td><td style = \"text-align: right;\">0.0423</td></tr><tr><td class = \"rowNumber\" style = \"font-weight: bold; text-align: right;\">3</td><td style = \"text-align: left;\">912797RZ2</td><td style = \"text-align: left;\">Bill</td><td style = \"text-align: left;\">17-Week</td><td style = \"text-align: left;\">08/27/2025</td><td style = \"text-align: left;\">09/02/2025</td><td style = \"text-align: left;\">12/30/2025</td><td style = \"text-align: right;\">98.6712</td><td style = \"text-align: right;\">0.04131</td></tr><tr><td class = \"rowNumber\" style = \"font-weight: bold; text-align: right;\">4</td><td style = \"text-align: left;\">912797QE0</td><td style = \"text-align: left;\">Bill</td><td style = \"text-align: left;\">6-Week</td><td style = \"text-align: left;\">08/26/2025</td><td style = \"text-align: left;\">08/28/2025</td><td style = \"text-align: left;\">10/09/2025</td><td style = \"text-align: right;\">99.5088</td><td style = \"text-align: right;\">0.0429</td></tr><tr><td class = \"rowNumber\" style = \"font-weight: bold; text-align: right;\">5</td><td style = \"text-align: left;\">912797NL7</td><td style = \"text-align: left;\">Bill</td><td style = \"text-align: left;\">13-Week</td><td style = \"text-align: left;\">08/25/2025</td><td style = \"text-align: left;\">08/28/2025</td><td style = \"text-align: left;\">11/28/2025</td><td style = \"text-align: right;\">98.9522</td><td style = \"text-align: right;\">0.04201</td></tr><tr><td class = \"rowNumber\" style = \"font-weight: bold; text-align: right;\">6</td><td style = \"text-align: left;\">912797RU3</td><td style = \"text-align: left;\">Bill</td><td style = \"text-align: left;\">26-Week</td><td style = \"text-align: left;\">08/25/2025</td><td style = \"text-align: left;\">08/28/2025</td><td style = \"text-align: left;\">02/26/2026</td><td style = \"text-align: right;\">98.0208</td><td style = \"text-align: right;\">0.0405</td></tr><tr><td class = \"rowNumber\" style = \"font-weight: bold; text-align: right;\">7</td><td style = \"text-align: left;\">912797QV2</td><td style = \"text-align: left;\">Bill</td><td style = \"text-align: left;\">4-Week</td><td style = \"text-align: left;\">08/21/2025</td><td style = \"text-align: left;\">08/26/2025</td><td style = \"text-align: left;\">09/23/2025</td><td style = \"text-align: right;\">99.6656</td><td style = \"text-align: right;\">0.04374</td></tr><tr><td class = \"rowNumber\" style = \"font-weight: bold; text-align: right;\">8</td><td style = \"text-align: left;\">912797RD1</td><td style = \"text-align: left;\">Bill</td><td style = \"text-align: left;\">8-Week</td><td style = \"text-align: left;\">08/21/2025</td><td style = \"text-align: left;\">08/26/2025</td><td style = \"text-align: left;\">10/21/2025</td><td style = \"text-align: right;\">99.3436</td><td style = \"text-align: right;\">0.04307</td></tr><tr><td class = \"rowNumber\" style = \"font-weight: bold; text-align: right;\">9</td><td style = \"text-align: left;\">912797RY5</td><td style = \"text-align: left;\">Bill</td><td style = \"text-align: left;\">17-Week</td><td style = \"text-align: left;\">08/20/2025</td><td style = \"text-align: left;\">08/26/2025</td><td style = \"text-align: left;\">12/23/2025</td><td style = \"text-align: right;\">98.6612</td><td style = \"text-align: right;\">0.04162</td></tr><tr><td class = \"rowNumber\" style = \"font-weight: bold; text-align: right;\">10</td><td style = \"text-align: left;\">912797MS3</td><td style = \"text-align: left;\">Bill</td><td style = \"text-align: left;\">6-Week</td><td style = \"text-align: left;\">08/19/2025</td><td style = \"text-align: left;\">08/21/2025</td><td style = \"text-align: left;\">10/02/2025</td><td style = \"text-align: right;\">99.5048</td><td style = \"text-align: right;\">0.04325</td></tr><tr><td class = \"rowNumber\" style = \"font-weight: bold; text-align: right;\">11</td><td style = \"text-align: left;\">912797QR1</td><td style = \"text-align: left;\">Bill</td><td style = \"text-align: left;\">13-Week</td><td style = \"text-align: left;\">08/18/2025</td><td style = \"text-align: left;\">08/21/2025</td><td style = \"text-align: left;\">11/20/2025</td><td style = \"text-align: right;\">98.956</td><td style = \"text-align: right;\">0.04232</td></tr><tr><td class = \"rowNumber\" style = \"font-weight: bold; text-align: right;\">12</td><td style = \"text-align: left;\">912797PM3</td><td style = \"text-align: left;\">Bill</td><td style = \"text-align: left;\">26-Week</td><td style = \"text-align: left;\">08/18/2025</td><td style = \"text-align: left;\">08/21/2025</td><td style = \"text-align: left;\">02/19/2026</td><td style = \"text-align: right;\">98.0056</td><td style = \"text-align: right;\">0.04081</td></tr><tr><td class = \"rowNumber\" style = \"font-weight: bold; text-align: right;\">13</td><td style = \"text-align: left;\">912797QU4</td><td style = \"text-align: left;\">Bill</td><td style = \"text-align: left;\">4-Week</td><td style = \"text-align: left;\">08/14/2025</td><td style = \"text-align: left;\">08/19/2025</td><td style = \"text-align: left;\">09/16/2025</td><td style = \"text-align: right;\">99.6671</td><td style = \"text-align: right;\">0.04354</td></tr><tr><td style = \"text-align: right;\">&vellip;</td><td style = \"text-align: right;\">&vellip;</td><td style = \"text-align: right;\">&vellip;</td><td style = \"text-align: right;\">&vellip;</td><td style = \"text-align: right;\">&vellip;</td><td style = \"text-align: right;\">&vellip;</td><td style = \"text-align: right;\">&vellip;</td><td style = \"text-align: right;\">&vellip;</td><td style = \"text-align: right;\">&vellip;</td></tr><tr><td class = \"rowNumber\" style = \"font-weight: bold; text-align: right;\">85</td><td style = \"text-align: left;\">912797QC4</td><td style = \"text-align: left;\">Bill</td><td style = \"text-align: left;\">8-Week</td><td style = \"text-align: left;\">05/29/2025</td><td style = \"text-align: left;\">06/03/2025</td><td style = \"text-align: left;\">07/29/2025</td><td style = \"text-align: right;\">99.3428</td><td style = \"text-align: right;\">0.04312</td></tr><tr><td class = \"rowNumber\" style = \"font-weight: bold; text-align: right;\">86</td><td style = \"text-align: left;\">912797QW0</td><td style = \"text-align: left;\">Bill</td><td style = \"text-align: left;\">17-Week</td><td style = \"text-align: left;\">05/28/2025</td><td style = \"text-align: left;\">06/03/2025</td><td style = \"text-align: left;\">09/30/2025</td><td style = \"text-align: right;\">98.6051</td><td style = \"text-align: right;\">0.04339</td></tr><tr><td class = \"rowNumber\" style = \"font-weight: bold; text-align: right;\">87</td><td style = \"text-align: left;\">912797LW5</td><td style = \"text-align: left;\">Bill</td><td style = \"text-align: left;\">6-Week</td><td style = \"text-align: left;\">05/27/2025</td><td style = \"text-align: left;\">05/29/2025</td><td style = \"text-align: left;\">07/10/2025</td><td style = \"text-align: right;\">99.5059</td><td style = \"text-align: right;\">0.04315</td></tr><tr><td class = \"rowNumber\" style = \"font-weight: bold; text-align: right;\">88</td><td style = \"text-align: left;\">912797PQ4</td><td style = \"text-align: left;\">Bill</td><td style = \"text-align: left;\">13-Week</td><td style = \"text-align: left;\">05/27/2025</td><td style = \"text-align: left;\">05/29/2025</td><td style = \"text-align: left;\">08/28/2025</td><td style = \"text-align: right;\">98.9244</td><td style = \"text-align: right;\">0.04361</td></tr><tr><td class = \"rowNumber\" style = \"font-weight: bold; text-align: right;\">89</td><td style = \"text-align: left;\">912797NL7</td><td style = \"text-align: left;\">Bill</td><td style = \"text-align: left;\">26-Week</td><td style = \"text-align: left;\">05/27/2025</td><td style = \"text-align: left;\">05/29/2025</td><td style = \"text-align: left;\">11/28/2025</td><td style = \"text-align: right;\">97.8853</td><td style = \"text-align: right;\">0.04309</td></tr><tr><td class = \"rowNumber\" style = \"font-weight: bold; text-align: right;\">90</td><td style = \"text-align: left;\">912797PT8</td><td style = \"text-align: left;\">Bill</td><td style = \"text-align: left;\">4-Week</td><td style = \"text-align: left;\">05/22/2025</td><td style = \"text-align: left;\">05/27/2025</td><td style = \"text-align: left;\">06/24/2025</td><td style = \"text-align: right;\">99.6718</td><td style = \"text-align: right;\">0.04293</td></tr><tr><td class = \"rowNumber\" style = \"font-weight: bold; text-align: right;\">91</td><td style = \"text-align: left;\">912797QB6</td><td style = \"text-align: left;\">Bill</td><td style = \"text-align: left;\">8-Week</td><td style = \"text-align: left;\">05/22/2025</td><td style = \"text-align: left;\">05/27/2025</td><td style = \"text-align: left;\">07/22/2025</td><td style = \"text-align: right;\">99.3412</td><td style = \"text-align: right;\">0.04322</td></tr><tr><td class = \"rowNumber\" style = \"font-weight: bold; text-align: right;\">92</td><td style = \"text-align: left;\">912797QV2</td><td style = \"text-align: left;\">Bill</td><td style = \"text-align: left;\">17-Week</td><td style = \"text-align: left;\">05/21/2025</td><td style = \"text-align: left;\">05/27/2025</td><td style = \"text-align: left;\">09/23/2025</td><td style = \"text-align: right;\">98.6017</td><td style = \"text-align: right;\">0.0435</td></tr><tr><td class = \"rowNumber\" style = \"font-weight: bold; text-align: right;\">93</td><td style = \"text-align: left;\">912797NX1</td><td style = \"text-align: left;\">Bill</td><td style = \"text-align: left;\">6-Week</td><td style = \"text-align: left;\">05/20/2025</td><td style = \"text-align: left;\">05/22/2025</td><td style = \"text-align: left;\">07/03/2025</td><td style = \"text-align: right;\">99.5059</td><td style = \"text-align: right;\">0.04315</td></tr><tr><td class = \"rowNumber\" style = \"font-weight: bold; text-align: right;\">94</td><td style = \"text-align: left;\">912797PP6</td><td style = \"text-align: left;\">Bill</td><td style = \"text-align: left;\">13-Week</td><td style = \"text-align: left;\">05/19/2025</td><td style = \"text-align: left;\">05/22/2025</td><td style = \"text-align: left;\">08/21/2025</td><td style = \"text-align: right;\">98.9168</td><td style = \"text-align: right;\">0.04392</td></tr><tr><td class = \"rowNumber\" style = \"font-weight: bold; text-align: right;\">95</td><td style = \"text-align: left;\">912797QR1</td><td style = \"text-align: left;\">Bill</td><td style = \"text-align: left;\">26-Week</td><td style = \"text-align: left;\">05/19/2025</td><td style = \"text-align: left;\">05/22/2025</td><td style = \"text-align: left;\">11/20/2025</td><td style = \"text-align: right;\">97.907</td><td style = \"text-align: right;\">0.04287</td></tr><tr><td class = \"rowNumber\" style = \"font-weight: bold; text-align: right;\">96</td><td style = \"text-align: left;\">912797PS0</td><td style = \"text-align: left;\">Bill</td><td style = \"text-align: left;\">4-Week</td><td style = \"text-align: left;\">05/15/2025</td><td style = \"text-align: left;\">05/20/2025</td><td style = \"text-align: left;\">06/17/2025</td><td style = \"text-align: right;\">99.6718</td><td style = \"text-align: right;\">0.04293</td></tr></tbody></table></div>"
      ],
      "text/latex": [
       "\\begin{tabular}{r|ccccccc}\n",
       "\t& CUSIP & Security Type & Security Term & Auction Date & Issue Date & Maturity Date & \\\\\n",
       "\t\\hline\n",
       "\t& String15 & String7 & String7 & String15 & String15 & String15 & \\\\\n",
       "\t\\hline\n",
       "\t1 & 912797QW0 & Bill & 4-Week & 08/28/2025 & 09/02/2025 & 09/30/2025 & $\\dots$ \\\\\n",
       "\t2 & 912797RE9 & Bill & 8-Week & 08/28/2025 & 09/02/2025 & 10/28/2025 & $\\dots$ \\\\\n",
       "\t3 & 912797RZ2 & Bill & 17-Week & 08/27/2025 & 09/02/2025 & 12/30/2025 & $\\dots$ \\\\\n",
       "\t4 & 912797QE0 & Bill & 6-Week & 08/26/2025 & 08/28/2025 & 10/09/2025 & $\\dots$ \\\\\n",
       "\t5 & 912797NL7 & Bill & 13-Week & 08/25/2025 & 08/28/2025 & 11/28/2025 & $\\dots$ \\\\\n",
       "\t6 & 912797RU3 & Bill & 26-Week & 08/25/2025 & 08/28/2025 & 02/26/2026 & $\\dots$ \\\\\n",
       "\t7 & 912797QV2 & Bill & 4-Week & 08/21/2025 & 08/26/2025 & 09/23/2025 & $\\dots$ \\\\\n",
       "\t8 & 912797RD1 & Bill & 8-Week & 08/21/2025 & 08/26/2025 & 10/21/2025 & $\\dots$ \\\\\n",
       "\t9 & 912797RY5 & Bill & 17-Week & 08/20/2025 & 08/26/2025 & 12/23/2025 & $\\dots$ \\\\\n",
       "\t10 & 912797MS3 & Bill & 6-Week & 08/19/2025 & 08/21/2025 & 10/02/2025 & $\\dots$ \\\\\n",
       "\t11 & 912797QR1 & Bill & 13-Week & 08/18/2025 & 08/21/2025 & 11/20/2025 & $\\dots$ \\\\\n",
       "\t12 & 912797PM3 & Bill & 26-Week & 08/18/2025 & 08/21/2025 & 02/19/2026 & $\\dots$ \\\\\n",
       "\t13 & 912797QU4 & Bill & 4-Week & 08/14/2025 & 08/19/2025 & 09/16/2025 & $\\dots$ \\\\\n",
       "\t14 & 912797RC3 & Bill & 8-Week & 08/14/2025 & 08/19/2025 & 10/14/2025 & $\\dots$ \\\\\n",
       "\t15 & 912797RX7 & Bill & 17-Week & 08/13/2025 & 08/19/2025 & 12/16/2025 & $\\dots$ \\\\\n",
       "\t16 & 912797PY7 & Bill & 6-Week & 08/12/2025 & 08/14/2025 & 09/25/2025 & $\\dots$ \\\\\n",
       "\t17 & 912797QQ3 & Bill & 13-Week & 08/11/2025 & 08/14/2025 & 11/13/2025 & $\\dots$ \\\\\n",
       "\t18 & 912797RT6 & Bill & 26-Week & 08/11/2025 & 08/14/2025 & 02/12/2026 & $\\dots$ \\\\\n",
       "\t19 & 912797QT7 & Bill & 4-Week & 08/07/2025 & 08/12/2025 & 09/09/2025 & $\\dots$ \\\\\n",
       "\t20 & 912797RB5 & Bill & 8-Week & 08/07/2025 & 08/12/2025 & 10/07/2025 & $\\dots$ \\\\\n",
       "\t21 & 912797RW9 & Bill & 17-Week & 08/06/2025 & 08/12/2025 & 12/09/2025 & $\\dots$ \\\\\n",
       "\t22 & 912797PX9 & Bill & 6-Week & 08/05/2025 & 08/07/2025 & 09/18/2025 & $\\dots$ \\\\\n",
       "\t23 & 912797RG4 & Bill & 52-Week & 08/05/2025 & 08/07/2025 & 08/06/2026 & $\\dots$ \\\\\n",
       "\t24 & 912797QP5 & Bill & 13-Week & 08/04/2025 & 08/07/2025 & 11/06/2025 & $\\dots$ \\\\\n",
       "\t25 & 912797RL3 & Bill & 26-Week & 08/04/2025 & 08/07/2025 & 02/05/2026 & $\\dots$ \\\\\n",
       "\t26 & 912797QM2 & Bill & 4-Week & 07/31/2025 & 08/05/2025 & 09/02/2025 & $\\dots$ \\\\\n",
       "\t27 & 912797QW0 & Bill & 8-Week & 07/31/2025 & 08/05/2025 & 09/30/2025 & $\\dots$ \\\\\n",
       "\t28 & 912797RR0 & Bill & 17-Week & 07/30/2025 & 08/05/2025 & 12/02/2025 & $\\dots$ \\\\\n",
       "\t29 & 912797PW1 & Bill & 6-Week & 07/29/2025 & 07/31/2025 & 09/11/2025 & $\\dots$ \\\\\n",
       "\t30 & 912797NA1 & Bill & 13-Week & 07/28/2025 & 07/31/2025 & 10/30/2025 & $\\dots$ \\\\\n",
       "\t$\\dots$ & $\\dots$ & $\\dots$ & $\\dots$ & $\\dots$ & $\\dots$ & $\\dots$ &  \\\\\n",
       "\\end{tabular}\n"
      ],
      "text/plain": [
       "\u001b[1m96×8 DataFrame\u001b[0m\n",
       "\u001b[1m Row \u001b[0m│\u001b[1m CUSIP     \u001b[0m\u001b[1m Security Type \u001b[0m\u001b[1m Security Term \u001b[0m\u001b[1m Auction Date \u001b[0m\u001b[1m Issue Date \u001b[0m\u001b[1m Matu\u001b[0m ⋯\n",
       "     │\u001b[90m String15  \u001b[0m\u001b[90m String7       \u001b[0m\u001b[90m String7       \u001b[0m\u001b[90m String15     \u001b[0m\u001b[90m String15   \u001b[0m\u001b[90m Stri\u001b[0m ⋯\n",
       "─────┼──────────────────────────────────────────────────────────────────────────\n",
       "   1 │ 912797QW0  Bill           4-Week         08/28/2025    09/02/2025  09/3 ⋯\n",
       "   2 │ 912797RE9  Bill           8-Week         08/28/2025    09/02/2025  10/2\n",
       "   3 │ 912797RZ2  Bill           17-Week        08/27/2025    09/02/2025  12/3\n",
       "   4 │ 912797QE0  Bill           6-Week         08/26/2025    08/28/2025  10/0\n",
       "   5 │ 912797NL7  Bill           13-Week        08/25/2025    08/28/2025  11/2 ⋯\n",
       "   6 │ 912797RU3  Bill           26-Week        08/25/2025    08/28/2025  02/2\n",
       "   7 │ 912797QV2  Bill           4-Week         08/21/2025    08/26/2025  09/2\n",
       "   8 │ 912797RD1  Bill           8-Week         08/21/2025    08/26/2025  10/2\n",
       "   9 │ 912797RY5  Bill           17-Week        08/20/2025    08/26/2025  12/2 ⋯\n",
       "  10 │ 912797MS3  Bill           6-Week         08/19/2025    08/21/2025  10/0\n",
       "  11 │ 912797QR1  Bill           13-Week        08/18/2025    08/21/2025  11/2\n",
       "  ⋮  │     ⋮            ⋮              ⋮             ⋮            ⋮            ⋱\n",
       "  87 │ 912797LW5  Bill           6-Week         05/27/2025    05/29/2025  07/1\n",
       "  88 │ 912797PQ4  Bill           13-Week        05/27/2025    05/29/2025  08/2 ⋯\n",
       "  89 │ 912797NL7  Bill           26-Week        05/27/2025    05/29/2025  11/2\n",
       "  90 │ 912797PT8  Bill           4-Week         05/22/2025    05/27/2025  06/2\n",
       "  91 │ 912797QB6  Bill           8-Week         05/22/2025    05/27/2025  07/2\n",
       "  92 │ 912797QV2  Bill           17-Week        05/21/2025    05/27/2025  09/2 ⋯\n",
       "  93 │ 912797NX1  Bill           6-Week         05/20/2025    05/22/2025  07/0\n",
       "  94 │ 912797PP6  Bill           13-Week        05/19/2025    05/22/2025  08/2\n",
       "  95 │ 912797QR1  Bill           26-Week        05/19/2025    05/22/2025  11/2\n",
       "  96 │ 912797PS0  Bill           4-Week         05/15/2025    05/20/2025  06/1 ⋯\n",
       "\u001b[36m                                                   3 columns and 75 rows omitted\u001b[0m"
      ]
     },
     "execution_count": 6,
     "metadata": {},
     "output_type": "execute_result"
    }
   ],
   "source": [
    "dataset = MyTreasuryBillDataSet()"
   ]
  },
  {
   "cell_type": "markdown",
   "id": "d54d06f9-6f99-4080-9494-ae4a9a69a6b3",
   "metadata": {},
   "source": [
    "Next, let's store the dimension (number of records) of our treasury auction dataset in the `number_of_bills::Int64` variable using [the `nrow(...)` function exported by the DataFrames.jl package](https://dataframes.juliadata.org/stable/lib/functions/#DataAPI.nrow):"
   ]
  },
  {
   "cell_type": "code",
   "execution_count": 8,
   "id": "7cb3298f-a9a6-43be-89ff-87221b5b75ee",
   "metadata": {
    "tags": []
   },
   "outputs": [
    {
     "data": {
      "text/plain": [
       "96"
      ]
     },
     "execution_count": 8,
     "metadata": {},
     "output_type": "execute_result"
    }
   ],
   "source": [
    "number_of_bills = nrow(dataset)"
   ]
  },
  {
   "cell_type": "markdown",
   "id": "48f87c97",
   "metadata": {},
   "source": [
    "___"
   ]
  },
  {
   "cell_type": "markdown",
   "id": "0d16edf4-811d-4fd1-bc78-1ef8bc6de136",
   "metadata": {},
   "source": [
    "## Task 1: Compute the Price of Zero-Coupon Treasury Bills at Auction\n",
    "We compute the T-bill price by building a discounting model in this task. In this case, let's construct an instance of the [`DiscreteCompoundingModel` type](https://varnerlab.github.io/VLQuantitativeFinancePackage.jl/dev/fixed/#VLQuantitativeFinancePackage.DiscreteCompoundingModel) and store this discount model in the `discount_model` variable.\n",
    "\n",
    "> The [`DiscreteCompoundingModel` type](https://varnerlab.github.io/VLQuantitativeFinancePackage.jl/dev/fixed/#VLQuantitativeFinancePackage.DiscreteCompoundingModel) has no data associated with it. Instead, it is used [by the Julia multiple dispatch system](https://docs.julialang.org/en/v1/manual/methods/#Methods) so that we call the correct pricing methods later.\n",
    "\n",
    "Let's build our discount model:"
   ]
  },
  {
   "cell_type": "code",
   "execution_count": 11,
   "id": "29d8ba89-91b5-40a2-b388-8a4e5f4b4e02",
   "metadata": {
    "tags": []
   },
   "outputs": [],
   "source": [
    "discount_model = DiscreteCompoundingModel();"
   ]
  },
  {
   "cell_type": "markdown",
   "id": "414b44bc-8716-427b-8c10-a0e1e9051a8d",
   "metadata": {},
   "source": [
    "Next, let's build a zero-coupon Treasury bill model, an instance of [the `MyUSTreasuryZeroCouponBondModel` type](https://varnerlab.github.io/VLQuantitativeFinancePackage.jl/dev/fixed/#VLQuantitativeFinancePackage.MyUSTreasuryZeroCouponBondModel) using [a custom `build(...)` method](https://varnerlab.github.io/VLQuantitativeFinancePackage.jl/dev/fixed/#VLQuantitativeFinancePackage.build-Tuple{Type{MyUSTreasuryZeroCouponBondModel},%20NamedTuple}). \n",
    "\n",
    "> The [`build(...)` method](https://varnerlab.github.io/VLQuantitativeFinancePackage.jl/dev/fixed/#VLQuantitativeFinancePackage.build-Tuple{Type{MyUSTreasuryZeroCouponBondModel},%20NamedTuple}) requires two arguments: the type of thing we want to build, and [a NamedTuple](https://docs.julialang.org/en/v1/base/base/#Core.NamedTuple) holding data needed to construct the thing we want to build. In this case, we pass the `par` value of the T-bill and the `n` argument, i.e., the number of compounding periods per year. \n",
    "\n",
    "Let's build out the zero-coupon model. Store the zero-coupon model in the `model::MyUSTreasuryZeroCouponBondModel` variable."
   ]
  },
  {
   "cell_type": "code",
   "execution_count": 13,
   "id": "d0a68616-d274-42c5-ba91-75a14452c0d4",
   "metadata": {
    "tags": []
   },
   "outputs": [],
   "source": [
    "model = build(MyUSTreasuryZeroCouponBondModel, (\n",
    "    par = 100.0, n = 2\n",
    "));"
   ]
  },
  {
   "cell_type": "markdown",
   "id": "dc5f293c",
   "metadata": {},
   "source": [
    "We can use [the `typeof(...)` function](https://docs.julialang.org/en/v1/base/base/#Core.typeof) in combination with [the `fieldnames(...)` function](https://docs.julialang.org/en/v1/base/base/#Base.fieldnames) to inspect the structure of our model, i.e., what data the model holds:"
   ]
  },
  {
   "cell_type": "code",
   "execution_count": 15,
   "id": "603814ca-a941-484e-886c-916ed1b7c4e4",
   "metadata": {},
   "outputs": [
    {
     "data": {
      "text/plain": [
       "(:par, :rate, :T, :price, :n, :cashflow, :discount)"
      ]
     },
     "execution_count": 15,
     "metadata": {},
     "output_type": "execute_result"
    }
   ],
   "source": [
    "typeof(model) |> T -> fieldnames(T)"
   ]
  },
  {
   "cell_type": "markdown",
   "id": "d201bb4f-5fb7-4b9a-bd87-d840cab80fc7",
   "metadata": {},
   "source": [
    "The zero-coupon instance is missing some critical data, so let's manually add this to the `model` instance and then compute the price. We'll select an example T-bill from the `dataset::DataFrame`\n",
    "\n",
    "> __What is going on?__ We compute the price of the T-bill using the [Julia pipe `|>` operator](https://docs.julialang.org/en/v1/manual/functions/#Function-composition-and-piping) in combination with the discounting model [using a short-cut syntax](https://varnerlab.github.io/VLQuantitativeFinancePackage.jl/dev/fixed/#Short-cut-syntax).\n",
    "\n",
    "Compute the price at auction $V_{B}$:"
   ]
  },
  {
   "cell_type": "code",
   "execution_count": 17,
   "id": "400b7432-fffb-4802-904c-e6078dc2baa9",
   "metadata": {},
   "outputs": [
    {
     "data": {
      "text/plain": [
       "MyUSTreasuryZeroCouponBondModel(100.0, 0.0405, 0.4986301369863014, 98.02057600598177, 2, Dict(0 => -98.02057600598177, 1 => 100.0), Dict(0 => 1.0, 1 => 1.0201939641111417))"
      ]
     },
     "execution_count": 17,
     "metadata": {},
     "output_type": "execute_result"
    }
   ],
   "source": [
    "model.T = \"26-Week\"  |> securityterm; # parameters for T-bill #6\n",
    "model.rate = 0.0405; # parameters for T-bill # 6\n",
    "model |> discount_model"
   ]
  },
  {
   "cell_type": "code",
   "execution_count": 65,
   "id": "a17737d0-bebf-4ebd-a513-06fb47c1fb9a",
   "metadata": {},
   "outputs": [
    {
     "data": {
      "text/plain": [
       "98.02057600598177"
      ]
     },
     "execution_count": 65,
     "metadata": {},
     "output_type": "execute_result"
    }
   ],
   "source": [
    "model.price"
   ]
  },
  {
   "cell_type": "markdown",
   "id": "46a1f550",
   "metadata": {},
   "source": [
    "Did we get the same price as that recorded at auction?\n",
    "\n",
    "> __Idea:__ If two values are within some relative tolerance `rtol` of each other, the [isapprox function](https://docs.julialang.org/en/v1/base/math/#Base.isapprox) returns `true`; otherwise, it returns `false`. When the [isapprox function](https://docs.julialang.org/en/v1/base/math/#Base.isapprox) is combined with the [@assert macro](https://docs.julialang.org/en/v1/base/base/#Base.@assert), a `false` result generates an [AssertionError](https://docs.julialang.org/en/v1/base/base/#Core.AssertionError). Thus, we have a simple test for equality that works well for floating-point numbers.\n",
    "\n",
    "So, how did we do?"
   ]
  },
  {
   "cell_type": "code",
   "execution_count": 69,
   "id": "8fce04a3",
   "metadata": {},
   "outputs": [],
   "source": [
    "let\n",
    "    auction_price = dataset[6, :Price];\n",
    "    computed_price = model.price\n",
    "    @assert isapprox(auction_price, computed_price; rtol=1e-4)\n",
    "end"
   ]
  },
  {
   "cell_type": "markdown",
   "id": "12428e76-4886-4f17-ba24-0e8a08bd05eb",
   "metadata": {},
   "source": [
    "### Batch Pricing: Compute Prices for All T-bills\n",
    "Finally, we compute the zero-coupon T-bill price for all the T-bills in `dataset` and compare the computed price to the price observed at auction. We process each record in the `dataset::DataFrame` using [a `for-loop`](https://docs.julialang.org/en/v1/base/base/#for). During each iteration of the loop:\n",
    "\n",
    "> __Each iteration:__ We get data from the `dataset::DataFrame` and update the T-bill model instance. In particular, we set the observed price to the variable `auction_price,` we set the duration `T` field (which we convert to the number of years using the local `securityterm` function) and the rate field on the `model::MyUSTreasuryZeroCouponBondModel` instance, and then we compute the price.\n",
    "\n",
    "We calculate the percentage error between the estimated and observed T-bill price and store the simulation data for each iteration in the `computed_price_table::DataFrame` using [the `push!(...)` function](https://dataframes.juliadata.org/stable/lib/functions/#Base.push!)"
   ]
  },
  {
   "cell_type": "code",
   "execution_count": 22,
   "id": "ec79323f-74a4-4a3d-9edd-522ace748b3c",
   "metadata": {
    "jupyter": {
     "source_hidden": true
    },
    "tags": []
   },
   "outputs": [
    {
     "name": "stdout",
     "output_type": "stream",
     "text": [
      "============ ========= ========= ========== ========= ==============\n",
      " \u001b[1m     CUSIP \u001b[0m \u001b[1m    term \u001b[0m \u001b[1m    rate \u001b[0m \u001b[1m computed \u001b[0m \u001b[1m  actual \u001b[0m \u001b[1m        rtol \u001b[0m\n",
      " \u001b[90m  String15 \u001b[0m \u001b[90m String7 \u001b[0m \u001b[90m Float64 \u001b[0m \u001b[90m  Float64 \u001b[0m \u001b[90m Float64 \u001b[0m \u001b[90m     Float64 \u001b[0m\n",
      "============ ========= ========= ========== ========= ==============\n",
      "  912797QW0    4-Week     4.318     99.672    99.669     2.9945e-5\n",
      "  912797RE9    8-Week      4.23     99.359    99.355    4.64703e-5\n",
      "  912797RZ2   17-Week     4.131     98.675    98.671    4.64237e-5\n",
      "  912797QE0    6-Week      4.29     99.512    99.508    3.95309e-5\n",
      "  912797NL7   13-Week     4.201     98.968    98.952   0.000167802\n",
      "  912797RU3   26-Week      4.05      98.02     98.02    1.77508e-6\n",
      "  912797QV2    4-Week     4.374     99.668    99.665    3.08123e-5\n",
      "  912797RD1    8-Week     4.307     99.348    99.343    4.82259e-5\n",
      "  912797RY5   17-Week     4.162     98.665    98.661    4.79185e-5\n",
      "  912797MS3    6-Week     4.325     99.508    99.504    4.11384e-5\n",
      "  912797QR1   13-Week     4.232     98.961    98.956    5.36606e-5\n",
      "  912797PM3   26-Week     4.081     98.005    98.005    1.47363e-6\n",
      "  912797QU4    4-Week     4.354      99.67    99.667    3.02251e-5\n",
      "  912797RC3    8-Week     4.271     99.353    99.349     4.7501e-5\n",
      "  912797RX7   17-Week     4.162     98.665    98.661    4.79185e-5\n",
      "  912797PY7    6-Week     4.346     99.506    99.502    4.09331e-5\n",
      "  912797QQ3   13-Week     4.252     98.956     98.95    5.59278e-5\n",
      "  912797RT6   26-Week     4.108     97.992    97.992    1.48523e-6\n",
      "  912797QT7    4-Week     4.374     99.668    99.665    3.08123e-5\n",
      "  912797RB5    8-Week     4.322     99.346    99.341    4.91926e-5\n",
      "  912797RW9   17-Week     4.219     98.648    98.643    5.01906e-5\n",
      "  912797PX9    6-Week     4.382     99.502    99.498    4.14381e-5\n",
      "  912797RG4   52-Week     3.924     96.198    96.198    5.75888e-6\n",
      "  912797QP5   13-Week     4.268     98.952    98.947     5.5182e-5\n",
      "  912797RL3   26-Week     4.118     97.988    97.987     1.2432e-6\n",
      "  912797QM2    4-Week     4.364     99.669    99.666    3.05235e-5\n",
      "  912797QW0    8-Week     4.379     99.337    99.332    4.97234e-5\n",
      "  912797RR0   17-Week     4.329     98.613    98.608    5.09803e-5\n",
      "  912797PW1    6-Week     4.351     99.505    99.501    4.11713e-5\n",
      "  912797NA1   13-Week      4.34     98.935    98.929    5.83053e-5\n",
      "  912797RK5   26-Week     4.266     97.917    97.917    9.95672e-7\n",
      "  912797QL4    4-Week     4.318     99.672    99.669     2.9945e-5\n",
      "  912797QV2    8-Week     4.353     99.341    99.336    4.96111e-5\n",
      "  912797RQ2   17-Week     4.344     98.608    98.603    5.33949e-5\n",
      "  912797MH7    6-Week     4.341     99.507    99.503    4.07051e-5\n",
      "  912797QG5   13-Week     4.345     98.934    98.928    5.88813e-5\n",
      "  912797PD3   26-Week     4.261     97.919    97.919    4.10627e-7\n",
      "  912797QK6    4-Week     4.303     99.673    99.671    2.95005e-5\n",
      "  912797QU4    8-Week     4.358      99.34    99.335    4.99353e-5\n",
      "  912797RP4   17-Week      4.35     98.606    98.601    5.10138e-5\n",
      "  912797PQ4    6-Week     4.341     99.507    99.503    4.07051e-5\n",
      "  912797QF7   13-Week     4.351     98.932    98.926    5.70178e-5\n",
      "  912797RJ8   26-Week     4.271     97.914    97.914    2.40323e-6\n",
      "  912797QJ9    4-Week     4.308     99.673     99.67    2.96486e-5\n",
      "  912797QT7    8-Week     4.363     99.339    99.335    5.02598e-5\n",
      "  912797RN9   17-Week      4.35     98.606     98.59   0.000170174\n",
      "  912797PP6    6-Week     4.346     99.506    99.502    4.09331e-5\n",
      "  912797RF6   52-Week     4.102     96.031    96.031    1.32112e-6\n",
      "  912797QE0   13-Week     4.361      98.93    98.924    5.81621e-5\n",
      "  912797RH2   26-Week     4.293     97.904    97.904    1.72717e-6\n",
      "  912797QH3    4-Week     4.313     99.673     99.67    2.97968e-5\n",
      "  912797QM2    8-Week     4.389     99.336    99.331    5.03746e-5\n",
      "  912797QV2    77-Day     4.385     99.089    99.083    5.67996e-5\n",
      "  912797RM1   17-Week     4.303     98.621    98.616    5.01541e-5\n",
      "  912797PN1    6-Week     4.423     99.497    99.493    4.21725e-5\n",
      "  912797MS3   13-Week      4.34     98.935    98.929    5.83053e-5\n",
      "  912797RA7   26-Week     4.256     97.921     97.91   0.000114777\n",
      "  912797QC4    4-Week     4.068     99.691    99.688    2.66149e-5\n",
      "  912797QL4    8-Week     4.482     99.322    99.317     5.1738e-5\n",
      "  912797QU4    77-Day     4.349     99.096     99.09    5.55724e-5\n",
      "  912797RE9   17-Week     4.313     98.618    98.613    5.17631e-5\n",
      "  912797MG9    6-Week     4.505     99.488    99.484    4.36957e-5\n",
      "  912797PY7   13-Week     4.299     98.945    98.939    5.61648e-5\n",
      "  912797NU7   26-Week     4.267     97.916    97.905   0.000112988\n",
      "  912797QB6    4-Week     4.129     99.686    99.684    2.75767e-5\n",
      "  912797QK6    8-Week     4.564      99.31    99.304    5.40154e-5\n",
      "  912797RD1   17-Week     4.355     98.605      98.6    5.18242e-5\n",
      "  912797PG6    6-Week     4.258     99.516    99.523     7.6264e-5\n",
      "  912797PX9   13-Week     4.345     98.934     98.94    6.01677e-5\n",
      "  912797QZ3   26-Week     4.303     97.899     97.91   0.000116794\n",
      "  912797QA8    4-Week      4.15     99.685    99.682    2.73932e-5\n",
      "  912797QJ9    8-Week     4.471     99.323    99.318    5.25784e-5\n",
      "  912797RC3   17-Week     4.339      98.61    98.605     5.2586e-5\n",
      "  912797PF8    6-Week     4.274     99.514     99.51    3.99697e-5\n",
      "  912797QX8   52-Week     4.118     96.016    96.016    2.92286e-6\n",
      "  912797PW1   13-Week     4.356     98.931    98.925    5.75948e-5\n",
      "  912797QY6   26-Week     4.298     97.901    97.901    3.13049e-7\n",
      "  912797PZ4    4-Week     4.242     99.678    99.675    2.84934e-5\n",
      "  912797QH3    8-Week     4.312     99.347    99.342    4.85479e-5\n",
      "  912797RB5   17-Week     4.323     98.615     98.61    5.33646e-5\n",
      "  912797PE1    6-Week     4.305     99.511    99.507    4.02203e-5\n",
      "  912797MH7   13-Week     4.356     98.931    98.925    5.75948e-5\n",
      "  912797QS9   26-Week     4.298     97.901    97.901    3.13049e-7\n",
      "  912797PU5    4-Week     4.288     99.675    99.672     2.9057e-5\n",
      "  912797QC4    8-Week     4.312     99.347    99.342    4.85479e-5\n",
      "  912797QW0   17-Week     4.339      98.61    98.605     5.2586e-5\n",
      "  912797LW5    6-Week     4.315     99.509    99.505     4.0674e-5\n",
      "  912797PQ4   13-Week     4.361      98.93    98.924    5.81621e-5\n",
      "  912797NL7   26-Week     4.309     97.896    97.885    0.00011567\n",
      "  912797PT8    4-Week     4.293     99.674    99.671    2.92047e-5\n",
      "  912797QB6    8-Week     4.322     99.346    99.341    4.91926e-5\n",
      "  912797QV2   17-Week      4.35     98.606    98.601    5.10138e-5\n",
      "  912797NX1    6-Week     4.315     99.509    99.505     4.0674e-5\n",
      "  912797PP6   13-Week     4.392     98.922    98.916    5.91969e-5\n",
      "  912797QR1   26-Week     4.287     97.907    97.907    1.74162e-6\n",
      "  912797PS0    4-Week     4.293     99.674    99.671    2.92047e-5\n",
      "============ ========= ========= ========== ========= ==============\n"
     ]
    }
   ],
   "source": [
    "let \n",
    "\n",
    "    # Initialize a fresh model for each T-bill calculation\n",
    "    model = build(MyUSTreasuryZeroCouponBondModel, (\n",
    "        par = 100.0, n = 2\n",
    "    ));\n",
    "    \n",
    "    computed_price_table = DataFrame();\n",
    "    for i ∈ 1:number_of_bills\n",
    "        \n",
    "        # Extract market data for this T-bill\n",
    "        auction_price = dataset[i, :Price];  # Actual auction price from market\n",
    "        \n",
    "        # Set model parameters from dataset\n",
    "        model.T = dataset[i, Symbol(\"Security Term\")] |> String |> securityterm; # Convert term to years\n",
    "        model.rate = dataset[i, Symbol(\"Investment Rate\")];  # Discount rate for pricing\n",
    "            \n",
    "        # Compute theoretical price using NPV approach\n",
    "        price_computed = model |> discount_model |> x-> x.price; \n",
    "        \n",
    "        # Calculate pricing error as relative tolerance\n",
    "        absrtol = abs((auction_price - price_computed)/(price_computed)); \n",
    "        \n",
    "        # Store results for analysis\n",
    "        results_tuple = (\n",
    "            CUSIP = dataset[i, :CUSIP],\n",
    "            term = dataset[i, Symbol(\"Security Term\")],\n",
    "            rate = (dataset[i, Symbol(\"Investment Rate\")] |> x-> 100*x),  # Convert to percentage\n",
    "            computed =  price_computed |> x-> trunc(x, digits=3),\n",
    "            actual = auction_price |> x-> trunc(x, digits=3),\n",
    "            rtol = absrtol\n",
    "        );\n",
    "        push!(computed_price_table, results_tuple)\n",
    "    end\n",
    "    pretty_table(computed_price_table, tf=tf_simple)\n",
    "end"
   ]
  },
  {
   "cell_type": "markdown",
   "id": "3045b8d6",
   "metadata": {},
   "source": [
    "___"
   ]
  },
  {
   "cell_type": "markdown",
   "id": "98c7e092-dca7-4db7-b7c7-927fe831a41c",
   "metadata": {},
   "source": [
    "## Task 2: Compute the T-bill price versus the interest rate\n",
    "Malkiel proposed five theorems that govern the price of fixed-income debt securities, e.g., [Treasury Bills, Notes, and Bonds](https://www.treasurydirect.gov/marketable-securities/), as a function of duration and interest rate values:\n",
    "* [Malkiel, B. G. (1962). Expectations, Bond Prices, and the Term Structure of Interest Rates. The Quarterly Journal of Economics, 76(2), 197–218](https://www.jstor.org/stable/1880816)\n",
    "\n",
    "The first of these theorems is that T-bill/note/bond prices are inversely proportional to the yield (the investment rate for T-bills):\n",
    "> __Theorem 1__: Bond prices move inversely to bond yields.\n",
    "\n",
    "Malkiel proved Theorem 1 analytically (and we'll do the same next time). However, now, let's test this relationship computationally. \n",
    "\n",
    "First, select a random bill from the `dataset::DataFrame` by selecting an index from `1...number_of_bills` using [the built-in Julia `rand(...)` function](https://docs.julialang.org/en/v1/stdlib/Random/#Base.rand). We'll use this T-bill as our example to test __Theorem 1.__"
   ]
  },
  {
   "cell_type": "code",
   "execution_count": 71,
   "id": "9feef898-63cf-49eb-8b1e-24628aa83093",
   "metadata": {
    "tags": []
   },
   "outputs": [
    {
     "name": "stdout",
     "output_type": "stream",
     "text": [
      "Selected bill: 71\n"
     ]
    }
   ],
   "source": [
    "random_bill_index = rand(1:number_of_bills)\n",
    "println(\"Selected bill: $(random_bill_index)\")"
   ]
  },
  {
   "cell_type": "markdown",
   "id": "b0f00583",
   "metadata": {},
   "source": [
    "What is the data for our test T-bill?"
   ]
  },
  {
   "cell_type": "code",
   "execution_count": 73,
   "id": "59f826ea-3ef1-4ae1-9414-3060ccfa0e58",
   "metadata": {
    "tags": []
   },
   "outputs": [
    {
     "data": {
      "text/html": [
       "<div><div style = \"float: left;\"><span>DataFrameRow (8 columns)</span></div><div style = \"clear: both;\"></div></div><div class = \"data-frame\" style = \"overflow-x: scroll;\"><table class = \"data-frame\" style = \"margin-bottom: 6px;\"><thead><tr class = \"header\"><th class = \"rowLabel\" style = \"font-weight: bold; text-align: right;\">Row</th><th style = \"text-align: left;\">CUSIP</th><th style = \"text-align: left;\">Security Type</th><th style = \"text-align: left;\">Security Term</th><th style = \"text-align: left;\">Auction Date</th><th style = \"text-align: left;\">Issue Date</th><th style = \"text-align: left;\">Maturity Date</th><th style = \"text-align: left;\">Price</th><th style = \"text-align: left;\">Investment Rate</th></tr><tr class = \"subheader headerLastRow\"><th class = \"rowLabel\" style = \"font-weight: bold; text-align: right;\"></th><th title = \"String15\" style = \"text-align: left;\">String15</th><th title = \"String7\" style = \"text-align: left;\">String7</th><th title = \"String7\" style = \"text-align: left;\">String7</th><th title = \"String15\" style = \"text-align: left;\">String15</th><th title = \"String15\" style = \"text-align: left;\">String15</th><th title = \"String15\" style = \"text-align: left;\">String15</th><th title = \"Float64\" style = \"text-align: left;\">Float64</th><th title = \"Float64\" style = \"text-align: left;\">Float64</th></tr></thead><tbody><tr><td class = \"rowLabel\" style = \"font-weight: bold; text-align: right;\">71</td><td style = \"text-align: left;\">912797QA8</td><td style = \"text-align: left;\">Bill</td><td style = \"text-align: left;\">4-Week</td><td style = \"text-align: left;\">06/12/2025</td><td style = \"text-align: left;\">06/17/2025</td><td style = \"text-align: left;\">07/15/2025</td><td style = \"text-align: right;\">99.6827</td><td style = \"text-align: right;\">0.0415</td></tr></tbody></table></div>"
      ],
      "text/latex": [
       "\\begin{tabular}{r|ccccccc}\n",
       "\t& CUSIP & Security Type & Security Term & Auction Date & Issue Date & Maturity Date & \\\\\n",
       "\t\\hline\n",
       "\t& String15 & String7 & String7 & String15 & String15 & String15 & \\\\\n",
       "\t\\hline\n",
       "\t71 & 912797QA8 & Bill & 4-Week & 06/12/2025 & 06/17/2025 & 07/15/2025 & $\\dots$ \\\\\n",
       "\\end{tabular}\n"
      ],
      "text/plain": [
       "\u001b[1mDataFrameRow\u001b[0m\n",
       "\u001b[1m Row \u001b[0m│\u001b[1m CUSIP     \u001b[0m\u001b[1m Security Type \u001b[0m\u001b[1m Security Term \u001b[0m\u001b[1m Auction Date \u001b[0m\u001b[1m Issue Date \u001b[0m\u001b[1m Matu\u001b[0m ⋯\n",
       "     │\u001b[90m String15  \u001b[0m\u001b[90m String7       \u001b[0m\u001b[90m String7       \u001b[0m\u001b[90m String15     \u001b[0m\u001b[90m String15   \u001b[0m\u001b[90m Stri\u001b[0m ⋯\n",
       "─────┼──────────────────────────────────────────────────────────────────────────\n",
       "  71 │ 912797QA8  Bill           4-Week         06/12/2025    06/17/2025  07/1 ⋯\n",
       "\u001b[36m                                                               3 columns omitted\u001b[0m"
      ]
     },
     "execution_count": 73,
     "metadata": {},
     "output_type": "execute_result"
    }
   ],
   "source": [
    "dataset[random_bill_index,:] # what is the auction data for this bill?"
   ]
  },
  {
   "cell_type": "markdown",
   "id": "321b20fa-d36e-4cab-a30c-1b8a42cc94bc",
   "metadata": {},
   "source": [
    "Next, create an instance of [the `MyUSTreasuryZeroCouponBondModel` model](https://varnerlab.github.io/VLQuantitativeFinancePackage.jl/dev/fixed/#VLQuantitativeFinancePackage.MyUSTreasuryZeroCouponBondModel) from the randomly selected nominal auction data using [the `build(...)` method](https://varnerlab.github.io/VLQuantitativeFinancePackage.jl/dev/fixed/#VLQuantitativeFinancePackage.build-Tuple{Type{MyUSTreasuryZeroCouponBondModel},%20NamedTuple}), assuming a par value of `100 USD` with two compounding periods per year. These values will be passed as arguments to the [`build(...)` method](https://varnerlab.github.io/VLQuantitativeFinancePackage.jl/dev/fixed/#VLQuantitativeFinancePackage.build-Tuple{Type{MyUSTreasuryZeroCouponBondModel},%20NamedTuple}) in the `par` and `n` parameters. \n",
    "\n",
    "Update the rest of the parameters on the `zero_coupon_model` instance from the `dataset`. The resulting zero-coupon model will be stored in the `model::MyUSTreasuryZeroCouponBondModel` variable.\n",
    "\n",
    "See the [DataFrames.jl documentation for examples of accessing data from a `DataFrame` instance](https://dataframes.juliadata.org/stable/man/basics/). "
   ]
  },
  {
   "cell_type": "code",
   "execution_count": 75,
   "id": "be57be48-2ad0-41a0-a8d1-74c90a36bea6",
   "metadata": {
    "tags": []
   },
   "outputs": [],
   "source": [
    "zero_coupon_model = build(MyUSTreasuryZeroCouponBondModel, (\n",
    "    par = 100.0, n = 2, \n",
    "    T = dataset[random_bill_index, Symbol(\"Security Term\")] |> String |> securityterm,\n",
    "    rate =  dataset[random_bill_index, Symbol(\"Investment Rate\")]\n",
    ")) |> discount_model; "
   ]
  },
  {
   "cell_type": "markdown",
   "id": "78fb07e0-99a1-4b51-a26c-993b85fce609",
   "metadata": {},
   "source": [
    "#### Check: Is the computed price _similar_ to the auction price $V_{B}$?\n",
    "The [isapprox function](https://docs.julialang.org/en/v1/base/math/#Base.isapprox) checks the equality of numerical values up to some tolerance value, where either relative `rtol` or absolute tolerance `atol` can be specified. Let's use relative tolerance. \n",
    "\n",
    "> __Idea:__ If two values are within `rtol` of each other, the [isapprox function](https://docs.julialang.org/en/v1/base/math/#Base.isapprox) returns `true`; otherwise, it returns `false`. When the [isapprox function](https://docs.julialang.org/en/v1/base/math/#Base.isapprox) is combined with the [@assert macro](https://docs.julialang.org/en/v1/base/base/#Base.@assert), a `false` result generates an [AssertionError](https://docs.julialang.org/en/v1/base/base/#Core.AssertionError). Thus, we have a simple test for equality that works well for floating-point numbers.\n",
    "\n",
    "So, how did we do?"
   ]
  },
  {
   "cell_type": "code",
   "execution_count": 77,
   "id": "bffc26c7-e4c3-4545-bf0d-f3f67b0e01b1",
   "metadata": {
    "tags": []
   },
   "outputs": [],
   "source": [
    "auction_price = dataset[random_bill_index, :Price];\n",
    "computed_price = zero_coupon_model.price\n",
    "@assert isapprox(auction_price, computed_price; rtol=1e-4)"
   ]
  },
  {
   "cell_type": "markdown",
   "id": "8c11b399-ebae-4738-9f1d-2691ef68819a",
   "metadata": {},
   "source": [
    "#### Can we see the cash flow events?\n",
    "The cash flow events for the T-bill are stored in the `cashflow::Dict{Int64, Float64}` dictionary of the zero-coupon model. For a zero-coupon T-bill, there are only two cash flows:\n",
    "\n",
    ">__Zero-coupon cash flows:__ An initial investment (negative $V_{B}$ cash flow at time `0`), and the payoff of par value $V_{P}$ (positive cash flow) at maturity (at time `1`).\n",
    "\n",
    "Let's take a look at them."
   ]
  },
  {
   "cell_type": "code",
   "execution_count": 79,
   "id": "87944e33-f460-4e72-a3a8-4c89b432fcd2",
   "metadata": {},
   "outputs": [
    {
     "data": {
      "text/plain": [
       "Dict{Int64, Float64} with 2 entries:\n",
       "  0 => -99.6854\n",
       "  1 => 100.0"
      ]
     },
     "execution_count": 79,
     "metadata": {},
     "output_type": "execute_result"
    }
   ],
   "source": [
    "zero_coupon_model.cashflow"
   ]
  },
  {
   "cell_type": "markdown",
   "id": "e17ee52d-441a-4c89-a016-86d348c4c7f7",
   "metadata": {},
   "source": [
    "### Interest Rate Perturbation Setup\n",
    "To simulate the impact of changes in the interest rate, let's perturb the effective nominal interest rate $\\bar{r}$, with all other values held constant, i.e., generate a new rate of the form $\\bar{r}\\leftarrow\\beta\\cdot\\bar{r}$, where $\\beta$ is a perturbation value; if $\\beta<1$ the perturbed interest rate is _less than_ the nominal rate, if $\\beta=1$ the perturbed interest rate is _equal to_ the nominal rate, and if $\\beta>1$ the perturbed interest rate is _greater than_ the nominal rate.\n",
    "\n",
    "* First, we specify the number of perturbation values we want to consider; we store this value in the `number_of_samples` variable. If `number_of_samples` is odd, the perturbation range will include the nominal interest rate as the center value.\n",
    "* Next, we specify the lower and upper values of the perturbation range; the lower bound is stored in the `β₁` variable, while the upper bound is stored in the `β₂` variable.\n",
    "* Finally, we compute the perturbation array (stored in the `β`-variable) using the [range function](https://docs.julialang.org/en/v1/base/math/#Base.range) in combination with the [Julia pipe |> operator](https://docs.julialang.org/en/v1/manual/functions/#Function-composition-and-piping), and [the Julia collect function](https://docs.julialang.org/en/v1/base/collections/#Base.collect-Tuple{Type,%20Any}), which converts a range type to a collection, i.e., an array"
   ]
  },
  {
   "cell_type": "code",
   "execution_count": 35,
   "id": "19e90d17-897e-4407-9e42-ead7b464a504",
   "metadata": {},
   "outputs": [],
   "source": [
    "number_of_samples = 7;\n",
    "β₁ = 0.8;\n",
    "β₂ = 1.2;\n",
    "β = range(β₁, stop = β₂, length = number_of_samples) |> collect;"
   ]
  },
  {
   "cell_type": "markdown",
   "id": "4bcdf189-e492-4e2e-8329-012c05fe1d04",
   "metadata": {},
   "source": [
    "### Theorem 1 Simulation: Price vs. Interest Rate\n",
    "Compute the price of the selected T-bill using different values for the effective interest rate and store the results in the `theorem_1_simulation_array` variable. Iterate through each value of the $\\beta$ array using a for loop, where we use the [eachindex function](https://docs.julialang.org/en/v1/base/arrays/#Base.eachindex). \n",
    "\n",
    "For iteration $i$ of the loop:\n",
    "* Get a value for the perturbation $\\beta_{i}$ from the $\\beta$-array, and compute the new effective interest rate $\\bar{r} \\gets \\beta_{i}\\cdot{\\bar{r}}$.\n",
    "* Update the `zero_coupon_model` instance with the new rate (set the `rate` field), and compute the new price\n",
    "* Store the $\\beta_{i}$ value in column 1 and the percentage difference in price in column 2 of the `theorem_1_simulation_array`\n",
    "* Store the new value of the effective interest rate and the new price in columns 3 and 4, respectively. "
   ]
  },
  {
   "cell_type": "code",
   "execution_count": 81,
   "id": "70f9101b-f93c-4468-b29a-c6257ffb4581",
   "metadata": {
    "tags": []
   },
   "outputs": [
    {
     "data": {
      "text/plain": [
       "7×4 Matrix{Float64}:\n",
       " 0.8        0.0625236  0.0332     99.7477\n",
       " 0.866667   0.0416497  0.0359667  99.7269\n",
       " 0.933333   0.0208086  0.0387333  99.7061\n",
       " 1.0        0.0        0.0415     99.6854\n",
       " 1.06667   -0.0207761  0.0442667  99.6647\n",
       " 1.13333   -0.0415197  0.0470333  99.644\n",
       " 1.2       -0.0622311  0.0498     99.6234"
      ]
     },
     "execution_count": 81,
     "metadata": {},
     "output_type": "execute_result"
    }
   ],
   "source": [
    "theorem_1_simulation_array = let\n",
    "\n",
    "    # Initialize results matrix: [β_value, %_change, new_rate, new_price]\n",
    "    theorem_1_simulation_array = Array{Float64,2}(undef, number_of_samples, 4);\n",
    "    \n",
    "    # Test Malkiel's Theorem 1 by perturbing interest rates\n",
    "    for i ∈ eachindex(β)\n",
    "        \n",
    "        # Get perturbation factor for this iteration\n",
    "        β_value = β[i];\n",
    "        \n",
    "        # Calculate new interest rate: r̄_new = β * r̄_original\n",
    "        r̄ = dataset[random_bill_index, Symbol(\"Investment Rate\")];  # Original rate\n",
    "        r̄_value = β_value * r̄;  # Perturbed rate\n",
    "        \n",
    "        # Update model with new rate and compute price\n",
    "        zero_coupon_model.rate = r̄_value;\n",
    "        tmp = zero_coupon_model |> discount_model;\n",
    "        new_price = tmp.price;\n",
    "        \n",
    "        # Store results for analysis\n",
    "        theorem_1_simulation_array[i,1] = β_value;  # Perturbation factor\n",
    "        theorem_1_simulation_array[i,2] = ((new_price - computed_price)/(computed_price))*100;  # % price change\n",
    "        theorem_1_simulation_array[i,3] = r̄_value;  # New interest rate\n",
    "        theorem_1_simulation_array[i,4] = new_price;  # New price\n",
    "    end\n",
    "    theorem_1_simulation_array;\n",
    "end"
   ]
  },
  {
   "cell_type": "markdown",
   "id": "92580aee-434c-423a-b712-496de833a694",
   "metadata": {},
   "source": [
    "### Visualize the perturbation $\\beta$ versus the %-change in price\n",
    "`Unhide` the code block below to see how we plotted the percentage change in the T-bill price versus the $\\beta$-parameter (a surrogate for the effective interest rate). The case of $\\beta = 1$ denotes the nominal interest rate, $\\beta<1$ denotes decreased interest rates compared to the nominal value, and $\\beta>1$ denotes an increased interest rate.\n",
    "> __Expectation__: We expect the price of the T-bill to be inversely proportional to the $\\beta$-parameter, i.e., the effective interest rate of the instrument. If true, this would confirm  Theorem 1 by simulation.\n",
    "\n",
    "So what do we see?"
   ]
  },
  {
   "cell_type": "code",
   "execution_count": 39,
   "id": "5c6c834d-986d-4302-aca2-420b018bcc84",
   "metadata": {
    "jupyter": {
     "source_hidden": true
    },
    "tags": []
   },
   "outputs": [
    {
     "data": {
      "image/png": "[encoded data removed]",
      "image/svg+xml": [
       "<?xml version=\"1.0\" encoding=\"utf-8\"?>\n",
       "<svg xmlns=\"http://www.w3.org/2000/svg\" xmlns:xlink=\"http://www.w3.org/1999/xlink\" width=\"600\" height=\"400\" viewBox=\"0 0 2400 1600\">\n",
       "<defs>\n",
       "  <clipPath id=\"clip000\">\n",
       "    <rect x=\"0\" y=\"0\" width=\"2400\" height=\"1600\"/>\n",
       "  </clipPath>\n",
       "</defs>\n",
       "<path clip-path=\"url(#clip000)\" d=\"M0 1600 L2400 1600 L2400 8.88178e-14 L0 8.88178e-14  Z\" fill=\"#ffffff\" fill-rule=\"evenodd\" fill-opacity=\"1\"/>\n",
       "<defs>\n",
       "  <clipPath id=\"clip001\">\n",
       "    <rect x=\"480\" y=\"0\" width=\"1681\" height=\"1600\"/>\n",
       "  </clipPath>\n",
       "</defs>\n",
       "<path clip-path=\"url(#clip000)\" d=\"M255.977 1423.18 L2352.76 1423.18 L2352.76 47.2441 L255.977 47.2441  Z\" fill=\"#f2f2f2\" fill-rule=\"evenodd\" fill-opacity=\"1\"/>\n",
       "<defs>\n",
       "  <clipPath id=\"clip002\">\n",
       "    <rect x=\"255\" y=\"47\" width=\"2098\" height=\"1377\"/>\n",
       "  </clipPath>\n",
       "</defs>\n",
       "<polyline clip-path=\"url(#clip002)\" style=\"stroke:#000000; stroke-linecap:round; stroke-linejoin:round; stroke-width:2; stroke-opacity:0.1; fill:none\" points=\"315.32,1423.18 315.32,47.2441 \"/>\n",
       "<polyline clip-path=\"url(#clip002)\" style=\"stroke:#000000; stroke-linecap:round; stroke-linejoin:round; stroke-width:2; stroke-opacity:0.1; fill:none\" points=\"809.843,1423.18 809.843,47.2441 \"/>\n",
       "<polyline clip-path=\"url(#clip002)\" style=\"stroke:#000000; stroke-linecap:round; stroke-linejoin:round; stroke-width:2; stroke-opacity:0.1; fill:none\" points=\"1304.37,1423.18 1304.37,47.2441 \"/>\n",
       "<polyline clip-path=\"url(#clip002)\" style=\"stroke:#000000; stroke-linecap:round; stroke-linejoin:round; stroke-width:2; stroke-opacity:0.1; fill:none\" points=\"1798.89,1423.18 1798.89,47.2441 \"/>\n",
       "<polyline clip-path=\"url(#clip002)\" style=\"stroke:#000000; stroke-linecap:round; stroke-linejoin:round; stroke-width:2; stroke-opacity:0.1; fill:none\" points=\"2293.41,1423.18 2293.41,47.2441 \"/>\n",
       "<polyline clip-path=\"url(#clip002)\" style=\"stroke:#000000; stroke-linecap:round; stroke-linejoin:round; stroke-width:2; stroke-opacity:0.1; fill:none\" points=\"315.32,1423.18 315.32,47.2441 \"/>\n",
       "<polyline clip-path=\"url(#clip002)\" style=\"stroke:#000000; stroke-linecap:round; stroke-linejoin:round; stroke-width:2; stroke-opacity:0.1; fill:none\" points=\"809.843,1423.18 809.843,47.2441 \"/>\n",
       "<polyline clip-path=\"url(#clip002)\" style=\"stroke:#000000; stroke-linecap:round; stroke-linejoin:round; stroke-width:2; stroke-opacity:0.1; fill:none\" points=\"1304.37,1423.18 1304.37,47.2441 \"/>\n",
       "<polyline clip-path=\"url(#clip002)\" style=\"stroke:#000000; stroke-linecap:round; stroke-linejoin:round; stroke-width:2; stroke-opacity:0.1; fill:none\" points=\"1798.89,1423.18 1798.89,47.2441 \"/>\n",
       "<polyline clip-path=\"url(#clip002)\" style=\"stroke:#000000; stroke-linecap:round; stroke-linejoin:round; stroke-width:2; stroke-opacity:0.1; fill:none\" points=\"2293.41,1423.18 2293.41,47.2441 \"/>\n",
       "<polyline clip-path=\"url(#clip002)\" style=\"stroke:#000000; stroke-linecap:round; stroke-linejoin:round; stroke-width:2; stroke-opacity:0.1; fill:none\" points=\"255.977,1348.6 2352.76,1348.6 \"/>\n",
       "<polyline clip-path=\"url(#clip002)\" style=\"stroke:#000000; stroke-linecap:round; stroke-linejoin:round; stroke-width:2; stroke-opacity:0.1; fill:none\" points=\"255.977,1042.94 2352.76,1042.94 \"/>\n",
       "<polyline clip-path=\"url(#clip002)\" style=\"stroke:#000000; stroke-linecap:round; stroke-linejoin:round; stroke-width:2; stroke-opacity:0.1; fill:none\" points=\"255.977,737.283 2352.76,737.283 \"/>\n",
       "<polyline clip-path=\"url(#clip002)\" style=\"stroke:#000000; stroke-linecap:round; stroke-linejoin:round; stroke-width:2; stroke-opacity:0.1; fill:none\" points=\"255.977,431.624 2352.76,431.624 \"/>\n",
       "<polyline clip-path=\"url(#clip002)\" style=\"stroke:#000000; stroke-linecap:round; stroke-linejoin:round; stroke-width:2; stroke-opacity:0.1; fill:none\" points=\"255.977,125.966 2352.76,125.966 \"/>\n",
       "<polyline clip-path=\"url(#clip002)\" style=\"stroke:#000000; stroke-linecap:round; stroke-linejoin:round; stroke-width:2; stroke-opacity:0.1; fill:none\" points=\"255.977,1348.6 2352.76,1348.6 \"/>\n",
       "<polyline clip-path=\"url(#clip002)\" style=\"stroke:#000000; stroke-linecap:round; stroke-linejoin:round; stroke-width:2; stroke-opacity:0.1; fill:none\" points=\"255.977,1042.94 2352.76,1042.94 \"/>\n",
       "<polyline clip-path=\"url(#clip002)\" style=\"stroke:#000000; stroke-linecap:round; stroke-linejoin:round; stroke-width:2; stroke-opacity:0.1; fill:none\" points=\"255.977,737.283 2352.76,737.283 \"/>\n",
       "<polyline clip-path=\"url(#clip002)\" style=\"stroke:#000000; stroke-linecap:round; stroke-linejoin:round; stroke-width:2; stroke-opacity:0.1; fill:none\" points=\"255.977,431.624 2352.76,431.624 \"/>\n",
       "<polyline clip-path=\"url(#clip002)\" style=\"stroke:#000000; stroke-linecap:round; stroke-linejoin:round; stroke-width:2; stroke-opacity:0.1; fill:none\" points=\"255.977,125.966 2352.76,125.966 \"/>\n",
       "<polyline clip-path=\"url(#clip000)\" style=\"stroke:#000000; stroke-linecap:round; stroke-linejoin:round; stroke-width:4; stroke-opacity:1; fill:none\" points=\"255.977,1423.18 2352.76,1423.18 \"/>\n",
       "<polyline clip-path=\"url(#clip000)\" style=\"stroke:#000000; stroke-linecap:round; stroke-linejoin:round; stroke-width:4; stroke-opacity:1; fill:none\" points=\"255.977,47.2441 2352.76,47.2441 \"/>\n",
       "<polyline clip-path=\"url(#clip000)\" style=\"stroke:#000000; stroke-linecap:round; stroke-linejoin:round; stroke-width:4; stroke-opacity:1; fill:none\" points=\"315.32,1423.18 315.32,1404.28 \"/>\n",
       "<polyline clip-path=\"url(#clip000)\" style=\"stroke:#000000; stroke-linecap:round; stroke-linejoin:round; stroke-width:4; stroke-opacity:1; fill:none\" points=\"809.843,1423.18 809.843,1404.28 \"/>\n",
       "<polyline clip-path=\"url(#clip000)\" style=\"stroke:#000000; stroke-linecap:round; stroke-linejoin:round; stroke-width:4; stroke-opacity:1; fill:none\" points=\"1304.37,1423.18 1304.37,1404.28 \"/>\n",
       "<polyline clip-path=\"url(#clip000)\" style=\"stroke:#000000; stroke-linecap:round; stroke-linejoin:round; stroke-width:4; stroke-opacity:1; fill:none\" points=\"1798.89,1423.18 1798.89,1404.28 \"/>\n",
       "<polyline clip-path=\"url(#clip000)\" style=\"stroke:#000000; stroke-linecap:round; stroke-linejoin:round; stroke-width:4; stroke-opacity:1; fill:none\" points=\"2293.41,1423.18 2293.41,1404.28 \"/>\n",
       "<polyline clip-path=\"url(#clip000)\" style=\"stroke:#000000; stroke-linecap:round; stroke-linejoin:round; stroke-width:4; stroke-opacity:1; fill:none\" points=\"315.32,47.2441 315.32,66.1417 \"/>\n",
       "<polyline clip-path=\"url(#clip000)\" style=\"stroke:#000000; stroke-linecap:round; stroke-linejoin:round; stroke-width:4; stroke-opacity:1; fill:none\" points=\"809.843,47.2441 809.843,66.1417 \"/>\n",
       "<polyline clip-path=\"url(#clip000)\" style=\"stroke:#000000; stroke-linecap:round; stroke-linejoin:round; stroke-width:4; stroke-opacity:1; fill:none\" points=\"1304.37,47.2441 1304.37,66.1417 \"/>\n",
       "<polyline clip-path=\"url(#clip000)\" style=\"stroke:#000000; stroke-linecap:round; stroke-linejoin:round; stroke-width:4; stroke-opacity:1; fill:none\" points=\"1798.89,47.2441 1798.89,66.1417 \"/>\n",
       "<polyline clip-path=\"url(#clip000)\" style=\"stroke:#000000; stroke-linecap:round; stroke-linejoin:round; stroke-width:4; stroke-opacity:1; fill:none\" points=\"2293.41,47.2441 2293.41,66.1417 \"/>\n",
       "<path clip-path=\"url(#clip000)\" d=\"M292.751 1454.1 Q289.14 1454.1 287.311 1457.66 Q285.505 1461.2 285.505 1468.33 Q285.505 1475.44 287.311 1479.01 Q289.14 1482.55 292.751 1482.55 Q296.385 1482.55 298.19 1479.01 Q300.019 1475.44 300.019 1468.33 Q300.019 1461.2 298.19 1457.66 Q296.385 1454.1 292.751 1454.1 M292.751 1450.39 Q298.561 1450.39 301.616 1455 Q304.695 1459.58 304.695 1468.33 Q304.695 1477.06 301.616 1481.67 Q298.561 1486.25 292.751 1486.25 Q286.941 1486.25 283.862 1481.67 Q280.806 1477.06 280.806 1468.33 Q280.806 1459.58 283.862 1455 Q286.941 1450.39 292.751 1450.39 Z\" fill=\"#000000\" fill-rule=\"nonzero\" fill-opacity=\"1\" /><path clip-path=\"url(#clip000)\" d=\"M312.913 1479.7 L317.797 1479.7 L317.797 1485.58 L312.913 1485.58 L312.913 1479.7 Z\" fill=\"#000000\" fill-rule=\"nonzero\" fill-opacity=\"1\" /><path clip-path=\"url(#clip000)\" d=\"M337.982 1469.17 Q334.649 1469.17 332.727 1470.95 Q330.829 1472.73 330.829 1475.86 Q330.829 1478.98 332.727 1480.77 Q334.649 1482.55 337.982 1482.55 Q341.315 1482.55 343.236 1480.77 Q345.158 1478.96 345.158 1475.86 Q345.158 1472.73 343.236 1470.95 Q341.338 1469.17 337.982 1469.17 M333.306 1467.18 Q330.297 1466.44 328.607 1464.38 Q326.94 1462.32 326.94 1459.35 Q326.94 1455.21 329.88 1452.8 Q332.843 1450.39 337.982 1450.39 Q343.144 1450.39 346.084 1452.8 Q349.024 1455.21 349.024 1459.35 Q349.024 1462.32 347.334 1464.38 Q345.667 1466.44 342.681 1467.18 Q346.061 1467.96 347.936 1470.26 Q349.834 1472.55 349.834 1475.86 Q349.834 1480.88 346.755 1483.57 Q343.699 1486.25 337.982 1486.25 Q332.264 1486.25 329.186 1483.57 Q326.13 1480.88 326.13 1475.86 Q326.13 1472.55 328.028 1470.26 Q329.926 1467.96 333.306 1467.18 M331.593 1459.79 Q331.593 1462.48 333.26 1463.98 Q334.95 1465.49 337.982 1465.49 Q340.991 1465.49 342.681 1463.98 Q344.394 1462.48 344.394 1459.79 Q344.394 1457.11 342.681 1455.6 Q340.991 1454.1 337.982 1454.1 Q334.95 1454.1 333.26 1455.6 Q331.593 1457.11 331.593 1459.79 Z\" fill=\"#000000\" fill-rule=\"nonzero\" fill-opacity=\"1\" /><path clip-path=\"url(#clip000)\" d=\"M787.32 1454.1 Q783.709 1454.1 781.88 1457.66 Q780.075 1461.2 780.075 1468.33 Q780.075 1475.44 781.88 1479.01 Q783.709 1482.55 787.32 1482.55 Q790.954 1482.55 792.76 1479.01 Q794.589 1475.44 794.589 1468.33 Q794.589 1461.2 792.76 1457.66 Q790.954 1454.1 787.32 1454.1 M787.32 1450.39 Q793.13 1450.39 796.186 1455 Q799.265 1459.58 799.265 1468.33 Q799.265 1477.06 796.186 1481.67 Q793.13 1486.25 787.32 1486.25 Q781.51 1486.25 778.431 1481.67 Q775.376 1477.06 775.376 1468.33 Q775.376 1459.58 778.431 1455 Q781.51 1450.39 787.32 1450.39 Z\" fill=\"#000000\" fill-rule=\"nonzero\" fill-opacity=\"1\" /><path clip-path=\"url(#clip000)\" d=\"M807.482 1479.7 L812.366 1479.7 L812.366 1485.58 L807.482 1485.58 L807.482 1479.7 Z\" fill=\"#000000\" fill-rule=\"nonzero\" fill-opacity=\"1\" /><path clip-path=\"url(#clip000)\" d=\"M822.69 1484.86 L822.69 1480.6 Q824.45 1481.44 826.255 1481.88 Q828.061 1482.32 829.797 1482.32 Q834.426 1482.32 836.857 1479.21 Q839.311 1476.09 839.658 1469.75 Q838.315 1471.74 836.255 1472.8 Q834.195 1473.87 831.695 1473.87 Q826.51 1473.87 823.477 1470.74 Q820.468 1467.59 820.468 1462.15 Q820.468 1456.83 823.616 1453.61 Q826.764 1450.39 831.996 1450.39 Q837.991 1450.39 841.139 1455 Q844.311 1459.58 844.311 1468.33 Q844.311 1476.51 840.422 1481.39 Q836.556 1486.25 830.005 1486.25 Q828.246 1486.25 826.44 1485.9 Q824.635 1485.56 822.69 1484.86 M831.996 1470.21 Q835.144 1470.21 836.973 1468.06 Q838.825 1465.9 838.825 1462.15 Q838.825 1458.43 836.973 1456.27 Q835.144 1454.1 831.996 1454.1 Q828.848 1454.1 826.996 1456.27 Q825.167 1458.43 825.167 1462.15 Q825.167 1465.9 826.996 1468.06 Q828.848 1470.21 831.996 1470.21 Z\" fill=\"#000000\" fill-rule=\"nonzero\" fill-opacity=\"1\" /><path clip-path=\"url(#clip000)\" d=\"M1271.52 1481.64 L1279.16 1481.64 L1279.16 1455.28 L1270.85 1456.95 L1270.85 1452.69 L1279.11 1451.02 L1283.79 1451.02 L1283.79 1481.64 L1291.43 1481.64 L1291.43 1485.58 L1271.52 1485.58 L1271.52 1481.64 Z\" fill=\"#000000\" fill-rule=\"nonzero\" fill-opacity=\"1\" /><path clip-path=\"url(#clip000)\" d=\"M1300.87 1479.7 L1305.76 1479.7 L1305.76 1485.58 L1300.87 1485.58 L1300.87 1479.7 Z\" fill=\"#000000\" fill-rule=\"nonzero\" fill-opacity=\"1\" /><path clip-path=\"url(#clip000)\" d=\"M1325.94 1454.1 Q1322.33 1454.1 1320.5 1457.66 Q1318.7 1461.2 1318.7 1468.33 Q1318.7 1475.44 1320.5 1479.01 Q1322.33 1482.55 1325.94 1482.55 Q1329.57 1482.55 1331.38 1479.01 Q1333.21 1475.44 1333.21 1468.33 Q1333.21 1461.2 1331.38 1457.66 Q1329.57 1454.1 1325.94 1454.1 M1325.94 1450.39 Q1331.75 1450.39 1334.81 1455 Q1337.88 1459.58 1337.88 1468.33 Q1337.88 1477.06 1334.81 1481.67 Q1331.75 1486.25 1325.94 1486.25 Q1320.13 1486.25 1317.05 1481.67 Q1314 1477.06 1314 1468.33 Q1314 1459.58 1317.05 1455 Q1320.13 1450.39 1325.94 1450.39 Z\" fill=\"#000000\" fill-rule=\"nonzero\" fill-opacity=\"1\" /><path clip-path=\"url(#clip000)\" d=\"M1766.66 1481.64 L1774.3 1481.64 L1774.3 1455.28 L1765.98 1456.95 L1765.98 1452.69 L1774.25 1451.02 L1778.92 1451.02 L1778.92 1481.64 L1786.56 1481.64 L1786.56 1485.58 L1766.66 1485.58 L1766.66 1481.64 Z\" fill=\"#000000\" fill-rule=\"nonzero\" fill-opacity=\"1\" /><path clip-path=\"url(#clip000)\" d=\"M1796.01 1479.7 L1800.89 1479.7 L1800.89 1485.58 L1796.01 1485.58 L1796.01 1479.7 Z\" fill=\"#000000\" fill-rule=\"nonzero\" fill-opacity=\"1\" /><path clip-path=\"url(#clip000)\" d=\"M1811.89 1481.64 L1819.53 1481.64 L1819.53 1455.28 L1811.22 1456.95 L1811.22 1452.69 L1819.48 1451.02 L1824.16 1451.02 L1824.16 1481.64 L1831.79 1481.64 L1831.79 1485.58 L1811.89 1485.58 L1811.89 1481.64 Z\" fill=\"#000000\" fill-rule=\"nonzero\" fill-opacity=\"1\" /><path clip-path=\"url(#clip000)\" d=\"M2261.36 1481.64 L2269 1481.64 L2269 1455.28 L2260.69 1456.95 L2260.69 1452.69 L2268.96 1451.02 L2273.63 1451.02 L2273.63 1481.64 L2281.27 1481.64 L2281.27 1485.58 L2261.36 1485.58 L2261.36 1481.64 Z\" fill=\"#000000\" fill-rule=\"nonzero\" fill-opacity=\"1\" /><path clip-path=\"url(#clip000)\" d=\"M2290.72 1479.7 L2295.6 1479.7 L2295.6 1485.58 L2290.72 1485.58 L2290.72 1479.7 Z\" fill=\"#000000\" fill-rule=\"nonzero\" fill-opacity=\"1\" /><path clip-path=\"url(#clip000)\" d=\"M2309.81 1481.64 L2326.13 1481.64 L2326.13 1485.58 L2304.19 1485.58 L2304.19 1481.64 Q2306.85 1478.89 2311.43 1474.26 Q2316.04 1469.61 2317.22 1468.27 Q2319.47 1465.74 2320.35 1464.01 Q2321.25 1462.25 2321.25 1460.56 Q2321.25 1457.8 2319.3 1456.07 Q2317.38 1454.33 2314.28 1454.33 Q2312.08 1454.33 2309.63 1455.09 Q2307.2 1455.86 2304.42 1457.41 L2304.42 1452.69 Q2307.24 1451.55 2309.7 1450.97 Q2312.15 1450.39 2314.19 1450.39 Q2319.56 1450.39 2322.75 1453.08 Q2325.95 1455.77 2325.95 1460.26 Q2325.95 1462.39 2325.14 1464.31 Q2324.35 1466.2 2322.24 1468.8 Q2321.67 1469.47 2318.56 1472.69 Q2315.46 1475.88 2309.81 1481.64 Z\" fill=\"#000000\" fill-rule=\"nonzero\" fill-opacity=\"1\" /><path clip-path=\"url(#clip000)\" d=\"M1294.85 1565.85 L1294.85 1581.6 L1288.96 1581.6 L1288.96 1532.62 Q1288.96 1518.1 1302.52 1518.1 Q1316.33 1518.1 1316.33 1530.36 Q1316.33 1539.08 1310.86 1542.26 Q1319.77 1545.13 1319.77 1553.63 Q1319.77 1568.71 1304.43 1568.71 Q1297.68 1568.71 1294.85 1565.85 M1294.85 1558.21 Q1298.38 1563.72 1304.65 1563.72 Q1313.82 1563.72 1313.82 1553.72 Q1313.82 1544.75 1299.05 1545.45 L1299.05 1540.03 Q1310.6 1540.03 1310.6 1529.85 Q1310.6 1522.88 1303.16 1522.88 Q1294.85 1522.88 1294.85 1532.81 L1294.85 1558.21 Z\" fill=\"#000000\" fill-rule=\"nonzero\" fill-opacity=\"1\" /><polyline clip-path=\"url(#clip000)\" style=\"stroke:#000000; stroke-linecap:round; stroke-linejoin:round; stroke-width:4; stroke-opacity:1; fill:none\" points=\"255.977,1423.18 255.977,47.2441 \"/>\n",
       "<polyline clip-path=\"url(#clip000)\" style=\"stroke:#000000; stroke-linecap:round; stroke-linejoin:round; stroke-width:4; stroke-opacity:1; fill:none\" points=\"2352.76,1423.18 2352.76,47.2441 \"/>\n",
       "<polyline clip-path=\"url(#clip000)\" style=\"stroke:#000000; stroke-linecap:round; stroke-linejoin:round; stroke-width:4; stroke-opacity:1; fill:none\" points=\"255.977,1348.6 274.875,1348.6 \"/>\n",
       "<polyline clip-path=\"url(#clip000)\" style=\"stroke:#000000; stroke-linecap:round; stroke-linejoin:round; stroke-width:4; stroke-opacity:1; fill:none\" points=\"255.977,1042.94 274.875,1042.94 \"/>\n",
       "<polyline clip-path=\"url(#clip000)\" style=\"stroke:#000000; stroke-linecap:round; stroke-linejoin:round; stroke-width:4; stroke-opacity:1; fill:none\" points=\"255.977,737.283 274.875,737.283 \"/>\n",
       "<polyline clip-path=\"url(#clip000)\" style=\"stroke:#000000; stroke-linecap:round; stroke-linejoin:round; stroke-width:4; stroke-opacity:1; fill:none\" points=\"255.977,431.624 274.875,431.624 \"/>\n",
       "<polyline clip-path=\"url(#clip000)\" style=\"stroke:#000000; stroke-linecap:round; stroke-linejoin:round; stroke-width:4; stroke-opacity:1; fill:none\" points=\"255.977,125.966 274.875,125.966 \"/>\n",
       "<polyline clip-path=\"url(#clip000)\" style=\"stroke:#000000; stroke-linecap:round; stroke-linejoin:round; stroke-width:4; stroke-opacity:1; fill:none\" points=\"2352.76,1348.6 2333.86,1348.6 \"/>\n",
       "<polyline clip-path=\"url(#clip000)\" style=\"stroke:#000000; stroke-linecap:round; stroke-linejoin:round; stroke-width:4; stroke-opacity:1; fill:none\" points=\"2352.76,1042.94 2333.86,1042.94 \"/>\n",
       "<polyline clip-path=\"url(#clip000)\" style=\"stroke:#000000; stroke-linecap:round; stroke-linejoin:round; stroke-width:4; stroke-opacity:1; fill:none\" points=\"2352.76,737.283 2333.86,737.283 \"/>\n",
       "<polyline clip-path=\"url(#clip000)\" style=\"stroke:#000000; stroke-linecap:round; stroke-linejoin:round; stroke-width:4; stroke-opacity:1; fill:none\" points=\"2352.76,431.624 2333.86,431.624 \"/>\n",
       "<polyline clip-path=\"url(#clip000)\" style=\"stroke:#000000; stroke-linecap:round; stroke-linejoin:round; stroke-width:4; stroke-opacity:1; fill:none\" points=\"2352.76,125.966 2333.86,125.966 \"/>\n",
       "<path clip-path=\"url(#clip000)\" d=\"M114.631 1349.05 L144.306 1349.05 L144.306 1352.99 L114.631 1352.99 L114.631 1349.05 Z\" fill=\"#000000\" fill-rule=\"nonzero\" fill-opacity=\"1\" /><path clip-path=\"url(#clip000)\" d=\"M164.399 1334.4 Q160.788 1334.4 158.959 1337.96 Q157.153 1341.51 157.153 1348.63 Q157.153 1355.74 158.959 1359.31 Q160.788 1362.85 164.399 1362.85 Q168.033 1362.85 169.839 1359.31 Q171.667 1355.74 171.667 1348.63 Q171.667 1341.51 169.839 1337.96 Q168.033 1334.4 164.399 1334.4 M164.399 1330.7 Q170.209 1330.7 173.264 1335.3 Q176.343 1339.88 176.343 1348.63 Q176.343 1357.36 173.264 1361.97 Q170.209 1366.55 164.399 1366.55 Q158.589 1366.55 155.51 1361.97 Q152.454 1357.36 152.454 1348.63 Q152.454 1339.88 155.51 1335.3 Q158.589 1330.7 164.399 1330.7 Z\" fill=\"#000000\" fill-rule=\"nonzero\" fill-opacity=\"1\" /><path clip-path=\"url(#clip000)\" d=\"M184.561 1360 L189.445 1360 L189.445 1365.88 L184.561 1365.88 L184.561 1360 Z\" fill=\"#000000\" fill-rule=\"nonzero\" fill-opacity=\"1\" /><path clip-path=\"url(#clip000)\" d=\"M203.658 1361.94 L219.977 1361.94 L219.977 1365.88 L198.033 1365.88 L198.033 1361.94 Q200.695 1359.19 205.278 1354.56 Q209.885 1349.91 211.065 1348.57 Q213.311 1346.04 214.19 1344.31 Q215.093 1342.55 215.093 1340.86 Q215.093 1338.1 213.149 1336.37 Q211.227 1334.63 208.125 1334.63 Q205.926 1334.63 203.473 1335.39 Q201.042 1336.16 198.264 1337.71 L198.264 1332.99 Q201.088 1331.85 203.542 1331.27 Q205.996 1330.7 208.033 1330.7 Q213.403 1330.7 216.598 1333.38 Q219.792 1336.07 219.792 1340.56 Q219.792 1342.69 218.982 1344.61 Q218.195 1346.51 216.088 1349.1 Q215.51 1349.77 212.408 1352.99 Q209.306 1356.18 203.658 1361.94 Z\" fill=\"#000000\" fill-rule=\"nonzero\" fill-opacity=\"1\" /><path clip-path=\"url(#clip000)\" d=\"M114.26 1043.39 L143.936 1043.39 L143.936 1047.33 L114.26 1047.33 L114.26 1043.39 Z\" fill=\"#000000\" fill-rule=\"nonzero\" fill-opacity=\"1\" /><path clip-path=\"url(#clip000)\" d=\"M164.028 1028.74 Q160.417 1028.74 158.589 1032.3 Q156.783 1035.85 156.783 1042.98 Q156.783 1050.08 158.589 1053.65 Q160.417 1057.19 164.028 1057.19 Q167.663 1057.19 169.468 1053.65 Q171.297 1050.08 171.297 1042.98 Q171.297 1035.85 169.468 1032.3 Q167.663 1028.74 164.028 1028.74 M164.028 1025.04 Q169.839 1025.04 172.894 1029.64 Q175.973 1034.23 175.973 1042.98 Q175.973 1051.7 172.894 1056.31 Q169.839 1060.89 164.028 1060.89 Q158.218 1060.89 155.14 1056.31 Q152.084 1051.7 152.084 1042.98 Q152.084 1034.23 155.14 1029.64 Q158.218 1025.04 164.028 1025.04 Z\" fill=\"#000000\" fill-rule=\"nonzero\" fill-opacity=\"1\" /><path clip-path=\"url(#clip000)\" d=\"M184.19 1054.34 L189.075 1054.34 L189.075 1060.22 L184.19 1060.22 L184.19 1054.34 Z\" fill=\"#000000\" fill-rule=\"nonzero\" fill-opacity=\"1\" /><path clip-path=\"url(#clip000)\" d=\"M200.07 1056.29 L207.709 1056.29 L207.709 1029.92 L199.399 1031.59 L199.399 1027.33 L207.662 1025.66 L212.338 1025.66 L212.338 1056.29 L219.977 1056.29 L219.977 1060.22 L200.07 1060.22 L200.07 1056.29 Z\" fill=\"#000000\" fill-rule=\"nonzero\" fill-opacity=\"1\" /><path clip-path=\"url(#clip000)\" d=\"M162.802 723.082 Q159.19 723.082 157.362 726.646 Q155.556 730.188 155.556 737.318 Q155.556 744.424 157.362 747.989 Q159.19 751.531 162.802 751.531 Q166.436 751.531 168.241 747.989 Q170.07 744.424 170.07 737.318 Q170.07 730.188 168.241 726.646 Q166.436 723.082 162.802 723.082 M162.802 719.378 Q168.612 719.378 171.667 723.984 Q174.746 728.568 174.746 737.318 Q174.746 746.044 171.667 750.651 Q168.612 755.234 162.802 755.234 Q156.991 755.234 153.913 750.651 Q150.857 746.044 150.857 737.318 Q150.857 728.568 153.913 723.984 Q156.991 719.378 162.802 719.378 Z\" fill=\"#000000\" fill-rule=\"nonzero\" fill-opacity=\"1\" /><path clip-path=\"url(#clip000)\" d=\"M182.963 748.683 L187.848 748.683 L187.848 754.563 L182.963 754.563 L182.963 748.683 Z\" fill=\"#000000\" fill-rule=\"nonzero\" fill-opacity=\"1\" /><path clip-path=\"url(#clip000)\" d=\"M208.033 723.082 Q204.422 723.082 202.593 726.646 Q200.787 730.188 200.787 737.318 Q200.787 744.424 202.593 747.989 Q204.422 751.531 208.033 751.531 Q211.667 751.531 213.473 747.989 Q215.301 744.424 215.301 737.318 Q215.301 730.188 213.473 726.646 Q211.667 723.082 208.033 723.082 M208.033 719.378 Q213.843 719.378 216.898 723.984 Q219.977 728.568 219.977 737.318 Q219.977 746.044 216.898 750.651 Q213.843 755.234 208.033 755.234 Q202.223 755.234 199.144 750.651 Q196.088 746.044 196.088 737.318 Q196.088 728.568 199.144 723.984 Q202.223 719.378 208.033 719.378 Z\" fill=\"#000000\" fill-rule=\"nonzero\" fill-opacity=\"1\" /><path clip-path=\"url(#clip000)\" d=\"M164.028 417.423 Q160.417 417.423 158.589 420.988 Q156.783 424.53 156.783 431.659 Q156.783 438.766 158.589 442.33 Q160.417 445.872 164.028 445.872 Q167.663 445.872 169.468 442.33 Q171.297 438.766 171.297 431.659 Q171.297 424.53 169.468 420.988 Q167.663 417.423 164.028 417.423 M164.028 413.719 Q169.839 413.719 172.894 418.326 Q175.973 422.909 175.973 431.659 Q175.973 440.386 172.894 444.992 Q169.839 449.576 164.028 449.576 Q158.218 449.576 155.14 444.992 Q152.084 440.386 152.084 431.659 Q152.084 422.909 155.14 418.326 Q158.218 413.719 164.028 413.719 Z\" fill=\"#000000\" fill-rule=\"nonzero\" fill-opacity=\"1\" /><path clip-path=\"url(#clip000)\" d=\"M184.19 443.025 L189.075 443.025 L189.075 448.904 L184.19 448.904 L184.19 443.025 Z\" fill=\"#000000\" fill-rule=\"nonzero\" fill-opacity=\"1\" /><path clip-path=\"url(#clip000)\" d=\"M200.07 444.969 L207.709 444.969 L207.709 418.604 L199.399 420.27 L199.399 416.011 L207.662 414.344 L212.338 414.344 L212.338 444.969 L219.977 444.969 L219.977 448.904 L200.07 448.904 L200.07 444.969 Z\" fill=\"#000000\" fill-rule=\"nonzero\" fill-opacity=\"1\" /><path clip-path=\"url(#clip000)\" d=\"M164.399 111.765 Q160.788 111.765 158.959 115.329 Q157.153 118.871 157.153 126.001 Q157.153 133.107 158.959 136.672 Q160.788 140.213 164.399 140.213 Q168.033 140.213 169.839 136.672 Q171.667 133.107 171.667 126.001 Q171.667 118.871 169.839 115.329 Q168.033 111.765 164.399 111.765 M164.399 108.061 Q170.209 108.061 173.264 112.667 Q176.343 117.251 176.343 126.001 Q176.343 134.727 173.264 139.334 Q170.209 143.917 164.399 143.917 Q158.589 143.917 155.51 139.334 Q152.454 134.727 152.454 126.001 Q152.454 117.251 155.51 112.667 Q158.589 108.061 164.399 108.061 Z\" fill=\"#000000\" fill-rule=\"nonzero\" fill-opacity=\"1\" /><path clip-path=\"url(#clip000)\" d=\"M184.561 137.366 L189.445 137.366 L189.445 143.246 L184.561 143.246 L184.561 137.366 Z\" fill=\"#000000\" fill-rule=\"nonzero\" fill-opacity=\"1\" /><path clip-path=\"url(#clip000)\" d=\"M203.658 139.311 L219.977 139.311 L219.977 143.246 L198.033 143.246 L198.033 139.311 Q200.695 136.556 205.278 131.926 Q209.885 127.274 211.065 125.931 Q213.311 123.408 214.19 121.672 Q215.093 119.913 215.093 118.223 Q215.093 115.468 213.149 113.732 Q211.227 111.996 208.125 111.996 Q205.926 111.996 203.473 112.76 Q201.042 113.524 198.264 115.075 L198.264 110.352 Q201.088 109.218 203.542 108.64 Q205.996 108.061 208.033 108.061 Q213.403 108.061 216.598 110.746 Q219.792 113.431 219.792 117.922 Q219.792 120.052 218.982 121.973 Q218.195 123.871 216.088 126.464 Q215.51 127.135 212.408 130.352 Q209.306 133.547 203.658 139.311 Z\" fill=\"#000000\" fill-rule=\"nonzero\" fill-opacity=\"1\" /><path clip-path=\"url(#clip000)\" d=\"M21.7677 1216.38 L39.6235 1216.38 L39.6235 1208.3 Q39.6235 1203.81 37.3 1201.36 Q34.9765 1198.91 30.6797 1198.91 Q26.4147 1198.91 24.0912 1201.36 Q21.7677 1203.81 21.7677 1208.3 L21.7677 1216.38 M16.4842 1222.81 L16.4842 1208.3 Q16.4842 1200.31 20.1126 1196.23 Q23.7092 1192.13 30.6797 1192.13 Q37.7138 1192.13 41.3104 1196.23 Q44.907 1200.31 44.907 1208.3 L44.907 1216.38 L64.0042 1216.38 L64.0042 1222.81 L16.4842 1222.81 Z\" fill=\"#000000\" fill-rule=\"nonzero\" fill-opacity=\"1\" /><path clip-path=\"url(#clip000)\" d=\"M44.7161 1155.59 L47.5806 1155.59 L47.5806 1182.51 Q53.6281 1182.13 56.8109 1178.89 Q59.9619 1175.61 59.9619 1169.78 Q59.9619 1166.41 59.1344 1163.26 Q58.3069 1160.08 56.6518 1156.96 L62.1899 1156.96 Q63.5267 1160.11 64.227 1163.42 Q64.9272 1166.73 64.9272 1170.13 Q64.9272 1178.66 59.9619 1183.66 Q54.9967 1188.63 46.5303 1188.63 Q37.7774 1188.63 32.6531 1183.91 Q27.4968 1179.17 27.4968 1171.15 Q27.4968 1163.96 32.1438 1159.79 Q36.7589 1155.59 44.7161 1155.59 M42.9973 1161.44 Q38.1912 1161.51 35.3266 1164.15 Q32.4621 1166.76 32.4621 1171.09 Q32.4621 1175.99 35.2312 1178.95 Q38.0002 1181.88 43.0292 1182.32 L42.9973 1161.44 Z\" fill=\"#000000\" fill-rule=\"nonzero\" fill-opacity=\"1\" /><path clip-path=\"url(#clip000)\" d=\"M33.8307 1125.32 Q33.2578 1126.31 33.0032 1127.48 Q32.7167 1128.63 32.7167 1130.03 Q32.7167 1134.99 35.9632 1137.67 Q39.1779 1140.31 45.2253 1140.31 L64.0042 1140.31 L64.0042 1146.2 L28.3562 1146.2 L28.3562 1140.31 L33.8944 1140.31 Q30.6479 1138.46 29.0883 1135.5 Q27.4968 1132.54 27.4968 1128.31 Q27.4968 1127.71 27.5923 1126.97 Q27.656 1126.24 27.8151 1125.35 L33.8307 1125.32 Z\" fill=\"#000000\" fill-rule=\"nonzero\" fill-opacity=\"1\" /><path clip-path=\"url(#clip000)\" d=\"M29.7248 1094.95 L35.1993 1094.95 Q33.8307 1097.44 33.1623 1099.95 Q32.4621 1102.43 32.4621 1104.98 Q32.4621 1110.68 36.0905 1113.83 Q39.6872 1116.98 46.212 1116.98 Q52.7369 1116.98 56.3653 1113.83 Q59.9619 1110.68 59.9619 1104.98 Q59.9619 1102.43 59.2935 1099.95 Q58.5933 1097.44 57.2247 1094.95 L62.6355 1094.95 Q63.7814 1097.4 64.3543 1100.05 Q64.9272 1102.66 64.9272 1105.62 Q64.9272 1113.67 59.8664 1118.41 Q54.8057 1123.15 46.212 1123.15 Q37.491 1123.15 32.4939 1118.38 Q27.4968 1113.57 27.4968 1105.23 Q27.4968 1102.53 28.0697 1099.95 Q28.6108 1097.37 29.7248 1094.95 Z\" fill=\"#000000\" fill-rule=\"nonzero\" fill-opacity=\"1\" /><path clip-path=\"url(#clip000)\" d=\"M44.7161 1054.28 L47.5806 1054.28 L47.5806 1081.2 Q53.6281 1080.82 56.8109 1077.58 Q59.9619 1074.3 59.9619 1068.47 Q59.9619 1065.1 59.1344 1061.95 Q58.3069 1058.76 56.6518 1055.65 L62.1899 1055.65 Q63.5267 1058.8 64.227 1062.11 Q64.9272 1065.42 64.9272 1068.82 Q64.9272 1077.35 59.9619 1082.35 Q54.9967 1087.32 46.5303 1087.32 Q37.7774 1087.32 32.6531 1082.6 Q27.4968 1077.86 27.4968 1069.84 Q27.4968 1062.65 32.1438 1058.48 Q36.7589 1054.28 44.7161 1054.28 M42.9973 1060.13 Q38.1912 1060.2 35.3266 1062.84 Q32.4621 1065.45 32.4621 1069.78 Q32.4621 1074.68 35.2312 1077.64 Q38.0002 1080.57 43.0292 1081.01 L42.9973 1060.13 Z\" fill=\"#000000\" fill-rule=\"nonzero\" fill-opacity=\"1\" /><path clip-path=\"url(#clip000)\" d=\"M42.4881 1015.03 L64.0042 1015.03 L64.0042 1020.89 L42.679 1020.89 Q37.6183 1020.89 35.1038 1022.86 Q32.5894 1024.84 32.5894 1028.78 Q32.5894 1033.52 35.6131 1036.26 Q38.6368 1039 43.8567 1039 L64.0042 1039 L64.0042 1044.89 L28.3562 1044.89 L28.3562 1039 L33.8944 1039 Q30.6797 1036.9 29.0883 1034.07 Q27.4968 1031.2 27.4968 1027.48 Q27.4968 1021.33 31.3163 1018.18 Q35.1038 1015.03 42.4881 1015.03 Z\" fill=\"#000000\" fill-rule=\"nonzero\" fill-opacity=\"1\" /><path clip-path=\"url(#clip000)\" d=\"M18.2347 997.559 L28.3562 997.559 L28.3562 985.496 L32.9077 985.496 L32.9077 997.559 L52.2594 997.559 Q56.6199 997.559 57.8613 996.381 Q59.1026 995.172 59.1026 991.511 L59.1026 985.496 L64.0042 985.496 L64.0042 991.511 Q64.0042 998.291 61.4897 1000.87 Q58.9434 1003.45 52.2594 1003.45 L32.9077 1003.45 L32.9077 1007.74 L28.3562 1007.74 L28.3562 1003.45 L18.2347 1003.45 L18.2347 997.559 Z\" fill=\"#000000\" fill-rule=\"nonzero\" fill-opacity=\"1\" /><path clip-path=\"url(#clip000)\" d=\"M46.0847 961.592 Q46.0847 968.69 47.7079 971.427 Q49.3312 974.165 53.2461 974.165 Q56.3653 974.165 58.2114 972.128 Q60.0256 970.059 60.0256 966.526 Q60.0256 961.656 56.5881 958.728 Q53.1188 955.768 47.3897 955.768 L46.0847 955.768 L46.0847 961.592 M43.6657 949.911 L64.0042 949.911 L64.0042 955.768 L58.5933 955.768 Q61.8398 957.773 63.3994 960.765 Q64.9272 963.757 64.9272 968.085 Q64.9272 973.56 61.8716 976.806 Q58.7843 980.021 53.6281 980.021 Q47.6125 980.021 44.5569 976.011 Q41.5014 971.969 41.5014 963.98 L41.5014 955.768 L40.9285 955.768 Q36.8862 955.768 34.6901 958.441 Q32.4621 961.083 32.4621 965.889 Q32.4621 968.945 33.1941 971.841 Q33.9262 974.738 35.3903 977.411 L29.9795 977.411 Q28.7381 974.197 28.1334 971.173 Q27.4968 968.149 27.4968 965.285 Q27.4968 957.55 31.5072 953.731 Q35.5176 949.911 43.6657 949.911 Z\" fill=\"#000000\" fill-rule=\"nonzero\" fill-opacity=\"1\" /><path clip-path=\"url(#clip000)\" d=\"M45.7664 914.391 Q39.4007 914.391 35.8996 917.032 Q32.3984 919.642 32.3984 924.385 Q32.3984 929.095 35.8996 931.737 Q39.4007 934.347 45.7664 934.347 Q52.1003 934.347 55.6014 931.737 Q59.1026 929.095 59.1026 924.385 Q59.1026 919.642 55.6014 917.032 Q52.1003 914.391 45.7664 914.391 M59.58 908.534 Q68.683 908.534 73.1071 912.576 Q77.5631 916.619 77.5631 924.958 Q77.5631 928.045 77.0857 930.782 Q76.6401 933.52 75.6852 936.098 L69.9879 936.098 Q71.3884 933.52 72.0568 931.005 Q72.7252 928.491 72.7252 925.881 Q72.7252 920.12 69.7015 917.255 Q66.7096 914.391 60.6303 914.391 L57.7339 914.391 Q60.885 916.205 62.4446 919.038 Q64.0042 921.87 64.0042 925.817 Q64.0042 932.374 59.0071 936.384 Q54.01 940.395 45.7664 940.395 Q37.491 940.395 32.4939 936.384 Q27.4968 932.374 27.4968 925.817 Q27.4968 921.87 29.0564 919.038 Q30.616 916.205 33.7671 914.391 L28.3562 914.391 L28.3562 908.534 L59.58 908.534 Z\" fill=\"#000000\" fill-rule=\"nonzero\" fill-opacity=\"1\" /><path clip-path=\"url(#clip000)\" d=\"M44.7161 865.979 L47.5806 865.979 L47.5806 892.906 Q53.6281 892.524 56.8109 889.278 Q59.9619 886 59.9619 880.175 Q59.9619 876.801 59.1344 873.65 Q58.3069 870.467 56.6518 867.348 L62.1899 867.348 Q63.5267 870.499 64.227 873.809 Q64.9272 877.119 64.9272 880.525 Q64.9272 889.055 59.9619 894.052 Q54.9967 899.018 46.5303 899.018 Q37.7774 899.018 32.6531 894.307 Q27.4968 889.564 27.4968 881.544 Q27.4968 874.35 32.1438 870.181 Q36.7589 865.979 44.7161 865.979 M42.9973 871.836 Q38.1912 871.9 35.3266 874.541 Q32.4621 877.151 32.4621 881.48 Q32.4621 886.382 35.2312 889.342 Q38.0002 892.27 43.0292 892.715 L42.9973 871.836 Z\" fill=\"#000000\" fill-rule=\"nonzero\" fill-opacity=\"1\" /><path clip-path=\"url(#clip000)\" d=\"M29.7248 809.993 L35.1993 809.993 Q33.8307 812.476 33.1623 814.99 Q32.4621 817.473 32.4621 820.019 Q32.4621 825.716 36.0905 828.867 Q39.6872 832.018 46.212 832.018 Q52.7369 832.018 56.3653 828.867 Q59.9619 825.716 59.9619 820.019 Q59.9619 817.473 59.2935 814.99 Q58.5933 812.476 57.2247 809.993 L62.6355 809.993 Q63.7814 812.444 64.3543 815.086 Q64.9272 817.696 64.9272 820.656 Q64.9272 828.708 59.8664 833.451 Q54.8057 838.193 46.212 838.193 Q37.491 838.193 32.4939 833.419 Q27.4968 828.613 27.4968 820.274 Q27.4968 817.568 28.0697 814.99 Q28.6108 812.412 29.7248 809.993 Z\" fill=\"#000000\" fill-rule=\"nonzero\" fill-opacity=\"1\" /><path clip-path=\"url(#clip000)\" d=\"M42.4881 770.176 L64.0042 770.176 L64.0042 776.032 L42.679 776.032 Q37.6183 776.032 35.1038 778.005 Q32.5894 779.979 32.5894 783.926 Q32.5894 788.668 35.6131 791.405 Q38.6368 794.142 43.8567 794.142 L64.0042 794.142 L64.0042 800.031 L14.479 800.031 L14.479 794.142 L33.8944 794.142 Q30.6797 792.042 29.0883 789.209 Q27.4968 786.345 27.4968 782.621 Q27.4968 776.478 31.3163 773.327 Q35.1038 770.176 42.4881 770.176 Z\" fill=\"#000000\" fill-rule=\"nonzero\" fill-opacity=\"1\" /><path clip-path=\"url(#clip000)\" d=\"M46.0847 742.294 Q46.0847 749.392 47.7079 752.129 Q49.3312 754.866 53.2461 754.866 Q56.3653 754.866 58.2114 752.829 Q60.0256 750.76 60.0256 747.227 Q60.0256 742.357 56.5881 739.429 Q53.1188 736.469 47.3897 736.469 L46.0847 736.469 L46.0847 742.294 M43.6657 730.613 L64.0042 730.613 L64.0042 736.469 L58.5933 736.469 Q61.8398 738.474 63.3994 741.466 Q64.9272 744.458 64.9272 748.787 Q64.9272 754.261 61.8716 757.508 Q58.7843 760.723 53.6281 760.723 Q47.6125 760.723 44.5569 756.712 Q41.5014 752.67 41.5014 744.681 L41.5014 736.469 L40.9285 736.469 Q36.8862 736.469 34.6901 739.143 Q32.4621 741.785 32.4621 746.591 Q32.4621 749.646 33.1941 752.543 Q33.9262 755.439 35.3903 758.113 L29.9795 758.113 Q28.7381 754.898 28.1334 751.874 Q27.4968 748.85 27.4968 745.986 Q27.4968 738.252 31.5072 734.432 Q35.5176 730.613 43.6657 730.613 Z\" fill=\"#000000\" fill-rule=\"nonzero\" fill-opacity=\"1\" /><path clip-path=\"url(#clip000)\" d=\"M42.4881 688.917 L64.0042 688.917 L64.0042 694.774 L42.679 694.774 Q37.6183 694.774 35.1038 696.747 Q32.5894 698.721 32.5894 702.667 Q32.5894 707.41 35.6131 710.147 Q38.6368 712.884 43.8567 712.884 L64.0042 712.884 L64.0042 718.773 L28.3562 718.773 L28.3562 712.884 L33.8944 712.884 Q30.6797 710.784 29.0883 707.951 Q27.4968 705.086 27.4968 701.362 Q27.4968 695.219 31.3163 692.068 Q35.1038 688.917 42.4881 688.917 Z\" fill=\"#000000\" fill-rule=\"nonzero\" fill-opacity=\"1\" /><path clip-path=\"url(#clip000)\" d=\"M45.7664 653.779 Q39.4007 653.779 35.8996 656.42 Q32.3984 659.03 32.3984 663.773 Q32.3984 668.483 35.8996 671.125 Q39.4007 673.735 45.7664 673.735 Q52.1003 673.735 55.6014 671.125 Q59.1026 668.483 59.1026 663.773 Q59.1026 659.03 55.6014 656.42 Q52.1003 653.779 45.7664 653.779 M59.58 647.922 Q68.683 647.922 73.1071 651.964 Q77.5631 656.007 77.5631 664.346 Q77.5631 667.433 77.0857 670.17 Q76.6401 672.908 75.6852 675.486 L69.9879 675.486 Q71.3884 672.908 72.0568 670.393 Q72.7252 667.879 72.7252 665.269 Q72.7252 659.508 69.7015 656.643 Q66.7096 653.779 60.6303 653.779 L57.7339 653.779 Q60.885 655.593 62.4446 658.426 Q64.0042 661.258 64.0042 665.205 Q64.0042 671.762 59.0071 675.772 Q54.01 679.783 45.7664 679.783 Q37.491 679.783 32.4939 675.772 Q27.4968 671.762 27.4968 665.205 Q27.4968 661.258 29.0564 658.426 Q30.616 655.593 33.7671 653.779 L28.3562 653.779 L28.3562 647.922 L59.58 647.922 Z\" fill=\"#000000\" fill-rule=\"nonzero\" fill-opacity=\"1\" /><path clip-path=\"url(#clip000)\" d=\"M44.7161 605.367 L47.5806 605.367 L47.5806 632.294 Q53.6281 631.912 56.8109 628.666 Q59.9619 625.388 59.9619 619.563 Q59.9619 616.189 59.1344 613.038 Q58.3069 609.855 56.6518 606.736 L62.1899 606.736 Q63.5267 609.887 64.227 613.197 Q64.9272 616.507 64.9272 619.913 Q64.9272 628.443 59.9619 633.44 Q54.9967 638.405 46.5303 638.405 Q37.7774 638.405 32.6531 633.695 Q27.4968 628.952 27.4968 620.932 Q27.4968 613.738 32.1438 609.569 Q36.7589 605.367 44.7161 605.367 M42.9973 611.224 Q38.1912 611.288 35.3266 613.929 Q32.4621 616.539 32.4621 620.868 Q32.4621 625.77 35.2312 628.73 Q38.0002 631.658 43.0292 632.103 L42.9973 611.224 Z\" fill=\"#000000\" fill-rule=\"nonzero\" fill-opacity=\"1\" /><path clip-path=\"url(#clip000)\" d=\"M16.4842 581.369 L16.4842 541.169 L21.895 541.169 L21.895 558.038 L64.0042 558.038 L64.0042 564.5 L21.895 564.5 L21.895 581.369 L16.4842 581.369 Z\" fill=\"#000000\" fill-rule=\"nonzero\" fill-opacity=\"1\" /><path clip-path=\"url(#clip000)\" d=\"M43.5384 544.161 L43.5384 527.006 L48.7583 527.006 L48.7583 544.161 L43.5384 544.161 Z\" fill=\"#000000\" fill-rule=\"nonzero\" fill-opacity=\"1\" /><path clip-path=\"url(#clip000)\" d=\"M41.3104 513.319 L58.7206 513.319 L58.7206 503.007 Q58.7206 497.819 56.5881 495.336 Q54.4238 492.822 49.9996 492.822 Q45.5436 492.822 43.4429 495.336 Q41.3104 497.819 41.3104 503.007 L41.3104 513.319 M21.7677 513.319 L36.0905 513.319 L36.0905 503.803 Q36.0905 499.092 34.34 496.8 Q32.5576 494.477 28.9291 494.477 Q25.3325 494.477 23.5501 496.8 Q21.7677 499.092 21.7677 503.803 L21.7677 513.319 M16.4842 519.749 L16.4842 503.325 Q16.4842 495.973 19.5397 491.994 Q22.5952 488.016 28.2289 488.016 Q32.5894 488.016 35.1675 490.053 Q37.7456 492.09 38.3822 496.036 Q39.4007 491.294 42.6472 488.684 Q45.8619 486.042 50.6998 486.042 Q57.0655 486.042 60.5348 490.371 Q64.0042 494.7 64.0042 502.689 L64.0042 519.749 L16.4842 519.749 Z\" fill=\"#000000\" fill-rule=\"nonzero\" fill-opacity=\"1\" /><path clip-path=\"url(#clip000)\" d=\"M28.3562 475.284 L28.3562 469.428 L64.0042 469.428 L64.0042 475.284 L28.3562 475.284 M14.479 475.284 L14.479 469.428 L21.895 469.428 L21.895 475.284 L14.479 475.284 Z\" fill=\"#000000\" fill-rule=\"nonzero\" fill-opacity=\"1\" /><path clip-path=\"url(#clip000)\" d=\"M14.479 457.174 L14.479 451.317 L64.0042 451.317 L64.0042 457.174 L14.479 457.174 Z\" fill=\"#000000\" fill-rule=\"nonzero\" fill-opacity=\"1\" /><path clip-path=\"url(#clip000)\" d=\"M14.479 439.063 L14.479 433.207 L64.0042 433.207 L64.0042 439.063 L14.479 439.063 Z\" fill=\"#000000\" fill-rule=\"nonzero\" fill-opacity=\"1\" /><path clip-path=\"url(#clip000)\" d=\"M58.657 394.567 L77.5631 394.567 L77.5631 400.455 L28.3562 400.455 L28.3562 394.567 L33.7671 394.567 Q30.5842 392.721 29.0564 389.92 Q27.4968 387.087 27.4968 383.172 Q27.4968 376.679 32.6531 372.637 Q37.8093 368.563 46.212 368.563 Q54.6147 368.563 59.771 372.637 Q64.9272 376.679 64.9272 383.172 Q64.9272 387.087 63.3994 389.92 Q61.8398 392.721 58.657 394.567 M46.212 374.642 Q39.7508 374.642 36.0905 377.316 Q32.3984 379.958 32.3984 384.605 Q32.3984 389.252 36.0905 391.925 Q39.7508 394.567 46.212 394.567 Q52.6732 394.567 56.3653 391.925 Q60.0256 389.252 60.0256 384.605 Q60.0256 379.958 56.3653 377.316 Q52.6732 374.642 46.212 374.642 Z\" fill=\"#000000\" fill-rule=\"nonzero\" fill-opacity=\"1\" /><path clip-path=\"url(#clip000)\" d=\"M33.8307 338.199 Q33.2578 339.185 33.0032 340.363 Q32.7167 341.509 32.7167 342.909 Q32.7167 347.875 35.9632 350.548 Q39.1779 353.19 45.2253 353.19 L64.0042 353.19 L64.0042 359.078 L28.3562 359.078 L28.3562 353.19 L33.8944 353.19 Q30.6479 351.344 29.0883 348.384 Q27.4968 345.424 27.4968 341.191 Q27.4968 340.586 27.5923 339.854 Q27.656 339.122 27.8151 338.231 L33.8307 338.199 Z\" fill=\"#000000\" fill-rule=\"nonzero\" fill-opacity=\"1\" /><path clip-path=\"url(#clip000)\" d=\"M28.3562 332.056 L28.3562 326.199 L64.0042 326.199 L64.0042 332.056 L28.3562 332.056 M14.479 332.056 L14.479 326.199 L21.895 326.199 L21.895 332.056 L14.479 332.056 Z\" fill=\"#000000\" fill-rule=\"nonzero\" fill-opacity=\"1\" /><path clip-path=\"url(#clip000)\" d=\"M29.7248 288.292 L35.1993 288.292 Q33.8307 290.774 33.1623 293.289 Q32.4621 295.771 32.4621 298.318 Q32.4621 304.015 36.0905 307.166 Q39.6872 310.317 46.212 310.317 Q52.7369 310.317 56.3653 307.166 Q59.9619 304.015 59.9619 298.318 Q59.9619 295.771 59.2935 293.289 Q58.5933 290.774 57.2247 288.292 L62.6355 288.292 Q63.7814 290.742 64.3543 293.384 Q64.9272 295.994 64.9272 298.954 Q64.9272 307.007 59.8664 311.749 Q54.8057 316.492 46.212 316.492 Q37.491 316.492 32.4939 311.717 Q27.4968 306.911 27.4968 298.572 Q27.4968 295.867 28.0697 293.289 Q28.6108 290.711 29.7248 288.292 Z\" fill=\"#000000\" fill-rule=\"nonzero\" fill-opacity=\"1\" /><path clip-path=\"url(#clip000)\" d=\"M44.7161 247.615 L47.5806 247.615 L47.5806 274.542 Q53.6281 274.16 56.8109 270.913 Q59.9619 267.635 59.9619 261.81 Q59.9619 258.436 59.1344 255.285 Q58.3069 252.103 56.6518 248.983 L62.1899 248.983 Q63.5267 252.134 64.227 255.445 Q64.9272 258.755 64.9272 262.16 Q64.9272 270.69 59.9619 275.688 Q54.9967 280.653 46.5303 280.653 Q37.7774 280.653 32.6531 275.942 Q27.4968 271.2 27.4968 263.179 Q27.4968 255.986 32.1438 251.816 Q36.7589 247.615 44.7161 247.615 M42.9973 253.471 Q38.1912 253.535 35.3266 256.177 Q32.4621 258.787 32.4621 263.115 Q32.4621 268.017 35.2312 270.977 Q38.0002 273.905 43.0292 274.351 L42.9973 253.471 Z\" fill=\"#000000\" fill-rule=\"nonzero\" fill-opacity=\"1\" /><polyline clip-path=\"url(#clip002)\" style=\"stroke:#000000; stroke-linecap:round; stroke-linejoin:round; stroke-width:12; stroke-opacity:1; fill:none\" points=\"315.32,86.1857 645.002,303.681 974.684,520.713 1304.37,737.283 1634.05,953.393 1963.73,1169.04 2293.41,1384.24 \"/>\n",
       "<path clip-path=\"url(#clip000)\" d=\"M1644.11 196.789 L2282.86 196.789 L2282.86 93.1086 L1644.11 93.1086  Z\" fill=\"#f2f2f2\" fill-rule=\"evenodd\" fill-opacity=\"1\"/>\n",
       "<polyline clip-path=\"url(#clip000)\" style=\"stroke:#000000; stroke-linecap:round; stroke-linejoin:round; stroke-width:4; stroke-opacity:0; fill:none\" points=\"1644.11,196.789 2282.86,196.789 2282.86,93.1086 1644.11,93.1086 1644.11,196.789 \"/>\n",
       "<polyline clip-path=\"url(#clip000)\" style=\"stroke:#000000; stroke-linecap:round; stroke-linejoin:round; stroke-width:12; stroke-opacity:1; fill:none\" points=\"1667.41,144.949 1807.2,144.949 \"/>\n",
       "<path clip-path=\"url(#clip000)\" d=\"M1830.49 127.669 L1859.73 127.669 L1859.73 131.604 L1847.46 131.604 L1847.46 162.229 L1842.76 162.229 L1842.76 131.604 L1830.49 131.604 L1830.49 127.669 Z\" fill=\"#000000\" fill-rule=\"nonzero\" fill-opacity=\"1\" /><path clip-path=\"url(#clip000)\" d=\"M1857.55 147.344 L1870.03 147.344 L1870.03 151.141 L1857.55 151.141 L1857.55 147.344 Z\" fill=\"#000000\" fill-rule=\"nonzero\" fill-opacity=\"1\" /><path clip-path=\"url(#clip000)\" d=\"M1895.42 149.289 Q1895.42 144.59 1893.48 141.928 Q1891.56 139.243 1888.18 139.243 Q1884.8 139.243 1882.85 141.928 Q1880.93 144.59 1880.93 149.289 Q1880.93 153.988 1882.85 156.673 Q1884.8 159.335 1888.18 159.335 Q1891.56 159.335 1893.48 156.673 Q1895.42 153.988 1895.42 149.289 M1880.93 140.238 Q1882.28 137.923 1884.31 136.812 Q1886.37 135.678 1889.22 135.678 Q1893.94 135.678 1896.88 139.428 Q1899.85 143.178 1899.85 149.289 Q1899.85 155.4 1896.88 159.15 Q1893.94 162.9 1889.22 162.9 Q1886.37 162.9 1884.31 161.789 Q1882.28 160.655 1880.93 158.34 L1880.93 162.229 L1876.65 162.229 L1876.65 126.21 L1880.93 126.21 L1880.93 140.238 Z\" fill=\"#000000\" fill-rule=\"nonzero\" fill-opacity=\"1\" /><path clip-path=\"url(#clip000)\" d=\"M1906.91 136.303 L1911.16 136.303 L1911.16 162.229 L1906.91 162.229 L1906.91 136.303 M1906.91 126.21 L1911.16 126.21 L1911.16 131.604 L1906.91 131.604 L1906.91 126.21 Z\" fill=\"#000000\" fill-rule=\"nonzero\" fill-opacity=\"1\" /><path clip-path=\"url(#clip000)\" d=\"M1920.08 126.21 L1924.34 126.21 L1924.34 162.229 L1920.08 162.229 L1920.08 126.21 Z\" fill=\"#000000\" fill-rule=\"nonzero\" fill-opacity=\"1\" /><path clip-path=\"url(#clip000)\" d=\"M1933.25 126.21 L1937.51 126.21 L1937.51 162.229 L1933.25 162.229 L1933.25 126.21 Z\" fill=\"#000000\" fill-rule=\"nonzero\" fill-opacity=\"1\" /><path clip-path=\"url(#clip000)\" d=\"M1974.66 149.798 Q1974.66 153.108 1976.3 155.006 Q1977.95 156.881 1980.82 156.881 Q1983.66 156.881 1985.28 154.983 Q1986.93 153.085 1986.93 149.798 Q1986.93 146.557 1985.26 144.659 Q1983.59 142.738 1980.77 142.738 Q1977.97 142.738 1976.3 144.636 Q1974.66 146.534 1974.66 149.798 M1987.28 156.719 Q1985.89 158.502 1984.08 159.358 Q1982.3 160.192 1979.91 160.192 Q1975.93 160.192 1973.43 157.321 Q1970.96 154.428 1970.96 149.798 Q1970.96 145.169 1973.46 142.275 Q1975.96 139.382 1979.91 139.382 Q1982.3 139.382 1984.1 140.261 Q1985.91 141.118 1987.28 142.877 L1987.28 139.844 L1990.59 139.844 L1990.59 156.881 Q1993.97 156.372 1995.86 153.803 Q1997.78 151.21 1997.78 147.113 Q1997.78 144.636 1997.04 142.46 Q1996.33 140.284 1994.84 138.432 Q1992.44 135.4 1988.97 133.803 Q1985.52 132.182 1981.44 132.182 Q1978.6 132.182 1975.98 132.946 Q1973.36 133.687 1971.14 135.169 Q1967.51 137.53 1965.45 141.372 Q1963.41 145.192 1963.41 149.659 Q1963.41 153.34 1964.73 156.557 Q1966.07 159.775 1968.6 162.229 Q1971.03 164.636 1974.22 165.886 Q1977.41 167.159 1981.05 167.159 Q1984.03 167.159 1986.91 166.141 Q1989.8 165.145 1992.21 163.27 L1994.29 165.84 Q1991.4 168.085 1987.97 169.266 Q1984.57 170.469 1981.05 170.469 Q1976.77 170.469 1972.97 168.942 Q1969.17 167.437 1966.21 164.543 Q1963.25 161.65 1961.7 157.854 Q1960.15 154.034 1960.15 149.659 Q1960.15 145.446 1961.72 141.627 Q1963.29 137.807 1966.21 134.914 Q1969.2 131.974 1973.11 130.423 Q1977.02 128.849 1981.4 128.849 Q1986.3 128.849 1990.49 130.863 Q1994.71 132.877 1997.55 136.581 Q1999.29 138.849 2000.19 141.511 Q2001.12 144.173 2001.12 147.02 Q2001.12 153.108 1997.44 156.627 Q1993.76 160.145 1987.28 160.284 L1987.28 156.719 Z\" fill=\"#000000\" fill-rule=\"nonzero\" fill-opacity=\"1\" /><path clip-path=\"url(#clip000)\" d=\"M2008.9 136.303 L2013.16 136.303 L2013.16 162.229 L2008.9 162.229 L2008.9 136.303 M2008.9 126.21 L2013.16 126.21 L2013.16 131.604 L2008.9 131.604 L2008.9 126.21 Z\" fill=\"#000000\" fill-rule=\"nonzero\" fill-opacity=\"1\" /><path clip-path=\"url(#clip000)\" d=\"M2043.62 146.581 L2043.62 162.229 L2039.36 162.229 L2039.36 146.719 Q2039.36 143.039 2037.92 141.21 Q2036.49 139.382 2033.62 139.382 Q2030.17 139.382 2028.18 141.581 Q2026.19 143.78 2026.19 147.576 L2026.19 162.229 L2021.9 162.229 L2021.9 136.303 L2026.19 136.303 L2026.19 140.331 Q2027.72 137.993 2029.78 136.835 Q2031.86 135.678 2034.57 135.678 Q2039.03 135.678 2041.33 138.456 Q2043.62 141.21 2043.62 146.581 Z\" fill=\"#000000\" fill-rule=\"nonzero\" fill-opacity=\"1\" /><path clip-path=\"url(#clip000)\" d=\"M2069.17 140.238 L2069.17 126.21 L2073.43 126.21 L2073.43 162.229 L2069.17 162.229 L2069.17 158.34 Q2067.83 160.655 2065.77 161.789 Q2063.73 162.9 2060.86 162.9 Q2056.16 162.9 2053.2 159.15 Q2050.26 155.4 2050.26 149.289 Q2050.26 143.178 2053.2 139.428 Q2056.16 135.678 2060.86 135.678 Q2063.73 135.678 2065.77 136.812 Q2067.83 137.923 2069.17 140.238 M2054.66 149.289 Q2054.66 153.988 2056.58 156.673 Q2058.53 159.335 2061.9 159.335 Q2065.28 159.335 2067.23 156.673 Q2069.17 153.988 2069.17 149.289 Q2069.17 144.59 2067.23 141.928 Q2065.28 139.243 2061.9 139.243 Q2058.53 139.243 2056.58 141.928 Q2054.66 144.59 2054.66 149.289 Z\" fill=\"#000000\" fill-rule=\"nonzero\" fill-opacity=\"1\" /><path clip-path=\"url(#clip000)\" d=\"M2104.38 148.201 L2104.38 150.284 L2084.8 150.284 Q2085.08 154.682 2087.44 156.997 Q2089.82 159.289 2094.06 159.289 Q2096.51 159.289 2098.8 158.687 Q2101.12 158.085 2103.39 156.881 L2103.39 160.909 Q2101.09 161.881 2098.69 162.391 Q2096.28 162.9 2093.8 162.9 Q2087.6 162.9 2083.96 159.289 Q2080.35 155.678 2080.35 149.52 Q2080.35 143.155 2083.78 139.428 Q2087.23 135.678 2093.06 135.678 Q2098.29 135.678 2101.33 139.057 Q2104.38 142.414 2104.38 148.201 M2100.12 146.951 Q2100.08 143.456 2098.15 141.372 Q2096.26 139.289 2093.11 139.289 Q2089.54 139.289 2087.39 141.303 Q2085.26 143.317 2084.94 146.974 L2100.12 146.951 Z\" fill=\"#000000\" fill-rule=\"nonzero\" fill-opacity=\"1\" /><path clip-path=\"url(#clip000)\" d=\"M2132.09 136.303 L2122.71 148.919 L2132.58 162.229 L2127.55 162.229 L2120.01 152.043 L2112.46 162.229 L2107.44 162.229 L2117.51 148.664 L2108.29 136.303 L2113.32 136.303 L2120.19 145.539 L2127.07 136.303 L2132.09 136.303 Z\" fill=\"#000000\" fill-rule=\"nonzero\" fill-opacity=\"1\" /><path clip-path=\"url(#clip000)\" d=\"M2154.22 140.701 L2183.89 140.701 L2183.89 144.59 L2154.22 144.59 L2154.22 140.701 M2154.22 150.145 L2183.89 150.145 L2183.89 154.081 L2154.22 154.081 L2154.22 150.145 Z\" fill=\"#000000\" fill-rule=\"nonzero\" fill-opacity=\"1\" /><path clip-path=\"url(#clip000)\" d=\"M2221.9 131.743 L2210.1 150.192 L2221.9 150.192 L2221.9 131.743 M2220.68 127.669 L2226.56 127.669 L2226.56 150.192 L2231.49 150.192 L2231.49 154.081 L2226.56 154.081 L2226.56 162.229 L2221.9 162.229 L2221.9 154.081 L2206.3 154.081 L2206.3 149.567 L2220.68 127.669 Z\" fill=\"#000000\" fill-rule=\"nonzero\" fill-opacity=\"1\" /><path clip-path=\"url(#clip000)\" d=\"M2243.25 158.293 L2259.57 158.293 L2259.57 162.229 L2237.62 162.229 L2237.62 158.293 Q2240.28 155.539 2244.87 150.909 Q2249.47 146.256 2250.65 144.914 Q2252.9 142.391 2253.78 140.655 Q2254.68 138.895 2254.68 137.206 Q2254.68 134.451 2252.74 132.715 Q2250.82 130.979 2247.71 130.979 Q2245.51 130.979 2243.06 131.743 Q2240.63 132.507 2237.85 134.057 L2237.85 129.335 Q2240.68 128.201 2243.13 127.622 Q2245.58 127.044 2247.62 127.044 Q2252.99 127.044 2256.19 129.729 Q2259.38 132.414 2259.38 136.905 Q2259.38 139.034 2258.57 140.956 Q2257.78 142.854 2255.68 145.446 Q2255.1 146.118 2252 149.335 Q2248.89 152.53 2243.25 158.293 Z\" fill=\"#000000\" fill-rule=\"nonzero\" fill-opacity=\"1\" /></svg>\n"
      ],
      "text/html": [
       "<img src=\"data:image/png;base64,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\" />"
      ]
     },
     "execution_count": 39,
     "metadata": {},
     "output_type": "execute_result"
    }
   ],
   "source": [
    "let\n",
    "    q = plot(bg=\"gray95\", background_color_outside=\"white\", framestyle = :box, fg_legend = :transparent);\n",
    "    plot(q, theorem_1_simulation_array[:,1], theorem_1_simulation_array[:,2], lw=3, c=:black, xlabel=\"β\", \n",
    "            ylabel=\"Percentage change T-Bill price\", label=\"T-bill @index = $(random_bill_index)\")\n",
    "end"
   ]
  },
  {
   "cell_type": "markdown",
   "id": "a89432a1-b757-44a6-82a5-b89bd6f64e4f",
   "metadata": {},
   "source": [
    "### Discussion: Is the slope of the interest rate versus the price line negative?\n",
    "If the relationship between the price and the yield is inversely proportional, then the slope of price versus $\\bar{r}$ should be negative; let's check this condition by computing the slope from the simulation array, store this in the `slope` variable.\n",
    "\n",
    "> __Idea:__ Use the [@assert macro](https://docs.julialang.org/en/v1/base/base/#Base.@assert) to test if the slope is negative: if $\\text{slope}>0$, i.e., `Theorem 1` is not supported, this test will throw an [AssertionError](https://docs.julialang.org/en/v1/base/base/#Core.AssertionError), otherwise the `Theorem 1` is supported by simulation\n",
    "\n",
    "What do we see?"
   ]
  },
  {
   "cell_type": "code",
   "execution_count": 41,
   "id": "86c2ae02-cfe7-4361-a5a1-4d1eddc73601",
   "metadata": {},
   "outputs": [],
   "source": [
    "slope = (theorem_1_simulation_array[end,4] - theorem_1_simulation_array[1,4])/(theorem_1_simulation_array[end,3] - theorem_1_simulation_array[1,3]);\n",
    "@assert (slope < 0.0)  # Verify Theorem 1: negative slope confirms inverse price-yield relationship"
   ]
  },
  {
   "cell_type": "markdown",
   "id": "4ed3998c",
   "metadata": {},
   "source": [
    "___"
   ]
  },
  {
   "cell_type": "markdown",
   "id": "cd8da194-93e8-4af7-9f02-b02aacd98980",
   "metadata": {},
   "source": [
    "## Disclaimer and Risks\n",
    "__This content is offered solely for training and informational purposes__. No offer or solicitation to buy or sell securities or derivative products or any investment or trading advice or strategy is made, given, or endorsed by the teaching team. \n",
    "\n",
    "__Trading involves risk__. Carefully review your financial situation before investing in securities, futures contracts, options, or commodity interests. Past performance, whether actual or indicated by historical tests of strategies, is no guarantee of future performance or success. Trading is generally inappropriate for someone with limited resources, investment or trading experience, or a low-risk tolerance.  Only risk capital that is not required for living expenses.\n",
    "\n",
    "__You are fully responsible for any investment or trading decisions you make__. Such decisions should be based solely on evaluating your financial circumstances, investment or trading objectives, risk tolerance, and liquidity needs.\n",
    "\n",
    "___"
   ]
  }
 ],
 "metadata": {
  "kernelspec": {
   "display_name": "Julia 1.11.6",
   "language": "julia",
   "name": "julia-1.11"
  },
  "language_info": {
   "file_extension": ".jl",
   "mimetype": "application/julia",
   "name": "julia",
   "version": "1.11.6"
  }
 },
 "nbformat": 4,
 "nbformat_minor": 5
}
