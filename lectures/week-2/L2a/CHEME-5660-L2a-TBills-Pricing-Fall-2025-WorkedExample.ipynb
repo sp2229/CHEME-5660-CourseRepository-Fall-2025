{
 "cells": [
  {
   "cell_type": "markdown",
   "id": "bfb6f9c6-2f60-41e1-80b8-fa022162f100",
   "metadata": {},
   "source": [
    "# Pricing Zero-Coupon Treasury Bills Using NPV\n",
    "In this example, we will compute the price of zero-coupon United States Treasury Bills, or __T-bills__ using the Net Present Value (NPV) approach.\n",
    "\n",
    "__Learning Objectives:__ After completing this example, you should be able to:\n",
    "1. **Price zero-coupon T-bills** using the Net Present Value (NPV) approach with discount rates\n",
    "2. **Understand the inverse relationship** between T-bill prices and yields (Malkiel's Theorem 1)\n",
    "3. **Interpret cash flow structures** for zero-coupon securities\n",
    "4. **Compare computed prices** with market auction prices and analyze discrepancies\n",
    "\n",
    "__What we'll do:__ We've downloaded a dataset of T-bill auction data (approximately 100 T-bills with different maturities) from 2025. We will use the discount rate (in this context called the investment rate) from the dataset to compute the auction price of the T-bill, and then we'll compare our computed price with the actual auction price.\n",
    "\n",
    "Let's get started!\n",
    "___"
   ]
  },
  {
   "cell_type": "markdown",
   "id": "068183be-9396-4c77-b919-befabcdf46d2",
   "metadata": {
    "tags": []
   },
   "source": [
    "## Setup, Data, and Prerequisites\n",
    "We set up the computational environment by including the `Include.jl` file, loading any needed resources, such as sample datasets, and setting up any required constants. \n",
    "\n",
    "> The [include(...) function](https://docs.julialang.org/en/v1/base/base/#include) is a convenient way to load Julia code from another file. The `Include.jl` file is a Julia file that loads external packages, and various functions that we will use in the exercise. It checks for a `Manifest.toml` file; if it finds one, packages are loaded. Otherwise, packages are downloaded and then loaded."
   ]
  },
  {
   "cell_type": "code",
   "execution_count": 1,
   "id": "a19f9212-58b6-4703-8278-21d64dc7d8e6",
   "metadata": {
    "tags": []
   },
   "outputs": [],
   "source": [
    "include(joinpath(@__DIR__, \"Include.jl\")); # this sets up the environment, we'll do this all the time, on everything we do"
   ]
  },
  {
   "cell_type": "markdown",
   "id": "aee5e457",
   "metadata": {},
   "source": [
    "For additional information on functions and types used in this material, see the [Julia programming language documentation](https://docs.julialang.org/en/v1/) and the [VLQuantitativeFinancePackage.jl documentation](https://github.com/varnerlab/VLQuantitativeFinancePackage.jl). "
   ]
  },
  {
   "cell_type": "markdown",
   "id": "c042b597-6837-4b33-8fac-bb6fab45e72f",
   "metadata": {},
   "source": [
    "### Data\n",
    "We'll explore `T-bill` prices from United States Treasury auctions between May and August of 2025 downloaded as a `CSV` file using the [Auction query functionality of TreasuryDirect.gov](https://www.treasurydirect.gov/auctions/auction-query/). \n",
    "\n",
    "We load the `CSV` dataset using a [local `MyTreasuryBillDataSet()` function](src/Files.jl), which returns the auction data as [a `DataFrame` instance](https://dataframes.juliadata.org/stable/). We store the data in the `data::DataFrame` variable."
   ]
  },
  {
   "cell_type": "code",
   "execution_count": 2,
   "id": "25da4a48-62fc-45ba-ae7c-64b97313c8aa",
   "metadata": {
    "tags": []
   },
   "outputs": [
    {
     "data": {
      "text/html": [
       "<div><div style = \"float: left;\"><span>96×8 DataFrame</span></div><div style = \"float: right;\"><span style = \"font-style: italic;\">71 rows omitted</span></div><div style = \"clear: both;\"></div></div><div class = \"data-frame\" style = \"overflow-x: scroll;\"><table class = \"data-frame\" style = \"margin-bottom: 6px;\"><thead><tr class = \"header\"><th class = \"rowNumber\" style = \"font-weight: bold; text-align: right;\">Row</th><th style = \"text-align: left;\">CUSIP</th><th style = \"text-align: left;\">Security Type</th><th style = \"text-align: left;\">Security Term</th><th style = \"text-align: left;\">Auction Date</th><th style = \"text-align: left;\">Issue Date</th><th style = \"text-align: left;\">Maturity Date</th><th style = \"text-align: left;\">Price</th><th style = \"text-align: left;\">Investment Rate</th></tr><tr class = \"subheader headerLastRow\"><th class = \"rowNumber\" style = \"font-weight: bold; text-align: right;\"></th><th title = \"String15\" style = \"text-align: left;\">String15</th><th title = \"String7\" style = \"text-align: left;\">String7</th><th title = \"String7\" style = \"text-align: left;\">String7</th><th title = \"String15\" style = \"text-align: left;\">String15</th><th title = \"String15\" style = \"text-align: left;\">String15</th><th title = \"String15\" style = \"text-align: left;\">String15</th><th title = \"Float64\" style = \"text-align: left;\">Float64</th><th title = \"Float64\" style = \"text-align: left;\">Float64</th></tr></thead><tbody><tr><td class = \"rowNumber\" style = \"font-weight: bold; text-align: right;\">1</td><td style = \"text-align: left;\">912797QW0</td><td style = \"text-align: left;\">Bill</td><td style = \"text-align: left;\">4-Week</td><td style = \"text-align: left;\">08/28/2025</td><td style = \"text-align: left;\">09/02/2025</td><td style = \"text-align: left;\">09/30/2025</td><td style = \"text-align: right;\">99.6698</td><td style = \"text-align: right;\">0.04318</td></tr><tr><td class = \"rowNumber\" style = \"font-weight: bold; text-align: right;\">2</td><td style = \"text-align: left;\">912797RE9</td><td style = \"text-align: left;\">Bill</td><td style = \"text-align: left;\">8-Week</td><td style = \"text-align: left;\">08/28/2025</td><td style = \"text-align: left;\">09/02/2025</td><td style = \"text-align: left;\">10/28/2025</td><td style = \"text-align: right;\">99.3552</td><td style = \"text-align: right;\">0.0423</td></tr><tr><td class = \"rowNumber\" style = \"font-weight: bold; text-align: right;\">3</td><td style = \"text-align: left;\">912797RZ2</td><td style = \"text-align: left;\">Bill</td><td style = \"text-align: left;\">17-Week</td><td style = \"text-align: left;\">08/27/2025</td><td style = \"text-align: left;\">09/02/2025</td><td style = \"text-align: left;\">12/30/2025</td><td style = \"text-align: right;\">98.6712</td><td style = \"text-align: right;\">0.04131</td></tr><tr><td class = \"rowNumber\" style = \"font-weight: bold; text-align: right;\">4</td><td style = \"text-align: left;\">912797QE0</td><td style = \"text-align: left;\">Bill</td><td style = \"text-align: left;\">6-Week</td><td style = \"text-align: left;\">08/26/2025</td><td style = \"text-align: left;\">08/28/2025</td><td style = \"text-align: left;\">10/09/2025</td><td style = \"text-align: right;\">99.5088</td><td style = \"text-align: right;\">0.0429</td></tr><tr><td class = \"rowNumber\" style = \"font-weight: bold; text-align: right;\">5</td><td style = \"text-align: left;\">912797NL7</td><td style = \"text-align: left;\">Bill</td><td style = \"text-align: left;\">13-Week</td><td style = \"text-align: left;\">08/25/2025</td><td style = \"text-align: left;\">08/28/2025</td><td style = \"text-align: left;\">11/28/2025</td><td style = \"text-align: right;\">98.9522</td><td style = \"text-align: right;\">0.04201</td></tr><tr><td class = \"rowNumber\" style = \"font-weight: bold; text-align: right;\">6</td><td style = \"text-align: left;\">912797RU3</td><td style = \"text-align: left;\">Bill</td><td style = \"text-align: left;\">26-Week</td><td style = \"text-align: left;\">08/25/2025</td><td style = \"text-align: left;\">08/28/2025</td><td style = \"text-align: left;\">02/26/2026</td><td style = \"text-align: right;\">98.0208</td><td style = \"text-align: right;\">0.0405</td></tr><tr><td class = \"rowNumber\" style = \"font-weight: bold; text-align: right;\">7</td><td style = \"text-align: left;\">912797QV2</td><td style = \"text-align: left;\">Bill</td><td style = \"text-align: left;\">4-Week</td><td style = \"text-align: left;\">08/21/2025</td><td style = \"text-align: left;\">08/26/2025</td><td style = \"text-align: left;\">09/23/2025</td><td style = \"text-align: right;\">99.6656</td><td style = \"text-align: right;\">0.04374</td></tr><tr><td class = \"rowNumber\" style = \"font-weight: bold; text-align: right;\">8</td><td style = \"text-align: left;\">912797RD1</td><td style = \"text-align: left;\">Bill</td><td style = \"text-align: left;\">8-Week</td><td style = \"text-align: left;\">08/21/2025</td><td style = \"text-align: left;\">08/26/2025</td><td style = \"text-align: left;\">10/21/2025</td><td style = \"text-align: right;\">99.3436</td><td style = \"text-align: right;\">0.04307</td></tr><tr><td class = \"rowNumber\" style = \"font-weight: bold; text-align: right;\">9</td><td style = \"text-align: left;\">912797RY5</td><td style = \"text-align: left;\">Bill</td><td style = \"text-align: left;\">17-Week</td><td style = \"text-align: left;\">08/20/2025</td><td style = \"text-align: left;\">08/26/2025</td><td style = \"text-align: left;\">12/23/2025</td><td style = \"text-align: right;\">98.6612</td><td style = \"text-align: right;\">0.04162</td></tr><tr><td class = \"rowNumber\" style = \"font-weight: bold; text-align: right;\">10</td><td style = \"text-align: left;\">912797MS3</td><td style = \"text-align: left;\">Bill</td><td style = \"text-align: left;\">6-Week</td><td style = \"text-align: left;\">08/19/2025</td><td style = \"text-align: left;\">08/21/2025</td><td style = \"text-align: left;\">10/02/2025</td><td style = \"text-align: right;\">99.5048</td><td style = \"text-align: right;\">0.04325</td></tr><tr><td class = \"rowNumber\" style = \"font-weight: bold; text-align: right;\">11</td><td style = \"text-align: left;\">912797QR1</td><td style = \"text-align: left;\">Bill</td><td style = \"text-align: left;\">13-Week</td><td style = \"text-align: left;\">08/18/2025</td><td style = \"text-align: left;\">08/21/2025</td><td style = \"text-align: left;\">11/20/2025</td><td style = \"text-align: right;\">98.956</td><td style = \"text-align: right;\">0.04232</td></tr><tr><td class = \"rowNumber\" style = \"font-weight: bold; text-align: right;\">12</td><td style = \"text-align: left;\">912797PM3</td><td style = \"text-align: left;\">Bill</td><td style = \"text-align: left;\">26-Week</td><td style = \"text-align: left;\">08/18/2025</td><td style = \"text-align: left;\">08/21/2025</td><td style = \"text-align: left;\">02/19/2026</td><td style = \"text-align: right;\">98.0056</td><td style = \"text-align: right;\">0.04081</td></tr><tr><td class = \"rowNumber\" style = \"font-weight: bold; text-align: right;\">13</td><td style = \"text-align: left;\">912797QU4</td><td style = \"text-align: left;\">Bill</td><td style = \"text-align: left;\">4-Week</td><td style = \"text-align: left;\">08/14/2025</td><td style = \"text-align: left;\">08/19/2025</td><td style = \"text-align: left;\">09/16/2025</td><td style = \"text-align: right;\">99.6671</td><td style = \"text-align: right;\">0.04354</td></tr><tr><td style = \"text-align: right;\">&vellip;</td><td style = \"text-align: right;\">&vellip;</td><td style = \"text-align: right;\">&vellip;</td><td style = \"text-align: right;\">&vellip;</td><td style = \"text-align: right;\">&vellip;</td><td style = \"text-align: right;\">&vellip;</td><td style = \"text-align: right;\">&vellip;</td><td style = \"text-align: right;\">&vellip;</td><td style = \"text-align: right;\">&vellip;</td></tr><tr><td class = \"rowNumber\" style = \"font-weight: bold; text-align: right;\">85</td><td style = \"text-align: left;\">912797QC4</td><td style = \"text-align: left;\">Bill</td><td style = \"text-align: left;\">8-Week</td><td style = \"text-align: left;\">05/29/2025</td><td style = \"text-align: left;\">06/03/2025</td><td style = \"text-align: left;\">07/29/2025</td><td style = \"text-align: right;\">99.3428</td><td style = \"text-align: right;\">0.04312</td></tr><tr><td class = \"rowNumber\" style = \"font-weight: bold; text-align: right;\">86</td><td style = \"text-align: left;\">912797QW0</td><td style = \"text-align: left;\">Bill</td><td style = \"text-align: left;\">17-Week</td><td style = \"text-align: left;\">05/28/2025</td><td style = \"text-align: left;\">06/03/2025</td><td style = \"text-align: left;\">09/30/2025</td><td style = \"text-align: right;\">98.6051</td><td style = \"text-align: right;\">0.04339</td></tr><tr><td class = \"rowNumber\" style = \"font-weight: bold; text-align: right;\">87</td><td style = \"text-align: left;\">912797LW5</td><td style = \"text-align: left;\">Bill</td><td style = \"text-align: left;\">6-Week</td><td style = \"text-align: left;\">05/27/2025</td><td style = \"text-align: left;\">05/29/2025</td><td style = \"text-align: left;\">07/10/2025</td><td style = \"text-align: right;\">99.5059</td><td style = \"text-align: right;\">0.04315</td></tr><tr><td class = \"rowNumber\" style = \"font-weight: bold; text-align: right;\">88</td><td style = \"text-align: left;\">912797PQ4</td><td style = \"text-align: left;\">Bill</td><td style = \"text-align: left;\">13-Week</td><td style = \"text-align: left;\">05/27/2025</td><td style = \"text-align: left;\">05/29/2025</td><td style = \"text-align: left;\">08/28/2025</td><td style = \"text-align: right;\">98.9244</td><td style = \"text-align: right;\">0.04361</td></tr><tr><td class = \"rowNumber\" style = \"font-weight: bold; text-align: right;\">89</td><td style = \"text-align: left;\">912797NL7</td><td style = \"text-align: left;\">Bill</td><td style = \"text-align: left;\">26-Week</td><td style = \"text-align: left;\">05/27/2025</td><td style = \"text-align: left;\">05/29/2025</td><td style = \"text-align: left;\">11/28/2025</td><td style = \"text-align: right;\">97.8853</td><td style = \"text-align: right;\">0.04309</td></tr><tr><td class = \"rowNumber\" style = \"font-weight: bold; text-align: right;\">90</td><td style = \"text-align: left;\">912797PT8</td><td style = \"text-align: left;\">Bill</td><td style = \"text-align: left;\">4-Week</td><td style = \"text-align: left;\">05/22/2025</td><td style = \"text-align: left;\">05/27/2025</td><td style = \"text-align: left;\">06/24/2025</td><td style = \"text-align: right;\">99.6718</td><td style = \"text-align: right;\">0.04293</td></tr><tr><td class = \"rowNumber\" style = \"font-weight: bold; text-align: right;\">91</td><td style = \"text-align: left;\">912797QB6</td><td style = \"text-align: left;\">Bill</td><td style = \"text-align: left;\">8-Week</td><td style = \"text-align: left;\">05/22/2025</td><td style = \"text-align: left;\">05/27/2025</td><td style = \"text-align: left;\">07/22/2025</td><td style = \"text-align: right;\">99.3412</td><td style = \"text-align: right;\">0.04322</td></tr><tr><td class = \"rowNumber\" style = \"font-weight: bold; text-align: right;\">92</td><td style = \"text-align: left;\">912797QV2</td><td style = \"text-align: left;\">Bill</td><td style = \"text-align: left;\">17-Week</td><td style = \"text-align: left;\">05/21/2025</td><td style = \"text-align: left;\">05/27/2025</td><td style = \"text-align: left;\">09/23/2025</td><td style = \"text-align: right;\">98.6017</td><td style = \"text-align: right;\">0.0435</td></tr><tr><td class = \"rowNumber\" style = \"font-weight: bold; text-align: right;\">93</td><td style = \"text-align: left;\">912797NX1</td><td style = \"text-align: left;\">Bill</td><td style = \"text-align: left;\">6-Week</td><td style = \"text-align: left;\">05/20/2025</td><td style = \"text-align: left;\">05/22/2025</td><td style = \"text-align: left;\">07/03/2025</td><td style = \"text-align: right;\">99.5059</td><td style = \"text-align: right;\">0.04315</td></tr><tr><td class = \"rowNumber\" style = \"font-weight: bold; text-align: right;\">94</td><td style = \"text-align: left;\">912797PP6</td><td style = \"text-align: left;\">Bill</td><td style = \"text-align: left;\">13-Week</td><td style = \"text-align: left;\">05/19/2025</td><td style = \"text-align: left;\">05/22/2025</td><td style = \"text-align: left;\">08/21/2025</td><td style = \"text-align: right;\">98.9168</td><td style = \"text-align: right;\">0.04392</td></tr><tr><td class = \"rowNumber\" style = \"font-weight: bold; text-align: right;\">95</td><td style = \"text-align: left;\">912797QR1</td><td style = \"text-align: left;\">Bill</td><td style = \"text-align: left;\">26-Week</td><td style = \"text-align: left;\">05/19/2025</td><td style = \"text-align: left;\">05/22/2025</td><td style = \"text-align: left;\">11/20/2025</td><td style = \"text-align: right;\">97.907</td><td style = \"text-align: right;\">0.04287</td></tr><tr><td class = \"rowNumber\" style = \"font-weight: bold; text-align: right;\">96</td><td style = \"text-align: left;\">912797PS0</td><td style = \"text-align: left;\">Bill</td><td style = \"text-align: left;\">4-Week</td><td style = \"text-align: left;\">05/15/2025</td><td style = \"text-align: left;\">05/20/2025</td><td style = \"text-align: left;\">06/17/2025</td><td style = \"text-align: right;\">99.6718</td><td style = \"text-align: right;\">0.04293</td></tr></tbody></table></div>"
      ],
      "text/latex": [
       "\\begin{tabular}{r|ccccccc}\n",
       "\t& CUSIP & Security Type & Security Term & Auction Date & Issue Date & Maturity Date & \\\\\n",
       "\t\\hline\n",
       "\t& String15 & String7 & String7 & String15 & String15 & String15 & \\\\\n",
       "\t\\hline\n",
       "\t1 & 912797QW0 & Bill & 4-Week & 08/28/2025 & 09/02/2025 & 09/30/2025 & $\\dots$ \\\\\n",
       "\t2 & 912797RE9 & Bill & 8-Week & 08/28/2025 & 09/02/2025 & 10/28/2025 & $\\dots$ \\\\\n",
       "\t3 & 912797RZ2 & Bill & 17-Week & 08/27/2025 & 09/02/2025 & 12/30/2025 & $\\dots$ \\\\\n",
       "\t4 & 912797QE0 & Bill & 6-Week & 08/26/2025 & 08/28/2025 & 10/09/2025 & $\\dots$ \\\\\n",
       "\t5 & 912797NL7 & Bill & 13-Week & 08/25/2025 & 08/28/2025 & 11/28/2025 & $\\dots$ \\\\\n",
       "\t6 & 912797RU3 & Bill & 26-Week & 08/25/2025 & 08/28/2025 & 02/26/2026 & $\\dots$ \\\\\n",
       "\t7 & 912797QV2 & Bill & 4-Week & 08/21/2025 & 08/26/2025 & 09/23/2025 & $\\dots$ \\\\\n",
       "\t8 & 912797RD1 & Bill & 8-Week & 08/21/2025 & 08/26/2025 & 10/21/2025 & $\\dots$ \\\\\n",
       "\t9 & 912797RY5 & Bill & 17-Week & 08/20/2025 & 08/26/2025 & 12/23/2025 & $\\dots$ \\\\\n",
       "\t10 & 912797MS3 & Bill & 6-Week & 08/19/2025 & 08/21/2025 & 10/02/2025 & $\\dots$ \\\\\n",
       "\t11 & 912797QR1 & Bill & 13-Week & 08/18/2025 & 08/21/2025 & 11/20/2025 & $\\dots$ \\\\\n",
       "\t12 & 912797PM3 & Bill & 26-Week & 08/18/2025 & 08/21/2025 & 02/19/2026 & $\\dots$ \\\\\n",
       "\t13 & 912797QU4 & Bill & 4-Week & 08/14/2025 & 08/19/2025 & 09/16/2025 & $\\dots$ \\\\\n",
       "\t14 & 912797RC3 & Bill & 8-Week & 08/14/2025 & 08/19/2025 & 10/14/2025 & $\\dots$ \\\\\n",
       "\t15 & 912797RX7 & Bill & 17-Week & 08/13/2025 & 08/19/2025 & 12/16/2025 & $\\dots$ \\\\\n",
       "\t16 & 912797PY7 & Bill & 6-Week & 08/12/2025 & 08/14/2025 & 09/25/2025 & $\\dots$ \\\\\n",
       "\t17 & 912797QQ3 & Bill & 13-Week & 08/11/2025 & 08/14/2025 & 11/13/2025 & $\\dots$ \\\\\n",
       "\t18 & 912797RT6 & Bill & 26-Week & 08/11/2025 & 08/14/2025 & 02/12/2026 & $\\dots$ \\\\\n",
       "\t19 & 912797QT7 & Bill & 4-Week & 08/07/2025 & 08/12/2025 & 09/09/2025 & $\\dots$ \\\\\n",
       "\t20 & 912797RB5 & Bill & 8-Week & 08/07/2025 & 08/12/2025 & 10/07/2025 & $\\dots$ \\\\\n",
       "\t21 & 912797RW9 & Bill & 17-Week & 08/06/2025 & 08/12/2025 & 12/09/2025 & $\\dots$ \\\\\n",
       "\t22 & 912797PX9 & Bill & 6-Week & 08/05/2025 & 08/07/2025 & 09/18/2025 & $\\dots$ \\\\\n",
       "\t23 & 912797RG4 & Bill & 52-Week & 08/05/2025 & 08/07/2025 & 08/06/2026 & $\\dots$ \\\\\n",
       "\t24 & 912797QP5 & Bill & 13-Week & 08/04/2025 & 08/07/2025 & 11/06/2025 & $\\dots$ \\\\\n",
       "\t$\\dots$ & $\\dots$ & $\\dots$ & $\\dots$ & $\\dots$ & $\\dots$ & $\\dots$ &  \\\\\n",
       "\\end{tabular}\n"
      ],
      "text/plain": [
       "\u001b[1m96×8 DataFrame\u001b[0m\n",
       "\u001b[1m Row \u001b[0m│\u001b[1m CUSIP     \u001b[0m\u001b[1m Security Type \u001b[0m\u001b[1m Security Term \u001b[0m\u001b[1m Auction Date \u001b[0m\u001b[1m Issue Date \u001b[0m\u001b[1m Matu\u001b[0m ⋯\n",
       "     │\u001b[90m String15  \u001b[0m\u001b[90m String7       \u001b[0m\u001b[90m String7       \u001b[0m\u001b[90m String15     \u001b[0m\u001b[90m String15   \u001b[0m\u001b[90m Stri\u001b[0m ⋯\n",
       "─────┼──────────────────────────────────────────────────────────────────────────\n",
       "   1 │ 912797QW0  Bill           4-Week         08/28/2025    09/02/2025  09/3 ⋯\n",
       "   2 │ 912797RE9  Bill           8-Week         08/28/2025    09/02/2025  10/2\n",
       "   3 │ 912797RZ2  Bill           17-Week        08/27/2025    09/02/2025  12/3\n",
       "   4 │ 912797QE0  Bill           6-Week         08/26/2025    08/28/2025  10/0\n",
       "   5 │ 912797NL7  Bill           13-Week        08/25/2025    08/28/2025  11/2 ⋯\n",
       "   6 │ 912797RU3  Bill           26-Week        08/25/2025    08/28/2025  02/2\n",
       "   7 │ 912797QV2  Bill           4-Week         08/21/2025    08/26/2025  09/2\n",
       "   8 │ 912797RD1  Bill           8-Week         08/21/2025    08/26/2025  10/2\n",
       "  ⋮  │     ⋮            ⋮              ⋮             ⋮            ⋮            ⋱\n",
       "  90 │ 912797PT8  Bill           4-Week         05/22/2025    05/27/2025  06/2 ⋯\n",
       "  91 │ 912797QB6  Bill           8-Week         05/22/2025    05/27/2025  07/2\n",
       "  92 │ 912797QV2  Bill           17-Week        05/21/2025    05/27/2025  09/2\n",
       "  93 │ 912797NX1  Bill           6-Week         05/20/2025    05/22/2025  07/0\n",
       "  94 │ 912797PP6  Bill           13-Week        05/19/2025    05/22/2025  08/2 ⋯\n",
       "  95 │ 912797QR1  Bill           26-Week        05/19/2025    05/22/2025  11/2\n",
       "  96 │ 912797PS0  Bill           4-Week         05/15/2025    05/20/2025  06/1\n",
       "\u001b[36m                                                   3 columns and 81 rows omitted\u001b[0m"
      ]
     },
     "metadata": {},
     "output_type": "display_data"
    }
   ],
   "source": [
    "dataset = MyTreasuryBillDataSet()"
   ]
  },
  {
   "cell_type": "markdown",
   "id": "d54d06f9-6f99-4080-9494-ae4a9a69a6b3",
   "metadata": {},
   "source": [
    "Next, let's store the dimension (number of records) of our treasury auction dataset in the `number_of_bills::Int64` variable using [the `nrow(...)` function exported by the DataFrames.jl package](https://dataframes.juliadata.org/stable/lib/functions/#DataAPI.nrow):"
   ]
  },
  {
   "cell_type": "code",
   "execution_count": 3,
   "id": "7cb3298f-a9a6-43be-89ff-87221b5b75ee",
   "metadata": {
    "tags": []
   },
   "outputs": [
    {
     "data": {
      "text/plain": [
       "96"
      ]
     },
     "metadata": {},
     "output_type": "display_data"
    }
   ],
   "source": [
    "number_of_bills = nrow(dataset)"
   ]
  },
  {
   "cell_type": "markdown",
   "id": "48f87c97",
   "metadata": {},
   "source": [
    "___"
   ]
  },
  {
   "cell_type": "markdown",
   "id": "0d16edf4-811d-4fd1-bc78-1ef8bc6de136",
   "metadata": {},
   "source": [
    "## Task 1: Compute the Price of Zero-Coupon Treasury Bills at Auction\n",
    "We compute the T-bill price by building a discounting model in this task. In this case, let's construct an instance of the [`DiscreteCompoundingModel` type](https://varnerlab.github.io/VLQuantitativeFinancePackage.jl/dev/fixed/#VLQuantitativeFinancePackage.DiscreteCompoundingModel) and store this discount model in the `discount_model` variable.\n",
    "\n",
    "> The [`DiscreteCompoundingModel` type](https://varnerlab.github.io/VLQuantitativeFinancePackage.jl/dev/fixed/#VLQuantitativeFinancePackage.DiscreteCompoundingModel) has no data associated with it. Instead, it is used [by the Julia multiple dispatch system](https://docs.julialang.org/en/v1/manual/methods/#Methods) so that we call the correct pricing methods later.\n",
    "\n",
    "Let's build our discount model:"
   ]
  },
  {
   "cell_type": "code",
   "execution_count": 4,
   "id": "29d8ba89-91b5-40a2-b388-8a4e5f4b4e02",
   "metadata": {
    "tags": []
   },
   "outputs": [],
   "source": [
    "discount_model = DiscreteCompoundingModel();"
   ]
  },
  {
   "cell_type": "markdown",
   "id": "414b44bc-8716-427b-8c10-a0e1e9051a8d",
   "metadata": {},
   "source": [
    "Next, let's build a zero-coupon Treasury bill model, an instance of [the `MyUSTreasuryZeroCouponBondModel` type](https://varnerlab.github.io/VLQuantitativeFinancePackage.jl/dev/fixed/#VLQuantitativeFinancePackage.MyUSTreasuryZeroCouponBondModel) using [a custom `build(...)` method](https://varnerlab.github.io/VLQuantitativeFinancePackage.jl/dev/fixed/#VLQuantitativeFinancePackage.build-Tuple{Type{MyUSTreasuryZeroCouponBondModel},%20NamedTuple}). \n",
    "\n",
    "> The [`build(...)` method](https://varnerlab.github.io/VLQuantitativeFinancePackage.jl/dev/fixed/#VLQuantitativeFinancePackage.build-Tuple{Type{MyUSTreasuryZeroCouponBondModel},%20NamedTuple}) requires two arguments: the type of thing we want to build, and [a NamedTuple](https://docs.julialang.org/en/v1/base/base/#Core.NamedTuple) holding data needed to construct the thing we want to build. In this case, we pass the `par` value of the T-bill and the `n` argument, i.e., the number of compounding periods per year. \n",
    "\n",
    "Let's build out the zero-coupon model. Store the zero-coupon model in the `model::MyUSTreasuryZeroCouponBondModel` variable."
   ]
  },
  {
   "cell_type": "code",
   "execution_count": 5,
   "id": "d0a68616-d274-42c5-ba91-75a14452c0d4",
   "metadata": {
    "tags": []
   },
   "outputs": [],
   "source": [
    "model = build(MyUSTreasuryZeroCouponBondModel, (\n",
    "    par = 100.0, n = 2\n",
    "));"
   ]
  },
  {
   "cell_type": "markdown",
   "id": "dc5f293c",
   "metadata": {},
   "source": [
    "We can use [the `typeof(...)` function](https://docs.julialang.org/en/v1/base/base/#Core.typeof) in combination with [the `fieldnames(...)` function](https://docs.julialang.org/en/v1/base/base/#Base.fieldnames) to inspect the structure of our model, i.e., what data the model holds:"
   ]
  },
  {
   "cell_type": "code",
   "execution_count": 6,
   "id": "603814ca-a941-484e-886c-916ed1b7c4e4",
   "metadata": {},
   "outputs": [
    {
     "data": {
      "text/plain": [
       "(:par, :rate, :T, :price, :n, :cashflow, :discount)"
      ]
     },
     "metadata": {},
     "output_type": "display_data"
    }
   ],
   "source": [
    "typeof(model) |> T -> fieldnames(T)"
   ]
  },
  {
   "cell_type": "markdown",
   "id": "d201bb4f-5fb7-4b9a-bd87-d840cab80fc7",
   "metadata": {},
   "source": [
    "The zero-coupon instance is missing some critical data, so let's manually add this to the `model` instance and then compute the price. We'll select an example T-bill from the `dataset::DataFrame`\n",
    "\n",
    "> __What is going on?__ We compute the price of the T-bill using the [Julia pipe `|>` operator](https://docs.julialang.org/en/v1/manual/functions/#Function-composition-and-piping) in combination with the discounting model [using a short-cut syntax](https://varnerlab.github.io/VLQuantitativeFinancePackage.jl/dev/fixed/#Short-cut-syntax).\n",
    "\n",
    "Compute the price at auction $V_{B}$:"
   ]
  },
  {
   "cell_type": "code",
   "execution_count": 7,
   "id": "400b7432-fffb-4802-904c-e6078dc2baa9",
   "metadata": {},
   "outputs": [
    {
     "data": {
      "text/plain": [
       "MyUSTreasuryZeroCouponBondModel(100.0, 0.0405, 0.4986301369863014, 98.02057600598177, 2, Dict(0 => -98.02057600598177, 1 => 100.0), Dict(0 => 1.0, 1 => 1.0201939641111417))"
      ]
     },
     "metadata": {},
     "output_type": "display_data"
    }
   ],
   "source": [
    "model.T = \"26-Week\"  |> securityterm; # parameters for T-bill #6\n",
    "model.rate = 0.0405; # parameters for T-bill # 6\n",
    "model |> discount_model"
   ]
  },
  {
   "cell_type": "markdown",
   "id": "46a1f550",
   "metadata": {},
   "source": [
    "Did we get the same price as that recorded at auction?\n",
    "\n",
    "> __Idea:__ If two values are within some relative tolerance `rtol` of each other, the [isapprox function](https://docs.julialang.org/en/v1/base/math/#Base.isapprox) returns `true`; otherwise, it returns `false`. When the [isapprox function](https://docs.julialang.org/en/v1/base/math/#Base.isapprox) is combined with the [@assert macro](https://docs.julialang.org/en/v1/base/base/#Base.@assert), a `false` result generates an [AssertionError](https://docs.julialang.org/en/v1/base/base/#Core.AssertionError). Thus, we have a simple test for equality that works well for floating-point numbers.\n",
    "\n",
    "So, how did we do?"
   ]
  },
  {
   "cell_type": "code",
   "execution_count": 8,
   "id": "8fce04a3",
   "metadata": {},
   "outputs": [],
   "source": [
    "let\n",
    "    auction_price = dataset[6, :Price];\n",
    "    computed_price = model.price\n",
    "    @assert isapprox(auction_price, computed_price; rtol=1e-4)\n",
    "end"
   ]
  },
  {
   "cell_type": "markdown",
   "id": "12428e76-4886-4f17-ba24-0e8a08bd05eb",
   "metadata": {},
   "source": [
    "### Batch Pricing: Compute Prices for All T-bills\n",
    "Finally, we compute the zero-coupon T-bill price for all the T-bills in `dataset` and compare the computed price to the price observed at auction. We process each record in the `dataset::DataFrame` using [a `for-loop`](https://docs.julialang.org/en/v1/base/base/#for). During each iteration of the loop:\n",
    "\n",
    "> __Each iteration:__ We get data from the `dataset::DataFrame` and update the T-bill model instance. In particular, we set the observed price to the variable `auction_price,` we set the duration `T` field (which we convert to the number of years using the local `securityterm` function) and the rate field on the `model::MyUSTreasuryZeroCouponBondModel` instance, and then we compute the price.\n",
    "\n",
    "We calculate the percentage error between the estimated and observed T-bill price and store the simulation data for each iteration in the `computed_price_table::DataFrame` using [the `push!(...)` function](https://dataframes.juliadata.org/stable/lib/functions/#Base.push!)"
   ]
  },
  {
   "cell_type": "code",
   "execution_count": 23,
   "id": "ec79323f-74a4-4a3d-9edd-522ace748b3c",
   "metadata": {
    "jupyter": {
     "source_hidden": true
    },
    "tags": []
   },
   "outputs": [
    {
     "name": "stdout",
     "output_type": "stream",
     "text": [
      "============ ========= ========= ========== ========= ==============\n",
      " \u001b[1m     CUSIP \u001b[0m \u001b[1m    term \u001b[0m \u001b[1m    rate \u001b[0m \u001b[1m computed \u001b[0m \u001b[1m  actual \u001b[0m \u001b[1m        rtol \u001b[0m\n",
      " \u001b[90m  String15 \u001b[0m \u001b[90m String7 \u001b[0m \u001b[90m Float64 \u001b[0m \u001b[90m  Float64 \u001b[0m \u001b[90m Float64 \u001b[0m \u001b[90m     Float64 \u001b[0m\n",
      "============ ========= ========= ========== ========= ==============\n",
      "  912797QW0    4-Week     4.318     99.672    99.669     2.9945e-5\n",
      "  912797RE9    8-Week      4.23     99.359    99.355    4.64703e-5\n",
      "  912797RZ2   17-Week     4.131     98.675    98.671    4.64237e-5\n",
      "  912797QE0    6-Week      4.29     99.512    99.508    3.95309e-5\n",
      "  912797NL7   13-Week     4.201     98.968    98.952   0.000167802\n",
      "  912797RU3   26-Week      4.05      98.02     98.02    1.77508e-6\n",
      "  912797QV2    4-Week     4.374     99.668    99.665    3.08123e-5\n",
      "  912797RD1    8-Week     4.307     99.348    99.343    4.82259e-5\n",
      "  912797RY5   17-Week     4.162     98.665    98.661    4.79185e-5\n",
      "  912797MS3    6-Week     4.325     99.508    99.504    4.11384e-5\n",
      "  912797QR1   13-Week     4.232     98.961    98.956    5.36606e-5\n",
      "  912797PM3   26-Week     4.081     98.005    98.005    1.47363e-6\n",
      "  912797QU4    4-Week     4.354      99.67    99.667    3.02251e-5\n",
      "  912797RC3    8-Week     4.271     99.353    99.349     4.7501e-5\n",
      "  912797RX7   17-Week     4.162     98.665    98.661    4.79185e-5\n",
      "  912797PY7    6-Week     4.346     99.506    99.502    4.09331e-5\n",
      "  912797QQ3   13-Week     4.252     98.956     98.95    5.59278e-5\n",
      "  912797RT6   26-Week     4.108     97.992    97.992    1.48523e-6\n",
      "  912797QT7    4-Week     4.374     99.668    99.665    3.08123e-5\n",
      "  912797RB5    8-Week     4.322     99.346    99.341    4.91926e-5\n",
      "  912797RW9   17-Week     4.219     98.648    98.643    5.01906e-5\n",
      "  912797PX9    6-Week     4.382     99.502    99.498    4.14381e-5\n",
      "  912797RG4   52-Week     3.924     96.198    96.198    5.75888e-6\n",
      "  912797QP5   13-Week     4.268     98.952    98.947     5.5182e-5\n",
      "  912797RL3   26-Week     4.118     97.988    97.987     1.2432e-6\n",
      "  912797QM2    4-Week     4.364     99.669    99.666    3.05235e-5\n",
      "  912797QW0    8-Week     4.379     99.337    99.332    4.97234e-5\n",
      "  912797RR0   17-Week     4.329     98.613    98.608    5.09803e-5\n",
      "  912797PW1    6-Week     4.351     99.505    99.501    4.11713e-5\n",
      "  912797NA1   13-Week      4.34     98.935    98.929    5.83053e-5\n",
      "  912797RK5   26-Week     4.266     97.917    97.917    9.95672e-7\n",
      "  912797QL4    4-Week     4.318     99.672    99.669     2.9945e-5\n",
      "  912797QV2    8-Week     4.353     99.341    99.336    4.96111e-5\n",
      "  912797RQ2   17-Week     4.344     98.608    98.603    5.33949e-5\n",
      "  912797MH7    6-Week     4.341     99.507    99.503    4.07051e-5\n",
      "  912797QG5   13-Week     4.345     98.934    98.928    5.88813e-5\n",
      "  912797PD3   26-Week     4.261     97.919    97.919    4.10627e-7\n",
      "  912797QK6    4-Week     4.303     99.673    99.671    2.95005e-5\n",
      "  912797QU4    8-Week     4.358      99.34    99.335    4.99353e-5\n",
      "  912797RP4   17-Week      4.35     98.606    98.601    5.10138e-5\n",
      "  912797PQ4    6-Week     4.341     99.507    99.503    4.07051e-5\n",
      "  912797QF7   13-Week     4.351     98.932    98.926    5.70178e-5\n",
      "  912797RJ8   26-Week     4.271     97.914    97.914    2.40323e-6\n",
      "  912797QJ9    4-Week     4.308     99.673     99.67    2.96486e-5\n",
      "  912797QT7    8-Week     4.363     99.339    99.335    5.02598e-5\n",
      "  912797RN9   17-Week      4.35     98.606     98.59   0.000170174\n",
      "  912797PP6    6-Week     4.346     99.506    99.502    4.09331e-5\n",
      "  912797RF6   52-Week     4.102     96.031    96.031    1.32112e-6\n",
      "  912797QE0   13-Week     4.361      98.93    98.924    5.81621e-5\n",
      "  912797RH2   26-Week     4.293     97.904    97.904    1.72717e-6\n",
      "  912797QH3    4-Week     4.313     99.673     99.67    2.97968e-5\n",
      "  912797QM2    8-Week     4.389     99.336    99.331    5.03746e-5\n",
      "  912797QV2    77-Day     4.385     99.089    99.083    5.67996e-5\n",
      "  912797RM1   17-Week     4.303     98.621    98.616    5.01541e-5\n",
      "  912797PN1    6-Week     4.423     99.497    99.493    4.21725e-5\n",
      "  912797MS3   13-Week      4.34     98.935    98.929    5.83053e-5\n",
      "  912797RA7   26-Week     4.256     97.921     97.91   0.000114777\n",
      "  912797QC4    4-Week     4.068     99.691    99.688    2.66149e-5\n",
      "  912797QL4    8-Week     4.482     99.322    99.317     5.1738e-5\n",
      "  912797QU4    77-Day     4.349     99.096     99.09    5.55724e-5\n",
      "  912797RE9   17-Week     4.313     98.618    98.613    5.17631e-5\n",
      "  912797MG9    6-Week     4.505     99.488    99.484    4.36957e-5\n",
      "  912797PY7   13-Week     4.299     98.945    98.939    5.61648e-5\n",
      "  912797NU7   26-Week     4.267     97.916    97.905   0.000112988\n",
      "  912797QB6    4-Week     4.129     99.686    99.684    2.75767e-5\n",
      "  912797QK6    8-Week     4.564      99.31    99.304    5.40154e-5\n",
      "  912797RD1   17-Week     4.355     98.605      98.6    5.18242e-5\n",
      "  912797PG6    6-Week     4.258     99.516    99.523     7.6264e-5\n",
      "  912797PX9   13-Week     4.345     98.934     98.94    6.01677e-5\n",
      "  912797QZ3   26-Week     4.303     97.899     97.91   0.000116794\n",
      "  912797QA8    4-Week      4.15     99.685    99.682    2.73932e-5\n",
      "  912797QJ9    8-Week     4.471     99.323    99.318    5.25784e-5\n",
      "  912797RC3   17-Week     4.339      98.61    98.605     5.2586e-5\n",
      "  912797PF8    6-Week     4.274     99.514     99.51    3.99697e-5\n",
      "  912797QX8   52-Week     4.118     96.016    96.016    2.92286e-6\n",
      "  912797PW1   13-Week     4.356     98.931    98.925    5.75948e-5\n",
      "  912797QY6   26-Week     4.298     97.901    97.901    3.13049e-7\n",
      "  912797PZ4    4-Week     4.242     99.678    99.675    2.84934e-5\n",
      "  912797QH3    8-Week     4.312     99.347    99.342    4.85479e-5\n",
      "  912797RB5   17-Week     4.323     98.615     98.61    5.33646e-5\n",
      "  912797PE1    6-Week     4.305     99.511    99.507    4.02203e-5\n",
      "  912797MH7   13-Week     4.356     98.931    98.925    5.75948e-5\n",
      "  912797QS9   26-Week     4.298     97.901    97.901    3.13049e-7\n",
      "  912797PU5    4-Week     4.288     99.675    99.672     2.9057e-5\n",
      "  912797QC4    8-Week     4.312     99.347    99.342    4.85479e-5\n",
      "  912797QW0   17-Week     4.339      98.61    98.605     5.2586e-5\n",
      "  912797LW5    6-Week     4.315     99.509    99.505     4.0674e-5\n",
      "  912797PQ4   13-Week     4.361      98.93    98.924    5.81621e-5\n",
      "  912797NL7   26-Week     4.309     97.896    97.885    0.00011567\n",
      "  912797PT8    4-Week     4.293     99.674    99.671    2.92047e-5\n",
      "  912797QB6    8-Week     4.322     99.346    99.341    4.91926e-5\n",
      "  912797QV2   17-Week      4.35     98.606    98.601    5.10138e-5\n",
      "  912797NX1    6-Week     4.315     99.509    99.505     4.0674e-5\n",
      "  912797PP6   13-Week     4.392     98.922    98.916    5.91969e-5\n",
      "  912797QR1   26-Week     4.287     97.907    97.907    1.74162e-6\n",
      "  912797PS0    4-Week     4.293     99.674    99.671    2.92047e-5\n",
      "============ ========= ========= ========== ========= ==============\n"
     ]
    }
   ],
   "source": [
    "let \n",
    "\n",
    "    # Initialize a fresh model for each T-bill calculation\n",
    "    model = build(MyUSTreasuryZeroCouponBondModel, (\n",
    "        par = 100.0, n = 2\n",
    "    ));\n",
    "    \n",
    "    computed_price_table = DataFrame();\n",
    "    for i ∈ 1:number_of_bills\n",
    "        \n",
    "        # Extract market data for this T-bill\n",
    "        auction_price = dataset[i, :Price];  # Actual auction price from market\n",
    "        \n",
    "        # Set model parameters from dataset\n",
    "        model.T = dataset[i, Symbol(\"Security Term\")] |> String |> securityterm; # Convert term to years\n",
    "        model.rate = dataset[i, Symbol(\"Investment Rate\")];  # Discount rate for pricing\n",
    "            \n",
    "        # Compute theoretical price using NPV approach\n",
    "        price_computed = model |> discount_model |> x-> x.price; \n",
    "        \n",
    "        # Calculate pricing error as relative tolerance\n",
    "        absrtol = abs((auction_price - price_computed)/(price_computed)); \n",
    "        \n",
    "        # Store results for analysis\n",
    "        results_tuple = (\n",
    "            CUSIP = dataset[i, :CUSIP],\n",
    "            term = dataset[i, Symbol(\"Security Term\")],\n",
    "            rate = (dataset[i, Symbol(\"Investment Rate\")] |> x-> 100*x),  # Convert to percentage\n",
    "            computed =  price_computed |> x-> trunc(x, digits=3),\n",
    "            actual = auction_price |> x-> trunc(x, digits=3),\n",
    "            rtol = absrtol\n",
    "        );\n",
    "        push!(computed_price_table, results_tuple)\n",
    "    end\n",
    "    pretty_table(computed_price_table, tf=tf_simple)\n",
    "end"
   ]
  },
  {
   "cell_type": "markdown",
   "id": "3045b8d6",
   "metadata": {},
   "source": [
    "___"
   ]
  },
  {
   "cell_type": "markdown",
   "id": "98c7e092-dca7-4db7-b7c7-927fe831a41c",
   "metadata": {},
   "source": [
    "## Task 2: Compute the T-bill price versus the interest rate\n",
    "Malkiel proposed five theorems that govern the price of fixed-income debt securities, e.g., [Treasury Bills, Notes, and Bonds](https://www.treasurydirect.gov/marketable-securities/), as a function of duration and interest rate values:\n",
    "* [Malkiel, B. G. (1962). Expectations, Bond Prices, and the Term Structure of Interest Rates. The Quarterly Journal of Economics, 76(2), 197–218](https://www.jstor.org/stable/1880816)\n",
    "\n",
    "The first of these theorems is that T-bill/note/bond prices are inversely proportional to the yield (the investment rate for T-bills):\n",
    "> __Theorem 1__: Bond prices move inversely to bond yields.\n",
    "\n",
    "Malkiel proved Theorem 1 analytically (and we'll do the same next time). However, now, let's test this relationship computationally. \n",
    "\n",
    "First, select a random bill from the `dataset::DataFrame` by selecting an index from `1...number_of_bills` using [the built-in Julia `rand(...)` function](https://docs.julialang.org/en/v1/stdlib/Random/#Base.rand). We'll use this T-bill as our example to test __Theorem 1.__"
   ]
  },
  {
   "cell_type": "code",
   "execution_count": 10,
   "id": "9feef898-63cf-49eb-8b1e-24628aa83093",
   "metadata": {
    "tags": []
   },
   "outputs": [
    {
     "name": "stdout",
     "output_type": "stream",
     "text": [
      "Selected bill: 76\n"
     ]
    }
   ],
   "source": [
    "random_bill_index = rand(1:number_of_bills)\n",
    "println(\"Selected bill: $(random_bill_index)\")"
   ]
  },
  {
   "cell_type": "markdown",
   "id": "b0f00583",
   "metadata": {},
   "source": [
    "What is the data for our test T-bill?"
   ]
  },
  {
   "cell_type": "code",
   "execution_count": 11,
   "id": "59f826ea-3ef1-4ae1-9414-3060ccfa0e58",
   "metadata": {
    "tags": []
   },
   "outputs": [
    {
     "data": {
      "text/html": [
       "<div><div style = \"float: left;\"><span>DataFrameRow (8 columns)</span></div><div style = \"clear: both;\"></div></div><div class = \"data-frame\" style = \"overflow-x: scroll;\"><table class = \"data-frame\" style = \"margin-bottom: 6px;\"><thead><tr class = \"header\"><th class = \"rowLabel\" style = \"font-weight: bold; text-align: right;\">Row</th><th style = \"text-align: left;\">CUSIP</th><th style = \"text-align: left;\">Security Type</th><th style = \"text-align: left;\">Security Term</th><th style = \"text-align: left;\">Auction Date</th><th style = \"text-align: left;\">Issue Date</th><th style = \"text-align: left;\">Maturity Date</th><th style = \"text-align: left;\">Price</th><th style = \"text-align: left;\">Investment Rate</th></tr><tr class = \"subheader headerLastRow\"><th class = \"rowLabel\" style = \"font-weight: bold; text-align: right;\"></th><th title = \"String15\" style = \"text-align: left;\">String15</th><th title = \"String7\" style = \"text-align: left;\">String7</th><th title = \"String7\" style = \"text-align: left;\">String7</th><th title = \"String15\" style = \"text-align: left;\">String15</th><th title = \"String15\" style = \"text-align: left;\">String15</th><th title = \"String15\" style = \"text-align: left;\">String15</th><th title = \"Float64\" style = \"text-align: left;\">Float64</th><th title = \"Float64\" style = \"text-align: left;\">Float64</th></tr></thead><tbody><tr><td class = \"rowLabel\" style = \"font-weight: bold; text-align: right;\">76</td><td style = \"text-align: left;\">912797PW1</td><td style = \"text-align: left;\">Bill</td><td style = \"text-align: left;\">13-Week</td><td style = \"text-align: left;\">06/09/2025</td><td style = \"text-align: left;\">06/12/2025</td><td style = \"text-align: left;\">09/11/2025</td><td style = \"text-align: right;\">98.9257</td><td style = \"text-align: right;\">0.04356</td></tr></tbody></table></div>"
      ],
      "text/latex": [
       "\\begin{tabular}{r|ccccccc}\n",
       "\t& CUSIP & Security Type & Security Term & Auction Date & Issue Date & Maturity Date & \\\\\n",
       "\t\\hline\n",
       "\t& String15 & String7 & String7 & String15 & String15 & String15 & \\\\\n",
       "\t\\hline\n",
       "\t76 & 912797PW1 & Bill & 13-Week & 06/09/2025 & 06/12/2025 & 09/11/2025 & $\\dots$ \\\\\n",
       "\\end{tabular}\n"
      ],
      "text/plain": [
       "\u001b[1mDataFrameRow\u001b[0m\n",
       "\u001b[1m Row \u001b[0m│\u001b[1m CUSIP     \u001b[0m\u001b[1m Security Type \u001b[0m\u001b[1m Security Term \u001b[0m\u001b[1m Auction Date \u001b[0m\u001b[1m Issue Date \u001b[0m\u001b[1m Matu\u001b[0m ⋯\n",
       "     │\u001b[90m String15  \u001b[0m\u001b[90m String7       \u001b[0m\u001b[90m String7       \u001b[0m\u001b[90m String15     \u001b[0m\u001b[90m String15   \u001b[0m\u001b[90m Stri\u001b[0m ⋯\n",
       "─────┼──────────────────────────────────────────────────────────────────────────\n",
       "  76 │ 912797PW1  Bill           13-Week        06/09/2025    06/12/2025  09/1 ⋯\n",
       "\u001b[36m                                                               3 columns omitted\u001b[0m"
      ]
     },
     "metadata": {},
     "output_type": "display_data"
    }
   ],
   "source": [
    "dataset[random_bill_index,:] # what is the auction data for this bill?"
   ]
  },
  {
   "cell_type": "markdown",
   "id": "321b20fa-d36e-4cab-a30c-1b8a42cc94bc",
   "metadata": {},
   "source": [
    "Next, create an instance of [the `MyUSTreasuryZeroCouponBondModel` model](https://varnerlab.github.io/VLQuantitativeFinancePackage.jl/dev/fixed/#VLQuantitativeFinancePackage.MyUSTreasuryZeroCouponBondModel) from the randomly selected nominal auction data using [the `build(...)` method](https://varnerlab.github.io/VLQuantitativeFinancePackage.jl/dev/fixed/#VLQuantitativeFinancePackage.build-Tuple{Type{MyUSTreasuryZeroCouponBondModel},%20NamedTuple}), assuming a par value of `100 USD` with two compounding periods per year. These values will be passed as arguments to the [`build(...)` method](https://varnerlab.github.io/VLQuantitativeFinancePackage.jl/dev/fixed/#VLQuantitativeFinancePackage.build-Tuple{Type{MyUSTreasuryZeroCouponBondModel},%20NamedTuple}) in the `par` and `n` parameters. \n",
    "\n",
    "Update the rest of the parameters on the `zero_coupon_model` instance from the `dataset`. The resulting zero-coupon model will be stored in the `model::MyUSTreasuryZeroCouponBondModel` variable.\n",
    "\n",
    "See the [DataFrames.jl documentation for examples of accessing data from a `DataFrame` instance](https://dataframes.juliadata.org/stable/man/basics/). "
   ]
  },
  {
   "cell_type": "code",
   "execution_count": 12,
   "id": "be57be48-2ad0-41a0-a8d1-74c90a36bea6",
   "metadata": {
    "tags": []
   },
   "outputs": [],
   "source": [
    "zero_coupon_model = build(MyUSTreasuryZeroCouponBondModel, (\n",
    "    par = 100.0, n = 2, \n",
    "    T = dataset[random_bill_index, Symbol(\"Security Term\")] |> String |> securityterm,\n",
    "    rate =  dataset[random_bill_index, Symbol(\"Investment Rate\")]\n",
    ")) |> discount_model; "
   ]
  },
  {
   "cell_type": "markdown",
   "id": "78fb07e0-99a1-4b51-a26c-993b85fce609",
   "metadata": {},
   "source": [
    "#### Check: Is the computed price _similar_ to the auction price $V_{B}$?\n",
    "The [isapprox function](https://docs.julialang.org/en/v1/base/math/#Base.isapprox) checks the equality of numerical values up to some tolerance value, where either relative `rtol` or absolute tolerance `atol` can be specified. Let's use relative tolerance. \n",
    "\n",
    "> __Idea:__ If two values are within `rtol` of each other, the [isapprox function](https://docs.julialang.org/en/v1/base/math/#Base.isapprox) returns `true`; otherwise, it returns `false`. When the [isapprox function](https://docs.julialang.org/en/v1/base/math/#Base.isapprox) is combined with the [@assert macro](https://docs.julialang.org/en/v1/base/base/#Base.@assert), a `false` result generates an [AssertionError](https://docs.julialang.org/en/v1/base/base/#Core.AssertionError). Thus, we have a simple test for equality that works well for floating-point numbers.\n",
    "\n",
    "So, how did we do?"
   ]
  },
  {
   "cell_type": "code",
   "execution_count": 13,
   "id": "bffc26c7-e4c3-4545-bf0d-f3f67b0e01b1",
   "metadata": {
    "tags": []
   },
   "outputs": [],
   "source": [
    "auction_price = dataset[random_bill_index, :Price];\n",
    "computed_price = zero_coupon_model.price\n",
    "@assert isapprox(auction_price, computed_price; rtol=1e-4)"
   ]
  },
  {
   "cell_type": "markdown",
   "id": "8c11b399-ebae-4738-9f1d-2691ef68819a",
   "metadata": {},
   "source": [
    "#### Can we see the cash flow events?\n",
    "The cash flow events for the T-bill are stored in the `cashflow::Dict{Int64, Float64}` dictionary of the zero-coupon model. For a zero-coupon T-bill, there are only two cash flows:\n",
    "\n",
    ">__Zero-coupon cash flows:__ An initial investment (negative $V_{B}$ cash flow at time `0`), and the payoff of par value $V_{P}$ (positive cash flow) at maturity (at time `1`).\n",
    "\n",
    "Let's take a look at them."
   ]
  },
  {
   "cell_type": "code",
   "execution_count": 14,
   "id": "87944e33-f460-4e72-a3a8-4c89b432fcd2",
   "metadata": {},
   "outputs": [
    {
     "data": {
      "text/plain": [
       "Dict{Int64, Float64} with 2 entries:\n",
       "  0 => -98.9314\n",
       "  1 => 100.0"
      ]
     },
     "metadata": {},
     "output_type": "display_data"
    }
   ],
   "source": [
    "zero_coupon_model.cashflow"
   ]
  },
  {
   "cell_type": "markdown",
   "id": "e17ee52d-441a-4c89-a016-86d348c4c7f7",
   "metadata": {},
   "source": [
    "### Interest Rate Perturbation Setup\n",
    "To simulate the impact of changes in the interest rate, let's perturb the effective nominal interest rate $\\bar{r}$, with all other values held constant, i.e., generate a new rate of the form $\\bar{r}\\leftarrow\\beta\\cdot\\bar{r}$, where $\\beta$ is a perturbation value; if $\\beta<1$ the perturbed interest rate is _less than_ the nominal rate, if $\\beta=1$ the perturbed interest rate is _equal to_ the nominal rate, and if $\\beta>1$ the perturbed interest rate is _greater than_ the nominal rate.\n",
    "\n",
    "* First, we specify the number of perturbation values we want to consider; we store this value in the `number_of_samples` variable. If `number_of_samples` is odd, the perturbation range will include the nominal interest rate as the center value.\n",
    "* Next, we specify the lower and upper values of the perturbation range; the lower bound is stored in the `β₁` variable, while the upper bound is stored in the `β₂` variable.\n",
    "* Finally, we compute the perturbation array (stored in the `β`-variable) using the [range function](https://docs.julialang.org/en/v1/base/math/#Base.range) in combination with the [Julia pipe |> operator](https://docs.julialang.org/en/v1/manual/functions/#Function-composition-and-piping), and [the Julia collect function](https://docs.julialang.org/en/v1/base/collections/#Base.collect-Tuple{Type,%20Any}), which converts a range type to a collection, i.e., an array"
   ]
  },
  {
   "cell_type": "code",
   "execution_count": 15,
   "id": "19e90d17-897e-4407-9e42-ead7b464a504",
   "metadata": {},
   "outputs": [],
   "source": [
    "number_of_samples = 7;\n",
    "β₁ = 0.8;\n",
    "β₂ = 1.2;\n",
    "β = range(β₁, stop = β₂, length = number_of_samples) |> collect;"
   ]
  },
  {
   "cell_type": "markdown",
   "id": "4bcdf189-e492-4e2e-8329-012c05fe1d04",
   "metadata": {},
   "source": [
    "### Theorem 1 Simulation: Price vs. Interest Rate\n",
    "Compute the price of the selected T-bill using different values for the effective interest rate and store the results in the `theorem_1_simulation_array` variable. Iterate through each value of the $\\beta$ array using a for loop, where we use the [eachindex function](https://docs.julialang.org/en/v1/base/arrays/#Base.eachindex). \n",
    "\n",
    "For iteration $i$ of the loop:\n",
    "* Get a value for the perturbation $\\beta_{i}$ from the $\\beta$-array, and compute the new effective interest rate $\\bar{r} \\gets \\beta_{i}\\cdot{\\bar{r}}$.\n",
    "* Update the `zero_coupon_model` instance with the new rate (set the `rate` field), and compute the new price\n",
    "* Store the $\\beta_{i}$ value in column 1 and the percentage difference in price in column 2 of the `theorem_1_simulation_array`\n",
    "* Store the new value of the effective interest rate and the new price in columns 3 and 4, respectively. "
   ]
  },
  {
   "cell_type": "code",
   "execution_count": 16,
   "id": "70f9101b-f93c-4468-b29a-c6257ffb4581",
   "metadata": {
    "tags": []
   },
   "outputs": [
    {
     "data": {
      "text/plain": [
       "7×4 Matrix{Float64}:\n",
       " 0.8        0.213255   0.034848  99.1424\n",
       " 0.866667   0.142018   0.037752  99.0719\n",
       " 0.933333   0.0709334  0.040656  99.0016\n",
       " 1.0        0.0        0.04356   98.9314\n",
       " 1.06667   -0.0707825  0.046464  98.8614\n",
       " 1.13333   -0.141415   0.049368  98.7915\n",
       " 1.2       -0.211897   0.052272  98.7218"
      ]
     },
     "metadata": {},
     "output_type": "display_data"
    }
   ],
   "source": [
    "theorem_1_simulation_array = let\n",
    "\n",
    "    # Initialize results matrix: [β_value, %_change, new_rate, new_price]\n",
    "    theorem_1_simulation_array = Array{Float64,2}(undef, number_of_samples, 4);\n",
    "    \n",
    "    # Test Malkiel's Theorem 1 by perturbing interest rates\n",
    "    for i ∈ eachindex(β)\n",
    "        \n",
    "        # Get perturbation factor for this iteration\n",
    "        β_value = β[i];\n",
    "        \n",
    "        # Calculate new interest rate: r̄_new = β * r̄_original\n",
    "        r̄ = dataset[random_bill_index, Symbol(\"Investment Rate\")];  # Original rate\n",
    "        r̄_value = β_value * r̄;  # Perturbed rate\n",
    "        \n",
    "        # Update model with new rate and compute price\n",
    "        zero_coupon_model.rate = r̄_value;\n",
    "        tmp = zero_coupon_model |> discount_model;\n",
    "        new_price = tmp.price;\n",
    "        \n",
    "        # Store results for analysis\n",
    "        theorem_1_simulation_array[i,1] = β_value;  # Perturbation factor\n",
    "        theorem_1_simulation_array[i,2] = ((new_price - computed_price)/(computed_price))*100;  # % price change\n",
    "        theorem_1_simulation_array[i,3] = r̄_value;  # New interest rate\n",
    "        theorem_1_simulation_array[i,4] = new_price;  # New price\n",
    "    end\n",
    "    theorem_1_simulation_array;\n",
    "end"
   ]
  },
  {
   "cell_type": "markdown",
   "id": "92580aee-434c-423a-b712-496de833a694",
   "metadata": {},
   "source": [
    "### Visualize the perturbation $\\beta$ versus the %-change in price\n",
    "`Unhide` the code block below to see how we plotted the percentage change in the T-bill price versus the $\\beta$-parameter (a surrogate for the effective interest rate). The case of $\\beta = 1$ denotes the nominal interest rate, $\\beta<1$ denotes decreased interest rates compared to the nominal value, and $\\beta>1$ denotes an increased interest rate.\n",
    "> __Expectation__: We expect the price of the T-bill to be inversely proportional to the $\\beta$-parameter, i.e., the effective interest rate of the instrument. If true, this would confirm  Theorem 1 by simulation.\n",
    "\n",
    "So what do we see?"
   ]
  },
  {
   "cell_type": "code",
   "execution_count": 17,
   "id": "5c6c834d-986d-4302-aca2-420b018bcc84",
   "metadata": {
    "jupyter": {
     "source_hidden": true
    },
    "tags": []
   },
   "outputs": [
    {
     "data": {
      "image/png": "[encoded data removed]",
      "image/svg+xml": [
       "<?xml version=\"1.0\" encoding=\"utf-8\"?>\n",
       "<svg xmlns=\"http://www.w3.org/2000/svg\" xmlns:xlink=\"http://www.w3.org/1999/xlink\" width=\"600\" height=\"400\" viewBox=\"0 0 2400 1600\">\n",
       "<defs>\n",
       "  <clipPath id=\"clip930\">\n",
       "    <rect x=\"0\" y=\"0\" width=\"2400\" height=\"1600\"/>\n",
       "  </clipPath>\n",
       "</defs>\n",
       "<path clip-path=\"url(#clip930)\" d=\"M0 1600 L2400 1600 L2400 8.88178e-14 L0 8.88178e-14  Z\" fill=\"#ffffff\" fill-rule=\"evenodd\" fill-opacity=\"1\"/>\n",
       "<defs>\n",
       "  <clipPath id=\"clip931\">\n",
       "    <rect x=\"480\" y=\"0\" width=\"1681\" height=\"1600\"/>\n",
       "  </clipPath>\n",
       "</defs>\n",
       "<path clip-path=\"url(#clip930)\" d=\"M255.977 1423.18 L2352.76 1423.18 L2352.76 47.2441 L255.977 47.2441  Z\" fill=\"#f2f2f2\" fill-rule=\"evenodd\" fill-opacity=\"1\"/>\n",
       "<defs>\n",
       "  <clipPath id=\"clip932\">\n",
       "    <rect x=\"255\" y=\"47\" width=\"2098\" height=\"1377\"/>\n",
       "  </clipPath>\n",
       "</defs>\n",
       "<polyline clip-path=\"url(#clip932)\" style=\"stroke:#000000; stroke-linecap:round; stroke-linejoin:round; stroke-width:2; stroke-opacity:0.1; fill:none\" points=\"315.32,1423.18 315.32,47.2441 \"/>\n",
       "<polyline clip-path=\"url(#clip932)\" style=\"stroke:#000000; stroke-linecap:round; stroke-linejoin:round; stroke-width:2; stroke-opacity:0.1; fill:none\" points=\"809.843,1423.18 809.843,47.2441 \"/>\n",
       "<polyline clip-path=\"url(#clip932)\" style=\"stroke:#000000; stroke-linecap:round; stroke-linejoin:round; stroke-width:2; stroke-opacity:0.1; fill:none\" points=\"1304.37,1423.18 1304.37,47.2441 \"/>\n",
       "<polyline clip-path=\"url(#clip932)\" style=\"stroke:#000000; stroke-linecap:round; stroke-linejoin:round; stroke-width:2; stroke-opacity:0.1; fill:none\" points=\"1798.89,1423.18 1798.89,47.2441 \"/>\n",
       "<polyline clip-path=\"url(#clip932)\" style=\"stroke:#000000; stroke-linecap:round; stroke-linejoin:round; stroke-width:2; stroke-opacity:0.1; fill:none\" points=\"2293.41,1423.18 2293.41,47.2441 \"/>\n",
       "<polyline clip-path=\"url(#clip932)\" style=\"stroke:#000000; stroke-linecap:round; stroke-linejoin:round; stroke-width:2; stroke-opacity:0.1; fill:none\" points=\"315.32,1423.18 315.32,47.2441 \"/>\n",
       "<polyline clip-path=\"url(#clip932)\" style=\"stroke:#000000; stroke-linecap:round; stroke-linejoin:round; stroke-width:2; stroke-opacity:0.1; fill:none\" points=\"809.843,1423.18 809.843,47.2441 \"/>\n",
       "<polyline clip-path=\"url(#clip932)\" style=\"stroke:#000000; stroke-linecap:round; stroke-linejoin:round; stroke-width:2; stroke-opacity:0.1; fill:none\" points=\"1304.37,1423.18 1304.37,47.2441 \"/>\n",
       "<polyline clip-path=\"url(#clip932)\" style=\"stroke:#000000; stroke-linecap:round; stroke-linejoin:round; stroke-width:2; stroke-opacity:0.1; fill:none\" points=\"1798.89,1423.18 1798.89,47.2441 \"/>\n",
       "<polyline clip-path=\"url(#clip932)\" style=\"stroke:#000000; stroke-linecap:round; stroke-linejoin:round; stroke-width:2; stroke-opacity:0.1; fill:none\" points=\"2293.41,1423.18 2293.41,47.2441 \"/>\n",
       "<polyline clip-path=\"url(#clip932)\" style=\"stroke:#000000; stroke-linecap:round; stroke-linejoin:round; stroke-width:2; stroke-opacity:0.1; fill:none\" points=\"255.977,1347.92 2352.76,1347.92 \"/>\n",
       "<polyline clip-path=\"url(#clip932)\" style=\"stroke:#000000; stroke-linecap:round; stroke-linejoin:round; stroke-width:2; stroke-opacity:0.1; fill:none\" points=\"255.977,1042.6 2352.76,1042.6 \"/>\n",
       "<polyline clip-path=\"url(#clip932)\" style=\"stroke:#000000; stroke-linecap:round; stroke-linejoin:round; stroke-width:2; stroke-opacity:0.1; fill:none\" points=\"255.977,737.285 2352.76,737.285 \"/>\n",
       "<polyline clip-path=\"url(#clip932)\" style=\"stroke:#000000; stroke-linecap:round; stroke-linejoin:round; stroke-width:2; stroke-opacity:0.1; fill:none\" points=\"255.977,431.97 2352.76,431.97 \"/>\n",
       "<polyline clip-path=\"url(#clip932)\" style=\"stroke:#000000; stroke-linecap:round; stroke-linejoin:round; stroke-width:2; stroke-opacity:0.1; fill:none\" points=\"255.977,126.655 2352.76,126.655 \"/>\n",
       "<polyline clip-path=\"url(#clip932)\" style=\"stroke:#000000; stroke-linecap:round; stroke-linejoin:round; stroke-width:2; stroke-opacity:0.1; fill:none\" points=\"255.977,1347.92 2352.76,1347.92 \"/>\n",
       "<polyline clip-path=\"url(#clip932)\" style=\"stroke:#000000; stroke-linecap:round; stroke-linejoin:round; stroke-width:2; stroke-opacity:0.1; fill:none\" points=\"255.977,1042.6 2352.76,1042.6 \"/>\n",
       "<polyline clip-path=\"url(#clip932)\" style=\"stroke:#000000; stroke-linecap:round; stroke-linejoin:round; stroke-width:2; stroke-opacity:0.1; fill:none\" points=\"255.977,737.285 2352.76,737.285 \"/>\n",
       "<polyline clip-path=\"url(#clip932)\" style=\"stroke:#000000; stroke-linecap:round; stroke-linejoin:round; stroke-width:2; stroke-opacity:0.1; fill:none\" points=\"255.977,431.97 2352.76,431.97 \"/>\n",
       "<polyline clip-path=\"url(#clip932)\" style=\"stroke:#000000; stroke-linecap:round; stroke-linejoin:round; stroke-width:2; stroke-opacity:0.1; fill:none\" points=\"255.977,126.655 2352.76,126.655 \"/>\n",
       "<polyline clip-path=\"url(#clip930)\" style=\"stroke:#000000; stroke-linecap:round; stroke-linejoin:round; stroke-width:4; stroke-opacity:1; fill:none\" points=\"255.977,1423.18 2352.76,1423.18 \"/>\n",
       "<polyline clip-path=\"url(#clip930)\" style=\"stroke:#000000; stroke-linecap:round; stroke-linejoin:round; stroke-width:4; stroke-opacity:1; fill:none\" points=\"255.977,47.2441 2352.76,47.2441 \"/>\n",
       "<polyline clip-path=\"url(#clip930)\" style=\"stroke:#000000; stroke-linecap:round; stroke-linejoin:round; stroke-width:4; stroke-opacity:1; fill:none\" points=\"315.32,1423.18 315.32,1404.28 \"/>\n",
       "<polyline clip-path=\"url(#clip930)\" style=\"stroke:#000000; stroke-linecap:round; stroke-linejoin:round; stroke-width:4; stroke-opacity:1; fill:none\" points=\"809.843,1423.18 809.843,1404.28 \"/>\n",
       "<polyline clip-path=\"url(#clip930)\" style=\"stroke:#000000; stroke-linecap:round; stroke-linejoin:round; stroke-width:4; stroke-opacity:1; fill:none\" points=\"1304.37,1423.18 1304.37,1404.28 \"/>\n",
       "<polyline clip-path=\"url(#clip930)\" style=\"stroke:#000000; stroke-linecap:round; stroke-linejoin:round; stroke-width:4; stroke-opacity:1; fill:none\" points=\"1798.89,1423.18 1798.89,1404.28 \"/>\n",
       "<polyline clip-path=\"url(#clip930)\" style=\"stroke:#000000; stroke-linecap:round; stroke-linejoin:round; stroke-width:4; stroke-opacity:1; fill:none\" points=\"2293.41,1423.18 2293.41,1404.28 \"/>\n",
       "<polyline clip-path=\"url(#clip930)\" style=\"stroke:#000000; stroke-linecap:round; stroke-linejoin:round; stroke-width:4; stroke-opacity:1; fill:none\" points=\"315.32,47.2441 315.32,66.1417 \"/>\n",
       "<polyline clip-path=\"url(#clip930)\" style=\"stroke:#000000; stroke-linecap:round; stroke-linejoin:round; stroke-width:4; stroke-opacity:1; fill:none\" points=\"809.843,47.2441 809.843,66.1417 \"/>\n",
       "<polyline clip-path=\"url(#clip930)\" style=\"stroke:#000000; stroke-linecap:round; stroke-linejoin:round; stroke-width:4; stroke-opacity:1; fill:none\" points=\"1304.37,47.2441 1304.37,66.1417 \"/>\n",
       "<polyline clip-path=\"url(#clip930)\" style=\"stroke:#000000; stroke-linecap:round; stroke-linejoin:round; stroke-width:4; stroke-opacity:1; fill:none\" points=\"1798.89,47.2441 1798.89,66.1417 \"/>\n",
       "<polyline clip-path=\"url(#clip930)\" style=\"stroke:#000000; stroke-linecap:round; stroke-linejoin:round; stroke-width:4; stroke-opacity:1; fill:none\" points=\"2293.41,47.2441 2293.41,66.1417 \"/>\n",
       "<path clip-path=\"url(#clip930)\" d=\"M292.751 1454.1 Q289.14 1454.1 287.311 1457.66 Q285.505 1461.2 285.505 1468.33 Q285.505 1475.44 287.311 1479.01 Q289.14 1482.55 292.751 1482.55 Q296.385 1482.55 298.19 1479.01 Q300.019 1475.44 300.019 1468.33 Q300.019 1461.2 298.19 1457.66 Q296.385 1454.1 292.751 1454.1 M292.751 1450.39 Q298.561 1450.39 301.616 1455 Q304.695 1459.58 304.695 1468.33 Q304.695 1477.06 301.616 1481.67 Q298.561 1486.25 292.751 1486.25 Q286.941 1486.25 283.862 1481.67 Q280.806 1477.06 280.806 1468.33 Q280.806 1459.58 283.862 1455 Q286.941 1450.39 292.751 1450.39 Z\" fill=\"#000000\" fill-rule=\"nonzero\" fill-opacity=\"1\" /><path clip-path=\"url(#clip930)\" d=\"M312.913 1479.7 L317.797 1479.7 L317.797 1485.58 L312.913 1485.58 L312.913 1479.7 Z\" fill=\"#000000\" fill-rule=\"nonzero\" fill-opacity=\"1\" /><path clip-path=\"url(#clip930)\" d=\"M337.982 1469.17 Q334.649 1469.17 332.727 1470.95 Q330.829 1472.73 330.829 1475.86 Q330.829 1478.98 332.727 1480.77 Q334.649 1482.55 337.982 1482.55 Q341.315 1482.55 343.236 1480.77 Q345.158 1478.96 345.158 1475.86 Q345.158 1472.73 343.236 1470.95 Q341.338 1469.17 337.982 1469.17 M333.306 1467.18 Q330.297 1466.44 328.607 1464.38 Q326.94 1462.32 326.94 1459.35 Q326.94 1455.21 329.88 1452.8 Q332.843 1450.39 337.982 1450.39 Q343.144 1450.39 346.084 1452.8 Q349.024 1455.21 349.024 1459.35 Q349.024 1462.32 347.334 1464.38 Q345.667 1466.44 342.681 1467.18 Q346.061 1467.96 347.936 1470.26 Q349.834 1472.55 349.834 1475.86 Q349.834 1480.88 346.755 1483.57 Q343.699 1486.25 337.982 1486.25 Q332.264 1486.25 329.186 1483.57 Q326.13 1480.88 326.13 1475.86 Q326.13 1472.55 328.028 1470.26 Q329.926 1467.96 333.306 1467.18 M331.593 1459.79 Q331.593 1462.48 333.26 1463.98 Q334.95 1465.49 337.982 1465.49 Q340.991 1465.49 342.681 1463.98 Q344.394 1462.48 344.394 1459.79 Q344.394 1457.11 342.681 1455.6 Q340.991 1454.1 337.982 1454.1 Q334.95 1454.1 333.26 1455.6 Q331.593 1457.11 331.593 1459.79 Z\" fill=\"#000000\" fill-rule=\"nonzero\" fill-opacity=\"1\" /><path clip-path=\"url(#clip930)\" d=\"M787.32 1454.1 Q783.709 1454.1 781.88 1457.66 Q780.075 1461.2 780.075 1468.33 Q780.075 1475.44 781.88 1479.01 Q783.709 1482.55 787.32 1482.55 Q790.954 1482.55 792.76 1479.01 Q794.589 1475.44 794.589 1468.33 Q794.589 1461.2 792.76 1457.66 Q790.954 1454.1 787.32 1454.1 M787.32 1450.39 Q793.13 1450.39 796.186 1455 Q799.265 1459.58 799.265 1468.33 Q799.265 1477.06 796.186 1481.67 Q793.13 1486.25 787.32 1486.25 Q781.51 1486.25 778.431 1481.67 Q775.376 1477.06 775.376 1468.33 Q775.376 1459.58 778.431 1455 Q781.51 1450.39 787.32 1450.39 Z\" fill=\"#000000\" fill-rule=\"nonzero\" fill-opacity=\"1\" /><path clip-path=\"url(#clip930)\" d=\"M807.482 1479.7 L812.366 1479.7 L812.366 1485.58 L807.482 1485.58 L807.482 1479.7 Z\" fill=\"#000000\" fill-rule=\"nonzero\" fill-opacity=\"1\" /><path clip-path=\"url(#clip930)\" d=\"M822.69 1484.86 L822.69 1480.6 Q824.45 1481.44 826.255 1481.88 Q828.061 1482.32 829.797 1482.32 Q834.426 1482.32 836.857 1479.21 Q839.311 1476.09 839.658 1469.75 Q838.315 1471.74 836.255 1472.8 Q834.195 1473.87 831.695 1473.87 Q826.51 1473.87 823.477 1470.74 Q820.468 1467.59 820.468 1462.15 Q820.468 1456.83 823.616 1453.61 Q826.764 1450.39 831.996 1450.39 Q837.991 1450.39 841.139 1455 Q844.311 1459.58 844.311 1468.33 Q844.311 1476.51 840.422 1481.39 Q836.556 1486.25 830.005 1486.25 Q828.246 1486.25 826.44 1485.9 Q824.635 1485.56 822.69 1484.86 M831.996 1470.21 Q835.144 1470.21 836.973 1468.06 Q838.825 1465.9 838.825 1462.15 Q838.825 1458.43 836.973 1456.27 Q835.144 1454.1 831.996 1454.1 Q828.848 1454.1 826.996 1456.27 Q825.167 1458.43 825.167 1462.15 Q825.167 1465.9 826.996 1468.06 Q828.848 1470.21 831.996 1470.21 Z\" fill=\"#000000\" fill-rule=\"nonzero\" fill-opacity=\"1\" /><path clip-path=\"url(#clip930)\" d=\"M1271.52 1481.64 L1279.16 1481.64 L1279.16 1455.28 L1270.85 1456.95 L1270.85 1452.69 L1279.11 1451.02 L1283.79 1451.02 L1283.79 1481.64 L1291.43 1481.64 L1291.43 1485.58 L1271.52 1485.58 L1271.52 1481.64 Z\" fill=\"#000000\" fill-rule=\"nonzero\" fill-opacity=\"1\" /><path clip-path=\"url(#clip930)\" d=\"M1300.87 1479.7 L1305.76 1479.7 L1305.76 1485.58 L1300.87 1485.58 L1300.87 1479.7 Z\" fill=\"#000000\" fill-rule=\"nonzero\" fill-opacity=\"1\" /><path clip-path=\"url(#clip930)\" d=\"M1325.94 1454.1 Q1322.33 1454.1 1320.5 1457.66 Q1318.7 1461.2 1318.7 1468.33 Q1318.7 1475.44 1320.5 1479.01 Q1322.33 1482.55 1325.94 1482.55 Q1329.57 1482.55 1331.38 1479.01 Q1333.21 1475.44 1333.21 1468.33 Q1333.21 1461.2 1331.38 1457.66 Q1329.57 1454.1 1325.94 1454.1 M1325.94 1450.39 Q1331.75 1450.39 1334.81 1455 Q1337.88 1459.58 1337.88 1468.33 Q1337.88 1477.06 1334.81 1481.67 Q1331.75 1486.25 1325.94 1486.25 Q1320.13 1486.25 1317.05 1481.67 Q1314 1477.06 1314 1468.33 Q1314 1459.58 1317.05 1455 Q1320.13 1450.39 1325.94 1450.39 Z\" fill=\"#000000\" fill-rule=\"nonzero\" fill-opacity=\"1\" /><path clip-path=\"url(#clip930)\" d=\"M1766.66 1481.64 L1774.3 1481.64 L1774.3 1455.28 L1765.98 1456.95 L1765.98 1452.69 L1774.25 1451.02 L1778.92 1451.02 L1778.92 1481.64 L1786.56 1481.64 L1786.56 1485.58 L1766.66 1485.58 L1766.66 1481.64 Z\" fill=\"#000000\" fill-rule=\"nonzero\" fill-opacity=\"1\" /><path clip-path=\"url(#clip930)\" d=\"M1796.01 1479.7 L1800.89 1479.7 L1800.89 1485.58 L1796.01 1485.58 L1796.01 1479.7 Z\" fill=\"#000000\" fill-rule=\"nonzero\" fill-opacity=\"1\" /><path clip-path=\"url(#clip930)\" d=\"M1811.89 1481.64 L1819.53 1481.64 L1819.53 1455.28 L1811.22 1456.95 L1811.22 1452.69 L1819.48 1451.02 L1824.16 1451.02 L1824.16 1481.64 L1831.79 1481.64 L1831.79 1485.58 L1811.89 1485.58 L1811.89 1481.64 Z\" fill=\"#000000\" fill-rule=\"nonzero\" fill-opacity=\"1\" /><path clip-path=\"url(#clip930)\" d=\"M2261.36 1481.64 L2269 1481.64 L2269 1455.28 L2260.69 1456.95 L2260.69 1452.69 L2268.96 1451.02 L2273.63 1451.02 L2273.63 1481.64 L2281.27 1481.64 L2281.27 1485.58 L2261.36 1485.58 L2261.36 1481.64 Z\" fill=\"#000000\" fill-rule=\"nonzero\" fill-opacity=\"1\" /><path clip-path=\"url(#clip930)\" d=\"M2290.72 1479.7 L2295.6 1479.7 L2295.6 1485.58 L2290.72 1485.58 L2290.72 1479.7 Z\" fill=\"#000000\" fill-rule=\"nonzero\" fill-opacity=\"1\" /><path clip-path=\"url(#clip930)\" d=\"M2309.81 1481.64 L2326.13 1481.64 L2326.13 1485.58 L2304.19 1485.58 L2304.19 1481.64 Q2306.85 1478.89 2311.43 1474.26 Q2316.04 1469.61 2317.22 1468.27 Q2319.47 1465.74 2320.35 1464.01 Q2321.25 1462.25 2321.25 1460.56 Q2321.25 1457.8 2319.3 1456.07 Q2317.38 1454.33 2314.28 1454.33 Q2312.08 1454.33 2309.63 1455.09 Q2307.2 1455.86 2304.42 1457.41 L2304.42 1452.69 Q2307.24 1451.55 2309.7 1450.97 Q2312.15 1450.39 2314.19 1450.39 Q2319.56 1450.39 2322.75 1453.08 Q2325.95 1455.77 2325.95 1460.26 Q2325.95 1462.39 2325.14 1464.31 Q2324.35 1466.2 2322.24 1468.8 Q2321.67 1469.47 2318.56 1472.69 Q2315.46 1475.88 2309.81 1481.64 Z\" fill=\"#000000\" fill-rule=\"nonzero\" fill-opacity=\"1\" /><path clip-path=\"url(#clip930)\" d=\"M1294.85 1565.85 L1294.85 1581.6 L1288.96 1581.6 L1288.96 1532.62 Q1288.96 1518.1 1302.52 1518.1 Q1316.33 1518.1 1316.33 1530.36 Q1316.33 1539.08 1310.86 1542.26 Q1319.77 1545.13 1319.77 1553.63 Q1319.77 1568.71 1304.43 1568.71 Q1297.68 1568.71 1294.85 1565.85 M1294.85 1558.21 Q1298.38 1563.72 1304.65 1563.72 Q1313.82 1563.72 1313.82 1553.72 Q1313.82 1544.75 1299.05 1545.45 L1299.05 1540.03 Q1310.6 1540.03 1310.6 1529.85 Q1310.6 1522.88 1303.16 1522.88 Q1294.85 1522.88 1294.85 1532.81 L1294.85 1558.21 Z\" fill=\"#000000\" fill-rule=\"nonzero\" fill-opacity=\"1\" /><polyline clip-path=\"url(#clip930)\" style=\"stroke:#000000; stroke-linecap:round; stroke-linejoin:round; stroke-width:4; stroke-opacity:1; fill:none\" points=\"255.977,1423.18 255.977,47.2441 \"/>\n",
       "<polyline clip-path=\"url(#clip930)\" style=\"stroke:#000000; stroke-linecap:round; stroke-linejoin:round; stroke-width:4; stroke-opacity:1; fill:none\" points=\"2352.76,1423.18 2352.76,47.2441 \"/>\n",
       "<polyline clip-path=\"url(#clip930)\" style=\"stroke:#000000; stroke-linecap:round; stroke-linejoin:round; stroke-width:4; stroke-opacity:1; fill:none\" points=\"255.977,1347.92 274.875,1347.92 \"/>\n",
       "<polyline clip-path=\"url(#clip930)\" style=\"stroke:#000000; stroke-linecap:round; stroke-linejoin:round; stroke-width:4; stroke-opacity:1; fill:none\" points=\"255.977,1042.6 274.875,1042.6 \"/>\n",
       "<polyline clip-path=\"url(#clip930)\" style=\"stroke:#000000; stroke-linecap:round; stroke-linejoin:round; stroke-width:4; stroke-opacity:1; fill:none\" points=\"255.977,737.285 274.875,737.285 \"/>\n",
       "<polyline clip-path=\"url(#clip930)\" style=\"stroke:#000000; stroke-linecap:round; stroke-linejoin:round; stroke-width:4; stroke-opacity:1; fill:none\" points=\"255.977,431.97 274.875,431.97 \"/>\n",
       "<polyline clip-path=\"url(#clip930)\" style=\"stroke:#000000; stroke-linecap:round; stroke-linejoin:round; stroke-width:4; stroke-opacity:1; fill:none\" points=\"255.977,126.655 274.875,126.655 \"/>\n",
       "<polyline clip-path=\"url(#clip930)\" style=\"stroke:#000000; stroke-linecap:round; stroke-linejoin:round; stroke-width:4; stroke-opacity:1; fill:none\" points=\"2352.76,1347.92 2333.86,1347.92 \"/>\n",
       "<polyline clip-path=\"url(#clip930)\" style=\"stroke:#000000; stroke-linecap:round; stroke-linejoin:round; stroke-width:4; stroke-opacity:1; fill:none\" points=\"2352.76,1042.6 2333.86,1042.6 \"/>\n",
       "<polyline clip-path=\"url(#clip930)\" style=\"stroke:#000000; stroke-linecap:round; stroke-linejoin:round; stroke-width:4; stroke-opacity:1; fill:none\" points=\"2352.76,737.285 2333.86,737.285 \"/>\n",
       "<polyline clip-path=\"url(#clip930)\" style=\"stroke:#000000; stroke-linecap:round; stroke-linejoin:round; stroke-width:4; stroke-opacity:1; fill:none\" points=\"2352.76,431.97 2333.86,431.97 \"/>\n",
       "<polyline clip-path=\"url(#clip930)\" style=\"stroke:#000000; stroke-linecap:round; stroke-linejoin:round; stroke-width:4; stroke-opacity:1; fill:none\" points=\"2352.76,126.655 2333.86,126.655 \"/>\n",
       "<path clip-path=\"url(#clip930)\" d=\"M114.631 1348.37 L144.306 1348.37 L144.306 1352.3 L114.631 1352.3 L114.631 1348.37 Z\" fill=\"#000000\" fill-rule=\"nonzero\" fill-opacity=\"1\" /><path clip-path=\"url(#clip930)\" d=\"M164.399 1333.71 Q160.788 1333.71 158.959 1337.28 Q157.153 1340.82 157.153 1347.95 Q157.153 1355.06 158.959 1358.62 Q160.788 1362.16 164.399 1362.16 Q168.033 1362.16 169.839 1358.62 Q171.667 1355.06 171.667 1347.95 Q171.667 1340.82 169.839 1337.28 Q168.033 1333.71 164.399 1333.71 M164.399 1330.01 Q170.209 1330.01 173.264 1334.62 Q176.343 1339.2 176.343 1347.95 Q176.343 1356.68 173.264 1361.28 Q170.209 1365.87 164.399 1365.87 Q158.589 1365.87 155.51 1361.28 Q152.454 1356.68 152.454 1347.95 Q152.454 1339.2 155.51 1334.62 Q158.589 1330.01 164.399 1330.01 Z\" fill=\"#000000\" fill-rule=\"nonzero\" fill-opacity=\"1\" /><path clip-path=\"url(#clip930)\" d=\"M184.561 1359.32 L189.445 1359.32 L189.445 1365.2 L184.561 1365.2 L184.561 1359.32 Z\" fill=\"#000000\" fill-rule=\"nonzero\" fill-opacity=\"1\" /><path clip-path=\"url(#clip930)\" d=\"M203.658 1361.26 L219.977 1361.26 L219.977 1365.2 L198.033 1365.2 L198.033 1361.26 Q200.695 1358.51 205.278 1353.88 Q209.885 1349.22 211.065 1347.88 Q213.311 1345.36 214.19 1343.62 Q215.093 1341.86 215.093 1340.17 Q215.093 1337.42 213.149 1335.68 Q211.227 1333.95 208.125 1333.95 Q205.926 1333.95 203.473 1334.71 Q201.042 1335.47 198.264 1337.02 L198.264 1332.3 Q201.088 1331.17 203.542 1330.59 Q205.996 1330.01 208.033 1330.01 Q213.403 1330.01 216.598 1332.7 Q219.792 1335.38 219.792 1339.87 Q219.792 1342 218.982 1343.92 Q218.195 1345.82 216.088 1348.41 Q215.51 1349.08 212.408 1352.3 Q209.306 1355.5 203.658 1361.26 Z\" fill=\"#000000\" fill-rule=\"nonzero\" fill-opacity=\"1\" /><path clip-path=\"url(#clip930)\" d=\"M114.26 1043.05 L143.936 1043.05 L143.936 1046.99 L114.26 1046.99 L114.26 1043.05 Z\" fill=\"#000000\" fill-rule=\"nonzero\" fill-opacity=\"1\" /><path clip-path=\"url(#clip930)\" d=\"M164.028 1028.4 Q160.417 1028.4 158.589 1031.96 Q156.783 1035.51 156.783 1042.64 Q156.783 1049.74 158.589 1053.31 Q160.417 1056.85 164.028 1056.85 Q167.663 1056.85 169.468 1053.31 Q171.297 1049.74 171.297 1042.64 Q171.297 1035.51 169.468 1031.96 Q167.663 1028.4 164.028 1028.4 M164.028 1024.7 Q169.839 1024.7 172.894 1029.3 Q175.973 1033.89 175.973 1042.64 Q175.973 1051.36 172.894 1055.97 Q169.839 1060.55 164.028 1060.55 Q158.218 1060.55 155.14 1055.97 Q152.084 1051.36 152.084 1042.64 Q152.084 1033.89 155.14 1029.3 Q158.218 1024.7 164.028 1024.7 Z\" fill=\"#000000\" fill-rule=\"nonzero\" fill-opacity=\"1\" /><path clip-path=\"url(#clip930)\" d=\"M184.19 1054 L189.075 1054 L189.075 1059.88 L184.19 1059.88 L184.19 1054 Z\" fill=\"#000000\" fill-rule=\"nonzero\" fill-opacity=\"1\" /><path clip-path=\"url(#clip930)\" d=\"M200.07 1055.95 L207.709 1055.95 L207.709 1029.58 L199.399 1031.25 L199.399 1026.99 L207.662 1025.32 L212.338 1025.32 L212.338 1055.95 L219.977 1055.95 L219.977 1059.88 L200.07 1059.88 L200.07 1055.95 Z\" fill=\"#000000\" fill-rule=\"nonzero\" fill-opacity=\"1\" /><path clip-path=\"url(#clip930)\" d=\"M162.802 723.084 Q159.19 723.084 157.362 726.649 Q155.556 730.19 155.556 737.32 Q155.556 744.426 157.362 747.991 Q159.19 751.533 162.802 751.533 Q166.436 751.533 168.241 747.991 Q170.07 744.426 170.07 737.32 Q170.07 730.19 168.241 726.649 Q166.436 723.084 162.802 723.084 M162.802 719.38 Q168.612 719.38 171.667 723.987 Q174.746 728.57 174.746 737.32 Q174.746 746.047 171.667 750.653 Q168.612 755.237 162.802 755.237 Q156.991 755.237 153.913 750.653 Q150.857 746.047 150.857 737.32 Q150.857 728.57 153.913 723.987 Q156.991 719.38 162.802 719.38 Z\" fill=\"#000000\" fill-rule=\"nonzero\" fill-opacity=\"1\" /><path clip-path=\"url(#clip930)\" d=\"M182.963 748.686 L187.848 748.686 L187.848 754.565 L182.963 754.565 L182.963 748.686 Z\" fill=\"#000000\" fill-rule=\"nonzero\" fill-opacity=\"1\" /><path clip-path=\"url(#clip930)\" d=\"M208.033 723.084 Q204.422 723.084 202.593 726.649 Q200.787 730.19 200.787 737.32 Q200.787 744.426 202.593 747.991 Q204.422 751.533 208.033 751.533 Q211.667 751.533 213.473 747.991 Q215.301 744.426 215.301 737.32 Q215.301 730.19 213.473 726.649 Q211.667 723.084 208.033 723.084 M208.033 719.38 Q213.843 719.38 216.898 723.987 Q219.977 728.57 219.977 737.32 Q219.977 746.047 216.898 750.653 Q213.843 755.237 208.033 755.237 Q202.223 755.237 199.144 750.653 Q196.088 746.047 196.088 737.32 Q196.088 728.57 199.144 723.987 Q202.223 719.38 208.033 719.38 Z\" fill=\"#000000\" fill-rule=\"nonzero\" fill-opacity=\"1\" /><path clip-path=\"url(#clip930)\" d=\"M164.028 417.769 Q160.417 417.769 158.589 421.334 Q156.783 424.875 156.783 432.005 Q156.783 439.111 158.589 442.676 Q160.417 446.218 164.028 446.218 Q167.663 446.218 169.468 442.676 Q171.297 439.111 171.297 432.005 Q171.297 424.875 169.468 421.334 Q167.663 417.769 164.028 417.769 M164.028 414.065 Q169.839 414.065 172.894 418.672 Q175.973 423.255 175.973 432.005 Q175.973 440.732 172.894 445.338 Q169.839 449.921 164.028 449.921 Q158.218 449.921 155.14 445.338 Q152.084 440.732 152.084 432.005 Q152.084 423.255 155.14 418.672 Q158.218 414.065 164.028 414.065 Z\" fill=\"#000000\" fill-rule=\"nonzero\" fill-opacity=\"1\" /><path clip-path=\"url(#clip930)\" d=\"M184.19 443.37 L189.075 443.37 L189.075 449.25 L184.19 449.25 L184.19 443.37 Z\" fill=\"#000000\" fill-rule=\"nonzero\" fill-opacity=\"1\" /><path clip-path=\"url(#clip930)\" d=\"M200.07 445.315 L207.709 445.315 L207.709 418.949 L199.399 420.616 L199.399 416.357 L207.662 414.69 L212.338 414.69 L212.338 445.315 L219.977 445.315 L219.977 449.25 L200.07 449.25 L200.07 445.315 Z\" fill=\"#000000\" fill-rule=\"nonzero\" fill-opacity=\"1\" /><path clip-path=\"url(#clip930)\" d=\"M164.399 112.454 Q160.788 112.454 158.959 116.018 Q157.153 119.56 157.153 126.69 Q157.153 133.796 158.959 137.361 Q160.788 140.903 164.399 140.903 Q168.033 140.903 169.839 137.361 Q171.667 133.796 171.667 126.69 Q171.667 119.56 169.839 116.018 Q168.033 112.454 164.399 112.454 M164.399 108.75 Q170.209 108.75 173.264 113.356 Q176.343 117.94 176.343 126.69 Q176.343 135.416 173.264 140.023 Q170.209 144.606 164.399 144.606 Q158.589 144.606 155.51 140.023 Q152.454 135.416 152.454 126.69 Q152.454 117.94 155.51 113.356 Q158.589 108.75 164.399 108.75 Z\" fill=\"#000000\" fill-rule=\"nonzero\" fill-opacity=\"1\" /><path clip-path=\"url(#clip930)\" d=\"M184.561 138.055 L189.445 138.055 L189.445 143.935 L184.561 143.935 L184.561 138.055 Z\" fill=\"#000000\" fill-rule=\"nonzero\" fill-opacity=\"1\" /><path clip-path=\"url(#clip930)\" d=\"M203.658 140 L219.977 140 L219.977 143.935 L198.033 143.935 L198.033 140 Q200.695 137.245 205.278 132.616 Q209.885 127.963 211.065 126.62 Q213.311 124.097 214.19 122.361 Q215.093 120.602 215.093 118.912 Q215.093 116.157 213.149 114.421 Q211.227 112.685 208.125 112.685 Q205.926 112.685 203.473 113.449 Q201.042 114.213 198.264 115.764 L198.264 111.042 Q201.088 109.907 203.542 109.329 Q205.996 108.75 208.033 108.75 Q213.403 108.75 216.598 111.435 Q219.792 114.12 219.792 118.611 Q219.792 120.741 218.982 122.662 Q218.195 124.56 216.088 127.153 Q215.51 127.824 212.408 131.041 Q209.306 134.236 203.658 140 Z\" fill=\"#000000\" fill-rule=\"nonzero\" fill-opacity=\"1\" /><path clip-path=\"url(#clip930)\" d=\"M21.7677 1216.38 L39.6235 1216.38 L39.6235 1208.3 Q39.6235 1203.81 37.3 1201.36 Q34.9765 1198.91 30.6797 1198.91 Q26.4147 1198.91 24.0912 1201.36 Q21.7677 1203.81 21.7677 1208.3 L21.7677 1216.38 M16.4842 1222.81 L16.4842 1208.3 Q16.4842 1200.31 20.1126 1196.23 Q23.7092 1192.13 30.6797 1192.13 Q37.7138 1192.13 41.3104 1196.23 Q44.907 1200.31 44.907 1208.3 L44.907 1216.38 L64.0042 1216.38 L64.0042 1222.81 L16.4842 1222.81 Z\" fill=\"#000000\" fill-rule=\"nonzero\" fill-opacity=\"1\" /><path clip-path=\"url(#clip930)\" d=\"M44.7161 1155.59 L47.5806 1155.59 L47.5806 1182.51 Q53.6281 1182.13 56.8109 1178.89 Q59.9619 1175.61 59.9619 1169.78 Q59.9619 1166.41 59.1344 1163.26 Q58.3069 1160.08 56.6518 1156.96 L62.1899 1156.96 Q63.5267 1160.11 64.227 1163.42 Q64.9272 1166.73 64.9272 1170.13 Q64.9272 1178.66 59.9619 1183.66 Q54.9967 1188.63 46.5303 1188.63 Q37.7774 1188.63 32.6531 1183.91 Q27.4968 1179.17 27.4968 1171.15 Q27.4968 1163.96 32.1438 1159.79 Q36.7589 1155.59 44.7161 1155.59 M42.9973 1161.44 Q38.1912 1161.51 35.3266 1164.15 Q32.4621 1166.76 32.4621 1171.09 Q32.4621 1175.99 35.2312 1178.95 Q38.0002 1181.88 43.0292 1182.32 L42.9973 1161.44 Z\" fill=\"#000000\" fill-rule=\"nonzero\" fill-opacity=\"1\" /><path clip-path=\"url(#clip930)\" d=\"M33.8307 1125.32 Q33.2578 1126.31 33.0032 1127.48 Q32.7167 1128.63 32.7167 1130.03 Q32.7167 1134.99 35.9632 1137.67 Q39.1779 1140.31 45.2253 1140.31 L64.0042 1140.31 L64.0042 1146.2 L28.3562 1146.2 L28.3562 1140.31 L33.8944 1140.31 Q30.6479 1138.46 29.0883 1135.5 Q27.4968 1132.54 27.4968 1128.31 Q27.4968 1127.71 27.5923 1126.97 Q27.656 1126.24 27.8151 1125.35 L33.8307 1125.32 Z\" fill=\"#000000\" fill-rule=\"nonzero\" fill-opacity=\"1\" /><path clip-path=\"url(#clip930)\" d=\"M29.7248 1094.95 L35.1993 1094.95 Q33.8307 1097.44 33.1623 1099.95 Q32.4621 1102.43 32.4621 1104.98 Q32.4621 1110.68 36.0905 1113.83 Q39.6872 1116.98 46.212 1116.98 Q52.7369 1116.98 56.3653 1113.83 Q59.9619 1110.68 59.9619 1104.98 Q59.9619 1102.43 59.2935 1099.95 Q58.5933 1097.44 57.2247 1094.95 L62.6355 1094.95 Q63.7814 1097.4 64.3543 1100.05 Q64.9272 1102.66 64.9272 1105.62 Q64.9272 1113.67 59.8664 1118.41 Q54.8057 1123.15 46.212 1123.15 Q37.491 1123.15 32.4939 1118.38 Q27.4968 1113.57 27.4968 1105.23 Q27.4968 1102.53 28.0697 1099.95 Q28.6108 1097.37 29.7248 1094.95 Z\" fill=\"#000000\" fill-rule=\"nonzero\" fill-opacity=\"1\" /><path clip-path=\"url(#clip930)\" d=\"M44.7161 1054.28 L47.5806 1054.28 L47.5806 1081.2 Q53.6281 1080.82 56.8109 1077.58 Q59.9619 1074.3 59.9619 1068.47 Q59.9619 1065.1 59.1344 1061.95 Q58.3069 1058.76 56.6518 1055.65 L62.1899 1055.65 Q63.5267 1058.8 64.227 1062.11 Q64.9272 1065.42 64.9272 1068.82 Q64.9272 1077.35 59.9619 1082.35 Q54.9967 1087.32 46.5303 1087.32 Q37.7774 1087.32 32.6531 1082.6 Q27.4968 1077.86 27.4968 1069.84 Q27.4968 1062.65 32.1438 1058.48 Q36.7589 1054.28 44.7161 1054.28 M42.9973 1060.13 Q38.1912 1060.2 35.3266 1062.84 Q32.4621 1065.45 32.4621 1069.78 Q32.4621 1074.68 35.2312 1077.64 Q38.0002 1080.57 43.0292 1081.01 L42.9973 1060.13 Z\" fill=\"#000000\" fill-rule=\"nonzero\" fill-opacity=\"1\" /><path clip-path=\"url(#clip930)\" d=\"M42.4881 1015.03 L64.0042 1015.03 L64.0042 1020.89 L42.679 1020.89 Q37.6183 1020.89 35.1038 1022.86 Q32.5894 1024.84 32.5894 1028.78 Q32.5894 1033.52 35.6131 1036.26 Q38.6368 1039 43.8567 1039 L64.0042 1039 L64.0042 1044.89 L28.3562 1044.89 L28.3562 1039 L33.8944 1039 Q30.6797 1036.9 29.0883 1034.07 Q27.4968 1031.2 27.4968 1027.48 Q27.4968 1021.33 31.3163 1018.18 Q35.1038 1015.03 42.4881 1015.03 Z\" fill=\"#000000\" fill-rule=\"nonzero\" fill-opacity=\"1\" /><path clip-path=\"url(#clip930)\" d=\"M18.2347 997.559 L28.3562 997.559 L28.3562 985.496 L32.9077 985.496 L32.9077 997.559 L52.2594 997.559 Q56.6199 997.559 57.8613 996.381 Q59.1026 995.172 59.1026 991.511 L59.1026 985.496 L64.0042 985.496 L64.0042 991.511 Q64.0042 998.291 61.4897 1000.87 Q58.9434 1003.45 52.2594 1003.45 L32.9077 1003.45 L32.9077 1007.74 L28.3562 1007.74 L28.3562 1003.45 L18.2347 1003.45 L18.2347 997.559 Z\" fill=\"#000000\" fill-rule=\"nonzero\" fill-opacity=\"1\" /><path clip-path=\"url(#clip930)\" d=\"M46.0847 961.592 Q46.0847 968.69 47.7079 971.427 Q49.3312 974.165 53.2461 974.165 Q56.3653 974.165 58.2114 972.128 Q60.0256 970.059 60.0256 966.526 Q60.0256 961.656 56.5881 958.728 Q53.1188 955.768 47.3897 955.768 L46.0847 955.768 L46.0847 961.592 M43.6657 949.911 L64.0042 949.911 L64.0042 955.768 L58.5933 955.768 Q61.8398 957.773 63.3994 960.765 Q64.9272 963.757 64.9272 968.085 Q64.9272 973.56 61.8716 976.806 Q58.7843 980.021 53.6281 980.021 Q47.6125 980.021 44.5569 976.011 Q41.5014 971.969 41.5014 963.98 L41.5014 955.768 L40.9285 955.768 Q36.8862 955.768 34.6901 958.441 Q32.4621 961.083 32.4621 965.889 Q32.4621 968.945 33.1941 971.841 Q33.9262 974.738 35.3903 977.411 L29.9795 977.411 Q28.7381 974.197 28.1334 971.173 Q27.4968 968.149 27.4968 965.285 Q27.4968 957.55 31.5072 953.731 Q35.5176 949.911 43.6657 949.911 Z\" fill=\"#000000\" fill-rule=\"nonzero\" fill-opacity=\"1\" /><path clip-path=\"url(#clip930)\" d=\"M45.7664 914.391 Q39.4007 914.391 35.8996 917.032 Q32.3984 919.642 32.3984 924.385 Q32.3984 929.095 35.8996 931.737 Q39.4007 934.347 45.7664 934.347 Q52.1003 934.347 55.6014 931.737 Q59.1026 929.095 59.1026 924.385 Q59.1026 919.642 55.6014 917.032 Q52.1003 914.391 45.7664 914.391 M59.58 908.534 Q68.683 908.534 73.1071 912.576 Q77.5631 916.619 77.5631 924.958 Q77.5631 928.045 77.0857 930.782 Q76.6401 933.52 75.6852 936.098 L69.9879 936.098 Q71.3884 933.52 72.0568 931.005 Q72.7252 928.491 72.7252 925.881 Q72.7252 920.12 69.7015 917.255 Q66.7096 914.391 60.6303 914.391 L57.7339 914.391 Q60.885 916.205 62.4446 919.038 Q64.0042 921.87 64.0042 925.817 Q64.0042 932.374 59.0071 936.384 Q54.01 940.395 45.7664 940.395 Q37.491 940.395 32.4939 936.384 Q27.4968 932.374 27.4968 925.817 Q27.4968 921.87 29.0564 919.038 Q30.616 916.205 33.7671 914.391 L28.3562 914.391 L28.3562 908.534 L59.58 908.534 Z\" fill=\"#000000\" fill-rule=\"nonzero\" fill-opacity=\"1\" /><path clip-path=\"url(#clip930)\" d=\"M44.7161 865.979 L47.5806 865.979 L47.5806 892.906 Q53.6281 892.524 56.8109 889.278 Q59.9619 886 59.9619 880.175 Q59.9619 876.801 59.1344 873.65 Q58.3069 870.467 56.6518 867.348 L62.1899 867.348 Q63.5267 870.499 64.227 873.809 Q64.9272 877.119 64.9272 880.525 Q64.9272 889.055 59.9619 894.052 Q54.9967 899.018 46.5303 899.018 Q37.7774 899.018 32.6531 894.307 Q27.4968 889.564 27.4968 881.544 Q27.4968 874.35 32.1438 870.181 Q36.7589 865.979 44.7161 865.979 M42.9973 871.836 Q38.1912 871.9 35.3266 874.541 Q32.4621 877.151 32.4621 881.48 Q32.4621 886.382 35.2312 889.342 Q38.0002 892.27 43.0292 892.715 L42.9973 871.836 Z\" fill=\"#000000\" fill-rule=\"nonzero\" fill-opacity=\"1\" /><path clip-path=\"url(#clip930)\" d=\"M29.7248 809.993 L35.1993 809.993 Q33.8307 812.476 33.1623 814.99 Q32.4621 817.473 32.4621 820.019 Q32.4621 825.716 36.0905 828.867 Q39.6872 832.018 46.212 832.018 Q52.7369 832.018 56.3653 828.867 Q59.9619 825.716 59.9619 820.019 Q59.9619 817.473 59.2935 814.99 Q58.5933 812.476 57.2247 809.993 L62.6355 809.993 Q63.7814 812.444 64.3543 815.086 Q64.9272 817.696 64.9272 820.656 Q64.9272 828.708 59.8664 833.451 Q54.8057 838.193 46.212 838.193 Q37.491 838.193 32.4939 833.419 Q27.4968 828.613 27.4968 820.274 Q27.4968 817.568 28.0697 814.99 Q28.6108 812.412 29.7248 809.993 Z\" fill=\"#000000\" fill-rule=\"nonzero\" fill-opacity=\"1\" /><path clip-path=\"url(#clip930)\" d=\"M42.4881 770.176 L64.0042 770.176 L64.0042 776.032 L42.679 776.032 Q37.6183 776.032 35.1038 778.005 Q32.5894 779.979 32.5894 783.926 Q32.5894 788.668 35.6131 791.405 Q38.6368 794.142 43.8567 794.142 L64.0042 794.142 L64.0042 800.031 L14.479 800.031 L14.479 794.142 L33.8944 794.142 Q30.6797 792.042 29.0883 789.209 Q27.4968 786.345 27.4968 782.621 Q27.4968 776.478 31.3163 773.327 Q35.1038 770.176 42.4881 770.176 Z\" fill=\"#000000\" fill-rule=\"nonzero\" fill-opacity=\"1\" /><path clip-path=\"url(#clip930)\" d=\"M46.0847 742.294 Q46.0847 749.392 47.7079 752.129 Q49.3312 754.866 53.2461 754.866 Q56.3653 754.866 58.2114 752.829 Q60.0256 750.76 60.0256 747.227 Q60.0256 742.357 56.5881 739.429 Q53.1188 736.469 47.3897 736.469 L46.0847 736.469 L46.0847 742.294 M43.6657 730.613 L64.0042 730.613 L64.0042 736.469 L58.5933 736.469 Q61.8398 738.474 63.3994 741.466 Q64.9272 744.458 64.9272 748.787 Q64.9272 754.261 61.8716 757.508 Q58.7843 760.723 53.6281 760.723 Q47.6125 760.723 44.5569 756.712 Q41.5014 752.67 41.5014 744.681 L41.5014 736.469 L40.9285 736.469 Q36.8862 736.469 34.6901 739.143 Q32.4621 741.785 32.4621 746.591 Q32.4621 749.646 33.1941 752.543 Q33.9262 755.439 35.3903 758.113 L29.9795 758.113 Q28.7381 754.898 28.1334 751.874 Q27.4968 748.85 27.4968 745.986 Q27.4968 738.252 31.5072 734.432 Q35.5176 730.613 43.6657 730.613 Z\" fill=\"#000000\" fill-rule=\"nonzero\" fill-opacity=\"1\" /><path clip-path=\"url(#clip930)\" d=\"M42.4881 688.917 L64.0042 688.917 L64.0042 694.774 L42.679 694.774 Q37.6183 694.774 35.1038 696.747 Q32.5894 698.721 32.5894 702.667 Q32.5894 707.41 35.6131 710.147 Q38.6368 712.884 43.8567 712.884 L64.0042 712.884 L64.0042 718.773 L28.3562 718.773 L28.3562 712.884 L33.8944 712.884 Q30.6797 710.784 29.0883 707.951 Q27.4968 705.086 27.4968 701.362 Q27.4968 695.219 31.3163 692.068 Q35.1038 688.917 42.4881 688.917 Z\" fill=\"#000000\" fill-rule=\"nonzero\" fill-opacity=\"1\" /><path clip-path=\"url(#clip930)\" d=\"M45.7664 653.779 Q39.4007 653.779 35.8996 656.42 Q32.3984 659.03 32.3984 663.773 Q32.3984 668.483 35.8996 671.125 Q39.4007 673.735 45.7664 673.735 Q52.1003 673.735 55.6014 671.125 Q59.1026 668.483 59.1026 663.773 Q59.1026 659.03 55.6014 656.42 Q52.1003 653.779 45.7664 653.779 M59.58 647.922 Q68.683 647.922 73.1071 651.964 Q77.5631 656.007 77.5631 664.346 Q77.5631 667.433 77.0857 670.17 Q76.6401 672.908 75.6852 675.486 L69.9879 675.486 Q71.3884 672.908 72.0568 670.393 Q72.7252 667.879 72.7252 665.269 Q72.7252 659.508 69.7015 656.643 Q66.7096 653.779 60.6303 653.779 L57.7339 653.779 Q60.885 655.593 62.4446 658.426 Q64.0042 661.258 64.0042 665.205 Q64.0042 671.762 59.0071 675.772 Q54.01 679.783 45.7664 679.783 Q37.491 679.783 32.4939 675.772 Q27.4968 671.762 27.4968 665.205 Q27.4968 661.258 29.0564 658.426 Q30.616 655.593 33.7671 653.779 L28.3562 653.779 L28.3562 647.922 L59.58 647.922 Z\" fill=\"#000000\" fill-rule=\"nonzero\" fill-opacity=\"1\" /><path clip-path=\"url(#clip930)\" d=\"M44.7161 605.367 L47.5806 605.367 L47.5806 632.294 Q53.6281 631.912 56.8109 628.666 Q59.9619 625.388 59.9619 619.563 Q59.9619 616.189 59.1344 613.038 Q58.3069 609.855 56.6518 606.736 L62.1899 606.736 Q63.5267 609.887 64.227 613.197 Q64.9272 616.507 64.9272 619.913 Q64.9272 628.443 59.9619 633.44 Q54.9967 638.405 46.5303 638.405 Q37.7774 638.405 32.6531 633.695 Q27.4968 628.952 27.4968 620.932 Q27.4968 613.738 32.1438 609.569 Q36.7589 605.367 44.7161 605.367 M42.9973 611.224 Q38.1912 611.288 35.3266 613.929 Q32.4621 616.539 32.4621 620.868 Q32.4621 625.77 35.2312 628.73 Q38.0002 631.658 43.0292 632.103 L42.9973 611.224 Z\" fill=\"#000000\" fill-rule=\"nonzero\" fill-opacity=\"1\" /><path clip-path=\"url(#clip930)\" d=\"M16.4842 581.369 L16.4842 541.169 L21.895 541.169 L21.895 558.038 L64.0042 558.038 L64.0042 564.5 L21.895 564.5 L21.895 581.369 L16.4842 581.369 Z\" fill=\"#000000\" fill-rule=\"nonzero\" fill-opacity=\"1\" /><path clip-path=\"url(#clip930)\" d=\"M43.5384 544.161 L43.5384 527.006 L48.7583 527.006 L48.7583 544.161 L43.5384 544.161 Z\" fill=\"#000000\" fill-rule=\"nonzero\" fill-opacity=\"1\" /><path clip-path=\"url(#clip930)\" d=\"M41.3104 513.319 L58.7206 513.319 L58.7206 503.007 Q58.7206 497.819 56.5881 495.336 Q54.4238 492.822 49.9996 492.822 Q45.5436 492.822 43.4429 495.336 Q41.3104 497.819 41.3104 503.007 L41.3104 513.319 M21.7677 513.319 L36.0905 513.319 L36.0905 503.803 Q36.0905 499.092 34.34 496.8 Q32.5576 494.477 28.9291 494.477 Q25.3325 494.477 23.5501 496.8 Q21.7677 499.092 21.7677 503.803 L21.7677 513.319 M16.4842 519.749 L16.4842 503.325 Q16.4842 495.973 19.5397 491.994 Q22.5952 488.016 28.2289 488.016 Q32.5894 488.016 35.1675 490.053 Q37.7456 492.09 38.3822 496.036 Q39.4007 491.294 42.6472 488.684 Q45.8619 486.042 50.6998 486.042 Q57.0655 486.042 60.5348 490.371 Q64.0042 494.7 64.0042 502.689 L64.0042 519.749 L16.4842 519.749 Z\" fill=\"#000000\" fill-rule=\"nonzero\" fill-opacity=\"1\" /><path clip-path=\"url(#clip930)\" d=\"M28.3562 475.284 L28.3562 469.428 L64.0042 469.428 L64.0042 475.284 L28.3562 475.284 M14.479 475.284 L14.479 469.428 L21.895 469.428 L21.895 475.284 L14.479 475.284 Z\" fill=\"#000000\" fill-rule=\"nonzero\" fill-opacity=\"1\" /><path clip-path=\"url(#clip930)\" d=\"M14.479 457.174 L14.479 451.317 L64.0042 451.317 L64.0042 457.174 L14.479 457.174 Z\" fill=\"#000000\" fill-rule=\"nonzero\" fill-opacity=\"1\" /><path clip-path=\"url(#clip930)\" d=\"M14.479 439.063 L14.479 433.207 L64.0042 433.207 L64.0042 439.063 L14.479 439.063 Z\" fill=\"#000000\" fill-rule=\"nonzero\" fill-opacity=\"1\" /><path clip-path=\"url(#clip930)\" d=\"M58.657 394.567 L77.5631 394.567 L77.5631 400.455 L28.3562 400.455 L28.3562 394.567 L33.7671 394.567 Q30.5842 392.721 29.0564 389.92 Q27.4968 387.087 27.4968 383.172 Q27.4968 376.679 32.6531 372.637 Q37.8093 368.563 46.212 368.563 Q54.6147 368.563 59.771 372.637 Q64.9272 376.679 64.9272 383.172 Q64.9272 387.087 63.3994 389.92 Q61.8398 392.721 58.657 394.567 M46.212 374.642 Q39.7508 374.642 36.0905 377.316 Q32.3984 379.958 32.3984 384.605 Q32.3984 389.252 36.0905 391.925 Q39.7508 394.567 46.212 394.567 Q52.6732 394.567 56.3653 391.925 Q60.0256 389.252 60.0256 384.605 Q60.0256 379.958 56.3653 377.316 Q52.6732 374.642 46.212 374.642 Z\" fill=\"#000000\" fill-rule=\"nonzero\" fill-opacity=\"1\" /><path clip-path=\"url(#clip930)\" d=\"M33.8307 338.199 Q33.2578 339.185 33.0032 340.363 Q32.7167 341.509 32.7167 342.909 Q32.7167 347.875 35.9632 350.548 Q39.1779 353.19 45.2253 353.19 L64.0042 353.19 L64.0042 359.078 L28.3562 359.078 L28.3562 353.19 L33.8944 353.19 Q30.6479 351.344 29.0883 348.384 Q27.4968 345.424 27.4968 341.191 Q27.4968 340.586 27.5923 339.854 Q27.656 339.122 27.8151 338.231 L33.8307 338.199 Z\" fill=\"#000000\" fill-rule=\"nonzero\" fill-opacity=\"1\" /><path clip-path=\"url(#clip930)\" d=\"M28.3562 332.056 L28.3562 326.199 L64.0042 326.199 L64.0042 332.056 L28.3562 332.056 M14.479 332.056 L14.479 326.199 L21.895 326.199 L21.895 332.056 L14.479 332.056 Z\" fill=\"#000000\" fill-rule=\"nonzero\" fill-opacity=\"1\" /><path clip-path=\"url(#clip930)\" d=\"M29.7248 288.292 L35.1993 288.292 Q33.8307 290.774 33.1623 293.289 Q32.4621 295.771 32.4621 298.318 Q32.4621 304.015 36.0905 307.166 Q39.6872 310.317 46.212 310.317 Q52.7369 310.317 56.3653 307.166 Q59.9619 304.015 59.9619 298.318 Q59.9619 295.771 59.2935 293.289 Q58.5933 290.774 57.2247 288.292 L62.6355 288.292 Q63.7814 290.742 64.3543 293.384 Q64.9272 295.994 64.9272 298.954 Q64.9272 307.007 59.8664 311.749 Q54.8057 316.492 46.212 316.492 Q37.491 316.492 32.4939 311.717 Q27.4968 306.911 27.4968 298.572 Q27.4968 295.867 28.0697 293.289 Q28.6108 290.711 29.7248 288.292 Z\" fill=\"#000000\" fill-rule=\"nonzero\" fill-opacity=\"1\" /><path clip-path=\"url(#clip930)\" d=\"M44.7161 247.615 L47.5806 247.615 L47.5806 274.542 Q53.6281 274.16 56.8109 270.913 Q59.9619 267.635 59.9619 261.81 Q59.9619 258.436 59.1344 255.285 Q58.3069 252.103 56.6518 248.983 L62.1899 248.983 Q63.5267 252.134 64.227 255.445 Q64.9272 258.755 64.9272 262.16 Q64.9272 270.69 59.9619 275.688 Q54.9967 280.653 46.5303 280.653 Q37.7774 280.653 32.6531 275.942 Q27.4968 271.2 27.4968 263.179 Q27.4968 255.986 32.1438 251.816 Q36.7589 247.615 44.7161 247.615 M42.9973 253.471 Q38.1912 253.535 35.3266 256.177 Q32.4621 258.787 32.4621 263.115 Q32.4621 268.017 35.2312 270.977 Q38.0002 273.905 43.0292 274.351 L42.9973 253.471 Z\" fill=\"#000000\" fill-rule=\"nonzero\" fill-opacity=\"1\" /><polyline clip-path=\"url(#clip932)\" style=\"stroke:#000000; stroke-linecap:round; stroke-linejoin:round; stroke-width:12; stroke-opacity:1; fill:none\" points=\"315.32,86.1857 645.002,303.682 974.684,520.715 1304.37,737.285 1634.05,953.395 1963.73,1169.05 2293.41,1384.24 \"/>\n",
       "<path clip-path=\"url(#clip930)\" d=\"M1642.35 196.789 L2282.86 196.789 L2282.86 93.1086 L1642.35 93.1086  Z\" fill=\"#f2f2f2\" fill-rule=\"evenodd\" fill-opacity=\"1\"/>\n",
       "<polyline clip-path=\"url(#clip930)\" style=\"stroke:#000000; stroke-linecap:round; stroke-linejoin:round; stroke-width:4; stroke-opacity:0; fill:none\" points=\"1642.35,196.789 2282.86,196.789 2282.86,93.1086 1642.35,93.1086 1642.35,196.789 \"/>\n",
       "<polyline clip-path=\"url(#clip930)\" style=\"stroke:#000000; stroke-linecap:round; stroke-linejoin:round; stroke-width:12; stroke-opacity:1; fill:none\" points=\"1665.65,144.949 1805.44,144.949 \"/>\n",
       "<path clip-path=\"url(#clip930)\" d=\"M1828.73 127.669 L1857.97 127.669 L1857.97 131.604 L1845.7 131.604 L1845.7 162.229 L1841 162.229 L1841 131.604 L1828.73 131.604 L1828.73 127.669 Z\" fill=\"#000000\" fill-rule=\"nonzero\" fill-opacity=\"1\" /><path clip-path=\"url(#clip930)\" d=\"M1855.79 147.344 L1868.27 147.344 L1868.27 151.141 L1855.79 151.141 L1855.79 147.344 Z\" fill=\"#000000\" fill-rule=\"nonzero\" fill-opacity=\"1\" /><path clip-path=\"url(#clip930)\" d=\"M1893.66 149.289 Q1893.66 144.59 1891.72 141.928 Q1889.8 139.243 1886.42 139.243 Q1883.04 139.243 1881.1 141.928 Q1879.17 144.59 1879.17 149.289 Q1879.17 153.988 1881.1 156.673 Q1883.04 159.335 1886.42 159.335 Q1889.8 159.335 1891.72 156.673 Q1893.66 153.988 1893.66 149.289 M1879.17 140.238 Q1880.52 137.923 1882.55 136.812 Q1884.61 135.678 1887.46 135.678 Q1892.18 135.678 1895.12 139.428 Q1898.09 143.178 1898.09 149.289 Q1898.09 155.4 1895.12 159.15 Q1892.18 162.9 1887.46 162.9 Q1884.61 162.9 1882.55 161.789 Q1880.52 160.655 1879.17 158.34 L1879.17 162.229 L1874.89 162.229 L1874.89 126.21 L1879.17 126.21 L1879.17 140.238 Z\" fill=\"#000000\" fill-rule=\"nonzero\" fill-opacity=\"1\" /><path clip-path=\"url(#clip930)\" d=\"M1905.15 136.303 L1909.41 136.303 L1909.41 162.229 L1905.15 162.229 L1905.15 136.303 M1905.15 126.21 L1909.41 126.21 L1909.41 131.604 L1905.15 131.604 L1905.15 126.21 Z\" fill=\"#000000\" fill-rule=\"nonzero\" fill-opacity=\"1\" /><path clip-path=\"url(#clip930)\" d=\"M1918.32 126.21 L1922.58 126.21 L1922.58 162.229 L1918.32 162.229 L1918.32 126.21 Z\" fill=\"#000000\" fill-rule=\"nonzero\" fill-opacity=\"1\" /><path clip-path=\"url(#clip930)\" d=\"M1931.49 126.21 L1935.75 126.21 L1935.75 162.229 L1931.49 162.229 L1931.49 126.21 Z\" fill=\"#000000\" fill-rule=\"nonzero\" fill-opacity=\"1\" /><path clip-path=\"url(#clip930)\" d=\"M1972.9 149.798 Q1972.9 153.108 1974.54 155.006 Q1976.19 156.881 1979.06 156.881 Q1981.91 156.881 1983.53 154.983 Q1985.17 153.085 1985.17 149.798 Q1985.17 146.557 1983.5 144.659 Q1981.84 142.738 1979.01 142.738 Q1976.21 142.738 1974.54 144.636 Q1972.9 146.534 1972.9 149.798 M1985.52 156.719 Q1984.13 158.502 1982.32 159.358 Q1980.54 160.192 1978.16 160.192 Q1974.17 160.192 1971.67 157.321 Q1969.2 154.428 1969.2 149.798 Q1969.2 145.169 1971.7 142.275 Q1974.2 139.382 1978.16 139.382 Q1980.54 139.382 1982.35 140.261 Q1984.15 141.118 1985.52 142.877 L1985.52 139.844 L1988.83 139.844 L1988.83 156.881 Q1992.21 156.372 1994.1 153.803 Q1996.03 151.21 1996.03 147.113 Q1996.03 144.636 1995.28 142.46 Q1994.57 140.284 1993.09 138.432 Q1990.68 135.4 1987.21 133.803 Q1983.76 132.182 1979.68 132.182 Q1976.84 132.182 1974.22 132.946 Q1971.6 133.687 1969.38 135.169 Q1965.75 137.53 1963.69 141.372 Q1961.65 145.192 1961.65 149.659 Q1961.65 153.34 1962.97 156.557 Q1964.31 159.775 1966.84 162.229 Q1969.27 164.636 1972.46 165.886 Q1975.66 167.159 1979.29 167.159 Q1982.28 167.159 1985.15 166.141 Q1988.04 165.145 1990.45 163.27 L1992.53 165.84 Q1989.64 168.085 1986.21 169.266 Q1982.81 170.469 1979.29 170.469 Q1975.01 170.469 1971.21 168.942 Q1967.41 167.437 1964.45 164.543 Q1961.49 161.65 1959.94 157.854 Q1958.39 154.034 1958.39 149.659 Q1958.39 145.446 1959.96 141.627 Q1961.53 137.807 1964.45 134.914 Q1967.44 131.974 1971.35 130.423 Q1975.26 128.849 1979.64 128.849 Q1984.54 128.849 1988.73 130.863 Q1992.95 132.877 1995.79 136.581 Q1997.53 138.849 1998.43 141.511 Q1999.36 144.173 1999.36 147.02 Q1999.36 153.108 1995.68 156.627 Q1992 160.145 1985.52 160.284 L1985.52 156.719 Z\" fill=\"#000000\" fill-rule=\"nonzero\" fill-opacity=\"1\" /><path clip-path=\"url(#clip930)\" d=\"M2007.14 136.303 L2011.4 136.303 L2011.4 162.229 L2007.14 162.229 L2007.14 136.303 M2007.14 126.21 L2011.4 126.21 L2011.4 131.604 L2007.14 131.604 L2007.14 126.21 Z\" fill=\"#000000\" fill-rule=\"nonzero\" fill-opacity=\"1\" /><path clip-path=\"url(#clip930)\" d=\"M2041.86 146.581 L2041.86 162.229 L2037.6 162.229 L2037.6 146.719 Q2037.6 143.039 2036.16 141.21 Q2034.73 139.382 2031.86 139.382 Q2028.41 139.382 2026.42 141.581 Q2024.43 143.78 2024.43 147.576 L2024.43 162.229 L2020.15 162.229 L2020.15 136.303 L2024.43 136.303 L2024.43 140.331 Q2025.96 137.993 2028.02 136.835 Q2030.1 135.678 2032.81 135.678 Q2037.28 135.678 2039.57 138.456 Q2041.86 141.21 2041.86 146.581 Z\" fill=\"#000000\" fill-rule=\"nonzero\" fill-opacity=\"1\" /><path clip-path=\"url(#clip930)\" d=\"M2067.41 140.238 L2067.41 126.21 L2071.67 126.21 L2071.67 162.229 L2067.41 162.229 L2067.41 158.34 Q2066.07 160.655 2064.01 161.789 Q2061.97 162.9 2059.1 162.9 Q2054.4 162.9 2051.44 159.15 Q2048.5 155.4 2048.5 149.289 Q2048.5 143.178 2051.44 139.428 Q2054.4 135.678 2059.1 135.678 Q2061.97 135.678 2064.01 136.812 Q2066.07 137.923 2067.41 140.238 M2052.9 149.289 Q2052.9 153.988 2054.82 156.673 Q2056.77 159.335 2060.15 159.335 Q2063.53 159.335 2065.47 156.673 Q2067.41 153.988 2067.41 149.289 Q2067.41 144.59 2065.47 141.928 Q2063.53 139.243 2060.15 139.243 Q2056.77 139.243 2054.82 141.928 Q2052.9 144.59 2052.9 149.289 Z\" fill=\"#000000\" fill-rule=\"nonzero\" fill-opacity=\"1\" /><path clip-path=\"url(#clip930)\" d=\"M2102.62 148.201 L2102.62 150.284 L2083.04 150.284 Q2083.32 154.682 2085.68 156.997 Q2088.06 159.289 2092.3 159.289 Q2094.75 159.289 2097.04 158.687 Q2099.36 158.085 2101.63 156.881 L2101.63 160.909 Q2099.34 161.881 2096.93 162.391 Q2094.52 162.9 2092.04 162.9 Q2085.84 162.9 2082.21 159.289 Q2078.59 155.678 2078.59 149.52 Q2078.59 143.155 2082.02 139.428 Q2085.47 135.678 2091.3 135.678 Q2096.53 135.678 2099.57 139.057 Q2102.62 142.414 2102.62 148.201 M2098.36 146.951 Q2098.32 143.456 2096.4 141.372 Q2094.5 139.289 2091.35 139.289 Q2087.78 139.289 2085.63 141.303 Q2083.5 143.317 2083.18 146.974 L2098.36 146.951 Z\" fill=\"#000000\" fill-rule=\"nonzero\" fill-opacity=\"1\" /><path clip-path=\"url(#clip930)\" d=\"M2130.33 136.303 L2120.96 148.919 L2130.82 162.229 L2125.79 162.229 L2118.25 152.043 L2110.7 162.229 L2105.68 162.229 L2115.75 148.664 L2106.53 136.303 L2111.56 136.303 L2118.43 145.539 L2125.31 136.303 L2130.33 136.303 Z\" fill=\"#000000\" fill-rule=\"nonzero\" fill-opacity=\"1\" /><path clip-path=\"url(#clip930)\" d=\"M2152.46 140.701 L2182.14 140.701 L2182.14 144.59 L2152.46 144.59 L2152.46 140.701 M2152.46 150.145 L2182.14 150.145 L2182.14 154.081 L2152.46 154.081 L2152.46 150.145 Z\" fill=\"#000000\" fill-rule=\"nonzero\" fill-opacity=\"1\" /><path clip-path=\"url(#clip930)\" d=\"M2206.12 127.669 L2228.34 127.669 L2228.34 129.659 L2215.79 162.229 L2210.91 162.229 L2222.71 131.604 L2206.12 131.604 L2206.12 127.669 Z\" fill=\"#000000\" fill-rule=\"nonzero\" fill-opacity=\"1\" /><path clip-path=\"url(#clip930)\" d=\"M2248.04 143.085 Q2244.89 143.085 2243.04 145.238 Q2241.21 147.391 2241.21 151.141 Q2241.21 154.868 2243.04 157.043 Q2244.89 159.196 2248.04 159.196 Q2251.19 159.196 2253.01 157.043 Q2254.87 154.868 2254.87 151.141 Q2254.87 147.391 2253.01 145.238 Q2251.19 143.085 2248.04 143.085 M2257.32 128.433 L2257.32 132.692 Q2255.56 131.858 2253.76 131.419 Q2251.97 130.979 2250.21 130.979 Q2245.58 130.979 2243.13 134.104 Q2240.7 137.229 2240.35 143.548 Q2241.72 141.534 2243.78 140.469 Q2245.84 139.382 2248.32 139.382 Q2253.52 139.382 2256.53 142.553 Q2259.57 145.701 2259.57 151.141 Q2259.57 156.465 2256.42 159.682 Q2253.27 162.9 2248.04 162.9 Q2242.04 162.9 2238.87 158.317 Q2235.7 153.71 2235.7 144.983 Q2235.7 136.789 2239.59 131.928 Q2243.48 127.044 2250.03 127.044 Q2251.79 127.044 2253.57 127.391 Q2255.38 127.738 2257.32 128.433 Z\" fill=\"#000000\" fill-rule=\"nonzero\" fill-opacity=\"1\" /></svg>\n"
      ],
      "text/html": [
       "<img src=\"data:image/png;base64,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\" />"
      ]
     },
     "metadata": {},
     "output_type": "display_data"
    }
   ],
   "source": [
    "let\n",
    "    q = plot(bg=\"gray95\", background_color_outside=\"white\", framestyle = :box, fg_legend = :transparent);\n",
    "    plot(q, theorem_1_simulation_array[:,1], theorem_1_simulation_array[:,2], lw=3, c=:black, xlabel=\"β\", \n",
    "            ylabel=\"Percentage change T-Bill price\", label=\"T-bill @index = $(random_bill_index)\")\n",
    "end"
   ]
  },
  {
   "cell_type": "markdown",
   "id": "a89432a1-b757-44a6-82a5-b89bd6f64e4f",
   "metadata": {},
   "source": [
    "### Discussion: Is the slope of the interest rate versus the price line negative?\n",
    "If the relationship between the price and the yield is inversely proportional, then the slope of price versus $\\bar{r}$ should be negative; let's check this condition by computing the slope from the simulation array, store this in the `slope` variable.\n",
    "\n",
    "> __Idea:__ Use the [@assert macro](https://docs.julialang.org/en/v1/base/base/#Base.@assert) to test if the slope is negative: if $\\text{slope}>0$, i.e., `Theorem 1` is not supported, this test will throw an [AssertionError](https://docs.julialang.org/en/v1/base/base/#Core.AssertionError), otherwise the `Theorem 1` is supported by simulation\n",
    "\n",
    "What do we see?"
   ]
  },
  {
   "cell_type": "code",
   "execution_count": 18,
   "id": "86c2ae02-cfe7-4361-a5a1-4d1eddc73601",
   "metadata": {},
   "outputs": [],
   "source": [
    "slope = (theorem_1_simulation_array[end,4] - theorem_1_simulation_array[1,4])/(theorem_1_simulation_array[end,3] - theorem_1_simulation_array[1,3]);\n",
    "@assert (slope < 0.0)  # Verify Theorem 1: negative slope confirms inverse price-yield relationship"
   ]
  },
  {
   "cell_type": "markdown",
   "id": "4ed3998c",
   "metadata": {},
   "source": [
    "___"
   ]
  },
  {
   "cell_type": "markdown",
   "id": "cd8da194-93e8-4af7-9f02-b02aacd98980",
   "metadata": {},
   "source": [
    "## Disclaimer and Risks\n",
    "__This content is offered solely for training and informational purposes__. No offer or solicitation to buy or sell securities or derivative products or any investment or trading advice or strategy is made, given, or endorsed by the teaching team. \n",
    "\n",
    "__Trading involves risk__. Carefully review your financial situation before investing in securities, futures contracts, options, or commodity interests. Past performance, whether actual or indicated by historical tests of strategies, is no guarantee of future performance or success. Trading is generally inappropriate for someone with limited resources, investment or trading experience, or a low-risk tolerance.  Only risk capital that is not required for living expenses.\n",
    "\n",
    "__You are fully responsible for any investment or trading decisions you make__. Such decisions should be based solely on evaluating your financial circumstances, investment or trading objectives, risk tolerance, and liquidity needs.\n",
    "\n",
    "___"
   ]
  }
 ],
 "metadata": {
  "kernelspec": {
   "display_name": "Julia 1.11.6",
   "language": "julia",
   "name": "julia-1.11"
  },
  "language_info": {
   "file_extension": ".jl",
   "mimetype": "application/julia",
   "name": "julia",
   "version": "1.11.6"
  }
 },
 "nbformat": 4,
 "nbformat_minor": 5
}
