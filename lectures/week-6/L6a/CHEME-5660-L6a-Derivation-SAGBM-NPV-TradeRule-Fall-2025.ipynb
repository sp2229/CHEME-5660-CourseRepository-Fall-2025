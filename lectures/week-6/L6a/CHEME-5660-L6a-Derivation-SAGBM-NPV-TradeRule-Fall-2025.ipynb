{
 "cells": [
  {
   "cell_type": "markdown",
   "id": "ca3ccfd2",
   "metadata": {},
   "source": [
    "# Derivation: GBM Trade Rule\n",
    "Let's develop an expression that allows us to compute trade entry and exit rules based on the net present value (NPV) of a trade.\n",
    "\n",
    "> __Scenario:__ Suppose we purchase $n_{o}$ shares of ticker `XYZ` at time $t=0$ (today) for $S_{0}$ USD/share.\n",
    "> Then, sometime later, at $T=i\\Delta{t}$, we sell all $n_{o}$ shares at a share price of $S_{T}$ USD/share, where $i\\geq{0}$ is the number of time steps (integer) and $\\Delta{t}$ is the time step (e.g., one trading day written in units of years).\n",
    "\n",
    "\n",
    "This trade is a __long position__ because we profit if the share price goes up, i.e., $S_{T} > S_{0}$. Further, we can model it as an __abstract asset__ that has two cash flow events: the initial purchase at $t=0$ (entry) and the sale at $t=T$ (exit). The net present value (NPV) of this trade (written from our perspective) will have two cash flow events, the initial purchase at $t=0$ (entry) and the sale at $t=T$ (exit):\n",
    "$$\n",
    "\\begin{align*}\n",
    "\\texttt{NPV}(\\bar{r}, T) &= \\underbrace{-n_{o}\\;{S_{0}}}_{\\text{entry (now)}} + \\underbrace{n_{o}\\;{S_{T}}\\;\\mathcal{D}_{T,0}^{-1}(\\bar{r})}_{\\text{exit (future)}}\\quad\\Longrightarrow\\text{divide by initial investment}\\;n_{o}\\;{S_{0}}\\\\\n",
    "\\frac{\\texttt{NPV}(\\bar{r}, T)}{n_{o}\\;{S_{0}}} &= \\frac{S_{T}\\;\\mathcal{D}_{T,0}^{-1}(\\bar{r}) - S_{0}}{S_{0}}\\\\\n",
    "\\underbrace{\\frac{\\texttt{NPV}(\\bar{r}, T)}{n_{o}\\;{S_{0}}}}_{\\text{fractional return}} &= \\left(\\frac{S_{T}}{S_{0}}\\right)\\;\\mathcal{D}_{T,0}^{-1}(\\bar{r}) - 1\\quad\\blacksquare\n",
    "\\end{align*}\n",
    "$$\n",
    "where $\\mathcal{D}^{-1}_{T,0}(\\bar{r})$ is the (inverse) continuous discount factor for period $0\\rightarrow{T}$ assuming a (constant) discount rate $\\bar{r}$. \n",
    "\n",
    "Unlike last lecture, we used a binomial lattice models, let's now assume that the share price $S_{T}$ follows a GBM model. Then, we can substitute the GBM solution for $S_{T}$ into our NPV expression and simplify gives:\n",
    "$$\n",
    "\\boxed{\n",
    "\\begin{align*}\n",
    "\\frac{\\texttt{NPV}(\\bar{r}, T)}{n_{o}{S_{0}}} &= \\exp\\Biggl[\\left(\\mu-\\frac{\\sigma^{2}}{2}\\right)T + (\\sigma\\sqrt{T})\\;{Z(0,1)}\\Biggr]\\;\\mathcal{D}_{T,0}^{-1}(\\bar{r}) - 1\\quad\\blacksquare\\\\\n",
    "\\end{align*}}\n",
    "$$\n",
    "\n",
    "Let's take a closer look at this NPV expression, in the context of short versus long holding periods, given our geometric Brownian motion model for the share price $S_{T}$."
   ]
  },
  {
   "cell_type": "markdown",
   "id": "e3896552",
   "metadata": {},
   "source": [
    "## Positive Trade Exit Probability\n",
    "Unlike our binomial lattice model from a few lectures ago, the NPV expression is a __probability distribution function__ (pdf) because the share price $S_{T}$ is a __continuous random variable__. However, we can still compute the probability that our trade meets some desired fractional return threshold $\\texttt{NPV}(\\bar{r}, T)/n_{o}S_{0} > r_{\\star}$, given a holding period $T$ and discount rate $\\bar{r}$.\n",
    "\n",
    "Let's dig into this a bit more. Let\n",
    "$$\n",
    "X \\equiv \\left(\\mu-\\frac{\\sigma^{2}}{2}\\right)T + \\sigma\\sqrt{T}\\;Z,\\qquad Z\\sim \\mathcal{N}(0,1),\n",
    "$$\n",
    "which implies\n",
    "$$\n",
    "\\frac{\\texttt{NPV}(\\bar r,T)}{n_o S_0}=e^{X}\\mathcal{D}_{T,0}^{-1}(\\bar r)-1.\n",
    "$$\n",
    "We want the scaled NPV to be (strictly) greater some specified fraction return $r_{\\star}>0$, i.e., $\\texttt{NPV}(\\bar r,T)/n_o S_0> r_\\star$. Thus,\n",
    "$$\n",
    "\\begin{align*}\n",
    "\\mathbb{P}\\!\\left(\\frac{\\texttt{NPV}(\\bar r,T)}{n_o S_0}> r_\\star\\right)\n",
    "& = \\mathbb{P}\\!\\left(e^{X}\\mathcal{D}_{T,0}^{-1}(\\bar r)-1> r_\\star\\right)\\\\\n",
    "& = \\mathbb{P}\\!\\left(e^{X}> (1+ r_\\star)\\mathcal{D}_{T,0}(\\bar r)\\right)\\\\\n",
    "& = \\mathbb{P}\\left(X>\\ln\\big((1+r_\\star)\\mathcal{D}_{T,0}(\\bar r)\\big)\\right)\n",
    "\\end{align*}\n",
    "$$\n",
    "Ok, so here is the trick to this type of probability calculation. We need to write the probability expression in terms of the cumulative distribution function (CDF) of the standard normal random variable $Z$. To do this, we standardize the random variable $X$. Let $m=(\\mu-\\tfrac{1}{2}\\sigma^2)T$ and $v=\\sigma^2 T$. Then, solve $X$ for $Z$:\n",
    "$$\n",
    "\\mathbb{P}\\!\\left(X>\\ln((1+r_\\star)\\mathcal{D}_{T,0}(\\bar r))\\right)\n",
    "= \\mathbb{P}\\!\\left(\\underbrace{\\frac{X-m}{\\sigma\\sqrt{T}}}_{Z\\sim\\mathcal{N}(0,1)}>\\frac{\\ln((1+r_\\star)\\mathcal{D}_{T,0}(\\bar r))-m}{\\sigma\\sqrt{T}}\\right)\n",
    "= 1-\\Phi\\!\\left(\\frac{\\ln((1+r_\\star)\\mathcal{D}_{T,0}(\\bar r))-m}{\\sigma\\sqrt{T}}\\right),\n",
    "$$\n",
    "or equivalently\n",
    "$$\n",
    "\\boxed{\\;\n",
    "\\mathbb{P}\\!\\left(\\frac{\\texttt{NPV}(\\bar r,T)}{n_o S_0}> r_\\star\\right)\n",
    "= 1 - \\Phi\\!\\left(\\frac{\\ln((1+r_\\star)\\mathcal{D}_{T,0}(\\bar r))-m}{\\sigma\\sqrt{T}}\\right)\\quad\\blacksquare}\n",
    "$$\n",
    "\n",
    "where $\\Phi(\\cdot)$ is the cumulative distribution for a standard normal random variable. If we hold the $n_{o}$ shares for only a __short time__, e.g., a few days or even a few weeks, for realistic choices of the discount rate $\\bar{r}$, the discount factor $\\mathcal{D}_{T,0}(\\bar{r})\\approx{1}$, which simplifies the probability expression.\n",
    "___"
   ]
  },
  {
   "cell_type": "markdown",
   "id": "e7e78fc6",
   "metadata": {},
   "source": []
  }
 ],
 "metadata": {
  "kernelspec": {
   "display_name": "Python 3 (ipykernel)",
   "language": "python",
   "name": "python3"
  },
  "language_info": {
   "codemirror_mode": {
    "name": "ipython",
    "version": 3
   },
   "file_extension": ".py",
   "mimetype": "text/x-python",
   "name": "python",
   "nbconvert_exporter": "python",
   "pygments_lexer": "ipython3",
   "version": "3.11.8"
  }
 },
 "nbformat": 4,
 "nbformat_minor": 5
}
