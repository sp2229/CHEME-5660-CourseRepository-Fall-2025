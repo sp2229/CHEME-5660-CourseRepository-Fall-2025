{
 "cells": [
  {
   "cell_type": "markdown",
   "id": "4f7e631b-8ada-4374-826b-9fa4c959e825",
   "metadata": {},
   "source": [
    "# Example: Let's Do an Out out Sample (OOS) Single Asset Simulation"
   ]
  }
 ],
 "metadata": {
  "kernelspec": {
   "display_name": "Julia 1.11.7",
   "language": "julia",
   "name": "julia-1.11"
  },
  "language_info": {
   "file_extension": ".jl",
   "mimetype": "application/julia",
   "name": "julia",
   "version": "1.11.7"
  }
 },
 "nbformat": 4,
 "nbformat_minor": 5
}
