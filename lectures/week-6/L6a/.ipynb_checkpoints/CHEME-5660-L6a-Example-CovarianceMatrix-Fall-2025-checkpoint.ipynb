{
 "cells": [
  {
   "cell_type": "markdown",
   "id": "4153bd17-753f-4b24-a146-7ee92343ca86",
   "metadata": {},
   "source": [
    "# Example: Let's Compute and Analyze the Covariance Matrix for our Dataset\n",
    "Fill me in."
   ]
  }
 ],
 "metadata": {
  "kernelspec": {
   "display_name": "Julia 1.11.7",
   "language": "julia",
   "name": "julia-1.11"
  },
  "language_info": {
   "file_extension": ".jl",
   "mimetype": "application/julia",
   "name": "julia",
   "version": "1.11.7"
  }
 },
 "nbformat": 4,
 "nbformat_minor": 5
}
