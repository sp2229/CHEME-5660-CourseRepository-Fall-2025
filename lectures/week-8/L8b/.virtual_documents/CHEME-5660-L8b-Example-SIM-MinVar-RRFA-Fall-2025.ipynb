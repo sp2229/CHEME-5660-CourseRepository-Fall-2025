





include(joinpath(@__DIR__, "Include.jl")); # include the Include.jl file








original_dataset = MyTestingMarketDataSet() |> x-> x["dataset"] # load the original dataset (testing)





maximum_number_trading_days = original_dataset["AAPL"] |> nrow; # maximum number of trading days in our dataset





dataset = let

    # initialize -
    dataset = Dict{String, DataFrame}();

    # iterate through the dictionary; we can't guarantee a particular order
    for (ticker, data) ∈ original_dataset  # we get each (K, V) pair!
        if (nrow(data) == maximum_number_trading_days) # check if ticker has maximum trading days
            dataset[ticker] = data;
        end
    end
    dataset; # return
end;





list_of_tickers = keys(dataset) |> collect |> sort; # list of tickers in our dataset





growth_rate_array = let

    # initialize -
    r̄ = 0.0; # assume the risk-free rate is 0
    Δt = 1.0/252.0; # assume daily trading (252 trading days in a year)

    # compute the growth matrix -
    growth_rate_array = log_growth_matrix(dataset, list_of_tickers, Δt = Δt, 
        risk_free_rate = r̄); # other optional parameters are at their defaults

    growth_rate_array; # return
end;





covariance_dictionary = let

    # initialize -
    path_to_covariance = joinpath(_PATH_TO_DATA,"Covariance-Return-Training-Fall-2025.jld2");
    covariance = JLD2.load(path_to_covariance);
    covariance;
end;





parameters_df = let

    # load -
    df = CSV.read(joinpath(_PATH_TO_DATA,"SAGBM-Parameters-Fall-2025.csv"), DataFrame);
    df; # return
end;





sim_model_parameters = let

    # initialize -
    path_to_sim_model_parameters = joinpath(_PATH_TO_DATA,"SIMs-SP500-01-03-14-to-12-31-24.jld2");
    sim_model_parameters = JLD2.load(path_to_sim_model_parameters);
    sim_model_parameters["data"]; # return
end;





risk_free_rate = 0.0389; # hypothetical continuous compounded risk free rate (units: 1/year)
Δt = (1.0/252.0); # time step for 1-trading day (units: 1/year)








my_list_of_tickers = ["AAPL", "MSFT", "INTC", "MU", "AMD","GS", "BAC", "WFC", "C", "F", "GM", 
    "JNJ", "CHD", "PG", "UPS", "COST", "TGT", "WMT"]; # random tickers that I selected.





Gₘ = findfirst(x->x=="SPY", list_of_tickers) |> i -> growth_rate_array[:,i];





μ̂_sim, Σ̂_sim = let

    # initialize -
    N = length(my_list_of_tickers); # number of assets in portfolio
    μ_sim = Array{Float64,1}(); # drift vector
    Σ̂_sim = Array{Float64,2}(undef, N, N); # covariance matrix for *our* portfolio
    
    Ḡₘ = mean(Gₘ); # mean of market factor
    σ²ₘ = var(Gₘ); # variance of market factor

    # compute the expected growth rate (return) for each of our tickers -
    for i ∈ eachindex(my_list_of_tickers)
        ticker = my_list_of_tickers[i];
        data = sim_model_parameters[ticker]; # get the data for this ticker
        αᵢ = data.alpha; # get alpha
        βᵢ = data.beta; # get beta
        Ḡᵢ = αᵢ + βᵢ* Ḡₘ; # compute the growth rate for this ticker
        push!(μ_sim, Ḡᵢ); # append growth rate value to μ_sim
    end

    # compute the covariance matrix using the single index model -
    for i ∈ eachindex(my_list_of_tickers)

        ticker_i = my_list_of_tickers[i];
        data_i = sim_model_parameters[ticker_i]; # get the data for ticker i
        βᵢ = data_i.beta; # get beta for ticker i
        σ²_εᵢ = (Δt)*data_i.training_variance; # residual variance for ticker i

        for j ∈ eachindex(my_list_of_tickers)
            
            ticker_j = my_list_of_tickers[j];
            data_j = sim_model_parameters[ticker_j]; # get the data for ticker j
            βⱼ = data_j.beta; # get beta for ticker j
            σ²_εⱼ = (Δt)*data_j.training_variance; # residual variance for ticker j
            
            if i == j
                Σ̂_sim[i,j] = βᵢ*βⱼ*σ²ₘ + σ²_εᵢ; # diagonal elements
            else
                Σ̂_sim[i,j] = βᵢ*βⱼ*σ²ₘ; # off-diagonal elements
            end
        end
    end

    (μ_sim, Σ̂_sim*Δt); # return
end;





number_of_firms = length(my_list_of_tickers);
wₒ = zeros(number_of_firms);
max_concentration = 1.0; # maximum concentration allowed in any single asset
wₒ[1] = max_concentration;
bounds = zeros(number_of_firms,2);
bounds[:,2] .= max_concentration; # TODO: Should we allow this upper bound?
risk_free_multiplier = 10.0; # multiplier for risk-free rate (1.0 means we use the risk-free rate as is)
number_of_points = 301; # number of points on the efficient frontier that we want to compute





problem_sim_risky_only = build(MyMarkowitzRiskyAssetOnlyPortfolioChoiceProblem, (
    Σ = Σ̂_sim, # sim cov matrix
    μ = μ̂_sim, # sim expected array
    bounds = bounds,
    initial = wₒ,
    R = 0.0
));





problem_sim_risk_free = build(MyMarkowitzRiskyRiskFreePortfolioChoiceProblem, (
    Σ = Σ̂_sim, # covariance matrix (single index model)
    μ = μ̂_sim, # expected return (single index model)
    bounds = bounds,
    initial = wₒ,
    risk_free_rate = risk_free_rate,
    R = 0.0
));





minimum_desired_reward_array = range(risk_free_rate, stop = risk_free_multiplier*risk_free_rate, length = number_of_points) |> collect; # range from risk-free rate to 20x risk-free rate





efficient_frontier_sim = let

    # initialize -
    efficient_frontier = Dict{Float64, NamedTuple}();

    # main loop
    for i ∈ eachindex(minimum_desired_reward_array)
        problem_sim_risky_only.R = minimum_desired_reward_array[i]; # update the problem object with the min desired reward value
    
        try
            solution = solve(problem_sim_risky_only);
            status_flag = solution["status"];    

            if (status_flag == MathOptInterface.LOCALLY_SOLVED)
                risk_value = solution["objective_value"]; # get the sqrt of the risk
                reward_value = solution["reward"];
                allocation = solution["argmax"]; # extract the optimal allocation
                efficient_frontier[risk_value] = (risk = risk_value, reward = reward_value, w = allocation)
            end
        catch err
            # Uncomment to see which R's failed ...
            # println("Failed: desired R = $(problem_sim.R). Infeasible");
        end    
    end
    efficient_frontier;
end;





capital_allocation_line = let

    capital_allocation_line = Dict{Float64,NamedTuple}();
    for i ∈ eachindex(minimum_desired_reward_array)
    
        # update the problem object -
        problem_sim_risk_free.R = minimum_desired_reward_array[i];
    
        try
            solution_risk_free = solve(problem_sim_risk_free)

            # check: did this converge?
            status_flag = solution_risk_free["status"];    
            if (status_flag == MathOptInterface.LOCALLY_SOLVED)
                risk_value = solution_risk_free["objective_value"]; # get the sqrt of the risk
                reward_value = solution_risk_free["reward"];
                allocation = solution_risk_free["argmax"]; # extract the optimal allocation
                capital_allocation_line[risk_value] = (risk = risk_value, reward = reward_value, w = allocation)
            end
        catch err
            # Uncomment to see which R's failed ...
            println("Failed: Error: $(err).");
        end
    end
    capital_allocation_line;
end





results_array_risky_only = let

    # initialize -
    efficient_frontier = efficient_frontier_sim; # use the data efficient frontier
    number_of_portfolios = length(efficient_frontier); # how many portfolios do we have? (these all exited correctly)
    M = length(my_list_of_tickers); # how many tickers do we have?
    results_array = Array{Float64,2}(undef, number_of_portfolios, M+2);
    risk_array_sorted = keys(efficient_frontier) |> collect |> sort;

    for i ∈ eachindex(risk_array_sorted)
        risk_value = risk_array_sorted[i] |> sqrt; # let's plot the sqrt of the risk
        
        data = efficient_frontier[risk_array_sorted[i]] # get the NamedTuple corresponding to this risk level
        reward_value = data.reward;
        w = data.w;

        results_array[i,1] = risk_value;
        results_array[i,2] = reward_value;
        for j ∈ 1:M
            results_array[i,2+j] = w[j];
        end
    end

    results_array
end





results_array_risk_free = let

    # initialize -
    efficient_frontier = capital_allocation_line; # use the data efficient frontier
    number_of_portfolios = length(efficient_frontier); # how many portfolios do we have? (these all exited correctly)
    M = length(my_list_of_tickers); # how many tickers do we have?
    results_array = Array{Float64,2}(undef, number_of_portfolios, M+2);
    risk_array_sorted = keys(efficient_frontier) |> collect |> sort;

    for i ∈ eachindex(risk_array_sorted)
        risk_value = risk_array_sorted[i] |> sqrt; # let's plot the sqrt of the risk
        
        data = efficient_frontier[risk_array_sorted[i]] # get the NamedTuple corresponding to this risk level
        reward_value = data.reward;
        w = data.w;

        results_array[i,1] = risk_value;
        results_array[i,2] = reward_value;
        for j ∈ 1:M
            results_array[i,2+j] = w[j];
        end
    end

    results_array
end





let

    # SIM results: risky-assets only
    max_risk_value_RA = results_array_risky_only[end,1]; # what is the biggest risk we have (x-axis value)
    max_reward_value_RA = results_array_risky_only[end,2]; # what is the biggest reward that we have (y-axis value)

    max_risk_value_RF = results_array_risk_free[end,1]; # what is the biggest risk we have (x-axis value)
    max_reward_value_RF = results_array_risk_free[end,2]; # what is the biggest reward that we have (y-axis value)

    max_risk_value = max(max_risk_value_RA, max_risk_value_RF);
    max_reward_value = max(max_reward_value_RA, max_reward_value_RF);

    number_of_portfolios_data = length(efficient_frontier_sim); # how many portfolios did we recover?
    skip = 10;

    plot(results_array_risky_only[:,1], results_array_risky_only[:,2], lw=4, xlabel="Risk sqrt(variance)", 
        ylabel="Portfolio log growth (1/yr)", fontsize=18, label="SIM Risky Assets", c=:red, 
        xlim=(0.0, 1.1*max_risk_value), ylim = (0.0, 1.1*max_reward_value))
    scatter!(results_array_risky_only[1:skip:number_of_portfolios_data,1], results_array_risky_only[1:skip:number_of_portfolios_data,2], 
        label="", c=:white, ms=4, msc=:red)

    # SIM results: risky-assets + risk-free asset
    number_of_portfolios_data = length(capital_allocation_line); # how many portfolios did we recover?
    skip = 10;
    plot!(results_array_risk_free[:,1], results_array_risk_free[:,2], lw=4, xlabel="Risk sqrt(variance)", 
        ylabel="Portfolio log growth (1/yr)", fontsize=18, label="SIM Risky+Risk-Free (Capital Allocation Line)", c=:gray10, 
        xlim=(0.0, 1.1*max_risk_value), ylim = (0.0, 1.1*max_reward_value))
    scatter!(results_array_risk_free[1:skip:number_of_portfolios_data,1], results_array_risk_free[1:skip:number_of_portfolios_data,2], 
        label="", c=:white, ms=4, msc=:gray10)

    plot!(bg="gray95", background_color_outside="white", framestyle = :box, fg_legend = :transparent, legend = :bottomright);
end








tangent_portfolio_index = let

    # initialize -
    should_stop_loop = false;
    counter = 1;
    θ = 0.0; # fraction in risky assets
    θ_target = 1.0; # threshold for stopping criterion

    while should_stop_loop == false

        w = results_array_risk_free[counter, 3:end]; # extract the allocation
        θ = sum(w); # fraction in risky assets

        if abs(θ - θ_target) < 0.01
            should_stop_loop = true
        end

        counter += 1;
    end

    println("Tangent portfolio found at index = $(counter-1) with θ = $(θ).");
    tangent_portfolio_index = counter; # return
end;





let

    # initialize -
    w = results_array_risk_free[tangent_portfolio_index, 3:end]; # extract the allocation
    table_df = DataFrame();


    for i ∈ eachindex(my_list_of_tickers)
        ticker = my_list_of_tickers[i];
        wᵢ = w[i];
        row_data = (
            ticker = ticker,
            α = sim_model_parameters[ticker].alpha,
            β = sim_model_parameters[ticker].beta,
            g = μ̂_sim[i],
            w = round(wᵢ, digits=4) |> abs,
        );
        push!(table_df,row_data)
    end

    beta_vec = table_df[:,:β] |> collect;
    alpha_vec = table_df[:,:α] |> collect;
    g_vec = table_df[:,:g] |> collect;
    w_vec = table_df[:,:w] |> collect
    
    # compute the total -
    total = table_df[:,:w] |> sum
    last_row = (
        ticker = "total",
        α = dot(alpha_vec,w_vec),
        β = dot(beta_vec,w_vec),
        g = dot(g_vec,w_vec),
        w = total,
    )
    push!(table_df,last_row)
  
    pretty_table(table_df, backend = :text, fit_table_in_display_vertically = false,
         table_format = TextTableFormat(borders = text_table_borders__compact)
    );
end





let

    # initialize -
    index_of_portfolio = tangent_portfolio_index + 1; # this should be close to the tangent portfolio index
    # index_of_portfolio = 182; # this should be close to the tangent portfolio index
    w = results_array_risk_free[index_of_portfolio, 3:end]; # extract the allocation
    θ = sum(w); # fraction in risky assets

    # compute the Sharpe ratio -
    reward = results_array_risk_free[index_of_portfolio, 2]; # extract the reward
    risk = results_array_risk_free[index_of_portfolio, 1]; # extract the risk (we already take sqrt)
    sharpe_ratio = (reward - risk_free_rate)/risk;

    # print results -
    println("Portfolio $(index_of_portfolio) has Sharpe ratio = $(round(sharpe_ratio,digits=6)) with θ = $(round(θ,digits=4)).");
end





θ = 0.50; # fraction in risky assets
total_budget = 1000.0; # budget USD invested in a combination of the tangent portfolio and the risk-free asset
budget_in_risky_assets = total_budget*θ; # amount invested in risky assets
budget_in_risk_free_asset = total_budget*(1.0 - θ); # amount invested in risk-free asset


budget_in_risk_free_asset





nₒ = let

    # initialize -
    portfolio_index = tangent_portfolio_index; # use the tangent portfolio index
    w = results_array_risk_free[portfolio_index, 3:end]; # extract the allocation from the risk-free results array
    n = Array{Float64,1}(undef, length(w)); # number of shares
    B = budget_in_risky_assets; # total budget to invest in risky assets

    for i ∈ eachindex(w)
        ticker = my_list_of_tickers[i];
        price = dataset[ticker][1, :open]; # get the most recent opening price
        dollar_amount = w[i]*B; # dollar amount to invest in this asset
        n[i] = (dollar_amount/price) |> abs; # number of shares to buy (rounded down)
    end

    n; # return the number of shares array
end;





actual_invested_budget = let

    S = [dataset[ticker][1, :open] for ticker ∈ my_list_of_tickers]; # extract the price for each ticker on day 1 (opening price)
    dot(S,nₒ) + budget_in_risk_free_asset # total budget invested

end





n_alternative = let

    # initialize -
    B = actual_invested_budget; # use the actual invested budget
    ticker = "SPY"; # alternative market portfolio
    price = dataset[ticker][1, :open]; # get the most recent opening price
    n_spy = B/price; # number of shares to buy (rounded down)
    n_spy; # return
end;





Wₚ,Wᵣ,Wₐ = let
    
    # initialize -
    Wₚ = Array{Float64,1}(undef, maximum_number_trading_days); # wealth for our tangent portfolio
    Wᵣ = Array{Float64,1}(undef, maximum_number_trading_days); # wealth for our risk-free asset
    Wₐ = Array{Float64,1}(undef, maximum_number_trading_days); # wealth for our alternative portfolio, e.g., SPY

    for i ∈ 1:maximum_number_trading_days
        
        # Wealth: risk-free asset
        Wᵣ[i] = actual_invested_budget*exp(risk_free_rate*(i*Δt));

        # Wealth: our tangent portfolio -
        Sᵢ = [dataset[my_list_of_tickers[j]][i, :close] for j ∈ eachindex(my_list_of_tickers) ]; # prices at time i
        Wₚ[i] = sum( nₒ[j]*Sᵢ[j] for j ∈ eachindex(my_list_of_tickers) ) + budget_in_risk_free_asset*exp(risk_free_rate*(i*Δt)); # total wealth = risky + risk-free asset

        # Wealth: alternative portfolio, e.g., SPY -    
        Wₐ[i] = n_alternative*dataset["SPY"][i, :close];
    end

    (Wₚ, Wᵣ, Wₐ); # return
end;





let

    plot(1:maximum_number_trading_days, Wₚ, lw=4, xlabel="Trading Day Index (2025)", 
        ylabel="Wealth Index (USD)", fontsize=18, label="Risk-Free + Tangent Portfolio (θ = $(θ))", c=:red)

    plot!(1:maximum_number_trading_days, Wₐ, lw=4, xlabel="Trading Day Index (2025)", 
        ylabel="Wealth Index (USD)", fontsize=18, label="Alternative Portfolio (SPY)", c=:navy)

    plot!(1:maximum_number_trading_days, Wᵣ, lw=4, xlabel="Trading Day Index (2025)", 
        ylabel="Wealth Index (USD)", fontsize=18, label="Risk-Free Asset Only", c=:green, ls=:dash)


    plot!(bg="gray95", background_color_outside="white", framestyle = :box, fg_legend = :transparent);
end












