{
 "cells": [
  {
   "cell_type": "markdown",
   "id": "d2534105-6383-4535-a269-6af6c4d1680b",
   "metadata": {},
   "source": [
    "## Example: Single Index Models and Minimum Variance Portfolio Allocation\n",
    "In this example, we will use single index models to construct a minimum variance portfolio from a set of risky assets. \n",
    "\n",
    "> __Learning Objectives:__\n",
    "> \n",
    "> By the end of this example, you should be able to:\n",
    "> * __Construct SIM-based covariance matrices__ by computing portfolio covariance using beta coefficients and market variance rather than direct estimation from historical returns data.\n",
    "> * __Compute efficient frontiers__ using both data-driven and single index model approaches, comparing the risk-return tradeoffs produced by each methodology.\n",
    "> * __Compare portfolio allocations__ between data-driven and SIM-based optimization, analyzing how model simplification affects asset weights and portfolio composition.\n",
    "\n",
    "Let's get started!\n",
    "___"
   ]
  },
  {
   "cell_type": "markdown",
   "id": "75c1691d-25c3-4f99-836d-5f01182c7842",
   "metadata": {},
   "source": [
    "## Setup, Data, and Prerequisites\n",
    "First, we set up the computational environment by including the `Include.jl` file and loading any needed resources.\n",
    "\n",
    "> __Include:__ The [`include(...)` command](https://docs.julialang.org/en/v1/base/base/#include) evaluates the contents of the input source file, `Include.jl`, in the notebook's global scope. The `Include.jl` file sets paths, loads required external packages, etc. For additional information on functions and types used in this material, see the [Julia programming language documentation](https://docs.julialang.org/en/v1/). \n",
    "\n",
    "Let's set up our code environment:"
   ]
  },
  {
   "cell_type": "code",
   "execution_count": 1,
   "id": "914fab8e-454d-4f98-bbce-bd4ec2edaf29",
   "metadata": {
    "tags": []
   },
   "outputs": [],
   "source": [
    "include(joinpath(@__DIR__, \"Include.jl\")); # include the Include.jl file"
   ]
  },
  {
   "cell_type": "markdown",
   "id": "e55483b1",
   "metadata": {},
   "source": [
    "For additional information on functions and types used in this material, see the [Julia programming language documentation](https://docs.julialang.org/en/v1/) and the [VLQuantitativeFinancePackage.jl documentation](https://github.com/varnerlab/VLQuantitativeFinancePackage.jl). "
   ]
  },
  {
   "cell_type": "markdown",
   "id": "f4a165c6-1a16-4d94-8ec7-e33cc54913a4",
   "metadata": {},
   "source": [
    "### Data\n",
    "We gathered daily open-high-low-close (OHLC) data for each firm in the [S&P 500](https://en.wikipedia.org/wiki/S%26P_500) from `01-03-2025` until `09-26-2025`, along with data for several exchange-traded funds and volatility products during that time period.\n",
    "\n",
    "Let's load the `original_dataset::DataFrame` by calling [the `MyTestingMarketDataSet()` function](https://varnerlab.github.io/VLQuantitativeFinancePackage.jl/dev/data/#VLQuantitativeFinancePackage.MyTestingMarketDataSet)."
   ]
  },
  {
   "cell_type": "code",
   "execution_count": 2,
   "id": "ede4f7d8-de2a-4c06-81d9-5e462afc6df2",
   "metadata": {
    "tags": []
   },
   "outputs": [
    {
     "data": {
      "text/plain": [
       "Dict{String, DataFrame} with 482 entries:\n",
       "  \"NI\"   => \u001b[1m182×8 DataFrame\u001b[0m\u001b[0m…\n",
       "  \"EMR\"  => \u001b[1m182×8 DataFrame\u001b[0m\u001b[0m…\n",
       "  \"CTAS\" => \u001b[1m182×8 DataFrame\u001b[0m\u001b[0m…\n",
       "  \"HSIC\" => \u001b[1m182×8 DataFrame\u001b[0m\u001b[0m…\n",
       "  \"KIM\"  => \u001b[1m182×8 DataFrame\u001b[0m\u001b[0m…\n",
       "  \"PLD\"  => \u001b[1m182×8 DataFrame\u001b[0m\u001b[0m…\n",
       "  \"IEX\"  => \u001b[1m182×8 DataFrame\u001b[0m\u001b[0m…\n",
       "  \"BAC\"  => \u001b[1m182×8 DataFrame\u001b[0m\u001b[0m…\n",
       "  \"CBOE\" => \u001b[1m182×8 DataFrame\u001b[0m\u001b[0m…\n",
       "  \"EXR\"  => \u001b[1m182×8 DataFrame\u001b[0m\u001b[0m…\n",
       "  \"NCLH\" => \u001b[1m182×8 DataFrame\u001b[0m\u001b[0m…\n",
       "  \"CVS\"  => \u001b[1m182×8 DataFrame\u001b[0m\u001b[0m…\n",
       "  \"DRI\"  => \u001b[1m182×8 DataFrame\u001b[0m\u001b[0m…\n",
       "  \"DTE\"  => \u001b[1m182×8 DataFrame\u001b[0m\u001b[0m…\n",
       "  \"ZION\" => \u001b[1m182×8 DataFrame\u001b[0m\u001b[0m…\n",
       "  \"AVY\"  => \u001b[1m182×8 DataFrame\u001b[0m\u001b[0m…\n",
       "  \"EW\"   => \u001b[1m182×8 DataFrame\u001b[0m\u001b[0m…\n",
       "  \"EA\"   => \u001b[1m182×8 DataFrame\u001b[0m\u001b[0m…\n",
       "  \"NWSA\" => \u001b[1m182×8 DataFrame\u001b[0m\u001b[0m…\n",
       "  ⋮      => ⋮"
      ]
     },
     "metadata": {},
     "output_type": "display_data"
    }
   ],
   "source": [
    "original_dataset = MyTestingMarketDataSet() |> x-> x[\"dataset\"] # load the original dataset (testing)"
   ]
  },
  {
   "cell_type": "markdown",
   "id": "7ee23930-149c-49ee-b468-2405dfa9d786",
   "metadata": {},
   "source": [
    "Not all tickers in our dataset have the maximum number of trading days for various reasons, such as acquisition or delisting events. Let's collect only those tickers with the maximum number of trading days.\n",
    "\n",
    "First, let's compute the number of records for a firm that we know has the maximum value, e.g., `AAPL`, and save that value in the `maximum_number_trading_days::Int64` variable:"
   ]
  },
  {
   "cell_type": "code",
   "execution_count": 3,
   "id": "9229500e-ccad-46db-8df4-5665fb9e2589",
   "metadata": {
    "tags": []
   },
   "outputs": [],
   "source": [
    "maximum_number_trading_days = original_dataset[\"AAPL\"] |> nrow; # maximum number of trading days in our dataset"
   ]
  },
  {
   "cell_type": "markdown",
   "id": "3a74846d-0fc9-40b3-bddc-c9fee656114b",
   "metadata": {},
   "source": [
    "Now, let's iterate through our data and collect only tickers with `maximum_number_trading_days` records. Save that data in the `dataset::Dict{String,DataFrame}` variable:"
   ]
  },
  {
   "cell_type": "code",
   "execution_count": 4,
   "id": "d75b54c3-c1d7-4f93-be35-2da7e42a86f1",
   "metadata": {
    "tags": []
   },
   "outputs": [],
   "source": [
    "dataset = let\n",
    "\n",
    "    # initialize -\n",
    "    dataset = Dict{String, DataFrame}();\n",
    "\n",
    "    # iterate through the dictionary; we can't guarantee a particular order\n",
    "    for (ticker, data) ∈ original_dataset  # we get each (K, V) pair!\n",
    "        if (nrow(data) == maximum_number_trading_days) # check if ticker has maximum trading days\n",
    "            dataset[ticker] = data;\n",
    "        end\n",
    "    end\n",
    "    dataset; # return\n",
    "end;"
   ]
  },
  {
   "cell_type": "markdown",
   "id": "7d776d45-97d1-48c6-9d70-c2e6840687a7",
   "metadata": {},
   "source": [
    "Let's get a list of the firms in our cleaned dataset and sort them alphabetically. We store the sorted firm ticker symbols in the `list_of_tickers::Array{String,1}` variable:"
   ]
  },
  {
   "cell_type": "code",
   "execution_count": 5,
   "id": "5c80006a-3338-4f4b-9983-f2b366af5719",
   "metadata": {
    "tags": []
   },
   "outputs": [],
   "source": [
    "list_of_tickers = keys(dataset) |> collect |> sort;"
   ]
  },
  {
   "cell_type": "markdown",
   "id": "5487bb63",
   "metadata": {},
   "source": [
    "Next, we'll compute the growth rate matrix for all firms in the dataset. We've implemented [the `log_growth_matrix(...)` function](https://varnerlab.github.io/VLDataScienceMachineLearningPackage.jl/dev/data/#VLDataScienceMachineLearningPackage.log_growth_matrix) which takes the cleaned dataset and a list of ticker symbols, and returns the growth rate array. Each row of the growth rate array is a time step, while each column corresponds to a firm from the `list_of_tickers::Array{String,1}` array.\n",
    "\n",
    "We'll save this data in the `growth_rate_array::Array{Float64,2}` variable:"
   ]
  },
  {
   "cell_type": "code",
   "execution_count": 6,
   "id": "9d0a9eba",
   "metadata": {},
   "outputs": [],
   "source": [
    "growth_rate_array = let\n",
    "\n",
    "    # initialize -\n",
    "    r̄ = 0.0; # assume the risk-free rate is 0\n",
    "    Δt = 1.0/252.0; # assume daily trading (252 trading days in a year)\n",
    "\n",
    "    # compute the growth matrix -\n",
    "    growth_rate_array = log_growth_matrix(dataset, list_of_tickers, Δt = Δt, \n",
    "        risk_free_rate = r̄); # other optional parameters are at their defaults\n",
    "\n",
    "    growth_rate_array; # return\n",
    "end;"
   ]
  },
  {
   "cell_type": "markdown",
   "id": "ddb016b4",
   "metadata": {},
   "source": [
    "Next, let's load the covariance matrix that we computed in the previous example. We'll store this data in the `covariance_dictionary::Dict{String,Any}` variable:"
   ]
  },
  {
   "cell_type": "code",
   "execution_count": 7,
   "id": "fea0c042",
   "metadata": {},
   "outputs": [],
   "source": [
    "covariance_dictionary = let\n",
    "\n",
    "    # initialize -\n",
    "    path_to_covariance = joinpath(_PATH_TO_DATA,\"Covariance-Return-Training-Fall-2025.jld2\");\n",
    "    covariance = JLD2.load(path_to_covariance);\n",
    "    covariance;\n",
    "end;"
   ]
  },
  {
   "cell_type": "markdown",
   "id": "c14231b0",
   "metadata": {},
   "source": [
    "Next, let's load the single asset geometric Brownian motion (SAGBM) parameters, which include the drift and diffusion coefficients for each ticker. We'll store this data in the `parameters_df::DataFrame` variable:"
   ]
  },
  {
   "cell_type": "code",
   "execution_count": 8,
   "id": "6fc18c1d",
   "metadata": {},
   "outputs": [],
   "source": [
    "parameters_df = let\n",
    "\n",
    "    # load -\n",
    "    df = CSV.read(joinpath(_PATH_TO_DATA,\"SAGBM-Parameters-Fall-2025.csv\"), DataFrame);\n",
    "    df; # return\n",
    "end;"
   ]
  },
  {
   "cell_type": "markdown",
   "id": "8609ccb3",
   "metadata": {},
   "source": [
    "Finally, let's load the single index model parameters that we computed in the previous example. We'll store this data in the `sim_model_parameters::Dict{String,NamedTuple}` variable:"
   ]
  },
  {
   "cell_type": "code",
   "execution_count": 9,
   "id": "49ce4ecd",
   "metadata": {},
   "outputs": [],
   "source": [
    "sim_model_parameters = let\n",
    "\n",
    "    # initialize -\n",
    "    path_to_sim_model_parameters = joinpath(_PATH_TO_DATA,\"SIMs-SP500-01-03-14-to-12-31-24.jld2\");\n",
    "    sim_model_parameters = JLD2.load(path_to_sim_model_parameters);\n",
    "    sim_model_parameters[\"data\"]; # return\n",
    "end;"
   ]
  },
  {
   "cell_type": "markdown",
   "id": "3489f983-ddb4-4f71-9500-51167768cc14",
   "metadata": {},
   "source": [
    "### Constants\n",
    "Finally, let's set some constants we'll use later in this notebook. The comments describe the constants, their units, and permissible values:"
   ]
  },
  {
   "cell_type": "code",
   "execution_count": 10,
   "id": "82ff7747-f489-4750-bd52-81b9410ac379",
   "metadata": {
    "tags": []
   },
   "outputs": [],
   "source": [
    "risk_free_rate = 0.0389; # hypothetical continuous compounded risk free rate (units: 1/year)\n",
    "Δt = (1.0/252.0); # time step for 1-trading day (units: 1/year)"
   ]
  },
  {
   "cell_type": "markdown",
   "id": "1b143a56",
   "metadata": {},
   "source": [
    "___"
   ]
  },
  {
   "cell_type": "markdown",
   "id": "c5335b23",
   "metadata": {},
   "source": [
    "## Task 1: Setup Risk and Return Matrices\n",
    "In this task, we will set up the risk and return matrices that we will use in the minimum variance portfolio allocation. We'll do two versions: one using a pure data driven approach and another using the single index model parameters.\n",
    "\n",
    "Let's start by specifying a collection of ticker symbols, e.g., `AAPL`, `MSFT`, etc., that interest you in the `my_list_of_tickers::Array{String,1}` array."
   ]
  },
  {
   "cell_type": "code",
   "execution_count": 11,
   "id": "a6bdcea2",
   "metadata": {},
   "outputs": [],
   "source": [
    "my_list_of_tickers = [\"AAPL\", \"MSFT\", \"INTC\", \"MU\", \"AMD\", \"NVDA\", \"GS\", \"BAC\", \"WFC\", \"C\", \"F\", \"GM\", \"JNJ\"]; # random tickers that I selected."
   ]
  },
  {
   "cell_type": "markdown",
   "id": "b34152de",
   "metadata": {},
   "source": [
    "### Data-Driven Risk and Return Matrices\n",
    "Now that we have selected the firms in our risky portfolio, we'll compute the firm-specific expected return vector and covariance matrix. We'll store these in the `μ̂_data::Array{Float64,1}` and `Σ̂_data::Array{Float64,2}` variables. \n",
    "\n",
    "> __Data driven values:__ For the data driven values, we'll use the expected growth rates that we estimated for our single asset geometric Brownian motion models in the previous example. We'll use the covariance matrix that we computed directly from the growth rate data using the centered growth rates matrix.\n",
    "\n",
    "So what do we get?"
   ]
  },
  {
   "cell_type": "code",
   "execution_count": 12,
   "id": "ef4151c1",
   "metadata": {},
   "outputs": [],
   "source": [
    "μ̂_data, Σ̂_data = let\n",
    "\n",
    "    # initialize -\n",
    "    M = length(my_list_of_tickers); # number of assets in portfolio\n",
    "    μ = Array{Float64,1}(); # drift vector\n",
    "    Σᵣ = Array{Float64,2}(undef, M, M); # covariance matrix for *our* portfolio\n",
    "    tickers_in_parameters = parameters_df[:, :ticker] |> collect; # list of tickers in parameters_df\n",
    "    covariance_ticker_list = covariance_dictionary[\"list_of_tickers\"] |> collect; # list of tickers in covariance dictionary\n",
    "    Σ = covariance_dictionary[\"covariance_matrix\"]; # full covariance matrix\n",
    "\n",
    "    # compute drift vector -\n",
    "    for ticker ∈ my_list_of_tickers\n",
    "        i = findfirst(x-> x == ticker, tickers_in_parameters); # find index of ticker in the parameters_df\n",
    "        push!(μ, parameters_df[i, :drift]); # append drift value to μ\n",
    "    end\n",
    "\n",
    "    # compute covariance matrix -\n",
    "    for i ∈ 1:M\n",
    "        for j ∈ 1:M\n",
    "            row_index = findfirst(x-> x == my_list_of_tickers[i], covariance_ticker_list); # find row index in full covariance matrix\n",
    "            col_index = findfirst(x-> x == my_list_of_tickers[j], covariance_ticker_list); # find column index in full covariance matrix\n",
    "            Σᵣ[i,j] = Σ[row_index, col_index]; # assign value to Σᵣ\n",
    "        end\n",
    "    end\n",
    "\n",
    "    (μ, Σᵣ); # return\n",
    "end;"
   ]
  },
  {
   "cell_type": "markdown",
   "id": "6c42b307",
   "metadata": {},
   "source": [
    "Next, we'll compute the expected growth rate (return) and covariance using a single index model. \n",
    "\n",
    "To do this, we need to pull out the growth rate of the market portfolio from `growth_rate_array::Array{Float64,2}`. Look up the index for our market portfolio surrogate `SPY`, then store the growth rate (column from the growth rate array) in the `Gₘ::Array{Float64,1}` variable:"
   ]
  },
  {
   "cell_type": "code",
   "execution_count": 13,
   "id": "8bcd2588",
   "metadata": {},
   "outputs": [],
   "source": [
    "Gₘ = findfirst(x->x==\"SPY\", list_of_tickers) |> i -> growth_rate_array[:,i];"
   ]
  },
  {
   "cell_type": "markdown",
   "id": "ba8ba6d4-726d-4254-a396-39478ef6ce0c",
   "metadata": {},
   "source": [
    "### SIM-Based Risk and Return Matrices\n",
    "Now we'll compute the expected return vector and covariance matrix using the single index model. We'll use the SIM formula for expected returns and the SIM-derived covariance structure. Store these in the `μ̂_sim::Array{Float64,1}` and `Σ̂_sim::Array{Float64,2}` variables:"
   ]
  },
  {
   "cell_type": "code",
   "execution_count": 14,
   "id": "6d9258a1-0c39-4721-8d8c-e67070072ff5",
   "metadata": {
    "tags": []
   },
   "outputs": [],
   "source": [
    "μ̂_sim, Σ̂_sim = let\n",
    "\n",
    "    # initialize -\n",
    "    N = length(my_list_of_tickers); # number of assets in portfolio\n",
    "    μ_sim = Array{Float64,1}(); # drift vector\n",
    "    Σ̂_sim = Array{Float64,2}(undef, N, N); # covariance matrix for *our* portfolio\n",
    "    Ḡₘ = mean(Gₘ); # average market factor -\n",
    "    σ²ₘ = var(Gₘ); # variance of market factor\n",
    "\n",
    "    # compute the expected growth rate (return) for each of our tickers -\n",
    "    for i ∈ eachindex(my_list_of_tickers)\n",
    "        ticker = my_list_of_tickers[i];\n",
    "        data = sim_model_parameters[ticker]; # get the data for this ticker\n",
    "        αᵢ = data.alpha; # get alpha\n",
    "        βᵢ = data.beta; # get beta\n",
    "        Ḡᵢ = αᵢ + βᵢ* Ḡₘ; # compute the growth rate for this ticker\n",
    "        push!(μ_sim, Ḡᵢ); # append drift value to μ_sim\n",
    "    end\n",
    "\n",
    "    # compute the covariance matrix using the single index model -\n",
    "    for i ∈ eachindex(my_list_of_tickers)\n",
    "\n",
    "        ticker_i = my_list_of_tickers[i];\n",
    "        data_i = sim_model_parameters[ticker_i]; # get the data for ticker i\n",
    "        βᵢ = data_i.beta; # get beta for ticker i\n",
    "        σ²_εᵢ = (Δt)*data_i.training_variance; # residual variance for ticker i\n",
    "\n",
    "        for j ∈ eachindex(my_list_of_tickers)\n",
    "            \n",
    "            ticker_j = my_list_of_tickers[j];\n",
    "            data_j = sim_model_parameters[ticker_j]; # get the data for ticker j\n",
    "            βⱼ = data_j.beta; # get beta for ticker j\n",
    "            σ²_εⱼ = (Δt)*data_j.training_variance; # residual variance for ticker j\n",
    "            \n",
    "            if i == j\n",
    "                Σ̂_sim[i,j] = βᵢ*βⱼ*σ²ₘ + σ²_εᵢ; # diagonal elements\n",
    "            else\n",
    "                Σ̂_sim[i,j] = βᵢ*βⱼ*σ²ₘ; # off-diagonal elements\n",
    "            end\n",
    "        end\n",
    "    end\n",
    "\n",
    "    (μ_sim, Σ̂_sim*Δt); # return\n",
    "end;"
   ]
  },
  {
   "cell_type": "markdown",
   "id": "2ba6e4c3",
   "metadata": {},
   "source": [
    "### Covariance Matrix Comparison\n",
    "Compare the two covariance matrices below. Are they similar? Why or why not?\n",
    "\n",
    "> __Think about:__ The SIM covariance matrix has a specific structure where all off-diagonal elements are proportional to $\\beta_i\\beta_j\\sigma_m^2$. This means the model assumes all correlations between assets come through their common exposure to market movements. The data-driven covariance captures all pairwise relationships directly from historical data, including firm-specific correlations that may not be market-related."
   ]
  },
  {
   "cell_type": "code",
   "execution_count": 15,
   "id": "2c1892df",
   "metadata": {},
   "outputs": [
    {
     "data": {
      "text/plain": [
       "13×13 Matrix{Float64}:\n",
       " 0.061982   0.0318509  0.0327428  …  0.039635   0.0406288  0.0149176\n",
       " 0.0318509  0.0529216  0.0315759     0.0382225  0.0391808  0.014386\n",
       " 0.0327428  0.0315759  0.0934778     0.0392928  0.040278   0.0147888\n",
       " 0.0468707  0.0452003  0.046466      0.0562469  0.0576572  0.02117\n",
       " 0.048084   0.0463704  0.0476689     0.057703   0.0591498  0.021718\n",
       " 0.0483635  0.0466399  0.0479459  …  0.0580383  0.0594936  0.0218442\n",
       " 0.036219   0.0349283  0.0359063     0.0434645  0.0445543  0.016359\n",
       " 0.0375853  0.0362458  0.0372608     0.045104   0.0462349  0.0169761\n",
       " 0.0342366  0.0330165  0.033941      0.0410855  0.0421156  0.0154636\n",
       " 0.0414928  0.0400141  0.0411346     0.0497933  0.0510417  0.018741\n",
       " 0.039635   0.0382225  0.0392928  …  0.11332    0.0487563  0.0179018\n",
       " 0.0406288  0.0391808  0.040278      0.0487563  0.113855   0.0183507\n",
       " 0.0149176  0.014386   0.0147888     0.0179018  0.0183507  0.0250658"
      ]
     },
     "metadata": {},
     "output_type": "display_data"
    }
   ],
   "source": [
    "Σ̂_sim"
   ]
  },
  {
   "cell_type": "code",
   "execution_count": 16,
   "id": "7141262d",
   "metadata": {},
   "outputs": [
    {
     "data": {
      "text/plain": [
       "13×13 Matrix{Float64}:\n",
       " 0.054998   0.0301101  0.02693     …  0.024752   0.0256372  0.0102411\n",
       " 0.0301101  0.0464282  0.028659       0.021397   0.0220835  0.0101588\n",
       " 0.02693    0.028659   0.086602       0.0300845  0.0332688  0.00955275\n",
       " 0.0386414  0.0364987  0.0564706      0.0487509  0.0512663  0.00885736\n",
       " 0.0418636  0.0405472  0.0461653      0.0421099  0.042669   0.00937637\n",
       " 0.0457208  0.0463697  0.0465067   …  0.0415535  0.0436856  0.0067175\n",
       " 0.0228452  0.0215869  0.0289937      0.0437096  0.0473049  0.011942\n",
       " 0.0216485  0.0204548  0.0284563      0.0474835  0.051084   0.0124359\n",
       " 0.0179128  0.0176504  0.0261185      0.0445623  0.0461418  0.0120416\n",
       " 0.0251574  0.0231297  0.0323765      0.0531001  0.0565119  0.0128019\n",
       " 0.024752   0.021397   0.0300845   …  0.103253   0.0784669  0.011166\n",
       " 0.0256372  0.0220835  0.0332688      0.0784669  0.10328    0.010851\n",
       " 0.0102411  0.0101588  0.00955275     0.011166   0.010851   0.0236365"
      ]
     },
     "metadata": {},
     "output_type": "display_data"
    }
   ],
   "source": [
    "Σ̂_data"
   ]
  },
  {
   "cell_type": "markdown",
   "id": "401a2d24-deb1-4bbb-ba05-2f6c7611ea20",
   "metadata": {},
   "source": [
    "## Task 2: Compute the efficient frontiers for your collection of tickers\n",
    "Now, we can compute the data-driven and single index model efficient frontiers, assuming only risky assets. We'll solve the minimum variance problem at multiple return levels to trace out the entire efficient frontier for both approaches, allowing us to compare how the SIM approximation affects the risk-return tradeoff.\n",
    "\n",
    "To begin, create an instance of the [MyMarkowitzRiskyAssetOnlyPortfolioChoiceProblem type](https://varnerlab.github.io/VLQuantitativeFinancePackage.jl/dev/portfolio/#VLQuantitativeFinancePackage.MyMarkowitzRiskyAssetOnlyPortfolioChoiceProblem) using a custom [build(...) method](https://varnerlab.github.io/VLQuantitativeFinancePackage.jl/dev/portfolio/#VLQuantitativeFinancePackage.build-Tuple{Type{MyMarkowitzRiskyAssetOnlyPortfolioChoiceProblem},%20NamedTuple}). Store this in the `problem_data` variable. \n",
    "\n",
    "You'll need to pass your covariance array $\\hat{\\Sigma}_{\\star}$, the expected return array $\\hat{\\mu}_{\\star}$, along with bounds and an initial guess, to the [build(...) method](https://varnerlab.github.io/VLQuantitativeFinancePackage.jl/dev/portfolio/#VLQuantitativeFinancePackage.build-Tuple{Type{MyMarkowitzRiskyAssetOnlyPortfiolioChoiceProblem},%20NamedTuple}). Start by setting up the bounds and constants in the problem:"
   ]
  },
  {
   "cell_type": "code",
   "execution_count": 17,
   "id": "0840da92-f0f9-4072-9df6-39f09e6c4e4d",
   "metadata": {
    "tags": []
   },
   "outputs": [],
   "source": [
    "number_of_firms = length(my_list_of_tickers);\n",
    "wₒ = zeros(number_of_firms);\n",
    "wₒ[1] = 1.0;\n",
    "bounds = zeros(number_of_firms,2);\n",
    "bounds[:,2] .= 1.0;\n",
    "number_of_points = 201; # number of points on the efficient frontier that we want to compute"
   ]
  },
  {
   "cell_type": "markdown",
   "id": "ba901c71-c62c-44d9-9976-1d08e83f8350",
   "metadata": {},
   "source": [
    "Build an instance of the [MyMarkowitzRiskyAssetOnlyPortfolioChoiceProblem type](https://varnerlab.github.io/VLQuantitativeFinancePackage.jl/dev/portfolio/#VLQuantitativeFinancePackage.MyMarkowitzRiskyAssetOnlyPortfolioChoiceProblem) using a custom [build(...) method](https://varnerlab.github.io/VLQuantitativeFinancePackage.jl/dev/portfolio/#VLQuantitativeFinancePackage.build-Tuple{Type{MyMarkowitzRiskyAssetOnlyPortfolioChoiceProblem},%20NamedTuple}) for the `data` version of the problem. We'll store this in the `problem_data` variable:"
   ]
  },
  {
   "cell_type": "code",
   "execution_count": 18,
   "id": "4ba80199-8917-4357-a800-4c973148de3d",
   "metadata": {
    "tags": []
   },
   "outputs": [],
   "source": [
    "problem_data = build(MyMarkowitzRiskyAssetOnlyPortfolioChoiceProblem, (\n",
    "    Σ = Σ̂_data, # data cov matrix\n",
    "    μ = μ̂_data, # data expected return\n",
    "    bounds = bounds,\n",
    "    initial = wₒ,\n",
    "    R = 0.0\n",
    "));"
   ]
  },
  {
   "cell_type": "markdown",
   "id": "10d8346c-4d38-495c-8550-d63576c4051a",
   "metadata": {},
   "source": [
    "Next, build the single index model version of the problem. Store the single index version of the problem in the `problem_sim` variable:"
   ]
  },
  {
   "cell_type": "code",
   "execution_count": 19,
   "id": "8fe92cd2-dd7f-46e2-9a10-7a9f1de3f2d0",
   "metadata": {
    "tags": []
   },
   "outputs": [],
   "source": [
    "problem_sim = build(MyMarkowitzRiskyAssetOnlyPortfolioChoiceProblem, (\n",
    "    Σ = Σ̂_sim, # sim cov matrix\n",
    "    μ = μ̂_sim, # sim expected array\n",
    "    bounds = bounds,\n",
    "    initial = wₒ,\n",
    "    R = 0.0\n",
    "));"
   ]
  },
  {
   "cell_type": "markdown",
   "id": "287c4ec0-e9d4-45c9-9c2e-7db7911b4b41",
   "metadata": {},
   "source": [
    "Now that we have both problems set up, we need to create an array with the minimum desired rewards (the calculation must achieve at least this much reward). In this case, assume we go from the risk-free rate to some multiple of the risk-free rate, where we take `number_of_points::Int64` steps.  \n",
    "\n",
    "We store these values in the `minimum_desired_reward_array::Array{Float64,1}` variable:"
   ]
  },
  {
   "cell_type": "code",
   "execution_count": null,
   "id": "a62e9f23-02cb-4c3c-b5a0-30215ca2c86f",
   "metadata": {
    "tags": []
   },
   "outputs": [],
   "source": [
    "minimum_desired_reward_array = range(risk_free_rate, stop = 20*risk_free_rate, length = number_of_points) |> collect; # range from risk-free rate to 20x risk-free rate"
   ]
  },
  {
   "cell_type": "markdown",
   "id": "9e583610-fae9-4325-a3d1-70476ad2847c",
   "metadata": {},
   "source": [
    "We now iterate through the `minimum_desired_reward_array::Array{Float64,1}` and compute the minimum risk required to achieve the specified reward level using a `for-loop`.\n",
    "\n",
    "For each pass through the loop, we:\n",
    "* Update the `problem` variable with the minimum desired reward (set the `R` field). We then pass the updated `problem` object to the [solve(...) method](https://varnerlab.github.io/VLQuantitativeFinancePackage.jl/dev/portfolio/#VLQuantitativeFinancePackage.solve-Tuple{MyMarkowitzRiskyAssetOnlyPortfolioChoiceProblem}) (which initializes and solves the optimization problem). The solution returned from the [solve(...) method](https://varnerlab.github.io/VLQuantitativeFinancePackage.jl/dev/portfolio/#VLQuantitativeFinancePackage.solve-Tuple{MyMarkowitzRiskyAssetOnlyPortfolioChoiceProblem}) is stored in the `solution` dictionary. \n",
    "* We check the `status` of the solution. If the `status` indicates an optimal solution was found, we store that solution in the `efficient_frontier` dictionary. In particular, we store the portfolio risk as the `key` and the expected return, risk and allocation as the `value` in the `efficient_frontier` dictionary.\n",
    "\n",
    "Why the [try-catch environment](https://docs.julialang.org/en/v1/base/base/#try)? The [solve(...) method](https://varnerlab.github.io/VLQuantitativeFinancePackage.jl/dev/portfolio/#VLQuantitativeFinancePackage.solve-Tuple{MyMarkowitzRiskyAssetOnlyPortfolioChoiceProblem}) has an [@assert statement](https://docs.julialang.org/en/v1/base/base/#Base.@assert) to check if the calculation has converged. Thus, the solve method can [throw](https://docs.julialang.org/en/v1/base/base/#Core.throw) an [AssertionError](https://docs.julialang.org/en/v1/base/base/#Core.AssertionError) if the optimization problem fails to converge. To gracefully handle this case, we use a [try-catch construct](https://docs.julialang.org/en/v1/base/base/#try). See the [is_solved_and_feasible method from the JuMP package](https://jump.dev/JuMP.jl/stable/api/JuMP/#JuMP.is_solved_and_feasible) for more information."
   ]
  },
  {
   "cell_type": "code",
   "execution_count": null,
   "id": "8c80968c-cdf4-4759-9bc5-c21a32a40055",
   "metadata": {
    "tags": []
   },
   "outputs": [],
   "source": [
    "efficient_frontier_data = let\n",
    "\n",
    "    # initialize -\n",
    "    efficient_frontier = Dict{Float64, NamedTuple}();\n",
    "\n",
    "    # main loop\n",
    "    for i ∈ eachindex(minimum_desired_reward_array)\n",
    "        problem_data.R = minimum_desired_reward_array[i]; # update the problem object with the minimum desired reward value\n",
    "    \n",
    "        try\n",
    "            solution = solve(problem_data)\n",
    "            status_flag = solution[\"status\"];    \n",
    "\n",
    "            if (status_flag == MathOptInterface.LOCALLY_SOLVED)\n",
    "                risk_value = solution[\"objective_value\"]; # get the risk variance\n",
    "                reward_value = solution[\"reward\"];\n",
    "                allocation = solution[\"argmax\"]; # extract the optimal allocation\n",
    "                efficient_frontier[risk_value] = (risk = risk_value, reward = reward_value, w = allocation)\n",
    "            end\n",
    "        catch err\n",
    "            # Uncomment to see which R's failed ...\n",
    "            # println(\"Failed: desired R = $(problem_risk.R). Infeasible\");\n",
    "        end    \n",
    "    end\n",
    "    efficient_frontier;\n",
    "end;"
   ]
  },
  {
   "cell_type": "markdown",
   "id": "60b0b348-5129-46cf-836f-7c407bfbc032",
   "metadata": {},
   "source": [
    "Let's now do the same thing for the single index model case, where we store the results in the `efficient_frontier_sim` dictionary:"
   ]
  },
  {
   "cell_type": "code",
   "execution_count": null,
   "id": "ef9652f6-cd88-4036-8efd-ed0cc11132cb",
   "metadata": {
    "tags": []
   },
   "outputs": [],
   "source": [
    "efficient_frontier_sim = let\n",
    "\n",
    "    # initialize -\n",
    "    efficient_frontier = Dict{Float64, NamedTuple}();\n",
    "\n",
    "    # main loop\n",
    "    for i ∈ eachindex(minimum_desired_reward_array)\n",
    "        problem_sim.R = minimum_desired_reward_array[i]; # update the problem object with the min desired reward value\n",
    "    \n",
    "        try\n",
    "            solution = solve(problem_sim)\n",
    "            status_flag = solution[\"status\"];    \n",
    "\n",
    "            if (status_flag == MathOptInterface.LOCALLY_SOLVED)\n",
    "                risk_value = solution[\"objective_value\"]; # get the sqrt of the risk\n",
    "                reward_value = solution[\"reward\"];\n",
    "                allocation = solution[\"argmax\"]; # extract the optimal allocation\n",
    "                efficient_frontier[risk_value] = (risk = risk_value, reward = reward_value, w = allocation)\n",
    "            end\n",
    "        catch err\n",
    "            # Uncomment to see which R's failed ...\n",
    "            # println(\"Failed: desired R = $(problem_sim.R). Infeasible\");\n",
    "        end    \n",
    "    end\n",
    "    efficient_frontier;\n",
    "end;"
   ]
  },
  {
   "cell_type": "markdown",
   "id": "918fc16f",
   "metadata": {},
   "source": [
    "So what do we get stored in the efficient frontier dictionaries?"
   ]
  },
  {
   "cell_type": "code",
   "execution_count": 23,
   "id": "c750f5d3",
   "metadata": {},
   "outputs": [
    {
     "data": {
      "text/plain": [
       "Dict{Float64, NamedTuple} with 155 entries:\n",
       "  0.0275516 => (risk = 0.0275516, reward = 0.212589, w = [0.183936, 0.253173, 1…\n",
       "  0.032867  => (risk = 0.032867, reward = 0.256934, w = [0.208779, 0.279058, -5…\n",
       "  0.0221358 => (risk = 0.0221358, reward = 0.108815, w = [0.0747371, 0.129501, …\n",
       "  0.0487589 => (risk = 0.0487589, reward = 0.345627, w = [0.253288, 0.324552, 5…\n",
       "  0.0255576 => (risk = 0.0255576, reward = 0.190416, w = [0.171382, 0.240069, 2…\n",
       "  0.027927  => (risk = 0.027927, reward = 0.216284, w = [0.186028, 0.255356, 1.…\n",
       "  0.024006  => (risk = 0.024006, reward = 0.168243, w = [0.158827, 0.226965, 4.…\n",
       "  0.0264993 => (risk = 0.0264993, reward = 0.201502, w = [0.177659, 0.246621, 1…\n",
       "  0.0643365 => (risk = 0.0643365, reward = 0.40845, w = [0.263977, 0.325132, 3.…\n",
       "  0.164544  => (risk = 0.164544, reward = 0.608007, w = [5.16757e-8, 4.24248e-8…\n",
       "  0.0495727 => (risk = 0.0495727, reward = 0.349322, w = [0.255143, 0.326448, 5…\n",
       "  0.0946788 => (risk = 0.0946788, reward = 0.489751, w = [0.168556, 0.159972, -…\n",
       "  0.107201  => (risk = 0.107201, reward = 0.515619, w = [0.138195, 0.107421, 1.…\n",
       "  0.0221358 => (risk = 0.0221358, reward = 0.108815, w = [0.0747371, 0.129501, …\n",
       "  0.0221683 => (risk = 0.0221683, reward = 0.116506, w = [0.09136, 0.149218, 0.…\n",
       "  0.0412877 => (risk = 0.0412877, reward = 0.308672, w = [0.234743, 0.305597, 6…\n",
       "  0.0538241 => (risk = 0.0538241, reward = 0.3678, w = [0.264415, 0.335926, 4.5…\n",
       "  0.0622562 => (risk = 0.0622562, reward = 0.401059, w = [0.272652, 0.340147, -…\n",
       "  0.148234  => (risk = 0.148234, reward = 0.585834, w = [0.0215504, 1.8602e-8, …\n",
       "  ⋮         => ⋮"
      ]
     },
     "metadata": {},
     "output_type": "display_data"
    }
   ],
   "source": [
    "efficient_frontier_sim"
   ]
  },
  {
   "cell_type": "markdown",
   "id": "a71680c7",
   "metadata": {},
   "source": [
    "### Organize efficient frontier results into a matrix for analysis and visualization\n",
    "Transform the `efficient_frontier::Dict{Float64,NamedTuple}` dictionary into a matrix format for plotting and analysis.\n",
    "\n",
    "> __What are we doing?__ Extract portfolio data from the `efficient_frontier::Dict{Float64,NamedTuple}` dictionary and organize it into the `results_array_data::Array{Float64,2}` matrix. Sort portfolios by risk level and store risk, return, and allocation weights in matrix columns.\n",
    "\n",
    "> __What's in the results array?__ The `results_array_data::Array{Float64,2}` has `number_of_portfolios::Int64` rows and `M+2` columns:\n",
    "> * Column 1: Sorted portfolio risk (standard deviation = √variance). Sorted from lowest to highest risk  \n",
    "> * Column 2: Portfolio expected return\n",
    "> * Columns 3 to M+2: Asset allocation weights for the `M::Int64` tickers\n",
    "\n",
    "Let's build the `results_array_data::Array{Float64,2}` from our efficient frontier solutions:"
   ]
  },
  {
   "cell_type": "code",
   "execution_count": 24,
   "id": "e508f7aa",
   "metadata": {},
   "outputs": [
    {
     "data": {
      "text/plain": [
       "126×15 Matrix{Float64}:\n",
       " 0.137008  0.0924053  0.0901426   0.14233     …   0.00205039   0.627754\n",
       " 0.137008  0.0924054  0.0901428   0.14233         0.00205073   0.627754\n",
       " 0.137008  0.0924064  0.0901442   0.142333        0.00205156   0.627752\n",
       " 0.137008  0.0924052  0.0901423   0.14233         0.00205469   0.627754\n",
       " 0.137008  0.0924052  0.0901421   0.14233         0.00205649   0.627754\n",
       " 0.137008  0.0924052  0.090142    0.14233     …   0.0020573    0.627754\n",
       " 0.137008  0.0924051  0.090142    0.14233         0.00205779   0.627754\n",
       " 0.137008  0.0924051  0.0901419   0.14233         0.00205812   0.627754\n",
       " 0.137008  0.0924051  0.0901419   0.14233         0.00205834   0.627755\n",
       " 0.137008  0.0924051  0.0901419   0.142329        0.00205849   0.627755\n",
       " ⋮                                            ⋱               \n",
       " 0.353429  0.471273   0.0103869   0.0884866       6.78048e-9   3.15616e-8\n",
       " 0.357138  0.474969   0.00417994  0.0800474       6.46822e-9   3.03268e-8\n",
       " 0.360864  0.478664   7.14001e-6  0.0695587      -9.35452e-9  -8.43527e-9\n",
       " 0.364611  0.48236    2.37203e-7  0.0548716   …  -9.36839e-9  -8.48976e-9\n",
       " 0.368378  0.486055   2.9394e-6   0.0401744       5.50377e-9   2.6614e-8\n",
       " 0.372165  0.489751   5.49837e-8  0.0254835      -9.39343e-9  -8.58362e-9\n",
       " 0.375972  0.493446   1.68394e-6  0.0107874       4.90768e-9   2.44535e-8\n",
       " 0.379846  0.497142   3.54351e-7  4.92943e-7      2.78084e-9   1.78583e-8\n",
       " 0.384719  0.500837   1.70085e-8  1.822e-8    …  -2.6461e-9    7.44153e-10"
      ]
     },
     "metadata": {},
     "output_type": "display_data"
    }
   ],
   "source": [
    "results_array_data = let\n",
    "\n",
    "    # initialize -\n",
    "    efficient_frontier = efficient_frontier_data; # use the data efficient frontier\n",
    "    number_of_portfolios = length(efficient_frontier); # how many portfolios do we have? (these all exited correctly)\n",
    "    M = length(my_list_of_tickers); # how many tickers do we have?\n",
    "    results_array = Array{Float64,2}(undef, number_of_portfolios, M+2);\n",
    "    risk_array_sorted = keys(efficient_frontier) |> collect |> sort;\n",
    "\n",
    "    for i ∈ eachindex(risk_array_sorted)\n",
    "        risk_value = risk_array_sorted[i] |> sqrt; # let's plot the sqrt of the risk\n",
    "        \n",
    "        data = efficient_frontier[risk_array_sorted[i]] # get the NamedTuple corresponding to this risk level\n",
    "        reward_value = data.reward;\n",
    "        w = data.w;\n",
    "\n",
    "        results_array[i,1] = risk_value;\n",
    "        results_array[i,2] = reward_value;\n",
    "        for j ∈ 1:M\n",
    "            results_array[i,2+j] = w[j];\n",
    "        end\n",
    "    end\n",
    "\n",
    "    results_array\n",
    "end"
   ]
  },
  {
   "cell_type": "markdown",
   "id": "72e67c20",
   "metadata": {},
   "source": [
    "In a similar manner, we can build the `results_array_sim::Array{Float64,2}` from our single index model efficient frontier solutions:"
   ]
  },
  {
   "cell_type": "code",
   "execution_count": 25,
   "id": "ae7c13e1",
   "metadata": {},
   "outputs": [
    {
     "data": {
      "text/plain": [
       "155×15 Matrix{Float64}:\n",
       " 0.148781  0.108815  0.074737    0.129501    …   5.05169e-7   0.715582\n",
       " 0.148781  0.108815  0.074737    0.129501        5.0517e-7    0.715582\n",
       " 0.148781  0.108815  0.074737    0.129501        5.0517e-7    0.715582\n",
       " 0.148781  0.108815  0.074737    0.129501        5.05171e-7   0.715582\n",
       " 0.148781  0.108815  0.074737    0.129501        5.05171e-7   0.715582\n",
       " 0.148781  0.108815  0.074737    0.129501    …   5.05172e-7   0.715582\n",
       " 0.148781  0.108815  0.0747371   0.129501        5.05173e-7   0.715582\n",
       " 0.148781  0.108815  0.0747371   0.129501        5.05174e-7   0.715582\n",
       " 0.148781  0.108815  0.0747371   0.129501        5.05175e-7   0.715582\n",
       " 0.148781  0.108815  0.0747371   0.129501        5.05176e-7   0.715582\n",
       " ⋮                                           ⋱               \n",
       " 0.37868   0.578443  0.0448197   1.26134e-6      7.35966e-9   1.86293e-8\n",
       " 0.381837  0.582138  0.0331858   2.64023e-8     -9.31916e-9  -8.88918e-9\n",
       " 0.385012  0.585834  0.0215504   1.8602e-8      -9.33074e-9  -8.91935e-9\n",
       " 0.388206  0.589529  0.00991506  1.3878e-8      -9.34192e-9  -8.94786e-9\n",
       " 0.391418  0.593225  4.69591e-6  3.8514e-7   …   5.98557e-9   1.50631e-8\n",
       " 0.39474   0.59692   2.13789e-7  1.38312e-7      4.37169e-9   1.11183e-8\n",
       " 0.39822   0.600616  1.09379e-7  8.22007e-8      3.05517e-9   8.25098e-9\n",
       " 0.401855  0.604311  7.11461e-8  5.67527e-8      1.9577e-9    6.06361e-9\n",
       " 0.40564   0.608007  5.16757e-8  4.24248e-8      1.03367e-9   4.35269e-9"
      ]
     },
     "metadata": {},
     "output_type": "display_data"
    }
   ],
   "source": [
    "results_array_sim = let\n",
    "\n",
    "    # initialize -\n",
    "    efficient_frontier = efficient_frontier_sim; # use the SIM efficient frontier\n",
    "    number_of_portfolios = length(efficient_frontier); # how many portfolios do we have? (these all exited correctly)\n",
    "    M = length(my_list_of_tickers); # how many tickers do we have?\n",
    "    results_array = Array{Float64,2}(undef, number_of_portfolios, M+2);\n",
    "    risk_array_sorted = keys(efficient_frontier) |> collect |> sort;\n",
    "\n",
    "    for i ∈ eachindex(risk_array_sorted)\n",
    "        risk_value = risk_array_sorted[i] |> sqrt; # let's plot the sqrt of the risk\n",
    "        \n",
    "        data = efficient_frontier[risk_array_sorted[i]] # get the NamedTuple corresponding to this risk level\n",
    "        reward_value = data.reward;\n",
    "        w = data.w;\n",
    "\n",
    "        results_array[i,1] = risk_value;\n",
    "        results_array[i,2] = reward_value;\n",
    "        for j ∈ 1:M\n",
    "            results_array[i,2+j] = w[j];\n",
    "        end\n",
    "    end\n",
    "\n",
    "    results_array\n",
    "end"
   ]
  },
  {
   "cell_type": "markdown",
   "id": "7166f52d",
   "metadata": {},
   "source": [
    "### Visualize the efficient frontier\n",
    "Now that we have computed the optimal portfolios, let's visualize the classic risk-return trade-off that Markowitz theory reveals. The efficient frontier shows the boundary of achievable risk-return combinations for our selected assets.\n",
    "\n",
    "`Unhide` the code block below to see how we plotted the efficient frontier for the collection of equities and ETFs specified in the `my_list_of_tickers::Array{String,1}` array."
   ]
  },
  {
   "cell_type": "code",
   "execution_count": 30,
   "id": "b2af1534",
   "metadata": {},
   "outputs": [
    {
     "data": {
      "image/png": "[encoded data removed]",
      "image/svg+xml": [
       "<?xml version=\"1.0\" encoding=\"utf-8\"?>\n",
       "<svg xmlns=\"http://www.w3.org/2000/svg\" xmlns:xlink=\"http://www.w3.org/1999/xlink\" width=\"600\" height=\"400\" viewBox=\"0 0 2400 1600\">\n",
       "<defs>\n",
       "  <clipPath id=\"clip860\">\n",
       "    <rect x=\"0\" y=\"0\" width=\"2400\" height=\"1600\"/>\n",
       "  </clipPath>\n",
       "</defs>\n",
       "<path clip-path=\"url(#clip860)\" d=\"M0 1600 L2400 1600 L2400 8.88178e-14 L0 8.88178e-14  Z\" fill=\"#ffffff\" fill-rule=\"evenodd\" fill-opacity=\"1\"/>\n",
       "<defs>\n",
       "  <clipPath id=\"clip861\">\n",
       "    <rect x=\"480\" y=\"0\" width=\"1681\" height=\"1600\"/>\n",
       "  </clipPath>\n",
       "</defs>\n",
       "<path clip-path=\"url(#clip860)\" d=\"M219.866 1423.18 L2352.76 1423.18 L2352.76 47.2441 L219.866 47.2441  Z\" fill=\"#f2f2f2\" fill-rule=\"evenodd\" fill-opacity=\"1\"/>\n",
       "<defs>\n",
       "  <clipPath id=\"clip862\">\n",
       "    <rect x=\"219\" y=\"47\" width=\"2134\" height=\"1377\"/>\n",
       "  </clipPath>\n",
       "</defs>\n",
       "<polyline clip-path=\"url(#clip862)\" style=\"stroke:#000000; stroke-linecap:round; stroke-linejoin:round; stroke-width:2; stroke-opacity:0.1; fill:none\" points=\"219.866,1423.18 219.866,47.2441 \"/>\n",
       "<polyline clip-path=\"url(#clip862)\" style=\"stroke:#000000; stroke-linecap:round; stroke-linejoin:round; stroke-width:2; stroke-opacity:0.1; fill:none\" points=\"697.874,1423.18 697.874,47.2441 \"/>\n",
       "<polyline clip-path=\"url(#clip862)\" style=\"stroke:#000000; stroke-linecap:round; stroke-linejoin:round; stroke-width:2; stroke-opacity:0.1; fill:none\" points=\"1175.88,1423.18 1175.88,47.2441 \"/>\n",
       "<polyline clip-path=\"url(#clip862)\" style=\"stroke:#000000; stroke-linecap:round; stroke-linejoin:round; stroke-width:2; stroke-opacity:0.1; fill:none\" points=\"1653.89,1423.18 1653.89,47.2441 \"/>\n",
       "<polyline clip-path=\"url(#clip862)\" style=\"stroke:#000000; stroke-linecap:round; stroke-linejoin:round; stroke-width:2; stroke-opacity:0.1; fill:none\" points=\"2131.9,1423.18 2131.9,47.2441 \"/>\n",
       "<polyline clip-path=\"url(#clip862)\" style=\"stroke:#000000; stroke-linecap:round; stroke-linejoin:round; stroke-width:2; stroke-opacity:0.1; fill:none\" points=\"219.866,1423.18 219.866,47.2441 \"/>\n",
       "<polyline clip-path=\"url(#clip862)\" style=\"stroke:#000000; stroke-linecap:round; stroke-linejoin:round; stroke-width:2; stroke-opacity:0.1; fill:none\" points=\"697.874,1423.18 697.874,47.2441 \"/>\n",
       "<polyline clip-path=\"url(#clip862)\" style=\"stroke:#000000; stroke-linecap:round; stroke-linejoin:round; stroke-width:2; stroke-opacity:0.1; fill:none\" points=\"1175.88,1423.18 1175.88,47.2441 \"/>\n",
       "<polyline clip-path=\"url(#clip862)\" style=\"stroke:#000000; stroke-linecap:round; stroke-linejoin:round; stroke-width:2; stroke-opacity:0.1; fill:none\" points=\"1653.89,1423.18 1653.89,47.2441 \"/>\n",
       "<polyline clip-path=\"url(#clip862)\" style=\"stroke:#000000; stroke-linecap:round; stroke-linejoin:round; stroke-width:2; stroke-opacity:0.1; fill:none\" points=\"2131.9,1423.18 2131.9,47.2441 \"/>\n",
       "<polyline clip-path=\"url(#clip862)\" style=\"stroke:#000000; stroke-linecap:round; stroke-linejoin:round; stroke-width:2; stroke-opacity:0.1; fill:none\" points=\"219.866,1423.18 2352.76,1423.18 \"/>\n",
       "<polyline clip-path=\"url(#clip862)\" style=\"stroke:#000000; stroke-linecap:round; stroke-linejoin:round; stroke-width:2; stroke-opacity:0.1; fill:none\" points=\"219.866,1217.45 2352.76,1217.45 \"/>\n",
       "<polyline clip-path=\"url(#clip862)\" style=\"stroke:#000000; stroke-linecap:round; stroke-linejoin:round; stroke-width:2; stroke-opacity:0.1; fill:none\" points=\"219.866,1011.72 2352.76,1011.72 \"/>\n",
       "<polyline clip-path=\"url(#clip862)\" style=\"stroke:#000000; stroke-linecap:round; stroke-linejoin:round; stroke-width:2; stroke-opacity:0.1; fill:none\" points=\"219.866,805.991 2352.76,805.991 \"/>\n",
       "<polyline clip-path=\"url(#clip862)\" style=\"stroke:#000000; stroke-linecap:round; stroke-linejoin:round; stroke-width:2; stroke-opacity:0.1; fill:none\" points=\"219.866,600.261 2352.76,600.261 \"/>\n",
       "<polyline clip-path=\"url(#clip862)\" style=\"stroke:#000000; stroke-linecap:round; stroke-linejoin:round; stroke-width:2; stroke-opacity:0.1; fill:none\" points=\"219.866,394.532 2352.76,394.532 \"/>\n",
       "<polyline clip-path=\"url(#clip862)\" style=\"stroke:#000000; stroke-linecap:round; stroke-linejoin:round; stroke-width:2; stroke-opacity:0.1; fill:none\" points=\"219.866,188.802 2352.76,188.802 \"/>\n",
       "<polyline clip-path=\"url(#clip862)\" style=\"stroke:#000000; stroke-linecap:round; stroke-linejoin:round; stroke-width:2; stroke-opacity:0.1; fill:none\" points=\"219.866,1423.18 2352.76,1423.18 \"/>\n",
       "<polyline clip-path=\"url(#clip862)\" style=\"stroke:#000000; stroke-linecap:round; stroke-linejoin:round; stroke-width:2; stroke-opacity:0.1; fill:none\" points=\"219.866,1217.45 2352.76,1217.45 \"/>\n",
       "<polyline clip-path=\"url(#clip862)\" style=\"stroke:#000000; stroke-linecap:round; stroke-linejoin:round; stroke-width:2; stroke-opacity:0.1; fill:none\" points=\"219.866,1011.72 2352.76,1011.72 \"/>\n",
       "<polyline clip-path=\"url(#clip862)\" style=\"stroke:#000000; stroke-linecap:round; stroke-linejoin:round; stroke-width:2; stroke-opacity:0.1; fill:none\" points=\"219.866,805.991 2352.76,805.991 \"/>\n",
       "<polyline clip-path=\"url(#clip862)\" style=\"stroke:#000000; stroke-linecap:round; stroke-linejoin:round; stroke-width:2; stroke-opacity:0.1; fill:none\" points=\"219.866,600.261 2352.76,600.261 \"/>\n",
       "<polyline clip-path=\"url(#clip862)\" style=\"stroke:#000000; stroke-linecap:round; stroke-linejoin:round; stroke-width:2; stroke-opacity:0.1; fill:none\" points=\"219.866,394.532 2352.76,394.532 \"/>\n",
       "<polyline clip-path=\"url(#clip862)\" style=\"stroke:#000000; stroke-linecap:round; stroke-linejoin:round; stroke-width:2; stroke-opacity:0.1; fill:none\" points=\"219.866,188.802 2352.76,188.802 \"/>\n",
       "<polyline clip-path=\"url(#clip860)\" style=\"stroke:#000000; stroke-linecap:round; stroke-linejoin:round; stroke-width:4; stroke-opacity:1; fill:none\" points=\"219.866,1423.18 2352.76,1423.18 \"/>\n",
       "<polyline clip-path=\"url(#clip860)\" style=\"stroke:#000000; stroke-linecap:round; stroke-linejoin:round; stroke-width:4; stroke-opacity:1; fill:none\" points=\"219.866,47.2441 2352.76,47.2441 \"/>\n",
       "<polyline clip-path=\"url(#clip860)\" style=\"stroke:#000000; stroke-linecap:round; stroke-linejoin:round; stroke-width:4; stroke-opacity:1; fill:none\" points=\"219.866,1423.18 219.866,1404.28 \"/>\n",
       "<polyline clip-path=\"url(#clip860)\" style=\"stroke:#000000; stroke-linecap:round; stroke-linejoin:round; stroke-width:4; stroke-opacity:1; fill:none\" points=\"697.874,1423.18 697.874,1404.28 \"/>\n",
       "<polyline clip-path=\"url(#clip860)\" style=\"stroke:#000000; stroke-linecap:round; stroke-linejoin:round; stroke-width:4; stroke-opacity:1; fill:none\" points=\"1175.88,1423.18 1175.88,1404.28 \"/>\n",
       "<polyline clip-path=\"url(#clip860)\" style=\"stroke:#000000; stroke-linecap:round; stroke-linejoin:round; stroke-width:4; stroke-opacity:1; fill:none\" points=\"1653.89,1423.18 1653.89,1404.28 \"/>\n",
       "<polyline clip-path=\"url(#clip860)\" style=\"stroke:#000000; stroke-linecap:round; stroke-linejoin:round; stroke-width:4; stroke-opacity:1; fill:none\" points=\"2131.9,1423.18 2131.9,1404.28 \"/>\n",
       "<polyline clip-path=\"url(#clip860)\" style=\"stroke:#000000; stroke-linecap:round; stroke-linejoin:round; stroke-width:4; stroke-opacity:1; fill:none\" points=\"219.866,47.2441 219.866,66.1417 \"/>\n",
       "<polyline clip-path=\"url(#clip860)\" style=\"stroke:#000000; stroke-linecap:round; stroke-linejoin:round; stroke-width:4; stroke-opacity:1; fill:none\" points=\"697.874,47.2441 697.874,66.1417 \"/>\n",
       "<polyline clip-path=\"url(#clip860)\" style=\"stroke:#000000; stroke-linecap:round; stroke-linejoin:round; stroke-width:4; stroke-opacity:1; fill:none\" points=\"1175.88,47.2441 1175.88,66.1417 \"/>\n",
       "<polyline clip-path=\"url(#clip860)\" style=\"stroke:#000000; stroke-linecap:round; stroke-linejoin:round; stroke-width:4; stroke-opacity:1; fill:none\" points=\"1653.89,47.2441 1653.89,66.1417 \"/>\n",
       "<polyline clip-path=\"url(#clip860)\" style=\"stroke:#000000; stroke-linecap:round; stroke-linejoin:round; stroke-width:4; stroke-opacity:1; fill:none\" points=\"2131.9,47.2441 2131.9,66.1417 \"/>\n",
       "<path clip-path=\"url(#clip860)\" d=\"M197.251 1454.1 Q193.64 1454.1 191.811 1457.66 Q190.005 1461.2 190.005 1468.33 Q190.005 1475.44 191.811 1479.01 Q193.64 1482.55 197.251 1482.55 Q200.885 1482.55 202.69 1479.01 Q204.519 1475.44 204.519 1468.33 Q204.519 1461.2 202.69 1457.66 Q200.885 1454.1 197.251 1454.1 M197.251 1450.39 Q203.061 1450.39 206.116 1455 Q209.195 1459.58 209.195 1468.33 Q209.195 1477.06 206.116 1481.67 Q203.061 1486.25 197.251 1486.25 Q191.44 1486.25 188.362 1481.67 Q185.306 1477.06 185.306 1468.33 Q185.306 1459.58 188.362 1455 Q191.44 1450.39 197.251 1450.39 Z\" fill=\"#000000\" fill-rule=\"nonzero\" fill-opacity=\"1\" /><path clip-path=\"url(#clip860)\" d=\"M217.413 1479.7 L222.297 1479.7 L222.297 1485.58 L217.413 1485.58 L217.413 1479.7 Z\" fill=\"#000000\" fill-rule=\"nonzero\" fill-opacity=\"1\" /><path clip-path=\"url(#clip860)\" d=\"M242.482 1454.1 Q238.871 1454.1 237.042 1457.66 Q235.237 1461.2 235.237 1468.33 Q235.237 1475.44 237.042 1479.01 Q238.871 1482.55 242.482 1482.55 Q246.116 1482.55 247.922 1479.01 Q249.75 1475.44 249.75 1468.33 Q249.75 1461.2 247.922 1457.66 Q246.116 1454.1 242.482 1454.1 M242.482 1450.39 Q248.292 1450.39 251.348 1455 Q254.426 1459.58 254.426 1468.33 Q254.426 1477.06 251.348 1481.67 Q248.292 1486.25 242.482 1486.25 Q236.672 1486.25 233.593 1481.67 Q230.538 1477.06 230.538 1468.33 Q230.538 1459.58 233.593 1455 Q236.672 1450.39 242.482 1450.39 Z\" fill=\"#000000\" fill-rule=\"nonzero\" fill-opacity=\"1\" /><path clip-path=\"url(#clip860)\" d=\"M675.872 1454.1 Q672.261 1454.1 670.432 1457.66 Q668.626 1461.2 668.626 1468.33 Q668.626 1475.44 670.432 1479.01 Q672.261 1482.55 675.872 1482.55 Q679.506 1482.55 681.312 1479.01 Q683.14 1475.44 683.14 1468.33 Q683.14 1461.2 681.312 1457.66 Q679.506 1454.1 675.872 1454.1 M675.872 1450.39 Q681.682 1450.39 684.737 1455 Q687.816 1459.58 687.816 1468.33 Q687.816 1477.06 684.737 1481.67 Q681.682 1486.25 675.872 1486.25 Q670.062 1486.25 666.983 1481.67 Q663.927 1477.06 663.927 1468.33 Q663.927 1459.58 666.983 1455 Q670.062 1450.39 675.872 1450.39 Z\" fill=\"#000000\" fill-rule=\"nonzero\" fill-opacity=\"1\" /><path clip-path=\"url(#clip860)\" d=\"M696.034 1479.7 L700.918 1479.7 L700.918 1485.58 L696.034 1485.58 L696.034 1479.7 Z\" fill=\"#000000\" fill-rule=\"nonzero\" fill-opacity=\"1\" /><path clip-path=\"url(#clip860)\" d=\"M711.913 1481.64 L719.552 1481.64 L719.552 1455.28 L711.242 1456.95 L711.242 1452.69 L719.506 1451.02 L724.182 1451.02 L724.182 1481.64 L731.821 1481.64 L731.821 1485.58 L711.913 1485.58 L711.913 1481.64 Z\" fill=\"#000000\" fill-rule=\"nonzero\" fill-opacity=\"1\" /><path clip-path=\"url(#clip860)\" d=\"M1154.06 1454.1 Q1150.45 1454.1 1148.62 1457.66 Q1146.82 1461.2 1146.82 1468.33 Q1146.82 1475.44 1148.62 1479.01 Q1150.45 1482.55 1154.06 1482.55 Q1157.7 1482.55 1159.5 1479.01 Q1161.33 1475.44 1161.33 1468.33 Q1161.33 1461.2 1159.5 1457.66 Q1157.7 1454.1 1154.06 1454.1 M1154.06 1450.39 Q1159.87 1450.39 1162.93 1455 Q1166.01 1459.58 1166.01 1468.33 Q1166.01 1477.06 1162.93 1481.67 Q1159.87 1486.25 1154.06 1486.25 Q1148.25 1486.25 1145.18 1481.67 Q1142.12 1477.06 1142.12 1468.33 Q1142.12 1459.58 1145.18 1455 Q1148.25 1450.39 1154.06 1450.39 Z\" fill=\"#000000\" fill-rule=\"nonzero\" fill-opacity=\"1\" /><path clip-path=\"url(#clip860)\" d=\"M1174.23 1479.7 L1179.11 1479.7 L1179.11 1485.58 L1174.23 1485.58 L1174.23 1479.7 Z\" fill=\"#000000\" fill-rule=\"nonzero\" fill-opacity=\"1\" /><path clip-path=\"url(#clip860)\" d=\"M1193.32 1481.64 L1209.64 1481.64 L1209.64 1485.58 L1187.7 1485.58 L1187.7 1481.64 Q1190.36 1478.89 1194.94 1474.26 Q1199.55 1469.61 1200.73 1468.27 Q1202.98 1465.74 1203.86 1464.01 Q1204.76 1462.25 1204.76 1460.56 Q1204.76 1457.8 1202.81 1456.07 Q1200.89 1454.33 1197.79 1454.33 Q1195.59 1454.33 1193.14 1455.09 Q1190.71 1455.86 1187.93 1457.41 L1187.93 1452.69 Q1190.75 1451.55 1193.21 1450.97 Q1195.66 1450.39 1197.7 1450.39 Q1203.07 1450.39 1206.26 1453.08 Q1209.46 1455.77 1209.46 1460.26 Q1209.46 1462.39 1208.65 1464.31 Q1207.86 1466.2 1205.75 1468.8 Q1205.18 1469.47 1202.07 1472.69 Q1198.97 1475.88 1193.32 1481.64 Z\" fill=\"#000000\" fill-rule=\"nonzero\" fill-opacity=\"1\" /><path clip-path=\"url(#clip860)\" d=\"M1631.6 1454.1 Q1627.99 1454.1 1626.16 1457.66 Q1624.35 1461.2 1624.35 1468.33 Q1624.35 1475.44 1626.16 1479.01 Q1627.99 1482.55 1631.6 1482.55 Q1635.23 1482.55 1637.04 1479.01 Q1638.87 1475.44 1638.87 1468.33 Q1638.87 1461.2 1637.04 1457.66 Q1635.23 1454.1 1631.6 1454.1 M1631.6 1450.39 Q1637.41 1450.39 1640.46 1455 Q1643.54 1459.58 1643.54 1468.33 Q1643.54 1477.06 1640.46 1481.67 Q1637.41 1486.25 1631.6 1486.25 Q1625.79 1486.25 1622.71 1481.67 Q1619.65 1477.06 1619.65 1468.33 Q1619.65 1459.58 1622.71 1455 Q1625.79 1450.39 1631.6 1450.39 Z\" fill=\"#000000\" fill-rule=\"nonzero\" fill-opacity=\"1\" /><path clip-path=\"url(#clip860)\" d=\"M1651.76 1479.7 L1656.64 1479.7 L1656.64 1485.58 L1651.76 1485.58 L1651.76 1479.7 Z\" fill=\"#000000\" fill-rule=\"nonzero\" fill-opacity=\"1\" /><path clip-path=\"url(#clip860)\" d=\"M1681 1466.95 Q1684.35 1467.66 1686.23 1469.93 Q1688.13 1472.2 1688.13 1475.53 Q1688.13 1480.65 1684.61 1483.45 Q1681.09 1486.25 1674.61 1486.25 Q1672.43 1486.25 1670.12 1485.81 Q1667.82 1485.39 1665.37 1484.54 L1665.37 1480.02 Q1667.32 1481.16 1669.63 1481.74 Q1671.94 1482.32 1674.47 1482.32 Q1678.87 1482.32 1681.16 1480.58 Q1683.47 1478.84 1683.47 1475.53 Q1683.47 1472.48 1681.32 1470.77 Q1679.19 1469.03 1675.37 1469.03 L1671.34 1469.03 L1671.34 1465.19 L1675.56 1465.19 Q1679 1465.19 1680.83 1463.82 Q1682.66 1462.43 1682.66 1459.84 Q1682.66 1457.18 1680.76 1455.77 Q1678.89 1454.33 1675.37 1454.33 Q1673.45 1454.33 1671.25 1454.75 Q1669.05 1455.16 1666.41 1456.04 L1666.41 1451.88 Q1669.07 1451.14 1671.39 1450.77 Q1673.73 1450.39 1675.79 1450.39 Q1681.11 1450.39 1684.21 1452.83 Q1687.32 1455.23 1687.32 1459.35 Q1687.32 1462.22 1685.67 1464.21 Q1684.03 1466.18 1681 1466.95 Z\" fill=\"#000000\" fill-rule=\"nonzero\" fill-opacity=\"1\" /><path clip-path=\"url(#clip860)\" d=\"M2109.04 1454.1 Q2105.43 1454.1 2103.6 1457.66 Q2101.79 1461.2 2101.79 1468.33 Q2101.79 1475.44 2103.6 1479.01 Q2105.43 1482.55 2109.04 1482.55 Q2112.67 1482.55 2114.48 1479.01 Q2116.31 1475.44 2116.31 1468.33 Q2116.31 1461.2 2114.48 1457.66 Q2112.67 1454.1 2109.04 1454.1 M2109.04 1450.39 Q2114.85 1450.39 2117.9 1455 Q2120.98 1459.58 2120.98 1468.33 Q2120.98 1477.06 2117.9 1481.67 Q2114.85 1486.25 2109.04 1486.25 Q2103.23 1486.25 2100.15 1481.67 Q2097.09 1477.06 2097.09 1468.33 Q2097.09 1459.58 2100.15 1455 Q2103.23 1450.39 2109.04 1450.39 Z\" fill=\"#000000\" fill-rule=\"nonzero\" fill-opacity=\"1\" /><path clip-path=\"url(#clip860)\" d=\"M2129.2 1479.7 L2134.08 1479.7 L2134.08 1485.58 L2129.2 1485.58 L2129.2 1479.7 Z\" fill=\"#000000\" fill-rule=\"nonzero\" fill-opacity=\"1\" /><path clip-path=\"url(#clip860)\" d=\"M2157.12 1455.09 L2145.31 1473.54 L2157.12 1473.54 L2157.12 1455.09 M2155.89 1451.02 L2161.77 1451.02 L2161.77 1473.54 L2166.7 1473.54 L2166.7 1477.43 L2161.77 1477.43 L2161.77 1485.58 L2157.12 1485.58 L2157.12 1477.43 L2141.52 1477.43 L2141.52 1472.92 L2155.89 1451.02 Z\" fill=\"#000000\" fill-rule=\"nonzero\" fill-opacity=\"1\" /><path clip-path=\"url(#clip860)\" d=\"M1007.33 1545.76 Q1009.4 1546.46 1011.34 1548.76 Q1013.32 1551.05 1015.29 1555.06 L1021.82 1568.04 L1014.91 1568.04 L1008.83 1555.85 Q1006.47 1551.08 1004.25 1549.52 Q1002.05 1547.96 998.231 1547.96 L991.229 1547.96 L991.229 1568.04 L984.799 1568.04 L984.799 1520.52 L999.313 1520.52 Q1007.46 1520.52 1011.47 1523.93 Q1015.48 1527.34 1015.48 1534.21 Q1015.48 1538.7 1013.38 1541.66 Q1011.31 1544.62 1007.33 1545.76 M991.229 1525.81 L991.229 1542.68 L999.313 1542.68 Q1003.96 1542.68 1006.32 1540.54 Q1008.7 1538.38 1008.7 1534.21 Q1008.7 1530.04 1006.32 1527.94 Q1003.96 1525.81 999.313 1525.81 L991.229 1525.81 Z\" fill=\"#000000\" fill-rule=\"nonzero\" fill-opacity=\"1\" /><path clip-path=\"url(#clip860)\" d=\"M1029.84 1532.4 L1035.69 1532.4 L1035.69 1568.04 L1029.84 1568.04 L1029.84 1532.4 M1029.84 1518.52 L1035.69 1518.52 L1035.69 1525.93 L1029.84 1525.93 L1029.84 1518.52 Z\" fill=\"#000000\" fill-rule=\"nonzero\" fill-opacity=\"1\" /><path clip-path=\"url(#clip860)\" d=\"M1070.67 1533.45 L1070.67 1538.98 Q1068.19 1537.71 1065.52 1537.07 Q1062.84 1536.44 1059.98 1536.44 Q1055.62 1536.44 1053.42 1537.77 Q1051.26 1539.11 1051.26 1541.79 Q1051.26 1543.82 1052.82 1545 Q1054.38 1546.15 1059.09 1547.2 L1061.09 1547.64 Q1067.33 1548.98 1069.94 1551.43 Q1072.58 1553.85 1072.58 1558.21 Q1072.58 1563.17 1068.64 1566.07 Q1064.72 1568.97 1057.85 1568.97 Q1054.98 1568.97 1051.86 1568.39 Q1048.77 1567.85 1045.34 1566.74 L1045.34 1560.69 Q1048.58 1562.38 1051.73 1563.24 Q1054.89 1564.07 1057.97 1564.07 Q1062.11 1564.07 1064.34 1562.66 Q1066.57 1561.23 1066.57 1558.65 Q1066.57 1556.27 1064.94 1554.99 Q1063.35 1553.72 1057.91 1552.54 L1055.87 1552.07 Q1050.43 1550.92 1048.01 1548.56 Q1045.59 1546.18 1045.59 1542.04 Q1045.59 1537.01 1049.16 1534.27 Q1052.72 1531.54 1059.28 1531.54 Q1062.52 1531.54 1065.39 1532.01 Q1068.25 1532.49 1070.67 1533.45 Z\" fill=\"#000000\" fill-rule=\"nonzero\" fill-opacity=\"1\" /><path clip-path=\"url(#clip860)\" d=\"M1081.69 1518.52 L1087.57 1518.52 L1087.57 1547.77 L1105.05 1532.4 L1112.53 1532.4 L1093.62 1549.07 L1113.32 1568.04 L1105.68 1568.04 L1087.57 1550.63 L1087.57 1568.04 L1081.69 1568.04 L1081.69 1518.52 Z\" fill=\"#000000\" fill-rule=\"nonzero\" fill-opacity=\"1\" /><path clip-path=\"url(#clip860)\" d=\"M1163.1 1533.45 L1163.1 1538.98 Q1160.62 1537.71 1157.95 1537.07 Q1155.27 1536.44 1152.41 1536.44 Q1148.05 1536.44 1145.85 1537.77 Q1143.69 1539.11 1143.69 1541.79 Q1143.69 1543.82 1145.25 1545 Q1146.81 1546.15 1151.52 1547.2 L1153.52 1547.64 Q1159.76 1548.98 1162.37 1551.43 Q1165.01 1553.85 1165.01 1558.21 Q1165.01 1563.17 1161.07 1566.07 Q1157.15 1568.97 1150.28 1568.97 Q1147.41 1568.97 1144.29 1568.39 Q1141.2 1567.85 1137.77 1566.74 L1137.77 1560.69 Q1141.01 1562.38 1144.16 1563.24 Q1147.32 1564.07 1150.4 1564.07 Q1154.54 1564.07 1156.77 1562.66 Q1159 1561.23 1159 1558.65 Q1159 1556.27 1157.37 1554.99 Q1155.78 1553.72 1150.34 1552.54 L1148.3 1552.07 Q1142.86 1550.92 1140.44 1548.56 Q1138.02 1546.18 1138.02 1542.04 Q1138.02 1537.01 1141.59 1534.27 Q1145.15 1531.54 1151.71 1531.54 Q1154.95 1531.54 1157.82 1532.01 Q1160.68 1532.49 1163.1 1533.45 Z\" fill=\"#000000\" fill-rule=\"nonzero\" fill-opacity=\"1\" /><path clip-path=\"url(#clip860)\" d=\"M1177.84 1550.25 Q1177.84 1556.71 1180.48 1560.4 Q1183.15 1564.07 1187.8 1564.07 Q1192.45 1564.07 1195.12 1560.4 Q1197.8 1556.71 1197.8 1550.25 Q1197.8 1543.79 1195.12 1540.13 Q1192.45 1536.44 1187.8 1536.44 Q1183.15 1536.44 1180.48 1540.13 Q1177.84 1543.79 1177.84 1550.25 M1197.8 1562.7 Q1195.95 1565.88 1193.12 1567.44 Q1190.32 1568.97 1186.37 1568.97 Q1179.91 1568.97 1175.83 1563.81 Q1171.79 1558.65 1171.79 1550.25 Q1171.79 1541.85 1175.83 1536.69 Q1179.91 1531.54 1186.37 1531.54 Q1190.32 1531.54 1193.12 1533.1 Q1195.95 1534.62 1197.8 1537.81 L1197.8 1532.4 L1203.65 1532.4 L1203.65 1581.6 L1197.8 1581.6 L1197.8 1562.7 Z\" fill=\"#000000\" fill-rule=\"nonzero\" fill-opacity=\"1\" /><path clip-path=\"url(#clip860)\" d=\"M1236.37 1537.87 Q1235.39 1537.3 1234.21 1537.04 Q1233.06 1536.76 1231.66 1536.76 Q1226.7 1536.76 1224.02 1540 Q1221.38 1543.22 1221.38 1549.27 L1221.38 1568.04 L1215.49 1568.04 L1215.49 1532.4 L1221.38 1532.4 L1221.38 1537.93 Q1223.23 1534.69 1226.19 1533.13 Q1229.15 1531.54 1233.38 1531.54 Q1233.98 1531.54 1234.72 1531.63 Q1235.45 1531.7 1236.34 1531.85 L1236.37 1537.87 Z\" fill=\"#000000\" fill-rule=\"nonzero\" fill-opacity=\"1\" /><path clip-path=\"url(#clip860)\" d=\"M1248.31 1522.27 L1248.31 1532.4 L1260.37 1532.4 L1260.37 1536.95 L1248.31 1536.95 L1248.31 1556.3 Q1248.31 1560.66 1249.49 1561.9 Q1250.69 1563.14 1254.36 1563.14 L1260.37 1563.14 L1260.37 1568.04 L1254.36 1568.04 Q1247.58 1568.04 1245 1565.53 Q1242.42 1562.98 1242.42 1556.3 L1242.42 1536.95 L1238.12 1536.95 L1238.12 1532.4 L1242.42 1532.4 L1242.42 1522.27 L1248.31 1522.27 Z\" fill=\"#000000\" fill-rule=\"nonzero\" fill-opacity=\"1\" /><path clip-path=\"url(#clip860)\" d=\"M1282.14 1518.58 Q1277.88 1525.9 1275.81 1533.06 Q1273.74 1540.23 1273.74 1547.58 Q1273.74 1554.93 1275.81 1562.16 Q1277.91 1569.35 1282.14 1576.64 L1277.05 1576.64 Q1272.27 1569.16 1269.89 1561.93 Q1267.53 1554.71 1267.53 1547.58 Q1267.53 1540.48 1269.89 1533.29 Q1272.24 1526.09 1277.05 1518.58 L1282.14 1518.58 Z\" fill=\"#000000\" fill-rule=\"nonzero\" fill-opacity=\"1\" /><path clip-path=\"url(#clip860)\" d=\"M1289.3 1532.4 L1295.51 1532.4 L1306.65 1562.31 L1317.79 1532.4 L1324 1532.4 L1310.63 1568.04 L1302.67 1568.04 L1289.3 1532.4 Z\" fill=\"#000000\" fill-rule=\"nonzero\" fill-opacity=\"1\" /><path clip-path=\"url(#clip860)\" d=\"M1348.28 1550.12 Q1341.18 1550.12 1338.45 1551.75 Q1335.71 1553.37 1335.71 1557.29 Q1335.71 1560.4 1337.75 1562.25 Q1339.81 1564.07 1343.35 1564.07 Q1348.22 1564.07 1351.15 1560.63 Q1354.11 1557.16 1354.11 1551.43 L1354.11 1550.12 L1348.28 1550.12 M1359.96 1547.71 L1359.96 1568.04 L1354.11 1568.04 L1354.11 1562.63 Q1352.1 1565.88 1349.11 1567.44 Q1346.12 1568.97 1341.79 1568.97 Q1336.31 1568.97 1333.07 1565.91 Q1329.85 1562.82 1329.85 1557.67 Q1329.85 1551.65 1333.86 1548.6 Q1337.91 1545.54 1345.89 1545.54 L1354.11 1545.54 L1354.11 1544.97 Q1354.11 1540.93 1351.43 1538.73 Q1348.79 1536.5 1343.98 1536.5 Q1340.93 1536.5 1338.03 1537.23 Q1335.14 1537.97 1332.46 1539.43 L1332.46 1534.02 Q1335.68 1532.78 1338.7 1532.17 Q1341.72 1531.54 1344.59 1531.54 Q1352.32 1531.54 1356.14 1535.55 Q1359.96 1539.56 1359.96 1547.71 Z\" fill=\"#000000\" fill-rule=\"nonzero\" fill-opacity=\"1\" /><path clip-path=\"url(#clip860)\" d=\"M1392.68 1537.87 Q1391.7 1537.3 1390.52 1537.04 Q1389.37 1536.76 1387.97 1536.76 Q1383.01 1536.76 1380.33 1540 Q1377.69 1543.22 1377.69 1549.27 L1377.69 1568.04 L1371.8 1568.04 L1371.8 1532.4 L1377.69 1532.4 L1377.69 1537.93 Q1379.54 1534.69 1382.5 1533.13 Q1385.46 1531.54 1389.69 1531.54 Q1390.29 1531.54 1391.03 1531.63 Q1391.76 1531.7 1392.65 1531.85 L1392.68 1537.87 Z\" fill=\"#000000\" fill-rule=\"nonzero\" fill-opacity=\"1\" /><path clip-path=\"url(#clip860)\" d=\"M1398.82 1532.4 L1404.68 1532.4 L1404.68 1568.04 L1398.82 1568.04 L1398.82 1532.4 M1398.82 1518.52 L1404.68 1518.52 L1404.68 1525.93 L1398.82 1525.93 L1398.82 1518.52 Z\" fill=\"#000000\" fill-rule=\"nonzero\" fill-opacity=\"1\" /><path clip-path=\"url(#clip860)\" d=\"M1433.14 1550.12 Q1426.04 1550.12 1423.3 1551.75 Q1420.56 1553.37 1420.56 1557.29 Q1420.56 1560.4 1422.6 1562.25 Q1424.67 1564.07 1428.2 1564.07 Q1433.07 1564.07 1436 1560.63 Q1438.96 1557.16 1438.96 1551.43 L1438.96 1550.12 L1433.14 1550.12 M1444.82 1547.71 L1444.82 1568.04 L1438.96 1568.04 L1438.96 1562.63 Q1436.96 1565.88 1433.96 1567.44 Q1430.97 1568.97 1426.64 1568.97 Q1421.17 1568.97 1417.92 1565.91 Q1414.71 1562.82 1414.71 1557.67 Q1414.71 1551.65 1418.72 1548.6 Q1422.76 1545.54 1430.75 1545.54 L1438.96 1545.54 L1438.96 1544.97 Q1438.96 1540.93 1436.29 1538.73 Q1433.65 1536.5 1428.84 1536.5 Q1425.78 1536.5 1422.89 1537.23 Q1419.99 1537.97 1417.32 1539.43 L1417.32 1534.02 Q1420.53 1532.78 1423.56 1532.17 Q1426.58 1531.54 1429.44 1531.54 Q1437.18 1531.54 1441 1535.55 Q1444.82 1539.56 1444.82 1547.71 Z\" fill=\"#000000\" fill-rule=\"nonzero\" fill-opacity=\"1\" /><path clip-path=\"url(#clip860)\" d=\"M1486.51 1546.53 L1486.51 1568.04 L1480.66 1568.04 L1480.66 1546.72 Q1480.66 1541.66 1478.68 1539.14 Q1476.71 1536.63 1472.76 1536.63 Q1468.02 1536.63 1465.28 1539.65 Q1462.55 1542.68 1462.55 1547.9 L1462.55 1568.04 L1456.66 1568.04 L1456.66 1532.4 L1462.55 1532.4 L1462.55 1537.93 Q1464.65 1534.72 1467.48 1533.13 Q1470.34 1531.54 1474.07 1531.54 Q1480.21 1531.54 1483.36 1535.36 Q1486.51 1539.14 1486.51 1546.53 Z\" fill=\"#000000\" fill-rule=\"nonzero\" fill-opacity=\"1\" /><path clip-path=\"url(#clip860)\" d=\"M1523.85 1533.76 L1523.85 1539.24 Q1521.36 1537.87 1518.85 1537.2 Q1516.37 1536.5 1513.82 1536.5 Q1508.12 1536.5 1504.97 1540.13 Q1501.82 1543.73 1501.82 1550.25 Q1501.82 1556.78 1504.97 1560.4 Q1508.12 1564 1513.82 1564 Q1516.37 1564 1518.85 1563.33 Q1521.36 1562.63 1523.85 1561.26 L1523.85 1566.68 Q1521.4 1567.82 1518.75 1568.39 Q1516.14 1568.97 1513.18 1568.97 Q1505.13 1568.97 1500.39 1563.91 Q1495.65 1558.85 1495.65 1550.25 Q1495.65 1541.53 1500.42 1536.53 Q1505.23 1531.54 1513.57 1531.54 Q1516.27 1531.54 1518.85 1532.11 Q1521.43 1532.65 1523.85 1533.76 Z\" fill=\"#000000\" fill-rule=\"nonzero\" fill-opacity=\"1\" /><path clip-path=\"url(#clip860)\" d=\"M1564.52 1548.76 L1564.52 1551.62 L1537.6 1551.62 Q1537.98 1557.67 1541.23 1560.85 Q1544.5 1564 1550.33 1564 Q1553.7 1564 1556.85 1563.17 Q1560.04 1562.35 1563.16 1560.69 L1563.16 1566.23 Q1560 1567.57 1556.69 1568.27 Q1553.38 1568.97 1549.98 1568.97 Q1541.45 1568.97 1536.45 1564 Q1531.49 1559.04 1531.49 1550.57 Q1531.49 1541.82 1536.2 1536.69 Q1540.94 1531.54 1548.96 1531.54 Q1556.15 1531.54 1560.32 1536.18 Q1564.52 1540.8 1564.52 1548.76 M1558.67 1547.04 Q1558.6 1542.23 1555.96 1539.37 Q1553.35 1536.5 1549.02 1536.5 Q1544.12 1536.5 1541.16 1539.27 Q1538.23 1542.04 1537.79 1547.07 L1558.67 1547.04 Z\" fill=\"#000000\" fill-rule=\"nonzero\" fill-opacity=\"1\" /><path clip-path=\"url(#clip860)\" d=\"M1573.21 1518.58 L1578.31 1518.58 Q1583.08 1526.09 1585.44 1533.29 Q1587.82 1540.48 1587.82 1547.58 Q1587.82 1554.71 1585.44 1561.93 Q1583.08 1569.16 1578.31 1576.64 L1573.21 1576.64 Q1577.45 1569.35 1579.52 1562.16 Q1581.62 1554.93 1581.62 1547.58 Q1581.62 1540.23 1579.52 1533.06 Q1577.45 1525.9 1573.21 1518.58 Z\" fill=\"#000000\" fill-rule=\"nonzero\" fill-opacity=\"1\" /><polyline clip-path=\"url(#clip860)\" style=\"stroke:#000000; stroke-linecap:round; stroke-linejoin:round; stroke-width:4; stroke-opacity:1; fill:none\" points=\"219.866,1423.18 219.866,47.2441 \"/>\n",
       "<polyline clip-path=\"url(#clip860)\" style=\"stroke:#000000; stroke-linecap:round; stroke-linejoin:round; stroke-width:4; stroke-opacity:1; fill:none\" points=\"2352.76,1423.18 2352.76,47.2441 \"/>\n",
       "<polyline clip-path=\"url(#clip860)\" style=\"stroke:#000000; stroke-linecap:round; stroke-linejoin:round; stroke-width:4; stroke-opacity:1; fill:none\" points=\"219.866,1423.18 238.764,1423.18 \"/>\n",
       "<polyline clip-path=\"url(#clip860)\" style=\"stroke:#000000; stroke-linecap:round; stroke-linejoin:round; stroke-width:4; stroke-opacity:1; fill:none\" points=\"219.866,1217.45 238.764,1217.45 \"/>\n",
       "<polyline clip-path=\"url(#clip860)\" style=\"stroke:#000000; stroke-linecap:round; stroke-linejoin:round; stroke-width:4; stroke-opacity:1; fill:none\" points=\"219.866,1011.72 238.764,1011.72 \"/>\n",
       "<polyline clip-path=\"url(#clip860)\" style=\"stroke:#000000; stroke-linecap:round; stroke-linejoin:round; stroke-width:4; stroke-opacity:1; fill:none\" points=\"219.866,805.991 238.764,805.991 \"/>\n",
       "<polyline clip-path=\"url(#clip860)\" style=\"stroke:#000000; stroke-linecap:round; stroke-linejoin:round; stroke-width:4; stroke-opacity:1; fill:none\" points=\"219.866,600.261 238.764,600.261 \"/>\n",
       "<polyline clip-path=\"url(#clip860)\" style=\"stroke:#000000; stroke-linecap:round; stroke-linejoin:round; stroke-width:4; stroke-opacity:1; fill:none\" points=\"219.866,394.532 238.764,394.532 \"/>\n",
       "<polyline clip-path=\"url(#clip860)\" style=\"stroke:#000000; stroke-linecap:round; stroke-linejoin:round; stroke-width:4; stroke-opacity:1; fill:none\" points=\"219.866,188.802 238.764,188.802 \"/>\n",
       "<polyline clip-path=\"url(#clip860)\" style=\"stroke:#000000; stroke-linecap:round; stroke-linejoin:round; stroke-width:4; stroke-opacity:1; fill:none\" points=\"2352.76,1423.18 2333.86,1423.18 \"/>\n",
       "<polyline clip-path=\"url(#clip860)\" style=\"stroke:#000000; stroke-linecap:round; stroke-linejoin:round; stroke-width:4; stroke-opacity:1; fill:none\" points=\"2352.76,1217.45 2333.86,1217.45 \"/>\n",
       "<polyline clip-path=\"url(#clip860)\" style=\"stroke:#000000; stroke-linecap:round; stroke-linejoin:round; stroke-width:4; stroke-opacity:1; fill:none\" points=\"2352.76,1011.72 2333.86,1011.72 \"/>\n",
       "<polyline clip-path=\"url(#clip860)\" style=\"stroke:#000000; stroke-linecap:round; stroke-linejoin:round; stroke-width:4; stroke-opacity:1; fill:none\" points=\"2352.76,805.991 2333.86,805.991 \"/>\n",
       "<polyline clip-path=\"url(#clip860)\" style=\"stroke:#000000; stroke-linecap:round; stroke-linejoin:round; stroke-width:4; stroke-opacity:1; fill:none\" points=\"2352.76,600.261 2333.86,600.261 \"/>\n",
       "<polyline clip-path=\"url(#clip860)\" style=\"stroke:#000000; stroke-linecap:round; stroke-linejoin:round; stroke-width:4; stroke-opacity:1; fill:none\" points=\"2352.76,394.532 2333.86,394.532 \"/>\n",
       "<polyline clip-path=\"url(#clip860)\" style=\"stroke:#000000; stroke-linecap:round; stroke-linejoin:round; stroke-width:4; stroke-opacity:1; fill:none\" points=\"2352.76,188.802 2333.86,188.802 \"/>\n",
       "<path clip-path=\"url(#clip860)\" d=\"M126.691 1408.98 Q123.08 1408.98 121.251 1412.54 Q119.445 1416.08 119.445 1423.21 Q119.445 1430.32 121.251 1433.89 Q123.08 1437.43 126.691 1437.43 Q130.325 1437.43 132.13 1433.89 Q133.959 1430.32 133.959 1423.21 Q133.959 1416.08 132.13 1412.54 Q130.325 1408.98 126.691 1408.98 M126.691 1405.27 Q132.501 1405.27 135.556 1409.88 Q138.635 1414.46 138.635 1423.21 Q138.635 1431.94 135.556 1436.55 Q132.501 1441.13 126.691 1441.13 Q120.88 1441.13 117.802 1436.55 Q114.746 1431.94 114.746 1423.21 Q114.746 1414.46 117.802 1409.88 Q120.88 1405.27 126.691 1405.27 Z\" fill=\"#000000\" fill-rule=\"nonzero\" fill-opacity=\"1\" /><path clip-path=\"url(#clip860)\" d=\"M146.853 1434.58 L151.737 1434.58 L151.737 1440.46 L146.853 1440.46 L146.853 1434.58 Z\" fill=\"#000000\" fill-rule=\"nonzero\" fill-opacity=\"1\" /><path clip-path=\"url(#clip860)\" d=\"M171.922 1408.98 Q168.311 1408.98 166.482 1412.54 Q164.677 1416.08 164.677 1423.21 Q164.677 1430.32 166.482 1433.89 Q168.311 1437.43 171.922 1437.43 Q175.556 1437.43 177.362 1433.89 Q179.19 1430.32 179.19 1423.21 Q179.19 1416.08 177.362 1412.54 Q175.556 1408.98 171.922 1408.98 M171.922 1405.27 Q177.732 1405.27 180.788 1409.88 Q183.866 1414.46 183.866 1423.21 Q183.866 1431.94 180.788 1436.55 Q177.732 1441.13 171.922 1441.13 Q166.112 1441.13 163.033 1436.55 Q159.978 1431.94 159.978 1423.21 Q159.978 1414.46 163.033 1409.88 Q166.112 1405.27 171.922 1405.27 Z\" fill=\"#000000\" fill-rule=\"nonzero\" fill-opacity=\"1\" /><path clip-path=\"url(#clip860)\" d=\"M127.917 1203.25 Q124.306 1203.25 122.478 1206.81 Q120.672 1210.36 120.672 1217.48 Q120.672 1224.59 122.478 1228.16 Q124.306 1231.7 127.917 1231.7 Q131.552 1231.7 133.357 1228.16 Q135.186 1224.59 135.186 1217.48 Q135.186 1210.36 133.357 1206.81 Q131.552 1203.25 127.917 1203.25 M127.917 1199.55 Q133.728 1199.55 136.783 1204.15 Q139.862 1208.73 139.862 1217.48 Q139.862 1226.21 136.783 1230.82 Q133.728 1235.4 127.917 1235.4 Q122.107 1235.4 119.029 1230.82 Q115.973 1226.21 115.973 1217.48 Q115.973 1208.73 119.029 1204.15 Q122.107 1199.55 127.917 1199.55 Z\" fill=\"#000000\" fill-rule=\"nonzero\" fill-opacity=\"1\" /><path clip-path=\"url(#clip860)\" d=\"M148.079 1228.85 L152.964 1228.85 L152.964 1234.73 L148.079 1234.73 L148.079 1228.85 Z\" fill=\"#000000\" fill-rule=\"nonzero\" fill-opacity=\"1\" /><path clip-path=\"url(#clip860)\" d=\"M163.959 1230.8 L171.598 1230.8 L171.598 1204.43 L163.288 1206.1 L163.288 1201.84 L171.552 1200.17 L176.227 1200.17 L176.227 1230.8 L183.866 1230.8 L183.866 1234.73 L163.959 1234.73 L163.959 1230.8 Z\" fill=\"#000000\" fill-rule=\"nonzero\" fill-opacity=\"1\" /><path clip-path=\"url(#clip860)\" d=\"M128.288 997.519 Q124.677 997.519 122.848 1001.08 Q121.043 1004.63 121.043 1011.76 Q121.043 1018.86 122.848 1022.43 Q124.677 1025.97 128.288 1025.97 Q131.922 1025.97 133.728 1022.43 Q135.556 1018.86 135.556 1011.76 Q135.556 1004.63 133.728 1001.08 Q131.922 997.519 128.288 997.519 M128.288 993.816 Q134.098 993.816 137.154 998.422 Q140.232 1003.01 140.232 1011.76 Q140.232 1020.48 137.154 1025.09 Q134.098 1029.67 128.288 1029.67 Q122.478 1029.67 119.399 1025.09 Q116.343 1020.48 116.343 1011.76 Q116.343 1003.01 119.399 998.422 Q122.478 993.816 128.288 993.816 Z\" fill=\"#000000\" fill-rule=\"nonzero\" fill-opacity=\"1\" /><path clip-path=\"url(#clip860)\" d=\"M148.45 1023.12 L153.334 1023.12 L153.334 1029 L148.45 1029 L148.45 1023.12 Z\" fill=\"#000000\" fill-rule=\"nonzero\" fill-opacity=\"1\" /><path clip-path=\"url(#clip860)\" d=\"M167.547 1025.07 L183.866 1025.07 L183.866 1029 L161.922 1029 L161.922 1025.07 Q164.584 1022.31 169.167 1017.68 Q173.774 1013.03 174.954 1011.69 Q177.2 1009.16 178.079 1007.43 Q178.982 1005.67 178.982 1003.98 Q178.982 1001.22 177.038 999.487 Q175.116 997.751 172.014 997.751 Q169.815 997.751 167.362 998.515 Q164.931 999.278 162.153 1000.83 L162.153 996.107 Q164.977 994.973 167.431 994.394 Q169.885 993.816 171.922 993.816 Q177.292 993.816 180.487 996.501 Q183.681 999.186 183.681 1003.68 Q183.681 1005.81 182.871 1007.73 Q182.084 1009.63 179.977 1012.22 Q179.399 1012.89 176.297 1016.11 Q173.195 1019.3 167.547 1025.07 Z\" fill=\"#000000\" fill-rule=\"nonzero\" fill-opacity=\"1\" /><path clip-path=\"url(#clip860)\" d=\"M127.339 791.79 Q123.728 791.79 121.899 795.354 Q120.093 798.896 120.093 806.026 Q120.093 813.132 121.899 816.697 Q123.728 820.238 127.339 820.238 Q130.973 820.238 132.779 816.697 Q134.607 813.132 134.607 806.026 Q134.607 798.896 132.779 795.354 Q130.973 791.79 127.339 791.79 M127.339 788.086 Q133.149 788.086 136.204 792.692 Q139.283 797.276 139.283 806.026 Q139.283 814.752 136.204 819.359 Q133.149 823.942 127.339 823.942 Q121.529 823.942 118.45 819.359 Q115.394 814.752 115.394 806.026 Q115.394 797.276 118.45 792.692 Q121.529 788.086 127.339 788.086 Z\" fill=\"#000000\" fill-rule=\"nonzero\" fill-opacity=\"1\" /><path clip-path=\"url(#clip860)\" d=\"M147.501 817.391 L152.385 817.391 L152.385 823.271 L147.501 823.271 L147.501 817.391 Z\" fill=\"#000000\" fill-rule=\"nonzero\" fill-opacity=\"1\" /><path clip-path=\"url(#clip860)\" d=\"M176.737 804.637 Q180.093 805.354 181.968 807.623 Q183.866 809.891 183.866 813.225 Q183.866 818.34 180.348 821.141 Q176.829 823.942 170.348 823.942 Q168.172 823.942 165.857 823.502 Q163.565 823.086 161.112 822.229 L161.112 817.715 Q163.056 818.85 165.371 819.428 Q167.686 820.007 170.209 820.007 Q174.607 820.007 176.899 818.271 Q179.214 816.535 179.214 813.225 Q179.214 810.169 177.061 808.456 Q174.931 806.72 171.112 806.72 L167.084 806.72 L167.084 802.877 L171.297 802.877 Q174.746 802.877 176.575 801.512 Q178.403 800.123 178.403 797.53 Q178.403 794.868 176.505 793.456 Q174.63 792.021 171.112 792.021 Q169.19 792.021 166.991 792.438 Q164.792 792.854 162.153 793.734 L162.153 789.567 Q164.815 788.827 167.13 788.456 Q169.468 788.086 171.528 788.086 Q176.852 788.086 179.954 790.516 Q183.056 792.924 183.056 797.044 Q183.056 799.915 181.413 801.905 Q179.769 803.873 176.737 804.637 Z\" fill=\"#000000\" fill-rule=\"nonzero\" fill-opacity=\"1\" /><path clip-path=\"url(#clip860)\" d=\"M126.205 586.06 Q122.593 586.06 120.765 589.625 Q118.959 593.166 118.959 600.296 Q118.959 607.402 120.765 610.967 Q122.593 614.509 126.205 614.509 Q129.839 614.509 131.644 610.967 Q133.473 607.402 133.473 600.296 Q133.473 593.166 131.644 589.625 Q129.839 586.06 126.205 586.06 M126.205 582.356 Q132.015 582.356 135.07 586.963 Q138.149 591.546 138.149 600.296 Q138.149 609.023 135.07 613.629 Q132.015 618.213 126.205 618.213 Q120.394 618.213 117.316 613.629 Q114.26 609.023 114.26 600.296 Q114.26 591.546 117.316 586.963 Q120.394 582.356 126.205 582.356 Z\" fill=\"#000000\" fill-rule=\"nonzero\" fill-opacity=\"1\" /><path clip-path=\"url(#clip860)\" d=\"M146.366 611.662 L151.251 611.662 L151.251 617.541 L146.366 617.541 L146.366 611.662 Z\" fill=\"#000000\" fill-rule=\"nonzero\" fill-opacity=\"1\" /><path clip-path=\"url(#clip860)\" d=\"M174.283 587.055 L162.477 605.504 L174.283 605.504 L174.283 587.055 M173.056 582.981 L178.936 582.981 L178.936 605.504 L183.866 605.504 L183.866 609.393 L178.936 609.393 L178.936 617.541 L174.283 617.541 L174.283 609.393 L158.681 609.393 L158.681 604.879 L173.056 582.981 Z\" fill=\"#000000\" fill-rule=\"nonzero\" fill-opacity=\"1\" /><path clip-path=\"url(#clip860)\" d=\"M127.686 380.33 Q124.075 380.33 122.246 383.895 Q120.441 387.437 120.441 394.566 Q120.441 401.673 122.246 405.238 Q124.075 408.779 127.686 408.779 Q131.32 408.779 133.126 405.238 Q134.954 401.673 134.954 394.566 Q134.954 387.437 133.126 383.895 Q131.32 380.33 127.686 380.33 M127.686 376.627 Q133.496 376.627 136.552 381.233 Q139.63 385.816 139.63 394.566 Q139.63 403.293 136.552 407.9 Q133.496 412.483 127.686 412.483 Q121.876 412.483 118.797 407.9 Q115.742 403.293 115.742 394.566 Q115.742 385.816 118.797 381.233 Q121.876 376.627 127.686 376.627 Z\" fill=\"#000000\" fill-rule=\"nonzero\" fill-opacity=\"1\" /><path clip-path=\"url(#clip860)\" d=\"M147.848 405.932 L152.732 405.932 L152.732 411.812 L147.848 411.812 L147.848 405.932 Z\" fill=\"#000000\" fill-rule=\"nonzero\" fill-opacity=\"1\" /><path clip-path=\"url(#clip860)\" d=\"M162.964 377.252 L181.32 377.252 L181.32 381.187 L167.246 381.187 L167.246 389.659 Q168.264 389.312 169.283 389.15 Q170.302 388.964 171.32 388.964 Q177.107 388.964 180.487 392.136 Q183.866 395.307 183.866 400.724 Q183.866 406.302 180.394 409.404 Q176.922 412.483 170.602 412.483 Q168.427 412.483 166.158 412.112 Q163.913 411.742 161.505 411.001 L161.505 406.302 Q163.589 407.437 165.811 407.992 Q168.033 408.548 170.51 408.548 Q174.514 408.548 176.852 406.441 Q179.19 404.335 179.19 400.724 Q179.19 397.113 176.852 395.006 Q174.514 392.9 170.51 392.9 Q168.635 392.9 166.76 393.316 Q164.908 393.733 162.964 394.613 L162.964 377.252 Z\" fill=\"#000000\" fill-rule=\"nonzero\" fill-opacity=\"1\" /><path clip-path=\"url(#clip860)\" d=\"M126.529 174.601 Q122.918 174.601 121.089 178.165 Q119.283 181.707 119.283 188.837 Q119.283 195.943 121.089 199.508 Q122.918 203.05 126.529 203.05 Q130.163 203.05 131.968 199.508 Q133.797 195.943 133.797 188.837 Q133.797 181.707 131.968 178.165 Q130.163 174.601 126.529 174.601 M126.529 170.897 Q132.339 170.897 135.394 175.503 Q138.473 180.087 138.473 188.837 Q138.473 197.563 135.394 202.17 Q132.339 206.753 126.529 206.753 Q120.718 206.753 117.64 202.17 Q114.584 197.563 114.584 188.837 Q114.584 180.087 117.64 175.503 Q120.718 170.897 126.529 170.897 Z\" fill=\"#000000\" fill-rule=\"nonzero\" fill-opacity=\"1\" /><path clip-path=\"url(#clip860)\" d=\"M146.691 200.202 L151.575 200.202 L151.575 206.082 L146.691 206.082 L146.691 200.202 Z\" fill=\"#000000\" fill-rule=\"nonzero\" fill-opacity=\"1\" /><path clip-path=\"url(#clip860)\" d=\"M172.339 186.939 Q169.19 186.939 167.339 189.091 Q165.51 191.244 165.51 194.994 Q165.51 198.721 167.339 200.897 Q169.19 203.05 172.339 203.05 Q175.487 203.05 177.315 200.897 Q179.167 198.721 179.167 194.994 Q179.167 191.244 177.315 189.091 Q175.487 186.939 172.339 186.939 M181.621 172.286 L181.621 176.545 Q179.862 175.712 178.056 175.272 Q176.274 174.832 174.514 174.832 Q169.885 174.832 167.431 177.957 Q165.001 181.082 164.653 187.401 Q166.019 185.388 168.079 184.323 Q170.139 183.235 172.616 183.235 Q177.825 183.235 180.834 186.406 Q183.866 189.554 183.866 194.994 Q183.866 200.318 180.718 203.536 Q177.57 206.753 172.339 206.753 Q166.343 206.753 163.172 202.17 Q160.001 197.563 160.001 188.837 Q160.001 180.642 163.89 175.781 Q167.778 170.897 174.329 170.897 Q176.089 170.897 177.871 171.244 Q179.676 171.591 181.621 172.286 Z\" fill=\"#000000\" fill-rule=\"nonzero\" fill-opacity=\"1\" /><path clip-path=\"url(#clip860)\" d=\"M21.7677 1140.87 L39.6235 1140.87 L39.6235 1132.78 Q39.6235 1128.29 37.3 1125.84 Q34.9765 1123.39 30.6797 1123.39 Q26.4147 1123.39 24.0912 1125.84 Q21.7677 1128.29 21.7677 1132.78 L21.7677 1140.87 M16.4842 1147.3 L16.4842 1132.78 Q16.4842 1124.79 20.1126 1120.72 Q23.7092 1116.61 30.6797 1116.61 Q37.7138 1116.61 41.3104 1120.72 Q44.907 1124.79 44.907 1132.78 L44.907 1140.87 L64.0042 1140.87 L64.0042 1147.3 L16.4842 1147.3 Z\" fill=\"#000000\" fill-rule=\"nonzero\" fill-opacity=\"1\" /><path clip-path=\"url(#clip860)\" d=\"M32.4621 1096.75 Q32.4621 1101.46 36.1542 1104.2 Q39.8145 1106.94 46.212 1106.94 Q52.6095 1106.94 56.3017 1104.23 Q59.9619 1101.49 59.9619 1096.75 Q59.9619 1092.07 56.2698 1089.34 Q52.5777 1086.6 46.212 1086.6 Q39.8781 1086.6 36.186 1089.34 Q32.4621 1092.07 32.4621 1096.75 M27.4968 1096.75 Q27.4968 1089.11 32.4621 1084.75 Q37.4273 1080.39 46.212 1080.39 Q54.9649 1080.39 59.9619 1084.75 Q64.9272 1089.11 64.9272 1096.75 Q64.9272 1104.42 59.9619 1108.78 Q54.9649 1113.11 46.212 1113.11 Q37.4273 1113.11 32.4621 1108.78 Q27.4968 1104.42 27.4968 1096.75 Z\" fill=\"#000000\" fill-rule=\"nonzero\" fill-opacity=\"1\" /><path clip-path=\"url(#clip860)\" d=\"M33.8307 1050.03 Q33.2578 1051.01 33.0032 1052.19 Q32.7167 1053.34 32.7167 1054.74 Q32.7167 1059.7 35.9632 1062.38 Q39.1779 1065.02 45.2253 1065.02 L64.0042 1065.02 L64.0042 1070.91 L28.3562 1070.91 L28.3562 1065.02 L33.8944 1065.02 Q30.6479 1063.17 29.0883 1060.21 Q27.4968 1057.25 27.4968 1053.02 Q27.4968 1052.42 27.5923 1051.68 Q27.656 1050.95 27.8151 1050.06 L33.8307 1050.03 Z\" fill=\"#000000\" fill-rule=\"nonzero\" fill-opacity=\"1\" /><path clip-path=\"url(#clip860)\" d=\"M18.2347 1038.09 L28.3562 1038.09 L28.3562 1026.03 L32.9077 1026.03 L32.9077 1038.09 L52.2594 1038.09 Q56.6199 1038.09 57.8613 1036.91 Q59.1026 1035.71 59.1026 1032.04 L59.1026 1026.03 L64.0042 1026.03 L64.0042 1032.04 Q64.0042 1038.82 61.4897 1041.4 Q58.9434 1043.98 52.2594 1043.98 L32.9077 1043.98 L32.9077 1048.28 L28.3562 1048.28 L28.3562 1043.98 L18.2347 1043.98 L18.2347 1038.09 Z\" fill=\"#000000\" fill-rule=\"nonzero\" fill-opacity=\"1\" /><path clip-path=\"url(#clip860)\" d=\"M14.479 1000.28 L19.3487 1000.28 L19.3487 1005.88 Q19.3487 1009.03 20.6219 1010.27 Q21.895 1011.48 25.2052 1011.48 L28.3562 1011.48 L28.3562 1001.84 L32.9077 1001.84 L32.9077 1011.48 L64.0042 1011.48 L64.0042 1017.37 L32.9077 1017.37 L32.9077 1022.97 L28.3562 1022.97 L28.3562 1017.37 L25.8736 1017.37 Q19.9216 1017.37 17.2162 1014.6 Q14.479 1011.83 14.479 1005.82 L14.479 1000.28 Z\" fill=\"#000000\" fill-rule=\"nonzero\" fill-opacity=\"1\" /><path clip-path=\"url(#clip860)\" d=\"M32.4621 981.565 Q32.4621 986.275 36.1542 989.013 Q39.8145 991.75 46.212 991.75 Q52.6095 991.75 56.3017 989.045 Q59.9619 986.307 59.9619 981.565 Q59.9619 976.886 56.2698 974.149 Q52.5777 971.412 46.212 971.412 Q39.8781 971.412 36.186 974.149 Q32.4621 976.886 32.4621 981.565 M27.4968 981.565 Q27.4968 973.926 32.4621 969.565 Q37.4273 965.205 46.212 965.205 Q54.9649 965.205 59.9619 969.565 Q64.9272 973.926 64.9272 981.565 Q64.9272 989.235 59.9619 993.596 Q54.9649 997.925 46.212 997.925 Q37.4273 997.925 32.4621 993.596 Q27.4968 989.235 27.4968 981.565 Z\" fill=\"#000000\" fill-rule=\"nonzero\" fill-opacity=\"1\" /><path clip-path=\"url(#clip860)\" d=\"M14.479 955.497 L14.479 949.641 L64.0042 949.641 L64.0042 955.497 L14.479 955.497 Z\" fill=\"#000000\" fill-rule=\"nonzero\" fill-opacity=\"1\" /><path clip-path=\"url(#clip860)\" d=\"M28.3562 937.387 L28.3562 931.53 L64.0042 931.53 L64.0042 937.387 L28.3562 937.387 M14.479 937.387 L14.479 931.53 L21.895 931.53 L21.895 937.387 L14.479 937.387 Z\" fill=\"#000000\" fill-rule=\"nonzero\" fill-opacity=\"1\" /><path clip-path=\"url(#clip860)\" d=\"M32.4621 905.463 Q32.4621 910.173 36.1542 912.911 Q39.8145 915.648 46.212 915.648 Q52.6095 915.648 56.3017 912.942 Q59.9619 910.205 59.9619 905.463 Q59.9619 900.784 56.2698 898.047 Q52.5777 895.309 46.212 895.309 Q39.8781 895.309 36.186 898.047 Q32.4621 900.784 32.4621 905.463 M27.4968 905.463 Q27.4968 897.824 32.4621 893.463 Q37.4273 889.103 46.212 889.103 Q54.9649 889.103 59.9619 893.463 Q64.9272 897.824 64.9272 905.463 Q64.9272 913.133 59.9619 917.494 Q54.9649 921.823 46.212 921.823 Q37.4273 921.823 32.4621 917.494 Q27.4968 913.133 27.4968 905.463 Z\" fill=\"#000000\" fill-rule=\"nonzero\" fill-opacity=\"1\" /><path clip-path=\"url(#clip860)\" d=\"M14.479 858.675 L14.479 852.818 L64.0042 852.818 L64.0042 858.675 L14.479 858.675 Z\" fill=\"#000000\" fill-rule=\"nonzero\" fill-opacity=\"1\" /><path clip-path=\"url(#clip860)\" d=\"M32.4621 826.751 Q32.4621 831.461 36.1542 834.199 Q39.8145 836.936 46.212 836.936 Q52.6095 836.936 56.3017 834.231 Q59.9619 831.493 59.9619 826.751 Q59.9619 822.072 56.2698 819.335 Q52.5777 816.598 46.212 816.598 Q39.8781 816.598 36.186 819.335 Q32.4621 822.072 32.4621 826.751 M27.4968 826.751 Q27.4968 819.112 32.4621 814.751 Q37.4273 810.391 46.212 810.391 Q54.9649 810.391 59.9619 814.751 Q64.9272 819.112 64.9272 826.751 Q64.9272 834.422 59.9619 838.782 Q54.9649 843.111 46.212 843.111 Q37.4273 843.111 32.4621 838.782 Q27.4968 834.422 27.4968 826.751 Z\" fill=\"#000000\" fill-rule=\"nonzero\" fill-opacity=\"1\" /><path clip-path=\"url(#clip860)\" d=\"M45.7664 777.226 Q39.4007 777.226 35.8996 779.867 Q32.3984 782.477 32.3984 787.22 Q32.3984 791.93 35.8996 794.572 Q39.4007 797.182 45.7664 797.182 Q52.1003 797.182 55.6014 794.572 Q59.1026 791.93 59.1026 787.22 Q59.1026 782.477 55.6014 779.867 Q52.1003 777.226 45.7664 777.226 M59.58 771.369 Q68.683 771.369 73.1071 775.411 Q77.5631 779.454 77.5631 787.793 Q77.5631 790.88 77.0857 793.617 Q76.6401 796.355 75.6852 798.933 L69.9879 798.933 Q71.3884 796.355 72.0568 793.84 Q72.7252 791.326 72.7252 788.716 Q72.7252 782.955 69.7015 780.09 Q66.7096 777.226 60.6303 777.226 L57.7339 777.226 Q60.885 779.04 62.4446 781.873 Q64.0042 784.705 64.0042 788.652 Q64.0042 795.209 59.0071 799.219 Q54.01 803.23 45.7664 803.23 Q37.491 803.23 32.4939 799.219 Q27.4968 795.209 27.4968 788.652 Q27.4968 784.705 29.0564 781.873 Q30.616 779.04 33.7671 777.226 L28.3562 777.226 L28.3562 771.369 L59.58 771.369 Z\" fill=\"#000000\" fill-rule=\"nonzero\" fill-opacity=\"1\" /><path clip-path=\"url(#clip860)\" d=\"M45.7664 715.128 Q39.4007 715.128 35.8996 717.77 Q32.3984 720.38 32.3984 725.122 Q32.3984 729.833 35.8996 732.475 Q39.4007 735.085 45.7664 735.085 Q52.1003 735.085 55.6014 732.475 Q59.1026 729.833 59.1026 725.122 Q59.1026 720.38 55.6014 717.77 Q52.1003 715.128 45.7664 715.128 M59.58 709.272 Q68.683 709.272 73.1071 713.314 Q77.5631 717.356 77.5631 725.695 Q77.5631 728.783 77.0857 731.52 Q76.6401 734.257 75.6852 736.835 L69.9879 736.835 Q71.3884 734.257 72.0568 731.743 Q72.7252 729.228 72.7252 726.618 Q72.7252 720.857 69.7015 717.993 Q66.7096 715.128 60.6303 715.128 L57.7339 715.128 Q60.885 716.942 62.4446 719.775 Q64.0042 722.608 64.0042 726.555 Q64.0042 733.111 59.0071 737.122 Q54.01 741.132 45.7664 741.132 Q37.491 741.132 32.4939 737.122 Q27.4968 733.111 27.4968 726.555 Q27.4968 722.608 29.0564 719.775 Q30.616 716.942 33.7671 715.128 L28.3562 715.128 L28.3562 709.272 L59.58 709.272 Z\" fill=\"#000000\" fill-rule=\"nonzero\" fill-opacity=\"1\" /><path clip-path=\"url(#clip860)\" d=\"M33.8307 676.552 Q33.2578 677.539 33.0032 678.716 Q32.7167 679.862 32.7167 681.263 Q32.7167 686.228 35.9632 688.901 Q39.1779 691.543 45.2253 691.543 L64.0042 691.543 L64.0042 697.431 L28.3562 697.431 L28.3562 691.543 L33.8944 691.543 Q30.6479 689.697 29.0883 686.737 Q27.4968 683.777 27.4968 679.544 Q27.4968 678.939 27.5923 678.207 Q27.656 677.475 27.8151 676.584 L33.8307 676.552 Z\" fill=\"#000000\" fill-rule=\"nonzero\" fill-opacity=\"1\" /><path clip-path=\"url(#clip860)\" d=\"M32.4621 658.028 Q32.4621 662.738 36.1542 665.476 Q39.8145 668.213 46.212 668.213 Q52.6095 668.213 56.3017 665.507 Q59.9619 662.77 59.9619 658.028 Q59.9619 653.349 56.2698 650.612 Q52.5777 647.874 46.212 647.874 Q39.8781 647.874 36.186 650.612 Q32.4621 653.349 32.4621 658.028 M27.4968 658.028 Q27.4968 650.389 32.4621 646.028 Q37.4273 641.668 46.212 641.668 Q54.9649 641.668 59.9619 646.028 Q64.9272 650.389 64.9272 658.028 Q64.9272 665.698 59.9619 670.059 Q54.9649 674.388 46.212 674.388 Q37.4273 674.388 32.4621 670.059 Q27.4968 665.698 27.4968 658.028 Z\" fill=\"#000000\" fill-rule=\"nonzero\" fill-opacity=\"1\" /><path clip-path=\"url(#clip860)\" d=\"M28.3562 635.366 L28.3562 629.509 L56.1743 622.189 L28.3562 614.9 L28.3562 607.993 L56.1743 600.673 L28.3562 593.384 L28.3562 587.528 L64.0042 596.853 L64.0042 603.76 L34.7856 611.431 L64.0042 619.133 L64.0042 626.04 L28.3562 635.366 Z\" fill=\"#000000\" fill-rule=\"nonzero\" fill-opacity=\"1\" /><path clip-path=\"url(#clip860)\" d=\"M18.2347 572.855 L28.3562 572.855 L28.3562 560.792 L32.9077 560.792 L32.9077 572.855 L52.2594 572.855 Q56.6199 572.855 57.8613 571.677 Q59.1026 570.467 59.1026 566.807 L59.1026 560.792 L64.0042 560.792 L64.0042 566.807 Q64.0042 573.587 61.4897 576.165 Q58.9434 578.743 52.2594 578.743 L32.9077 578.743 L32.9077 583.04 L28.3562 583.04 L28.3562 578.743 L18.2347 578.743 L18.2347 572.855 Z\" fill=\"#000000\" fill-rule=\"nonzero\" fill-opacity=\"1\" /><path clip-path=\"url(#clip860)\" d=\"M42.4881 523.457 L64.0042 523.457 L64.0042 529.313 L42.679 529.313 Q37.6183 529.313 35.1038 531.287 Q32.5894 533.26 32.5894 537.207 Q32.5894 541.949 35.6131 544.686 Q38.6368 547.424 43.8567 547.424 L64.0042 547.424 L64.0042 553.312 L14.479 553.312 L14.479 547.424 L33.8944 547.424 Q30.6797 545.323 29.0883 542.49 Q27.4968 539.626 27.4968 535.902 Q27.4968 529.759 31.3163 526.608 Q35.1038 523.457 42.4881 523.457 Z\" fill=\"#000000\" fill-rule=\"nonzero\" fill-opacity=\"1\" /><path clip-path=\"url(#clip860)\" d=\"M14.5426 476.987 Q21.8632 481.252 29.0246 483.321 Q36.186 485.39 43.5384 485.39 Q50.8908 485.39 58.1159 483.321 Q65.3091 481.22 72.5979 476.987 L72.5979 482.08 Q65.1182 486.854 57.8931 489.241 Q50.668 491.596 43.5384 491.596 Q36.4406 491.596 29.2474 489.241 Q22.0542 486.886 14.5426 482.08 L14.5426 476.987 Z\" fill=\"#000000\" fill-rule=\"nonzero\" fill-opacity=\"1\" /><path clip-path=\"url(#clip860)\" d=\"M58.5933 463.683 L58.5933 453.179 L22.3406 453.179 L24.6323 464.606 L18.7758 464.606 L16.4842 453.243 L16.4842 446.814 L58.5933 446.814 L58.5933 436.31 L64.0042 436.31 L64.0042 463.683 L58.5933 463.683 Z\" fill=\"#000000\" fill-rule=\"nonzero\" fill-opacity=\"1\" /><path clip-path=\"url(#clip860)\" d=\"M16.4842 413.744 L16.4842 408.333 L70.0516 424.884 L70.0516 430.295 L16.4842 413.744 Z\" fill=\"#000000\" fill-rule=\"nonzero\" fill-opacity=\"1\" /><path clip-path=\"url(#clip860)\" d=\"M67.3143 387.358 Q73.68 389.841 75.6216 392.196 Q77.5631 394.551 77.5631 398.498 L77.5631 403.177 L72.6615 403.177 L72.6615 399.739 Q72.6615 397.32 71.5157 395.983 Q70.3699 394.647 66.1048 393.023 L63.4312 391.973 L28.3562 406.391 L28.3562 400.185 L56.238 389.045 L28.3562 377.905 L28.3562 371.698 L67.3143 387.358 Z\" fill=\"#000000\" fill-rule=\"nonzero\" fill-opacity=\"1\" /><path clip-path=\"url(#clip860)\" d=\"M33.8307 342.957 Q33.2578 343.944 33.0032 345.121 Q32.7167 346.267 32.7167 347.668 Q32.7167 352.633 35.9632 355.307 Q39.1779 357.948 45.2253 357.948 L64.0042 357.948 L64.0042 363.837 L28.3562 363.837 L28.3562 357.948 L33.8944 357.948 Q30.6479 356.102 29.0883 353.142 Q27.4968 350.182 27.4968 345.949 Q27.4968 345.344 27.5923 344.612 Q27.656 343.88 27.8151 342.989 L33.8307 342.957 Z\" fill=\"#000000\" fill-rule=\"nonzero\" fill-opacity=\"1\" /><path clip-path=\"url(#clip860)\" d=\"M14.5426 337.737 L14.5426 332.645 Q22.0542 327.87 29.2474 325.515 Q36.4406 323.128 43.5384 323.128 Q50.668 323.128 57.8931 325.515 Q65.1182 327.87 72.5979 332.645 L72.5979 337.737 Q65.3091 333.504 58.1159 331.435 Q50.8908 329.335 43.5384 329.335 Q36.186 329.335 29.0246 331.435 Q21.8632 333.504 14.5426 337.737 Z\" fill=\"#000000\" fill-rule=\"nonzero\" fill-opacity=\"1\" /><polyline clip-path=\"url(#clip862)\" style=\"stroke:#333333; stroke-linecap:round; stroke-linejoin:round; stroke-width:16; stroke-opacity:1; fill:none\" points=\"874.776,1233.07 874.776,1233.07 874.776,1233.07 874.776,1233.07 874.776,1233.07 874.776,1233.08 874.776,1233.08 874.776,1233.08 874.776,1233.08 874.776,1233.08 874.776,1233.08 874.776,1233.08 874.776,1233.08 874.776,1233.08 874.776,1233.08 874.813,1229.11 875.088,1221.51 875.623,1213.9 876.355,1206.3 877.269,1198.7 878.37,1191.1 879.661,1183.49 881.141,1175.89 882.805,1168.29 884.652,1160.69 886.716,1153.08 889.012,1145.48 891.574,1137.88 894.424,1130.27 897.561,1122.67 900.98,1115.07 904.676,1107.47 908.645,1099.86 912.883,1092.26 917.394,1084.66 922.18,1077.06 927.234,1069.45 932.55,1061.85 938.124,1054.25 943.948,1046.64 950.023,1039.04 956.361,1031.44 962.958,1023.84 969.805,1016.23 976.896,1008.63 984.225,1001.03 991.784,993.425 999.568,985.822 1007.57,978.22 1015.78,970.617 1024.19,963.014 1032.81,955.411 1041.61,947.809 1050.6,940.206 1059.77,932.603 1069.12,925 1078.63,917.398 1088.3,909.795 1098.13,902.192 1108.12,894.589 1118.25,886.987 1128.52,879.384 1138.93,871.781 1149.47,864.178 1160.14,856.576 1170.94,848.973 1181.85,841.37 1192.88,833.767 1204.02,826.165 1215.27,818.562 1226.63,810.959 1238.08,803.357 1249.63,795.754 1261.28,788.151 1273.02,780.548 1284.84,772.946 1296.76,765.343 1308.75,757.74 1320.82,750.137 1332.97,742.535 1345.2,734.932 1357.5,727.329 1369.86,719.726 1382.3,712.124 1394.81,704.521 1407.51,696.918 1420.46,689.315 1433.65,681.713 1447.07,674.11 1460.71,666.507 1474.57,658.904 1488.64,651.302 1502.91,643.699 1517.38,636.096 1532.04,628.494 1546.88,620.891 1561.89,613.288 1577.08,605.685 1592.43,598.083 1607.95,590.48 1623.61,582.877 1639.43,575.274 1655.39,567.672 1671.49,560.069 1687.73,552.466 1704.1,544.863 1720.59,537.261 1737.21,529.658 1753.94,522.055 1770.79,514.452 1787.75,506.85 1804.81,499.247 1821.99,491.644 1839.26,484.041 1856.62,476.439 1874.09,468.836 1891.64,461.233 1909.28,453.631 1927.01,446.028 1944.82,438.425 1962.73,430.822 1980.74,423.22 1998.85,415.617 2017.04,408.014 2035.56,400.411 2058.85,392.809 \"/>\n",
       "<circle clip-path=\"url(#clip862)\" cx=\"874.776\" cy=\"1233.07\" r=\"14.4\" fill=\"#ffffff\" fill-rule=\"evenodd\" fill-opacity=\"1\" stroke=\"#b0b0b0\" stroke-opacity=\"1\" stroke-width=\"3.2\"/>\n",
       "<circle clip-path=\"url(#clip862)\" cx=\"874.776\" cy=\"1233.08\" r=\"14.4\" fill=\"#ffffff\" fill-rule=\"evenodd\" fill-opacity=\"1\" stroke=\"#b0b0b0\" stroke-opacity=\"1\" stroke-width=\"3.2\"/>\n",
       "<circle clip-path=\"url(#clip862)\" cx=\"878.37\" cy=\"1191.1\" r=\"14.4\" fill=\"#ffffff\" fill-rule=\"evenodd\" fill-opacity=\"1\" stroke=\"#b0b0b0\" stroke-opacity=\"1\" stroke-width=\"3.2\"/>\n",
       "<circle clip-path=\"url(#clip862)\" cx=\"900.98\" cy=\"1115.07\" r=\"14.4\" fill=\"#ffffff\" fill-rule=\"evenodd\" fill-opacity=\"1\" stroke=\"#b0b0b0\" stroke-opacity=\"1\" stroke-width=\"3.2\"/>\n",
       "<circle clip-path=\"url(#clip862)\" cx=\"950.023\" cy=\"1039.04\" r=\"14.4\" fill=\"#ffffff\" fill-rule=\"evenodd\" fill-opacity=\"1\" stroke=\"#b0b0b0\" stroke-opacity=\"1\" stroke-width=\"3.2\"/>\n",
       "<circle clip-path=\"url(#clip862)\" cx=\"1024.19\" cy=\"963.014\" r=\"14.4\" fill=\"#ffffff\" fill-rule=\"evenodd\" fill-opacity=\"1\" stroke=\"#b0b0b0\" stroke-opacity=\"1\" stroke-width=\"3.2\"/>\n",
       "<circle clip-path=\"url(#clip862)\" cx=\"1118.25\" cy=\"886.987\" r=\"14.4\" fill=\"#ffffff\" fill-rule=\"evenodd\" fill-opacity=\"1\" stroke=\"#b0b0b0\" stroke-opacity=\"1\" stroke-width=\"3.2\"/>\n",
       "<circle clip-path=\"url(#clip862)\" cx=\"1226.63\" cy=\"810.959\" r=\"14.4\" fill=\"#ffffff\" fill-rule=\"evenodd\" fill-opacity=\"1\" stroke=\"#b0b0b0\" stroke-opacity=\"1\" stroke-width=\"3.2\"/>\n",
       "<circle clip-path=\"url(#clip862)\" cx=\"1345.2\" cy=\"734.932\" r=\"14.4\" fill=\"#ffffff\" fill-rule=\"evenodd\" fill-opacity=\"1\" stroke=\"#b0b0b0\" stroke-opacity=\"1\" stroke-width=\"3.2\"/>\n",
       "<circle clip-path=\"url(#clip862)\" cx=\"1474.57\" cy=\"658.904\" r=\"14.4\" fill=\"#ffffff\" fill-rule=\"evenodd\" fill-opacity=\"1\" stroke=\"#b0b0b0\" stroke-opacity=\"1\" stroke-width=\"3.2\"/>\n",
       "<circle clip-path=\"url(#clip862)\" cx=\"1623.61\" cy=\"582.877\" r=\"14.4\" fill=\"#ffffff\" fill-rule=\"evenodd\" fill-opacity=\"1\" stroke=\"#b0b0b0\" stroke-opacity=\"1\" stroke-width=\"3.2\"/>\n",
       "<circle clip-path=\"url(#clip862)\" cx=\"1787.75\" cy=\"506.85\" r=\"14.4\" fill=\"#ffffff\" fill-rule=\"evenodd\" fill-opacity=\"1\" stroke=\"#b0b0b0\" stroke-opacity=\"1\" stroke-width=\"3.2\"/>\n",
       "<circle clip-path=\"url(#clip862)\" cx=\"1962.73\" cy=\"430.822\" r=\"14.4\" fill=\"#ffffff\" fill-rule=\"evenodd\" fill-opacity=\"1\" stroke=\"#b0b0b0\" stroke-opacity=\"1\" stroke-width=\"3.2\"/>\n",
       "<polyline clip-path=\"url(#clip862)\" style=\"stroke:#ff0000; stroke-linecap:round; stroke-linejoin:round; stroke-width:16; stroke-opacity:1; fill:none\" points=\"931.051,1199.31 931.051,1199.31 931.051,1199.31 931.051,1199.31 931.051,1199.31 931.051,1199.31 931.051,1199.31 931.051,1199.31 931.051,1199.31 931.051,1199.31 931.051,1199.31 931.051,1199.31 931.051,1199.31 931.051,1199.31 931.051,1199.31 931.051,1199.31 931.051,1199.31 931.051,1199.31 931.051,1199.31 931.052,1198.68 931.192,1191.1 931.573,1183.49 932.195,1175.89 933.056,1168.29 934.156,1160.69 935.495,1153.08 937.07,1145.48 938.88,1137.88 940.93,1130.27 943.173,1122.67 945.604,1115.07 948.219,1107.47 951.017,1099.86 953.996,1092.26 957.152,1084.66 960.485,1077.06 963.992,1069.45 967.67,1061.85 971.517,1054.25 975.53,1046.64 979.707,1039.04 984.045,1031.44 988.541,1023.84 993.192,1016.23 997.996,1008.63 1002.95,1001.03 1008.05,993.425 1013.3,985.822 1018.68,978.219 1024.21,970.617 1029.87,963.014 1035.66,955.411 1041.59,947.809 1047.64,940.206 1053.81,932.603 1060.11,925 1066.52,917.398 1073.06,909.795 1079.7,902.192 1086.46,894.589 1093.32,886.987 1100.29,879.384 1107.35,871.781 1114.52,864.178 1121.79,856.576 1129.14,848.973 1136.59,841.37 1144.14,833.767 1151.76,826.165 1159.48,818.562 1167.27,810.959 1175.15,803.357 1183.11,795.754 1191.15,788.151 1199.26,780.548 1207.45,772.946 1215.7,765.343 1224.03,757.74 1232.43,750.137 1240.89,742.535 1249.42,734.932 1258.01,727.329 1266.66,719.726 1275.37,712.124 1284.15,704.521 1292.98,696.918 1301.86,689.315 1310.8,681.713 1319.8,674.11 1328.85,666.507 1337.94,658.904 1347.09,651.302 1356.28,643.699 1365.53,636.096 1374.82,628.494 1384.15,620.891 1393.53,613.288 1402.96,605.685 1412.55,598.083 1422.34,590.48 1432.32,582.877 1442.47,575.274 1452.81,567.672 1463.32,560.069 1474,552.466 1484.84,544.863 1495.85,537.261 1507.01,529.658 1518.32,522.055 1529.78,514.452 1541.39,506.85 1553.14,499.247 1565.03,491.644 1577.05,484.041 1589.2,476.439 1601.47,468.836 1613.87,461.233 1626.39,453.631 1639.03,446.028 1651.78,438.425 1664.65,430.822 1677.62,423.22 1690.69,415.617 1703.87,408.014 1717.15,400.411 1730.52,392.809 1743.99,385.206 1757.55,377.603 1771.2,370 1784.94,362.398 1798.76,354.795 1812.67,347.192 1826.65,339.589 1840.72,331.987 1854.86,324.384 1869.07,316.781 1883.36,309.178 1897.72,301.576 1912.15,293.973 1926.64,286.37 1941.2,278.768 1955.83,271.165 1970.51,263.562 1985.26,255.959 2000.08,248.357 2014.99,240.754 2029.99,233.151 2045.08,225.548 2060.25,217.946 2075.52,210.343 2090.87,202.74 2106.75,195.137 2123.39,187.535 2140.76,179.932 2158.86,172.329 \"/>\n",
       "<circle clip-path=\"url(#clip862)\" cx=\"931.051\" cy=\"1199.31\" r=\"14.4\" fill=\"#ffffff\" fill-rule=\"evenodd\" fill-opacity=\"1\" stroke=\"#ff0000\" stroke-opacity=\"1\" stroke-width=\"3.2\"/>\n",
       "<circle clip-path=\"url(#clip862)\" cx=\"931.051\" cy=\"1199.31\" r=\"14.4\" fill=\"#ffffff\" fill-rule=\"evenodd\" fill-opacity=\"1\" stroke=\"#ff0000\" stroke-opacity=\"1\" stroke-width=\"3.2\"/>\n",
       "<circle clip-path=\"url(#clip862)\" cx=\"931.192\" cy=\"1191.1\" r=\"14.4\" fill=\"#ffffff\" fill-rule=\"evenodd\" fill-opacity=\"1\" stroke=\"#ff0000\" stroke-opacity=\"1\" stroke-width=\"3.2\"/>\n",
       "<circle clip-path=\"url(#clip862)\" cx=\"945.604\" cy=\"1115.07\" r=\"14.4\" fill=\"#ffffff\" fill-rule=\"evenodd\" fill-opacity=\"1\" stroke=\"#ff0000\" stroke-opacity=\"1\" stroke-width=\"3.2\"/>\n",
       "<circle clip-path=\"url(#clip862)\" cx=\"979.707\" cy=\"1039.04\" r=\"14.4\" fill=\"#ffffff\" fill-rule=\"evenodd\" fill-opacity=\"1\" stroke=\"#ff0000\" stroke-opacity=\"1\" stroke-width=\"3.2\"/>\n",
       "<circle clip-path=\"url(#clip862)\" cx=\"1029.87\" cy=\"963.014\" r=\"14.4\" fill=\"#ffffff\" fill-rule=\"evenodd\" fill-opacity=\"1\" stroke=\"#ff0000\" stroke-opacity=\"1\" stroke-width=\"3.2\"/>\n",
       "<circle clip-path=\"url(#clip862)\" cx=\"1093.32\" cy=\"886.987\" r=\"14.4\" fill=\"#ffffff\" fill-rule=\"evenodd\" fill-opacity=\"1\" stroke=\"#ff0000\" stroke-opacity=\"1\" stroke-width=\"3.2\"/>\n",
       "<circle clip-path=\"url(#clip862)\" cx=\"1167.27\" cy=\"810.959\" r=\"14.4\" fill=\"#ffffff\" fill-rule=\"evenodd\" fill-opacity=\"1\" stroke=\"#ff0000\" stroke-opacity=\"1\" stroke-width=\"3.2\"/>\n",
       "<circle clip-path=\"url(#clip862)\" cx=\"1249.42\" cy=\"734.932\" r=\"14.4\" fill=\"#ffffff\" fill-rule=\"evenodd\" fill-opacity=\"1\" stroke=\"#ff0000\" stroke-opacity=\"1\" stroke-width=\"3.2\"/>\n",
       "<circle clip-path=\"url(#clip862)\" cx=\"1337.94\" cy=\"658.904\" r=\"14.4\" fill=\"#ffffff\" fill-rule=\"evenodd\" fill-opacity=\"1\" stroke=\"#ff0000\" stroke-opacity=\"1\" stroke-width=\"3.2\"/>\n",
       "<circle clip-path=\"url(#clip862)\" cx=\"1432.32\" cy=\"582.877\" r=\"14.4\" fill=\"#ffffff\" fill-rule=\"evenodd\" fill-opacity=\"1\" stroke=\"#ff0000\" stroke-opacity=\"1\" stroke-width=\"3.2\"/>\n",
       "<circle clip-path=\"url(#clip862)\" cx=\"1541.39\" cy=\"506.85\" r=\"14.4\" fill=\"#ffffff\" fill-rule=\"evenodd\" fill-opacity=\"1\" stroke=\"#ff0000\" stroke-opacity=\"1\" stroke-width=\"3.2\"/>\n",
       "<circle clip-path=\"url(#clip862)\" cx=\"1664.65\" cy=\"430.822\" r=\"14.4\" fill=\"#ffffff\" fill-rule=\"evenodd\" fill-opacity=\"1\" stroke=\"#ff0000\" stroke-opacity=\"1\" stroke-width=\"3.2\"/>\n",
       "<circle clip-path=\"url(#clip862)\" cx=\"1798.76\" cy=\"354.795\" r=\"14.4\" fill=\"#ffffff\" fill-rule=\"evenodd\" fill-opacity=\"1\" stroke=\"#ff0000\" stroke-opacity=\"1\" stroke-width=\"3.2\"/>\n",
       "<circle clip-path=\"url(#clip862)\" cx=\"1941.2\" cy=\"278.768\" r=\"14.4\" fill=\"#ffffff\" fill-rule=\"evenodd\" fill-opacity=\"1\" stroke=\"#ff0000\" stroke-opacity=\"1\" stroke-width=\"3.2\"/>\n",
       "<circle clip-path=\"url(#clip862)\" cx=\"2090.87\" cy=\"202.74\" r=\"14.4\" fill=\"#ffffff\" fill-rule=\"evenodd\" fill-opacity=\"1\" stroke=\"#ff0000\" stroke-opacity=\"1\" stroke-width=\"3.2\"/>\n",
       "<path clip-path=\"url(#clip860)\" d=\"M290.963 248.629 L608.487 248.629 L608.487 93.1086 L290.963 93.1086  Z\" fill=\"#f2f2f2\" fill-rule=\"evenodd\" fill-opacity=\"1\"/>\n",
       "<polyline clip-path=\"url(#clip860)\" style=\"stroke:#000000; stroke-linecap:round; stroke-linejoin:round; stroke-width:4; stroke-opacity:0; fill:none\" points=\"290.963,248.629 608.487,248.629 608.487,93.1086 290.963,93.1086 290.963,248.629 \"/>\n",
       "<polyline clip-path=\"url(#clip860)\" style=\"stroke:#333333; stroke-linecap:round; stroke-linejoin:round; stroke-width:16; stroke-opacity:1; fill:none\" points=\"314.661,144.949 456.854,144.949 \"/>\n",
       "<path clip-path=\"url(#clip860)\" d=\"M485.229 131.511 L485.229 158.386 L490.877 158.386 Q498.03 158.386 501.34 155.145 Q504.673 151.905 504.673 144.914 Q504.673 137.969 501.34 134.752 Q498.03 131.511 490.877 131.511 L485.229 131.511 M480.553 127.669 L490.159 127.669 Q500.205 127.669 504.904 131.858 Q509.604 136.025 509.604 144.914 Q509.604 153.849 504.881 158.039 Q500.159 162.229 490.159 162.229 L480.553 162.229 L480.553 127.669 Z\" fill=\"#000000\" fill-rule=\"nonzero\" fill-opacity=\"1\" /><path clip-path=\"url(#clip860)\" d=\"M528.654 149.196 Q523.492 149.196 521.502 150.377 Q519.511 151.557 519.511 154.405 Q519.511 156.673 520.992 158.016 Q522.497 159.335 525.066 159.335 Q528.608 159.335 530.738 156.835 Q532.89 154.312 532.89 150.145 L532.89 149.196 L528.654 149.196 M537.15 147.437 L537.15 162.229 L532.89 162.229 L532.89 158.293 Q531.432 160.655 529.256 161.789 Q527.08 162.9 523.932 162.9 Q519.951 162.9 517.59 160.678 Q515.252 158.432 515.252 154.682 Q515.252 150.307 518.168 148.085 Q521.108 145.863 526.918 145.863 L532.89 145.863 L532.89 145.446 Q532.89 142.507 530.946 140.909 Q529.025 139.289 525.529 139.289 Q523.307 139.289 521.201 139.821 Q519.094 140.354 517.15 141.419 L517.15 137.483 Q519.488 136.581 521.687 136.141 Q523.886 135.678 525.969 135.678 Q531.594 135.678 534.372 138.594 Q537.15 141.511 537.15 147.437 Z\" fill=\"#000000\" fill-rule=\"nonzero\" fill-opacity=\"1\" /><path clip-path=\"url(#clip860)\" d=\"M550.136 128.942 L550.136 136.303 L558.909 136.303 L558.909 139.613 L550.136 139.613 L550.136 153.687 Q550.136 156.858 550.992 157.761 Q551.872 158.664 554.534 158.664 L558.909 158.664 L558.909 162.229 L554.534 162.229 Q549.603 162.229 547.728 160.4 Q545.853 158.548 545.853 153.687 L545.853 139.613 L542.728 139.613 L542.728 136.303 L545.853 136.303 L545.853 128.942 L550.136 128.942 Z\" fill=\"#000000\" fill-rule=\"nonzero\" fill-opacity=\"1\" /><path clip-path=\"url(#clip860)\" d=\"M576.293 149.196 Q571.131 149.196 569.14 150.377 Q567.15 151.557 567.15 154.405 Q567.15 156.673 568.631 158.016 Q570.136 159.335 572.705 159.335 Q576.247 159.335 578.376 156.835 Q580.529 154.312 580.529 150.145 L580.529 149.196 L576.293 149.196 M584.788 147.437 L584.788 162.229 L580.529 162.229 L580.529 158.293 Q579.071 160.655 576.895 161.789 Q574.719 162.9 571.571 162.9 Q567.589 162.9 565.228 160.678 Q562.89 158.432 562.89 154.682 Q562.89 150.307 565.807 148.085 Q568.747 145.863 574.557 145.863 L580.529 145.863 L580.529 145.446 Q580.529 142.507 578.585 140.909 Q576.663 139.289 573.168 139.289 Q570.946 139.289 568.839 139.821 Q566.733 140.354 564.788 141.419 L564.788 137.483 Q567.126 136.581 569.325 136.141 Q571.525 135.678 573.608 135.678 Q579.233 135.678 582.011 138.594 Q584.788 141.511 584.788 147.437 Z\" fill=\"#000000\" fill-rule=\"nonzero\" fill-opacity=\"1\" /><polyline clip-path=\"url(#clip860)\" style=\"stroke:#ff0000; stroke-linecap:round; stroke-linejoin:round; stroke-width:16; stroke-opacity:1; fill:none\" points=\"314.661,196.789 456.854,196.789 \"/>\n",
       "<path clip-path=\"url(#clip860)\" d=\"M502.798 180.643 L502.798 185.203 Q500.136 183.93 497.775 183.305 Q495.414 182.68 493.215 182.68 Q489.395 182.68 487.312 184.161 Q485.252 185.643 485.252 188.374 Q485.252 190.666 486.618 191.847 Q488.006 193.004 491.849 193.722 L494.673 194.3 Q499.905 195.296 502.381 197.819 Q504.881 200.319 504.881 204.532 Q504.881 209.555 501.502 212.147 Q498.145 214.74 491.641 214.74 Q489.187 214.74 486.409 214.184 Q483.655 213.629 480.692 212.541 L480.692 207.726 Q483.539 209.323 486.27 210.133 Q489.002 210.944 491.641 210.944 Q495.645 210.944 497.821 209.37 Q499.997 207.796 499.997 204.879 Q499.997 202.333 498.423 200.897 Q496.872 199.462 493.307 198.745 L490.46 198.189 Q485.229 197.147 482.891 194.925 Q480.553 192.703 480.553 188.745 Q480.553 184.161 483.77 181.522 Q487.011 178.884 492.682 178.884 Q495.113 178.884 497.636 179.323 Q500.159 179.763 502.798 180.643 Z\" fill=\"#000000\" fill-rule=\"nonzero\" fill-opacity=\"1\" /><path clip-path=\"url(#clip860)\" d=\"M512.173 179.509 L516.849 179.509 L516.849 214.069 L512.173 214.069 L512.173 179.509 Z\" fill=\"#000000\" fill-rule=\"nonzero\" fill-opacity=\"1\" /><path clip-path=\"url(#clip860)\" d=\"M526.154 179.509 L533.122 179.509 L541.941 203.027 L550.807 179.509 L557.775 179.509 L557.775 214.069 L553.214 214.069 L553.214 183.722 L544.302 207.425 L539.603 207.425 L530.691 183.722 L530.691 214.069 L526.154 214.069 L526.154 179.509 Z\" fill=\"#000000\" fill-rule=\"nonzero\" fill-opacity=\"1\" /></svg>\n"
      ],
      "text/html": [
       "<img src=\"data:image/png;base64,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\" />"
      ]
     },
     "metadata": {},
     "output_type": "display_data"
    }
   ],
   "source": [
    "let\n",
    "\n",
    "    # initialize -\n",
    "    max_risk_value = results_array_data[end,1]; # what is the biggest risk we have (x-axis value)\n",
    "    max_reward_value = results_array_data[end,2]; # what is the biggest reward that we have (y-axis value)\n",
    "    number_of_portfolios_data = length(efficient_frontier_data); # how many portfolios did we recover?\n",
    "    skip = 10;\n",
    "\n",
    "    plot(results_array_data[:,1], results_array_data[:,2], lw=4, xlabel=\"Risk sqrt(variance)\", \n",
    "        ylabel=\"Portfolio log growth (1/yr)\", fontsize=18, label=\"Data\", c=:gray20, \n",
    "        xlim=(0.0, 1.1*max_risk_value), ylim = (0.0, 1.1*max_reward_value))\n",
    "    scatter!(results_array_data[1:skip:number_of_portfolios_data,1], results_array_data[1:skip:number_of_portfolios_data,2], \n",
    "        label=\"\", c=:white, ms=4, msc=:gray69)\n",
    "\n",
    "    max_risk_value = results_array_sim[end,1]; # what is the biggest risk we have (x-axis value)\n",
    "    max_reward_value = results_array_sim[end,2]; # what is the biggest reward that we have (y-axis value)\n",
    "    number_of_portfolios_sim = length(efficient_frontier_sim); # how many portfolios did we recover?\n",
    "    plot!(results_array_sim[:,1], results_array_sim[:,2], lw=4, xlabel=\"Risk sqrt(variance)\", \n",
    "        ylabel=\"Portfolio log growth (1/yr)\", fontsize=18, label=\"SIM\", c=:red, \n",
    "        xlim=(0.0, 1.1*max_risk_value), ylim = (0.0, 1.1*max_reward_value))\n",
    "    scatter!(results_array_sim[1:skip:number_of_portfolios_sim,1], results_array_sim[1:skip:number_of_portfolios_sim,2], \n",
    "        label=\"\", c=:white, ms=4, msc=:red)\n",
    "\n",
    "    plot!(bg=\"gray95\", background_color_outside=\"white\", framestyle = :box, fg_legend = :transparent);\n",
    "\n",
    "end"
   ]
  },
  {
   "cell_type": "markdown",
   "id": "bf14742c",
   "metadata": {},
   "source": [
    "> __What do you observe?__ The SIM efficient frontier (red) is rotated and shifted relative to the data-driven frontier (black). This rotation occurs because the SIM imposes a specific correlation structure where all asset correlations are driven by their market betas. The data-driven approach, in contrast, captures all pairwise correlations directly from historical data, including firm-specific relationships not explained by market movements alone."
   ]
  },
  {
   "cell_type": "markdown",
   "id": "8934f03c",
   "metadata": {},
   "source": [
    "### Reflection Questions\n",
    "Before diving into the portfolio details, take a moment to think about what you observe in the efficient frontier plot above:\n",
    "\n",
    "1. __Why do the two efficient frontiers differ?__ The SIM frontier is rotated and shifted relative to the data-driven frontier. What assumptions or simplifications in the single index model might cause this difference?\n",
    "2. __Which approach is \"correct\"?__ Consider that the SIM assumes all covariance between assets comes through their relationship with the market (via $\\beta_i\\beta_j\\sigma_m^2$), while the data-driven approach directly estimates pairwise covariances. What are the tradeoffs between model simplicity and capturing actual asset relationships?\n",
    "3. __What does this mean for portfolio allocation?__ If the efficient frontiers differ, the optimal portfolio weights at any given risk or return level must also differ. How sensitive do you expect the asset allocations to be to these differences?\n",
    "\n",
    "Let's explore these questions by examining the actual portfolio compositions in Task 3.\n",
    "___"
   ]
  },
  {
   "cell_type": "markdown",
   "id": "a967a000-5c52-4592-9b57-c1352785832a",
   "metadata": {},
   "source": [
    "## Task 3: What's in a data-driven versus single index model portfolio?\n",
    "The single index model efficient frontier is rotated and shifted relative to the data-driven portfolio (with the default tickers). Let's explore how this difference is reflected in the choices of the weights of the assets in the portfolio. To begin, specify a desired portfolio growth rate in the `desired_growth_rate` variable:"
   ]
  },
  {
   "cell_type": "code",
   "execution_count": 31,
   "id": "7d78bbf3-437c-4585-905e-63f624e43f75",
   "metadata": {},
   "outputs": [],
   "source": [
    "desired_growth_rate = 0.20; # select a desired *excess* return where both approaches have data"
   ]
  },
  {
   "cell_type": "markdown",
   "id": "08bea4c9-c150-49a2-a289-bb8a24db7c40",
   "metadata": {},
   "source": [
    "Next, let's (re)resolve the minimum variance problem for the data-driven and single-index models, assuming a `desired_growth_rate` value. Update the `problem_risk` and `problem_risk_sim` problem instances with the new `R` field, and then call the [solve(...) method](https://varnerlab.github.io/VLQuantitativeFinancePackage.jl/dev/portfolio/#VLQuantitativeFinancePackage.solve-Tuple{MyMarkowitzRiskyAssetOnlyPortfolioChoiceProblem}) to resolve the optimization problem:"
   ]
  },
  {
   "cell_type": "code",
   "execution_count": null,
   "id": "6b51e88f-330f-46a7-b219-a48866d89112",
   "metadata": {
    "jupyter": {
     "source_hidden": true
    }
   },
   "outputs": [],
   "source": [
    "solution_data, solution_sim = let\n",
    "\n",
    "    # initialize -\n",
    "    problem_data.R = desired_growth_rate;\n",
    "    problem_sim.R = desired_growth_rate;\n",
    "    solution_data = nothing;\n",
    "    solution_sim = nothing;\n",
    "    \n",
    "    try\n",
    "        solution_data = solve(problem_data);\n",
    "        solution_sim = solve(problem_sim);\n",
    "    catch err\n",
    "        # Uncomment below to see error message\n",
    "        println(\"What the what? Something happened: $(err)\");\n",
    "    end\n",
    "\n",
    "    (solution_data, solution_sim); # return\n",
    "end;"
   ]
  },
  {
   "cell_type": "markdown",
   "id": "c770ef2f-435f-4d1a-915b-77902be99da0",
   "metadata": {},
   "source": [
    "`Unhide` the code block below to see how we constructed the portfolio allocation table for the data-driven and single-index model portfolios.\n",
    "\n",
    "> __What do we expect to see?__: The data-driven and single-index model allocations are similar, where each non-zero allocation for the data-driven portfolio is preserved in the case of the single-index model. However, several minor differences between the two portfolios do not appear to be correlated with the $\\beta$ of the ticker. \n",
    "\n",
    "So what do we see?"
   ]
  },
  {
   "cell_type": "code",
   "execution_count": 38,
   "id": "6022fe05-6aa1-490a-bf83-a62d1827d3ca",
   "metadata": {},
   "outputs": [
    {
     "name": "stdout",
     "output_type": "stream",
     "text": [
      " -------- ------------ ---------- --------- --------- ---------\n",
      " \u001b[1m ticker \u001b[0m \u001b[1m          α \u001b[0m \u001b[1m        β \u001b[0m \u001b[1m  w_data \u001b[0m \u001b[1m   w_sim \u001b[0m \u001b[1m       Δ \u001b[0m\n",
      " \u001b[90m String \u001b[0m \u001b[90m    Float64 \u001b[0m \u001b[90m  Float64 \u001b[0m \u001b[90m Float64 \u001b[0m \u001b[90m Float64 \u001b[0m \u001b[90m Float64 \u001b[0m\n",
      " -------- ------------ ---------- --------- --------- ---------\n",
      "    AAPL     0.106055    1.19459    0.1551    0.1768   -0.0217\n",
      "    MSFT    0.0999256    1.15201    0.2525    0.2457    0.0068\n",
      "    INTC    -0.148435    1.18427       0.0       0.0      -0.0\n",
      "      MU    -0.053226    1.69527       0.0       0.0      -0.0\n",
      "     AMD     0.127466    1.73915    0.0218       0.0    0.0218\n",
      "    NVDA      0.34678    1.74926    0.1328    0.0824    0.0503\n",
      "      GS   -0.0325528    1.31001       0.0       0.0       0.0\n",
      "     BAC   -0.0545152    1.35942       0.0       0.0       0.0\n",
      "     WFC   -0.0914062     1.2383       0.0       0.0      -0.0\n",
      "       C    -0.133436    1.50075       0.0       0.0       0.0\n",
      "       F    -0.192761    1.43356       0.0       0.0       0.0\n",
      "      GM    -0.129065     1.4695       0.0       0.0       0.0\n",
      "     JNJ   -0.0162091   0.539556    0.4377     0.495   -0.0573\n",
      " -------- ------------ ---------- --------- --------- ---------\n"
     ]
    }
   ],
   "source": [
    "let\n",
    "    ω_data = solution_data[\"argmax\"];\n",
    "    ω_sim = solution_sim[\"argmax\"];\n",
    "    table_df = DataFrame();\n",
    "    for i ∈ eachindex(my_list_of_tickers)\n",
    "        ticker = my_list_of_tickers[i];\n",
    "        ω_dataᵢ = ω_data[i];\n",
    "        ω_simᵢ = ω_sim[i];\n",
    "        row_data = (\n",
    "            ticker = ticker,\n",
    "            α = sim_model_parameters[ticker].alpha,\n",
    "            β = sim_model_parameters[ticker].beta,\n",
    "            w_data = round(ω_dataᵢ, digits=4) |> abs,\n",
    "            w_sim = round(ω_simᵢ, digits=4) |> abs,\n",
    "            Δ = round(ω_dataᵢ - ω_simᵢ, digits=4)\n",
    "        );\n",
    "        push!(table_df,row_data)\n",
    "    end\n",
    "\n",
    "    \n",
    "    pretty_table(table_df, backend = :text,\n",
    "         table_format = TextTableFormat(borders = text_table_borders__compact)\n",
    "    );\n",
    "end"
   ]
  },
  {
   "cell_type": "markdown",
   "id": "9555607d",
   "metadata": {},
   "source": [
    "___"
   ]
  },
  {
   "cell_type": "markdown",
   "id": "0d9f7600",
   "metadata": {},
   "source": [
    "## Summary\n",
    "In this example, we constructed minimum variance portfolios using both data-driven covariance matrices and single index model parameters, demonstrating the practical application of SIM in portfolio optimization.\n",
    "\n",
    "> __Key Takeaways:__\n",
    ">\n",
    "> * __SIM covariance construction:__ We built portfolio covariance matrices using $\\operatorname{Cov}(g_i, g_j) = \\beta_i\\beta_j\\sigma_m^2$ for $i \\neq j$ and $\\operatorname{Cov}(g_i, g_i) = \\beta_i^2\\sigma_m^2 + \\sigma_{\\epsilon_i}^2$, requiring estimation of only $N$ beta values plus $\\sigma_m^2$ rather than $N(N+1)/2$ unique covariances for the data-driven approach.\n",
    "> * __Efficient frontier comparison:__ We computed efficient frontiers using both methodologies, observing that the SIM-based frontier exhibited rotation and shift relative to the data-driven frontier while maintaining similar overall structure and risk-return relationships.\n",
    "> * __Portfolio allocation patterns:__ We analyzed asset weights at equivalent return levels, finding that SIM-based portfolios preserved major allocation decisions from data-driven portfolios with minor weight adjustments that did not correlate directly with individual asset $\\beta_i$ values.\n",
    "\n",
    "The single index model provides a computationally efficient alternative to data-driven portfolio optimization while maintaining reasonable approximation of optimal portfolio allocations. \n",
    "___"
   ]
  },
  {
   "cell_type": "markdown",
   "id": "f5783b18-2f56-4641-9464-82658cc68a38",
   "metadata": {},
   "source": [
    "## Disclaimer and Risks\n",
    "__This content is offered solely for training and informational purposes__. No offer or solicitation to buy or sell securities or derivative products or any investment or trading advice or strategy is made, given, or endorsed by the teaching team. \n",
    "\n",
    "__Trading involves risk__. Carefully review your financial situation before investing in securities, futures contracts, options, or commodity interests. Past performance, whether actual or indicated by historical tests of strategies, is no guarantee of future performance or success. Trading is generally inappropriate for someone with limited resources, investment or trading experience, or a low-risk tolerance. Only risk capital that is not required for living expenses should be used.\n",
    "\n",
    "__You are fully responsible for any investment or trading decisions you make__. You should decide solely based on your financial circumstances, investment or trading objectives, risk tolerance, and liquidity needs."
   ]
  },
  {
   "cell_type": "markdown",
   "id": "31320f11",
   "metadata": {},
   "source": []
  }
 ],
 "metadata": {
  "kernelspec": {
   "display_name": "Julia 1.11.7",
   "language": "julia",
   "name": "julia-1.11"
  },
  "language_info": {
   "file_extension": ".jl",
   "mimetype": "application/julia",
   "name": "julia",
   "version": "1.11.7"
  }
 },
 "nbformat": 4,
 "nbformat_minor": 5
}
